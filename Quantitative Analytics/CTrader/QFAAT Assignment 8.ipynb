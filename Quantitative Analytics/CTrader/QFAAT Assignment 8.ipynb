{
 "cells": [
  {
   "cell_type": "code",
   "execution_count": 5,
   "id": "3297a2c0",
   "metadata": {},
   "outputs": [],
   "source": [
    "from twisted.internet import reactor\n",
    "import json\n",
    "from ctrader_fix import *\n",
    "import datetime"
   ]
  },
  {
   "cell_type": "code",
   "execution_count": 6,
   "id": "b4ab85de",
   "metadata": {},
   "outputs": [],
   "source": [
    "# you can use two separate config files for QUOTE and TRADE\n",
    "with open(\"config.json\") as configFile:\n",
    "    config = json.load(configFile)"
   ]
  },
  {
   "cell_type": "code",
   "execution_count": 7,
   "id": "4b499ef2",
   "metadata": {},
   "outputs": [],
   "source": [
    "client = Client(config[\"Host\"], config[\"Port\"], ssl = config[\"SSL\"])"
   ]
  },
  {
   "cell_type": "code",
   "execution_count": 8,
   "id": "aa4eaf8c",
   "metadata": {},
   "outputs": [],
   "source": [
    "def send(request):\n",
    "    diferred = client.send(request)\n",
    "    diferred.addCallback(lambda _: print(\"\\nSent: \", request.getMessage(client.getMessageSequenceNumber()).replace(\"\", \"|\")))"
   ]
  },
  {
   "cell_type": "code",
   "execution_count": 9,
   "id": "befe6b9e",
   "metadata": {},
   "outputs": [],
   "source": [
    "def onMessageReceived(client, responseMessage): # Callback for receiving all messages\n",
    "    print(\"\\nReceived: \", responseMessage.getMessage().replace(\"\", \"|\"))\n",
    "    # We get the message type field value\n",
    "    messageType = responseMessage.getFieldValue(35)\n",
    "    # we send a security list request after we received logon message response\n",
    "    if messageType == \"A\":\n",
    "        securityListRequest = SecurityListRequest(config)\n",
    "        securityListRequest.SecurityReqID = \"A\"\n",
    "        securityListRequest.SecurityListRequestType = 0\n",
    "        send(securityListRequest)\n",
    "    # After receiving the security list we send a market order request by using the security list first symbol\n",
    "    elif messageType == \"y\":\n",
    "        # We use getFieldValue to get all symbol IDs, it will return a list in this case\n",
    "        # because the symbol ID field is repetitive\n",
    "        symboldIds = responseMessage.getFieldValue(55)\n",
    "        if config[\"TargetSubID\"] == \"TRADE\":\n",
    "            newOrderSingle = NewOrderSingle(config)\n",
    "            newOrderSingle.ClOrdID = \"B\"\n",
    "            newOrderSingle.Symbol = symboldIds[1]\n",
    "            newOrderSingle.Side = 1\n",
    "            newOrderSingle.OrderQty = 1000\n",
    "            newOrderSingle.OrdType = 1\n",
    "            newOrderSingle.Designation = \"From Jupyter\"\n",
    "            send(newOrderSingle)\n",
    "        else:\n",
    "            marketDataRequest = MarketDataRequest(config)\n",
    "            marketDataRequest.MDReqID = \"a\"\n",
    "            marketDataRequest.SubscriptionRequestType = 1\n",
    "            marketDataRequest.MarketDepth = 1\n",
    "            marketDataRequest.NoMDEntryTypes = 1\n",
    "            marketDataRequest.MDEntryType = 0\n",
    "            marketDataRequest.NoRelatedSym = 1\n",
    "            marketDataRequest.Symbol = symboldIds[1]\n",
    "            send(marketDataRequest)\n",
    "    # after receiving the new order request response we stop the reactor\n",
    "    # And we will be disconnected from API\n",
    "    elif messageType == \"8\" or messageType == \"j\":\n",
    "        print(\"We are done, stopping the reactor\")\n",
    "        reactor.stop()\n",
    "\n",
    "def disconnected(client, reason): # Callback for client disconnection\n",
    "    print(\"\\nDisconnected, reason: \", reason)\n",
    "\n",
    "def connected(client): # Callback for client connection\n",
    "    print(\"Connected\")\n",
    "    logonRequest = LogonRequest(config)\n",
    "    send(logonRequest)\n",
    "\n",
    "# Setting client callbacks\n",
    "client.setConnectedCallback(connected)\n",
    "client.setDisconnectedCallback(disconnected)\n",
    "client.setMessageReceivedCallback(onMessageReceived)"
   ]
  },
  {
   "cell_type": "code",
   "execution_count": 10,
   "id": "1e1776ec",
   "metadata": {},
   "outputs": [
    {
     "ename": "TypeError",
     "evalue": "code() argument 13 must be str, not int",
     "output_type": "error",
     "traceback": [
      "\u001b[1;31m---------------------------------------------------------------------------\u001b[0m",
      "\u001b[1;31mTypeError\u001b[0m                                 Traceback (most recent call last)",
      "Cell \u001b[1;32mIn[10], line 2\u001b[0m\n\u001b[0;32m      1\u001b[0m \u001b[38;5;66;03m# Starting the client service\u001b[39;00m\n\u001b[1;32m----> 2\u001b[0m client\u001b[38;5;241m.\u001b[39mstartService()\n\u001b[0;32m      3\u001b[0m \u001b[38;5;66;03m# Run Twisted reactor, we imported it earlier\u001b[39;00m\n\u001b[0;32m      4\u001b[0m reactor\u001b[38;5;241m.\u001b[39mrun()\n",
      "File \u001b[1;32m~\\anaconda3\\Lib\\site-packages\\ctrader_fix\\client.py:25\u001b[0m, in \u001b[0;36mClient.startService\u001b[1;34m(self)\u001b[0m\n\u001b[0;32m     23\u001b[0m \u001b[38;5;28;01mif\u001b[39;00m \u001b[38;5;28mself\u001b[39m\u001b[38;5;241m.\u001b[39mrunning:\n\u001b[0;32m     24\u001b[0m     \u001b[38;5;28;01mreturn\u001b[39;00m\n\u001b[1;32m---> 25\u001b[0m ClientService\u001b[38;5;241m.\u001b[39mstartService(\u001b[38;5;28mself\u001b[39m)\n",
      "File \u001b[1;32m~\\anaconda3\\Lib\\site-packages\\twisted\\application\\internet.py:1179\u001b[0m, in \u001b[0;36mClientService.startService\u001b[1;34m(self)\u001b[0m\n\u001b[0;32m   1177\u001b[0m     \u001b[38;5;28;01mreturn\u001b[39;00m\n\u001b[0;32m   1178\u001b[0m \u001b[38;5;28msuper\u001b[39m()\u001b[38;5;241m.\u001b[39mstartService()\n\u001b[1;32m-> 1179\u001b[0m \u001b[38;5;28mself\u001b[39m\u001b[38;5;241m.\u001b[39m_machine\u001b[38;5;241m.\u001b[39mstart()\n",
      "File \u001b[1;32m~\\anaconda3\\Lib\\site-packages\\automat\\_methodical.py:232\u001b[0m, in \u001b[0;36mMethodicalInput.__get__\u001b[1;34m(self, oself, type)\u001b[0m\n\u001b[0;32m    225\u001b[0m \u001b[38;5;250m\u001b[39m\u001b[38;5;124;03m\"\"\"\u001b[39;00m\n\u001b[0;32m    226\u001b[0m \u001b[38;5;124;03mReturn a function that takes no arguments and returns values returned\u001b[39;00m\n\u001b[0;32m    227\u001b[0m \u001b[38;5;124;03mby output functions produced by the given L{MethodicalInput} in\u001b[39;00m\n\u001b[0;32m    228\u001b[0m \u001b[38;5;124;03mC{oself}'s current state.\u001b[39;00m\n\u001b[0;32m    229\u001b[0m \u001b[38;5;124;03m\"\"\"\u001b[39;00m\n\u001b[0;32m    230\u001b[0m transitioner \u001b[38;5;241m=\u001b[39m _transitionerFromInstance(oself, \u001b[38;5;28mself\u001b[39m\u001b[38;5;241m.\u001b[39msymbol,\n\u001b[0;32m    231\u001b[0m                                          \u001b[38;5;28mself\u001b[39m\u001b[38;5;241m.\u001b[39mautomaton)\n\u001b[1;32m--> 232\u001b[0m \u001b[38;5;129m@preserveName\u001b[39m(\u001b[38;5;28mself\u001b[39m\u001b[38;5;241m.\u001b[39mmethod)\n\u001b[0;32m    233\u001b[0m \u001b[38;5;129m@wraps\u001b[39m(\u001b[38;5;28mself\u001b[39m\u001b[38;5;241m.\u001b[39mmethod)\n\u001b[0;32m    234\u001b[0m \u001b[38;5;28;01mdef\u001b[39;00m \u001b[38;5;21mdoInput\u001b[39m(\u001b[38;5;241m*\u001b[39margs, \u001b[38;5;241m*\u001b[39m\u001b[38;5;241m*\u001b[39mkwargs):\n\u001b[0;32m    235\u001b[0m     \u001b[38;5;28mself\u001b[39m\u001b[38;5;241m.\u001b[39mmethod(oself, \u001b[38;5;241m*\u001b[39margs, \u001b[38;5;241m*\u001b[39m\u001b[38;5;241m*\u001b[39mkwargs)\n\u001b[0;32m    236\u001b[0m     previousState \u001b[38;5;241m=\u001b[39m transitioner\u001b[38;5;241m.\u001b[39m_state\n",
      "File \u001b[1;32m~\\anaconda3\\Lib\\site-packages\\automat\\_introspection.py:43\u001b[0m, in \u001b[0;36mpreserveName.<locals>.decorator\u001b[1;34m(decorated)\u001b[0m\n\u001b[0;32m     42\u001b[0m \u001b[38;5;28;01mdef\u001b[39;00m \u001b[38;5;21mdecorator\u001b[39m(decorated):\n\u001b[1;32m---> 43\u001b[0m     \u001b[38;5;28;01mreturn\u001b[39;00m copyfunction(decorated,\n\u001b[0;32m     44\u001b[0m                         \u001b[38;5;28mdict\u001b[39m(name\u001b[38;5;241m=\u001b[39mf\u001b[38;5;241m.\u001b[39m\u001b[38;5;18m__name__\u001b[39m), \u001b[38;5;28mdict\u001b[39m(name\u001b[38;5;241m=\u001b[39mf\u001b[38;5;241m.\u001b[39m\u001b[38;5;18m__name__\u001b[39m))\n",
      "File \u001b[1;32m~\\anaconda3\\Lib\\site-packages\\automat\\_introspection.py:35\u001b[0m, in \u001b[0;36mcopyfunction\u001b[1;34m(template, funcchanges, codechanges)\u001b[0m\n\u001b[0;32m     28\u001b[0m names \u001b[38;5;241m=\u001b[39m [\n\u001b[0;32m     29\u001b[0m     \u001b[38;5;124m\"\u001b[39m\u001b[38;5;124mglobals\u001b[39m\u001b[38;5;124m\"\u001b[39m, \u001b[38;5;124m\"\u001b[39m\u001b[38;5;124mname\u001b[39m\u001b[38;5;124m\"\u001b[39m, \u001b[38;5;124m\"\u001b[39m\u001b[38;5;124mdefaults\u001b[39m\u001b[38;5;124m\"\u001b[39m, \u001b[38;5;124m\"\u001b[39m\u001b[38;5;124mclosure\u001b[39m\u001b[38;5;124m\"\u001b[39m,\n\u001b[0;32m     30\u001b[0m ]\n\u001b[0;32m     31\u001b[0m values \u001b[38;5;241m=\u001b[39m [\n\u001b[0;32m     32\u001b[0m     funcchanges\u001b[38;5;241m.\u001b[39mget(name, \u001b[38;5;28mgetattr\u001b[39m(template, \u001b[38;5;124m\"\u001b[39m\u001b[38;5;124m__\u001b[39m\u001b[38;5;124m\"\u001b[39m \u001b[38;5;241m+\u001b[39m name \u001b[38;5;241m+\u001b[39m \u001b[38;5;124m\"\u001b[39m\u001b[38;5;124m__\u001b[39m\u001b[38;5;124m\"\u001b[39m))\n\u001b[0;32m     33\u001b[0m     \u001b[38;5;28;01mfor\u001b[39;00m name \u001b[38;5;129;01min\u001b[39;00m names\n\u001b[0;32m     34\u001b[0m ]\n\u001b[1;32m---> 35\u001b[0m \u001b[38;5;28;01mreturn\u001b[39;00m function(copycode(template\u001b[38;5;241m.\u001b[39m\u001b[38;5;18m__code__\u001b[39m, codechanges), \u001b[38;5;241m*\u001b[39mvalues)\n",
      "File \u001b[1;32m~\\anaconda3\\Lib\\site-packages\\automat\\_introspection.py:23\u001b[0m, in \u001b[0;36mcopycode\u001b[1;34m(template, changes)\u001b[0m\n\u001b[0;32m     18\u001b[0m     names\u001b[38;5;241m.\u001b[39minsert(\u001b[38;5;241m1\u001b[39m, \u001b[38;5;124m\"\u001b[39m\u001b[38;5;124mposonlyargcount\u001b[39m\u001b[38;5;124m\"\u001b[39m)\n\u001b[0;32m     19\u001b[0m values \u001b[38;5;241m=\u001b[39m [\n\u001b[0;32m     20\u001b[0m     changes\u001b[38;5;241m.\u001b[39mget(name, \u001b[38;5;28mgetattr\u001b[39m(template, \u001b[38;5;124m\"\u001b[39m\u001b[38;5;124mco_\u001b[39m\u001b[38;5;124m\"\u001b[39m \u001b[38;5;241m+\u001b[39m name))\n\u001b[0;32m     21\u001b[0m     \u001b[38;5;28;01mfor\u001b[39;00m name \u001b[38;5;129;01min\u001b[39;00m names\n\u001b[0;32m     22\u001b[0m ]\n\u001b[1;32m---> 23\u001b[0m \u001b[38;5;28;01mreturn\u001b[39;00m code(\u001b[38;5;241m*\u001b[39mvalues)\n",
      "\u001b[1;31mTypeError\u001b[0m: code() argument 13 must be str, not int"
     ]
    }
   ],
   "source": [
    "# Starting the client service\n",
    "client.startService()\n",
    "# Run Twisted reactor, we imported it earlier\n",
    "reactor.run()"
   ]
  },
  {
   "cell_type": "code",
   "execution_count": null,
   "id": "f897ce7e",
   "metadata": {},
   "outputs": [],
   "source": []
  }
 ],
 "metadata": {
  "kernelspec": {
   "display_name": "Python 3 (ipykernel)",
   "language": "python",
   "name": "python3"
  },
  "language_info": {
   "codemirror_mode": {
    "name": "ipython",
    "version": 3
   },
   "file_extension": ".py",
   "mimetype": "text/x-python",
   "name": "python",
   "nbconvert_exporter": "python",
   "pygments_lexer": "ipython3",
   "version": "3.11.4"
  }
 },
 "nbformat": 4,
 "nbformat_minor": 5
}
