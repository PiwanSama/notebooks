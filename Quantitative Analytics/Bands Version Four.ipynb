{
 "cells": [
  {
   "cell_type": "markdown",
   "id": "3a8fd23d",
   "metadata": {},
   "source": [
    "# Bollinger Bands Strategy and Backtesting"
   ]
  },
  {
   "cell_type": "markdown",
   "id": "de4635ca",
   "metadata": {},
   "source": [
    "Prepared by Samalie Piwan   \n",
    "Email : spiwan@andrew.cmu.edu"
   ]
  },
  {
   "cell_type": "markdown",
   "id": "237aa542",
   "metadata": {},
   "source": [
    "## 1. Strategy Implementation"
   ]
  },
  {
   "cell_type": "markdown",
   "id": "bcf39045",
   "metadata": {},
   "source": [
    "Load the libraries to be used in the project"
   ]
  },
  {
   "cell_type": "code",
   "execution_count": 557,
   "id": "d9f60983",
   "metadata": {},
   "outputs": [],
   "source": [
    "import pandas as pd\n",
    "import numpy as np\n",
    "import matplotlib.pyplot as plt\n",
    "import pandas_ta as ta\n",
    "import seaborn as sns\n",
    "import yfinance as yf\n",
    "import requests\n",
    "import os\n",
    "import csv\n",
    "import backtesting\n",
    "from backtesting import Backtest, Strategy\n",
    "from tabulate import tabulate\n",
    "from backtesting.lib import crossover, TrailingStrategy\n",
    "backtesting.set_bokeh_output(notebook=False)"
   ]
  },
  {
   "cell_type": "markdown",
   "id": "1636f2b8",
   "metadata": {},
   "source": [
    "## 1. Backtesting"
   ]
  },
  {
   "cell_type": "markdown",
   "id": "68597d2c",
   "metadata": {},
   "source": [
    "### 1.1 Loading API data"
   ]
  },
  {
   "cell_type": "markdown",
   "id": "7581cf2b",
   "metadata": {},
   "source": [
    "First, we set the initial parameters for loading the data. We also load the hourly data from the **Yahoo Finance** API.<br>\n",
    "Because we cannot load data past 730 days from the API, we will load data from 20th October 2021 to 20th October 2023"
   ]
  },
  {
   "cell_type": "code",
   "execution_count": 690,
   "id": "a95df640",
   "metadata": {},
   "outputs": [],
   "source": [
    "forex_pair = \"EURUSD=X\"\n",
    "interval = \"1h\"\n",
    "start_date = '2021-10-21'\n",
    "end_date = '2023-10-20'"
   ]
  },
  {
   "cell_type": "code",
   "execution_count": 691,
   "id": "4ff03588",
   "metadata": {},
   "outputs": [
    {
     "name": "stdout",
     "output_type": "stream",
     "text": [
      "[*********************100%%**********************]  1 of 1 completed\n"
     ]
    }
   ],
   "source": [
    "price_data = yf.download(forex_pair, interval = interval, start = start_date)"
   ]
  },
  {
   "cell_type": "markdown",
   "id": "45741a01",
   "metadata": {},
   "source": [
    "Next, we split the data into two datasets **insample_data** and **outsample_data**.\n",
    "  - insample_data will contain data from October 2021 to October 2022.\n",
    "  - outsample_data will contain data from October 2022 to October 2023"
   ]
  },
  {
   "cell_type": "code",
   "execution_count": 692,
   "id": "7788ca0d",
   "metadata": {},
   "outputs": [],
   "source": [
    "insample_data = pd.DataFrame(price_data.loc['2021-10-21' : '2022-10-21'].copy())\n",
    "outsample_data = pd.DataFrame(price_data.loc['2022-10-22':'2023-10-20'].copy())"
   ]
  },
  {
   "cell_type": "markdown",
   "id": "0be7eb2c",
   "metadata": {},
   "source": [
    "### 1.2 Backtesting Strategy Setup"
   ]
  },
  {
   "cell_type": "markdown",
   "id": "45ed8d5b",
   "metadata": {},
   "source": [
    "For this strategy, we will focus on optimizing the hyperparameters below:\n",
    "    \n",
    "- Simple Moving Average (SMA) Window\n",
    "- Standard Deviation"
   ]
  },
  {
   "cell_type": "markdown",
   "id": "839688ca",
   "metadata": {},
   "source": [
    "Define the Indicator(Bollinger Bands) and Buy / Sell Strategy that the backtesting.py library will optimize"
   ]
  },
  {
   "cell_type": "code",
   "execution_count": 693,
   "id": "8b52f9b9",
   "metadata": {},
   "outputs": [],
   "source": [
    "def indicator(data, window, std_dev):\n",
    "    bbands = ta.bbands(close = data.Close.s, length = window, std = std_dev)\n",
    "    return bbands.to_numpy().T[:3]\n",
    "\n",
    "class BollingerBandsStrategy(Strategy):\n",
    "        \n",
    "    sma_window = 60\n",
    "    std = 2\n",
    "    \n",
    "    def init(self):\n",
    "        self.bbands = self.I(indicator, self.data, self.sma_window, self.std)\n",
    "        \n",
    "    def next(self):\n",
    "        super().next()\n",
    "        lower_band = self.bbands[0]\n",
    "        upper_band = self.bbands[2]\n",
    "        \n",
    "        if self.position:\n",
    "            if crossover(self.data.Close, upper_band):\n",
    "                self.position.close()\n",
    "        else:\n",
    "            if crossover(lower_band, self.data.Close):\n",
    "                self.buy()"
   ]
  },
  {
   "cell_type": "markdown",
   "id": "834a8eac",
   "metadata": {},
   "source": [
    "Create and an instance of our Backtest class using:\n",
    "- The **'insample_dataset'** from section 2\n",
    "- Cash of $10,000\n",
    "- Commission at 1%\n",
    "- SMA window of 20\n",
    "- Standard Deviation of 2"
   ]
  },
  {
   "cell_type": "code",
   "execution_count": 699,
   "id": "b5fcd6a4",
   "metadata": {},
   "outputs": [],
   "source": [
    "bt = Backtest(insample_dataset, BollingerBandsStrategy, cash=10_000, commission=0.01)\n",
    "stats = bt.run()"
   ]
  },
  {
   "cell_type": "markdown",
   "id": "574c9464",
   "metadata": {},
   "source": [
    "Create a table with the Sharpe Ratio, Proft and Loss (PnL) and Return percentage from the backtest"
   ]
  },
  {
   "cell_type": "code",
   "execution_count": 700,
   "id": "7c2e54ed",
   "metadata": {},
   "outputs": [],
   "source": [
    "pnl_backtest = np.cumsum(stats['_trades'])\n",
    "pnl_backtest_val = pnl_backtest['PnL'].iloc[-1]"
   ]
  },
  {
   "cell_type": "code",
   "execution_count": 701,
   "id": "ad4a1370",
   "metadata": {},
   "outputs": [
    {
     "name": "stdout",
     "output_type": "stream",
     "text": [
      "Backesting reults with investment of 10000 and commission of 1%\n",
      "\n",
      "Result            Value\n",
      "----------------  -----------------\n",
      "Peak Equity       10000.0\n",
      "Final Equity      6616.051642149087\n",
      "Sharpe Ratio      0.0\n",
      "PnL               $-3383.948\n",
      "Return %          -33.839%\n",
      "Win Rate [%]      9.677%\n",
      "Number of trades  31\n"
     ]
    }
   ],
   "source": [
    "backtest_results_table = [[\"Peak Equity\", stats['Equity Peak [$]']],\n",
    "                          [\"Final Equity\",stats['Equity Final [$]']],\n",
    "                          [\"Sharpe Ratio\", round(stats['Sharpe Ratio'], 5)], \n",
    "                          [\"PnL\", f\"${round(pnl_backtest_val,3)}\"],\n",
    "                          [\"Return %\", f\"{round(stats['Return [%]'], 3)}%\"],\n",
    "                          [\"Win Rate [%]\", f\"{round(stats['Win Rate [%]'], 3)}%\"],\n",
    "                          [\"Number of trades\", len(stats['_trades'])]]\n",
    "print(f\"Backesting reults with investment of {10000} and commission of 1%\\n\")\n",
    "print(tabulate(backtest_results_table, headers=[\"Result\", \"Value\"]))                         "
   ]
  },
  {
   "cell_type": "markdown",
   "id": "5e62a0e3",
   "metadata": {},
   "source": [
    "Plot the Close-to-Close equity lines"
   ]
  },
  {
   "cell_type": "code",
   "execution_count": 702,
   "id": "be5ab57b",
   "metadata": {},
   "outputs": [],
   "source": [
    "backtest_pnl = pd.DataFrame(stats['_trades'][\"PnL\"].copy())\n",
    "backtest_pnl[\"PnL CumSum\"] = backtest_pnl[\"PnL\"].cumsum()"
   ]
  },
  {
   "cell_type": "code",
   "execution_count": 703,
   "id": "c007e9b7",
   "metadata": {},
   "outputs": [
    {
     "data": {
      "image/png": "[encoded data removed]",
      "text/plain": [
       "<Figure size 640x480 with 1 Axes>"
      ]
     },
     "metadata": {},
     "output_type": "display_data"
    }
   ],
   "source": [
    "#Plot the figures with the trading signals\n",
    "plt.title(forex_pair+\" Equity Lines | SMA \"+str(sma_window))\n",
    "plt.plot(backtest_pnl.index, backtest_pnl[\"PnL CumSum\"], label = \"Cummulative PnL\")\n",
    "plt.xlabel(\"Number of Trades\")\n",
    "plt.ylabel(\"Cummulative PnL\")\n",
    "plt.legend(loc='upper right')\n",
    "plt.show()"
   ]
  },
  {
   "cell_type": "markdown",
   "id": "08dc334a",
   "metadata": {},
   "source": [
    "### 2.2 Optmizing strategy to select best-performing hyperparameters"
   ]
  },
  {
   "cell_type": "markdown",
   "id": "e4866a62",
   "metadata": {},
   "source": [
    "Run the backesting.py **optimize()** function using the Simple Moving Average Window and Standard Deviation as the parameters to optmize"
   ]
  },
  {
   "cell_type": "code",
   "execution_count": 729,
   "id": "b806ee98",
   "metadata": {
    "scrolled": false
   },
   "outputs": [
    {
     "name": "stderr",
     "output_type": "stream",
     "text": [
      "C:\\Users\\Sama\\anaconda3\\Lib\\site-packages\\backtesting\\backtesting.py:1488: UserWarning: Searching for best of 561 configurations.\n",
      "  output = _optimize_grid()\n"
     ]
    },
    {
     "data": {
      "application/vnd.jupyter.widget-view+json": {
       "model_id": "",
       "version_major": 2,
       "version_minor": 0
      },
      "text/plain": [
       "  0%|          | 0/13 [00:00<?, ?it/s]"
      ]
     },
     "metadata": {},
     "output_type": "display_data"
    }
   ],
   "source": [
    "optimized_stats, heatmap = bt.optimize(\n",
    "    sma_window = range(20, 71, 1),\n",
    "    std = list(np.round(np.linspace(1, 3, 11), 1)),\n",
    "    maximize = 'Equity Final [$]',\n",
    "    return_heatmap = True\n",
    ")\n",
    "\n",
    "hm = heatmap.groupby([\"sma_window\", \"std\"]).mean().unstack()"
   ]
  },
  {
   "cell_type": "markdown",
   "id": "79e82a58",
   "metadata": {},
   "source": [
    "Create a second table with the Sharpe Ratio, Proft and Loss (PnL) and Return percentage from the optimized backtest"
   ]
  },
  {
   "cell_type": "code",
   "execution_count": 730,
   "id": "9e8ade70",
   "metadata": {},
   "outputs": [],
   "source": [
    "pnl_optimized = np.cumsum(optimized_stats['_trades'])\n",
    "pnl_optimized_val = pnl_optimized['PnL'].iloc[-1]"
   ]
  },
  {
   "cell_type": "code",
   "execution_count": 731,
   "id": "fbad302c",
   "metadata": {},
   "outputs": [
    {
     "name": "stdout",
     "output_type": "stream",
     "text": [
      "Backesting reults with SMA Window and Standard Deviation optimized\n",
      "\n",
      "Result            Value\n",
      "----------------  -----------------\n",
      "Peak Equity       10000.0\n",
      "Final Equity      8697.760105600953\n",
      "Sharpe Ratio      0.0\n",
      "PnL               $-1302.24\n",
      "Return %          -13.022%\n",
      "Win Rate [%]      9.091%\n",
      "Number of trades  11\n"
     ]
    }
   ],
   "source": [
    "optimized_backtest_results_table = [[\"Peak Equity\", optimized_stats['Equity Peak [$]']],\n",
    "                                    [\"Final Equity\",optimized_stats['Equity Final [$]']],[\"Sharpe Ratio\", round(optimized_stats['Sharpe Ratio'], 5)], \n",
    "                          [\"PnL\", f\"${round(pnl_optimized_val,3)}\"],\n",
    "                          [\"Return %\", f\"{round(optimized_stats['Return [%]'], 3)}%\"],\n",
    "                          [\"Win Rate [%]\", f\"{round(optimized_stats['Win Rate [%]'], 3)}%\"],\n",
    "                          [\"Number of trades\", len(optimized_stats['_trades'])]]\n",
    "print(f\"Backesting reults with SMA Window and Standard Deviation optimized\\n\")\n",
    "print(tabulate(optimized_backtest_results_table, headers=[\"Result\", \"Value\"]))                         "
   ]
  },
  {
   "cell_type": "markdown",
   "id": "37bcb785",
   "metadata": {},
   "source": [
    "Plot the close-to-close equity lines"
   ]
  },
  {
   "cell_type": "code",
   "execution_count": 732,
   "id": "61065209",
   "metadata": {},
   "outputs": [],
   "source": [
    "validate_pnl = pd.DataFrame(optimized_stats['_trades'][\"PnL\"].copy())\n",
    "validate_pnl[\"PnL CumSum\"] = validate_pnl[\"PnL\"].cumsum()"
   ]
  },
  {
   "cell_type": "code",
   "execution_count": 733,
   "id": "f23f1fa1",
   "metadata": {},
   "outputs": [
    {
     "data": {
      "image/png": "[encoded data removed]",
      "text/plain": [
       "<Figure size 640x480 with 1 Axes>"
      ]
     },
     "metadata": {},
     "output_type": "display_data"
    }
   ],
   "source": [
    "#Plot the figures with the trading signals\n",
    "plt.title(forex_pair+\" Equity Lines | SMA \"+str(sma_window))\n",
    "plt.plot(validate_pnl.index, validate_pnl[\"PnL CumSum\"], label = \"Cummulative PnL\")\n",
    "plt.xlabel(\"Number of Trades\")\n",
    "plt.ylabel(\"Cummulative PnL\")\n",
    "plt.legend(loc='upper right')\n",
    "plt.show()"
   ]
  },
  {
   "cell_type": "markdown",
   "id": "db9962dc",
   "metadata": {},
   "source": [
    "Plot a heatmap of the best-performing hyperparameters"
   ]
  },
  {
   "cell_type": "code",
   "execution_count": 734,
   "id": "af97046f",
   "metadata": {},
   "outputs": [
    {
     "data": {
      "image/png": "[encoded data removed]",
      "text/plain": [
       "<Figure size 640x480 with 2 Axes>"
      ]
     },
     "metadata": {},
     "output_type": "display_data"
    }
   ],
   "source": [
    "pricing_hm = sns.heatmap(hm[::-1], cmap='viridis')\n",
    "pricing_hm.set(xlabel='Standard Deviation', ylabel='SMA Window')\n",
    "plt.show()"
   ]
  },
  {
   "cell_type": "markdown",
   "id": "b846a166",
   "metadata": {},
   "source": [
    "### 2.3 Cross validation"
   ]
  },
  {
   "cell_type": "markdown",
   "id": "b4858f44",
   "metadata": {},
   "source": [
    "Get the optimal parameters"
   ]
  },
  {
   "cell_type": "code",
   "execution_count": 735,
   "id": "89a4ac46",
   "metadata": {},
   "outputs": [
    {
     "name": "stdout",
     "output_type": "stream",
     "text": [
      "Optimal standard deviation is 3.0\n",
      "Optimal SMA Window is 61\n"
     ]
    }
   ],
   "source": [
    "optmized_std = optimized_stats['_strategy'].std\n",
    "optimized_window = optimized_stats['_strategy'].sma_window\n",
    "\n",
    "print(f\"Optimal standard deviation is {optmized_std}\")\n",
    "print(f\"Optimal SMA Window is {optimized_window}\")"
   ]
  },
  {
   "cell_type": "markdown",
   "id": "26596878",
   "metadata": {},
   "source": [
    "Run an instance of our Backtest class using  from section 2 using:\n",
    "- The **'rerun_dataset'** from section 2\n",
    "- Cash of $10,000\n",
    "- Commission at 1%"
   ]
  },
  {
   "cell_type": "code",
   "execution_count": 736,
   "id": "51619f13",
   "metadata": {},
   "outputs": [],
   "source": [
    "class OptBollingerBandsStrategy(Strategy):\n",
    "    \n",
    "    sma_window = optimized_window\n",
    "    std = optmized_std\n",
    "    \n",
    "    def init(self):\n",
    "        self.bbands = self.I(indicator, self.data, self.sma_window, self.std)\n",
    "        \n",
    "    def next(self):\n",
    "        lower_band = self.bbands[0]\n",
    "        upper_band = self.bbands[2]\n",
    "\n",
    "        if self.position:\n",
    "            if crossover(self.data.Close, upper_band):\n",
    "                self.position.close()\n",
    "        else:\n",
    "            if crossover(lower_band, self.data.Close):\n",
    "                self.buy()"
   ]
  },
  {
   "cell_type": "code",
   "execution_count": 737,
   "id": "5cc0749c",
   "metadata": {},
   "outputs": [],
   "source": [
    "bt_optimal = Backtest(outsample_data, OptBollingerBandsStrategy, cash=10_000, commission=0.01)\n",
    "stats_optimal = bt_optimal.run()"
   ]
  },
  {
   "cell_type": "markdown",
   "id": "1a04d116",
   "metadata": {},
   "source": [
    "Create a table with the Sharpe Ratio, Proft and Loss (PnL) and Return percentage from the backtest"
   ]
  },
  {
   "cell_type": "code",
   "execution_count": 738,
   "id": "21e6a392",
   "metadata": {},
   "outputs": [],
   "source": [
    "pnl_rerun = np.cumsum(stats_optimal['_trades'])\n",
    "pnl_rerun_val = pnl_rerun['PnL'].iloc[-1]"
   ]
  },
  {
   "cell_type": "code",
   "execution_count": 739,
   "id": "6a1710f1",
   "metadata": {},
   "outputs": [
    {
     "name": "stdout",
     "output_type": "stream",
     "text": [
      "Backesting optimized reults with investment of 10000 and commission of 1%\n",
      "\n",
      "Result            Value\n",
      "----------------  ------------------\n",
      "Peak Equity       10912.885153107643\n",
      "Final Equity      10240.750189620256\n",
      "Sharpe Ratio      0.36636\n",
      "PnL               $240.75\n",
      "Return %          2.408%\n",
      "Win Rate [%]      54.545%\n",
      "Number of trades  11\n"
     ]
    }
   ],
   "source": [
    "optimized_backtest_results_table = [[\"Peak Equity\", stats_optimal['Equity Peak [$]']],[\"Final Equity\",stats_optimal['Equity Final [$]']],\n",
    "                                    [\"Sharpe Ratio\", round(stats_optimal['Sharpe Ratio'], 5)], \n",
    "                                      [\"PnL\", f\"${round(pnl_rerun_val,3)}\"],\n",
    "                                      [\"Return %\", f\"{round(stats_optimal['Return [%]'], 3)}%\"],\n",
    "                                      [\"Win Rate [%]\", f\"{round(stats_optimal['Win Rate [%]'], 3)}%\"],\n",
    "                                      [\"Number of trades\", len(stats_optimal['_trades'])]]\n",
    "print(f\"Backesting optimized reults with investment of {10000} and commission of 1%\\n\")\n",
    "print(tabulate(optimized_backtest_results_table, headers=[\"Result\", \"Value\"]))                         "
   ]
  },
  {
   "cell_type": "markdown",
   "id": "958e7007",
   "metadata": {},
   "source": [
    "Plot Close to Close Equity Lines"
   ]
  },
  {
   "cell_type": "code",
   "execution_count": 740,
   "id": "b756beac",
   "metadata": {},
   "outputs": [
    {
     "data": {
      "image/png": "[encoded data removed]",
      "text/plain": [
       "<Figure size 640x480 with 1 Axes>"
      ]
     },
     "metadata": {},
     "output_type": "display_data"
    }
   ],
   "source": [
    "rerun_pnl = pd.DataFrame(stats_optimal['_trades'][\"PnL\"].copy())\n",
    "rerun_pnl[\"PnL CumSum\"] = rerun_pnl[\"PnL\"].cumsum()\n",
    "\n",
    "#Plot the figures with the trading signals\n",
    "plt.title(forex_pair+\" Equity Lines | SMA \"+str(optimized_window))\n",
    "plt.plot(rerun_pnl.index, rerun_pnl[\"PnL CumSum\"], label = \"Cummulative PnL\")\n",
    "plt.xlabel(\"Number of Trades\")\n",
    "plt.ylabel(\"Cummulative PnL\")\n",
    "plt.legend(loc='upper right')\n",
    "plt.show()"
   ]
  },
  {
   "cell_type": "markdown",
   "id": "c18d2703",
   "metadata": {},
   "source": [
    "### 3. Bulk Backtesting and Cross-Validation + Saving Metrics"
   ]
  },
  {
   "cell_type": "markdown",
   "id": "feed42b2",
   "metadata": {},
   "source": [
    "Create a list of the currency pairs to test"
   ]
  },
  {
   "cell_type": "code",
   "execution_count": null,
   "id": "edbf1ce5",
   "metadata": {},
   "outputs": [],
   "source": [
    "currency_pairs = ['EURUSD=X', 'USDJPY=X', 'GBPUSD=X', 'AUDUSD=X', 'USDCAD=X', 'USDCHF=X', 'EURGBP=X', 'EURJPY=X', 'GBPJPY=X', 'EURCHF=X', 'USDNOK=X', 'USDCNY=X', 'EURCAD=X', 'USDHKD=X', 'USDSGD=X']"
   ]
  },
  {
   "cell_type": "markdown",
   "id": "b6a4d170",
   "metadata": {},
   "source": [
    "Download the data from the API for each and save it into a csv file"
   ]
  },
  {
   "cell_type": "code",
   "execution_count": null,
   "id": "02c7d365",
   "metadata": {},
   "outputs": [],
   "source": [
    "for forex_pair in currency_pairs:\n",
    "    \n",
    "    data =  yf.download(forex_pair, interval=\"1wk\", start='2005-01-01', end = '2022-12-31')\n",
    "\n",
    "    #Seperate the data into two sets, 2005 to 2013 and 2014 to 2022\n",
    "    backtest_dataset = pd.DataFrame(data.loc['2005-01-01' : '2013-12-31'].copy())\n",
    "    rerun_dataset = pd.DataFrame(data.loc['2014-01-01':'2022-12-31'].copy())\n",
    "    \n",
    "    backtest_filename = \"backtest\"+forex_pair+\".csv\"\n",
    "    rerun_filename = \"rerun\"+forex_pair+\".csv\"\n",
    "\n",
    "    backtest_dataset.to_csv(\"backtestdata/\"+backtest_filename)\n",
    "    rerun_dataset.to_csv(\"rerundata/\"+rerun_filename)"
   ]
  },
  {
   "cell_type": "markdown",
   "id": "c18aad69",
   "metadata": {},
   "source": [
    "### 3.1 Backtest and save historical data"
   ]
  },
  {
   "cell_type": "markdown",
   "id": "3e355e48",
   "metadata": {},
   "source": [
    "Define the function that will run the backtests for the currency pair list above using the strategy **BollingerBandsStrategy**. Backtest the 15 currency pairs with the bollinger bands strategy, using the saved historical data for 2005 to 2013 in the directory backtestdata/"
   ]
  },
  {
   "cell_type": "code",
   "execution_count": null,
   "id": "10b2b15e",
   "metadata": {},
   "outputs": [],
   "source": [
    "backtest_results = []\n",
    "backtest_dir = 'backtestdata'\n",
    "files = os.listdir(backtest_dir)\n",
    "\n",
    "def backtest_strategy(param_cash, param_commission):\n",
    "    index = 0\n",
    "    while index < len(files):\n",
    "        try:\n",
    "            filename = backtest_dir+\"/\"+files[index]\n",
    "            symbol = filename[21:27]\n",
    "            \n",
    "            file_data = pd.read_csv(filename)\n",
    "            \n",
    "            data_df = file_data.copy()\n",
    "            data_df.index = pd.DatetimeIndex(data_df['Date'])\n",
    "            data_df.sort_index(ascending=True, inplace=True)\n",
    "            \n",
    "            bt = Backtest(data_df, BollingerBandsStrategy, cash = param_cash, commission = param_commission)\n",
    "            stats = bt.run()\n",
    "            backtest_results.append(list([symbol, stats]))\n",
    "        \n",
    "        except FileNotFoundError:\n",
    "            print(f\"File {filename} not found\")\n",
    "        \n",
    "        except ValueError:\n",
    "            continue\n",
    "        \n",
    "        finally:\n",
    "            index += 1\n",
    "            \n",
    "    return backtest_results"
   ]
  },
  {
   "cell_type": "code",
   "execution_count": null,
   "id": "9c424668",
   "metadata": {},
   "outputs": [],
   "source": [
    "bulk_backtest_results = backtest_strategy(10_000, 0.01)"
   ]
  },
  {
   "cell_type": "markdown",
   "id": "234575bb",
   "metadata": {},
   "source": [
    "Save the **backtest** metrics into a list and write the data into a csv file"
   ]
  },
  {
   "cell_type": "code",
   "execution_count": null,
   "id": "7766bc25",
   "metadata": {
    "scrolled": false
   },
   "outputs": [],
   "source": [
    "backtest_metrics = []\n",
    "header = [\"Currency Pair\", \"Final Equity\", \"PnL\", \"Return Pct\", \"Sharpe Ratio\", \"Win Rate\", \"Profit Factor\", \"Number of Trades\"]\n",
    "\n",
    "for result in bulk_backtest_results:\n",
    "    if(len(result[1]['_trades']) > 0):\n",
    "        pnl_col = np.cumsum(result[1]['_trades']['PnL'])\n",
    "        result_pnl = pnl_col.iloc[-1]\n",
    "    else:\n",
    "        result_pnl = 0\n",
    "\n",
    "    #We will write the currency pair, final equity, PnL, return pct, sharpe ratio, win rate, profit factor and number of trades \n",
    "    backtest_metrics.append(list([\n",
    "        result[0],\n",
    "        result[1]['Equity Final [$]'],\n",
    "        result_pnl,\n",
    "        result[1]['Return [%]'],\n",
    "        result[1]['Sharpe Ratio'],\n",
    "        result[1]['Win Rate [%]'],\n",
    "        result[1]['Profit Factor'],\n",
    "        len(result[1]['_trades'])\n",
    "    ]))"
   ]
  },
  {
   "cell_type": "markdown",
   "id": "bfdfc1dc",
   "metadata": {},
   "source": [
    "Write the data to the file **backtest_metrics.csv**"
   ]
  },
  {
   "cell_type": "code",
   "execution_count": null,
   "id": "7c1d3b94",
   "metadata": {},
   "outputs": [],
   "source": [
    "with open('backtest_metrics.csv', 'w', encoding='UTF8', newline='') as f:\n",
    "    writer = csv.writer(f)\n",
    "\n",
    "    # write the header\n",
    "    writer.writerow(header)\n",
    "\n",
    "    # write multiple rows\n",
    "    writer.writerows(backtest_metrics)"
   ]
  },
  {
   "cell_type": "markdown",
   "id": "0e791841",
   "metadata": {},
   "source": [
    "### 3.2 Cross-validate and save cross-validation data"
   ]
  },
  {
   "cell_type": "markdown",
   "id": "f14ee047",
   "metadata": {},
   "source": [
    "Define the function that will run the backtests for the currency pair list above using the strategy **OptBollingerBandsStrategy**. Backtest the 15 currency pairs with the optimized bollinger bands strategy, using the saved data for 2013 to 2022 in the directory rerundata/"
   ]
  },
  {
   "cell_type": "code",
   "execution_count": null,
   "id": "6aa22b87",
   "metadata": {},
   "outputs": [],
   "source": [
    "validate_results = []\n",
    "validate_dir = 'rerundata'\n",
    "validate_files = os.listdir(validate_dir)\n",
    "\n",
    "def validate_strategy(param_cash, param_commission):\n",
    "    index = 0\n",
    "    while index < len(validate_files):\n",
    "        try:\n",
    "            filename = validate_dir+\"/\"+validate_files[index]\n",
    "            symbol = filename[15:21]\n",
    "            \n",
    "            file_data = pd.read_csv(filename)\n",
    "            \n",
    "            data_df = file_data.copy()\n",
    "            data_df.index = pd.DatetimeIndex(data_df['Date'])\n",
    "            data_df.sort_index(ascending=True, inplace=True)\n",
    "            \n",
    "            bt = Backtest(data_df, OptBollingerBandsStrategy, cash = param_cash, commission = param_commission)\n",
    "            stats = bt.run()\n",
    "            validate_results.append(list([symbol, stats]))\n",
    "        \n",
    "        except FileNotFoundError:\n",
    "            print(f\"File {filename} not found\")\n",
    "        \n",
    "        except ValueError:\n",
    "            continue\n",
    "            \n",
    "        finally:\n",
    "            index += 1\n",
    "            \n",
    "    return validate_results"
   ]
  },
  {
   "cell_type": "code",
   "execution_count": null,
   "id": "0375c94c",
   "metadata": {},
   "outputs": [],
   "source": [
    "bulk_validate_results = validate_strategy(10_000, 0.01)"
   ]
  },
  {
   "cell_type": "markdown",
   "id": "0efd8a6b",
   "metadata": {},
   "source": [
    "Save the **validation** metrics into a list and write the data into a csv file"
   ]
  },
  {
   "cell_type": "code",
   "execution_count": null,
   "id": "d35bfc93",
   "metadata": {},
   "outputs": [],
   "source": [
    "validate_metrics = []\n",
    "for result in bulk_validate_results:\n",
    "    if(len(result[1]['_trades']) > 0):\n",
    "        pnl_col = np.cumsum(result[1]['_trades']['PnL'])\n",
    "        result_pnl = pnl_col.iloc[-1]\n",
    "    else:\n",
    "        result_pnl = 0\n",
    "\n",
    "    #We will write the currency pair, final equity, PnL, return pct, sharpe ratio, win rate, profit factor and number of trades\n",
    "    validate_metrics.append(list([\n",
    "        result[0],\n",
    "        result[1]['Equity Final [$]'],\n",
    "        result_pnl,\n",
    "        result[1]['Return [%]'],\n",
    "        result[1]['Sharpe Ratio'],\n",
    "        result[1]['Win Rate [%]'],\n",
    "        result[1]['Profit Factor'],\n",
    "        len(result[1]['_trades'])\n",
    "    ]))"
   ]
  },
  {
   "cell_type": "markdown",
   "id": "b16406dc",
   "metadata": {},
   "source": [
    "Write the data to the file **validation_metrics.csv**"
   ]
  },
  {
   "cell_type": "code",
   "execution_count": null,
   "id": "5d2cce73",
   "metadata": {},
   "outputs": [],
   "source": [
    "with open('validation_metrics.csv', 'w', encoding='UTF8', newline='') as f:\n",
    "    writer = csv.writer(f)\n",
    "\n",
    "    # write the header\n",
    "    writer.writerow(header)\n",
    "\n",
    "    # write multiple rows\n",
    "    writer.writerows(validate_metrics)"
   ]
  }
 ],
 "metadata": {
  "kernelspec": {
   "display_name": "Python 3 (ipykernel)",
   "language": "python",
   "name": "python3"
  },
  "language_info": {
   "codemirror_mode": {
    "name": "ipython",
    "version": 3
   },
   "file_extension": ".py",
   "mimetype": "text/x-python",
   "name": "python",
   "nbconvert_exporter": "python",
   "pygments_lexer": "ipython3",
   "version": "3.11.4"
  }
 },
 "nbformat": 4,
 "nbformat_minor": 5
}
