{
 "cells": [
  {
   "cell_type": "markdown",
   "id": "3a8fd23d",
   "metadata": {},
   "source": [
    "# Bollinger Bands Strategy and Backtesting"
   ]
  },
  {
   "cell_type": "markdown",
   "id": "de4635ca",
   "metadata": {},
   "source": [
    "Prepared by Samalie Piwan   \n",
    "Email : spiwan@andrew.cmu.edu"
   ]
  },
  {
   "cell_type": "markdown",
   "id": "bcf39045",
   "metadata": {},
   "source": [
    "Load the libraries to be used in the project"
   ]
  },
  {
   "cell_type": "code",
   "execution_count": 1,
   "id": "d9f60983",
   "metadata": {},
   "outputs": [
    {
     "name": "stderr",
     "output_type": "stream",
     "text": [
      "C:\\Users\\Sama\\anaconda3\\Lib\\site-packages\\backtesting\\_plotting.py:50: UserWarning: Jupyter Notebook detected. Setting Bokeh output to notebook. This may not work in Jupyter clients without JavaScript support (e.g. PyCharm, Spyder IDE). Reset with `backtesting.set_bokeh_output(notebook=False)`.\n",
      "  warnings.warn('Jupyter Notebook detected. '\n"
     ]
    },
    {
     "data": {
      "text/html": [
       "<style>\n",
       "        .bk-notebook-logo {\n",
       "            display: block;\n",
       "            width: 20px;\n",
       "            height: 20px;\n",
       "            background-image: url(data:image/png;base64,iVBORw0KGgoAAAANSUhEUgAAABQAAAAUCAYAAACNiR0NAAAABHNCSVQICAgIfAhkiAAAAAlwSFlzAAALEgAACxIB0t1+/AAAABx0RVh0U29mdHdhcmUAQWRvYmUgRmlyZXdvcmtzIENTNui8sowAAAOkSURBVDiNjZRtaJVlGMd/1/08zzln5zjP1LWcU9N0NkN8m2CYjpgQYQXqSs0I84OLIC0hkEKoPtiH3gmKoiJDU7QpLgoLjLIQCpEsNJ1vqUOdO7ppbuec5+V+rj4ctwzd8IIbbi6u+8f1539dt3A78eXC7QizUF7gyV1fD1Yqg4JWz84yffhm0qkFqBogB9rM8tZdtwVsPUhWhGcFJngGeWrPzHm5oaMmkfEg1usvLFyc8jLRqDOMru7AyC8saQr7GG7f5fvDeH7Ej8CM66nIF+8yngt6HWaKh7k49Soy9nXurCi1o3qUbS3zWfrYeQDTB/Qj6kX6Ybhw4B+bOYoLKCC9H3Nu/leUTZ1JdRWkkn2ldcCamzrcf47KKXdAJllSlxAOkRgyHsGC/zRday5Qld9DyoM4/q/rUoy/CXh3jzOu3bHUVZeU+DEn8FInkPBFlu3+nW3Nw0mk6vCDiWg8CeJaxEwuHS3+z5RgY+YBR6V1Z1nxSOfoaPa4LASWxxdNp+VWTk7+4vzaou8v8PN+xo+KY2xsw6une2frhw05CTYOmQvsEhjhWjn0bmXPjpE1+kplmmkP3suftwTubK9Vq22qKmrBhpY4jvd5afdRA3wGjFAgcnTK2s4hY0/GPNIb0nErGMCRxWOOX64Z8RAC4oCXdklmEvcL8o0BfkNK4lUg9HTl+oPlQxdNo3Mg4Nv175e/1LDGzZen30MEjRUtmXSfiTVu1kK8W4txyV6BMKlbgk3lMwYCiusNy9fVfvvwMxv8Ynl6vxoByANLTWplvuj/nF9m2+PDtt1eiHPBr1oIfhCChQMBw6Aw0UulqTKZdfVvfG7VcfIqLG9bcldL/+pdWTLxLUy8Qq38heUIjh4XlzZxzQm19lLFlr8vdQ97rjZVOLf8nclzckbcD4wxXMidpX30sFd37Fv/GtwwhzhxGVAprjbg0gCAEeIgwCZyTV2Z1REEW8O4py0wsjeloKoMr6iCY6dP92H6Vw/oTyICIthibxjm/DfN9lVz8IqtqKYLUXfoKVMVQVVJOElGjrnnUt9T9wbgp8AyYKaGlqingHZU/uG2NTZSVqwHQTWkx9hxjkpWDaCg6Ckj5qebgBVbT3V3NNXMSiWSDdGV3hrtzla7J+duwPOToIg42ChPQOQjspnSlp1V+Gjdged7+8UN5CRAV7a5EdFNwCjEaBR27b3W890TE7g24NAP/mMDXRWrGoFPQI9ls/MWO2dWFAar/xcOIImbbpA3zgAAAABJRU5ErkJggg==);\n",
       "        }\n",
       "    </style>\n",
       "    <div>\n",
       "        <a href=\"https://bokeh.org\" target=\"_blank\" class=\"bk-notebook-logo\"></a>\n",
       "        <span id=\"a0e6eb9c-073d-43ae-82cc-994d0d86ba40\">Loading BokehJS ...</span>\n",
       "    </div>\n"
      ]
     },
     "metadata": {},
     "output_type": "display_data"
    },
    {
     "data": {
      "application/javascript": [
       "(function(root) {\n",
       "  function now() {\n",
       "    return new Date();\n",
       "  }\n",
       "\n",
       "  const force = true;\n",
       "\n",
       "  if (typeof root._bokeh_onload_callbacks === \"undefined\" || force === true) {\n",
       "    root._bokeh_onload_callbacks = [];\n",
       "    root._bokeh_is_loading = undefined;\n",
       "  }\n",
       "\n",
       "const JS_MIME_TYPE = 'application/javascript';\n",
       "  const HTML_MIME_TYPE = 'text/html';\n",
       "  const EXEC_MIME_TYPE = 'application/vnd.bokehjs_exec.v0+json';\n",
       "  const CLASS_NAME = 'output_bokeh rendered_html';\n",
       "\n",
       "  /**\n",
       "   * Render data to the DOM node\n",
       "   */\n",
       "  function render(props, node) {\n",
       "    const script = document.createElement(\"script\");\n",
       "    node.appendChild(script);\n",
       "  }\n",
       "\n",
       "  /**\n",
       "   * Handle when an output is cleared or removed\n",
       "   */\n",
       "  function handleClearOutput(event, handle) {\n",
       "    const cell = handle.cell;\n",
       "\n",
       "    const id = cell.output_area._bokeh_element_id;\n",
       "    const server_id = cell.output_area._bokeh_server_id;\n",
       "    // Clean up Bokeh references\n",
       "    if (id != null && id in Bokeh.index) {\n",
       "      Bokeh.index[id].model.document.clear();\n",
       "      delete Bokeh.index[id];\n",
       "    }\n",
       "\n",
       "    if (server_id !== undefined) {\n",
       "      // Clean up Bokeh references\n",
       "      const cmd_clean = \"from bokeh.io.state import curstate; print(curstate().uuid_to_server['\" + server_id + \"'].get_sessions()[0].document.roots[0]._id)\";\n",
       "      cell.notebook.kernel.execute(cmd_clean, {\n",
       "        iopub: {\n",
       "          output: function(msg) {\n",
       "            const id = msg.content.text.trim();\n",
       "            if (id in Bokeh.index) {\n",
       "              Bokeh.index[id].model.document.clear();\n",
       "              delete Bokeh.index[id];\n",
       "            }\n",
       "          }\n",
       "        }\n",
       "      });\n",
       "      // Destroy server and session\n",
       "      const cmd_destroy = \"import bokeh.io.notebook as ion; ion.destroy_server('\" + server_id + \"')\";\n",
       "      cell.notebook.kernel.execute(cmd_destroy);\n",
       "    }\n",
       "  }\n",
       "\n",
       "  /**\n",
       "   * Handle when a new output is added\n",
       "   */\n",
       "  function handleAddOutput(event, handle) {\n",
       "    const output_area = handle.output_area;\n",
       "    const output = handle.output;\n",
       "\n",
       "    // limit handleAddOutput to display_data with EXEC_MIME_TYPE content only\n",
       "    if ((output.output_type != \"display_data\") || (!Object.prototype.hasOwnProperty.call(output.data, EXEC_MIME_TYPE))) {\n",
       "      return\n",
       "    }\n",
       "\n",
       "    const toinsert = output_area.element.find(\".\" + CLASS_NAME.split(' ')[0]);\n",
       "\n",
       "    if (output.metadata[EXEC_MIME_TYPE][\"id\"] !== undefined) {\n",
       "      toinsert[toinsert.length - 1].firstChild.textContent = output.data[JS_MIME_TYPE];\n",
       "      // store reference to embed id on output_area\n",
       "      output_area._bokeh_element_id = output.metadata[EXEC_MIME_TYPE][\"id\"];\n",
       "    }\n",
       "    if (output.metadata[EXEC_MIME_TYPE][\"server_id\"] !== undefined) {\n",
       "      const bk_div = document.createElement(\"div\");\n",
       "      bk_div.innerHTML = output.data[HTML_MIME_TYPE];\n",
       "      const script_attrs = bk_div.children[0].attributes;\n",
       "      for (let i = 0; i < script_attrs.length; i++) {\n",
       "        toinsert[toinsert.length - 1].firstChild.setAttribute(script_attrs[i].name, script_attrs[i].value);\n",
       "        toinsert[toinsert.length - 1].firstChild.textContent = bk_div.children[0].textContent\n",
       "      }\n",
       "      // store reference to server id on output_area\n",
       "      output_area._bokeh_server_id = output.metadata[EXEC_MIME_TYPE][\"server_id\"];\n",
       "    }\n",
       "  }\n",
       "\n",
       "  function register_renderer(events, OutputArea) {\n",
       "\n",
       "    function append_mime(data, metadata, element) {\n",
       "      // create a DOM node to render to\n",
       "      const toinsert = this.create_output_subarea(\n",
       "        metadata,\n",
       "        CLASS_NAME,\n",
       "        EXEC_MIME_TYPE\n",
       "      );\n",
       "      this.keyboard_manager.register_events(toinsert);\n",
       "      // Render to node\n",
       "      const props = {data: data, metadata: metadata[EXEC_MIME_TYPE]};\n",
       "      render(props, toinsert[toinsert.length - 1]);\n",
       "      element.append(toinsert);\n",
       "      return toinsert\n",
       "    }\n",
       "\n",
       "    /* Handle when an output is cleared or removed */\n",
       "    events.on('clear_output.CodeCell', handleClearOutput);\n",
       "    events.on('delete.Cell', handleClearOutput);\n",
       "\n",
       "    /* Handle when a new output is added */\n",
       "    events.on('output_added.OutputArea', handleAddOutput);\n",
       "\n",
       "    /**\n",
       "     * Register the mime type and append_mime function with output_area\n",
       "     */\n",
       "    OutputArea.prototype.register_mime_type(EXEC_MIME_TYPE, append_mime, {\n",
       "      /* Is output safe? */\n",
       "      safe: true,\n",
       "      /* Index of renderer in `output_area.display_order` */\n",
       "      index: 0\n",
       "    });\n",
       "  }\n",
       "\n",
       "  // register the mime type if in Jupyter Notebook environment and previously unregistered\n",
       "  if (root.Jupyter !== undefined) {\n",
       "    const events = require('base/js/events');\n",
       "    const OutputArea = require('notebook/js/outputarea').OutputArea;\n",
       "\n",
       "    if (OutputArea.prototype.mime_types().indexOf(EXEC_MIME_TYPE) == -1) {\n",
       "      register_renderer(events, OutputArea);\n",
       "    }\n",
       "  }\n",
       "  if (typeof (root._bokeh_timeout) === \"undefined\" || force === true) {\n",
       "    root._bokeh_timeout = Date.now() + 5000;\n",
       "    root._bokeh_failed_load = false;\n",
       "  }\n",
       "\n",
       "  const NB_LOAD_WARNING = {'data': {'text/html':\n",
       "     \"<div style='background-color: #fdd'>\\n\"+\n",
       "     \"<p>\\n\"+\n",
       "     \"BokehJS does not appear to have successfully loaded. If loading BokehJS from CDN, this \\n\"+\n",
       "     \"may be due to a slow or bad network connection. Possible fixes:\\n\"+\n",
       "     \"</p>\\n\"+\n",
       "     \"<ul>\\n\"+\n",
       "     \"<li>re-rerun `output_notebook()` to attempt to load from CDN again, or</li>\\n\"+\n",
       "     \"<li>use INLINE resources instead, as so:</li>\\n\"+\n",
       "     \"</ul>\\n\"+\n",
       "     \"<code>\\n\"+\n",
       "     \"from bokeh.resources import INLINE\\n\"+\n",
       "     \"output_notebook(resources=INLINE)\\n\"+\n",
       "     \"</code>\\n\"+\n",
       "     \"</div>\"}};\n",
       "\n",
       "  function display_loaded() {\n",
       "    const el = document.getElementById(\"a0e6eb9c-073d-43ae-82cc-994d0d86ba40\");\n",
       "    if (el != null) {\n",
       "      el.textContent = \"BokehJS is loading...\";\n",
       "    }\n",
       "    if (root.Bokeh !== undefined) {\n",
       "      if (el != null) {\n",
       "        el.textContent = \"BokehJS \" + root.Bokeh.version + \" successfully loaded.\";\n",
       "      }\n",
       "    } else if (Date.now() < root._bokeh_timeout) {\n",
       "      setTimeout(display_loaded, 100)\n",
       "    }\n",
       "  }\n",
       "\n",
       "  function run_callbacks() {\n",
       "    try {\n",
       "      root._bokeh_onload_callbacks.forEach(function(callback) {\n",
       "        if (callback != null)\n",
       "          callback();\n",
       "      });\n",
       "    } finally {\n",
       "      delete root._bokeh_onload_callbacks\n",
       "    }\n",
       "    console.debug(\"Bokeh: all callbacks have finished\");\n",
       "  }\n",
       "\n",
       "  function load_libs(css_urls, js_urls, callback) {\n",
       "    if (css_urls == null) css_urls = [];\n",
       "    if (js_urls == null) js_urls = [];\n",
       "\n",
       "    root._bokeh_onload_callbacks.push(callback);\n",
       "    if (root._bokeh_is_loading > 0) {\n",
       "      console.debug(\"Bokeh: BokehJS is being loaded, scheduling callback at\", now());\n",
       "      return null;\n",
       "    }\n",
       "    if (js_urls == null || js_urls.length === 0) {\n",
       "      run_callbacks();\n",
       "      return null;\n",
       "    }\n",
       "    console.debug(\"Bokeh: BokehJS not loaded, scheduling load and callback at\", now());\n",
       "    root._bokeh_is_loading = css_urls.length + js_urls.length;\n",
       "\n",
       "    function on_load() {\n",
       "      root._bokeh_is_loading--;\n",
       "      if (root._bokeh_is_loading === 0) {\n",
       "        console.debug(\"Bokeh: all BokehJS libraries/stylesheets loaded\");\n",
       "        run_callbacks()\n",
       "      }\n",
       "    }\n",
       "\n",
       "    function on_error(url) {\n",
       "      console.error(\"failed to load \" + url);\n",
       "    }\n",
       "\n",
       "    for (let i = 0; i < css_urls.length; i++) {\n",
       "      const url = css_urls[i];\n",
       "      const element = document.createElement(\"link\");\n",
       "      element.onload = on_load;\n",
       "      element.onerror = on_error.bind(null, url);\n",
       "      element.rel = \"stylesheet\";\n",
       "      element.type = \"text/css\";\n",
       "      element.href = url;\n",
       "      console.debug(\"Bokeh: injecting link tag for BokehJS stylesheet: \", url);\n",
       "      document.body.appendChild(element);\n",
       "    }\n",
       "\n",
       "    for (let i = 0; i < js_urls.length; i++) {\n",
       "      const url = js_urls[i];\n",
       "      const element = document.createElement('script');\n",
       "      element.onload = on_load;\n",
       "      element.onerror = on_error.bind(null, url);\n",
       "      element.async = false;\n",
       "      element.src = url;\n",
       "      console.debug(\"Bokeh: injecting script tag for BokehJS library: \", url);\n",
       "      document.head.appendChild(element);\n",
       "    }\n",
       "  };\n",
       "\n",
       "  function inject_raw_css(css) {\n",
       "    const element = document.createElement(\"style\");\n",
       "    element.appendChild(document.createTextNode(css));\n",
       "    document.body.appendChild(element);\n",
       "  }\n",
       "\n",
       "  const js_urls = [\"https://cdn.bokeh.org/bokeh/release/bokeh-3.2.1.min.js\", \"https://cdn.bokeh.org/bokeh/release/bokeh-gl-3.2.1.min.js\", \"https://cdn.bokeh.org/bokeh/release/bokeh-widgets-3.2.1.min.js\", \"https://cdn.bokeh.org/bokeh/release/bokeh-tables-3.2.1.min.js\", \"https://cdn.bokeh.org/bokeh/release/bokeh-mathjax-3.2.1.min.js\"];\n",
       "  const css_urls = [];\n",
       "\n",
       "  const inline_js = [    function(Bokeh) {\n",
       "      Bokeh.set_log_level(\"info\");\n",
       "    },\n",
       "function(Bokeh) {\n",
       "    }\n",
       "  ];\n",
       "\n",
       "  function run_inline_js() {\n",
       "    if (root.Bokeh !== undefined || force === true) {\n",
       "          for (let i = 0; i < inline_js.length; i++) {\n",
       "      inline_js[i].call(root, root.Bokeh);\n",
       "    }\n",
       "if (force === true) {\n",
       "        display_loaded();\n",
       "      }} else if (Date.now() < root._bokeh_timeout) {\n",
       "      setTimeout(run_inline_js, 100);\n",
       "    } else if (!root._bokeh_failed_load) {\n",
       "      console.log(\"Bokeh: BokehJS failed to load within specified timeout.\");\n",
       "      root._bokeh_failed_load = true;\n",
       "    } else if (force !== true) {\n",
       "      const cell = $(document.getElementById(\"a0e6eb9c-073d-43ae-82cc-994d0d86ba40\")).parents('.cell').data().cell;\n",
       "      cell.output_area.append_execute_result(NB_LOAD_WARNING)\n",
       "    }\n",
       "  }\n",
       "\n",
       "  if (root._bokeh_is_loading === 0) {\n",
       "    console.debug(\"Bokeh: BokehJS loaded, going straight to plotting\");\n",
       "    run_inline_js();\n",
       "  } else {\n",
       "    load_libs(css_urls, js_urls, function() {\n",
       "      console.debug(\"Bokeh: BokehJS plotting callback run at\", now());\n",
       "      run_inline_js();\n",
       "    });\n",
       "  }\n",
       "}(window));"
      ],
      "application/vnd.bokehjs_load.v0+json": "(function(root) {\n  function now() {\n    return new Date();\n  }\n\n  const force = true;\n\n  if (typeof root._bokeh_onload_callbacks === \"undefined\" || force === true) {\n    root._bokeh_onload_callbacks = [];\n    root._bokeh_is_loading = undefined;\n  }\n\n\n  if (typeof (root._bokeh_timeout) === \"undefined\" || force === true) {\n    root._bokeh_timeout = Date.now() + 5000;\n    root._bokeh_failed_load = false;\n  }\n\n  const NB_LOAD_WARNING = {'data': {'text/html':\n     \"<div style='background-color: #fdd'>\\n\"+\n     \"<p>\\n\"+\n     \"BokehJS does not appear to have successfully loaded. If loading BokehJS from CDN, this \\n\"+\n     \"may be due to a slow or bad network connection. Possible fixes:\\n\"+\n     \"</p>\\n\"+\n     \"<ul>\\n\"+\n     \"<li>re-rerun `output_notebook()` to attempt to load from CDN again, or</li>\\n\"+\n     \"<li>use INLINE resources instead, as so:</li>\\n\"+\n     \"</ul>\\n\"+\n     \"<code>\\n\"+\n     \"from bokeh.resources import INLINE\\n\"+\n     \"output_notebook(resources=INLINE)\\n\"+\n     \"</code>\\n\"+\n     \"</div>\"}};\n\n  function display_loaded() {\n    const el = document.getElementById(\"a0e6eb9c-073d-43ae-82cc-994d0d86ba40\");\n    if (el != null) {\n      el.textContent = \"BokehJS is loading...\";\n    }\n    if (root.Bokeh !== undefined) {\n      if (el != null) {\n        el.textContent = \"BokehJS \" + root.Bokeh.version + \" successfully loaded.\";\n      }\n    } else if (Date.now() < root._bokeh_timeout) {\n      setTimeout(display_loaded, 100)\n    }\n  }\n\n  function run_callbacks() {\n    try {\n      root._bokeh_onload_callbacks.forEach(function(callback) {\n        if (callback != null)\n          callback();\n      });\n    } finally {\n      delete root._bokeh_onload_callbacks\n    }\n    console.debug(\"Bokeh: all callbacks have finished\");\n  }\n\n  function load_libs(css_urls, js_urls, callback) {\n    if (css_urls == null) css_urls = [];\n    if (js_urls == null) js_urls = [];\n\n    root._bokeh_onload_callbacks.push(callback);\n    if (root._bokeh_is_loading > 0) {\n      console.debug(\"Bokeh: BokehJS is being loaded, scheduling callback at\", now());\n      return null;\n    }\n    if (js_urls == null || js_urls.length === 0) {\n      run_callbacks();\n      return null;\n    }\n    console.debug(\"Bokeh: BokehJS not loaded, scheduling load and callback at\", now());\n    root._bokeh_is_loading = css_urls.length + js_urls.length;\n\n    function on_load() {\n      root._bokeh_is_loading--;\n      if (root._bokeh_is_loading === 0) {\n        console.debug(\"Bokeh: all BokehJS libraries/stylesheets loaded\");\n        run_callbacks()\n      }\n    }\n\n    function on_error(url) {\n      console.error(\"failed to load \" + url);\n    }\n\n    for (let i = 0; i < css_urls.length; i++) {\n      const url = css_urls[i];\n      const element = document.createElement(\"link\");\n      element.onload = on_load;\n      element.onerror = on_error.bind(null, url);\n      element.rel = \"stylesheet\";\n      element.type = \"text/css\";\n      element.href = url;\n      console.debug(\"Bokeh: injecting link tag for BokehJS stylesheet: \", url);\n      document.body.appendChild(element);\n    }\n\n    for (let i = 0; i < js_urls.length; i++) {\n      const url = js_urls[i];\n      const element = document.createElement('script');\n      element.onload = on_load;\n      element.onerror = on_error.bind(null, url);\n      element.async = false;\n      element.src = url;\n      console.debug(\"Bokeh: injecting script tag for BokehJS library: \", url);\n      document.head.appendChild(element);\n    }\n  };\n\n  function inject_raw_css(css) {\n    const element = document.createElement(\"style\");\n    element.appendChild(document.createTextNode(css));\n    document.body.appendChild(element);\n  }\n\n  const js_urls = [\"https://cdn.bokeh.org/bokeh/release/bokeh-3.2.1.min.js\", \"https://cdn.bokeh.org/bokeh/release/bokeh-gl-3.2.1.min.js\", \"https://cdn.bokeh.org/bokeh/release/bokeh-widgets-3.2.1.min.js\", \"https://cdn.bokeh.org/bokeh/release/bokeh-tables-3.2.1.min.js\", \"https://cdn.bokeh.org/bokeh/release/bokeh-mathjax-3.2.1.min.js\"];\n  const css_urls = [];\n\n  const inline_js = [    function(Bokeh) {\n      Bokeh.set_log_level(\"info\");\n    },\nfunction(Bokeh) {\n    }\n  ];\n\n  function run_inline_js() {\n    if (root.Bokeh !== undefined || force === true) {\n          for (let i = 0; i < inline_js.length; i++) {\n      inline_js[i].call(root, root.Bokeh);\n    }\nif (force === true) {\n        display_loaded();\n      }} else if (Date.now() < root._bokeh_timeout) {\n      setTimeout(run_inline_js, 100);\n    } else if (!root._bokeh_failed_load) {\n      console.log(\"Bokeh: BokehJS failed to load within specified timeout.\");\n      root._bokeh_failed_load = true;\n    } else if (force !== true) {\n      const cell = $(document.getElementById(\"a0e6eb9c-073d-43ae-82cc-994d0d86ba40\")).parents('.cell').data().cell;\n      cell.output_area.append_execute_result(NB_LOAD_WARNING)\n    }\n  }\n\n  if (root._bokeh_is_loading === 0) {\n    console.debug(\"Bokeh: BokehJS loaded, going straight to plotting\");\n    run_inline_js();\n  } else {\n    load_libs(css_urls, js_urls, function() {\n      console.debug(\"Bokeh: BokehJS plotting callback run at\", now());\n      run_inline_js();\n    });\n  }\n}(window));"
     },
     "metadata": {},
     "output_type": "display_data"
    }
   ],
   "source": [
    "import pandas as pd\n",
    "import numpy as np\n",
    "import matplotlib.pyplot as plt\n",
    "import pandas_ta as ta\n",
    "import seaborn as sns\n",
    "import yfinance as yf\n",
    "import requests\n",
    "import os\n",
    "import csv\n",
    "import backtesting\n",
    "from datetime import datetime, timedelta\n",
    "from dateutil import parser\n",
    "from backtesting import Backtest, Strategy\n",
    "from tabulate import tabulate\n",
    "from backtesting.lib import crossover, TrailingStrategy\n",
    "import unittest\n",
    "backtesting.set_bokeh_output(notebook=False)"
   ]
  },
  {
   "cell_type": "markdown",
   "id": "1636f2b8",
   "metadata": {},
   "source": [
    "## 1. Backtesting"
   ]
  },
  {
   "cell_type": "markdown",
   "id": "68597d2c",
   "metadata": {},
   "source": [
    "### 1.1 Loading API data"
   ]
  },
  {
   "cell_type": "markdown",
   "id": "bca5a46b",
   "metadata": {},
   "source": [
    "Calculate the date ranges that will be used to load and slice the data"
   ]
  },
  {
   "cell_type": "code",
   "execution_count": 2,
   "id": "d7c37956",
   "metadata": {},
   "outputs": [],
   "source": [
    "today = datetime.today().strftime('%Y-%m-%d')"
   ]
  },
  {
   "cell_type": "code",
   "execution_count": 3,
   "id": "2693e1d9",
   "metadata": {},
   "outputs": [],
   "source": [
    "last_729_days = (datetime.now() - timedelta(days = 729)).date()\n",
    "last_729_days_date = last_729_days.strftime('%Y-%m-%d')"
   ]
  },
  {
   "cell_type": "code",
   "execution_count": 4,
   "id": "deeddca4",
   "metadata": {},
   "outputs": [],
   "source": [
    "next_365_days = (last_729_days + timedelta(days = 365))\n",
    "next_365_days_date = next_365_days.strftime('%Y-%m-%d')"
   ]
  },
  {
   "cell_type": "code",
   "execution_count": 5,
   "id": "4d7815a0",
   "metadata": {},
   "outputs": [],
   "source": [
    "next_366_days = (next_365_days + timedelta(days = 1))\n",
    "next_366_days_date = next_366_days.strftime('%Y-%m-%d')"
   ]
  },
  {
   "cell_type": "code",
   "execution_count": 6,
   "id": "ec787471",
   "metadata": {},
   "outputs": [],
   "source": [
    "slice_one_end_date = next_365_days_date\n",
    "slice_two_start_date = next_366_days_date"
   ]
  },
  {
   "cell_type": "markdown",
   "id": "7581cf2b",
   "metadata": {},
   "source": [
    "First, we set the initial parameters for loading the data. We also load the hourly data from the **Yahoo Finance** API.<br>\n",
    "Because we cannot load data past 730 days from the API, we will load data from 20th October 2021 to 20th October 2023"
   ]
  },
  {
   "cell_type": "code",
   "execution_count": 7,
   "id": "a95df640",
   "metadata": {},
   "outputs": [],
   "source": [
    "forex_pair = \"EURUSD=X\"\n",
    "interval = \"1h\"\n",
    "start_date = last_729_days_date\n",
    "end_date = today"
   ]
  },
  {
   "cell_type": "code",
   "execution_count": 8,
   "id": "4ff03588",
   "metadata": {},
   "outputs": [
    {
     "name": "stdout",
     "output_type": "stream",
     "text": [
      "[*********************100%%**********************]  1 of 1 completed\n"
     ]
    }
   ],
   "source": [
    "price_data = yf.download(forex_pair, interval = interval, start = start_date)"
   ]
  },
  {
   "cell_type": "markdown",
   "id": "45741a01",
   "metadata": {},
   "source": [
    "Next, we split the data into two datasets **insample_data** and **outsample_data**.\n",
    "  - insample_data will contain data from October 2021 to October 2022.\n",
    "  - outsample_data will contain data from October 2022 to October 2023"
   ]
  },
  {
   "cell_type": "code",
   "execution_count": 9,
   "id": "a024cb72",
   "metadata": {},
   "outputs": [],
   "source": [
    "insample_data = pd.DataFrame(price_data.loc[last_729_days_date : slice_one_end_date].copy())\n",
    "outsample_data = pd.DataFrame(price_data.loc[slice_two_start_date:today].copy())"
   ]
  },
  {
   "cell_type": "markdown",
   "id": "0be7eb2c",
   "metadata": {},
   "source": [
    "### 1.2 Backtesting Strategy Setup"
   ]
  },
  {
   "cell_type": "markdown",
   "id": "45ed8d5b",
   "metadata": {},
   "source": [
    "For this strategy, we will focus on optimizing the hyperparameters below:\n",
    "    \n",
    "- Simple Moving Average (EMA) Window\n",
    "- Standard Deviation"
   ]
  },
  {
   "cell_type": "markdown",
   "id": "796cded4",
   "metadata": {},
   "source": [
    "Create variables for the initial EMA window and Standard Deviation"
   ]
  },
  {
   "cell_type": "code",
   "execution_count": 10,
   "id": "c7fd0d96",
   "metadata": {},
   "outputs": [],
   "source": [
    "init_ema_window = 60\n",
    "init_std = 2"
   ]
  },
  {
   "cell_type": "markdown",
   "id": "80538667",
   "metadata": {},
   "source": [
    "Plot the Bollinger Bands for the currency pair"
   ]
  },
  {
   "cell_type": "code",
   "execution_count": 11,
   "id": "e3782c59",
   "metadata": {},
   "outputs": [
    {
     "data": {
      "image/png": "[encoded data removed]",
      "text/plain": [
       "<Figure size 1200x600 with 1 Axes>"
      ]
     },
     "metadata": {},
     "output_type": "display_data"
    }
   ],
   "source": [
    "plot_insample_df = insample_data.copy()\n",
    "plot_insample_df.ta.bbands(close = 'Close', length = init_ema_window, std = init_std, mamode=\"ema\", append=True)\n",
    "\n",
    "# Create f strings that match the column names created by the pandas ta library to reference the column data\n",
    "str_upper_band = f\"BBU_{init_ema_window}_{init_std}.0\"\n",
    "str_middle_band = f\"BBM_{init_ema_window}_{init_std}.0\"\n",
    "str_lower_band = f\"BBL_{init_ema_window}_{init_std}.0\"\n",
    "\n",
    "# Plot the Bollinger Bands\n",
    "plt.figure(figsize = (12,6))\n",
    "plt.title(forex_pair+\" Bollinger Bands | EMA \"+str(init_ema_window)+\" | STD \"+str(init_std))\n",
    "plot_insample_df['Close'].plot(label = 'Prices', color = 'skyblue')\n",
    "plot_insample_df[str_upper_band].plot(\n",
    "    label = 'Upper Band '+str(init_ema_window), \n",
    "    linestyle = '--', \n",
    "    linewidth = 1, \n",
    "    color = 'black')\n",
    "plot_insample_df[str_middle_band].plot(\n",
    "    label = 'Middle Band '+str(init_ema_window),\n",
    "    linestyle = '--',\n",
    "    linewidth = 1.2,\n",
    "    color = 'grey')\n",
    "plot_insample_df[str_lower_band].plot(\n",
    "    label = 'Lower Band '+str(init_ema_window), \n",
    "    linestyle = '--', \n",
    "    linewidth = 1, \n",
    "    color = 'black')\n",
    "plt.fill_between(\n",
    "    plot_insample_df.index,\n",
    "    plot_insample_df[str_lower_band],\n",
    "    plot_insample_df[str_upper_band],\n",
    "    color='grey',\n",
    "    alpha = 0.05)\n",
    "plt.xlabel(\"Date\")\n",
    "plt.ylabel(\"Price\")\n",
    "plt.legend(loc='upper right')\n",
    "plt.show()"
   ]
  },
  {
   "cell_type": "markdown",
   "id": "839688ca",
   "metadata": {},
   "source": [
    "Define the Indicator(Bollinger Bands) and Buy / Sell Strategy that the backtesting.py library will optimize"
   ]
  },
  {
   "cell_type": "code",
   "execution_count": 12,
   "id": "8b52f9b9",
   "metadata": {},
   "outputs": [],
   "source": [
    "def indicator(data, window, std_dev):\n",
    "    \n",
    "    \"\"\"\n",
    "\n",
    "    Defines the indicator that will be used by the backtesting.py Strategy class.\n",
    "    Uses the pandas ta library to create and return Bollinger Bands to the Strategy class.\n",
    "\n",
    "    Parameters\n",
    "    ----------\n",
    "    data : Dataframe\n",
    "        The Dataframe containing the closing prices that the Bollinger Bands will be created for\n",
    "    window : int\n",
    "        The exponential moving average window to use when calculating the exponential moving average of the closing prices\n",
    "    std_dev : float\n",
    "        The standard deviation that indicates the level above and below the the simple moving average of the closing price\n",
    "\n",
    "    Returns\n",
    "    -------\n",
    "    series\n",
    "        The Bollinger Bands upper, middle and lower bands as a numpy series\n",
    "\n",
    "    \"\"\"\n",
    "    \n",
    "    bbands = ta.bbands(close = data.Close.s, length = window, std = std_dev, mamode=\"ema\")\n",
    "    return bbands.to_numpy().T[:3]\n",
    "\n",
    "class BollingerBandsStrategy(Strategy):\n",
    "    \n",
    "    \"\"\"\n",
    "\n",
    "    Extends from the backtesting.py Strategy Class to create the Bollinger Bands indicator and define the sell and buy rules\n",
    "    \n",
    "    Attributes\n",
    "    ----------\n",
    "    ema_window : float\n",
    "        The exponential moving average window to use when calculating the exponential moving average of the closing prcies\n",
    "    std : float\n",
    "        The standard deviation that indicates the level above and below the the simple moving average of the closing price\n",
    "        \n",
    "    Methods\n",
    "    -------\n",
    "    init()\n",
    "        Creates Bollinger Bands using the indicator() function defined above\n",
    "        \n",
    "    next()\n",
    "        Define the trading logic for the strategy\n",
    "\n",
    "\n",
    "    \"\"\"\n",
    "    \n",
    "    ema_window = 0\n",
    "    std = 0\n",
    "        \n",
    "    def init(self):\n",
    "        \"\"\"\n",
    "        Creates Bollinger Bands using the indicator() function defined\n",
    "\n",
    "        Returns\n",
    "        -------\n",
    "        series\n",
    "            The Bollinger Bands upper, middle and lower bands as a numpy series\n",
    "        \"\"\"\n",
    "        \n",
    "        self.bbands = self.I(indicator, self.data, self.ema_window, self.std)\n",
    "        \n",
    "    def next(self):\n",
    "        \"\"\"\n",
    "        Define the trading logic for the strategy. If the closing price crosses above the upper Bollinger Band, \n",
    "        close the trade. If the closing price crosses below the lower Bollinger band, place a new long order using\n",
    "        the backtesting.py buy() function\n",
    "\n",
    "        Returns\n",
    "        -------\n",
    "        None\n",
    "        \"\"\"\n",
    "        \n",
    "        lower_band = self.bbands[0]\n",
    "        upper_band = self.bbands[2]\n",
    "        \n",
    "        if self.position:\n",
    "            if crossover(self.data.Close, upper_band):\n",
    "                self.position.close()\n",
    "        else:\n",
    "            if crossover(lower_band, self.data.Close):\n",
    "                self.buy()"
   ]
  },
  {
   "cell_type": "markdown",
   "id": "834a8eac",
   "metadata": {},
   "source": [
    "Create and an instance of our Backtest class using:\n",
    "- The **'insample_dataset'** from section 2\n",
    "- Cash of $10,000\n",
    "- Commission at 0.25% per trade\n",
    "- EMA window of 20\n",
    "- Standard Deviation of 2"
   ]
  },
  {
   "cell_type": "code",
   "execution_count": 13,
   "id": "b2f43206",
   "metadata": {
    "scrolled": false
   },
   "outputs": [],
   "source": [
    "bt = Backtest(insample_data, BollingerBandsStrategy, cash=10_000, commission=0.0024)\n",
    "stats = bt.run(ema_window = init_ema_window, std = init_std)"
   ]
  },
  {
   "cell_type": "code",
   "execution_count": 20,
   "id": "347dfcc6",
   "metadata": {},
   "outputs": [
    {
     "data": {
      "text/html": [
       "<div>\n",
       "<style scoped>\n",
       "    .dataframe tbody tr th:only-of-type {\n",
       "        vertical-align: middle;\n",
       "    }\n",
       "\n",
       "    .dataframe tbody tr th {\n",
       "        vertical-align: top;\n",
       "    }\n",
       "\n",
       "    .dataframe thead th {\n",
       "        text-align: right;\n",
       "    }\n",
       "</style>\n",
       "<table border=\"1\" class=\"dataframe\">\n",
       "  <thead>\n",
       "    <tr style=\"text-align: right;\">\n",
       "      <th></th>\n",
       "      <th>Size</th>\n",
       "      <th>EntryBar</th>\n",
       "      <th>ExitBar</th>\n",
       "      <th>EntryPrice</th>\n",
       "      <th>ExitPrice</th>\n",
       "      <th>PnL</th>\n",
       "      <th>ReturnPct</th>\n",
       "      <th>EntryTime</th>\n",
       "      <th>ExitTime</th>\n",
       "      <th>Duration</th>\n",
       "    </tr>\n",
       "  </thead>\n",
       "  <tbody>\n",
       "    <tr>\n",
       "      <th>0</th>\n",
       "      <td>8632</td>\n",
       "      <td>62</td>\n",
       "      <td>344</td>\n",
       "      <td>1.158442</td>\n",
       "      <td>1.126888</td>\n",
       "      <td>-272.378803</td>\n",
       "      <td>-0.027239</td>\n",
       "      <td>2021-11-10 14:00:00+00:00</td>\n",
       "      <td>2021-11-26 10:00:00+00:00</td>\n",
       "      <td>15 days 20:00:00</td>\n",
       "    </tr>\n",
       "    <tr>\n",
       "      <th>1</th>\n",
       "      <td>8614</td>\n",
       "      <td>511</td>\n",
       "      <td>540</td>\n",
       "      <td>1.129210</td>\n",
       "      <td>1.133530</td>\n",
       "      <td>37.208001</td>\n",
       "      <td>0.003825</td>\n",
       "      <td>2021-12-07 11:00:00+00:00</td>\n",
       "      <td>2021-12-08 16:00:00+00:00</td>\n",
       "      <td>1 days 05:00:00</td>\n",
       "    </tr>\n",
       "    <tr>\n",
       "      <th>2</th>\n",
       "      <td>8652</td>\n",
       "      <td>640</td>\n",
       "      <td>676</td>\n",
       "      <td>1.128575</td>\n",
       "      <td>1.132246</td>\n",
       "      <td>31.767279</td>\n",
       "      <td>0.003253</td>\n",
       "      <td>2021-12-14 21:00:00+00:00</td>\n",
       "      <td>2021-12-16 09:00:00+00:00</td>\n",
       "      <td>1 days 12:00:00</td>\n",
       "    </tr>\n",
       "    <tr>\n",
       "      <th>3</th>\n",
       "      <td>8691</td>\n",
       "      <td>712</td>\n",
       "      <td>776</td>\n",
       "      <td>1.127179</td>\n",
       "      <td>1.131350</td>\n",
       "      <td>36.250519</td>\n",
       "      <td>0.003700</td>\n",
       "      <td>2021-12-17 21:00:00+00:00</td>\n",
       "      <td>2021-12-22 14:00:00+00:00</td>\n",
       "      <td>4 days 17:00:00</td>\n",
       "    </tr>\n",
       "    <tr>\n",
       "      <th>4</th>\n",
       "      <td>8682</td>\n",
       "      <td>873</td>\n",
       "      <td>896</td>\n",
       "      <td>1.132527</td>\n",
       "      <td>1.135332</td>\n",
       "      <td>24.345514</td>\n",
       "      <td>0.002476</td>\n",
       "      <td>2021-12-28 16:00:00+00:00</td>\n",
       "      <td>2021-12-29 15:00:00+00:00</td>\n",
       "      <td>0 days 23:00:00</td>\n",
       "    </tr>\n",
       "    <tr>\n",
       "      <th>5</th>\n",
       "      <td>8704</td>\n",
       "      <td>968</td>\n",
       "      <td>1064</td>\n",
       "      <td>1.132399</td>\n",
       "      <td>1.135074</td>\n",
       "      <td>23.277853</td>\n",
       "      <td>0.002362</td>\n",
       "      <td>2022-01-03 16:00:00+00:00</td>\n",
       "      <td>2022-01-07 16:00:00+00:00</td>\n",
       "      <td>4 days 00:00:00</td>\n",
       "    </tr>\n",
       "    <tr>\n",
       "      <th>6</th>\n",
       "      <td>8687</td>\n",
       "      <td>1230</td>\n",
       "      <td>1448</td>\n",
       "      <td>1.137282</td>\n",
       "      <td>1.123595</td>\n",
       "      <td>-118.891519</td>\n",
       "      <td>-0.012034</td>\n",
       "      <td>2022-01-18 16:00:00+00:00</td>\n",
       "      <td>2022-01-31 19:00:00+00:00</td>\n",
       "      <td>13 days 03:00:00</td>\n",
       "    </tr>\n",
       "    <tr>\n",
       "      <th>7</th>\n",
       "      <td>8541</td>\n",
       "      <td>1645</td>\n",
       "      <td>2086</td>\n",
       "      <td>1.142857</td>\n",
       "      <td>1.101807</td>\n",
       "      <td>-350.609380</td>\n",
       "      <td>-0.035919</td>\n",
       "      <td>2022-02-11 01:00:00+00:00</td>\n",
       "      <td>2022-03-09 14:00:00+00:00</td>\n",
       "      <td>26 days 13:00:00</td>\n",
       "    </tr>\n",
       "    <tr>\n",
       "      <th>8</th>\n",
       "      <td>8555</td>\n",
       "      <td>2323</td>\n",
       "      <td>2414</td>\n",
       "      <td>1.099967</td>\n",
       "      <td>1.104118</td>\n",
       "      <td>35.514506</td>\n",
       "      <td>0.003774</td>\n",
       "      <td>2022-03-23 14:00:00+00:00</td>\n",
       "      <td>2022-03-29 11:00:00+01:00</td>\n",
       "      <td>5 days 20:00:00</td>\n",
       "    </tr>\n",
       "    <tr>\n",
       "      <th>9</th>\n",
       "      <td>8625</td>\n",
       "      <td>2539</td>\n",
       "      <td>2794</td>\n",
       "      <td>1.095160</td>\n",
       "      <td>1.084599</td>\n",
       "      <td>-91.092333</td>\n",
       "      <td>-0.009644</td>\n",
       "      <td>2022-04-05 17:00:00+01:00</td>\n",
       "      <td>2022-04-20 10:00:00+01:00</td>\n",
       "      <td>14 days 17:00:00</td>\n",
       "    </tr>\n",
       "    <tr>\n",
       "      <th>10</th>\n",
       "      <td>8697</td>\n",
       "      <td>2863</td>\n",
       "      <td>3042</td>\n",
       "      <td>1.075652</td>\n",
       "      <td>1.061797</td>\n",
       "      <td>-120.499754</td>\n",
       "      <td>-0.012881</td>\n",
       "      <td>2022-04-25 08:00:00+01:00</td>\n",
       "      <td>2022-05-04 20:00:00+01:00</td>\n",
       "      <td>9 days 12:00:00</td>\n",
       "    </tr>\n",
       "    <tr>\n",
       "      <th>11</th>\n",
       "      <td>8807</td>\n",
       "      <td>3174</td>\n",
       "      <td>3246</td>\n",
       "      <td>1.048536</td>\n",
       "      <td>1.049318</td>\n",
       "      <td>6.890056</td>\n",
       "      <td>0.000746</td>\n",
       "      <td>2022-05-12 09:00:00+01:00</td>\n",
       "      <td>2022-05-17 10:00:00+01:00</td>\n",
       "      <td>5 days 01:00:00</td>\n",
       "    </tr>\n",
       "    <tr>\n",
       "      <th>12</th>\n",
       "      <td>8624</td>\n",
       "      <td>3488</td>\n",
       "      <td>3777</td>\n",
       "      <td>1.071513</td>\n",
       "      <td>1.053297</td>\n",
       "      <td>-157.092588</td>\n",
       "      <td>-0.017000</td>\n",
       "      <td>2022-05-31 14:00:00+01:00</td>\n",
       "      <td>2022-06-16 17:00:00+01:00</td>\n",
       "      <td>16 days 03:00:00</td>\n",
       "    </tr>\n",
       "    <tr>\n",
       "      <th>13</th>\n",
       "      <td>8617</td>\n",
       "      <td>3966</td>\n",
       "      <td>4292</td>\n",
       "      <td>1.054270</td>\n",
       "      <td>1.014816</td>\n",
       "      <td>-339.973373</td>\n",
       "      <td>-0.037423</td>\n",
       "      <td>2022-06-28 16:00:00+01:00</td>\n",
       "      <td>2022-07-18 09:00:00+01:00</td>\n",
       "      <td>19 days 17:00:00</td>\n",
       "    </tr>\n",
       "    <tr>\n",
       "      <th>14</th>\n",
       "      <td>8601</td>\n",
       "      <td>4388</td>\n",
       "      <td>4613</td>\n",
       "      <td>1.016633</td>\n",
       "      <td>1.025115</td>\n",
       "      <td>72.958100</td>\n",
       "      <td>0.008344</td>\n",
       "      <td>2022-07-22 09:00:00+01:00</td>\n",
       "      <td>2022-08-04 20:00:00+01:00</td>\n",
       "      <td>13 days 11:00:00</td>\n",
       "    </tr>\n",
       "    <tr>\n",
       "      <th>15</th>\n",
       "      <td>8620</td>\n",
       "      <td>4770</td>\n",
       "      <td>4988</td>\n",
       "      <td>1.022857</td>\n",
       "      <td>1.003915</td>\n",
       "      <td>-163.278516</td>\n",
       "      <td>-0.018519</td>\n",
       "      <td>2022-08-15 11:00:00+01:00</td>\n",
       "      <td>2022-08-26 14:00:00+01:00</td>\n",
       "      <td>11 days 03:00:00</td>\n",
       "    </tr>\n",
       "    <tr>\n",
       "      <th>16</th>\n",
       "      <td>8694</td>\n",
       "      <td>5001</td>\n",
       "      <td>5182</td>\n",
       "      <td>0.995333</td>\n",
       "      <td>0.997407</td>\n",
       "      <td>18.028041</td>\n",
       "      <td>0.002083</td>\n",
       "      <td>2022-08-29 04:00:00+01:00</td>\n",
       "      <td>2022-09-07 18:00:00+01:00</td>\n",
       "      <td>9 days 14:00:00</td>\n",
       "    </tr>\n",
       "    <tr>\n",
       "      <th>17</th>\n",
       "      <td>8653</td>\n",
       "      <td>5276</td>\n",
       "      <td>5347</td>\n",
       "      <td>1.002200</td>\n",
       "      <td>1.003210</td>\n",
       "      <td>8.746104</td>\n",
       "      <td>0.001009</td>\n",
       "      <td>2022-09-13 17:00:00+01:00</td>\n",
       "      <td>2022-09-16 16:00:00+01:00</td>\n",
       "      <td>2 days 23:00:00</td>\n",
       "    </tr>\n",
       "    <tr>\n",
       "      <th>18</th>\n",
       "      <td>8746</td>\n",
       "      <td>5410</td>\n",
       "      <td>5539</td>\n",
       "      <td>0.992475</td>\n",
       "      <td>0.970780</td>\n",
       "      <td>-189.750700</td>\n",
       "      <td>-0.021860</td>\n",
       "      <td>2022-09-21 08:00:00+01:00</td>\n",
       "      <td>2022-09-28 18:00:00+01:00</td>\n",
       "      <td>7 days 10:00:00</td>\n",
       "    </tr>\n",
       "    <tr>\n",
       "      <th>19</th>\n",
       "      <td>8743</td>\n",
       "      <td>5777</td>\n",
       "      <td>5800</td>\n",
       "      <td>0.971224</td>\n",
       "      <td>0.977995</td>\n",
       "      <td>59.201702</td>\n",
       "      <td>0.006972</td>\n",
       "      <td>2022-10-12 18:00:00+01:00</td>\n",
       "      <td>2022-10-13 17:00:00+01:00</td>\n",
       "      <td>0 days 23:00:00</td>\n",
       "    </tr>\n",
       "    <tr>\n",
       "      <th>20</th>\n",
       "      <td>8676</td>\n",
       "      <td>6136</td>\n",
       "      <td>6179</td>\n",
       "      <td>0.985450</td>\n",
       "      <td>0.993542</td>\n",
       "      <td>70.203763</td>\n",
       "      <td>0.008211</td>\n",
       "      <td>2022-11-02 20:00:00+00:00</td>\n",
       "      <td>2022-11-04 15:00:00+00:00</td>\n",
       "      <td>1 days 19:00:00</td>\n",
       "    </tr>\n",
       "  </tbody>\n",
       "</table>\n",
       "</div>"
      ],
      "text/plain": [
       "    Size  EntryBar  ExitBar  EntryPrice  ExitPrice         PnL  ReturnPct  \\\n",
       "0   8632        62      344    1.158442   1.126888 -272.378803  -0.027239   \n",
       "1   8614       511      540    1.129210   1.133530   37.208001   0.003825   \n",
       "2   8652       640      676    1.128575   1.132246   31.767279   0.003253   \n",
       "3   8691       712      776    1.127179   1.131350   36.250519   0.003700   \n",
       "4   8682       873      896    1.132527   1.135332   24.345514   0.002476   \n",
       "5   8704       968     1064    1.132399   1.135074   23.277853   0.002362   \n",
       "6   8687      1230     1448    1.137282   1.123595 -118.891519  -0.012034   \n",
       "7   8541      1645     2086    1.142857   1.101807 -350.609380  -0.035919   \n",
       "8   8555      2323     2414    1.099967   1.104118   35.514506   0.003774   \n",
       "9   8625      2539     2794    1.095160   1.084599  -91.092333  -0.009644   \n",
       "10  8697      2863     3042    1.075652   1.061797 -120.499754  -0.012881   \n",
       "11  8807      3174     3246    1.048536   1.049318    6.890056   0.000746   \n",
       "12  8624      3488     3777    1.071513   1.053297 -157.092588  -0.017000   \n",
       "13  8617      3966     4292    1.054270   1.014816 -339.973373  -0.037423   \n",
       "14  8601      4388     4613    1.016633   1.025115   72.958100   0.008344   \n",
       "15  8620      4770     4988    1.022857   1.003915 -163.278516  -0.018519   \n",
       "16  8694      5001     5182    0.995333   0.997407   18.028041   0.002083   \n",
       "17  8653      5276     5347    1.002200   1.003210    8.746104   0.001009   \n",
       "18  8746      5410     5539    0.992475   0.970780 -189.750700  -0.021860   \n",
       "19  8743      5777     5800    0.971224   0.977995   59.201702   0.006972   \n",
       "20  8676      6136     6179    0.985450   0.993542   70.203763   0.008211   \n",
       "\n",
       "                   EntryTime                  ExitTime         Duration  \n",
       "0  2021-11-10 14:00:00+00:00 2021-11-26 10:00:00+00:00 15 days 20:00:00  \n",
       "1  2021-12-07 11:00:00+00:00 2021-12-08 16:00:00+00:00  1 days 05:00:00  \n",
       "2  2021-12-14 21:00:00+00:00 2021-12-16 09:00:00+00:00  1 days 12:00:00  \n",
       "3  2021-12-17 21:00:00+00:00 2021-12-22 14:00:00+00:00  4 days 17:00:00  \n",
       "4  2021-12-28 16:00:00+00:00 2021-12-29 15:00:00+00:00  0 days 23:00:00  \n",
       "5  2022-01-03 16:00:00+00:00 2022-01-07 16:00:00+00:00  4 days 00:00:00  \n",
       "6  2022-01-18 16:00:00+00:00 2022-01-31 19:00:00+00:00 13 days 03:00:00  \n",
       "7  2022-02-11 01:00:00+00:00 2022-03-09 14:00:00+00:00 26 days 13:00:00  \n",
       "8  2022-03-23 14:00:00+00:00 2022-03-29 11:00:00+01:00  5 days 20:00:00  \n",
       "9  2022-04-05 17:00:00+01:00 2022-04-20 10:00:00+01:00 14 days 17:00:00  \n",
       "10 2022-04-25 08:00:00+01:00 2022-05-04 20:00:00+01:00  9 days 12:00:00  \n",
       "11 2022-05-12 09:00:00+01:00 2022-05-17 10:00:00+01:00  5 days 01:00:00  \n",
       "12 2022-05-31 14:00:00+01:00 2022-06-16 17:00:00+01:00 16 days 03:00:00  \n",
       "13 2022-06-28 16:00:00+01:00 2022-07-18 09:00:00+01:00 19 days 17:00:00  \n",
       "14 2022-07-22 09:00:00+01:00 2022-08-04 20:00:00+01:00 13 days 11:00:00  \n",
       "15 2022-08-15 11:00:00+01:00 2022-08-26 14:00:00+01:00 11 days 03:00:00  \n",
       "16 2022-08-29 04:00:00+01:00 2022-09-07 18:00:00+01:00  9 days 14:00:00  \n",
       "17 2022-09-13 17:00:00+01:00 2022-09-16 16:00:00+01:00  2 days 23:00:00  \n",
       "18 2022-09-21 08:00:00+01:00 2022-09-28 18:00:00+01:00  7 days 10:00:00  \n",
       "19 2022-10-12 18:00:00+01:00 2022-10-13 17:00:00+01:00  0 days 23:00:00  \n",
       "20 2022-11-02 20:00:00+00:00 2022-11-04 15:00:00+00:00  1 days 19:00:00  "
      ]
     },
     "execution_count": 20,
     "metadata": {},
     "output_type": "execute_result"
    }
   ],
   "source": [
    "stats['_trades']"
   ]
  },
  {
   "cell_type": "markdown",
   "id": "574c9464",
   "metadata": {},
   "source": [
    "Create a table with the Sharpe Ratio, Proft and Loss (PnL) and Return percentage from the backtest"
   ]
  },
  {
   "cell_type": "code",
   "execution_count": 14,
   "id": "7c2e54ed",
   "metadata": {},
   "outputs": [],
   "source": [
    "pnl_backtest = np.cumsum(stats['_trades'])\n",
    "pnl_backtest_val = pnl_backtest['PnL'].iloc[-1]"
   ]
  },
  {
   "cell_type": "code",
   "execution_count": 23,
   "id": "ad4a1370",
   "metadata": {},
   "outputs": [
    {
     "name": "stdout",
     "output_type": "stream",
     "text": [
      "Backesting results with investment of 10000 and commission of 0.25%\n",
      "\n",
      "Result            Value\n",
      "----------------  -------------------------\n",
      "Start Date        2021-11-08 00:00:00+00:00\n",
      "End Date          2022-11-07 23:00:00+00:00\n",
      "Peak Equity       10000.0\n",
      "Final Equity      8620.824472095164\n",
      "Sharpe Ratio      0.0\n",
      "PnL               $-1379.176\n",
      "Return %          -13.792%\n",
      "Win Rate [%]      57.143%\n",
      "Number of trades  21\n"
     ]
    }
   ],
   "source": [
    "backtest_results_table = [\n",
    "    [\"Start Date\",stats['Start']],\n",
    "    [\"End Date\",stats['End']],\n",
    "    [\"Peak Equity\",stats['Equity Peak [$]']],\n",
    "    [\"Final Equity\",stats['Equity Final [$]']],\n",
    "    [\"Sharpe Ratio\",round(stats['Sharpe Ratio'], 5)], \n",
    "    [\"PnL\", f\"${round(pnl_backtest_val, 3)}\"],\n",
    "    [\"Return %\", f\"{round(stats['Return [%]'], 3)}%\"],\n",
    "    [\"Win Rate [%]\", f\"{round(stats['Win Rate [%]'], 3)}%\"],\n",
    "    [\"Number of trades\",len(stats['_trades'])]\n",
    "]\n",
    "\n",
    "print(f\"Backesting results with investment of {10000} and commission of 0.25%\\n\")\n",
    "print(tabulate(backtest_results_table, headers=[\"Result\", \"Value\"]))    "
   ]
  },
  {
   "cell_type": "markdown",
   "id": "5e62a0e3",
   "metadata": {},
   "source": [
    "Plot the Close-to-Close equity lines"
   ]
  },
  {
   "cell_type": "code",
   "execution_count": 24,
   "id": "be5ab57b",
   "metadata": {},
   "outputs": [],
   "source": [
    "backtest_pnl = pd.DataFrame(stats['_trades'][\"PnL\"].copy())\n",
    "backtest_pnl[\"PnL CumSum\"] = backtest_pnl[\"PnL\"].cumsum()"
   ]
  },
  {
   "cell_type": "code",
   "execution_count": 25,
   "id": "c007e9b7",
   "metadata": {},
   "outputs": [
    {
     "data": {
      "image/png": "[encoded data removed]",
      "text/plain": [
       "<Figure size 640x480 with 1 Axes>"
      ]
     },
     "metadata": {},
     "output_type": "display_data"
    }
   ],
   "source": [
    "# Plot the cummulative PnL from the backtest\n",
    "plt.title(forex_pair+\" Equity Lines | EMA \"+str(init_ema_window)+\" | STD \"+str(init_std))\n",
    "plt.plot(\n",
    "    backtest_pnl.index,\n",
    "    backtest_pnl[\"PnL CumSum\"],\n",
    "    label = \"Cummulative PnL\")\n",
    "plt.xlabel(\"Number of Trades\")\n",
    "plt.ylabel(\"Cummulative PnL\")\n",
    "plt.legend(loc='upper right')\n",
    "plt.show()"
   ]
  },
  {
   "cell_type": "markdown",
   "id": "08dc334a",
   "metadata": {},
   "source": [
    "### 1.3 Optmizing strategy to select best-performing hyperparameters"
   ]
  },
  {
   "cell_type": "markdown",
   "id": "e4866a62",
   "metadata": {},
   "source": [
    "Run the backesting.py **optimize()** function using the Simple Moving Average Window and Standard Deviation as the parameters to optmize"
   ]
  },
  {
   "cell_type": "code",
   "execution_count": 26,
   "id": "b806ee98",
   "metadata": {
    "scrolled": false
   },
   "outputs": [
    {
     "name": "stderr",
     "output_type": "stream",
     "text": [
      "C:\\Users\\Sama\\anaconda3\\Lib\\site-packages\\backtesting\\backtesting.py:1488: UserWarning: Searching for best of 561 configurations.\n",
      "  output = _optimize_grid()\n"
     ]
    },
    {
     "data": {
      "application/vnd.jupyter.widget-view+json": {
       "model_id": "",
       "version_major": 2,
       "version_minor": 0
      },
      "text/plain": [
       "  0%|          | 0/13 [00:00<?, ?it/s]"
      ]
     },
     "metadata": {},
     "output_type": "display_data"
    }
   ],
   "source": [
    "optimized_stats, heatmap = bt.optimize(\n",
    "    ema_window = range(20, 71, 1),\n",
    "    std = list(np.round(np.linspace(1, 3, 11), 1)),\n",
    "    maximize = 'Equity Final [$]',\n",
    "    return_heatmap = True\n",
    ")\n",
    "\n",
    "hm = heatmap.groupby([\"ema_window\", \"std\"]).mean().unstack()"
   ]
  },
  {
   "cell_type": "markdown",
   "id": "79e82a58",
   "metadata": {},
   "source": [
    "Create a second table with the Sharpe Ratio, Proft and Loss (PnL) and Return percentage from the optimized backtest"
   ]
  },
  {
   "cell_type": "code",
   "execution_count": 27,
   "id": "9e8ade70",
   "metadata": {},
   "outputs": [],
   "source": [
    "pnl_optimized = np.cumsum(optimized_stats['_trades'])\n",
    "pnl_optimized_val = pnl_optimized['PnL'].iloc[-1]"
   ]
  },
  {
   "cell_type": "code",
   "execution_count": 28,
   "id": "fbad302c",
   "metadata": {},
   "outputs": [
    {
     "name": "stdout",
     "output_type": "stream",
     "text": [
      "Backesting reults with EMA Window and Standard Deviation optimized\n",
      "\n",
      "Result            Value\n",
      "----------------  -------------------------\n",
      "Start Date        2021-11-08 00:00:00+00:00\n",
      "End Date          2022-11-07 23:00:00+00:00\n",
      "Peak Equity       10074.194076990705\n",
      "Final Equity      10062.080644106489\n",
      "Sharpe Ratio      0.08097\n",
      "PnL               $62.081\n",
      "Return %          0.621%\n",
      "Win Rate [%]      50.0%\n",
      "Number of trades  14\n"
     ]
    }
   ],
   "source": [
    "optimized_backtest_results_table = [\n",
    "    [\"Start Date\", optimized_stats['Start']],\n",
    "    [\"End Date\", optimized_stats['End']],\n",
    "    [\"Peak Equity\", optimized_stats['Equity Peak [$]']],\n",
    "    [\"Final Equity\",optimized_stats['Equity Final [$]']],\n",
    "    [\"Sharpe Ratio\", round(optimized_stats['Sharpe Ratio'], 5)], \n",
    "    [\"PnL\", f\"${round(pnl_optimized_val,3)}\"],\n",
    "    [\"Return %\", f\"{round(optimized_stats['Return [%]'], 3)}%\"],\n",
    "    [\"Win Rate [%]\", f\"{round(optimized_stats['Win Rate [%]'], 3)}%\"],\n",
    "    [\"Number of trades\", len(optimized_stats['_trades'])]\n",
    "]\n",
    "\n",
    "print(f\"Backesting reults with EMA Window and Standard Deviation optimized\\n\")\n",
    "print(tabulate(optimized_backtest_results_table, headers=[\"Result\", \"Value\"]))                         "
   ]
  },
  {
   "cell_type": "markdown",
   "id": "37bcb785",
   "metadata": {},
   "source": [
    "Plot the close-to-close equity lines"
   ]
  },
  {
   "cell_type": "code",
   "execution_count": 34,
   "id": "61065209",
   "metadata": {},
   "outputs": [],
   "source": [
    "validate_pnl = pd.DataFrame(optimized_stats['_trades'][\"PnL\"].copy())\n",
    "validate_pnl[\"PnL CumSum\"] = validate_pnl[\"PnL\"].cumsum()"
   ]
  },
  {
   "cell_type": "code",
   "execution_count": 35,
   "id": "f23f1fa1",
   "metadata": {},
   "outputs": [
    {
     "data": {
      "image/png": "[encoded data removed]",
      "text/plain": [
       "<Figure size 640x480 with 1 Axes>"
      ]
     },
     "metadata": {},
     "output_type": "display_data"
    }
   ],
   "source": [
    "# Plot the cummulative PnL from the optimized backtest\n",
    "plt.title(forex_pair+\" Equity Lines Backtest\")\n",
    "plt.plot(\n",
    "    validate_pnl.index,\n",
    "    validate_pnl[\"PnL CumSum\"],\n",
    "    label = \"Cummulative PnL\")\n",
    "plt.xlabel(\"Number of Trades\")\n",
    "plt.ylabel(\"Cummulative PnL\")\n",
    "plt.legend(loc='upper right')\n",
    "plt.show()"
   ]
  },
  {
   "cell_type": "markdown",
   "id": "db9962dc",
   "metadata": {},
   "source": [
    "Plot a heatmap of the best-performing hyperparameters"
   ]
  },
  {
   "cell_type": "code",
   "execution_count": 36,
   "id": "af97046f",
   "metadata": {},
   "outputs": [
    {
     "data": {
      "image/png": "[encoded data removed]",
      "text/plain": [
       "<Figure size 640x480 with 2 Axes>"
      ]
     },
     "metadata": {},
     "output_type": "display_data"
    }
   ],
   "source": [
    "pricing_hm = sns.heatmap(hm[::-1], cmap='viridis')\n",
    "pricing_hm.set(xlabel='Standard Deviation', ylabel='EMA Window')\n",
    "plt.show()"
   ]
  },
  {
   "cell_type": "markdown",
   "id": "b846a166",
   "metadata": {},
   "source": [
    "### 1.4 Cross validation"
   ]
  },
  {
   "cell_type": "markdown",
   "id": "b4858f44",
   "metadata": {},
   "source": [
    "Get the optimal parameters"
   ]
  },
  {
   "cell_type": "code",
   "execution_count": 38,
   "id": "89a4ac46",
   "metadata": {},
   "outputs": [
    {
     "name": "stdout",
     "output_type": "stream",
     "text": [
      "Optimal standard deviation is 2.8\n",
      "Optimal EMA Window is 68\n"
     ]
    }
   ],
   "source": [
    "optimized_std = optimized_stats['_strategy'].std\n",
    "optimized_window = optimized_stats['_strategy'].ema_window\n",
    "\n",
    "print(f\"Optimal standard deviation is {optimized_std}\")\n",
    "print(f\"Optimal EMA Window is {optimized_window}\")"
   ]
  },
  {
   "cell_type": "markdown",
   "id": "26596878",
   "metadata": {},
   "source": [
    "Run an instance of our Backtest class using  from section 2 using:\n",
    "- The **'outsample_dataset'** from section 1.1\n",
    "- Cash of $10,000\n",
    "- Commission at 1%\n",
    "- The optimized EMA window\n",
    "- The optimized standard deviation"
   ]
  },
  {
   "cell_type": "code",
   "execution_count": null,
   "id": "5cc0749c",
   "metadata": {},
   "outputs": [],
   "source": [
    "bt_optimal = Backtest(outsample_data, BollingerBandsStrategy, cash=10_000, commission=0.0024)\n",
    "stats_optimal = bt_optimal.run(ema_window = optimized_window, std = optimized_std)"
   ]
  },
  {
   "cell_type": "markdown",
   "id": "1a04d116",
   "metadata": {},
   "source": [
    "Create a table with the Sharpe Ratio, Proft and Loss (PnL) and Return percentage from the backtest"
   ]
  },
  {
   "cell_type": "code",
   "execution_count": null,
   "id": "21e6a392",
   "metadata": {},
   "outputs": [],
   "source": [
    "pnl_rerun = np.cumsum(stats_optimal['_trades'])\n",
    "pnl_rerun_val = pnl_rerun['PnL'].iloc[-1]"
   ]
  },
  {
   "cell_type": "code",
   "execution_count": null,
   "id": "6a1710f1",
   "metadata": {},
   "outputs": [],
   "source": [
    "optimized_backtest_results_table = [\n",
    "    [\"Start Date\", stats_optimal['Start']],\n",
    "    [\"End Date\", stats_optimal['End']],\n",
    "    [\"Peak Equity\", stats_optimal['Equity Peak [$]']],\n",
    "    [\"Final Equity\",stats_optimal['Equity Final [$]']],\n",
    "    [\"Sharpe Ratio\", round(stats_optimal['Sharpe Ratio'], 5)], \n",
    "    [\"PnL\", f\"${round(pnl_rerun_val,3)}\"],\n",
    "    [\"Return %\", f\"{round(stats_optimal['Return [%]'], 3)}%\"],\n",
    "    [\"Win Rate [%]\", f\"{round(stats_optimal['Win Rate [%]'], 3)}%\"],\n",
    "    [\"Number of trades\", len(stats_optimal['_trades'])]\n",
    "]\n",
    "\n",
    "print(f\"Backesting optimized reults with investment of {10000} and commission of 1%\\n\")\n",
    "print(tabulate(optimized_backtest_results_table, headers=[\"Result\", \"Value\"]))                         "
   ]
  },
  {
   "cell_type": "markdown",
   "id": "958e7007",
   "metadata": {},
   "source": [
    "Plot Close to Close Equity Lines"
   ]
  },
  {
   "cell_type": "code",
   "execution_count": null,
   "id": "b756beac",
   "metadata": {},
   "outputs": [],
   "source": [
    "rerun_pnl = pd.DataFrame(stats_optimal['_trades'][\"PnL\"].copy())\n",
    "rerun_pnl[\"PnL CumSum\"] = rerun_pnl[\"PnL\"].cumsum()\n",
    "\n",
    "# Plot the cummulative PnL from the cross-validation\n",
    "plt.title(forex_pair+\" Equity Lines | EMA \"+str(optimized_window)+\" | STD \"+str(optimized_std))\n",
    "plt.plot(\n",
    "    rerun_pnl.index,\n",
    "    rerun_pnl[\"PnL CumSum\"],\n",
    "    label = \"Cummulative PnL\")\n",
    "plt.xlabel(\"Number of Trades\")\n",
    "plt.ylabel(\"Cummulative PnL\")\n",
    "plt.legend(loc='upper right')\n",
    "plt.show()"
   ]
  },
  {
   "cell_type": "markdown",
   "id": "c18d2703",
   "metadata": {},
   "source": [
    "### 2. Backtesting, Cross-Validation and Saving Metrics for more currency pairs"
   ]
  },
  {
   "cell_type": "markdown",
   "id": "feed42b2",
   "metadata": {},
   "source": [
    "Create a list of the currency pairs to test, excluding EUR/USD"
   ]
  },
  {
   "cell_type": "code",
   "execution_count": null,
   "id": "edbf1ce5",
   "metadata": {},
   "outputs": [],
   "source": [
    "currency_pairs = ['USDJPY=X',\n",
    "                  'GBPUSD=X',\n",
    "                  'AUDUSD=X',\n",
    "                  'USDCAD=X',\n",
    "                  'USDCHF=X',\n",
    "                  'EURGBP=X',\n",
    "                  'EURJPY=X',\n",
    "                  'GBPJPY=X',\n",
    "                  'EURCHF=X',\n",
    "                  'USDNOK=X',\n",
    "                  'USDCNY=X',\n",
    "                  'EURCAD=X',\n",
    "                  'USDHKD=X',\n",
    "                  'USDSGD=X']"
   ]
  },
  {
   "cell_type": "markdown",
   "id": "1c7f724b",
   "metadata": {},
   "source": [
    "Create the direcories insample and outsample to hold the insample and outsample data"
   ]
  },
  {
   "cell_type": "code",
   "execution_count": null,
   "id": "b96395c7",
   "metadata": {},
   "outputs": [],
   "source": [
    "insample_dir = 'insample'\n",
    "if not os.path.exists(insample_dir):\n",
    "    os.mkdir(insample_dir)\n",
    "    \n",
    "outsample_dir = 'outsample'\n",
    "if not os.path.exists(outsample_dir):\n",
    "    os.mkdir(outsample_dir)"
   ]
  },
  {
   "cell_type": "markdown",
   "id": "b6a4d170",
   "metadata": {},
   "source": [
    "Download the data from the API for each and save it into a csv file"
   ]
  },
  {
   "cell_type": "code",
   "execution_count": null,
   "id": "02c7d365",
   "metadata": {},
   "outputs": [],
   "source": [
    "for forex_pair in currency_pairs:\n",
    "    \n",
    "    data = yf.download(forex_pair, interval = interval, start = start_date)\n",
    "\n",
    "    # Slice the downloaded two-year data into two datasets\n",
    "    fx_insample_data = pd.DataFrame(data.loc[last_729_days_date : slice_one_end_date].copy())\n",
    "    fx_outsample_data = pd.DataFrame(data.loc[slice_two_start_date:today].copy())\n",
    "    \n",
    "    insample_filename = \"insample_\"+forex_pair+\".csv\"\n",
    "    outsample_filename = \"outsample_\"+forex_pair+\".csv\"\n",
    "    \n",
    "    # Save the CSV files to their respective directories\n",
    "    fx_insample_data.to_csv(\"insample/\"+insample_filename)\n",
    "    fx_outsample_data.to_csv(\"outsample/\"+outsample_filename)"
   ]
  },
  {
   "cell_type": "markdown",
   "id": "c18aad69",
   "metadata": {},
   "source": [
    "### 2.1 Backtest and save historical data"
   ]
  },
  {
   "cell_type": "markdown",
   "id": "3e355e48",
   "metadata": {},
   "source": [
    "Define the function that will run the backtests for the currency pair list above using the strategy **BollingerBandsStrategy**. Backtest the 15 currency pairs with the bollinger bands strategy, using the saved historical data for 2005 to 2013 in the directory backtestdata/"
   ]
  },
  {
   "cell_type": "code",
   "execution_count": null,
   "id": "ab11b494",
   "metadata": {},
   "outputs": [],
   "source": [
    "def backtest_strategy(param_cash, param_commission):\n",
    "    \n",
    "    \"\"\"\n",
    "    Runs the backtesting BollingerBandsStrategy strategy on the currency pair data in the insample directory\n",
    "    using the default EMA of 60 and Standard Deviation of 2\n",
    "\n",
    "    Parameters\n",
    "    ----------\n",
    "    param_cash : int\n",
    "        The amount of money that will be traded in the backtest\n",
    "    param_commission : float\n",
    "        The percentage commission that will be given to the broker for each trade executed\n",
    "\n",
    "    Returns\n",
    "    -------\n",
    "    insample_file_data : list\n",
    "        A list of backtest statistics and optimized parameters for each currency pair dataset in the insample directory\n",
    "\n",
    "    \"\"\"\n",
    "    \n",
    "    index = 0\n",
    "    insample_file_data = []\n",
    "    insample_files = os.listdir(insample_dir)\n",
    "    \n",
    "    while index < len(insample_files):\n",
    "        try:\n",
    "            filename = insample_dir + \"/\" + insample_files[index]\n",
    "            symbol = filename[18:26]\n",
    "            \n",
    "            file_data = pd.read_csv(filename)\n",
    "            \n",
    "            data_df = file_data.copy()\n",
    "            data_df.index = pd.DatetimeIndex(pd.to_datetime(data_df['Datetime'], utc=True))\n",
    "            data_df.sort_index(ascending=True, inplace=True)\n",
    "            \n",
    "            bt = Backtest(data_df, BollingerBandsStrategy, cash = param_cash, commission = param_commission)\n",
    "            stats = bt.run(ema_window=init_ema_window, std=init_std)\n",
    "\n",
    "            optimized_stats = bt.optimize(\n",
    "                ema_window=range(20, 71, 1),\n",
    "                std=list(np.round(np.linspace(1, 3, 11), 1)),\n",
    "                maximize='Equity Final [$]',\n",
    "                return_heatmap=False\n",
    "            )\n",
    "            \n",
    "            optmized_std = optimized_stats['_strategy'].std\n",
    "            optimized_window = optimized_stats['_strategy'].ema_window\n",
    "            \n",
    "            insample_file_data.append(list([symbol, stats, optmized_std, optimized_window]))\n",
    "        \n",
    "        except FileNotFoundError:\n",
    "            print(f\"File {filename} not found\")\n",
    "        \n",
    "        except ValueError:\n",
    "            continue\n",
    "        \n",
    "        finally:\n",
    "            index += 1\n",
    "            \n",
    "    return insample_file_data"
   ]
  },
  {
   "cell_type": "code",
   "execution_count": null,
   "id": "9c424668",
   "metadata": {},
   "outputs": [],
   "source": [
    "bulk_backtest_results = backtest_strategy(10_000, 0.0024)"
   ]
  },
  {
   "cell_type": "markdown",
   "id": "234575bb",
   "metadata": {},
   "source": [
    "Save the **backtest** metrics into a list and write the data into a csv file"
   ]
  },
  {
   "cell_type": "code",
   "execution_count": null,
   "id": "7766bc25",
   "metadata": {
    "scrolled": false
   },
   "outputs": [],
   "source": [
    "backtest_metrics = []\n",
    "backtest_header = [\"Currency Pair\", \"Start Date\", \"End Date\", \"Peak Equity\", \"Final Equity\", \"PnL\", \"Return Pct\",\n",
    "          \"Sharpe Ratio\", \"Win Rate\", \"Profit Factor\", \"Number of Trades\", \"Optimal STD\", \"Optimal EMA\"]\n",
    "\n",
    "for result in bulk_backtest_results:\n",
    "    if(len(result[1]['_trades']) > 0):\n",
    "        pnl_col = np.cumsum(result[1]['_trades']['PnL'])\n",
    "        result_pnl = pnl_col.iloc[-1]\n",
    "    else:\n",
    "        result_pnl = 0\n",
    "\n",
    "    backtest_metrics.append(list([\n",
    "        result[0],\n",
    "        result[1]['Start'],\n",
    "        result[1]['End'],\n",
    "        result[1]['Equity Peak [$]'],\n",
    "        result[1]['Equity Final [$]'],\n",
    "        result_pnl,\n",
    "        result[1]['Return [%]'],\n",
    "        result[1]['Sharpe Ratio'],\n",
    "        result[1]['Win Rate [%]'],\n",
    "        result[1]['Profit Factor'],\n",
    "        len(result[1]['_trades']),\n",
    "        result[2],\n",
    "        result[3]\n",
    "    ]))"
   ]
  },
  {
   "cell_type": "markdown",
   "id": "bfdfc1dc",
   "metadata": {},
   "source": [
    "Write the data to the file **backtest_metrics.csv**"
   ]
  },
  {
   "cell_type": "code",
   "execution_count": null,
   "id": "7c1d3b94",
   "metadata": {},
   "outputs": [],
   "source": [
    "with open('backtest_metrics.csv', 'w', encoding='UTF8', newline='') as f:\n",
    "    writer = csv.writer(f)\n",
    "\n",
    "    # Write the header to the CSV file\n",
    "    writer.writerow(backtest_header)\n",
    "\n",
    "    # Write each item in the backtest_metrics list as a row in the CSV file\n",
    "    writer.writerows(backtest_metrics)"
   ]
  },
  {
   "cell_type": "markdown",
   "id": "0e791841",
   "metadata": {},
   "source": [
    "### 2.2 Cross-validate and save cross-validation data"
   ]
  },
  {
   "cell_type": "markdown",
   "id": "f14ee047",
   "metadata": {},
   "source": [
    "Define the function that will run the backtests for the currency pair list above using the strategy **OptBollingerBandsStrategy**. Backtest the 15 currency pairs with the optimized bollinger bands strategy, using the saved data for 2013 to 2022 in the directory rerundata/"
   ]
  },
  {
   "cell_type": "code",
   "execution_count": null,
   "id": "6aa22b87",
   "metadata": {},
   "outputs": [],
   "source": [
    "insample_file_data = []\n",
    "\n",
    "def validate_strategy(param_cash, param_commission):\n",
    "    \"\"\"\n",
    "    Cross-validates the strategy by running the backtesting BollingerBandsStrategy strategy on the currency pair data\n",
    "    in the outsample directory. The optimal EMA and Standard Deviation used for each currency pair dataset are selected from\n",
    "    the backtest optimization\n",
    "\n",
    "    Parameters\n",
    "    ----------\n",
    "    param_cash : int\n",
    "        The amount of money that will be traded in the backtest\n",
    "    param_commission : float\n",
    "        The percentage commission that will be given to the broker for each trade executed\n",
    "\n",
    "    Returns\n",
    "    -------\n",
    "    outsample_file_data : list\n",
    "        A list of cross-validation statistics for each currency pair dataset in the outsample directory\n",
    "\n",
    "    \"\"\"\n",
    "    index = 0\n",
    "    outsample_file_data = []\n",
    "    outsample_files = os.listdir(outsample_dir)\n",
    "    \n",
    "    while index < len(outsample_files):\n",
    "        try:\n",
    "            filename = outsample_dir + \"/\" + outsample_files[index]\n",
    "            symbol = filename[20:26]\n",
    "            \n",
    "            file_data = pd.read_csv(filename)   \n",
    "            \n",
    "            data_df = file_data.copy()\n",
    "            data_df.index = pd.DatetimeIndex(pd.to_datetime(data_df['Datetime'], utc=True))\n",
    "            data_df.sort_index(ascending=True, inplace=True)\n",
    "            \n",
    "            # Select the optimal EMA Window and Standard Deviation from the backtest metrics file\n",
    "            metrics_data = pd.read_csv('backtest_metrics.csv')\n",
    "            optimal_ema = metrics_data.loc[metrics_data[\"Currency Pair\"] == symbol + \"=X\"][\"Optimal EMA\"][index]\n",
    "            optimal_std = metrics_data.loc[metrics_data[\"Currency Pair\"] == symbol + \"=X\"][\"Optimal STD\"][index]\n",
    "            \n",
    "            bt = Backtest(data_df, BollingerBandsStrategy, cash=param_cash, commission=param_commission)\n",
    "            stats = bt.run(ema_window=optimal_ema, std=optimal_std)\n",
    "\n",
    "            outsample_file_data.append(list([symbol, stats]))\n",
    "            \n",
    "        except FileNotFoundError:\n",
    "            print(f\"File {filename} not found\")\n",
    "        \n",
    "        except ValueError:\n",
    "            continue\n",
    "            \n",
    "        finally:\n",
    "            index += 1\n",
    "            \n",
    "    return outsample_file_data"
   ]
  },
  {
   "cell_type": "code",
   "execution_count": null,
   "id": "8385131a",
   "metadata": {},
   "outputs": [],
   "source": [
    "bulk_validate_results = validate_strategy(10_000, 0.0024)"
   ]
  },
  {
   "cell_type": "markdown",
   "id": "0efd8a6b",
   "metadata": {},
   "source": [
    "Save the **validation** metrics into a list and write the data into a csv file"
   ]
  },
  {
   "cell_type": "code",
   "execution_count": null,
   "id": "d35bfc93",
   "metadata": {},
   "outputs": [],
   "source": [
    "validate_metrics = []\n",
    "for result in bulk_validate_results:\n",
    "    if(len(result[1]['_trades']) > 0):\n",
    "        pnl_col = np.cumsum(result[1]['_trades']['PnL'])\n",
    "        result_pnl = pnl_col.iloc[-1]\n",
    "    else:\n",
    "        result_pnl = 0\n",
    "\n",
    "    validate_metrics.append(list([\n",
    "        result[0],\n",
    "        result[1]['Start'],\n",
    "        result[1]['End'],\n",
    "        result[1]['Equity Peak [$]'],\n",
    "        result[1]['Equity Final [$]'],\n",
    "        result_pnl,\n",
    "        result[1]['Return [%]'],\n",
    "        result[1]['Sharpe Ratio'],\n",
    "        result[1]['Win Rate [%]'],\n",
    "        result[1]['Profit Factor'],\n",
    "        len(result[1]['_trades'])\n",
    "    ]))"
   ]
  },
  {
   "cell_type": "markdown",
   "id": "b16406dc",
   "metadata": {},
   "source": [
    "Write the data to the file **validation_metrics.csv**"
   ]
  },
  {
   "cell_type": "code",
   "execution_count": null,
   "id": "d435dd44",
   "metadata": {},
   "outputs": [],
   "source": [
    "validation_header = [\n",
    "    \"Currency Pair\",\n",
    "    \"Start Date\",\n",
    "    \"End Date\",\n",
    "    \"Peak Equity\",\n",
    "    \"Final Equity\",\n",
    "    \"PnL\",\n",
    "    \"Return Pct\",\n",
    "    \"Sharpe Ratio\",\n",
    "    \"Win Rate\",\n",
    "    \"Profit Factor\",\n",
    "    \"Number of Trades\"\n",
    "]"
   ]
  },
  {
   "cell_type": "code",
   "execution_count": null,
   "id": "5d2cce73",
   "metadata": {},
   "outputs": [],
   "source": [
    "with open('validation_metrics.csv', 'w', encoding='UTF8', newline='') as f:\n",
    "    writer = csv.writer(f)\n",
    "\n",
    "    # Write the header to the CSV file\n",
    "    writer.writerow(validation_header)\n",
    "\n",
    "    # Write each item in the validate_metrics list as a row in the CSV file\n",
    "    writer.writerows(validate_metrics)"
   ]
  },
  {
   "cell_type": "markdown",
   "id": "dc2e30bd",
   "metadata": {},
   "source": [
    "## 3. Unit Testing"
   ]
  },
  {
   "cell_type": "markdown",
   "id": "111c7d00",
   "metadata": {},
   "source": [
    "Define a class TestSuite that tests different scenarios for our backtests"
   ]
  },
  {
   "cell_type": "code",
   "execution_count": null,
   "id": "2d342e24",
   "metadata": {},
   "outputs": [],
   "source": [
    "class TestSuite(unittest.TestCase):\n",
    "    def test_data_loading(self):\n",
    "        # Test that the data loading function correctly loads and processes the data\n",
    "        price_data = yf.download(forex_pair, interval = interval, start = start_date)\n",
    "\n",
    "        # Assert that the loaded data is not empty\n",
    "        self.assertFalse(price_data.empty)\n",
    "\n",
    "    def test_valid_currency_pair(self):\n",
    "        # Test that the data loading function only accepts valid currency pairs\n",
    "        price_data = yf.download(\"XYZ\", interval = interval, start = start_date)\n",
    "\n",
    "        # Assert that the loaded data is not empty\n",
    "        self.assertTrue(price_data.empty)\n",
    "        \n",
    "    def test_backtest_amount(self):\n",
    "        cash =  10000\n",
    "        bt = Backtest(insample_data, BollingerBandsStrategy, cash=cash, commission=0.0024)\n",
    "        stats = bt.run(ema_window = init_ema_window, std = init_std)\n",
    "        \n",
    "        # Assert that the statistics generated are valid\n",
    "        self.assertNotEqual(cash, 0)"
   ]
  },
  {
   "cell_type": "markdown",
   "id": "32abce53",
   "metadata": {},
   "source": [
    "Create a test suite and run the tests"
   ]
  },
  {
   "cell_type": "code",
   "execution_count": null,
   "id": "750b9971",
   "metadata": {},
   "outputs": [],
   "source": [
    "test_suite = unittest.TestLoader().loadTestsFromTestCase(TestSuite)\n",
    "unittest.TextTestRunner(verbosity=2).run(test_suite)"
   ]
  }
 ],
 "metadata": {
  "kernelspec": {
   "display_name": "Python 3 (ipykernel)",
   "language": "python",
   "name": "python3"
  },
  "language_info": {
   "codemirror_mode": {
    "name": "ipython",
    "version": 3
   },
   "file_extension": ".py",
   "mimetype": "text/x-python",
   "name": "python",
   "nbconvert_exporter": "python",
   "pygments_lexer": "ipython3",
   "version": "3.11.4"
  }
 },
 "nbformat": 4,
 "nbformat_minor": 5
}
