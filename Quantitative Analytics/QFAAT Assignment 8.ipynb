{
 "cells": [
  {
   "cell_type": "code",
   "execution_count": 193,
   "id": "3a60dadc",
   "metadata": {},
   "outputs": [],
   "source": [
    "import pandas as pd\n",
    "import numpy as np\n",
    "import matplotlib.pyplot as plt\n",
    "import pandas_ta as ta\n",
    "import seaborn as sns\n",
    "import simplefix\n",
    "from simplefix import FixMessage, FixParser\n",
    "import socket\n",
    "import ssl\n",
    "import os"
   ]
  },
  {
   "cell_type": "markdown",
   "id": "6ae7bad2",
   "metadata": {},
   "source": [
    "#### Credentials Setup"
   ]
  },
  {
   "cell_type": "code",
   "execution_count": 194,
   "id": "286512a5",
   "metadata": {},
   "outputs": [],
   "source": [
    "# Setup credentials for connection to cTrader\n",
    "socket_buffer = 1024\n",
    "server_url = \"h35.p.ctrader.com\"\n",
    "server_port = 5211\n",
    "\n",
    "sender = \"demo.ctrader.3988979\"\n",
    "target = \"CSERVER\"\n",
    "username = \"3988979\"\n",
    "password = \"SamaTrades123!\""
   ]
  },
  {
   "cell_type": "markdown",
   "id": "035b45a2",
   "metadata": {},
   "source": [
    "#### Logs Setup"
   ]
  },
  {
   "cell_type": "code",
   "execution_count": 195,
   "id": "b1567e24",
   "metadata": {},
   "outputs": [],
   "source": [
    "# Setup log file\n",
    "logs_file = os.path.join('logs', 'trade', 'trade.log')\n",
    "log_dir = os.path.join('logs', 'trade')\n",
    "\n",
    "# Create directory for log file\n",
    "if not os.path.isdir(log_dir):\n",
    "    os.makedirs(log_dir)\n",
    "\n",
    "def log(self,msg):\n",
    "    log = open(logs_file, \"a+\")\n",
    "    self.logs.write(datetime.now().strftime('%Y-%m-%d:%H:%M:%S')+' [Trade]'+msg)\n",
    "    print('[Trade]'+msg)"
   ]
  },
  {
   "cell_type": "markdown",
   "id": "9d40a0ea",
   "metadata": {},
   "source": [
    "#### Connection Setup"
   ]
  },
  {
   "cell_type": "markdown",
   "id": "90d3a391",
   "metadata": {},
   "source": [
    "Create dynamic message sequence numbers that reset on login"
   ]
  },
  {
   "cell_type": "code",
   "execution_count": null,
   "id": "b71505af",
   "metadata": {},
   "outputs": [],
   "source": [
    "seq_num = 1"
   ]
  },
  {
   "cell_type": "code",
   "execution_count": 196,
   "id": "c256afc2",
   "metadata": {},
   "outputs": [
    {
     "name": "stdout",
     "output_type": "stream",
     "text": [
      "Connected to h35.p.ctrader.com on port 5211\n"
     ]
    }
   ],
   "source": [
    "def ctrader_connection():\n",
    "    context = ssl.SSLContext(ssl.PROTOCOL_TLS_CLIENT)\n",
    "    context.check_hostname = False\n",
    "    context.verify_mode = ssl.CERT_NONE\n",
    "\n",
    "    sock = socket.socket(socket.AF_INET, socket.SOCK_STREAM)\n",
    "    ssock = context.wrap_socket(sock, server_hostname=server_url)\n",
    "\n",
    "    try:\n",
    "        ssock.connect((server_url, server_port))\n",
    "        print(f\"Connected to {server_url} on port {server_port}\")\n",
    "        return ssock\n",
    "    except socket.error as socket_err:\n",
    "        print(f\"Socket error occurred: {socket_err}\")\n",
    "        raise\n",
    "        \n",
    "# Create the socket connection\n",
    "active_socket = ctrader_connection()"
   ]
  },
  {
   "cell_type": "code",
   "execution_count": 197,
   "id": "707b633c",
   "metadata": {},
   "outputs": [],
   "source": [
    "def send_ctrader_request(socket, fix_message):\n",
    "    parser = simplefix.FixParser()\n",
    "    \n",
    "    if fix_message.get(35 == \"A\"):\n",
    "        fix_message.append_pair(34, seq_num, header=True)\n",
    "        \n",
    "    else:\n",
    "        seq_num += 1\n",
    "        fix_message.append_pair(34, seq_num, header=True)\n",
    "        \n",
    "    try:\n",
    "        # Send the message bytes to the backend\n",
    "        socket.send(fix_message)\n",
    "        # Fetch the API response\n",
    "        response = socket.recv(socket_buffer)\n",
    "        print(\"API response received:\", response)\n",
    "        # Use the parser to decode the API response\n",
    "        parser.append_buffer(response)\n",
    "        # Parse the message to return\n",
    "        return_val = parser.get_message()\n",
    "        return return_val\n",
    "    except socket.error as socket_err:\n",
    "        print(f\"Socket error occurred: {socket_err}\")\n",
    "        raise\n",
    "    except Exception as e:\n",
    "        print(f\"An error occurred: {e}\")\n",
    "        raise"
   ]
  },
  {
   "cell_type": "markdown",
   "id": "58a066f9",
   "metadata": {},
   "source": [
    "#### SimpleFix Library Setup"
   ]
  },
  {
   "cell_type": "code",
   "execution_count": 200,
   "id": "282538a1",
   "metadata": {},
   "outputs": [],
   "source": [
    "def generate_login_request():\n",
    "    # Create the FIX message\n",
    "    message = simplefix.FixMessage()\n",
    "    message.append_pair(8, \"FIX.4.4\")\n",
    "    message.append_pair(9, 126)\n",
    "    message.append_pair(35, \"A\")\n",
    "    message.append_pair(49, sender)\n",
    "    message.append_pair(56, target)\n",
    "    #message.append_pair(34, seq_num, header=True)\n",
    "    message.append_utc_timestamp(52)\n",
    "    message.append_pair(57, \"QUOTE\")\n",
    "    message.append_pair(98, 0)\n",
    "    message.append_pair(108, 0)\n",
    "    # Reset all sequence connections\n",
    "    message.append_pair(141, \"Y\")\n",
    "    message.append_pair(553,username)\n",
    "    message.append_pair(554,password)\n",
    "    message.append_pair(10, 131)\n",
    "    return message.encode()\n",
    "\n",
    "def generate_logout_request():\n",
    "    message = simplefix.FixMessage()\n",
    "    message.append_pair(8, \"FIX.4.4\")\n",
    "    message.append_pair(9, 126)\n",
    "    message.append_pair(35, 5)\n",
    "    message.append_pair(49, sender)\n",
    "    message.append_pair(56, target)\n",
    "    #message.append_pair(34, 1, header=True)\n",
    "    message.append_utc_timestamp(52)\n",
    "    message.append_pair(57, \"QUOTE\")\n",
    "    message.append_pair(98, 0)\n",
    "    message.append_pair(108,0)\n",
    "    message.append_pair(141, \"Y\")\n",
    "    message.append_pair(553,username)\n",
    "    message.append_pair(554,password)\n",
    "    message.append_pair(10, 131)\n",
    "    return message.encode()\n",
    "\n",
    "def generate_market_request():\n",
    "    message = simplefix.FixMessage()\n",
    "    message.append_pair(8, \"FIX.4.4\")\n",
    "    message.append_pair(9, 135)\n",
    "    message.append_pair(35, \"V\")\n",
    "    message.append_pair(49, sender)\n",
    "    message.append_pair(56, target)\n",
    "    #message.append_pair(34, 2, header=True)\n",
    "    message.append_utc_timestamp(52)\n",
    "    message.append_pair(57, \"QUOTE\")\n",
    "    message.append_pair(262, \"EURUSD\")\n",
    "    message.append_pair(263, 1)\n",
    "    message.append_pair(264, 0)\n",
    "    message.append_pair(265, 1)\n",
    "    message.append_pair(267, 2)\n",
    "    message.append_pair(269, 0)\n",
    "    message.append_pair(269, 1)\n",
    "    message.append_pair(146, 1)\n",
    "    message.append_pair(55,1)\n",
    "    message.append_pair(10, 94)\n",
    "    return message.encode()\n",
    "\n",
    "\n",
    "def submit_order():\n",
    "    message = simplefix.FixMessage()\n",
    "    message.append_pair(8, \"FIX.4.4\")\n",
    "    message.append_pair(11, 8487874)\n",
    "    message.append_pair(34, 12, header=True)\n",
    "    message.append_pair(141, \"Y\")\n",
    "    message.append_pair(55, 1)\n",
    "    message.append_pair(54, 1)\n",
    "    message.append_pair(57, \"TRADE\")\n",
    "    message.append_pair(35, \"D\")\n",
    "    message.append_pair(49, sender)\n",
    "    message.append_pair(56, target)\n",
    "    message.append_utc_timestamp(52)\n",
    "    message.append_pair(38, 100)\n",
    "    message.append_pair(40, 1)\n",
    "    message.append_pair(10, \"010\")\n",
    "    return message.encode()"
   ]
  },
  {
   "cell_type": "markdown",
   "id": "f54b0376",
   "metadata": {},
   "source": [
    "#### Initiate a session to CTrader"
   ]
  },
  {
   "cell_type": "code",
   "execution_count": 201,
   "id": "17a61e76",
   "metadata": {},
   "outputs": [
    {
     "name": "stdout",
     "output_type": "stream",
     "text": [
      "API response received: b''\n"
     ]
    },
    {
     "ename": "AttributeError",
     "evalue": "'NoneType' object has no attribute 'get'",
     "output_type": "error",
     "traceback": [
      "\u001b[1;31m---------------------------------------------------------------------------\u001b[0m",
      "\u001b[1;31mAttributeError\u001b[0m                            Traceback (most recent call last)",
      "Cell \u001b[1;32mIn[201], line 2\u001b[0m\n\u001b[0;32m      1\u001b[0m login_response_message \u001b[38;5;241m=\u001b[39m send_ctrader_request(active_socket, generate_login_request())\n\u001b[1;32m----> 2\u001b[0m \u001b[38;5;28;01mif\u001b[39;00m(login_response_message\u001b[38;5;241m.\u001b[39mget(\u001b[38;5;241m35\u001b[39m)\u001b[38;5;241m.\u001b[39mdecode() \u001b[38;5;241m==\u001b[39m \u001b[38;5;124m\"\u001b[39m\u001b[38;5;124mA\u001b[39m\u001b[38;5;124m\"\u001b[39m):\n\u001b[0;32m      3\u001b[0m     \u001b[38;5;66;03m# Login was successful\u001b[39;00m\n\u001b[0;32m      4\u001b[0m     \u001b[38;5;66;03m#market_data_response = send_ctrader_request(active_socket, generate_market_request())\u001b[39;00m\n\u001b[0;32m      5\u001b[0m     \u001b[38;5;66;03m#print(market_data_response)\u001b[39;00m\n\u001b[0;32m      7\u001b[0m     order_submission_response \u001b[38;5;241m=\u001b[39m send_ctrader_request(active_socket, submit_order())\n\u001b[0;32m      8\u001b[0m     \u001b[38;5;28mprint\u001b[39m(order_submission_response)\n",
      "\u001b[1;31mAttributeError\u001b[0m: 'NoneType' object has no attribute 'get'"
     ]
    }
   ],
   "source": [
    "login_response_message = send_ctrader_request(active_socket, generate_login_request())\n",
    "if(login_response_message.get(35).decode() == \"A\"):\n",
    "    # Login was successful\n",
    "    #market_data_response = send_ctrader_request(active_socket, generate_market_request())\n",
    "    #print(market_data_response)\n",
    "    \n",
    "    order_submission_response = send_ctrader_request(active_socket, submit_order())\n",
    "    print(order_submission_response)\n",
    "    \n",
    "else:\n",
    "    print(f\"Login failed : {login_response_status.get(58)}\")"
   ]
  },
  {
   "cell_type": "code",
   "execution_count": null,
   "id": "99d0ffbf",
   "metadata": {},
   "outputs": [],
   "source": []
  }
 ],
 "metadata": {
  "kernelspec": {
   "display_name": "Python 3 (ipykernel)",
   "language": "python",
   "name": "python3"
  },
  "language_info": {
   "codemirror_mode": {
    "name": "ipython",
    "version": 3
   },
   "file_extension": ".py",
   "mimetype": "text/x-python",
   "name": "python",
   "nbconvert_exporter": "python",
   "pygments_lexer": "ipython3",
   "version": "3.11.4"
  }
 },
 "nbformat": 4,
 "nbformat_minor": 5
}
