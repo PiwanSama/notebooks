{
 "cells": [
  {
   "cell_type": "code",
   "execution_count": 7,
   "id": "3a60dadc",
   "metadata": {},
   "outputs": [],
   "source": [
    "import pandas as pd\n",
    "import numpy as np\n",
    "import matplotlib.pyplot as plt\n",
    "import pandas_ta as ta\n",
    "import seaborn as sns\n",
    "import yfinance as yf\n",
    "import simplefix\n",
    "from simplefix import FixMessage, FixParser \n",
    "import requests\n",
    "import socket"
   ]
  },
  {
   "cell_type": "code",
   "execution_count": 10,
   "id": "4c2a5f6d",
   "metadata": {},
   "outputs": [],
   "source": [
    "logon_message=simplefix.FixMessage()\n",
    "# Define the FIX API version\n",
    "logon_message.append_pair(8, \"FIX.4.4\")\n",
    "# Defines a message encryption scheme. Valid value is \"0\"\n",
    "logon_message.append_pair(98,0)\n",
    "# Heartbeat interval in seconds\n",
    "# Default value is 30 seconds is the default interval value\n",
    "# If HeartBtInt is set to 0\n",
    "logon_message.append_pair(108,30)\n",
    "# All sides of FIX session should have sequence numbers reset. Valid value\n",
    "# is \"Y\" = Yes(reset)\n",
    "logon_message.append_pair(141,\"Y\")\n",
    "logon_message.append_pair(553,client_id)\n",
    "logon_message.append_pair(554,token)"
   ]
  },
  {
   "cell_type": "code",
   "execution_count": 25,
   "id": "4530019e",
   "metadata": {},
   "outputs": [],
   "source": [
    "# Setup credentials for connection to cTrader\n",
    "server_url = \"demo.ctraderapi.com\"\n",
    "server_port = 5036\n",
    "#server_url = \"h50.p.ctrader.com\"\n",
    "#server_port = 5212\n",
    "client_id = \"7674_5a7ajJn0JCSMt0BQkVOSejmYjfFMtoDbM5BRzoa6gvzVutghdE\"\n",
    "token = \"LDFA6q0B9OFhQeqDdkEtMJDFqW8wy0Zyy2KvI3Jy4eqMw84n9r\""
   ]
  },
  {
   "cell_type": "code",
   "execution_count": 38,
   "id": "5d2f5ce0",
   "metadata": {},
   "outputs": [
    {
     "name": "stdout",
     "output_type": "stream",
     "text": [
      "Connected to demo.ctraderapi.com :5036\n",
      "Response received: b'\\x15\\x03\\x01\\x00\\x02\\x02F'\n",
      "Message received: None\n"
     ]
    }
   ],
   "source": [
    "s = socket.socket(socket.AF_INET, socket.SOCK_STREAM)\n",
    "try:\n",
    "    # Connect to the FIX server\n",
    "    s.connect((\"demo.ctraderapi.com\", 5036))\n",
    "    print(f\"Connected to demo.ctraderapi.com :5036\")\n",
    "    \n",
    "    # Send a Logon message to the server\n",
    "    message=simplefix.FixMessage()\n",
    "    message.append_pair(8, \"FIX.4.4\", header=True)\n",
    "    message.append_pair(35, \"A\")\n",
    "    message.append_pair(112, \"TR0003692\")\n",
    "    message.append_pair(34, 4684, header=True)\n",
    "    message.append_time(52, header=True)\n",
    "    message.append_pair(49, \"SenderCompID\")\n",
    "    message.append_pair(56, \"TargetCompID\")\n",
    "    message.append_pair(52, \"20210101-00:00:00.000\")\n",
    "    message.append_pair(98, \"0\")\n",
    "    message.append_pair(108, \"30\")\n",
    "    message.append_pair(141, \"Y\")\n",
    "    message.append_pair(553,client_id)\n",
    "    message.append_pair(554,token)\n",
    "    s.send(message.encode())\n",
    "\n",
    "    # Receive a response from the server\n",
    "    response = s.recv(1024)\n",
    "    print(f\"Response received: {response}\")\n",
    "    \n",
    "    parser.append_buffer(response)\n",
    "    message = parser.get_message()\n",
    "    print(f\"Message received: {message}\")\n",
    "\n",
    "except Exception as e:\n",
    "    print(f\"Error establishing FIX connection: {e}\")\n",
    "\n",
    "# Close the socket connection\n",
    "s.close()"
   ]
  },
  {
   "cell_type": "code",
   "execution_count": 20,
   "id": "7d4d4b71",
   "metadata": {},
   "outputs": [],
   "source": [
    "message=simplefix.FixMessage()\n",
    "message.append_pair(8, \"FIX.4.4\")\n",
    "message.append_pair(35, 0)\n",
    "message.append_pair(49, \"SENDER\")\n",
    "message.append_pair(56, \"TARGET\")\n",
    "message.append_pair(112, \"TR0003692\")\n",
    "message.append_pair(34, 4684, header=True)\n",
    "message.append_time(52, header=True)\n",
    "message.append_pair(553,client_id)\n",
    "message.append_pair(554,token)\n",
    "\n",
    "# Convert the FIX message to bytes\n",
    "fix_message_bytes = message.encode()"
   ]
  },
  {
   "cell_type": "code",
   "execution_count": 40,
   "id": "79f067f0",
   "metadata": {},
   "outputs": [
    {
     "name": "stdout",
     "output_type": "stream",
     "text": [
      "Connected to demo.ctraderapi.com:5036\n",
      "Response received: b'\\x15\\x03\\x01\\x00\\x02\\x02F'\n",
      "Message received: None\n"
     ]
    }
   ],
   "source": [
    "parser = simplefix.FixParser()\n",
    "# Create a socket connection and send the FIX message\n",
    "try:\n",
    "    with socket.socket(socket.AF_INET, socket.SOCK_STREAM) as s:\n",
    "        s.connect((server_url, server_port))\n",
    "        print(f\"Connected to {server_url}:{server_port}\")\n",
    "\n",
    "        s.send(fix_message_bytes)\n",
    "        response = s.recv(1024)\n",
    "        print(f\"Response received: {response}\")\n",
    "        parser.append_buffer(response)\n",
    "        message = parser.get_message()\n",
    "        print(f\"Message received: {message}\")\n",
    "except socket.error as e:\n",
    "    print(f\"Socket error: {e}\")\n",
    "except Exception as e:\n",
    "    print(f\"An error occurred: {e}\")"
   ]
  },
  {
   "cell_type": "code",
   "execution_count": 24,
   "id": "2a6dfba5",
   "metadata": {},
   "outputs": [
    {
     "name": "stdout",
     "output_type": "stream",
     "text": [
      "15030100020246\n"
     ]
    }
   ],
   "source": [
    "res = b'\\x15\\x03\\x01\\x00\\x02\\x02F'\n",
    "print(res.hex())"
   ]
  },
  {
   "cell_type": "code",
   "execution_count": null,
   "id": "4cc4ac8b",
   "metadata": {},
   "outputs": [],
   "source": [
    "# Logon message format is\n",
    "# 8=FIX.4.4|9=126|35=A|49=theBroker.12345|56=CSERVER|34=1|52=20170117- 08:03:04|\n",
    "# 57=TRADE|50=any_string|98=0|108=30|141=Y|553=12345|554=passw0rd!|10=131|\n",
    "\n",
    "def logon(qualifier, message_sequence_number, heart_beat_seconds, reset_seq_num):\n",
    "    \n",
    "    logon_message=simplefix.FixMessage()\n",
    "    # Define the FIX API version\n",
    "    logon_message.append_pair(8, \"FIX.4.4\")\n",
    "    # Defines a message encryption scheme. Valid value is \"0\"\n",
    "    logon_message.append_pair(98,0)\n",
    "    # Heartbeat interval in seconds\n",
    "    # Default value is 30 seconds is the default interval value\n",
    "    # If HeartBtInt is set to 0\n",
    "    logon_message.append_pair(108,heart_beat_seconds)\n",
    "    # All sides of FIX session should have sequence numbers reset. Valid value\n",
    "    # is \"Y\" = Yes(reset)\n",
    "    logon_message.append_pair(141,\"Y\")\n",
    "    logon_message.append_pair(553,client_id)\n",
    "    logon_message.append_pair(554,token)\n",
    "    #Construct the header\n",
    "    \n",
    "\n",
    "    header = construct_header(qualifier, session_message_code(SessionMessageType.Logon), message_sequence_number,\n",
    "                              ''.join(body))\n",
    "\n",
    "    header_and_body = header + ''.join(body)\n",
    "    trailer = construct_trailer(header_and_body)\n",
    "    header_and_message_and_trailer = header + ''.join(body) + trailer\n",
    "\n",
    "    return header_and_message_and_trailer.replace(\"|\", \"\\u0001\")\n",
    "\n",
    "\n",
    "# Assuming these functions are defined elsewhere in your code\n",
    "def construct_header(qualifier, message_code, sequence_number, body):\n",
    "    # Implement the logic for constructing the header\n",
    "    pass\n",
    "\n",
    "def session_message_code(message_type):\n",
    "    # Implement the logic for getting the session message code\n",
    "    pass\n",
    "\n",
    "def construct_trailer(header_and_body):\n",
    "    # Implement the logic for constructing the trailer\n",
    "    pass\n"
   ]
  },
  {
   "cell_type": "code",
   "execution_count": null,
   "id": "a98c304a",
   "metadata": {},
   "outputs": [],
   "source": []
  }
 ],
 "metadata": {
  "kernelspec": {
   "display_name": "Python 3 (ipykernel)",
   "language": "python",
   "name": "python3"
  },
  "language_info": {
   "codemirror_mode": {
    "name": "ipython",
    "version": 3
   },
   "file_extension": ".py",
   "mimetype": "text/x-python",
   "name": "python",
   "nbconvert_exporter": "python",
   "pygments_lexer": "ipython3",
   "version": "3.11.4"
  }
 },
 "nbformat": 4,
 "nbformat_minor": 5
}
