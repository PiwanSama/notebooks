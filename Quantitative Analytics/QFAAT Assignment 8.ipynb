{
 "cells": [
  {
   "cell_type": "code",
   "execution_count": 195,
   "id": "3a60dadc",
   "metadata": {},
   "outputs": [],
   "source": [
    "import pandas as pd\n",
    "import numpy as np\n",
    "import matplotlib.pyplot as plt\n",
    "import pandas_ta as ta\n",
    "import seaborn as sns\n",
    "import simplefix\n",
    "from simplefix import FixMessage, FixParser\n",
    "import socket\n",
    "import ssl"
   ]
  },
  {
   "cell_type": "code",
   "execution_count": 196,
   "id": "4530019e",
   "metadata": {},
   "outputs": [],
   "source": [
    "# Setup credentials for connection to cTrader\n",
    "server_url = \"h35.p.ctrader.com\"\n",
    "server_port = 5211\n",
    "\n",
    "sender = \"demo.ctrader.3988979\"\n",
    "target = \"CSERVER\"\n",
    "username = \"3988979\"\n",
    "password = \"SamaTrades123!\""
   ]
  },
  {
   "cell_type": "code",
   "execution_count": 216,
   "id": "7d4d4b71",
   "metadata": {},
   "outputs": [],
   "source": [
    "# Create the FIX message parser\n",
    "parser = simplefix.FixParser()\n",
    "\n",
    "# Create the FIX message\n",
    "message = simplefix.FixMessage()\n",
    "message.append_pair(8, \"FIX.4.4\")\n",
    "message.append_pair(9, 126)\n",
    "message.append_pair(35, \"A\")\n",
    "message.append_pair(49, sender)\n",
    "message.append_pair(56, target)\n",
    "message.append_pair(34, 1, header=True)\n",
    "message.append_utc_timestamp(52)\n",
    "message.append_pair(57, \"QUOTE\")\n",
    "message.append_pair(98, 0)\n",
    "message.append_pair(108,30)\n",
    "message.append_pair(141, \"Y\")\n",
    "message.append_pair(553,username)\n",
    "message.append_pair(554,password)\n",
    "message.append_pair(10, 131)\n",
    "\n",
    "# Convert the FIX message to bytes\n",
    "message_bytes = message.encode()"
   ]
  },
  {
   "cell_type": "code",
   "execution_count": 219,
   "id": "79f067f0",
   "metadata": {},
   "outputs": [
    {
     "name": "stdout",
     "output_type": "stream",
     "text": [
      "Connected to h35.p.ctrader.com:5211\n",
      "Message received: 8=FIX.4.4|9=97|35=A|34=1|49=CSERVER|50=QUOTE|52=20231207-11:29:18.917|56=demo.ctrader.3988979|98=0|108=30|141=Y|10=241\n"
     ]
    }
   ],
   "source": [
    "context = ssl.SSLContext(ssl.PROTOCOL_TLS_CLIENT)\n",
    "context.check_hostname = False\n",
    "context.verify_mode = ssl.CERT_NONE\n",
    "\n",
    "with socket.socket(socket.AF_INET, socket.SOCK_STREAM) as sock:\n",
    "    with context.wrap_socket(sock, server_hostname=server_url) as ssock:\n",
    "        # Create a socket connection and send the logon FIX message\n",
    "        try:\n",
    "            # Connect to the backend\n",
    "            ssock.connect((server_url, server_port))\n",
    "            print(f\"Connected to {server_url}:{server_port}\")\n",
    "            # Send the message bytes to the backend\n",
    "            ssock.send(message_bytes)\n",
    "            # Fetch the API response\n",
    "            response = ssock.recv(1024)\n",
    "            # Use the parser to decode the API response\n",
    "            parser.append_buffer(response)\n",
    "            message = parser.get_message()\n",
    "            if message:\n",
    "                print(f\"Message received: {message}\")\n",
    "            else:\n",
    "                print(\"Failed to parse the response as a valid FIX message.\")\n",
    "\n",
    "        except ssock.error as e:\n",
    "            print(f\"Socket error: {e}\")\n",
    "        except Exception as e:\n",
    "            print(f\"An error occurred: {e}\")"
   ]
  },
  {
   "cell_type": "code",
   "execution_count": null,
   "id": "54c84979",
   "metadata": {},
   "outputs": [],
   "source": []
  }
 ],
 "metadata": {
  "kernelspec": {
   "display_name": "Python 3 (ipykernel)",
   "language": "python",
   "name": "python3"
  },
  "language_info": {
   "codemirror_mode": {
    "name": "ipython",
    "version": 3
   },
   "file_extension": ".py",
   "mimetype": "text/x-python",
   "name": "python",
   "nbconvert_exporter": "python",
   "pygments_lexer": "ipython3",
   "version": "3.11.4"
  }
 },
 "nbformat": 4,
 "nbformat_minor": 5
}
