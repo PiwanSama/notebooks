{
 "cells": [
  {
   "cell_type": "code",
   "execution_count": 1,
   "id": "3a60dadc",
   "metadata": {},
   "outputs": [],
   "source": [
    "import pandas as pd\n",
    "import numpy as np\n",
    "import matplotlib.pyplot as plt\n",
    "import pandas_ta as ta\n",
    "import seaborn as sns\n",
    "import yfinance as yf\n",
    "import simplefix\n",
    "from simplefix import FixMessage, FixParser\n",
    "import requests\n",
    "import socket"
   ]
  },
  {
   "cell_type": "code",
   "execution_count": 22,
   "id": "4530019e",
   "metadata": {},
   "outputs": [],
   "source": [
    "# Setup credentials for connection to cTrader\n",
    "server_url = \"demo.ctraderapi.com\"\n",
    "server_port = 5036\n",
    "client_id = \"7674_5a7ajJn0JCSMt0BQkVOSejmYjfFMtoDbM5BRzoa6gvzVutghdE\"\n",
    "token = \"LDFA6q0B9OFhQeqDdkEtMJDFqW8wy0Zyy2KvI3Jy4eqMw84n9r\""
   ]
  },
  {
   "cell_type": "code",
   "execution_count": 23,
   "id": "7d4d4b71",
   "metadata": {},
   "outputs": [],
   "source": [
    "# Create the FIX message parser\n",
    "parser = simplefix.FixParser()\n",
    "\n",
    "# Create the FIX message\n",
    "message=simplefix.FixMessage()\n",
    "message.append_pair(8, \"FIX.4.4\")\n",
    "message.append_pair(35, \"A\")\n",
    "message.append_pair(49, \"SENDER\")\n",
    "message.append_pair(56, \"TARGET\")\n",
    "message.append_pair(112, \"TR0003692\")\n",
    "message.append_pair(34, 4684, header=True)\n",
    "message.append_time(52, header=True)\n",
    "message.append_pair(553,client_id)\n",
    "message.append_pair(554,token)\n",
    "\n",
    "# Convert the FIX message to bytes\n",
    "message_bytes = message.encode()"
   ]
  },
  {
   "cell_type": "code",
   "execution_count": 27,
   "id": "79f067f0",
   "metadata": {},
   "outputs": [
    {
     "name": "stdout",
     "output_type": "stream",
     "text": [
      "Connected to demo.ctraderapi.com:5036\n",
      "Response received: b'\\x15\\x03\\x01\\x00\\x02\\x02F'\n",
      "15030100020246\n",
      "Failed to parse the response as a valid FIX message.\n"
     ]
    }
   ],
   "source": [
    "# Create a socket connection and send the logon FIX message\n",
    "try:\n",
    "    with socket.socket(socket.AF_INET, socket.SOCK_STREAM) as s:\n",
    "        # Connect to the backend\n",
    "        s.connect((server_url, server_port))\n",
    "        print(f\"Connected to {server_url}:{server_port}\")\n",
    "\n",
    "        # Send the message bytes to the backend\n",
    "        s.send(message_bytes)\n",
    "        \n",
    "        # Fetch the API response\n",
    "        response = s.recv(4096)\n",
    "        print(f\"Response received: {response}\")\n",
    "        \n",
    "        print(response.hex())\n",
    "        \n",
    "        # Use the parser to decode the API response\n",
    "        parser.append_buffer(response)\n",
    "        message = parser.get_message()\n",
    "        \n",
    "        if message:\n",
    "            print(f\"Message received: {parsed_message}\")\n",
    "        else:\n",
    "            print(\"Failed to parse the response as a valid FIX message.\")\n",
    "        \n",
    "except socket.error as e:\n",
    "    print(f\"Socket error: {e}\")\n",
    "except Exception as e:\n",
    "    print(f\"An error occurred: {e}\")"
   ]
  }
 ],
 "metadata": {
  "kernelspec": {
   "display_name": "Python 3 (ipykernel)",
   "language": "python",
   "name": "python3"
  },
  "language_info": {
   "codemirror_mode": {
    "name": "ipython",
    "version": 3
   },
   "file_extension": ".py",
   "mimetype": "text/x-python",
   "name": "python",
   "nbconvert_exporter": "python",
   "pygments_lexer": "ipython3",
   "version": "3.11.4"
  }
 },
 "nbformat": 4,
 "nbformat_minor": 5
}
