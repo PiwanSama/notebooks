{
 "cells": [
  {
   "cell_type": "code",
   "execution_count": 226,
   "id": "3a60dadc",
   "metadata": {},
   "outputs": [],
   "source": [
    "import pandas as pd\n",
    "import numpy as np\n",
    "import matplotlib.pyplot as plt\n",
    "import pandas_ta as ta\n",
    "import seaborn as sns\n",
    "import simplefix\n",
    "from simplefix import FixMessage, FixParser\n",
    "import socket\n",
    "import ssl\n",
    "import os"
   ]
  },
  {
   "cell_type": "markdown",
   "id": "6ae7bad2",
   "metadata": {},
   "source": [
    "#### Credentials Setup"
   ]
  },
  {
   "cell_type": "code",
   "execution_count": 237,
   "id": "286512a5",
   "metadata": {},
   "outputs": [],
   "source": [
    "# Setup credentials for connection to cTrader\n",
    "socket_buffer = 1024\n",
    "server_url = \"h35.p.ctrader.com\"\n",
    "server_port = 5211\n",
    "\n",
    "sender = \"demo.ctrader.3988979\"\n",
    "target = \"CSERVER\"\n",
    "username = \"3988979\"\n",
    "password = \"SamaTrades123!\""
   ]
  },
  {
   "cell_type": "markdown",
   "id": "ecf8c549",
   "metadata": {},
   "source": [
    "#### Connection Setup"
   ]
  },
  {
   "cell_type": "markdown",
   "id": "c1d724e7",
   "metadata": {},
   "source": [
    "Create dynamic message sequence numbers that reset on login"
   ]
  },
  {
   "cell_type": "code",
   "execution_count": 238,
   "id": "d31c1931",
   "metadata": {},
   "outputs": [],
   "source": [
    "global seq_num"
   ]
  },
  {
   "cell_type": "code",
   "execution_count": 239,
   "id": "7bebbb10",
   "metadata": {},
   "outputs": [
    {
     "name": "stdout",
     "output_type": "stream",
     "text": [
      "Connected to h35.p.ctrader.com on port 5211\n"
     ]
    }
   ],
   "source": [
    "def ctrader_connection():\n",
    "    context = ssl.SSLContext(ssl.PROTOCOL_TLS_CLIENT)\n",
    "    context.check_hostname = False\n",
    "    context.verify_mode = ssl.CERT_NONE\n",
    "\n",
    "    sock = socket.socket(socket.AF_INET, socket.SOCK_STREAM)\n",
    "    ssock = context.wrap_socket(sock, server_hostname=server_url)\n",
    "\n",
    "    try:\n",
    "        ssock.connect((server_url, server_port))\n",
    "        print(f\"Connected to {server_url} on port {server_port}\")\n",
    "        return ssock\n",
    "    except socket.error as socket_err:\n",
    "        print(f\"Socket error occurred: {socket_err}\")\n",
    "        raise\n",
    "        \n",
    "# Create the socket connection\n",
    "active_socket = ctrader_connection()"
   ]
  },
  {
   "cell_type": "code",
   "execution_count": 243,
   "id": "a9d8f88a",
   "metadata": {},
   "outputs": [],
   "source": [
    "def send_ctrader_request(socket, fix_message):\n",
    "    parser = simplefix.FixParser()\n",
    "    seq_num = 1\n",
    "    if fix_message.get(35 == \"A\"):\n",
    "        fix_message.append_pair(34, seq_num, header=True)\n",
    "        \n",
    "    else:\n",
    "        seq_num += 1\n",
    "        fix_message.append_pair(34, seq_num, header=True)\n",
    "        \n",
    "    encoded_message = fix_message.encode()\n",
    "    \n",
    "    print(f\"Seq Num : {seq_num}\")\n",
    "        \n",
    "    try:\n",
    "        # Send the message bytes to the backend\n",
    "        socket.send(encoded_message)\n",
    "        # Fetch the API response\n",
    "        response = socket.recv(socket_buffer)\n",
    "        print(\"API response received:\", response)\n",
    "        # Use the parser to decode the API response\n",
    "        parser.append_buffer(response)\n",
    "        # Parse the message to return\n",
    "        return_val = parser.get_message()\n",
    "        return return_val\n",
    "    except socket.error as socket_err:\n",
    "        print(f\"Socket error occurred: {socket_err}\")\n",
    "        raise\n",
    "    except Exception as e:\n",
    "        print(f\"An error occurred: {e}\")\n",
    "        raise"
   ]
  },
  {
   "cell_type": "markdown",
   "id": "58a066f9",
   "metadata": {},
   "source": [
    "#### SimpleFix Library Setup"
   ]
  },
  {
   "cell_type": "code",
   "execution_count": 244,
   "id": "282538a1",
   "metadata": {},
   "outputs": [],
   "source": [
    "def generate_login_request():\n",
    "    # Create the FIX message\n",
    "    message = simplefix.FixMessage()\n",
    "    message.append_pair(8, \"FIX.4.4\")\n",
    "    message.append_pair(9, 126)\n",
    "    message.append_pair(35, \"A\")\n",
    "    message.append_pair(49, sender)\n",
    "    message.append_pair(56, target)\n",
    "    #message.append_pair(34, seq_num, header=True)\n",
    "    message.append_utc_timestamp(52)\n",
    "    message.append_pair(57, \"QUOTE\")\n",
    "    message.append_pair(98, 0)\n",
    "    message.append_pair(108, 0)\n",
    "    # Reset all sequence connections\n",
    "    message.append_pair(141, \"Y\")\n",
    "    message.append_pair(553,username)\n",
    "    message.append_pair(554,password)\n",
    "    message.append_pair(10, 131)\n",
    "    return message\n",
    "\n",
    "def generate_logout_request():\n",
    "    message = simplefix.FixMessage()\n",
    "    message.append_pair(8, \"FIX.4.4\")\n",
    "    message.append_pair(9, 126)\n",
    "    message.append_pair(35, 5)\n",
    "    message.append_pair(49, sender)\n",
    "    message.append_pair(56, target)\n",
    "    #message.append_pair(34, 1, header=True)\n",
    "    message.append_utc_timestamp(52)\n",
    "    message.append_pair(57, \"QUOTE\")\n",
    "    message.append_pair(98, 0)\n",
    "    message.append_pair(108,0)\n",
    "    message.append_pair(141, \"Y\")\n",
    "    message.append_pair(553,username)\n",
    "    message.append_pair(554,password)\n",
    "    message.append_pair(10, 131)\n",
    "    return message\n",
    "\n",
    "def generate_market_request():\n",
    "    message = simplefix.FixMessage()\n",
    "    message.append_pair(8, \"FIX.4.4\")\n",
    "    message.append_pair(9, 135)\n",
    "    message.append_pair(35, \"V\")\n",
    "    message.append_pair(49, sender)\n",
    "    message.append_pair(56, target)\n",
    "    #message.append_pair(34, 2, header=True)\n",
    "    message.append_utc_timestamp(52)\n",
    "    message.append_pair(57, \"QUOTE\")\n",
    "    message.append_pair(262, \"EURUSD\")\n",
    "    message.append_pair(263, 1)\n",
    "    message.append_pair(264, 0)\n",
    "    message.append_pair(265, 1)\n",
    "    message.append_pair(267, 2)\n",
    "    message.append_pair(269, 0)\n",
    "    message.append_pair(269, 1)\n",
    "    message.append_pair(146, 1)\n",
    "    message.append_pair(55,1)\n",
    "    message.append_pair(10, 94)\n",
    "    return message\n",
    "\n",
    "\n",
    "def submit_order():\n",
    "    message = simplefix.FixMessage()\n",
    "    message.append_pair(8, \"FIX.4.4\")\n",
    "    message.append_pair(11, 8487874)\n",
    "    message.append_pair(34, 12, header=True)\n",
    "    message.append_pair(141, \"Y\")\n",
    "    message.append_pair(55, 1)\n",
    "    message.append_pair(54, 1)\n",
    "    message.append_pair(57, \"TRADE\")\n",
    "    message.append_pair(371, 57)\n",
    "    message.append_pair(372, \"D\")\n",
    "    message.append_pair(373, \"TRADE\")\n",
    "    message.append_pair(35, \"D\")\n",
    "    message.append_pair(49, sender)\n",
    "    message.append_pair(56, target)\n",
    "    message.append_utc_timestamp(52)\n",
    "    message.append_pair(38, 100)\n",
    "    message.append_pair(40, 1)\n",
    "    message.append_pair(10, 246)\n",
    "    return message"
   ]
  },
  {
   "cell_type": "markdown",
   "id": "f54b0376",
   "metadata": {},
   "source": [
    "#### Initiate a session to CTrader"
   ]
  },
  {
   "cell_type": "code",
   "execution_count": 245,
   "id": "17a61e76",
   "metadata": {
    "scrolled": true
   },
   "outputs": [
    {
     "name": "stdout",
     "output_type": "stream",
     "text": [
      "Seq Num : 2\n",
      "API response received: b'8=FIX.4.4\\x019=96\\x0135=A\\x0134=1\\x0149=CSERVER\\x0150=QUOTE\\x0152=20231211-17:57:18.051\\x0156=demo.ctrader.3988979\\x0198=0\\x01108=0\\x01141=Y\\x0110=180\\x01'\n",
      "Seq Num : 2\n",
      "API response received: b'8=FIX.4.4\\x019=124\\x0135=j\\x0134=2\\x0149=CSERVER\\x0150=QUOTE\\x0152=20231211-17:57:18.051\\x0156=demo.ctrader.3988979\\x0158=ALREADY_LOGGED_IN:Already logged in\\x01380=0\\x0110=053\\x01'\n",
      "8=FIX.4.4|9=124|35=j|34=2|49=CSERVER|50=QUOTE|52=20231211-17:57:18.051|56=demo.ctrader.3988979|58=ALREADY_LOGGED_IN:Already logged in|380=0|10=053\n"
     ]
    }
   ],
   "source": [
    "login_response_message = send_ctrader_request(active_socket, generate_login_request())\n",
    "if login_response_message.get(35).decode() == \"A\":\n",
    "    print(\"Login Successful\")\n",
    "else:\n",
    "    print(f\"Login failed : {login_response_status.get(58)}\")"
   ]
  },
  {
   "cell_type": "markdown",
   "id": "aa75bb2e",
   "metadata": {},
   "source": [
    "#### Request Market Data"
   ]
  },
  {
   "cell_type": "code",
   "execution_count": null,
   "id": "d8edc64a",
   "metadata": {},
   "outputs": [],
   "source": [
    "market_data_response = send_ctrader_request(active_socket, generate_market_request())\n",
    "print(market_data_response)"
   ]
  },
  {
   "cell_type": "markdown",
   "id": "ce6110ee",
   "metadata": {},
   "source": [
    "#### Submit an order"
   ]
  },
  {
   "cell_type": "code",
   "execution_count": null,
   "id": "92625cd5",
   "metadata": {},
   "outputs": [],
   "source": [
    "order_submission_response = send_ctrader_request(active_socket, submit_order())\n",
    "print(order_submission_response)"
   ]
  }
 ],
 "metadata": {
  "kernelspec": {
   "display_name": "Python 3 (ipykernel)",
   "language": "python",
   "name": "python3"
  },
  "language_info": {
   "codemirror_mode": {
    "name": "ipython",
    "version": 3
   },
   "file_extension": ".py",
   "mimetype": "text/x-python",
   "name": "python",
   "nbconvert_exporter": "python",
   "pygments_lexer": "ipython3",
   "version": "3.11.4"
  }
 },
 "nbformat": 4,
 "nbformat_minor": 5
}
