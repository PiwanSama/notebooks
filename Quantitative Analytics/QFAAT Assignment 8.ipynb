{
 "cells": [
  {
   "cell_type": "code",
   "execution_count": 8,
   "id": "3a60dadc",
   "metadata": {},
   "outputs": [],
   "source": [
    "import pandas as pd\n",
    "import numpy as np\n",
    "import matplotlib.pyplot as plt\n",
    "import pandas_ta as ta\n",
    "import seaborn as sns\n",
    "import simplefix\n",
    "from simplefix import FixMessage, FixParser\n",
    "import socket\n",
    "import ssl\n",
    "import os"
   ]
  },
  {
   "cell_type": "markdown",
   "id": "6ae7bad2",
   "metadata": {},
   "source": [
    "#### Credentials Setup"
   ]
  },
  {
   "cell_type": "code",
   "execution_count": 9,
   "id": "286512a5",
   "metadata": {},
   "outputs": [],
   "source": [
    "# Setup credentials for connection to cTrader\n",
    "socket_buffer = 1024\n",
    "server_url = \"h35.p.ctrader.com\"\n",
    "server_port = 5211\n",
    "\n",
    "sender = \"demo.ctrader.3988979\"\n",
    "target = \"CSERVER\"\n",
    "username = \"3988979\"\n",
    "password = \"SamaTrades123!\""
   ]
  },
  {
   "cell_type": "markdown",
   "id": "ecf8c549",
   "metadata": {},
   "source": [
    "#### Connection Setup"
   ]
  },
  {
   "cell_type": "markdown",
   "id": "c1d724e7",
   "metadata": {},
   "source": [
    "Create dynamic message sequence numbers that reset on login"
   ]
  },
  {
   "cell_type": "code",
   "execution_count": 10,
   "id": "d31c1931",
   "metadata": {},
   "outputs": [],
   "source": [
    "global seq_num"
   ]
  },
  {
   "cell_type": "code",
   "execution_count": 11,
   "id": "7bebbb10",
   "metadata": {},
   "outputs": [
    {
     "name": "stdout",
     "output_type": "stream",
     "text": [
      "Connected to h35.p.ctrader.com on port 5211\n"
     ]
    }
   ],
   "source": [
    "def ctrader_connection():\n",
    "    context = ssl.SSLContext(ssl.PROTOCOL_TLS_CLIENT)\n",
    "    context.check_hostname = False\n",
    "    context.verify_mode = ssl.CERT_NONE\n",
    "\n",
    "    sock = socket.socket(socket.AF_INET, socket.SOCK_STREAM)\n",
    "    ssock = context.wrap_socket(sock, server_hostname=server_url)\n",
    "\n",
    "    try:\n",
    "        ssock.connect((server_url, server_port))\n",
    "        print(f\"Connected to {server_url} on port {server_port}\")\n",
    "        return ssock\n",
    "    except socket.error as socket_err:\n",
    "        print(f\"Socket error occurred: {socket_err}\")\n",
    "        raise\n",
    "        \n",
    "# Create the socket connection\n",
    "active_socket = ctrader_connection()"
   ]
  },
  {
   "cell_type": "code",
   "execution_count": 21,
   "id": "a9d8f88a",
   "metadata": {},
   "outputs": [],
   "source": [
    "def send_ctrader_request(socket, fix_message):\n",
    "    parser = simplefix.FixParser()\n",
    "    seq_num = 1\n",
    "    if fix_message.get(35 == \"A\"):\n",
    "        fix_message.append_pair(34, seq_num, header=True)\n",
    "        \n",
    "    else:\n",
    "        seq_num += 1\n",
    "        fix_message.append_pair(34, seq_num, header=True)\n",
    "        \n",
    "    encoded_message = fix_message.encode()\n",
    "        \n",
    "    try:\n",
    "        # Send the message bytes to the backend\n",
    "        socket.send(encoded_message)\n",
    "        # Fetch the API response\n",
    "        response = socket.recv(socket_buffer)\n",
    "        # Use the parser to decode the API response\n",
    "        parser.append_buffer(response)\n",
    "        # Parse the message to return\n",
    "        return parser.get_message()\n",
    "    except socket.error as socket_err:\n",
    "        print(f\"Socket error occurred: {socket_err}\")\n",
    "        raise\n",
    "    except Exception as e:\n",
    "        print(f\"An error occurred: {e}\")\n",
    "        raise"
   ]
  },
  {
   "cell_type": "markdown",
   "id": "f54b0376",
   "metadata": {},
   "source": [
    "#### Initiate a session to CTrader"
   ]
  },
  {
   "cell_type": "code",
   "execution_count": 18,
   "id": "17a61e76",
   "metadata": {
    "scrolled": false
   },
   "outputs": [
    {
     "name": "stdout",
     "output_type": "stream",
     "text": [
      "8=FIX.4.4|9=126|35=A|49=demo.ctrader.3988979|56=CSERVER|52=20231211-19:27:51.008|57=QUOTE|98=0|108=0|141=Y|553=3988979|554=SamaTrades123!|10=131\n",
      "Login Successful\n"
     ]
    }
   ],
   "source": [
    "# Create the FIX message\n",
    "login_message = simplefix.FixMessage()\n",
    "login_message.append_pair(8, \"FIX.4.4\")\n",
    "login_message.append_pair(9, 126)\n",
    "login_message.append_pair(35, \"A\")\n",
    "login_message.append_pair(49, sender)\n",
    "login_message.append_pair(56, target)\n",
    "login_message.append_utc_timestamp(52)\n",
    "login_message.append_pair(57, \"QUOTE\")\n",
    "login_message.append_pair(98, 0)\n",
    "login_message.append_pair(108, 0)\n",
    "# Reset all sequence connections\n",
    "login_message.append_pair(141, \"Y\")\n",
    "login_message.append_pair(553,username)\n",
    "login_message.append_pair(554,password)\n",
    "login_message.append_pair(10, 131)\n",
    "\n",
    "login_response_message = send_ctrader_request(active_socket, login_message)\n",
    "if login_response_message.get(35).decode() == \"A\":\n",
    "    print(\"Login Successful\")\n",
    "else:\n",
    "    print(f\"Login failed : {login_response_status.get(58)}\")"
   ]
  },
  {
   "cell_type": "markdown",
   "id": "aa75bb2e",
   "metadata": {},
   "source": [
    "#### Request Market Data"
   ]
  },
  {
   "cell_type": "code",
   "execution_count": 22,
   "id": "d8edc64a",
   "metadata": {},
   "outputs": [
    {
     "name": "stdout",
     "output_type": "stream",
     "text": [
      "\n",
      "\n",
      "8=FIX.4.4|9=658|35=X|34=4|49=CSERVER|50=QUOTE|52=20231211-19:27:53.176|56=demo.ctrader.3988979|268=14|279=0|269=1|278=3819140147|55=1|270=1.07655|271=1500000|279=0|269=1|278=3819140151|55=1|270=1.07654|271=100000|279=0|269=1|278=3819140149|55=1|270=1.07656|271=3000000|279=0|269=1|278=3819140148|55=1|270=1.07657|271=5000000|279=2|278=3819138912|55=1|279=2|278=3819138911|55=1|279=2|278=3819138910|55=1|279=2|278=3819138909|55=1|279=0|269=0|278=3819140144|55=1|270=1.07651|271=1000000|279=0|269=0|278=3819140143|55=1|270=1.0765|271=3000000|279=0|269=0|278=3819140142|55=1|270=1.07649|271=5000000|279=2|278=3819138906|55=1|279=2|278=3819138904|55=1|279=2|278=3819138908|55=1|10=157\n"
     ]
    }
   ],
   "source": [
    "market_req_message = simplefix.FixMessage()\n",
    "market_req_message.append_pair(8, \"FIX.4.4\")\n",
    "market_req_message.append_pair(9, 135)\n",
    "market_req_message.append_pair(35, \"V\")\n",
    "market_req_message.append_pair(49, sender)\n",
    "market_req_message.append_pair(56, target)\n",
    "market_req_message.append_utc_timestamp(52)\n",
    "market_req_message.append_pair(57, \"QUOTE\")\n",
    "market_req_message.append_pair(262, \"EURUSD\")\n",
    "market_req_message.append_pair(263, 1)\n",
    "market_req_message.append_pair(264, 0)\n",
    "market_req_message.append_pair(265, 1)\n",
    "market_req_message.append_pair(267, 2)\n",
    "market_req_message.append_pair(269, 0)\n",
    "market_req_message.append_pair(269, 1)\n",
    "market_req_message.append_pair(146, 1)\n",
    "market_req_message.append_pair(55,1)\n",
    "market_req_message.append_pair(10, 94)\n",
    "\n",
    "market_data_response = send_ctrader_request(active_socket, market_req_message)\n",
    "print(\"\\n\")\n",
    "print(market_data_response)"
   ]
  },
  {
   "cell_type": "markdown",
   "id": "ce6110ee",
   "metadata": {},
   "source": [
    "#### Submit an order"
   ]
  },
  {
   "cell_type": "code",
   "execution_count": 28,
   "id": "92625cd5",
   "metadata": {},
   "outputs": [
    {
     "name": "stdout",
     "output_type": "stream",
     "text": [
      "\n",
      "\n",
      "8=FIX.4.4|9=550|35=X|34=9|49=CSERVER|50=QUOTE|52=20231211-19:27:56.717|56=demo.ctrader.3988979|268=11|279=0|269=1|278=3819147597|55=1|270=1.07655|271=3000000|279=0|269=1|278=3819147596|55=1|270=1.07654|271=1500000|279=2|278=3819146115|55=1|279=2|278=3819146116|55=1|279=0|269=0|278=3819147591|55=1|270=1.0765|271=1000000|279=0|269=0|278=3819147595|55=1|270=1.07651|271=600000|279=0|269=0|278=3819147594|55=1|270=1.07649|271=3000000|279=0|269=0|278=3819147593|55=1|270=1.07648|271=5000000|279=2|278=3819146113|55=1|279=2|278=3819146111|55=1|279=2|278=3819146109|55=1|10=217\n"
     ]
    }
   ],
   "source": [
    "# field=57|371=57|372=D|373=14|10=244\n",
    "order_message = simplefix.FixMessage()\n",
    "order_message.append_pair(8, \"FIX.4.4\")\n",
    "order_message.append_pair(34, 12, header=True)\n",
    "order_message.append_pair(54, 1)\n",
    "order_message.append_pair(35, \"D\")\n",
    "order_message.append_pair(141, \"Y\")\n",
    "# Symbol\n",
    "order_message.append_pair(55, \"EURUSD\")\n",
    "order_message.append_pair(57, \"QUOTE\")\n",
    "order_message.append_pair(49, sender)\n",
    "order_message.append_pair(56, target)\n",
    "order_message.append_utc_timestamp(52)\n",
    "# Order Qty\n",
    "order_message.append_pair(38, 100)\n",
    "order_message.append_pair(40, 2)\n",
    "# Price\n",
    "order_message.append_pair(44, 0.01)\n",
    "order_message.append_pair(10, 245)\n",
    "\n",
    "order_submission_response = send_ctrader_request(active_socket, order_message)\n",
    "print(\"\\n\")\n",
    "print(order_submission_response)"
   ]
  },
  {
   "cell_type": "markdown",
   "id": "d2536f43",
   "metadata": {},
   "source": [
    "#### Check order status"
   ]
  },
  {
   "cell_type": "code",
   "execution_count": 25,
   "id": "bd50a8df",
   "metadata": {},
   "outputs": [
    {
     "name": "stdout",
     "output_type": "stream",
     "text": [
      "\n",
      "\n",
      "8=FIX.4.4|9=519|35=X|34=6|49=CSERVER|50=QUOTE|52=20231211-19:27:54.143|56=demo.ctrader.3988979|268=11|279=0|269=1|278=3819142347|55=1|270=1.07656|271=5000000|279=0|269=1|278=3819142345|55=1|270=1.07655|271=4000000|279=0|269=1|278=3819142344|55=1|270=1.07653|271=100000|279=0|269=1|278=3819142348|55=1|270=1.07654|271=500000|279=2|278=3819140147|55=1|279=2|278=3819140151|55=1|279=2|278=3819140149|55=1|279=2|278=3819140148|55=1|279=0|269=0|278=3819142340|55=1|270=1.0765|271=4000000|279=2|278=3819140144|55=1|279=2|278=3819140143|55=1|10=216\n"
     ]
    }
   ],
   "source": [
    "order_status_message = simplefix.FixMessage()\n",
    "order_status_message.append_pair(8, \"FIX.4.4\")\n",
    "order_status_message.append_pair(34, 12, header=True)\n",
    "order_status_message.append_pair(35, \"H\")\n",
    "order_status_message.append_pair(54, 1)\n",
    "\n",
    "order_status_response = send_ctrader_request(active_socket, order_status_message)\n",
    "print(\"\\n\")\n",
    "print(order_status_response)"
   ]
  }
 ],
 "metadata": {
  "kernelspec": {
   "display_name": "Python 3 (ipykernel)",
   "language": "python",
   "name": "python3"
  },
  "language_info": {
   "codemirror_mode": {
    "name": "ipython",
    "version": 3
   },
   "file_extension": ".py",
   "mimetype": "text/x-python",
   "name": "python",
   "nbconvert_exporter": "python",
   "pygments_lexer": "ipython3",
   "version": "3.11.4"
  }
 },
 "nbformat": 4,
 "nbformat_minor": 5
}
