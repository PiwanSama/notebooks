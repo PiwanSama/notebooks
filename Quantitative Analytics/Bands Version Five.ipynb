{
 "cells": [
  {
   "cell_type": "markdown",
   "id": "3a8fd23d",
   "metadata": {},
   "source": [
    "# Bollinger Bands Strategy and Backtesting"
   ]
  },
  {
   "cell_type": "markdown",
   "id": "de4635ca",
   "metadata": {},
   "source": [
    "Prepared by Samalie Piwan   \n",
    "Email : spiwan@andrew.cmu.edu"
   ]
  },
  {
   "cell_type": "markdown",
   "id": "237aa542",
   "metadata": {},
   "source": [
    "## 1. Strategy Implementation"
   ]
  },
  {
   "cell_type": "markdown",
   "id": "bcf39045",
   "metadata": {},
   "source": [
    "Load the libraries to be used in the project"
   ]
  },
  {
   "cell_type": "code",
   "execution_count": 123,
   "id": "d9f60983",
   "metadata": {},
   "outputs": [],
   "source": [
    "import pandas as pd\n",
    "import numpy as np\n",
    "import matplotlib.pyplot as plt\n",
    "import pandas_ta as ta\n",
    "import seaborn as sns\n",
    "import yfinance as yf\n",
    "import requests\n",
    "from backtesting import Backtest, Strategy\n",
    "from tabulate import tabulate\n",
    "backtesting.set_bokeh_output(notebook=False)"
   ]
  },
  {
   "cell_type": "markdown",
   "id": "cd394cb7",
   "metadata": {},
   "source": [
    "Declare the Simple Moving Average Window  and Standard Deviation to run the first version of the strategy with"
   ]
  },
  {
   "cell_type": "code",
   "execution_count": 129,
   "id": "a0734664",
   "metadata": {},
   "outputs": [],
   "source": [
    "# Declare the variables that will be used globally as SMA window, Short Period and Long Period / Standard Deviation\n",
    "sma_window = 20\n",
    "std = 2"
   ]
  },
  {
   "cell_type": "markdown",
   "id": "ad7a0716",
   "metadata": {},
   "source": [
    "Set the fiat currency pair to run the first version of the strategy on"
   ]
  },
  {
   "cell_type": "code",
   "execution_count": 130,
   "id": "901a0aac",
   "metadata": {
    "scrolled": false
   },
   "outputs": [],
   "source": [
    "period = \"1y\"\n",
    "backtest_start='2005-01-01'\n",
    "backtest_end = '2022-12-31'"
   ]
  },
  {
   "cell_type": "markdown",
   "id": "0d2b81f0",
   "metadata": {},
   "source": [
    "### 1.1 Backtesting Slice One of Dataset - Jan 2005 to Dec 2013"
   ]
  },
  {
   "cell_type": "markdown",
   "id": "839688ca",
   "metadata": {},
   "source": [
    "Define the Indicator(Bollinger Bands) and Buy / Sell Strategy that the backtesting.py library will optimize"
   ]
  },
  {
   "cell_type": "code",
   "execution_count": 131,
   "id": "8b52f9b9",
   "metadata": {},
   "outputs": [],
   "source": [
    "def indicator(data, window, std_dev):\n",
    "    bbands = ta.bbands(close = data.Close.s, length = window, std = std_dev)\n",
    "    return bbands.to_numpy().T[:3]\n",
    "\n",
    "class BollingerBandsStrategy(Strategy):\n",
    "        \n",
    "    sma_window = sma_window\n",
    "    std = std\n",
    "    \n",
    "    def init(self):\n",
    "        self.bbands = self.I(indicator, self.data, self.sma_window, self.std)\n",
    "        \n",
    "    def next(self):\n",
    "        lower_band = self.bbands[0]\n",
    "        upper_band = self.bbands[2]\n",
    "\n",
    "        if self.position:\n",
    "            if self.data.Close[-1] > upper_band[-1]:\n",
    "                self.position.close()\n",
    "        else:\n",
    "            if self.data.Close[-1] < lower_band[-1]:\n",
    "                self.buy()"
   ]
  },
  {
   "cell_type": "markdown",
   "id": "ecba3e6c",
   "metadata": {},
   "source": [
    "Create a list of the currency pairs"
   ]
  },
  {
   "cell_type": "code",
   "execution_count": 168,
   "id": "2d81c978",
   "metadata": {},
   "outputs": [],
   "source": [
    "currency_pairs = ['EURUSD=X', 'USDJPY=X', 'GBPUSD=X', 'AUDUSD=X', 'USDCAD=X', 'USDCHF=X', 'EURGBP=X', 'EURJPY=X', 'GBPJPY=X', 'EURCHF=X', 'AUDJPY=X', 'USDCNY=X', 'USDMXN=X', 'USDHKD=X', 'USDSGD=X']"
   ]
  },
  {
   "cell_type": "markdown",
   "id": "0b7cd680",
   "metadata": {},
   "source": [
    "Load the data from the API"
   ]
  },
  {
   "cell_type": "code",
   "execution_count": 169,
   "id": "d5f33e47",
   "metadata": {},
   "outputs": [
    {
     "name": "stdout",
     "output_type": "stream",
     "text": [
      "[*********************100%%**********************]  1 of 1 completed\n",
      "[*********************100%%**********************]  1 of 1 completed\n",
      "[*********************100%%**********************]  1 of 1 completed\n",
      "[*********************100%%**********************]  1 of 1 completed\n",
      "[*********************100%%**********************]  1 of 1 completed\n",
      "[*********************100%%**********************]  1 of 1 completed\n",
      "[*********************100%%**********************]  1 of 1 completed\n",
      "[*********************100%%**********************]  1 of 1 completed\n",
      "[*********************100%%**********************]  1 of 1 completed\n",
      "[*********************100%%**********************]  1 of 1 completed\n",
      "[*********************100%%**********************]  1 of 1 completed\n",
      "[*********************100%%**********************]  1 of 1 completed\n",
      "[*********************100%%**********************]  1 of 1 completed\n",
      "[*********************100%%**********************]  1 of 1 completed\n",
      "[*********************100%%**********************]  1 of 1 completed\n"
     ]
    }
   ],
   "source": [
    "for forex_pair in currency_pairs:\n",
    "    \n",
    "    data = yf.download(forex_pair, start=backtest_start, end=backtest_end)\n",
    "\n",
    "    #Seperate the data into two sets, 2005 to 2013 and 2014 to 2022\n",
    "    backtest_dataset = pd.DataFrame(data.loc['2005-01-01' : '2013-12-31'].copy())\n",
    "    rerun_dataset = pd.DataFrame(data.loc['2014-01-01':'2022-12-31'].copy())\n",
    "    \n",
    "    backtest_filename = \"backtest\"+forex_pair+\".csv\"\n",
    "    rerun_filename = \"rerun\"+forex_pair+\".csv\"\n",
    "\n",
    "    backtest_dataset.to_csv(\"backtestdata/\"+backtest_filename)\n",
    "    rerun_dataset.to_csv(\"rerundata/\"+rerun_filename)"
   ]
  },
  {
   "cell_type": "markdown",
   "id": "6e7f5bba",
   "metadata": {},
   "source": [
    "Define the function that will run the backtests for the currency pair list above"
   ]
  },
  {
   "cell_type": "code",
   "execution_count": 170,
   "id": "bd345151",
   "metadata": {},
   "outputs": [],
   "source": [
    "backtest_results = []\n",
    "backtest_dir = 'backtestdata'\n",
    "files = os.listdir(backtest_dir)\n",
    "\n",
    "def backtest_strategy(param_cash, param_commission):\n",
    "    index = 0\n",
    "    while index < len(files):\n",
    "        try:\n",
    "            filename = backtest_dir+\"/\"+files[index]\n",
    "            symbol = filename[21:27]\n",
    "            \n",
    "            file_data = pd.read_csv(filename)\n",
    "            \n",
    "            data_df = file_data.copy()\n",
    "            data_df.index = pd.DatetimeIndex(data_df['Date'])\n",
    "            data_df.sort_index(ascending=True, inplace=True)\n",
    "            \n",
    "            ohlc_data = data_df.resample(\"1H\").apply({'Open': 'first', 'High': 'max', 'Low': 'min', 'Close': 'last'}).ffill()\n",
    "           \n",
    "            bt = Backtest(data_df, BollingerBandsStrategy, cash = param_cash, commission = param_commission)\n",
    "            stats = bt.run()\n",
    "            backtest_results.append(list([symbol, stats]))\n",
    "        \n",
    "        except FileNotFoundError:\n",
    "            print(f\"File {filename} not found\")\n",
    "        \n",
    "        except ValueError:\n",
    "            break\n",
    "        \n",
    "        finally:\n",
    "            index += 1\n",
    "            \n",
    "    return backtest_results"
   ]
  },
  {
   "cell_type": "code",
   "execution_count": 172,
   "id": "452aa42a",
   "metadata": {
    "scrolled": false
   },
   "outputs": [],
   "source": [
    "bulk_backtest_results = backtest_strategy(10000, 0.01)"
   ]
  },
  {
   "cell_type": "code",
   "execution_count": 174,
   "id": "2df2bffa",
   "metadata": {
    "scrolled": false
   },
   "outputs": [
    {
     "name": "stdout",
     "output_type": "stream",
     "text": [
      "AUDJPY\n",
      "-1211.9439897155723\n",
      "AUDUSD\n",
      "-1108.504819706688\n",
      "EURCHF\n",
      "-2357.9539690840265\n",
      "EURGBP\n",
      "-1829.6338996845495\n",
      "EURJPY\n",
      "-2355.8473608398394\n",
      "EURUSD\n",
      "-2397.3550437414638\n",
      "GBPJPY\n",
      "-3126.825851593023\n",
      "GBPUSD\n",
      "-2041.2635893452302\n",
      "USDCAD\n",
      "-2485.649643279318\n",
      "USDCHF\n",
      "-2466.3597611713362\n",
      "USDCNY\n",
      "-2997.941645092963\n",
      "USDHKD\n",
      "-2235.8260506153106\n",
      "USDJPY\n",
      "-1425.432366104128\n",
      "USDMXN\n",
      "-1456.5712540531124\n",
      "USDSGD\n",
      "-2986.3061991429313\n"
     ]
    }
   ],
   "source": [
    "for results in bulk_backtest_results:\n",
    "    print(results[0])\n",
    "    stats = results[1]\n",
    "    pnl_backtest = np.cumsum(stats['_trades'])\n",
    "    pnl_backtest_val = pnl_backtest['PnL'].iloc[-1]\n",
    "    print(pnl_backtest_val)"
   ]
  },
  {
   "cell_type": "markdown",
   "id": "b846a166",
   "metadata": {},
   "source": [
    "### 2.2 Cross validation"
   ]
  },
  {
   "cell_type": "markdown",
   "id": "f6c2905e",
   "metadata": {},
   "source": [
    "From our previous backtesting results, the optimal paramters are:\n",
    "\n",
    " - Optimal standard deviation : 1.4\n",
    " - Optimal SMA Window : 29"
   ]
  },
  {
   "cell_type": "code",
   "execution_count": 85,
   "id": "4547a5d5",
   "metadata": {},
   "outputs": [],
   "source": [
    "optmized_std = 1.4\n",
    "optimized_window = 29"
   ]
  },
  {
   "cell_type": "markdown",
   "id": "26596878",
   "metadata": {},
   "source": [
    "Run an instance of our Backtest class using  from section 2 using:\n",
    "- The **'rerun'** files that contain data from 2014 to 2022\n",
    "- Cash of $10,000\n",
    "- Commission at 1%"
   ]
  },
  {
   "cell_type": "code",
   "execution_count": 104,
   "id": "51619f13",
   "metadata": {},
   "outputs": [],
   "source": [
    "class OptBollingerBandsStrategy(Strategy):\n",
    "    \n",
    "    std = optmized_std\n",
    "    sma_window = optimized_window\n",
    "    \n",
    "    def init(self):\n",
    "        self.bbands = self.I(indicator, self.data, self.sma_window, self.std)\n",
    "        \n",
    "    def next(self):\n",
    "        lower_band = self.bbands[0]\n",
    "        upper_band = self.bbands[2]\n",
    "\n",
    "        if self.position:\n",
    "            if self.data.Close[-1] > upper_band[-1]:\n",
    "                self.position.close()\n",
    "        else:\n",
    "            if self.data.Close[-1] < lower_band[-1]:\n",
    "                self.buy()"
   ]
  },
  {
   "cell_type": "code",
   "execution_count": 117,
   "id": "918bedb0",
   "metadata": {},
   "outputs": [],
   "source": [
    "rerun_results = []\n",
    "rerun_dir = 'rerundata'\n",
    "files = os.listdir(rerun_dir)\n",
    "\n",
    "def validate_strategy(param_cash, param_commission):\n",
    "    index = 0\n",
    "    while index < len(files):\n",
    "        try:\n",
    "            filename = rerun_dir+\"/\"+files[index]\n",
    "            symbol = filename[15:21]\n",
    "            \n",
    "            file_data = pd.read_csv(filename)\n",
    "            \n",
    "            data_df = file_data.copy()\n",
    "            data_df.index = pd.DatetimeIndex(data_df['timestamp'])\n",
    "            data_df.sort_index(ascending=True, inplace=True)\n",
    "            \n",
    "            bt = Backtest(data_df, OptBollingerBandsStrategy, cash = param_cash, commission = param_commission)\n",
    "            stats = bt.run()\n",
    "            rerun_results.append(list([symbol, stats]))\n",
    "        \n",
    "        except FileNotFoundError:\n",
    "            print(f\"File {filename} not found\")\n",
    "        \n",
    "        except ValueError:\n",
    "            break\n",
    "        \n",
    "        finally:\n",
    "            index += 1\n",
    "            \n",
    "    return rerun_results"
   ]
  },
  {
   "cell_type": "code",
   "execution_count": 118,
   "id": "5cc0749c",
   "metadata": {},
   "outputs": [],
   "source": [
    "bulk_validate_results = validate_strategy(10000, 0.01)"
   ]
  },
  {
   "cell_type": "code",
   "execution_count": 120,
   "id": "58e8bc8e",
   "metadata": {},
   "outputs": [
    {
     "name": "stdout",
     "output_type": "stream",
     "text": [
      "AUDCHF\n",
      "-882.9188419999988\n",
      "AUDJPY\n",
      "570.0467199999985\n",
      "AUDUSD\n",
      "1121.5464528000007\n",
      "CADJPY\n",
      "952.6324799999995\n",
      "EURAUD\n",
      "1082.7606537000001\n",
      "EURCHF\n",
      "-1035.9924848\n",
      "EURGBP\n",
      "451.77775489999846\n",
      "EURJPY\n",
      "2322.2707600000003\n",
      "EURUSD\n",
      "502.15364440000064\n",
      "GBPAUD\n",
      "657.3007135999995\n",
      "GBPCHF\n",
      "-1319.978268\n",
      "GBPJPY\n",
      "696.6432000000002\n",
      "GBPUSD\n",
      "-597.2395260000004\n",
      "NZDUSD\n",
      "221.77492310000022\n",
      "USDCAD\n",
      "1550.7800684000026\n",
      "USDCHF\n",
      "1011.2709577999985\n",
      "USDJPY\n",
      "727.7078399999991\n",
      "USDMXN\n",
      "-98.9501399999993\n",
      "USDSGD\n",
      "602.4581310000017\n"
     ]
    }
   ],
   "source": [
    "for result in bulk_validate_results:\n",
    "    print(result[0])\n",
    "    stats = result[1]\n",
    "    pnl_rerun = np.cumsum(stats['_trades'])\n",
    "    pnl_rerun_val = pnl_rerun['PnL'].iloc[-1]\n",
    "    print(pnl_rerun_val)"
   ]
  }
 ],
 "metadata": {
  "kernelspec": {
   "display_name": "Python 3 (ipykernel)",
   "language": "python",
   "name": "python3"
  },
  "language_info": {
   "codemirror_mode": {
    "name": "ipython",
    "version": 3
   },
   "file_extension": ".py",
   "mimetype": "text/x-python",
   "name": "python",
   "nbconvert_exporter": "python",
   "pygments_lexer": "ipython3",
   "version": "3.11.4"
  }
 },
 "nbformat": 4,
 "nbformat_minor": 5
}
