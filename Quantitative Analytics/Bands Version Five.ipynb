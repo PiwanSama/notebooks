{
 "cells": [
  {
   "cell_type": "markdown",
   "id": "3a8fd23d",
   "metadata": {},
   "source": [
    "# Bollinger Bands Strategy and Backtesting"
   ]
  },
  {
   "cell_type": "markdown",
   "id": "de4635ca",
   "metadata": {},
   "source": [
    "Prepared by Samalie Piwan   \n",
    "Email : spiwan@andrew.cmu.edu"
   ]
  },
  {
   "cell_type": "markdown",
   "id": "237aa542",
   "metadata": {},
   "source": [
    "## 1. Backtest Implementation"
   ]
  },
  {
   "cell_type": "markdown",
   "id": "bcf39045",
   "metadata": {},
   "source": [
    "Load the libraries to be used in the project"
   ]
  },
  {
   "cell_type": "code",
   "execution_count": 120,
   "id": "d9f60983",
   "metadata": {},
   "outputs": [],
   "source": [
    "import pandas as pd\n",
    "import numpy as np\n",
    "import matplotlib.pyplot as plt\n",
    "import pandas_ta as ta\n",
    "import seaborn as sns\n",
    "import yfinance as yf\n",
    "import requests\n",
    "from io import StringIO\n",
    "from backtesting import Backtest, Strategy\n",
    "import backtesting\n",
    "from tabulate import tabulate\n",
    "import csv\n",
    "backtesting.set_bokeh_output(notebook=False)"
   ]
  },
  {
   "cell_type": "markdown",
   "id": "cd394cb7",
   "metadata": {},
   "source": [
    "Declare the Simple Moving Average Window  and Standard Deviation to run the first version of the strategy with"
   ]
  },
  {
   "cell_type": "code",
   "execution_count": 121,
   "id": "a0734664",
   "metadata": {},
   "outputs": [],
   "source": [
    "# Declare the variables that will be used globally as SMA window, Short Period and Long Period / Standard Deviation\n",
    "sma_window = 20\n",
    "std = 3"
   ]
  },
  {
   "cell_type": "markdown",
   "id": "ad7a0716",
   "metadata": {},
   "source": [
    "Set the fiat currency pair to run the first version of the strategy on"
   ]
  },
  {
   "cell_type": "code",
   "execution_count": 108,
   "id": "901a0aac",
   "metadata": {
    "scrolled": false
   },
   "outputs": [],
   "source": [
    "from_symbol = \"EUR\"\n",
    "to_symbol = \"USD\"\n",
    "interval = \"60min\"\n",
    "api_key = \"CV4O3KUIMS9TVCLR\""
   ]
  },
  {
   "cell_type": "markdown",
   "id": "0d2b81f0",
   "metadata": {},
   "source": [
    "### 1.1 Strategy and Returns on Annual FX data  - Jan 2005 to Dec 2013"
   ]
  },
  {
   "cell_type": "markdown",
   "id": "518da33b",
   "metadata": {},
   "source": [
    "Create a list that will hold the results from the backtest and cross-validation"
   ]
  },
  {
   "cell_type": "code",
   "execution_count": 109,
   "id": "b7d0fed8",
   "metadata": {},
   "outputs": [],
   "source": [
    "backtest_results = []"
   ]
  },
  {
   "cell_type": "markdown",
   "id": "ecba3e6c",
   "metadata": {},
   "source": [
    "Create a list of the currency pairs"
   ]
  },
  {
   "cell_type": "code",
   "execution_count": 110,
   "id": "2d81c978",
   "metadata": {},
   "outputs": [],
   "source": [
    "currency_pairs = [\"EUR/USD\", \"GBP/USD\", \"USD/JPY\", \"AUD/USD\", \"USD/CAD\", \"USD/CHF\", \"NZD/USD\", \"EUR/JPY\", \"GBP/JPY\", \"EUR/GBP\", \"EUR/CHF\", \"USD/SGD\", \"AUD/JPY\", \"CAD/JPY\", \"GBP/AUD\", \"NZD/JPY\", \"EUR/AUD\", \"USD/MXN\", \"GBP/CHF\", \"AUD/CHF\"]"
   ]
  },
  {
   "cell_type": "markdown",
   "id": "839688ca",
   "metadata": {},
   "source": [
    "Define the Indicator(Bollinger Bands) and Buy / Sell Strategy that the backtesting.py library will optimize"
   ]
  },
  {
   "cell_type": "code",
   "execution_count": 111,
   "id": "8b52f9b9",
   "metadata": {},
   "outputs": [],
   "source": [
    "def indicator(data, window, std_dev):\n",
    "    bbands = ta.bbands(close = data.Close.s, length = window, std = std_dev)\n",
    "    return bbands.to_numpy().T[:3]\n",
    "\n",
    "class BollingerBandsStrategy(Strategy):\n",
    "        \n",
    "    sma_window = 20\n",
    "    std = 2\n",
    "    \n",
    "    def init(self):\n",
    "        self.bbands = self.I(indicator, self.data, self.sma_window, self.std)\n",
    "        \n",
    "    def next(self):\n",
    "        lower_band = self.bbands[0]\n",
    "        upper_band = self.bbands[2]\n",
    "\n",
    "        if self.position:\n",
    "            if self.data.Close[-1] > upper_band[-1]:\n",
    "                self.position.close()\n",
    "        else:\n",
    "            if self.data.Close[-1] < lower_band[-1]:\n",
    "                self.buy()"
   ]
  },
  {
   "cell_type": "markdown",
   "id": "6e7f5bba",
   "metadata": {},
   "source": [
    "Define the function that will run the backtests for the currency pair list above"
   ]
  },
  {
   "cell_type": "code",
   "execution_count": 112,
   "id": "bd345151",
   "metadata": {},
   "outputs": [],
   "source": [
    "def test_strategy(start_date, end_date, param_cash, param_commission):\n",
    "    for pair in currency_pairs:\n",
    "        symbols = pair.split('/')\n",
    "        from_symbol = symbols[0].strip()\n",
    "        to_symbol = symbols[1].strip()\n",
    "        # Load the monthly data from the API\n",
    "        monthly_url = f\"https://www.alphavantage.co/query?function=FX_MONTHLY&from_symbol={from_symbol}&to_symbol={to_symbol}&apikey={api_key}&datatype=csv\"\n",
    "        monthly_request = requests.get(monthly_url)\n",
    "        \n",
    "        #Convert the CSV to a pandas dataframe\n",
    "        monthly_data = StringIO(monthly_request.text)\n",
    "        csv_res_monthly_df = pd.read_csv(monthly_data)\n",
    "\n",
    "        monthly_data_df = csv_res_monthly_df.copy()\n",
    "        monthly_data_df['timestamp'] = pd.to_datetime(monthly_data_df['timestamp'])\n",
    "        monthly_pricing_df = monthly_data_df.set_index('timestamp')\n",
    "        monthly_pricing_df.sort_index(ascending=True, inplace=True)\n",
    "        \n",
    "        #Seperate the data into two sets, 2005 to 2013 and 2014 to 2022\n",
    "        dataset = pd.DataFrame(monthly_pricing_df.loc[start_date : end_date].copy())\n",
    "        \n",
    "        dataset = dataset.rename(columns = {'open':'Open', 'high':'High', 'low':'Low', 'close':'Close'})\n",
    "        \n",
    "        bt = Backtest(dataset, BollingerBandsStrategy, cash = param_cash, commission = param_commission)\n",
    "        stats = bt.run()\n",
    "        \n",
    "        # Append the PnL, Final Equity, Sharpe Ratio and Return % to the list\n",
    "        \n",
    "        backtest_results.append(list([pair, round(stats['_trades']['PnL'][0],3), stats['Equity Final [$]'],\n",
    "                                round(stats['Sharpe Ratio'], 5), round(stats['Return [%]'], 3)]))\n",
    "        \n",
    "    print(backtest_results)\n",
    "    return backtest_results"
   ]
  },
  {
   "cell_type": "code",
   "execution_count": 113,
   "id": "a987c0ef",
   "metadata": {
    "scrolled": false
   },
   "outputs": [
    {
     "ename": "KeyError",
     "evalue": "'timestamp'",
     "output_type": "error",
     "traceback": [
      "\u001b[1;31m---------------------------------------------------------------------------\u001b[0m",
      "\u001b[1;31mKeyError\u001b[0m                                  Traceback (most recent call last)",
      "File \u001b[1;32m~\\anaconda3\\Lib\\site-packages\\pandas\\core\\indexes\\base.py:3802\u001b[0m, in \u001b[0;36mIndex.get_loc\u001b[1;34m(self, key, method, tolerance)\u001b[0m\n\u001b[0;32m   3801\u001b[0m \u001b[38;5;28;01mtry\u001b[39;00m:\n\u001b[1;32m-> 3802\u001b[0m     \u001b[38;5;28;01mreturn\u001b[39;00m \u001b[38;5;28mself\u001b[39m\u001b[38;5;241m.\u001b[39m_engine\u001b[38;5;241m.\u001b[39mget_loc(casted_key)\n\u001b[0;32m   3803\u001b[0m \u001b[38;5;28;01mexcept\u001b[39;00m \u001b[38;5;167;01mKeyError\u001b[39;00m \u001b[38;5;28;01mas\u001b[39;00m err:\n",
      "File \u001b[1;32m~\\anaconda3\\Lib\\site-packages\\pandas\\_libs\\index.pyx:138\u001b[0m, in \u001b[0;36mpandas._libs.index.IndexEngine.get_loc\u001b[1;34m()\u001b[0m\n",
      "File \u001b[1;32m~\\anaconda3\\Lib\\site-packages\\pandas\\_libs\\index.pyx:165\u001b[0m, in \u001b[0;36mpandas._libs.index.IndexEngine.get_loc\u001b[1;34m()\u001b[0m\n",
      "File \u001b[1;32mpandas\\_libs\\hashtable_class_helper.pxi:5745\u001b[0m, in \u001b[0;36mpandas._libs.hashtable.PyObjectHashTable.get_item\u001b[1;34m()\u001b[0m\n",
      "File \u001b[1;32mpandas\\_libs\\hashtable_class_helper.pxi:5753\u001b[0m, in \u001b[0;36mpandas._libs.hashtable.PyObjectHashTable.get_item\u001b[1;34m()\u001b[0m\n",
      "\u001b[1;31mKeyError\u001b[0m: 'timestamp'",
      "\nThe above exception was the direct cause of the following exception:\n",
      "\u001b[1;31mKeyError\u001b[0m                                  Traceback (most recent call last)",
      "Cell \u001b[1;32mIn[113], line 2\u001b[0m\n\u001b[0;32m      1\u001b[0m header \u001b[38;5;241m=\u001b[39m [\u001b[38;5;124m\"\u001b[39m\u001b[38;5;124mCurrency Pair\u001b[39m\u001b[38;5;124m\"\u001b[39m, \u001b[38;5;124m\"\u001b[39m\u001b[38;5;124mPnL\u001b[39m\u001b[38;5;124m\"\u001b[39m, \u001b[38;5;124m\"\u001b[39m\u001b[38;5;124mFinal Equity\u001b[39m\u001b[38;5;124m\"\u001b[39m, \u001b[38;5;124m\"\u001b[39m\u001b[38;5;124mSharpe Ratio\u001b[39m\u001b[38;5;124m\"\u001b[39m, \u001b[38;5;124m\"\u001b[39m\u001b[38;5;124mReturn Pct\u001b[39m\u001b[38;5;124m\"\u001b[39m]\n\u001b[1;32m----> 2\u001b[0m strategy_results \u001b[38;5;241m=\u001b[39m test_strategy(\u001b[38;5;124m'\u001b[39m\u001b[38;5;124m2005-01-01\u001b[39m\u001b[38;5;124m'\u001b[39m,\u001b[38;5;124m'\u001b[39m\u001b[38;5;124m2013-12-31\u001b[39m\u001b[38;5;124m'\u001b[39m, \u001b[38;5;241m10000\u001b[39m,\u001b[38;5;241m0.01\u001b[39m)\n",
      "Cell \u001b[1;32mIn[112], line 15\u001b[0m, in \u001b[0;36mtest_strategy\u001b[1;34m(start_date, end_date, param_cash, param_commission)\u001b[0m\n\u001b[0;32m     12\u001b[0m csv_res_monthly_df \u001b[38;5;241m=\u001b[39m pd\u001b[38;5;241m.\u001b[39mread_csv(monthly_data)\n\u001b[0;32m     14\u001b[0m monthly_data_df \u001b[38;5;241m=\u001b[39m csv_res_monthly_df\u001b[38;5;241m.\u001b[39mcopy()\n\u001b[1;32m---> 15\u001b[0m monthly_data_df[\u001b[38;5;124m'\u001b[39m\u001b[38;5;124mtimestamp\u001b[39m\u001b[38;5;124m'\u001b[39m] \u001b[38;5;241m=\u001b[39m pd\u001b[38;5;241m.\u001b[39mto_datetime(monthly_data_df[\u001b[38;5;124m'\u001b[39m\u001b[38;5;124mtimestamp\u001b[39m\u001b[38;5;124m'\u001b[39m])\n\u001b[0;32m     16\u001b[0m monthly_pricing_df \u001b[38;5;241m=\u001b[39m monthly_data_df\u001b[38;5;241m.\u001b[39mset_index(\u001b[38;5;124m'\u001b[39m\u001b[38;5;124mtimestamp\u001b[39m\u001b[38;5;124m'\u001b[39m)\n\u001b[0;32m     17\u001b[0m monthly_pricing_df\u001b[38;5;241m.\u001b[39msort_index(ascending\u001b[38;5;241m=\u001b[39m\u001b[38;5;28;01mTrue\u001b[39;00m, inplace\u001b[38;5;241m=\u001b[39m\u001b[38;5;28;01mTrue\u001b[39;00m)\n",
      "File \u001b[1;32m~\\anaconda3\\Lib\\site-packages\\pandas\\core\\frame.py:3807\u001b[0m, in \u001b[0;36mDataFrame.__getitem__\u001b[1;34m(self, key)\u001b[0m\n\u001b[0;32m   3805\u001b[0m \u001b[38;5;28;01mif\u001b[39;00m \u001b[38;5;28mself\u001b[39m\u001b[38;5;241m.\u001b[39mcolumns\u001b[38;5;241m.\u001b[39mnlevels \u001b[38;5;241m>\u001b[39m \u001b[38;5;241m1\u001b[39m:\n\u001b[0;32m   3806\u001b[0m     \u001b[38;5;28;01mreturn\u001b[39;00m \u001b[38;5;28mself\u001b[39m\u001b[38;5;241m.\u001b[39m_getitem_multilevel(key)\n\u001b[1;32m-> 3807\u001b[0m indexer \u001b[38;5;241m=\u001b[39m \u001b[38;5;28mself\u001b[39m\u001b[38;5;241m.\u001b[39mcolumns\u001b[38;5;241m.\u001b[39mget_loc(key)\n\u001b[0;32m   3808\u001b[0m \u001b[38;5;28;01mif\u001b[39;00m is_integer(indexer):\n\u001b[0;32m   3809\u001b[0m     indexer \u001b[38;5;241m=\u001b[39m [indexer]\n",
      "File \u001b[1;32m~\\anaconda3\\Lib\\site-packages\\pandas\\core\\indexes\\base.py:3804\u001b[0m, in \u001b[0;36mIndex.get_loc\u001b[1;34m(self, key, method, tolerance)\u001b[0m\n\u001b[0;32m   3802\u001b[0m     \u001b[38;5;28;01mreturn\u001b[39;00m \u001b[38;5;28mself\u001b[39m\u001b[38;5;241m.\u001b[39m_engine\u001b[38;5;241m.\u001b[39mget_loc(casted_key)\n\u001b[0;32m   3803\u001b[0m \u001b[38;5;28;01mexcept\u001b[39;00m \u001b[38;5;167;01mKeyError\u001b[39;00m \u001b[38;5;28;01mas\u001b[39;00m err:\n\u001b[1;32m-> 3804\u001b[0m     \u001b[38;5;28;01mraise\u001b[39;00m \u001b[38;5;167;01mKeyError\u001b[39;00m(key) \u001b[38;5;28;01mfrom\u001b[39;00m \u001b[38;5;21;01merr\u001b[39;00m\n\u001b[0;32m   3805\u001b[0m \u001b[38;5;28;01mexcept\u001b[39;00m \u001b[38;5;167;01mTypeError\u001b[39;00m:\n\u001b[0;32m   3806\u001b[0m     \u001b[38;5;66;03m# If we have a listlike key, _check_indexing_error will raise\u001b[39;00m\n\u001b[0;32m   3807\u001b[0m     \u001b[38;5;66;03m#  InvalidIndexError. Otherwise we fall through and re-raise\u001b[39;00m\n\u001b[0;32m   3808\u001b[0m     \u001b[38;5;66;03m#  the TypeError.\u001b[39;00m\n\u001b[0;32m   3809\u001b[0m     \u001b[38;5;28mself\u001b[39m\u001b[38;5;241m.\u001b[39m_check_indexing_error(key)\n",
      "\u001b[1;31mKeyError\u001b[0m: 'timestamp'"
     ]
    }
   ],
   "source": [
    "header = [\"Currency Pair\", \"PnL\", \"Final Equity\", \"Sharpe Ratio\", \"Return Pct\"]\n",
    "strategy_results = test_strategy('2005-01-01','2013-12-31', 10000,0.01)"
   ]
  },
  {
   "cell_type": "code",
   "execution_count": null,
   "id": "6dc9bede",
   "metadata": {},
   "outputs": [],
   "source": [
    "with open('backtest_results.csv', 'w') as results_file:\n",
    "    writer = csv.writer(results_file)\n",
    "    writer.writerow(header)\n",
    "    writer.writerows(strategy_results)"
   ]
  },
  {
   "cell_type": "markdown",
   "id": "08dc334a",
   "metadata": {},
   "source": [
    "### 2.2 Optmizing strategy to select best-performing hyperparameters"
   ]
  },
  {
   "cell_type": "markdown",
   "id": "e4866a62",
   "metadata": {},
   "source": [
    "Run the backesting.py **optimize()** function using the Simple Moving Average Window and Standard Deviation as the parameters to optmize"
   ]
  },
  {
   "cell_type": "code",
   "execution_count": 114,
   "id": "b806ee98",
   "metadata": {
    "scrolled": false
   },
   "outputs": [
    {
     "ename": "NameError",
     "evalue": "name 'bt' is not defined",
     "output_type": "error",
     "traceback": [
      "\u001b[1;31m---------------------------------------------------------------------------\u001b[0m",
      "\u001b[1;31mNameError\u001b[0m                                 Traceback (most recent call last)",
      "Cell \u001b[1;32mIn[114], line 1\u001b[0m\n\u001b[1;32m----> 1\u001b[0m optimized_stats, heatmap \u001b[38;5;241m=\u001b[39m bt\u001b[38;5;241m.\u001b[39moptimize(\n\u001b[0;32m      2\u001b[0m     sma_window_cust \u001b[38;5;241m=\u001b[39m \u001b[38;5;28mrange\u001b[39m(\u001b[38;5;241m5\u001b[39m, \u001b[38;5;241m30\u001b[39m, \u001b[38;5;241m5\u001b[39m),\n\u001b[0;32m      3\u001b[0m     std_cust \u001b[38;5;241m=\u001b[39m \u001b[38;5;28mlist\u001b[39m(np\u001b[38;5;241m.\u001b[39mlinspace(\u001b[38;5;241m0\u001b[39m, \u001b[38;5;241m5\u001b[39m, \u001b[38;5;241m51\u001b[39m)),\n\u001b[0;32m      4\u001b[0m     maximize \u001b[38;5;241m=\u001b[39m \u001b[38;5;124m\"\u001b[39m\u001b[38;5;124mEquity Final [$]\u001b[39m\u001b[38;5;124m\"\u001b[39m,\n\u001b[0;32m      5\u001b[0m     return_heatmap \u001b[38;5;241m=\u001b[39m \u001b[38;5;28;01mTrue\u001b[39;00m\n\u001b[0;32m      6\u001b[0m )\n\u001b[0;32m      8\u001b[0m hm \u001b[38;5;241m=\u001b[39m heatmap\u001b[38;5;241m.\u001b[39mgroupby([\u001b[38;5;124m\"\u001b[39m\u001b[38;5;124msma_window_cust\u001b[39m\u001b[38;5;124m\"\u001b[39m, \u001b[38;5;124m\"\u001b[39m\u001b[38;5;124mstd_cust\u001b[39m\u001b[38;5;124m\"\u001b[39m])\u001b[38;5;241m.\u001b[39mmean()\u001b[38;5;241m.\u001b[39munstack()\n",
      "\u001b[1;31mNameError\u001b[0m: name 'bt' is not defined"
     ]
    }
   ],
   "source": [
    "optimized_stats, heatmap = bt.optimize(\n",
    "    sma_window = range(20, 31, 1),\n",
    "    std = list(np.round(np.linspace(1, 3, 11), 1)),\n",
    "    maximize = 'Equity Final [$]',\n",
    "    return_heatmap = True\n",
    ")\n",
    "\n",
    "hm = heatmap.groupby([\"sma_window\", \"std\"]).mean().unstack()"
   ]
  },
  {
   "cell_type": "markdown",
   "id": "79e82a58",
   "metadata": {},
   "source": [
    "Create a second table with the Sharpe Ratio, Proft and Loss (PnL) and Return percentage from the optimized backtest"
   ]
  },
  {
   "cell_type": "code",
   "execution_count": 115,
   "id": "fbad302c",
   "metadata": {},
   "outputs": [
    {
     "ename": "NameError",
     "evalue": "name 'optimized_stats' is not defined",
     "output_type": "error",
     "traceback": [
      "\u001b[1;31m---------------------------------------------------------------------------\u001b[0m",
      "\u001b[1;31mNameError\u001b[0m                                 Traceback (most recent call last)",
      "Cell \u001b[1;32mIn[115], line 1\u001b[0m\n\u001b[1;32m----> 1\u001b[0m optimized_backtest_results_table \u001b[38;5;241m=\u001b[39m [[\u001b[38;5;124m\"\u001b[39m\u001b[38;5;124mPeak Equity\u001b[39m\u001b[38;5;124m\"\u001b[39m, optimized_stats[\u001b[38;5;124m'\u001b[39m\u001b[38;5;124mEquity Peak [$]\u001b[39m\u001b[38;5;124m'\u001b[39m]],[\u001b[38;5;124m\"\u001b[39m\u001b[38;5;124mFinal Equity\u001b[39m\u001b[38;5;124m\"\u001b[39m,optimized_stats[\u001b[38;5;124m'\u001b[39m\u001b[38;5;124mEquity Final [$]\u001b[39m\u001b[38;5;124m'\u001b[39m]],[\u001b[38;5;124m\"\u001b[39m\u001b[38;5;124mSharpe Ratio\u001b[39m\u001b[38;5;124m\"\u001b[39m, \u001b[38;5;28mround\u001b[39m(optimized_stats[\u001b[38;5;124m'\u001b[39m\u001b[38;5;124mSharpe Ratio\u001b[39m\u001b[38;5;124m'\u001b[39m], \u001b[38;5;241m5\u001b[39m)], \n\u001b[0;32m      2\u001b[0m                           [\u001b[38;5;124m\"\u001b[39m\u001b[38;5;124mPnL\u001b[39m\u001b[38;5;124m\"\u001b[39m, \u001b[38;5;124mf\u001b[39m\u001b[38;5;124m\"\u001b[39m\u001b[38;5;124m$\u001b[39m\u001b[38;5;132;01m{\u001b[39;00m\u001b[38;5;28mround\u001b[39m(optimized_stats[\u001b[38;5;124m'\u001b[39m\u001b[38;5;124m_trades\u001b[39m\u001b[38;5;124m'\u001b[39m][\u001b[38;5;124m'\u001b[39m\u001b[38;5;124mPnL\u001b[39m\u001b[38;5;124m'\u001b[39m][\u001b[38;5;241m0\u001b[39m],\u001b[38;5;241m3\u001b[39m)\u001b[38;5;132;01m}\u001b[39;00m\u001b[38;5;124m\"\u001b[39m],\n\u001b[0;32m      3\u001b[0m                           [\u001b[38;5;124m\"\u001b[39m\u001b[38;5;124mReturn \u001b[39m\u001b[38;5;124m%\u001b[39m\u001b[38;5;124m\"\u001b[39m, \u001b[38;5;124mf\u001b[39m\u001b[38;5;124m\"\u001b[39m\u001b[38;5;132;01m{\u001b[39;00m\u001b[38;5;28mround\u001b[39m(optimized_stats[\u001b[38;5;124m'\u001b[39m\u001b[38;5;124mReturn [\u001b[39m\u001b[38;5;124m%\u001b[39m\u001b[38;5;124m]\u001b[39m\u001b[38;5;124m'\u001b[39m],\u001b[38;5;250m \u001b[39m\u001b[38;5;241m3\u001b[39m)\u001b[38;5;132;01m}\u001b[39;00m\u001b[38;5;124m%\u001b[39m\u001b[38;5;124m\"\u001b[39m]]\n\u001b[0;32m      4\u001b[0m \u001b[38;5;28mprint\u001b[39m(\u001b[38;5;124mf\u001b[39m\u001b[38;5;124m\"\u001b[39m\u001b[38;5;124mBackesting reults with SMA Window and Standard Deviation optimized\u001b[39m\u001b[38;5;130;01m\\n\u001b[39;00m\u001b[38;5;124m\"\u001b[39m)\n\u001b[0;32m      5\u001b[0m \u001b[38;5;28mprint\u001b[39m(tabulate(optimized_backtest_results_table, headers\u001b[38;5;241m=\u001b[39m[\u001b[38;5;124m\"\u001b[39m\u001b[38;5;124mResult\u001b[39m\u001b[38;5;124m\"\u001b[39m, \u001b[38;5;124m\"\u001b[39m\u001b[38;5;124mValue\u001b[39m\u001b[38;5;124m\"\u001b[39m]))\n",
      "\u001b[1;31mNameError\u001b[0m: name 'optimized_stats' is not defined"
     ]
    }
   ],
   "source": [
    "optimized_backtest_results_table = [[\"Peak Equity\", optimized_stats['Equity Peak [$]']],[\"Final Equity\",optimized_stats['Equity Final [$]']],[\"Sharpe Ratio\", round(optimized_stats['Sharpe Ratio'], 5)], \n",
    "                          [\"PnL\", f\"${round(optimized_stats['_trades']['PnL'][0],3)}\"],\n",
    "                          [\"Return %\", f\"{round(optimized_stats['Return [%]'], 3)}%\"]]\n",
    "print(f\"Backesting reults with SMA Window and Standard Deviation optimized\\n\")\n",
    "print(tabulate(optimized_backtest_results_table, headers=[\"Result\", \"Value\"]))                         "
   ]
  },
  {
   "cell_type": "markdown",
   "id": "db9962dc",
   "metadata": {},
   "source": [
    "Plot a heatmap of the best-performing hyperparameters"
   ]
  },
  {
   "cell_type": "code",
   "execution_count": 104,
   "id": "194df43e",
   "metadata": {},
   "outputs": [
    {
     "ename": "NameError",
     "evalue": "name 'hm' is not defined",
     "output_type": "error",
     "traceback": [
      "\u001b[1;31m---------------------------------------------------------------------------\u001b[0m",
      "\u001b[1;31mNameError\u001b[0m                                 Traceback (most recent call last)",
      "Cell \u001b[1;32mIn[104], line 1\u001b[0m\n\u001b[1;32m----> 1\u001b[0m pricing_hm \u001b[38;5;241m=\u001b[39m sns\u001b[38;5;241m.\u001b[39mheatmap(hm[::\u001b[38;5;241m-\u001b[39m\u001b[38;5;241m1\u001b[39m], cmap\u001b[38;5;241m=\u001b[39m\u001b[38;5;124m'\u001b[39m\u001b[38;5;124mviridis\u001b[39m\u001b[38;5;124m'\u001b[39m)\n\u001b[0;32m      2\u001b[0m pricing_hm\u001b[38;5;241m.\u001b[39mset(xlabel\u001b[38;5;241m=\u001b[39m\u001b[38;5;124m'\u001b[39m\u001b[38;5;124mStandard Deviation\u001b[39m\u001b[38;5;124m'\u001b[39m, ylabel\u001b[38;5;241m=\u001b[39m\u001b[38;5;124m'\u001b[39m\u001b[38;5;124mSMA Window\u001b[39m\u001b[38;5;124m'\u001b[39m)\n\u001b[0;32m      3\u001b[0m plt\u001b[38;5;241m.\u001b[39mshow()\n",
      "\u001b[1;31mNameError\u001b[0m: name 'hm' is not defined"
     ]
    }
   ],
   "source": [
    "pricing_hm = sns.heatmap(hm[::-1], cmap='viridis')\n",
    "pricing_hm.set(xlabel='Standard Deviation', ylabel='SMA Window')\n",
    "plt.show()\n",
    "\n",
    "#plot_heatmaps(heatmap, agg='mean')"
   ]
  },
  {
   "cell_type": "markdown",
   "id": "b846a166",
   "metadata": {},
   "source": [
    "### 2.3 Cross validation"
   ]
  },
  {
   "cell_type": "markdown",
   "id": "f6c2905e",
   "metadata": {},
   "source": [
    "Get the optimal parameters"
   ]
  },
  {
   "cell_type": "code",
   "execution_count": 116,
   "id": "89a4ac46",
   "metadata": {},
   "outputs": [],
   "source": [
    "optmized_std = optimized_stats['_strategy'].std\n",
    "optimized_window = optimized_stats['_strategy'].sma_window"
   ]
  },
  {
   "cell_type": "markdown",
   "id": "26596878",
   "metadata": {},
   "source": [
    "Run an instance of our Backtest class using  from section 2 using:\n",
    "- The **'rerun_dataset'** from section 2\n",
    "- Cash of $10,000\n",
    "- Commission at 1%"
   ]
  },
  {
   "cell_type": "code",
   "execution_count": 117,
   "id": "51619f13",
   "metadata": {},
   "outputs": [],
   "source": [
    "class OptBollingerBandsStrategy(Strategy):\n",
    "    \n",
    "    std_cust = optmized_std\n",
    "    sma_window_cust = optimized_window\n",
    "    \n",
    "    def init(self):\n",
    "        self.bbands = self.I(indicator, self.data, self.std_cust, self.sma_window_cust)\n",
    "\n",
    "    def next(self):\n",
    "        lower_band = self.bbands[0]\n",
    "        upper_band = self.bbands[2]\n",
    "        \n",
    "        if self.position:\n",
    "            if self.data.Close[-1] > upper_band[-1]:\n",
    "                self.position.close()\n",
    "                pnl = main_df_indexed['open'][i] - main_df_indexed['close'][i]\n",
    "                pnl_list.append(pnl)\n",
    "        else:\n",
    "            if self.data.Close[-1] > lower_band[-1]:\n",
    "                self.position.close()\n",
    "                self.buy()\n",
    "                pnl = main_df_indexed['close'][i] - main_df_indexed['open'][i]\n",
    "                pnl_list.append(pnl)"
   ]
  },
  {
   "cell_type": "code",
   "execution_count": 118,
   "id": "5cc0749c",
   "metadata": {},
   "outputs": [
    {
     "ename": "NameError",
     "evalue": "name 'rerun_dataset' is not defined",
     "output_type": "error",
     "traceback": [
      "\u001b[1;31m---------------------------------------------------------------------------\u001b[0m",
      "\u001b[1;31mNameError\u001b[0m                                 Traceback (most recent call last)",
      "Cell \u001b[1;32mIn[118], line 1\u001b[0m\n\u001b[1;32m----> 1\u001b[0m bt_opt \u001b[38;5;241m=\u001b[39m Backtest(rerun_dataset, OptBollingerBandsStrategy, cash\u001b[38;5;241m=\u001b[39m\u001b[38;5;241m10000\u001b[39m, commission\u001b[38;5;241m=\u001b[39m\u001b[38;5;241m0.01\u001b[39m)\n\u001b[0;32m      2\u001b[0m stats_opt \u001b[38;5;241m=\u001b[39m bt_opt\u001b[38;5;241m.\u001b[39mrun()\n",
      "\u001b[1;31mNameError\u001b[0m: name 'rerun_dataset' is not defined"
     ]
    }
   ],
   "source": [
    "bt_opt = Backtest(rerun_dataset, OptBollingerBandsStrategy, cash=10000, commission=0.01)\n",
    "stats_opt = bt_opt.run()"
   ]
  },
  {
   "cell_type": "markdown",
   "id": "1a04d116",
   "metadata": {},
   "source": [
    "Create a table with the Sharpe Ratio, Proft and Loss (PnL) and Return percentage from the backtest"
   ]
  },
  {
   "cell_type": "code",
   "execution_count": 104,
   "id": "b53b5e01",
   "metadata": {},
   "outputs": [
    {
     "name": "stdout",
     "output_type": "stream",
     "text": [
      "Backesting optimized reults with investment of 10000 and commission of 1%\n",
      "\n",
      "Result        Value\n",
      "------------  ------------------\n",
      "Peak Equity   11000.888840699998\n",
      "Final Equity  9221.1984407\n",
      "Sharpe Ratio  0.0\n",
      "PnL           $-778.802\n",
      "Return %      -7.788%\n"
     ]
    }
   ],
   "source": [
    "optimized_backtest_results_table = [[\"Peak Equity\", stats_opt['Equity Peak [$]']],[\"Final Equity\",stats_opt['Equity Final [$]']],[\"Sharpe Ratio\", round(stats_opt['Sharpe Ratio'], 5)], \n",
    "                          [\"PnL\", f\"${round(stats_opt['_trades']['PnL'][0],3)}\"],\n",
    "                          [\"Return %\", f\"{round(stats_opt['Return [%]'], 3)}%\"]]\n",
    "print(f\"Backesting optimized reults with investment of {10000} and commission of 1%\\n\")\n",
    "print(tabulate(optimized_backtest_results_table, headers=[\"Result\", \"Value\"]))                         "
   ]
  }
 ],
 "metadata": {
  "kernelspec": {
   "display_name": "Python 3 (ipykernel)",
   "language": "python",
   "name": "python3"
  },
  "language_info": {
   "codemirror_mode": {
    "name": "ipython",
    "version": 3
   },
   "file_extension": ".py",
   "mimetype": "text/x-python",
   "name": "python",
   "nbconvert_exporter": "python",
   "pygments_lexer": "ipython3",
   "version": "3.11.4"
  }
 },
 "nbformat": 4,
 "nbformat_minor": 5
}
