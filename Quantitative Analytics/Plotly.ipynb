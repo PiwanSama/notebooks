{
 "cells": [
  {
   "cell_type": "code",
   "execution_count": 26,
   "id": "615b29e5",
   "metadata": {},
   "outputs": [],
   "source": [
    "import pandas as pd\n",
    "import numpy as np\n",
    "import matplotlib.pyplot as plt\n",
    "import pandas_ta as ta\n",
    "import seaborn as sns\n",
    "import yfinance as yf\n",
    "import requests\n",
    "from io import StringIO\n",
    "from backtesting import Backtest, Strategy\n",
    "import backtesting\n",
    "from tabulate import tabulate\n",
    "backtesting.set_bokeh_output(notebook=False)"
   ]
  },
  {
   "cell_type": "code",
   "execution_count": 27,
   "id": "f788fe49",
   "metadata": {},
   "outputs": [],
   "source": [
    "# Declare the variables that will be used globally as SMA window, Short Period and Long Period / Standard Deviation\n",
    "sma_window = 20\n",
    "std = 2"
   ]
  },
  {
   "cell_type": "code",
   "execution_count": 33,
   "id": "00810f23",
   "metadata": {},
   "outputs": [],
   "source": [
    "from_symbol = \"EUR\"\n",
    "to_symbol = \"JPY\"\n",
    "interval = \"60min\"\n",
    "api_key = \"CV4O3KUIMS9TVCLR\""
   ]
  },
  {
   "cell_type": "code",
   "execution_count": 38,
   "id": "8bf54be5",
   "metadata": {},
   "outputs": [],
   "source": [
    "# Load the monthly data from the API\n",
    "monthly_url = f\"https://www.alphavantage.co/query?function=FX_MONTHLY&from_symbol={from_symbol}&to_symbol={to_symbol}&apikey={api_key}&datatype=csv\"\n",
    "monthly_request = requests.get(monthly_url)\n",
    "\n",
    "#Convert the CSV to a pandas dataframe\n",
    "monthly_data = StringIO(monthly_request.text)\n",
    "csv_res_monthly_df = pd.read_csv(monthly_data)\n",
    "\n",
    "# Convert to DataFrame\n",
    "monthly_data_df = csv_res_monthly_df.copy()\n",
    "monthly_data_df['timestamp'] = pd.to_datetime(monthly_data_df['timestamp'])\n",
    "monthly_pricing_df = monthly_data_df.set_index('timestamp')\n",
    "monthly_pricing_df.sort_index(ascending=True, inplace=True)"
   ]
  },
  {
   "cell_type": "code",
   "execution_count": 39,
   "id": "98eccbcf",
   "metadata": {},
   "outputs": [],
   "source": [
    "#Seperate the data into two sets:\n",
    "backtest_dataset = pd.DataFrame(monthly_pricing_df.loc['2005-01-01' : '2013-12-31'].copy())\n",
    "rerun_dataset = pd.DataFrame(monthly_pricing_df.loc['2014-01-01':'2022-12-31'].copy())\n",
    "\n",
    "backtest_dataset = backtest_dataset.rename(columns = {'open':'Open', 'high':'High', 'low':'Low', 'close':'Close'})"
   ]
  },
  {
   "cell_type": "code",
   "execution_count": 40,
   "id": "99868110",
   "metadata": {},
   "outputs": [],
   "source": [
    "def indicator(data, sma_window, std):\n",
    "    bbands = ta.bbands(close = data.Close.s, length = sma_window, std = std)\n",
    "    return bbands.to_numpy().T[:3]\n",
    "\n",
    "class BollingerBandsStrategy(Strategy):\n",
    "    \n",
    "    std_cust = std\n",
    "    sma_window_cust = sma_window\n",
    "    \n",
    "    def init(self):\n",
    "        self. bbands = self.I(indicator, self.data, self.std_cust, self.sma_window_cust)\n",
    "\n",
    "    def next(self):\n",
    "        lower_band = self.bbands[0]\n",
    "        upper_band = self.bbands[2]\n",
    "        \n",
    "        if self.position:\n",
    "            if self.data.Close[-1] > upper_band[-1]:\n",
    "                self.position.close()\n",
    "                self.position.sell()\n",
    "        else:\n",
    "            if self.data.Close[-1] > lower_band[-1]:\n",
    "                self.position.close()\n",
    "                self.buy()"
   ]
  },
  {
   "cell_type": "code",
   "execution_count": 41,
   "id": "25b772e5",
   "metadata": {},
   "outputs": [],
   "source": [
    "bt = Backtest(backtest_dataset, BollingerBandsStrategy, cash=10000, commission=0.01)\n",
    "stats = bt.run()"
   ]
  },
  {
   "cell_type": "code",
   "execution_count": 42,
   "id": "63a3e99b",
   "metadata": {},
   "outputs": [
    {
     "data": {
      "application/vnd.jupyter.widget-view+json": {
       "model_id": "",
       "version_major": 2,
       "version_minor": 0
      },
      "text/plain": [
       "  0%|          | 0/12 [00:00<?, ?it/s]"
      ]
     },
     "metadata": {},
     "output_type": "display_data"
    }
   ],
   "source": [
    "optimized_stats, heatmap = bt.optimize(\n",
    "    sma_window_cust = range(20, 50, 5),\n",
    "    std_cust = range(2, 10, 1),\n",
    "    maximize = \"Equity Final [$]\",\n",
    "    return_heatmap = True\n",
    ")"
   ]
  },
  {
   "cell_type": "code",
   "execution_count": 43,
   "id": "45323670",
   "metadata": {},
   "outputs": [
    {
     "data": {
      "text/plain": [
       "sma_window_cust  std_cust\n",
       "20               2            9928.3823\n",
       "                 3           10225.7087\n",
       "                 4           10329.6996\n",
       "                 5           10277.3197\n",
       "                 6           10112.8096\n",
       "                 7           10098.9928\n",
       "                 8           10108.4464\n",
       "                 9            9880.6080\n",
       "25               2            9928.3823\n",
       "                 3           10225.7087\n",
       "                 4           10329.6996\n",
       "                 5           10277.3197\n",
       "                 6           10112.8096\n",
       "                 7           10098.9928\n",
       "                 8           10108.4464\n",
       "                 9            9880.6080\n",
       "30               2            9928.3823\n",
       "                 3           10225.7087\n",
       "                 4           10329.6996\n",
       "                 5           10277.3197\n",
       "                 6           10112.8096\n",
       "                 7           10098.9928\n",
       "                 8           10108.4464\n",
       "                 9            9880.6080\n",
       "35               2            9928.3823\n",
       "                 3           10225.7087\n",
       "                 4           10329.6996\n",
       "                 5           10277.3197\n",
       "                 6           10112.8096\n",
       "                 7           10098.9928\n",
       "                 8           10108.4464\n",
       "                 9            9880.6080\n",
       "40               2            9928.3823\n",
       "                 3           10225.7087\n",
       "                 4           10329.6996\n",
       "                 5           10277.3197\n",
       "                 6           10112.8096\n",
       "                 7           10098.9928\n",
       "                 8           10108.4464\n",
       "                 9            9880.6080\n",
       "45               2            9928.3823\n",
       "                 3           10225.7087\n",
       "                 4           10329.6996\n",
       "                 5           10277.3197\n",
       "                 6           10112.8096\n",
       "                 7           10098.9928\n",
       "                 8           10108.4464\n",
       "                 9            9880.6080\n",
       "Name: Equity Final [$], dtype: float64"
      ]
     },
     "execution_count": 43,
     "metadata": {},
     "output_type": "execute_result"
    }
   ],
   "source": [
    "heatmap"
   ]
  },
  {
   "cell_type": "code",
   "execution_count": 46,
   "id": "42e9508c",
   "metadata": {},
   "outputs": [
    {
     "data": {
      "text/html": [
       "<div>\n",
       "<style scoped>\n",
       "    .dataframe tbody tr th:only-of-type {\n",
       "        vertical-align: middle;\n",
       "    }\n",
       "\n",
       "    .dataframe tbody tr th {\n",
       "        vertical-align: top;\n",
       "    }\n",
       "\n",
       "    .dataframe thead th {\n",
       "        text-align: right;\n",
       "    }\n",
       "</style>\n",
       "<table border=\"1\" class=\"dataframe\">\n",
       "  <thead>\n",
       "    <tr style=\"text-align: right;\">\n",
       "      <th>std_cust</th>\n",
       "      <th>2</th>\n",
       "      <th>3</th>\n",
       "      <th>4</th>\n",
       "      <th>5</th>\n",
       "      <th>6</th>\n",
       "      <th>7</th>\n",
       "      <th>8</th>\n",
       "      <th>9</th>\n",
       "    </tr>\n",
       "    <tr>\n",
       "      <th>sma_window_cust</th>\n",
       "      <th></th>\n",
       "      <th></th>\n",
       "      <th></th>\n",
       "      <th></th>\n",
       "      <th></th>\n",
       "      <th></th>\n",
       "      <th></th>\n",
       "      <th></th>\n",
       "    </tr>\n",
       "  </thead>\n",
       "  <tbody>\n",
       "    <tr>\n",
       "      <th>20</th>\n",
       "      <td>9928.3823</td>\n",
       "      <td>10225.7087</td>\n",
       "      <td>10329.6996</td>\n",
       "      <td>10277.3197</td>\n",
       "      <td>10112.8096</td>\n",
       "      <td>10098.9928</td>\n",
       "      <td>10108.4464</td>\n",
       "      <td>9880.608</td>\n",
       "    </tr>\n",
       "    <tr>\n",
       "      <th>25</th>\n",
       "      <td>9928.3823</td>\n",
       "      <td>10225.7087</td>\n",
       "      <td>10329.6996</td>\n",
       "      <td>10277.3197</td>\n",
       "      <td>10112.8096</td>\n",
       "      <td>10098.9928</td>\n",
       "      <td>10108.4464</td>\n",
       "      <td>9880.608</td>\n",
       "    </tr>\n",
       "    <tr>\n",
       "      <th>30</th>\n",
       "      <td>9928.3823</td>\n",
       "      <td>10225.7087</td>\n",
       "      <td>10329.6996</td>\n",
       "      <td>10277.3197</td>\n",
       "      <td>10112.8096</td>\n",
       "      <td>10098.9928</td>\n",
       "      <td>10108.4464</td>\n",
       "      <td>9880.608</td>\n",
       "    </tr>\n",
       "    <tr>\n",
       "      <th>35</th>\n",
       "      <td>9928.3823</td>\n",
       "      <td>10225.7087</td>\n",
       "      <td>10329.6996</td>\n",
       "      <td>10277.3197</td>\n",
       "      <td>10112.8096</td>\n",
       "      <td>10098.9928</td>\n",
       "      <td>10108.4464</td>\n",
       "      <td>9880.608</td>\n",
       "    </tr>\n",
       "    <tr>\n",
       "      <th>40</th>\n",
       "      <td>9928.3823</td>\n",
       "      <td>10225.7087</td>\n",
       "      <td>10329.6996</td>\n",
       "      <td>10277.3197</td>\n",
       "      <td>10112.8096</td>\n",
       "      <td>10098.9928</td>\n",
       "      <td>10108.4464</td>\n",
       "      <td>9880.608</td>\n",
       "    </tr>\n",
       "    <tr>\n",
       "      <th>45</th>\n",
       "      <td>9928.3823</td>\n",
       "      <td>10225.7087</td>\n",
       "      <td>10329.6996</td>\n",
       "      <td>10277.3197</td>\n",
       "      <td>10112.8096</td>\n",
       "      <td>10098.9928</td>\n",
       "      <td>10108.4464</td>\n",
       "      <td>9880.608</td>\n",
       "    </tr>\n",
       "  </tbody>\n",
       "</table>\n",
       "</div>"
      ],
      "text/plain": [
       "std_cust                 2           3           4           5           6  \\\n",
       "sma_window_cust                                                              \n",
       "20               9928.3823  10225.7087  10329.6996  10277.3197  10112.8096   \n",
       "25               9928.3823  10225.7087  10329.6996  10277.3197  10112.8096   \n",
       "30               9928.3823  10225.7087  10329.6996  10277.3197  10112.8096   \n",
       "35               9928.3823  10225.7087  10329.6996  10277.3197  10112.8096   \n",
       "40               9928.3823  10225.7087  10329.6996  10277.3197  10112.8096   \n",
       "45               9928.3823  10225.7087  10329.6996  10277.3197  10112.8096   \n",
       "\n",
       "std_cust                  7           8         9  \n",
       "sma_window_cust                                    \n",
       "20               10098.9928  10108.4464  9880.608  \n",
       "25               10098.9928  10108.4464  9880.608  \n",
       "30               10098.9928  10108.4464  9880.608  \n",
       "35               10098.9928  10108.4464  9880.608  \n",
       "40               10098.9928  10108.4464  9880.608  \n",
       "45               10098.9928  10108.4464  9880.608  "
      ]
     },
     "execution_count": 46,
     "metadata": {},
     "output_type": "execute_result"
    }
   ],
   "source": [
    "hm = heatmap.groupby(['sma_window_cust', 'std_cust']).mean().unstack()\n",
    "hm"
   ]
  },
  {
   "cell_type": "code",
   "execution_count": 49,
   "id": "70766732",
   "metadata": {},
   "outputs": [
    {
     "data": {
      "text/plain": [
       "<Axes: xlabel='std_cust', ylabel='sma_window_cust'>"
      ]
     },
     "execution_count": 49,
     "metadata": {},
     "output_type": "execute_result"
    },
    {
     "data": {
      "image/png": "[encoded data removed]",
      "text/plain": [
       "<Figure size 640x480 with 2 Axes>"
      ]
     },
     "metadata": {},
     "output_type": "display_data"
    }
   ],
   "source": [
    "sns.heatmap(hm, cmap='viridis')"
   ]
  },
  {
   "cell_type": "code",
   "execution_count": 50,
   "id": "3d0a363a",
   "metadata": {},
   "outputs": [
    {
     "data": {
      "text/plain": [
       "<Axes: xlabel='std_cust', ylabel='sma_window_cust'>"
      ]
     },
     "execution_count": 50,
     "metadata": {},
     "output_type": "execute_result"
    },
    {
     "data": {
      "image/png": "[encoded data removed]",
      "text/plain": [
       "<Figure size 640x480 with 2 Axes>"
      ]
     },
     "metadata": {},
     "output_type": "display_data"
    }
   ],
   "source": [
    "sns.heatmap(hm[::-1], cmap='viridis')"
   ]
  }
 ],
 "metadata": {
  "kernelspec": {
   "display_name": "Python 3 (ipykernel)",
   "language": "python",
   "name": "python3"
  },
  "language_info": {
   "codemirror_mode": {
    "name": "ipython",
    "version": 3
   },
   "file_extension": ".py",
   "mimetype": "text/x-python",
   "name": "python",
   "nbconvert_exporter": "python",
   "pygments_lexer": "ipython3",
   "version": "3.11.4"
  }
 },
 "nbformat": 4,
 "nbformat_minor": 5
}
