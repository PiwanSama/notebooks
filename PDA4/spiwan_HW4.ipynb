{
 "cells": [
  {
   "cell_type": "markdown",
   "id": "06380b82",
   "metadata": {},
   "source": [
    "# Programming for Data Analytics - Homework Four"
   ]
  },
  {
   "cell_type": "markdown",
   "id": "1aaa4936",
   "metadata": {},
   "source": [
    "Name : Samalie Piwan   \n",
    "AndrewID : spiwan"
   ]
  },
  {
   "cell_type": "code",
   "execution_count": 72,
   "id": "f209babd",
   "metadata": {},
   "outputs": [],
   "source": [
    "import pandas as pd\n",
    "import numpy as np\n",
    "import matplotlib.pyplot as plt\n",
    "import seaborn as sns\n",
    "import os\n",
    "from sklearn.preprocessing import StandardScaler, LabelEncoder\n",
    "from sklearn.model_selection import train_test_split\n",
    "from sklearn.ensemble import RandomForestClassifier\n",
    "from sklearn.linear_model import LogisticRegression\n",
    "from sklearn.svm import SVC\n",
    "from sklearn.metrics import recall_score, precision_score, f1_score\n",
    "from sklearn.model_selection import cross_val_score"
   ]
  },
  {
   "cell_type": "markdown",
   "id": "08a4bee7",
   "metadata": {},
   "source": [
    "### PART A"
   ]
  },
  {
   "cell_type": "markdown",
   "id": "7bde6f5f",
   "metadata": {},
   "source": [
    "**1) Download the dataset files, load them, and prepare the dataset for analysis**"
   ]
  },
  {
   "cell_type": "markdown",
   "id": "df172ec4",
   "metadata": {},
   "source": [
    "**Data Cleaning**"
   ]
  },
  {
   "cell_type": "markdown",
   "id": "a9447e0e",
   "metadata": {},
   "source": [
    "Load the data into pandas dataframes"
   ]
  },
  {
   "cell_type": "code",
   "execution_count": 2,
   "id": "1b3f71e5",
   "metadata": {},
   "outputs": [
    {
     "data": {
      "text/html": [
       "<div>\n",
       "<style scoped>\n",
       "    .dataframe tbody tr th:only-of-type {\n",
       "        vertical-align: middle;\n",
       "    }\n",
       "\n",
       "    .dataframe tbody tr th {\n",
       "        vertical-align: top;\n",
       "    }\n",
       "\n",
       "    .dataframe thead th {\n",
       "        text-align: right;\n",
       "    }\n",
       "</style>\n",
       "<table border=\"1\" class=\"dataframe\">\n",
       "  <thead>\n",
       "    <tr style=\"text-align: right;\">\n",
       "      <th></th>\n",
       "      <th>Destination Port</th>\n",
       "      <th>Flow Duration</th>\n",
       "      <th>Total Fwd Packets</th>\n",
       "      <th>Total Backward Packets</th>\n",
       "      <th>Total Length of Fwd Packets</th>\n",
       "      <th>Total Length of Bwd Packets</th>\n",
       "      <th>Fwd Packet Length Max</th>\n",
       "      <th>Fwd Packet Length Min</th>\n",
       "      <th>Fwd Packet Length Mean</th>\n",
       "      <th>Fwd Packet Length Std</th>\n",
       "      <th>...</th>\n",
       "      <th>min_seg_size_forward</th>\n",
       "      <th>Active Mean</th>\n",
       "      <th>Active Std</th>\n",
       "      <th>Active Max</th>\n",
       "      <th>Active Min</th>\n",
       "      <th>Idle Mean</th>\n",
       "      <th>Idle Std</th>\n",
       "      <th>Idle Max</th>\n",
       "      <th>Idle Min</th>\n",
       "      <th>Label</th>\n",
       "    </tr>\n",
       "  </thead>\n",
       "  <tbody>\n",
       "    <tr>\n",
       "      <th>0</th>\n",
       "      <td>54865</td>\n",
       "      <td>3</td>\n",
       "      <td>2</td>\n",
       "      <td>0</td>\n",
       "      <td>12</td>\n",
       "      <td>0</td>\n",
       "      <td>6</td>\n",
       "      <td>6</td>\n",
       "      <td>6.0</td>\n",
       "      <td>0.0</td>\n",
       "      <td>...</td>\n",
       "      <td>20</td>\n",
       "      <td>0.0</td>\n",
       "      <td>0.0</td>\n",
       "      <td>0</td>\n",
       "      <td>0</td>\n",
       "      <td>0.0</td>\n",
       "      <td>0.0</td>\n",
       "      <td>0</td>\n",
       "      <td>0</td>\n",
       "      <td>BENIGN</td>\n",
       "    </tr>\n",
       "    <tr>\n",
       "      <th>1</th>\n",
       "      <td>55054</td>\n",
       "      <td>109</td>\n",
       "      <td>1</td>\n",
       "      <td>1</td>\n",
       "      <td>6</td>\n",
       "      <td>6</td>\n",
       "      <td>6</td>\n",
       "      <td>6</td>\n",
       "      <td>6.0</td>\n",
       "      <td>0.0</td>\n",
       "      <td>...</td>\n",
       "      <td>20</td>\n",
       "      <td>0.0</td>\n",
       "      <td>0.0</td>\n",
       "      <td>0</td>\n",
       "      <td>0</td>\n",
       "      <td>0.0</td>\n",
       "      <td>0.0</td>\n",
       "      <td>0</td>\n",
       "      <td>0</td>\n",
       "      <td>BENIGN</td>\n",
       "    </tr>\n",
       "    <tr>\n",
       "      <th>2</th>\n",
       "      <td>55055</td>\n",
       "      <td>52</td>\n",
       "      <td>1</td>\n",
       "      <td>1</td>\n",
       "      <td>6</td>\n",
       "      <td>6</td>\n",
       "      <td>6</td>\n",
       "      <td>6</td>\n",
       "      <td>6.0</td>\n",
       "      <td>0.0</td>\n",
       "      <td>...</td>\n",
       "      <td>20</td>\n",
       "      <td>0.0</td>\n",
       "      <td>0.0</td>\n",
       "      <td>0</td>\n",
       "      <td>0</td>\n",
       "      <td>0.0</td>\n",
       "      <td>0.0</td>\n",
       "      <td>0</td>\n",
       "      <td>0</td>\n",
       "      <td>BENIGN</td>\n",
       "    </tr>\n",
       "    <tr>\n",
       "      <th>3</th>\n",
       "      <td>46236</td>\n",
       "      <td>34</td>\n",
       "      <td>1</td>\n",
       "      <td>1</td>\n",
       "      <td>6</td>\n",
       "      <td>6</td>\n",
       "      <td>6</td>\n",
       "      <td>6</td>\n",
       "      <td>6.0</td>\n",
       "      <td>0.0</td>\n",
       "      <td>...</td>\n",
       "      <td>20</td>\n",
       "      <td>0.0</td>\n",
       "      <td>0.0</td>\n",
       "      <td>0</td>\n",
       "      <td>0</td>\n",
       "      <td>0.0</td>\n",
       "      <td>0.0</td>\n",
       "      <td>0</td>\n",
       "      <td>0</td>\n",
       "      <td>BENIGN</td>\n",
       "    </tr>\n",
       "    <tr>\n",
       "      <th>4</th>\n",
       "      <td>54863</td>\n",
       "      <td>3</td>\n",
       "      <td>2</td>\n",
       "      <td>0</td>\n",
       "      <td>12</td>\n",
       "      <td>0</td>\n",
       "      <td>6</td>\n",
       "      <td>6</td>\n",
       "      <td>6.0</td>\n",
       "      <td>0.0</td>\n",
       "      <td>...</td>\n",
       "      <td>20</td>\n",
       "      <td>0.0</td>\n",
       "      <td>0.0</td>\n",
       "      <td>0</td>\n",
       "      <td>0</td>\n",
       "      <td>0.0</td>\n",
       "      <td>0.0</td>\n",
       "      <td>0</td>\n",
       "      <td>0</td>\n",
       "      <td>BENIGN</td>\n",
       "    </tr>\n",
       "  </tbody>\n",
       "</table>\n",
       "<p>5 rows × 79 columns</p>\n",
       "</div>"
      ],
      "text/plain": [
       "    Destination Port   Flow Duration   Total Fwd Packets  \\\n",
       "0              54865               3                   2   \n",
       "1              55054             109                   1   \n",
       "2              55055              52                   1   \n",
       "3              46236              34                   1   \n",
       "4              54863               3                   2   \n",
       "\n",
       "    Total Backward Packets  Total Length of Fwd Packets  \\\n",
       "0                        0                           12   \n",
       "1                        1                            6   \n",
       "2                        1                            6   \n",
       "3                        1                            6   \n",
       "4                        0                           12   \n",
       "\n",
       "    Total Length of Bwd Packets   Fwd Packet Length Max  \\\n",
       "0                             0                       6   \n",
       "1                             6                       6   \n",
       "2                             6                       6   \n",
       "3                             6                       6   \n",
       "4                             0                       6   \n",
       "\n",
       "    Fwd Packet Length Min   Fwd Packet Length Mean   Fwd Packet Length Std  \\\n",
       "0                       6                      6.0                     0.0   \n",
       "1                       6                      6.0                     0.0   \n",
       "2                       6                      6.0                     0.0   \n",
       "3                       6                      6.0                     0.0   \n",
       "4                       6                      6.0                     0.0   \n",
       "\n",
       "   ...   min_seg_size_forward  Active Mean   Active Std   Active Max  \\\n",
       "0  ...                     20          0.0          0.0            0   \n",
       "1  ...                     20          0.0          0.0            0   \n",
       "2  ...                     20          0.0          0.0            0   \n",
       "3  ...                     20          0.0          0.0            0   \n",
       "4  ...                     20          0.0          0.0            0   \n",
       "\n",
       "    Active Min  Idle Mean   Idle Std   Idle Max   Idle Min   Label  \n",
       "0            0        0.0        0.0          0          0  BENIGN  \n",
       "1            0        0.0        0.0          0          0  BENIGN  \n",
       "2            0        0.0        0.0          0          0  BENIGN  \n",
       "3            0        0.0        0.0          0          0  BENIGN  \n",
       "4            0        0.0        0.0          0          0  BENIGN  \n",
       "\n",
       "[5 rows x 79 columns]"
      ]
     },
     "execution_count": 2,
     "metadata": {},
     "output_type": "execute_result"
    }
   ],
   "source": [
    "# Load all the file names into a list\n",
    "filenames = []\n",
    "file_directory = 'MachineLearningCVE'\n",
    "for filename in os.listdir(file_directory):\n",
    "    filenames.append(file_directory+\"\\\\\"+filename)\n",
    "\n",
    "# Load the data in the files into a pandas dataframe\n",
    "cids_df = pd.concat(map(pd.read_csv, filenames), ignore_index=True)\n",
    "cids_df.head(5)"
   ]
  },
  {
   "cell_type": "markdown",
   "id": "5b1aaa52",
   "metadata": {},
   "source": [
    "**Data Cleaning**"
   ]
  },
  {
   "cell_type": "markdown",
   "id": "bf30c4e5",
   "metadata": {},
   "source": [
    "Infinte data"
   ]
  },
  {
   "cell_type": "code",
   "execution_count": 3,
   "id": "d296e2e3",
   "metadata": {},
   "outputs": [
    {
     "data": {
      "text/plain": [
       "Index(['Flow Bytes/s', ' Flow Packets/s'], dtype='object')"
      ]
     },
     "execution_count": 3,
     "metadata": {},
     "output_type": "execute_result"
    }
   ],
   "source": [
    "# Check for columns with infinite data in the independent columns\n",
    "cids_df_X = cids_df.iloc[:,:-1]\n",
    "cids_df_X.columns[np.isinf(cids_df_X).any()]"
   ]
  },
  {
   "cell_type": "code",
   "execution_count": 4,
   "id": "e27f7479",
   "metadata": {},
   "outputs": [],
   "source": [
    "# Get the mean value for both columns\n",
    "flow_bytes_mean = cids_df['Flow Bytes/s'].replace([np.inf, -np.inf], np.nan).mean()\n",
    "flow_pkt_mean = cids_df[' Flow Packets/s'].replace([np.inf, -np.inf], np.nan).mean()"
   ]
  },
  {
   "cell_type": "code",
   "execution_count": 5,
   "id": "e0f8962d",
   "metadata": {},
   "outputs": [],
   "source": [
    "# Replace the infinite value with the mean value\n",
    "cids_df['Flow Bytes/s'] = cids_df['Flow Bytes/s'].replace([np.inf, -np.inf], flow_bytes_mean)\n",
    "cids_df[' Flow Packets/s'] = cids_df[' Flow Packets/s'].replace([np.inf, -np.inf], flow_pkt_mean)"
   ]
  },
  {
   "cell_type": "markdown",
   "id": "7aa33231",
   "metadata": {},
   "source": [
    "Null Values"
   ]
  },
  {
   "cell_type": "code",
   "execution_count": 6,
   "id": "f2fdca66",
   "metadata": {},
   "outputs": [
    {
     "data": {
      "text/plain": [
       "Flow Bytes/s    1358\n",
       "dtype: int64"
      ]
     },
     "execution_count": 6,
     "metadata": {},
     "output_type": "execute_result"
    }
   ],
   "source": [
    "# Check for null values\n",
    "null_values = cids_df.isnull().sum()\n",
    "null_values[null_values > 0]"
   ]
  },
  {
   "cell_type": "code",
   "execution_count": 7,
   "id": "8faeca67",
   "metadata": {},
   "outputs": [
    {
     "data": {
      "text/plain": [
       "Series([], dtype: int64)"
      ]
     },
     "execution_count": 7,
     "metadata": {},
     "output_type": "execute_result"
    }
   ],
   "source": [
    "# Handle the null values in the 'Flow Bytes/s' column using imputation with the mean\n",
    "cids_df['Flow Bytes/s'] = cids_df['Flow Bytes/s'].fillna(flow_bytes_mean)\n",
    "\n",
    "# Check if NaN values still exist\n",
    "null_values_clean = cids_df.isnull().sum()\n",
    "null_values_clean[null_values_clean > 0]"
   ]
  },
  {
   "cell_type": "markdown",
   "id": "562e6d9e",
   "metadata": {},
   "source": [
    "Duplicate values"
   ]
  },
  {
   "cell_type": "code",
   "execution_count": 8,
   "id": "b0de56d7",
   "metadata": {},
   "outputs": [
    {
     "data": {
      "text/plain": [
       "BENIGN                        2273097\n",
       "DoS Hulk                       231073\n",
       "PortScan                       158930\n",
       "DDoS                           128027\n",
       "DoS GoldenEye                   10293\n",
       "FTP-Patator                      7938\n",
       "SSH-Patator                      5897\n",
       "DoS slowloris                    5796\n",
       "DoS Slowhttptest                 5499\n",
       "Bot                              1966\n",
       "Web Attack � Brute Force         1507\n",
       "Web Attack � XSS                  652\n",
       "Infiltration                       36\n",
       "Web Attack � Sql Injection         21\n",
       "Heartbleed                         11\n",
       "Name:  Label, dtype: int64"
      ]
     },
     "execution_count": 8,
     "metadata": {},
     "output_type": "execute_result"
    }
   ],
   "source": [
    "#Check value counts before removing duplicates\n",
    "cids_df[\" Label\"].value_counts()"
   ]
  },
  {
   "cell_type": "code",
   "execution_count": 9,
   "id": "7922d1cf",
   "metadata": {},
   "outputs": [
    {
     "data": {
      "text/html": [
       "<div>\n",
       "<style scoped>\n",
       "    .dataframe tbody tr th:only-of-type {\n",
       "        vertical-align: middle;\n",
       "    }\n",
       "\n",
       "    .dataframe tbody tr th {\n",
       "        vertical-align: top;\n",
       "    }\n",
       "\n",
       "    .dataframe thead th {\n",
       "        text-align: right;\n",
       "    }\n",
       "</style>\n",
       "<table border=\"1\" class=\"dataframe\">\n",
       "  <thead>\n",
       "    <tr style=\"text-align: right;\">\n",
       "      <th></th>\n",
       "      <th>Destination Port</th>\n",
       "      <th>Flow Duration</th>\n",
       "      <th>Total Fwd Packets</th>\n",
       "      <th>Total Backward Packets</th>\n",
       "      <th>Total Length of Fwd Packets</th>\n",
       "      <th>Total Length of Bwd Packets</th>\n",
       "      <th>Fwd Packet Length Max</th>\n",
       "      <th>Fwd Packet Length Min</th>\n",
       "      <th>Fwd Packet Length Mean</th>\n",
       "      <th>Fwd Packet Length Std</th>\n",
       "      <th>...</th>\n",
       "      <th>min_seg_size_forward</th>\n",
       "      <th>Active Mean</th>\n",
       "      <th>Active Std</th>\n",
       "      <th>Active Max</th>\n",
       "      <th>Active Min</th>\n",
       "      <th>Idle Mean</th>\n",
       "      <th>Idle Std</th>\n",
       "      <th>Idle Max</th>\n",
       "      <th>Idle Min</th>\n",
       "      <th>Label</th>\n",
       "    </tr>\n",
       "  </thead>\n",
       "  <tbody>\n",
       "    <tr>\n",
       "      <th>2109</th>\n",
       "      <td>80</td>\n",
       "      <td>77</td>\n",
       "      <td>2</td>\n",
       "      <td>0</td>\n",
       "      <td>12</td>\n",
       "      <td>0</td>\n",
       "      <td>6</td>\n",
       "      <td>6</td>\n",
       "      <td>6.0</td>\n",
       "      <td>0.0</td>\n",
       "      <td>...</td>\n",
       "      <td>20</td>\n",
       "      <td>0.0</td>\n",
       "      <td>0.0</td>\n",
       "      <td>0</td>\n",
       "      <td>0</td>\n",
       "      <td>0.0</td>\n",
       "      <td>0.0</td>\n",
       "      <td>0</td>\n",
       "      <td>0</td>\n",
       "      <td>BENIGN</td>\n",
       "    </tr>\n",
       "    <tr>\n",
       "      <th>2257</th>\n",
       "      <td>443</td>\n",
       "      <td>3</td>\n",
       "      <td>2</td>\n",
       "      <td>0</td>\n",
       "      <td>12</td>\n",
       "      <td>0</td>\n",
       "      <td>6</td>\n",
       "      <td>6</td>\n",
       "      <td>6.0</td>\n",
       "      <td>0.0</td>\n",
       "      <td>...</td>\n",
       "      <td>20</td>\n",
       "      <td>0.0</td>\n",
       "      <td>0.0</td>\n",
       "      <td>0</td>\n",
       "      <td>0</td>\n",
       "      <td>0.0</td>\n",
       "      <td>0.0</td>\n",
       "      <td>0</td>\n",
       "      <td>0</td>\n",
       "      <td>BENIGN</td>\n",
       "    </tr>\n",
       "    <tr>\n",
       "      <th>2749</th>\n",
       "      <td>443</td>\n",
       "      <td>49</td>\n",
       "      <td>2</td>\n",
       "      <td>0</td>\n",
       "      <td>12</td>\n",
       "      <td>0</td>\n",
       "      <td>6</td>\n",
       "      <td>6</td>\n",
       "      <td>6.0</td>\n",
       "      <td>0.0</td>\n",
       "      <td>...</td>\n",
       "      <td>20</td>\n",
       "      <td>0.0</td>\n",
       "      <td>0.0</td>\n",
       "      <td>0</td>\n",
       "      <td>0</td>\n",
       "      <td>0.0</td>\n",
       "      <td>0.0</td>\n",
       "      <td>0</td>\n",
       "      <td>0</td>\n",
       "      <td>BENIGN</td>\n",
       "    </tr>\n",
       "    <tr>\n",
       "      <th>2862</th>\n",
       "      <td>443</td>\n",
       "      <td>4</td>\n",
       "      <td>2</td>\n",
       "      <td>0</td>\n",
       "      <td>12</td>\n",
       "      <td>0</td>\n",
       "      <td>6</td>\n",
       "      <td>6</td>\n",
       "      <td>6.0</td>\n",
       "      <td>0.0</td>\n",
       "      <td>...</td>\n",
       "      <td>20</td>\n",
       "      <td>0.0</td>\n",
       "      <td>0.0</td>\n",
       "      <td>0</td>\n",
       "      <td>0</td>\n",
       "      <td>0.0</td>\n",
       "      <td>0.0</td>\n",
       "      <td>0</td>\n",
       "      <td>0</td>\n",
       "      <td>BENIGN</td>\n",
       "    </tr>\n",
       "    <tr>\n",
       "      <th>2877</th>\n",
       "      <td>443</td>\n",
       "      <td>1</td>\n",
       "      <td>2</td>\n",
       "      <td>0</td>\n",
       "      <td>12</td>\n",
       "      <td>0</td>\n",
       "      <td>6</td>\n",
       "      <td>6</td>\n",
       "      <td>6.0</td>\n",
       "      <td>0.0</td>\n",
       "      <td>...</td>\n",
       "      <td>20</td>\n",
       "      <td>0.0</td>\n",
       "      <td>0.0</td>\n",
       "      <td>0</td>\n",
       "      <td>0</td>\n",
       "      <td>0.0</td>\n",
       "      <td>0.0</td>\n",
       "      <td>0</td>\n",
       "      <td>0</td>\n",
       "      <td>BENIGN</td>\n",
       "    </tr>\n",
       "  </tbody>\n",
       "</table>\n",
       "<p>5 rows × 79 columns</p>\n",
       "</div>"
      ],
      "text/plain": [
       "       Destination Port   Flow Duration   Total Fwd Packets  \\\n",
       "2109                 80              77                   2   \n",
       "2257                443               3                   2   \n",
       "2749                443              49                   2   \n",
       "2862                443               4                   2   \n",
       "2877                443               1                   2   \n",
       "\n",
       "       Total Backward Packets  Total Length of Fwd Packets  \\\n",
       "2109                        0                           12   \n",
       "2257                        0                           12   \n",
       "2749                        0                           12   \n",
       "2862                        0                           12   \n",
       "2877                        0                           12   \n",
       "\n",
       "       Total Length of Bwd Packets   Fwd Packet Length Max  \\\n",
       "2109                             0                       6   \n",
       "2257                             0                       6   \n",
       "2749                             0                       6   \n",
       "2862                             0                       6   \n",
       "2877                             0                       6   \n",
       "\n",
       "       Fwd Packet Length Min   Fwd Packet Length Mean   Fwd Packet Length Std  \\\n",
       "2109                       6                      6.0                     0.0   \n",
       "2257                       6                      6.0                     0.0   \n",
       "2749                       6                      6.0                     0.0   \n",
       "2862                       6                      6.0                     0.0   \n",
       "2877                       6                      6.0                     0.0   \n",
       "\n",
       "      ...   min_seg_size_forward  Active Mean   Active Std   Active Max  \\\n",
       "2109  ...                     20          0.0          0.0            0   \n",
       "2257  ...                     20          0.0          0.0            0   \n",
       "2749  ...                     20          0.0          0.0            0   \n",
       "2862  ...                     20          0.0          0.0            0   \n",
       "2877  ...                     20          0.0          0.0            0   \n",
       "\n",
       "       Active Min  Idle Mean   Idle Std   Idle Max   Idle Min   Label  \n",
       "2109            0        0.0        0.0          0          0  BENIGN  \n",
       "2257            0        0.0        0.0          0          0  BENIGN  \n",
       "2749            0        0.0        0.0          0          0  BENIGN  \n",
       "2862            0        0.0        0.0          0          0  BENIGN  \n",
       "2877            0        0.0        0.0          0          0  BENIGN  \n",
       "\n",
       "[5 rows x 79 columns]"
      ]
     },
     "execution_count": 9,
     "metadata": {},
     "output_type": "execute_result"
    }
   ],
   "source": [
    "duplicated_mask = cids_df.duplicated()\n",
    "duplicated_data = cids_df[duplicated_mask]\n",
    "duplicated_data.head()"
   ]
  },
  {
   "cell_type": "code",
   "execution_count": 10,
   "id": "11430936",
   "metadata": {},
   "outputs": [
    {
     "data": {
      "text/plain": [
       "BENIGN                        2096484\n",
       "DoS Hulk                       172849\n",
       "DDoS                           128016\n",
       "PortScan                        90819\n",
       "DoS GoldenEye                   10286\n",
       "FTP-Patator                      5933\n",
       "DoS slowloris                    5385\n",
       "DoS Slowhttptest                 5228\n",
       "SSH-Patator                      3219\n",
       "Bot                              1953\n",
       "Web Attack � Brute Force         1470\n",
       "Web Attack � XSS                  652\n",
       "Infiltration                       36\n",
       "Web Attack � Sql Injection         21\n",
       "Heartbleed                         11\n",
       "Name:  Label, dtype: int64"
      ]
     },
     "execution_count": 10,
     "metadata": {},
     "output_type": "execute_result"
    }
   ],
   "source": [
    "# Drop duplicate values\n",
    "cids_df = cids_df.drop_duplicates()\n",
    "#Check value counts after removing duplicates\n",
    "cids_df[\" Label\"].value_counts()"
   ]
  },
  {
   "cell_type": "markdown",
   "id": "62be877b",
   "metadata": {},
   "source": [
    "To handle duplicates, we drop all the columns that have duplicate data. This is because the model does not gain any more information from them. After removing the rows with duplicate columns, we observe a reduction in the number of rows for most attack types."
   ]
  },
  {
   "cell_type": "markdown",
   "id": "bbe28254",
   "metadata": {},
   "source": [
    "Columns with no variance"
   ]
  },
  {
   "cell_type": "code",
   "execution_count": 11,
   "id": "6165b42f",
   "metadata": {},
   "outputs": [
    {
     "data": {
      "text/plain": [
       " Bwd PSH Flags           0.0\n",
       " Bwd URG Flags           0.0\n",
       "Fwd Avg Bytes/Bulk       0.0\n",
       " Fwd Avg Packets/Bulk    0.0\n",
       " Fwd Avg Bulk Rate       0.0\n",
       " Bwd Avg Bytes/Bulk      0.0\n",
       " Bwd Avg Packets/Bulk    0.0\n",
       "Bwd Avg Bulk Rate        0.0\n",
       "dtype: float64"
      ]
     },
     "execution_count": 11,
     "metadata": {},
     "output_type": "execute_result"
    }
   ],
   "source": [
    "# Check for columns where data has no variance i.e the values is always 0\n",
    "var_values = cids_df.var(numeric_only = True)\n",
    "zero_var_values = var_values[var_values == 0]\n",
    "zero_var_values"
   ]
  },
  {
   "cell_type": "code",
   "execution_count": 12,
   "id": "3efb1f1c",
   "metadata": {},
   "outputs": [
    {
     "data": {
      "text/plain": [
       "79"
      ]
     },
     "execution_count": 12,
     "metadata": {},
     "output_type": "execute_result"
    }
   ],
   "source": [
    "# Check the number of columns before dropping the data\n",
    "len(cids_df.columns)"
   ]
  },
  {
   "cell_type": "code",
   "execution_count": 13,
   "id": "42f77014",
   "metadata": {},
   "outputs": [
    {
     "data": {
      "text/plain": [
       "71"
      ]
     },
     "execution_count": 13,
     "metadata": {},
     "output_type": "execute_result"
    }
   ],
   "source": [
    "zero_var_cols = list(zero_var_values.index)\n",
    "cids_df = cids_df.drop(columns = zero_var_cols)\n",
    "\n",
    "# Check the number of columns after dropping the data\n",
    "len(cids_df.columns)"
   ]
  },
  {
   "cell_type": "markdown",
   "id": "3091b309",
   "metadata": {},
   "source": [
    "We observe that there are 8 columns with variance as 0, meaning they have all values as 0. These can be dropped as the values are always constant and we do not gain information from them."
   ]
  },
  {
   "cell_type": "markdown",
   "id": "a5bea59e",
   "metadata": {},
   "source": [
    "#### 2) Perform four (4) data exploration tasks. Include markdown cells to comment on the insights from the data exploration."
   ]
  },
  {
   "cell_type": "code",
   "execution_count": 14,
   "id": "2200052e",
   "metadata": {},
   "outputs": [
    {
     "data": {
      "text/plain": [
       "(2522362, 71)"
      ]
     },
     "execution_count": 14,
     "metadata": {},
     "output_type": "execute_result"
    }
   ],
   "source": [
    "# Check the shape\n",
    "cids_df.shape"
   ]
  },
  {
   "cell_type": "markdown",
   "id": "dc69caa7",
   "metadata": {},
   "source": [
    "The resulting dataframe is quite large, with 2,830,743 rows and 79 columns"
   ]
  },
  {
   "cell_type": "code",
   "execution_count": 15,
   "id": "81a83258",
   "metadata": {},
   "outputs": [
    {
     "name": "stdout",
     "output_type": "stream",
     "text": [
      "<class 'pandas.core.frame.DataFrame'>\n",
      "Int64Index: 2522362 entries, 0 to 2830742\n",
      "Data columns (total 71 columns):\n",
      " #   Column                        Dtype  \n",
      "---  ------                        -----  \n",
      " 0    Destination Port             int64  \n",
      " 1    Flow Duration                int64  \n",
      " 2    Total Fwd Packets            int64  \n",
      " 3    Total Backward Packets       int64  \n",
      " 4   Total Length of Fwd Packets   int64  \n",
      " 5    Total Length of Bwd Packets  int64  \n",
      " 6    Fwd Packet Length Max        int64  \n",
      " 7    Fwd Packet Length Min        int64  \n",
      " 8    Fwd Packet Length Mean       float64\n",
      " 9    Fwd Packet Length Std        float64\n",
      " 10  Bwd Packet Length Max         int64  \n",
      " 11   Bwd Packet Length Min        int64  \n",
      " 12   Bwd Packet Length Mean       float64\n",
      " 13   Bwd Packet Length Std        float64\n",
      " 14  Flow Bytes/s                  float64\n",
      " 15   Flow Packets/s               float64\n",
      " 16   Flow IAT Mean                float64\n",
      " 17   Flow IAT Std                 float64\n",
      " 18   Flow IAT Max                 int64  \n",
      " 19   Flow IAT Min                 int64  \n",
      " 20  Fwd IAT Total                 int64  \n",
      " 21   Fwd IAT Mean                 float64\n",
      " 22   Fwd IAT Std                  float64\n",
      " 23   Fwd IAT Max                  int64  \n",
      " 24   Fwd IAT Min                  int64  \n",
      " 25  Bwd IAT Total                 int64  \n",
      " 26   Bwd IAT Mean                 float64\n",
      " 27   Bwd IAT Std                  float64\n",
      " 28   Bwd IAT Max                  int64  \n",
      " 29   Bwd IAT Min                  int64  \n",
      " 30  Fwd PSH Flags                 int64  \n",
      " 31   Fwd URG Flags                int64  \n",
      " 32   Fwd Header Length            int64  \n",
      " 33   Bwd Header Length            int64  \n",
      " 34  Fwd Packets/s                 float64\n",
      " 35   Bwd Packets/s                float64\n",
      " 36   Min Packet Length            int64  \n",
      " 37   Max Packet Length            int64  \n",
      " 38   Packet Length Mean           float64\n",
      " 39   Packet Length Std            float64\n",
      " 40   Packet Length Variance       float64\n",
      " 41  FIN Flag Count                int64  \n",
      " 42   SYN Flag Count               int64  \n",
      " 43   RST Flag Count               int64  \n",
      " 44   PSH Flag Count               int64  \n",
      " 45   ACK Flag Count               int64  \n",
      " 46   URG Flag Count               int64  \n",
      " 47   CWE Flag Count               int64  \n",
      " 48   ECE Flag Count               int64  \n",
      " 49   Down/Up Ratio                int64  \n",
      " 50   Average Packet Size          float64\n",
      " 51   Avg Fwd Segment Size         float64\n",
      " 52   Avg Bwd Segment Size         float64\n",
      " 53   Fwd Header Length.1          int64  \n",
      " 54  Subflow Fwd Packets           int64  \n",
      " 55   Subflow Fwd Bytes            int64  \n",
      " 56   Subflow Bwd Packets          int64  \n",
      " 57   Subflow Bwd Bytes            int64  \n",
      " 58  Init_Win_bytes_forward        int64  \n",
      " 59   Init_Win_bytes_backward      int64  \n",
      " 60   act_data_pkt_fwd             int64  \n",
      " 61   min_seg_size_forward         int64  \n",
      " 62  Active Mean                   float64\n",
      " 63   Active Std                   float64\n",
      " 64   Active Max                   int64  \n",
      " 65   Active Min                   int64  \n",
      " 66  Idle Mean                     float64\n",
      " 67   Idle Std                     float64\n",
      " 68   Idle Max                     int64  \n",
      " 69   Idle Min                     int64  \n",
      " 70   Label                        object \n",
      "dtypes: float64(24), int64(46), object(1)\n",
      "memory usage: 1.4+ GB\n"
     ]
    }
   ],
   "source": [
    "# Check the dataframe information\n",
    "cids_df.info()"
   ]
  },
  {
   "cell_type": "markdown",
   "id": "b5b49c63",
   "metadata": {},
   "source": [
    "The dataframe contains mainly float and integer data, except the 'Label' column which contains an object"
   ]
  },
  {
   "cell_type": "code",
   "execution_count": 16,
   "id": "1a3b8d95",
   "metadata": {},
   "outputs": [
    {
     "data": {
      "text/html": [
       "<div>\n",
       "<style scoped>\n",
       "    .dataframe tbody tr th:only-of-type {\n",
       "        vertical-align: middle;\n",
       "    }\n",
       "\n",
       "    .dataframe tbody tr th {\n",
       "        vertical-align: top;\n",
       "    }\n",
       "\n",
       "    .dataframe thead th {\n",
       "        text-align: right;\n",
       "    }\n",
       "</style>\n",
       "<table border=\"1\" class=\"dataframe\">\n",
       "  <thead>\n",
       "    <tr style=\"text-align: right;\">\n",
       "      <th></th>\n",
       "      <th>Destination Port</th>\n",
       "      <th>Flow Duration</th>\n",
       "      <th>Total Fwd Packets</th>\n",
       "      <th>Total Backward Packets</th>\n",
       "      <th>Total Length of Fwd Packets</th>\n",
       "      <th>Total Length of Bwd Packets</th>\n",
       "      <th>Fwd Packet Length Max</th>\n",
       "      <th>Fwd Packet Length Min</th>\n",
       "      <th>Fwd Packet Length Mean</th>\n",
       "      <th>Fwd Packet Length Std</th>\n",
       "      <th>...</th>\n",
       "      <th>act_data_pkt_fwd</th>\n",
       "      <th>min_seg_size_forward</th>\n",
       "      <th>Active Mean</th>\n",
       "      <th>Active Std</th>\n",
       "      <th>Active Max</th>\n",
       "      <th>Active Min</th>\n",
       "      <th>Idle Mean</th>\n",
       "      <th>Idle Std</th>\n",
       "      <th>Idle Max</th>\n",
       "      <th>Idle Min</th>\n",
       "    </tr>\n",
       "  </thead>\n",
       "  <tbody>\n",
       "    <tr>\n",
       "      <th>count</th>\n",
       "      <td>2.522362e+06</td>\n",
       "      <td>2.522362e+06</td>\n",
       "      <td>2.522362e+06</td>\n",
       "      <td>2.522362e+06</td>\n",
       "      <td>2.522362e+06</td>\n",
       "      <td>2.522362e+06</td>\n",
       "      <td>2.522362e+06</td>\n",
       "      <td>2.522362e+06</td>\n",
       "      <td>2.522362e+06</td>\n",
       "      <td>2.522362e+06</td>\n",
       "      <td>...</td>\n",
       "      <td>2.522362e+06</td>\n",
       "      <td>2.522362e+06</td>\n",
       "      <td>2.522362e+06</td>\n",
       "      <td>2.522362e+06</td>\n",
       "      <td>2.522362e+06</td>\n",
       "      <td>2.522362e+06</td>\n",
       "      <td>2.522362e+06</td>\n",
       "      <td>2.522362e+06</td>\n",
       "      <td>2.522362e+06</td>\n",
       "      <td>2.522362e+06</td>\n",
       "    </tr>\n",
       "    <tr>\n",
       "      <th>mean</th>\n",
       "      <td>8.704762e+03</td>\n",
       "      <td>1.658132e+07</td>\n",
       "      <td>1.027627e+01</td>\n",
       "      <td>1.156596e+01</td>\n",
       "      <td>6.115751e+02</td>\n",
       "      <td>1.813315e+04</td>\n",
       "      <td>2.310918e+02</td>\n",
       "      <td>1.919464e+01</td>\n",
       "      <td>6.347010e+01</td>\n",
       "      <td>7.727759e+01</td>\n",
       "      <td>...</td>\n",
       "      <td>6.005904e+00</td>\n",
       "      <td>-3.080307e+03</td>\n",
       "      <td>9.152169e+04</td>\n",
       "      <td>4.616313e+04</td>\n",
       "      <td>1.719104e+05</td>\n",
       "      <td>6.542300e+04</td>\n",
       "      <td>9.331578e+06</td>\n",
       "      <td>5.654433e+05</td>\n",
       "      <td>9.757716e+06</td>\n",
       "      <td>8.887157e+06</td>\n",
       "    </tr>\n",
       "    <tr>\n",
       "      <th>std</th>\n",
       "      <td>1.902507e+04</td>\n",
       "      <td>3.522426e+07</td>\n",
       "      <td>7.941738e+02</td>\n",
       "      <td>1.056594e+03</td>\n",
       "      <td>1.058499e+04</td>\n",
       "      <td>2.397434e+06</td>\n",
       "      <td>7.561625e+02</td>\n",
       "      <td>6.079447e+01</td>\n",
       "      <td>1.955015e+02</td>\n",
       "      <td>2.967953e+02</td>\n",
       "      <td>...</td>\n",
       "      <td>6.742059e+02</td>\n",
       "      <td>1.149402e+06</td>\n",
       "      <td>6.864412e+05</td>\n",
       "      <td>4.164568e+05</td>\n",
       "      <td>1.085243e+06</td>\n",
       "      <td>6.109712e+05</td>\n",
       "      <td>2.484157e+07</td>\n",
       "      <td>4.872678e+06</td>\n",
       "      <td>2.561067e+07</td>\n",
       "      <td>2.457481e+07</td>\n",
       "    </tr>\n",
       "    <tr>\n",
       "      <th>min</th>\n",
       "      <td>0.000000e+00</td>\n",
       "      <td>-1.300000e+01</td>\n",
       "      <td>1.000000e+00</td>\n",
       "      <td>0.000000e+00</td>\n",
       "      <td>0.000000e+00</td>\n",
       "      <td>0.000000e+00</td>\n",
       "      <td>0.000000e+00</td>\n",
       "      <td>0.000000e+00</td>\n",
       "      <td>0.000000e+00</td>\n",
       "      <td>0.000000e+00</td>\n",
       "      <td>...</td>\n",
       "      <td>0.000000e+00</td>\n",
       "      <td>-5.368707e+08</td>\n",
       "      <td>0.000000e+00</td>\n",
       "      <td>0.000000e+00</td>\n",
       "      <td>0.000000e+00</td>\n",
       "      <td>0.000000e+00</td>\n",
       "      <td>0.000000e+00</td>\n",
       "      <td>0.000000e+00</td>\n",
       "      <td>0.000000e+00</td>\n",
       "      <td>0.000000e+00</td>\n",
       "    </tr>\n",
       "    <tr>\n",
       "      <th>25%</th>\n",
       "      <td>5.300000e+01</td>\n",
       "      <td>2.080000e+02</td>\n",
       "      <td>2.000000e+00</td>\n",
       "      <td>1.000000e+00</td>\n",
       "      <td>1.200000e+01</td>\n",
       "      <td>6.000000e+00</td>\n",
       "      <td>6.000000e+00</td>\n",
       "      <td>0.000000e+00</td>\n",
       "      <td>6.000000e+00</td>\n",
       "      <td>0.000000e+00</td>\n",
       "      <td>...</td>\n",
       "      <td>0.000000e+00</td>\n",
       "      <td>2.000000e+01</td>\n",
       "      <td>0.000000e+00</td>\n",
       "      <td>0.000000e+00</td>\n",
       "      <td>0.000000e+00</td>\n",
       "      <td>0.000000e+00</td>\n",
       "      <td>0.000000e+00</td>\n",
       "      <td>0.000000e+00</td>\n",
       "      <td>0.000000e+00</td>\n",
       "      <td>0.000000e+00</td>\n",
       "    </tr>\n",
       "    <tr>\n",
       "      <th>50%</th>\n",
       "      <td>8.000000e+01</td>\n",
       "      <td>5.057700e+04</td>\n",
       "      <td>2.000000e+00</td>\n",
       "      <td>2.000000e+00</td>\n",
       "      <td>6.600000e+01</td>\n",
       "      <td>1.550000e+02</td>\n",
       "      <td>4.000000e+01</td>\n",
       "      <td>2.000000e+00</td>\n",
       "      <td>3.611111e+01</td>\n",
       "      <td>0.000000e+00</td>\n",
       "      <td>...</td>\n",
       "      <td>1.000000e+00</td>\n",
       "      <td>2.000000e+01</td>\n",
       "      <td>0.000000e+00</td>\n",
       "      <td>0.000000e+00</td>\n",
       "      <td>0.000000e+00</td>\n",
       "      <td>0.000000e+00</td>\n",
       "      <td>0.000000e+00</td>\n",
       "      <td>0.000000e+00</td>\n",
       "      <td>0.000000e+00</td>\n",
       "      <td>0.000000e+00</td>\n",
       "    </tr>\n",
       "    <tr>\n",
       "      <th>75%</th>\n",
       "      <td>4.430000e+02</td>\n",
       "      <td>5.329717e+06</td>\n",
       "      <td>6.000000e+00</td>\n",
       "      <td>5.000000e+00</td>\n",
       "      <td>3.320000e+02</td>\n",
       "      <td>9.880000e+02</td>\n",
       "      <td>2.020000e+02</td>\n",
       "      <td>3.700000e+01</td>\n",
       "      <td>5.200000e+01</td>\n",
       "      <td>7.413913e+01</td>\n",
       "      <td>...</td>\n",
       "      <td>3.000000e+00</td>\n",
       "      <td>3.200000e+01</td>\n",
       "      <td>0.000000e+00</td>\n",
       "      <td>0.000000e+00</td>\n",
       "      <td>0.000000e+00</td>\n",
       "      <td>0.000000e+00</td>\n",
       "      <td>0.000000e+00</td>\n",
       "      <td>0.000000e+00</td>\n",
       "      <td>0.000000e+00</td>\n",
       "      <td>0.000000e+00</td>\n",
       "    </tr>\n",
       "    <tr>\n",
       "      <th>max</th>\n",
       "      <td>6.553500e+04</td>\n",
       "      <td>1.200000e+08</td>\n",
       "      <td>2.197590e+05</td>\n",
       "      <td>2.919220e+05</td>\n",
       "      <td>1.290000e+07</td>\n",
       "      <td>6.554530e+08</td>\n",
       "      <td>2.482000e+04</td>\n",
       "      <td>2.325000e+03</td>\n",
       "      <td>5.940857e+03</td>\n",
       "      <td>7.125597e+03</td>\n",
       "      <td>...</td>\n",
       "      <td>2.135570e+05</td>\n",
       "      <td>1.380000e+02</td>\n",
       "      <td>1.100000e+08</td>\n",
       "      <td>7.420000e+07</td>\n",
       "      <td>1.100000e+08</td>\n",
       "      <td>1.100000e+08</td>\n",
       "      <td>1.200000e+08</td>\n",
       "      <td>7.690000e+07</td>\n",
       "      <td>1.200000e+08</td>\n",
       "      <td>1.200000e+08</td>\n",
       "    </tr>\n",
       "  </tbody>\n",
       "</table>\n",
       "<p>8 rows × 70 columns</p>\n",
       "</div>"
      ],
      "text/plain": [
       "        Destination Port   Flow Duration   Total Fwd Packets  \\\n",
       "count       2.522362e+06    2.522362e+06        2.522362e+06   \n",
       "mean        8.704762e+03    1.658132e+07        1.027627e+01   \n",
       "std         1.902507e+04    3.522426e+07        7.941738e+02   \n",
       "min         0.000000e+00   -1.300000e+01        1.000000e+00   \n",
       "25%         5.300000e+01    2.080000e+02        2.000000e+00   \n",
       "50%         8.000000e+01    5.057700e+04        2.000000e+00   \n",
       "75%         4.430000e+02    5.329717e+06        6.000000e+00   \n",
       "max         6.553500e+04    1.200000e+08        2.197590e+05   \n",
       "\n",
       "        Total Backward Packets  Total Length of Fwd Packets  \\\n",
       "count             2.522362e+06                 2.522362e+06   \n",
       "mean              1.156596e+01                 6.115751e+02   \n",
       "std               1.056594e+03                 1.058499e+04   \n",
       "min               0.000000e+00                 0.000000e+00   \n",
       "25%               1.000000e+00                 1.200000e+01   \n",
       "50%               2.000000e+00                 6.600000e+01   \n",
       "75%               5.000000e+00                 3.320000e+02   \n",
       "max               2.919220e+05                 1.290000e+07   \n",
       "\n",
       "        Total Length of Bwd Packets   Fwd Packet Length Max  \\\n",
       "count                  2.522362e+06            2.522362e+06   \n",
       "mean                   1.813315e+04            2.310918e+02   \n",
       "std                    2.397434e+06            7.561625e+02   \n",
       "min                    0.000000e+00            0.000000e+00   \n",
       "25%                    6.000000e+00            6.000000e+00   \n",
       "50%                    1.550000e+02            4.000000e+01   \n",
       "75%                    9.880000e+02            2.020000e+02   \n",
       "max                    6.554530e+08            2.482000e+04   \n",
       "\n",
       "        Fwd Packet Length Min   Fwd Packet Length Mean  \\\n",
       "count            2.522362e+06             2.522362e+06   \n",
       "mean             1.919464e+01             6.347010e+01   \n",
       "std              6.079447e+01             1.955015e+02   \n",
       "min              0.000000e+00             0.000000e+00   \n",
       "25%              0.000000e+00             6.000000e+00   \n",
       "50%              2.000000e+00             3.611111e+01   \n",
       "75%              3.700000e+01             5.200000e+01   \n",
       "max              2.325000e+03             5.940857e+03   \n",
       "\n",
       "        Fwd Packet Length Std  ...   act_data_pkt_fwd   min_seg_size_forward  \\\n",
       "count            2.522362e+06  ...       2.522362e+06           2.522362e+06   \n",
       "mean             7.727759e+01  ...       6.005904e+00          -3.080307e+03   \n",
       "std              2.967953e+02  ...       6.742059e+02           1.149402e+06   \n",
       "min              0.000000e+00  ...       0.000000e+00          -5.368707e+08   \n",
       "25%              0.000000e+00  ...       0.000000e+00           2.000000e+01   \n",
       "50%              0.000000e+00  ...       1.000000e+00           2.000000e+01   \n",
       "75%              7.413913e+01  ...       3.000000e+00           3.200000e+01   \n",
       "max              7.125597e+03  ...       2.135570e+05           1.380000e+02   \n",
       "\n",
       "        Active Mean    Active Std    Active Max    Active Min     Idle Mean  \\\n",
       "count  2.522362e+06  2.522362e+06  2.522362e+06  2.522362e+06  2.522362e+06   \n",
       "mean   9.152169e+04  4.616313e+04  1.719104e+05  6.542300e+04  9.331578e+06   \n",
       "std    6.864412e+05  4.164568e+05  1.085243e+06  6.109712e+05  2.484157e+07   \n",
       "min    0.000000e+00  0.000000e+00  0.000000e+00  0.000000e+00  0.000000e+00   \n",
       "25%    0.000000e+00  0.000000e+00  0.000000e+00  0.000000e+00  0.000000e+00   \n",
       "50%    0.000000e+00  0.000000e+00  0.000000e+00  0.000000e+00  0.000000e+00   \n",
       "75%    0.000000e+00  0.000000e+00  0.000000e+00  0.000000e+00  0.000000e+00   \n",
       "max    1.100000e+08  7.420000e+07  1.100000e+08  1.100000e+08  1.200000e+08   \n",
       "\n",
       "           Idle Std      Idle Max      Idle Min  \n",
       "count  2.522362e+06  2.522362e+06  2.522362e+06  \n",
       "mean   5.654433e+05  9.757716e+06  8.887157e+06  \n",
       "std    4.872678e+06  2.561067e+07  2.457481e+07  \n",
       "min    0.000000e+00  0.000000e+00  0.000000e+00  \n",
       "25%    0.000000e+00  0.000000e+00  0.000000e+00  \n",
       "50%    0.000000e+00  0.000000e+00  0.000000e+00  \n",
       "75%    0.000000e+00  0.000000e+00  0.000000e+00  \n",
       "max    7.690000e+07  1.200000e+08  1.200000e+08  \n",
       "\n",
       "[8 rows x 70 columns]"
      ]
     },
     "execution_count": 16,
     "metadata": {},
     "output_type": "execute_result"
    }
   ],
   "source": [
    "# Check the statistics of the data\n",
    "cids_df.describe()"
   ]
  },
  {
   "cell_type": "markdown",
   "id": "9db8b83f",
   "metadata": {},
   "source": [
    "From the data description, the data generally has data within a wide range of values. Some columns have data within thousands while others have data within tens and ones. This will need to be scaled to normalize the values"
   ]
  },
  {
   "cell_type": "code",
   "execution_count": 17,
   "id": "85a598ef",
   "metadata": {},
   "outputs": [
    {
     "data": {
      "image/png": "[encoded data removed]",
      "text/plain": [
       "<Figure size 1000x600 with 1 Axes>"
      ]
     },
     "metadata": {},
     "output_type": "display_data"
    }
   ],
   "source": [
    "# Plot the distribution of the attack types\n",
    "plt.figure(figsize = (10,6))\n",
    "cids_df[\" Label\"].value_counts().sort_values().plot(kind=\"barh\")\n",
    "plt.xscale(value = \"log\")\n",
    "plt.xlabel(\"Attack Type\")\n",
    "plt.ylabel(\"Count\")\n",
    "plt.title(\"Distribution of attack types\")\n",
    "plt.show()"
   ]
  },
  {
   "cell_type": "markdown",
   "id": "2cfc800f",
   "metadata": {},
   "source": [
    "From the above, we can see that there are 15 unique types intrusion security attacks, with 'Benign' attacks being the most frequent occurence in our dataset."
   ]
  },
  {
   "cell_type": "markdown",
   "id": "3ddc28e6",
   "metadata": {},
   "source": [
    "#### 3) Perform pre-processing on the data using scaling and label encoding as appropriate."
   ]
  },
  {
   "cell_type": "code",
   "execution_count": 18,
   "id": "5778d936",
   "metadata": {},
   "outputs": [],
   "source": [
    "# Initialize the scaler\n",
    "scaler = StandardScaler()\n",
    "# Select the independent variables\n",
    "X = cids_df.iloc[:,:-1]\n",
    "# Scale the independent variables\n",
    "X = scaler.fit_transform(X)"
   ]
  },
  {
   "cell_type": "markdown",
   "id": "c07cdab3",
   "metadata": {},
   "source": [
    "Transform the labels"
   ]
  },
  {
   "cell_type": "code",
   "execution_count": 19,
   "id": "5e1882fd",
   "metadata": {},
   "outputs": [
    {
     "data": {
      "text/html": [
       "<div>\n",
       "<style scoped>\n",
       "    .dataframe tbody tr th:only-of-type {\n",
       "        vertical-align: middle;\n",
       "    }\n",
       "\n",
       "    .dataframe tbody tr th {\n",
       "        vertical-align: top;\n",
       "    }\n",
       "\n",
       "    .dataframe thead th {\n",
       "        text-align: right;\n",
       "    }\n",
       "</style>\n",
       "<table border=\"1\" class=\"dataframe\">\n",
       "  <thead>\n",
       "    <tr style=\"text-align: right;\">\n",
       "      <th></th>\n",
       "      <th>Label</th>\n",
       "      <th>Label Enc</th>\n",
       "    </tr>\n",
       "  </thead>\n",
       "  <tbody>\n",
       "    <tr>\n",
       "      <th>0</th>\n",
       "      <td>BENIGN</td>\n",
       "      <td>0</td>\n",
       "    </tr>\n",
       "    <tr>\n",
       "      <th>1</th>\n",
       "      <td>BENIGN</td>\n",
       "      <td>0</td>\n",
       "    </tr>\n",
       "    <tr>\n",
       "      <th>2</th>\n",
       "      <td>BENIGN</td>\n",
       "      <td>0</td>\n",
       "    </tr>\n",
       "    <tr>\n",
       "      <th>3</th>\n",
       "      <td>BENIGN</td>\n",
       "      <td>0</td>\n",
       "    </tr>\n",
       "    <tr>\n",
       "      <th>4</th>\n",
       "      <td>BENIGN</td>\n",
       "      <td>0</td>\n",
       "    </tr>\n",
       "  </tbody>\n",
       "</table>\n",
       "</div>"
      ],
      "text/plain": [
       "    Label  Label Enc\n",
       "0  BENIGN          0\n",
       "1  BENIGN          0\n",
       "2  BENIGN          0\n",
       "3  BENIGN          0\n",
       "4  BENIGN          0"
      ]
     },
     "execution_count": 19,
     "metadata": {},
     "output_type": "execute_result"
    }
   ],
   "source": [
    "# Create the label encoder\n",
    "label_encoder = LabelEncoder()\n",
    "# Fit and transform the current labels to a value\n",
    "cids_df['Label Enc'] = label_encoder.fit_transform(cids_df[' Label'])\n",
    "# Check the label encoded column\n",
    "cids_df[[' Label', 'Label Enc']].head()"
   ]
  },
  {
   "cell_type": "code",
   "execution_count": 20,
   "id": "e5828d7f",
   "metadata": {},
   "outputs": [],
   "source": [
    "# Set the encoded labels as the Y data\n",
    "y = cids_df['Label Enc']"
   ]
  },
  {
   "cell_type": "markdown",
   "id": "42704ca4",
   "metadata": {},
   "source": [
    "### PART B"
   ]
  },
  {
   "cell_type": "markdown",
   "id": "b4f9f28a",
   "metadata": {},
   "source": [
    "#### 4) Using scikit-learn, create models based on three different machine learning algorithms and compare their performance. For uniformity, the algorithms to consider are Random Forest, logistic regression, and support vector machines."
   ]
  },
  {
   "cell_type": "markdown",
   "id": "7bd3cb29",
   "metadata": {},
   "source": [
    "#### a) Compare the performance of each algorithm based on three metrics, i.e., recall, and precision, f1-score using 10-fold cross-validation."
   ]
  },
  {
   "cell_type": "markdown",
   "id": "b1f80d84",
   "metadata": {},
   "source": [
    "Split the data into test and training data"
   ]
  },
  {
   "cell_type": "code",
   "execution_count": 78,
   "id": "7031aea2",
   "metadata": {},
   "outputs": [],
   "source": [
    "X_train, X_test, y_train, y_test = train_test_split(X, y, shuffle=True, test_size=0.3, random_state=30)"
   ]
  },
  {
   "cell_type": "code",
   "execution_count": 79,
   "id": "d6e8740b",
   "metadata": {},
   "outputs": [
    {
     "data": {
      "text/plain": [
       "((1765653, 70), (1765653,))"
      ]
     },
     "execution_count": 79,
     "metadata": {},
     "output_type": "execute_result"
    }
   ],
   "source": [
    "X_train.shape, y_train.shape"
   ]
  },
  {
   "cell_type": "code",
   "execution_count": 80,
   "id": "ab77ab2c",
   "metadata": {},
   "outputs": [
    {
     "data": {
      "text/plain": [
       "((756709, 70), (756709,))"
      ]
     },
     "execution_count": 80,
     "metadata": {},
     "output_type": "execute_result"
    }
   ],
   "source": [
    "X_test.shape, y_test.shape"
   ]
  },
  {
   "cell_type": "markdown",
   "id": "5d3cb19c",
   "metadata": {},
   "source": [
    "Random Forest Setup"
   ]
  },
  {
   "cell_type": "code",
   "execution_count": 81,
   "id": "ad67d9d9",
   "metadata": {},
   "outputs": [
    {
     "data": {
      "text/html": [
       "<style>#sk-container-id-5 {color: black;}#sk-container-id-5 pre{padding: 0;}#sk-container-id-5 div.sk-toggleable {background-color: white;}#sk-container-id-5 label.sk-toggleable__label {cursor: pointer;display: block;width: 100%;margin-bottom: 0;padding: 0.3em;box-sizing: border-box;text-align: center;}#sk-container-id-5 label.sk-toggleable__label-arrow:before {content: \"▸\";float: left;margin-right: 0.25em;color: #696969;}#sk-container-id-5 label.sk-toggleable__label-arrow:hover:before {color: black;}#sk-container-id-5 div.sk-estimator:hover label.sk-toggleable__label-arrow:before {color: black;}#sk-container-id-5 div.sk-toggleable__content {max-height: 0;max-width: 0;overflow: hidden;text-align: left;background-color: #f0f8ff;}#sk-container-id-5 div.sk-toggleable__content pre {margin: 0.2em;color: black;border-radius: 0.25em;background-color: #f0f8ff;}#sk-container-id-5 input.sk-toggleable__control:checked~div.sk-toggleable__content {max-height: 200px;max-width: 100%;overflow: auto;}#sk-container-id-5 input.sk-toggleable__control:checked~label.sk-toggleable__label-arrow:before {content: \"▾\";}#sk-container-id-5 div.sk-estimator input.sk-toggleable__control:checked~label.sk-toggleable__label {background-color: #d4ebff;}#sk-container-id-5 div.sk-label input.sk-toggleable__control:checked~label.sk-toggleable__label {background-color: #d4ebff;}#sk-container-id-5 input.sk-hidden--visually {border: 0;clip: rect(1px 1px 1px 1px);clip: rect(1px, 1px, 1px, 1px);height: 1px;margin: -1px;overflow: hidden;padding: 0;position: absolute;width: 1px;}#sk-container-id-5 div.sk-estimator {font-family: monospace;background-color: #f0f8ff;border: 1px dotted black;border-radius: 0.25em;box-sizing: border-box;margin-bottom: 0.5em;}#sk-container-id-5 div.sk-estimator:hover {background-color: #d4ebff;}#sk-container-id-5 div.sk-parallel-item::after {content: \"\";width: 100%;border-bottom: 1px solid gray;flex-grow: 1;}#sk-container-id-5 div.sk-label:hover label.sk-toggleable__label {background-color: #d4ebff;}#sk-container-id-5 div.sk-serial::before {content: \"\";position: absolute;border-left: 1px solid gray;box-sizing: border-box;top: 0;bottom: 0;left: 50%;z-index: 0;}#sk-container-id-5 div.sk-serial {display: flex;flex-direction: column;align-items: center;background-color: white;padding-right: 0.2em;padding-left: 0.2em;position: relative;}#sk-container-id-5 div.sk-item {position: relative;z-index: 1;}#sk-container-id-5 div.sk-parallel {display: flex;align-items: stretch;justify-content: center;background-color: white;position: relative;}#sk-container-id-5 div.sk-item::before, #sk-container-id-5 div.sk-parallel-item::before {content: \"\";position: absolute;border-left: 1px solid gray;box-sizing: border-box;top: 0;bottom: 0;left: 50%;z-index: -1;}#sk-container-id-5 div.sk-parallel-item {display: flex;flex-direction: column;z-index: 1;position: relative;background-color: white;}#sk-container-id-5 div.sk-parallel-item:first-child::after {align-self: flex-end;width: 50%;}#sk-container-id-5 div.sk-parallel-item:last-child::after {align-self: flex-start;width: 50%;}#sk-container-id-5 div.sk-parallel-item:only-child::after {width: 0;}#sk-container-id-5 div.sk-dashed-wrapped {border: 1px dashed gray;margin: 0 0.4em 0.5em 0.4em;box-sizing: border-box;padding-bottom: 0.4em;background-color: white;}#sk-container-id-5 div.sk-label label {font-family: monospace;font-weight: bold;display: inline-block;line-height: 1.2em;}#sk-container-id-5 div.sk-label-container {text-align: center;}#sk-container-id-5 div.sk-container {/* jupyter's `normalize.less` sets `[hidden] { display: none; }` but bootstrap.min.css set `[hidden] { display: none !important; }` so we also need the `!important` here to be able to override the default hidden behavior on the sphinx rendered scikit-learn.org. See: https://github.com/scikit-learn/scikit-learn/issues/21755 */display: inline-block !important;position: relative;}#sk-container-id-5 div.sk-text-repr-fallback {display: none;}</style><div id=\"sk-container-id-5\" class=\"sk-top-container\"><div class=\"sk-text-repr-fallback\"><pre>RandomForestClassifier(n_estimators=10)</pre><b>In a Jupyter environment, please rerun this cell to show the HTML representation or trust the notebook. <br />On GitHub, the HTML representation is unable to render, please try loading this page with nbviewer.org.</b></div><div class=\"sk-container\" hidden><div class=\"sk-item\"><div class=\"sk-estimator sk-toggleable\"><input class=\"sk-toggleable__control sk-hidden--visually\" id=\"sk-estimator-id-5\" type=\"checkbox\" checked><label for=\"sk-estimator-id-5\" class=\"sk-toggleable__label sk-toggleable__label-arrow\">RandomForestClassifier</label><div class=\"sk-toggleable__content\"><pre>RandomForestClassifier(n_estimators=10)</pre></div></div></div></div></div>"
      ],
      "text/plain": [
       "RandomForestClassifier(n_estimators=10)"
      ]
     },
     "execution_count": 81,
     "metadata": {},
     "output_type": "execute_result"
    }
   ],
   "source": [
    "# Set the number of estimators for the Random Forest Classifier\n",
    "rf_n_estimators = 10\n",
    "\n",
    "# Train the model\n",
    "rfClassifier = RandomForestClassifier(rf_n_estimators)\n",
    "rfClassifier.fit(X_train, y_train)\n",
    "\n",
    "#(rfClassifier.feature_importances_)"
   ]
  },
  {
   "cell_type": "code",
   "execution_count": 93,
   "id": "f07e7c01",
   "metadata": {},
   "outputs": [],
   "source": [
    "# Run a prediction on the trained RandomForest model\n",
    "y_pred_rf = rfClassifier.predict(X_test)"
   ]
  },
  {
   "cell_type": "code",
   "execution_count": 98,
   "id": "80556a18",
   "metadata": {},
   "outputs": [
    {
     "name": "stdout",
     "output_type": "stream",
     "text": [
      "Random Forest recall score : 0.9985185850835658\n"
     ]
    }
   ],
   "source": [
    "# Get the recall, and precision, f1-score accuracy scores\n",
    "recall_rf = recall_score(y_test, y_pred_rf, average='micro')\n",
    "print(f\"Random Forest recall score : {recall_rf}\")"
   ]
  },
  {
   "cell_type": "code",
   "execution_count": 99,
   "id": "418c181d",
   "metadata": {},
   "outputs": [
    {
     "name": "stdout",
     "output_type": "stream",
     "text": [
      "Random Forest precision score : 0.9985185850835658\n"
     ]
    }
   ],
   "source": [
    "precision_rf = precision_score(y_test, y_pred_rf, average='micro')\n",
    "print(f\"Random Forest precision score : {precision_rf}\")"
   ]
  },
  {
   "cell_type": "code",
   "execution_count": 100,
   "id": "11d10acf",
   "metadata": {},
   "outputs": [
    {
     "name": "stdout",
     "output_type": "stream",
     "text": [
      "Random Forest F1 score : 0.9985185850835658\n"
     ]
    }
   ],
   "source": [
    "f1_rf = f1_score(y_test, y_pred_rf, average='micro')\n",
    "print(f\"Random Forest F1 score : {f1_rf}\")"
   ]
  },
  {
   "cell_type": "code",
   "execution_count": 97,
   "id": "0d2f5c33",
   "metadata": {},
   "outputs": [
    {
     "name": "stderr",
     "output_type": "stream",
     "text": [
      "C:\\Users\\Sama\\anaconda3\\Lib\\site-packages\\sklearn\\linear_model\\_logistic.py:460: ConvergenceWarning: lbfgs failed to converge (status=1):\n",
      "STOP: TOTAL NO. of ITERATIONS REACHED LIMIT.\n",
      "\n",
      "Increase the number of iterations (max_iter) or scale the data as shown in:\n",
      "    https://scikit-learn.org/stable/modules/preprocessing.html\n",
      "Please also refer to the documentation for alternative solver options:\n",
      "    https://scikit-learn.org/stable/modules/linear_model.html#logistic-regression\n",
      "  n_iter_i = _check_optimize_result(\n"
     ]
    }
   ],
   "source": [
    "logitClassifier = LogisticRegression(random_state = 0)\n",
    "logitClassifier.fit(X_train, y_train)"
   ]
  },
  {
   "cell_type": "code",
   "execution_count": null,
   "id": "fea4fd24",
   "metadata": {},
   "outputs": [],
   "source": [
    "# Run a prediction on the trained LogisticRegression model\n",
    "y_pred_logit = logitClassifier.predict(X_test)"
   ]
  },
  {
   "cell_type": "code",
   "execution_count": null,
   "id": "05283477",
   "metadata": {},
   "outputs": [],
   "source": [
    "y_pred_logit"
   ]
  },
  {
   "cell_type": "code",
   "execution_count": null,
   "id": "4c4c0533",
   "metadata": {},
   "outputs": [],
   "source": [
    "# Get the recall, and precision, f1-score accuracy scores\n",
    "recall_logit = recall_score(y_test, y_pred_rf, average='micro')\n",
    "print(f\"Logistic Regression recall score : {recall_logit}\")"
   ]
  },
  {
   "cell_type": "code",
   "execution_count": null,
   "id": "0c444f90",
   "metadata": {},
   "outputs": [],
   "source": [
    "precision_logit = precision_score(y_test, y_pred_rf, average='micro')\n",
    "print(f\"Logistic Regression precision score : {precision_logit}\")"
   ]
  },
  {
   "cell_type": "code",
   "execution_count": null,
   "id": "ced9558e",
   "metadata": {},
   "outputs": [],
   "source": [
    "f1_logit = f1_score(y_test, y_pred_rf, average='micro')\n",
    "print(f\"Logistic Regression F1 score : {f1_logit}\")"
   ]
  }
 ],
 "metadata": {
  "kernelspec": {
   "display_name": "Python 3 (ipykernel)",
   "language": "python",
   "name": "python3"
  },
  "language_info": {
   "codemirror_mode": {
    "name": "ipython",
    "version": 3
   },
   "file_extension": ".py",
   "mimetype": "text/x-python",
   "name": "python",
   "nbconvert_exporter": "python",
   "pygments_lexer": "ipython3",
   "version": "3.11.4"
  }
 },
 "nbformat": 4,
 "nbformat_minor": 5
}
