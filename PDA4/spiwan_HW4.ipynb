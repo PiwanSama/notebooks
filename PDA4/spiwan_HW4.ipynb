{
 "cells": [
  {
   "cell_type": "markdown",
   "id": "06380b82",
   "metadata": {},
   "source": [
    "# Programming for Data Analytics - Homework Four"
   ]
  },
  {
   "cell_type": "markdown",
   "id": "1aaa4936",
   "metadata": {},
   "source": [
    "Name : Samalie Piwan   \n",
    "AndrewID : spiwan"
   ]
  },
  {
   "cell_type": "code",
   "execution_count": 91,
   "id": "f209babd",
   "metadata": {},
   "outputs": [],
   "source": [
    "import pandas as pd\n",
    "import numpy as np\n",
    "import matplotlib.pyplot as plt\n",
    "import os"
   ]
  },
  {
   "cell_type": "markdown",
   "id": "08a4bee7",
   "metadata": {},
   "source": [
    "#### PART A"
   ]
  },
  {
   "cell_type": "markdown",
   "id": "7bde6f5f",
   "metadata": {},
   "source": [
    "**1) Download the dataset files, load them, and prepare the dataset for analysis**"
   ]
  },
  {
   "cell_type": "markdown",
   "id": "bced43b5",
   "metadata": {},
   "source": [
    "Load the data into pandas dataframes"
   ]
  },
  {
   "cell_type": "code",
   "execution_count": 92,
   "id": "1e8bc51a",
   "metadata": {},
   "outputs": [
    {
     "data": {
      "text/html": [
       "<div>\n",
       "<style scoped>\n",
       "    .dataframe tbody tr th:only-of-type {\n",
       "        vertical-align: middle;\n",
       "    }\n",
       "\n",
       "    .dataframe tbody tr th {\n",
       "        vertical-align: top;\n",
       "    }\n",
       "\n",
       "    .dataframe thead th {\n",
       "        text-align: right;\n",
       "    }\n",
       "</style>\n",
       "<table border=\"1\" class=\"dataframe\">\n",
       "  <thead>\n",
       "    <tr style=\"text-align: right;\">\n",
       "      <th></th>\n",
       "      <th>Destination Port</th>\n",
       "      <th>Flow Duration</th>\n",
       "      <th>Total Fwd Packets</th>\n",
       "      <th>Total Backward Packets</th>\n",
       "      <th>Total Length of Fwd Packets</th>\n",
       "      <th>Total Length of Bwd Packets</th>\n",
       "      <th>Fwd Packet Length Max</th>\n",
       "      <th>Fwd Packet Length Min</th>\n",
       "      <th>Fwd Packet Length Mean</th>\n",
       "      <th>Fwd Packet Length Std</th>\n",
       "      <th>...</th>\n",
       "      <th>min_seg_size_forward</th>\n",
       "      <th>Active Mean</th>\n",
       "      <th>Active Std</th>\n",
       "      <th>Active Max</th>\n",
       "      <th>Active Min</th>\n",
       "      <th>Idle Mean</th>\n",
       "      <th>Idle Std</th>\n",
       "      <th>Idle Max</th>\n",
       "      <th>Idle Min</th>\n",
       "      <th>Label</th>\n",
       "    </tr>\n",
       "  </thead>\n",
       "  <tbody>\n",
       "    <tr>\n",
       "      <th>0</th>\n",
       "      <td>54865</td>\n",
       "      <td>3</td>\n",
       "      <td>2</td>\n",
       "      <td>0</td>\n",
       "      <td>12</td>\n",
       "      <td>0</td>\n",
       "      <td>6</td>\n",
       "      <td>6</td>\n",
       "      <td>6.0</td>\n",
       "      <td>0.0</td>\n",
       "      <td>...</td>\n",
       "      <td>20</td>\n",
       "      <td>0.0</td>\n",
       "      <td>0.0</td>\n",
       "      <td>0</td>\n",
       "      <td>0</td>\n",
       "      <td>0.0</td>\n",
       "      <td>0.0</td>\n",
       "      <td>0</td>\n",
       "      <td>0</td>\n",
       "      <td>BENIGN</td>\n",
       "    </tr>\n",
       "    <tr>\n",
       "      <th>1</th>\n",
       "      <td>55054</td>\n",
       "      <td>109</td>\n",
       "      <td>1</td>\n",
       "      <td>1</td>\n",
       "      <td>6</td>\n",
       "      <td>6</td>\n",
       "      <td>6</td>\n",
       "      <td>6</td>\n",
       "      <td>6.0</td>\n",
       "      <td>0.0</td>\n",
       "      <td>...</td>\n",
       "      <td>20</td>\n",
       "      <td>0.0</td>\n",
       "      <td>0.0</td>\n",
       "      <td>0</td>\n",
       "      <td>0</td>\n",
       "      <td>0.0</td>\n",
       "      <td>0.0</td>\n",
       "      <td>0</td>\n",
       "      <td>0</td>\n",
       "      <td>BENIGN</td>\n",
       "    </tr>\n",
       "    <tr>\n",
       "      <th>2</th>\n",
       "      <td>55055</td>\n",
       "      <td>52</td>\n",
       "      <td>1</td>\n",
       "      <td>1</td>\n",
       "      <td>6</td>\n",
       "      <td>6</td>\n",
       "      <td>6</td>\n",
       "      <td>6</td>\n",
       "      <td>6.0</td>\n",
       "      <td>0.0</td>\n",
       "      <td>...</td>\n",
       "      <td>20</td>\n",
       "      <td>0.0</td>\n",
       "      <td>0.0</td>\n",
       "      <td>0</td>\n",
       "      <td>0</td>\n",
       "      <td>0.0</td>\n",
       "      <td>0.0</td>\n",
       "      <td>0</td>\n",
       "      <td>0</td>\n",
       "      <td>BENIGN</td>\n",
       "    </tr>\n",
       "    <tr>\n",
       "      <th>3</th>\n",
       "      <td>46236</td>\n",
       "      <td>34</td>\n",
       "      <td>1</td>\n",
       "      <td>1</td>\n",
       "      <td>6</td>\n",
       "      <td>6</td>\n",
       "      <td>6</td>\n",
       "      <td>6</td>\n",
       "      <td>6.0</td>\n",
       "      <td>0.0</td>\n",
       "      <td>...</td>\n",
       "      <td>20</td>\n",
       "      <td>0.0</td>\n",
       "      <td>0.0</td>\n",
       "      <td>0</td>\n",
       "      <td>0</td>\n",
       "      <td>0.0</td>\n",
       "      <td>0.0</td>\n",
       "      <td>0</td>\n",
       "      <td>0</td>\n",
       "      <td>BENIGN</td>\n",
       "    </tr>\n",
       "    <tr>\n",
       "      <th>4</th>\n",
       "      <td>54863</td>\n",
       "      <td>3</td>\n",
       "      <td>2</td>\n",
       "      <td>0</td>\n",
       "      <td>12</td>\n",
       "      <td>0</td>\n",
       "      <td>6</td>\n",
       "      <td>6</td>\n",
       "      <td>6.0</td>\n",
       "      <td>0.0</td>\n",
       "      <td>...</td>\n",
       "      <td>20</td>\n",
       "      <td>0.0</td>\n",
       "      <td>0.0</td>\n",
       "      <td>0</td>\n",
       "      <td>0</td>\n",
       "      <td>0.0</td>\n",
       "      <td>0.0</td>\n",
       "      <td>0</td>\n",
       "      <td>0</td>\n",
       "      <td>BENIGN</td>\n",
       "    </tr>\n",
       "  </tbody>\n",
       "</table>\n",
       "<p>5 rows × 79 columns</p>\n",
       "</div>"
      ],
      "text/plain": [
       "    Destination Port   Flow Duration   Total Fwd Packets  \\\n",
       "0              54865               3                   2   \n",
       "1              55054             109                   1   \n",
       "2              55055              52                   1   \n",
       "3              46236              34                   1   \n",
       "4              54863               3                   2   \n",
       "\n",
       "    Total Backward Packets  Total Length of Fwd Packets  \\\n",
       "0                        0                           12   \n",
       "1                        1                            6   \n",
       "2                        1                            6   \n",
       "3                        1                            6   \n",
       "4                        0                           12   \n",
       "\n",
       "    Total Length of Bwd Packets   Fwd Packet Length Max  \\\n",
       "0                             0                       6   \n",
       "1                             6                       6   \n",
       "2                             6                       6   \n",
       "3                             6                       6   \n",
       "4                             0                       6   \n",
       "\n",
       "    Fwd Packet Length Min   Fwd Packet Length Mean   Fwd Packet Length Std  \\\n",
       "0                       6                      6.0                     0.0   \n",
       "1                       6                      6.0                     0.0   \n",
       "2                       6                      6.0                     0.0   \n",
       "3                       6                      6.0                     0.0   \n",
       "4                       6                      6.0                     0.0   \n",
       "\n",
       "   ...   min_seg_size_forward  Active Mean   Active Std   Active Max  \\\n",
       "0  ...                     20          0.0          0.0            0   \n",
       "1  ...                     20          0.0          0.0            0   \n",
       "2  ...                     20          0.0          0.0            0   \n",
       "3  ...                     20          0.0          0.0            0   \n",
       "4  ...                     20          0.0          0.0            0   \n",
       "\n",
       "    Active Min  Idle Mean   Idle Std   Idle Max   Idle Min   Label  \n",
       "0            0        0.0        0.0          0          0  BENIGN  \n",
       "1            0        0.0        0.0          0          0  BENIGN  \n",
       "2            0        0.0        0.0          0          0  BENIGN  \n",
       "3            0        0.0        0.0          0          0  BENIGN  \n",
       "4            0        0.0        0.0          0          0  BENIGN  \n",
       "\n",
       "[5 rows x 79 columns]"
      ]
     },
     "execution_count": 92,
     "metadata": {},
     "output_type": "execute_result"
    }
   ],
   "source": [
    "# Load all the file names into a list\n",
    "filenames = []\n",
    "file_directory = 'MachineLearningCVE'\n",
    "for filename in os.listdir(file_directory):\n",
    "    filenames.append(file_directory+\"\\\\\"+filename)\n",
    "\n",
    "# Load the data in the files into a pandas dataframe\n",
    "cids_df = pd.concat(map(pd.read_csv, filenames), ignore_index=True)\n",
    "cids_df.head()"
   ]
  },
  {
   "cell_type": "markdown",
   "id": "e58cfaf4",
   "metadata": {},
   "source": [
    "**Data Exploration**"
   ]
  },
  {
   "cell_type": "code",
   "execution_count": 93,
   "id": "c8cc4560",
   "metadata": {},
   "outputs": [
    {
     "data": {
      "text/plain": [
       "(2830743, 79)"
      ]
     },
     "execution_count": 93,
     "metadata": {},
     "output_type": "execute_result"
    }
   ],
   "source": [
    "# Check the shape\n",
    "cids_df.shape"
   ]
  },
  {
   "cell_type": "markdown",
   "id": "817fe398",
   "metadata": {},
   "source": [
    "The resulting dataframe is quite large, with 2,830,743 rows and 79 columns"
   ]
  },
  {
   "cell_type": "code",
   "execution_count": 94,
   "id": "3cfecaa6",
   "metadata": {},
   "outputs": [
    {
     "name": "stdout",
     "output_type": "stream",
     "text": [
      "<class 'pandas.core.frame.DataFrame'>\n",
      "RangeIndex: 2830743 entries, 0 to 2830742\n",
      "Data columns (total 79 columns):\n",
      " #   Column                        Dtype  \n",
      "---  ------                        -----  \n",
      " 0    Destination Port             int64  \n",
      " 1    Flow Duration                int64  \n",
      " 2    Total Fwd Packets            int64  \n",
      " 3    Total Backward Packets       int64  \n",
      " 4   Total Length of Fwd Packets   int64  \n",
      " 5    Total Length of Bwd Packets  int64  \n",
      " 6    Fwd Packet Length Max        int64  \n",
      " 7    Fwd Packet Length Min        int64  \n",
      " 8    Fwd Packet Length Mean       float64\n",
      " 9    Fwd Packet Length Std        float64\n",
      " 10  Bwd Packet Length Max         int64  \n",
      " 11   Bwd Packet Length Min        int64  \n",
      " 12   Bwd Packet Length Mean       float64\n",
      " 13   Bwd Packet Length Std        float64\n",
      " 14  Flow Bytes/s                  float64\n",
      " 15   Flow Packets/s               float64\n",
      " 16   Flow IAT Mean                float64\n",
      " 17   Flow IAT Std                 float64\n",
      " 18   Flow IAT Max                 int64  \n",
      " 19   Flow IAT Min                 int64  \n",
      " 20  Fwd IAT Total                 int64  \n",
      " 21   Fwd IAT Mean                 float64\n",
      " 22   Fwd IAT Std                  float64\n",
      " 23   Fwd IAT Max                  int64  \n",
      " 24   Fwd IAT Min                  int64  \n",
      " 25  Bwd IAT Total                 int64  \n",
      " 26   Bwd IAT Mean                 float64\n",
      " 27   Bwd IAT Std                  float64\n",
      " 28   Bwd IAT Max                  int64  \n",
      " 29   Bwd IAT Min                  int64  \n",
      " 30  Fwd PSH Flags                 int64  \n",
      " 31   Bwd PSH Flags                int64  \n",
      " 32   Fwd URG Flags                int64  \n",
      " 33   Bwd URG Flags                int64  \n",
      " 34   Fwd Header Length            int64  \n",
      " 35   Bwd Header Length            int64  \n",
      " 36  Fwd Packets/s                 float64\n",
      " 37   Bwd Packets/s                float64\n",
      " 38   Min Packet Length            int64  \n",
      " 39   Max Packet Length            int64  \n",
      " 40   Packet Length Mean           float64\n",
      " 41   Packet Length Std            float64\n",
      " 42   Packet Length Variance       float64\n",
      " 43  FIN Flag Count                int64  \n",
      " 44   SYN Flag Count               int64  \n",
      " 45   RST Flag Count               int64  \n",
      " 46   PSH Flag Count               int64  \n",
      " 47   ACK Flag Count               int64  \n",
      " 48   URG Flag Count               int64  \n",
      " 49   CWE Flag Count               int64  \n",
      " 50   ECE Flag Count               int64  \n",
      " 51   Down/Up Ratio                int64  \n",
      " 52   Average Packet Size          float64\n",
      " 53   Avg Fwd Segment Size         float64\n",
      " 54   Avg Bwd Segment Size         float64\n",
      " 55   Fwd Header Length.1          int64  \n",
      " 56  Fwd Avg Bytes/Bulk            int64  \n",
      " 57   Fwd Avg Packets/Bulk         int64  \n",
      " 58   Fwd Avg Bulk Rate            int64  \n",
      " 59   Bwd Avg Bytes/Bulk           int64  \n",
      " 60   Bwd Avg Packets/Bulk         int64  \n",
      " 61  Bwd Avg Bulk Rate             int64  \n",
      " 62  Subflow Fwd Packets           int64  \n",
      " 63   Subflow Fwd Bytes            int64  \n",
      " 64   Subflow Bwd Packets          int64  \n",
      " 65   Subflow Bwd Bytes            int64  \n",
      " 66  Init_Win_bytes_forward        int64  \n",
      " 67   Init_Win_bytes_backward      int64  \n",
      " 68   act_data_pkt_fwd             int64  \n",
      " 69   min_seg_size_forward         int64  \n",
      " 70  Active Mean                   float64\n",
      " 71   Active Std                   float64\n",
      " 72   Active Max                   int64  \n",
      " 73   Active Min                   int64  \n",
      " 74  Idle Mean                     float64\n",
      " 75   Idle Std                     float64\n",
      " 76   Idle Max                     int64  \n",
      " 77   Idle Min                     int64  \n",
      " 78   Label                        object \n",
      "dtypes: float64(24), int64(54), object(1)\n",
      "memory usage: 1.7+ GB\n"
     ]
    }
   ],
   "source": [
    "# Check the dataframe information\n",
    "cids_df.info()"
   ]
  },
  {
   "cell_type": "markdown",
   "id": "3c4dd0e3",
   "metadata": {},
   "source": [
    "The dataframe contains mainly float and integer data, except the 'Label' column which contains an onject. This will be converted into a string"
   ]
  },
  {
   "cell_type": "code",
   "execution_count": 95,
   "id": "39627408",
   "metadata": {},
   "outputs": [
    {
     "data": {
      "text/plain": [
       "Flow Bytes/s    1358\n",
       "dtype: int64"
      ]
     },
     "execution_count": 95,
     "metadata": {},
     "output_type": "execute_result"
    }
   ],
   "source": [
    "# Check for null values\n",
    "null_values = cids_df.isnull().sum()\n",
    "null_values[null_values > 0]"
   ]
  },
  {
   "cell_type": "code",
   "execution_count": 96,
   "id": "901f57ec",
   "metadata": {},
   "outputs": [
    {
     "data": {
      "text/html": [
       "<div>\n",
       "<style scoped>\n",
       "    .dataframe tbody tr th:only-of-type {\n",
       "        vertical-align: middle;\n",
       "    }\n",
       "\n",
       "    .dataframe tbody tr th {\n",
       "        vertical-align: top;\n",
       "    }\n",
       "\n",
       "    .dataframe thead th {\n",
       "        text-align: right;\n",
       "    }\n",
       "</style>\n",
       "<table border=\"1\" class=\"dataframe\">\n",
       "  <thead>\n",
       "    <tr style=\"text-align: right;\">\n",
       "      <th></th>\n",
       "      <th>Destination Port</th>\n",
       "      <th>Flow Duration</th>\n",
       "      <th>Total Fwd Packets</th>\n",
       "      <th>Total Backward Packets</th>\n",
       "      <th>Total Length of Fwd Packets</th>\n",
       "      <th>Total Length of Bwd Packets</th>\n",
       "      <th>Fwd Packet Length Max</th>\n",
       "      <th>Fwd Packet Length Min</th>\n",
       "      <th>Fwd Packet Length Mean</th>\n",
       "      <th>Fwd Packet Length Std</th>\n",
       "      <th>...</th>\n",
       "      <th>act_data_pkt_fwd</th>\n",
       "      <th>min_seg_size_forward</th>\n",
       "      <th>Active Mean</th>\n",
       "      <th>Active Std</th>\n",
       "      <th>Active Max</th>\n",
       "      <th>Active Min</th>\n",
       "      <th>Idle Mean</th>\n",
       "      <th>Idle Std</th>\n",
       "      <th>Idle Max</th>\n",
       "      <th>Idle Min</th>\n",
       "    </tr>\n",
       "  </thead>\n",
       "  <tbody>\n",
       "    <tr>\n",
       "      <th>count</th>\n",
       "      <td>2.830743e+06</td>\n",
       "      <td>2.830743e+06</td>\n",
       "      <td>2.830743e+06</td>\n",
       "      <td>2.830743e+06</td>\n",
       "      <td>2.830743e+06</td>\n",
       "      <td>2.830743e+06</td>\n",
       "      <td>2.830743e+06</td>\n",
       "      <td>2.830743e+06</td>\n",
       "      <td>2.830743e+06</td>\n",
       "      <td>2.830743e+06</td>\n",
       "      <td>...</td>\n",
       "      <td>2.830743e+06</td>\n",
       "      <td>2.830743e+06</td>\n",
       "      <td>2.830743e+06</td>\n",
       "      <td>2.830743e+06</td>\n",
       "      <td>2.830743e+06</td>\n",
       "      <td>2.830743e+06</td>\n",
       "      <td>2.830743e+06</td>\n",
       "      <td>2.830743e+06</td>\n",
       "      <td>2.830743e+06</td>\n",
       "      <td>2.830743e+06</td>\n",
       "    </tr>\n",
       "    <tr>\n",
       "      <th>mean</th>\n",
       "      <td>8.071483e+03</td>\n",
       "      <td>1.478566e+07</td>\n",
       "      <td>9.361160e+00</td>\n",
       "      <td>1.039377e+01</td>\n",
       "      <td>5.493024e+02</td>\n",
       "      <td>1.616264e+04</td>\n",
       "      <td>2.075999e+02</td>\n",
       "      <td>1.871366e+01</td>\n",
       "      <td>5.820194e+01</td>\n",
       "      <td>6.891013e+01</td>\n",
       "      <td>...</td>\n",
       "      <td>5.418218e+00</td>\n",
       "      <td>-2.741688e+03</td>\n",
       "      <td>8.155132e+04</td>\n",
       "      <td>4.113412e+04</td>\n",
       "      <td>1.531825e+05</td>\n",
       "      <td>5.829582e+04</td>\n",
       "      <td>8.316037e+06</td>\n",
       "      <td>5.038439e+05</td>\n",
       "      <td>8.695752e+06</td>\n",
       "      <td>7.920031e+06</td>\n",
       "    </tr>\n",
       "    <tr>\n",
       "      <th>std</th>\n",
       "      <td>1.828363e+04</td>\n",
       "      <td>3.365374e+07</td>\n",
       "      <td>7.496728e+02</td>\n",
       "      <td>9.973883e+02</td>\n",
       "      <td>9.993589e+03</td>\n",
       "      <td>2.263088e+06</td>\n",
       "      <td>7.171848e+02</td>\n",
       "      <td>6.033935e+01</td>\n",
       "      <td>1.860912e+02</td>\n",
       "      <td>2.811871e+02</td>\n",
       "      <td>...</td>\n",
       "      <td>6.364257e+02</td>\n",
       "      <td>1.084989e+06</td>\n",
       "      <td>6.485999e+05</td>\n",
       "      <td>3.933815e+05</td>\n",
       "      <td>1.025825e+06</td>\n",
       "      <td>5.770923e+05</td>\n",
       "      <td>2.363008e+07</td>\n",
       "      <td>4.602984e+06</td>\n",
       "      <td>2.436689e+07</td>\n",
       "      <td>2.336342e+07</td>\n",
       "    </tr>\n",
       "    <tr>\n",
       "      <th>min</th>\n",
       "      <td>0.000000e+00</td>\n",
       "      <td>-1.300000e+01</td>\n",
       "      <td>1.000000e+00</td>\n",
       "      <td>0.000000e+00</td>\n",
       "      <td>0.000000e+00</td>\n",
       "      <td>0.000000e+00</td>\n",
       "      <td>0.000000e+00</td>\n",
       "      <td>0.000000e+00</td>\n",
       "      <td>0.000000e+00</td>\n",
       "      <td>0.000000e+00</td>\n",
       "      <td>...</td>\n",
       "      <td>0.000000e+00</td>\n",
       "      <td>-5.368707e+08</td>\n",
       "      <td>0.000000e+00</td>\n",
       "      <td>0.000000e+00</td>\n",
       "      <td>0.000000e+00</td>\n",
       "      <td>0.000000e+00</td>\n",
       "      <td>0.000000e+00</td>\n",
       "      <td>0.000000e+00</td>\n",
       "      <td>0.000000e+00</td>\n",
       "      <td>0.000000e+00</td>\n",
       "    </tr>\n",
       "    <tr>\n",
       "      <th>25%</th>\n",
       "      <td>5.300000e+01</td>\n",
       "      <td>1.550000e+02</td>\n",
       "      <td>2.000000e+00</td>\n",
       "      <td>1.000000e+00</td>\n",
       "      <td>1.200000e+01</td>\n",
       "      <td>0.000000e+00</td>\n",
       "      <td>6.000000e+00</td>\n",
       "      <td>0.000000e+00</td>\n",
       "      <td>6.000000e+00</td>\n",
       "      <td>0.000000e+00</td>\n",
       "      <td>...</td>\n",
       "      <td>0.000000e+00</td>\n",
       "      <td>2.000000e+01</td>\n",
       "      <td>0.000000e+00</td>\n",
       "      <td>0.000000e+00</td>\n",
       "      <td>0.000000e+00</td>\n",
       "      <td>0.000000e+00</td>\n",
       "      <td>0.000000e+00</td>\n",
       "      <td>0.000000e+00</td>\n",
       "      <td>0.000000e+00</td>\n",
       "      <td>0.000000e+00</td>\n",
       "    </tr>\n",
       "    <tr>\n",
       "      <th>50%</th>\n",
       "      <td>8.000000e+01</td>\n",
       "      <td>3.131600e+04</td>\n",
       "      <td>2.000000e+00</td>\n",
       "      <td>2.000000e+00</td>\n",
       "      <td>6.200000e+01</td>\n",
       "      <td>1.230000e+02</td>\n",
       "      <td>3.700000e+01</td>\n",
       "      <td>2.000000e+00</td>\n",
       "      <td>3.400000e+01</td>\n",
       "      <td>0.000000e+00</td>\n",
       "      <td>...</td>\n",
       "      <td>1.000000e+00</td>\n",
       "      <td>2.400000e+01</td>\n",
       "      <td>0.000000e+00</td>\n",
       "      <td>0.000000e+00</td>\n",
       "      <td>0.000000e+00</td>\n",
       "      <td>0.000000e+00</td>\n",
       "      <td>0.000000e+00</td>\n",
       "      <td>0.000000e+00</td>\n",
       "      <td>0.000000e+00</td>\n",
       "      <td>0.000000e+00</td>\n",
       "    </tr>\n",
       "    <tr>\n",
       "      <th>75%</th>\n",
       "      <td>4.430000e+02</td>\n",
       "      <td>3.204828e+06</td>\n",
       "      <td>5.000000e+00</td>\n",
       "      <td>4.000000e+00</td>\n",
       "      <td>1.870000e+02</td>\n",
       "      <td>4.820000e+02</td>\n",
       "      <td>8.100000e+01</td>\n",
       "      <td>3.600000e+01</td>\n",
       "      <td>5.000000e+01</td>\n",
       "      <td>2.616295e+01</td>\n",
       "      <td>...</td>\n",
       "      <td>2.000000e+00</td>\n",
       "      <td>3.200000e+01</td>\n",
       "      <td>0.000000e+00</td>\n",
       "      <td>0.000000e+00</td>\n",
       "      <td>0.000000e+00</td>\n",
       "      <td>0.000000e+00</td>\n",
       "      <td>0.000000e+00</td>\n",
       "      <td>0.000000e+00</td>\n",
       "      <td>0.000000e+00</td>\n",
       "      <td>0.000000e+00</td>\n",
       "    </tr>\n",
       "    <tr>\n",
       "      <th>max</th>\n",
       "      <td>6.553500e+04</td>\n",
       "      <td>1.200000e+08</td>\n",
       "      <td>2.197590e+05</td>\n",
       "      <td>2.919220e+05</td>\n",
       "      <td>1.290000e+07</td>\n",
       "      <td>6.554530e+08</td>\n",
       "      <td>2.482000e+04</td>\n",
       "      <td>2.325000e+03</td>\n",
       "      <td>5.940857e+03</td>\n",
       "      <td>7.125597e+03</td>\n",
       "      <td>...</td>\n",
       "      <td>2.135570e+05</td>\n",
       "      <td>1.380000e+02</td>\n",
       "      <td>1.100000e+08</td>\n",
       "      <td>7.420000e+07</td>\n",
       "      <td>1.100000e+08</td>\n",
       "      <td>1.100000e+08</td>\n",
       "      <td>1.200000e+08</td>\n",
       "      <td>7.690000e+07</td>\n",
       "      <td>1.200000e+08</td>\n",
       "      <td>1.200000e+08</td>\n",
       "    </tr>\n",
       "  </tbody>\n",
       "</table>\n",
       "<p>8 rows × 78 columns</p>\n",
       "</div>"
      ],
      "text/plain": [
       "        Destination Port   Flow Duration   Total Fwd Packets  \\\n",
       "count       2.830743e+06    2.830743e+06        2.830743e+06   \n",
       "mean        8.071483e+03    1.478566e+07        9.361160e+00   \n",
       "std         1.828363e+04    3.365374e+07        7.496728e+02   \n",
       "min         0.000000e+00   -1.300000e+01        1.000000e+00   \n",
       "25%         5.300000e+01    1.550000e+02        2.000000e+00   \n",
       "50%         8.000000e+01    3.131600e+04        2.000000e+00   \n",
       "75%         4.430000e+02    3.204828e+06        5.000000e+00   \n",
       "max         6.553500e+04    1.200000e+08        2.197590e+05   \n",
       "\n",
       "        Total Backward Packets  Total Length of Fwd Packets  \\\n",
       "count             2.830743e+06                 2.830743e+06   \n",
       "mean              1.039377e+01                 5.493024e+02   \n",
       "std               9.973883e+02                 9.993589e+03   \n",
       "min               0.000000e+00                 0.000000e+00   \n",
       "25%               1.000000e+00                 1.200000e+01   \n",
       "50%               2.000000e+00                 6.200000e+01   \n",
       "75%               4.000000e+00                 1.870000e+02   \n",
       "max               2.919220e+05                 1.290000e+07   \n",
       "\n",
       "        Total Length of Bwd Packets   Fwd Packet Length Max  \\\n",
       "count                  2.830743e+06            2.830743e+06   \n",
       "mean                   1.616264e+04            2.075999e+02   \n",
       "std                    2.263088e+06            7.171848e+02   \n",
       "min                    0.000000e+00            0.000000e+00   \n",
       "25%                    0.000000e+00            6.000000e+00   \n",
       "50%                    1.230000e+02            3.700000e+01   \n",
       "75%                    4.820000e+02            8.100000e+01   \n",
       "max                    6.554530e+08            2.482000e+04   \n",
       "\n",
       "        Fwd Packet Length Min   Fwd Packet Length Mean  \\\n",
       "count            2.830743e+06             2.830743e+06   \n",
       "mean             1.871366e+01             5.820194e+01   \n",
       "std              6.033935e+01             1.860912e+02   \n",
       "min              0.000000e+00             0.000000e+00   \n",
       "25%              0.000000e+00             6.000000e+00   \n",
       "50%              2.000000e+00             3.400000e+01   \n",
       "75%              3.600000e+01             5.000000e+01   \n",
       "max              2.325000e+03             5.940857e+03   \n",
       "\n",
       "        Fwd Packet Length Std  ...   act_data_pkt_fwd   min_seg_size_forward  \\\n",
       "count            2.830743e+06  ...       2.830743e+06           2.830743e+06   \n",
       "mean             6.891013e+01  ...       5.418218e+00          -2.741688e+03   \n",
       "std              2.811871e+02  ...       6.364257e+02           1.084989e+06   \n",
       "min              0.000000e+00  ...       0.000000e+00          -5.368707e+08   \n",
       "25%              0.000000e+00  ...       0.000000e+00           2.000000e+01   \n",
       "50%              0.000000e+00  ...       1.000000e+00           2.400000e+01   \n",
       "75%              2.616295e+01  ...       2.000000e+00           3.200000e+01   \n",
       "max              7.125597e+03  ...       2.135570e+05           1.380000e+02   \n",
       "\n",
       "        Active Mean    Active Std    Active Max    Active Min     Idle Mean  \\\n",
       "count  2.830743e+06  2.830743e+06  2.830743e+06  2.830743e+06  2.830743e+06   \n",
       "mean   8.155132e+04  4.113412e+04  1.531825e+05  5.829582e+04  8.316037e+06   \n",
       "std    6.485999e+05  3.933815e+05  1.025825e+06  5.770923e+05  2.363008e+07   \n",
       "min    0.000000e+00  0.000000e+00  0.000000e+00  0.000000e+00  0.000000e+00   \n",
       "25%    0.000000e+00  0.000000e+00  0.000000e+00  0.000000e+00  0.000000e+00   \n",
       "50%    0.000000e+00  0.000000e+00  0.000000e+00  0.000000e+00  0.000000e+00   \n",
       "75%    0.000000e+00  0.000000e+00  0.000000e+00  0.000000e+00  0.000000e+00   \n",
       "max    1.100000e+08  7.420000e+07  1.100000e+08  1.100000e+08  1.200000e+08   \n",
       "\n",
       "           Idle Std      Idle Max      Idle Min  \n",
       "count  2.830743e+06  2.830743e+06  2.830743e+06  \n",
       "mean   5.038439e+05  8.695752e+06  7.920031e+06  \n",
       "std    4.602984e+06  2.436689e+07  2.336342e+07  \n",
       "min    0.000000e+00  0.000000e+00  0.000000e+00  \n",
       "25%    0.000000e+00  0.000000e+00  0.000000e+00  \n",
       "50%    0.000000e+00  0.000000e+00  0.000000e+00  \n",
       "75%    0.000000e+00  0.000000e+00  0.000000e+00  \n",
       "max    7.690000e+07  1.200000e+08  1.200000e+08  \n",
       "\n",
       "[8 rows x 78 columns]"
      ]
     },
     "execution_count": 96,
     "metadata": {},
     "output_type": "execute_result"
    }
   ],
   "source": [
    "# Check the statistics of the data\n",
    "cids_df.describe()"
   ]
  },
  {
   "cell_type": "markdown",
   "id": "3ee8a34e",
   "metadata": {},
   "source": [
    "From the data description, the data generally has data within a wide range of values. Some columns have data within thousands while others have data within tens and ones. This will need to be scaled to normalize the values"
   ]
  },
  {
   "cell_type": "code",
   "execution_count": 97,
   "id": "1aaf58ce",
   "metadata": {},
   "outputs": [
    {
     "data": {
      "text/plain": [
       "array(['BENIGN', 'DDoS', 'PortScan', 'Bot', 'Infiltration',\n",
       "       'Web Attack � Brute Force', 'Web Attack � XSS',\n",
       "       'Web Attack � Sql Injection', 'FTP-Patator', 'SSH-Patator',\n",
       "       'DoS slowloris', 'DoS Slowhttptest', 'DoS Hulk', 'DoS GoldenEye',\n",
       "       'Heartbleed'], dtype=object)"
      ]
     },
     "execution_count": 97,
     "metadata": {},
     "output_type": "execute_result"
    }
   ],
   "source": [
    "# Check for the details of unqiue labels\n",
    "cids_df[' Label'].unique()"
   ]
  },
  {
   "cell_type": "code",
   "execution_count": 98,
   "id": "70eec39d",
   "metadata": {},
   "outputs": [
    {
     "data": {
      "text/plain": [
       "15"
      ]
     },
     "execution_count": 98,
     "metadata": {},
     "output_type": "execute_result"
    }
   ],
   "source": [
    "# Check for the count of unqiue labels\n",
    "cids_df[' Label'].nunique()"
   ]
  },
  {
   "cell_type": "markdown",
   "id": "da071134",
   "metadata": {},
   "source": [
    "From the above, we can see that there are 15 unique types intrusion security attacks"
   ]
  },
  {
   "cell_type": "code",
   "execution_count": 99,
   "id": "cf9c5b0c",
   "metadata": {},
   "outputs": [
    {
     "data": {
      "text/plain": [
       " Bwd PSH Flags           0.0\n",
       " Bwd URG Flags           0.0\n",
       "Fwd Avg Bytes/Bulk       0.0\n",
       " Fwd Avg Packets/Bulk    0.0\n",
       " Fwd Avg Bulk Rate       0.0\n",
       " Bwd Avg Bytes/Bulk      0.0\n",
       " Bwd Avg Packets/Bulk    0.0\n",
       "Bwd Avg Bulk Rate        0.0\n",
       "dtype: float64"
      ]
     },
     "execution_count": 99,
     "metadata": {},
     "output_type": "execute_result"
    }
   ],
   "source": [
    "# Check for columns where data has no variance i.e the values is always 0\n",
    "var_values = cids_df.var(numeric_only = True)\n",
    "zero_var_values = var_values[var_values == 0]\n",
    "zero_var_values"
   ]
  },
  {
   "cell_type": "markdown",
   "id": "7475a659",
   "metadata": {},
   "source": [
    "We observe that there are 8 columns with variance as 0, meaning they have all values as 0. These can be dropped during data cleaning, as the values are always constant and we do not gain information from them."
   ]
  },
  {
   "cell_type": "markdown",
   "id": "b7d9a098",
   "metadata": {},
   "source": [
    "**Data Cleaning and Transformation**"
   ]
  },
  {
   "cell_type": "markdown",
   "id": "d4826ccc",
   "metadata": {},
   "source": [
    "Handle the null values in the 'Flow Bytes/s' column using imputation with the mean"
   ]
  },
  {
   "cell_type": "code",
   "execution_count": 100,
   "id": "56186a91",
   "metadata": {},
   "outputs": [
    {
     "data": {
      "text/plain": [
       "Series([], dtype: int64)"
      ]
     },
     "execution_count": 100,
     "metadata": {},
     "output_type": "execute_result"
    }
   ],
   "source": [
    "cids_df['Flow Bytes/s'] = cids_df['Flow Bytes/s'].fillna(cids_df['Flow Bytes/s'].mean())\n",
    "\n",
    "# Check if NaN values still exist\n",
    "null_values_clean = cids_df.isnull().sum()\n",
    "null_values_clean[null_values_clean > 0]"
   ]
  },
  {
   "cell_type": "markdown",
   "id": "70f8afa0",
   "metadata": {},
   "source": [
    "Handle the columns with no variance"
   ]
  },
  {
   "cell_type": "code",
   "execution_count": 101,
   "id": "f627a2b3",
   "metadata": {},
   "outputs": [
    {
     "data": {
      "text/plain": [
       "79"
      ]
     },
     "execution_count": 101,
     "metadata": {},
     "output_type": "execute_result"
    }
   ],
   "source": [
    "# Check the number of columns before dropping the data\n",
    "len(cids_df.columns)"
   ]
  },
  {
   "cell_type": "code",
   "execution_count": 102,
   "id": "e58b953d",
   "metadata": {},
   "outputs": [
    {
     "data": {
      "text/plain": [
       "71"
      ]
     },
     "execution_count": 102,
     "metadata": {},
     "output_type": "execute_result"
    }
   ],
   "source": [
    "zero_var_cols = list(zero_var_values.index)\n",
    "cids_df = cids_df.drop(columns = zero_var_cols)\n",
    "\n",
    "# Check the number of columns after dropping the data\n",
    "len(cids_df.columns)"
   ]
  },
  {
   "cell_type": "code",
   "execution_count": null,
   "id": "80f8867b",
   "metadata": {},
   "outputs": [],
   "source": []
  }
 ],
 "metadata": {
  "kernelspec": {
   "display_name": "Python 3 (ipykernel)",
   "language": "python",
   "name": "python3"
  },
  "language_info": {
   "codemirror_mode": {
    "name": "ipython",
    "version": 3
   },
   "file_extension": ".py",
   "mimetype": "text/x-python",
   "name": "python",
   "nbconvert_exporter": "python",
   "pygments_lexer": "ipython3",
   "version": "3.11.4"
  }
 },
 "nbformat": 4,
 "nbformat_minor": 5
}
