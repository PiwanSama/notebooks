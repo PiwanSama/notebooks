{
 "cells": [
  {
   "cell_type": "markdown",
   "id": "07a177e1",
   "metadata": {},
   "source": [
    "# Object Oriented Programming"
   ]
  },
  {
   "cell_type": "markdown",
   "id": "47dfbdfd",
   "metadata": {},
   "source": [
    "# Classes"
   ]
  },
  {
   "cell_type": "markdown",
   "id": "6eddb307",
   "metadata": {},
   "source": [
    "Constructors\n",
    "\n",
    "Constructors are special methods in object-oriented programming languages like Python that are used to initialize objects of a class. \n",
    "\n",
    "They are typically called when an object is created from a class, and their primary purpose is to set up the initial state or attributes of the object."
   ]
  },
  {
   "cell_type": "code",
   "execution_count": 2,
   "id": "fe1580c8",
   "metadata": {},
   "outputs": [
    {
     "name": "stdout",
     "output_type": "stream",
     "text": [
      "Alice\n",
      "25\n"
     ]
    }
   ],
   "source": [
    "class Person:\n",
    "    def __init__(self, name, age):\n",
    "        # Constructor takes name and age as parameters\n",
    "        self.name = name  # Initialize the 'name' attribute\n",
    "        self.age = age    # Initialize the 'age' attribute\n",
    "\n",
    "# Creating objects of the 'Person' class using the constructor\n",
    "person1 = Person(\"Alice\", 30)\n",
    "person2 = Person(\"Bob\", 25)\n",
    "\n",
    "# Accessing object attributes\n",
    "print(person1.name)\n",
    "print(person2.age)"
   ]
  },
  {
   "cell_type": "markdown",
   "id": "07e6f6a6",
   "metadata": {},
   "source": [
    "# Getters and Setters"
   ]
  },
  {
   "cell_type": "markdown",
   "id": "265cd113",
   "metadata": {},
   "source": [
    "Getters and setters are methods used to access and modify the attributes (properties) of a class in a controlled manner. \n",
    "\n",
    "They provide an additional layer of abstraction and encapsulation by allowing you to define how attributes are accessed and updated."
   ]
  },
  {
   "cell_type": "markdown",
   "id": "a62d1c69",
   "metadata": {},
   "source": [
    "In Python, you can implement getters and setters using special methods, typically named with a get_ and set_ prefix, respectively. \n",
    "\n",
    "Let's add getters and setters to the Person class "
   ]
  },
  {
   "cell_type": "code",
   "execution_count": 3,
   "id": "06d77572",
   "metadata": {},
   "outputs": [],
   "source": [
    "class Person:\n",
    "    def __init__(self, name, age):\n",
    "        self.__name = name  # Private attribute\n",
    "        self.__age = age    # Private attribute\n",
    "\n",
    "    # Getter method for 'name' attribute\n",
    "    def get_name(self):\n",
    "        return self.__name\n",
    "\n",
    "    # Setter method for 'name' attribute\n",
    "    def set_name(self, name):\n",
    "        self.__name = name\n",
    "\n",
    "    # Getter method for 'age' attribute\n",
    "    def get_age(self):\n",
    "        return self.__age\n",
    "\n",
    "    # Setter method for 'age' attribute\n",
    "    def set_age(self, age):\n",
    "        if age >= 0:\n",
    "            self.__age = age\n",
    "        else:\n",
    "            print(\"Age cannot be negative.\")"
   ]
  },
  {
   "cell_type": "code",
   "execution_count": 4,
   "id": "ac9f7797",
   "metadata": {},
   "outputs": [],
   "source": [
    "# Creating objects of the 'Person' class\n",
    "person1 = Person(\"Alice\", 30)\n",
    "person2 = Person(\"Bob\", 25)"
   ]
  },
  {
   "cell_type": "code",
   "execution_count": 5,
   "id": "503d851d",
   "metadata": {},
   "outputs": [
    {
     "name": "stdout",
     "output_type": "stream",
     "text": [
      "Alice\n",
      "25\n"
     ]
    }
   ],
   "source": [
    "# Using getters to access object attributes\n",
    "print(person1.get_name())  # Output: Alice\n",
    "print(person2.get_age())   # Output: 25"
   ]
  },
  {
   "cell_type": "code",
   "execution_count": 6,
   "id": "53994010",
   "metadata": {},
   "outputs": [],
   "source": [
    "# Using setters to modify object attributes\n",
    "person1.set_name(\"Alicia\")\n",
    "person2.set_age(26)"
   ]
  },
  {
   "cell_type": "code",
   "execution_count": 7,
   "id": "610b2cad",
   "metadata": {},
   "outputs": [
    {
     "name": "stdout",
     "output_type": "stream",
     "text": [
      "Alicia\n",
      "26\n"
     ]
    }
   ],
   "source": [
    "# Using getters to confirm changes\n",
    "print(person1.get_name())  # Output: Alicia\n",
    "print(person2.get_age())   # Output: 26"
   ]
  },
  {
   "cell_type": "code",
   "execution_count": 8,
   "id": "b2d1ba0a",
   "metadata": {},
   "outputs": [
    {
     "name": "stdout",
     "output_type": "stream",
     "text": [
      "Age cannot be negative.\n"
     ]
    }
   ],
   "source": [
    "# Trying to set a negative age (setter validation)\n",
    "person1.set_age(-5)  # Output: Age cannot be negative."
   ]
  },
  {
   "cell_type": "markdown",
   "id": "46a97af1",
   "metadata": {},
   "source": [
    "# Encapsulation"
   ]
  },
  {
   "cell_type": "markdown",
   "id": "ef06e714",
   "metadata": {},
   "source": [
    "Encapsulation is the concept of bundling data (attributes) and the methods (functions) that operate on that data into a single unit known as a class. It restricts direct access to some of an object's components, protecting the integrity of the data."
   ]
  },
  {
   "cell_type": "markdown",
   "id": "5434965b",
   "metadata": {},
   "source": [
    "In Python, we typically use private attributes and methods to achieve encapsulation."
   ]
  },
  {
   "cell_type": "code",
   "execution_count": 9,
   "id": "3b84229f",
   "metadata": {},
   "outputs": [],
   "source": [
    "class Person:\n",
    "    def __init__(self, name, age):\n",
    "        self.__name = name  # Private attribute\n",
    "        self.__age = age    # Private attribute\n",
    "\n",
    "    def get_name(self):\n",
    "        return self.__name\n",
    "\n",
    "    def set_name(self, name):\n",
    "        self.__name = name\n",
    "\n",
    "    def get_age(self):\n",
    "        return self.__age\n",
    "\n",
    "    def set_age(self, age):\n",
    "        if age >= 0:\n",
    "            self.__age = age\n",
    "        else:\n",
    "            print(\"Age cannot be negative.\")\n"
   ]
  },
  {
   "cell_type": "markdown",
   "id": "74c5ff62",
   "metadata": {},
   "source": [
    "# Inheritance"
   ]
  },
  {
   "cell_type": "markdown",
   "id": "478101af",
   "metadata": {},
   "source": [
    "Inheritance is a mechanism where a new class (subclass) is based on an existing class (superclass). It allows the reuse of code and the extension of the existing class. \n",
    "\n",
    "We shall demonstrate inheritance by creating a subclass of Person with additional attributes and methods."
   ]
  },
  {
   "cell_type": "code",
   "execution_count": 10,
   "id": "7866fab1",
   "metadata": {},
   "outputs": [
    {
     "name": "stdout",
     "output_type": "stream",
     "text": [
      "Eve\n",
      "12345\n"
     ]
    }
   ],
   "source": [
    "class Student(Person):  # Student is a subclass of Person\n",
    "    def __init__(self, name, age, student_id):\n",
    "        super().__init__(name, age)\n",
    "        self.__student_id = student_id  # Additional attribute\n",
    "\n",
    "    # Additional methods specific to Student\n",
    "    def get_student_id(self):\n",
    "        return self.__student_id\n",
    "\n",
    "    def set_student_id(self, student_id):\n",
    "        self.__student_id = student_id\n",
    "\n",
    "# Creating a Student object\n",
    "student = Student(\"Eve\", 20, \"12345\")\n",
    "print(student.get_name())  # Accessing a method from the base class\n",
    "print(student.get_student_id())  # Accessing a method from the derived class\n"
   ]
  },
  {
   "cell_type": "markdown",
   "id": "47b77057",
   "metadata": {},
   "source": [
    "# Polymorphism "
   ]
  },
  {
   "cell_type": "code",
   "execution_count": 11,
   "id": "4e58b292",
   "metadata": {},
   "outputs": [
    {
     "name": "stdout",
     "output_type": "stream",
     "text": [
      "Alicia\n",
      "Eve\n"
     ]
    }
   ],
   "source": [
    "print(person1.get_name())  # Accessing 'get_name()' from Person\n",
    "print(student.get_name())  # Accessing 'get_name()' from Student"
   ]
  },
  {
   "cell_type": "markdown",
   "id": "74fc8a2a",
   "metadata": {},
   "source": [
    "Because both classes have the get_name() method, you can use them interchangeably in your code, treating them as instances of the same base class (Person):"
   ]
  },
  {
   "cell_type": "markdown",
   "id": "2c6e881f",
   "metadata": {},
   "source": [
    "# Abstraction"
   ]
  },
  {
   "cell_type": "markdown",
   "id": "590c8cd8",
   "metadata": {},
   "source": [
    "Abstraction is the concept of hiding complex implementation details and showing only the necessary features of an object. \n",
    "\n",
    "In our code, getter and setter methods abstract the internal attributes (__name and __age) and provide a simplified interface for interacting with the Person and Student objects. \n",
    "\n",
    "Users of the class don't need to know how the attributes are stored or manipulated internally; they can use the provided methods to access and modify data."
   ]
  },
  {
   "cell_type": "markdown",
   "id": "209f50d7",
   "metadata": {},
   "source": [
    "# Question 1: OOP, File IO, Association:"
   ]
  },
  {
   "cell_type": "code",
   "execution_count": 17,
   "id": "8a63e2b9",
   "metadata": {},
   "outputs": [
    {
     "name": "stdout",
     "output_type": "stream",
     "text": [
      "(255,0,0)\n"
     ]
    }
   ],
   "source": [
    "\"\"\"\n",
    "OOP, File IO, Association: Define a class Color made up of three integer attributes r,g, and b. \n",
    "Creates setters and getters for each attribute. Define a a class Point that has three attributes \n",
    "x, y and color and define getters and setters as appropriate. \n",
    "A file is provided of integer coordinates and the RGB values. \n",
    "Write a program that reads the inputs and stores them to a list of points. \n",
    "Write out the color of each point to the screen\n",
    "For example: Given the input file:\n",
    "1 2 23 45 67\n",
    "2 3 44 55 0\n",
    "3 3 0 0 0\n",
    "4 4 255 255 255\n",
    "The output should be:\n",
    "23 45 67\n",
    "44 55 0\n",
    "0 0 0\n",
    "255 255 255\n",
    "\"\"\"\n",
    "#Color class\n",
    "class Color:\n",
    "    def __init__(self, r,g,b):\n",
    "        \"\"\"\n",
    "        Parameters\n",
    "        ----------\n",
    "        r : int\n",
    "        g : int\n",
    "        b : int\n",
    "\n",
    "        \"\"\"\n",
    "        self.__r=r\n",
    "        self.__g=g\n",
    "        self.__b=b\n",
    "        \n",
    "    def get_r(self):\n",
    "        return self.__r\n",
    "    def get_g(self):\n",
    "        return self.__g\n",
    "    def get_b(self):\n",
    "        return self.__b\n",
    "    \n",
    "    def set_r(self,r):\n",
    "        self.__r=r\n",
    "        \n",
    "    def set_g(self,g):\n",
    "        self.__g=g\n",
    "        \n",
    "    def set_b(self,b):\n",
    "        self.__b=b\n",
    "        \n",
    "    def __str__(self):\n",
    "        return f\"({self.__r},{self.__g},{self.__b})\"\n",
    "    \n",
    "red=Color(255,0,0)\n",
    "print(red)"
   ]
  },
  {
   "cell_type": "code",
   "execution_count": 18,
   "id": "b045d120",
   "metadata": {},
   "outputs": [],
   "source": [
    "#Point class\n",
    "\n",
    "class Point:\n",
    "    def __init__(self,x,y,color):\n",
    "        self.__x=x\n",
    "        self.__y=y\n",
    "        self.__color=color\n",
    "        \n",
    "    def get_x(self):\n",
    "        return self.__x\n",
    "    \n",
    "    def set_x(self,x):\n",
    "        self.__x=x\n",
    "    \n",
    "    def get_y(self):\n",
    "        return self.__y\n",
    "    \n",
    "    def set_y(self,y):\n",
    "        self.__y=y\n",
    "        \n",
    "    def get_color(self):\n",
    "        return self.__color\n",
    "    \n",
    "    def set_color(self,color):\n",
    "        self.__color=color\n",
    "    \n",
    "    def get_coordinates(self):\n",
    "        return (self.__x,self.__y) #a function returning multiple values as a tuple\n",
    "    def __str__(self):\n",
    "        return f\"Point: (Coordinates:({self.__x},{self.__y}),Color: {self.__color})\""
   ]
  },
  {
   "cell_type": "code",
   "execution_count": 21,
   "id": "42f67b01",
   "metadata": {},
   "outputs": [
    {
     "name": "stdout",
     "output_type": "stream",
     "text": [
      "Point: (Coordinates:(1,2),Color: (23,45,67))\n",
      "Point: (Coordinates:(2,3),Color: (44,55,0))\n",
      "Point: (Coordinates:(3,3),Color: (0,0,0))\n",
      "Point: (Coordinates:(4,4),Color: (255,255,255))\n",
      "Point\tColor\n",
      "(1, 2)\t(23,45,67)\n",
      "(2, 3)\t(44,55,0)\n",
      "(3, 3)\t(0,0,0)\n",
      "(4, 4)\t(255,255,255)\n"
     ]
    }
   ],
   "source": [
    "#Read details from file and write out the colors for each point\n",
    "def main():\n",
    "    #open a file for reading\n",
    "    #with open('python-data/points.txt') as filereader:\n",
    "    with open('points.txt') as filereader:\n",
    "    \n",
    "    \n",
    "        #read all lines\n",
    "        lines=filereader.readlines()\n",
    "\n",
    "        point_data=[]\n",
    "\n",
    "        for line in lines:\n",
    "            line=line.strip('\\n') #Each line is terminated by '\\n', strip it away\n",
    "            # print(line)\n",
    "            line=[eval(x) for x in line.split(' ')] #use list comprehension to convert \n",
    "                                                    #each value from string\n",
    "            # print(line)\n",
    "            x,y,r,g,b=line #use unpacking\n",
    "            # print (b)\n",
    "            #set color attributes\n",
    "            color=Color(r,g,b)\n",
    "            #set point attributes\n",
    "            point=Point(x,y,color)\n",
    "            print (point)\n",
    "            \n",
    "            #Add point to point_data\n",
    "            point_data.append(point)\n",
    "\n",
    "        #Print out the colors\n",
    "        print(\"Point\\tColor\")\n",
    "        for point in point_data:\n",
    "            print(f\"{point.get_coordinates()}\\t{point.get_color()}\")\n",
    "\n",
    "\n",
    "if __name__==\"__main__\":\n",
    "    main()"
   ]
  },
  {
   "cell_type": "code",
   "execution_count": null,
   "id": "b65c45e3",
   "metadata": {},
   "outputs": [],
   "source": []
  }
 ],
 "metadata": {
  "kernelspec": {
   "display_name": "Python 3 (ipykernel)",
   "language": "python",
   "name": "python3"
  },
  "language_info": {
   "codemirror_mode": {
    "name": "ipython",
    "version": 3
   },
   "file_extension": ".py",
   "mimetype": "text/x-python",
   "name": "python",
   "nbconvert_exporter": "python",
   "pygments_lexer": "ipython3",
   "version": "3.11.4"
  }
 },
 "nbformat": 4,
 "nbformat_minor": 5
}
