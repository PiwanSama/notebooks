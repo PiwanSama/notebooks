{
 "cells": [
  {
   "cell_type": "code",
   "execution_count": 15,
   "id": "31dc26c5",
   "metadata": {},
   "outputs": [],
   "source": [
    "#Import the libraries to be used\n",
    "import numpy as np\n",
    "import pandas as pd\n",
    "import matplotlib.pyplot as plt\n",
    "import scipy.stats as stats\n",
    "from tabulate import tabulate"
   ]
  },
  {
   "cell_type": "markdown",
   "id": "a1cd7ab2",
   "metadata": {},
   "source": [
    "### Question One\n",
    "Daily energy intake in kJ was measured for 11 women (Altman, 1991):\n",
    "5260, 5470, 5640, 6180, 6390, 6515, 6805, 7515, 7515, 8230, 8770.\n",
    "We wish to investigate whether the women’s energy intake deviates\n",
    "systematically from a recommended value of 7725 kJ. Assuming this\n",
    "data comes from a normal distribution; use a t-test to test whether the\n",
    "distribution might have a mean of 7725 kJ. Explain whether a left-tail,\n",
    "right-tail or two-tailed test is appropriate. Give the sample mean, sample\n",
    "standard deviation, standard error of the mean (SEM), t statistic, degrees\n",
    "of freedom and p-value. Finally explain if the null hypothesis is rejected\n",
    "or not."
   ]
  },
  {
   "cell_type": "code",
   "execution_count": 16,
   "id": "c5ae0e43",
   "metadata": {},
   "outputs": [],
   "source": [
    "#Load the daily intake data into a list and convert it to a numpy array\n",
    "daily_intake = np.array([5260, 5470, 5640, 6180, 6390, 6515, 6805, 7515, 7515, 8230, 8770])\n",
    "#Get the size pf the dataset\n",
    "sample_size = np.size(daily_intake)"
   ]
  },
  {
   "cell_type": "code",
   "execution_count": 17,
   "id": "fc359132",
   "metadata": {},
   "outputs": [
    {
     "name": "stdout",
     "output_type": "stream",
     "text": [
      "Statistic                         Value\n",
      "-----------------------------  --------\n",
      "Mean                           6753.64\n",
      "Standard Deviation             1088.97\n",
      "Sample Standard error of mean   344.36\n",
      "Degrees of Freedom               10\n",
      "T-Statistic                      -2.821\n",
      "P-Value                           0.018\n"
     ]
    }
   ],
   "source": [
    "#Set the recommended mean value\n",
    "recommended_mean = 7725\n",
    "#Use the scipy ttest_1samp function to perform a one-sample t-test\n",
    "t_statistic, p_value = stats.ttest_1samp(daily_intake, recommended_mean)\n",
    "\n",
    "#Compute the mean of the daily intake data\n",
    "sample_mean = round(np.mean(daily_intake), 2)\n",
    "\n",
    "#Compute the standard deviation of the daily intake data\n",
    "sd = round(np.std(daily_intake), 2)\n",
    "\n",
    "#Compute the standard error of the daily intake data\n",
    "sem_val = np.std(daily_intake, ddof=1) / np.sqrt(np.size(daily_intake))\n",
    "sem = round(sem_val, 2)\n",
    "\n",
    "#Round off the t-statistic\n",
    "t_stat = (round(t_statistic, 3))\n",
    "\n",
    "#Round off the p-value\n",
    "p_val = (round(p_value, 3))\n",
    "\n",
    "#Compute the degrees of freedom\n",
    "df = sample_size - 1\n",
    "\n",
    "table = [[\"Mean\", sample_mean],[\"Standard Deviation\",sd],[\"Sample Standard error of mean\",sem],\n",
    "         [\"Degrees of Freedom\",df],[\"T-Statistic\",t_stat],[\"P-Value\",p_val]]\n",
    "print(tabulate(table, headers=[\"Statistic\", \"Value\"]))"
   ]
  },
  {
   "cell_type": "markdown",
   "id": "bc744a1e",
   "metadata": {},
   "source": [
    "**Setting the null and alternative hypotheses:**\n",
    "\n",
    "H0 (Null Hypothesis): μ = 7725 kJ\n",
    "\n",
    "HA (Alternative Hypothesis): μ ≠ 7725 kJ\n",
    "\n",
    "**Stating the significance level:**\n",
    "\n",
    "α = 0.05\n",
    "\n",
    "**Determining the approriate test type (left-tail, right-tail or two-tailed test)**\n",
    "\n",
    "A two-tailed test is appropriate because our alternative hypothesis is testing whether the mean of the sample data provided will not be equal to the recommended mean of 7725 kJ. The mean we compute could be less than or greater than the recommended mean\n",
    "\n",
    "**Conclusion**\n",
    "\n",
    "The p-value of the data provided is 0.018, which is less than our significance level of 0.05 therefore the null hypothesis is rejected"
   ]
  },
  {
   "cell_type": "markdown",
   "id": "52ad30df",
   "metadata": {},
   "source": [
    "### Question Two \n",
    " A Guinness Overall Enjoyment Score (GOES) was used to test if Guinness served in an Irish pub tastes significantly better than pints served elsewhere around the globe. Pints consumed in Ireland received a mean GOES score of 74, while the average GOES score for Guinness tasted elsewhere was 57. The full results were as follows:\n",
    "\n",
    "    Location Sample Size Mean Standard Deviation\n",
    "    Ireland 42 74 7.4\n",
    "    Elsewhere 61 57 7.1\n",
    "    \n",
    "Is this difference of 74 versus 57 significant, or is it simply due to natural, random variation? Use a t-test and explain whether a one-sample, two-sample or paired test is appropriate. Show the steps of calculating the t statistic and explain whether a left-tailed, right-tailed or two-tailed test is required. Give the resulting p-value."
   ]
  },
  {
   "cell_type": "markdown",
   "id": "8a74e458",
   "metadata": {},
   "source": [
    "**Calulating the degree of freedom**"
   ]
  },
  {
   "cell_type": "code",
   "execution_count": 18,
   "id": "84c221c5",
   "metadata": {},
   "outputs": [],
   "source": [
    "#Calculating the degree of freedom using the formula df = n1 + n2 – 2.\n",
    "df_guiness = 42 + 61 - 2"
   ]
  },
  {
   "cell_type": "markdown",
   "id": "01dae433",
   "metadata": {},
   "source": [
    "**Calculating the degree of freedom and t-statistic**"
   ]
  },
  {
   "cell_type": "code",
   "execution_count": 140,
   "id": "5531a308",
   "metadata": {},
   "outputs": [
    {
     "name": "stdout",
     "output_type": "stream",
     "text": [
      "Statistic                   Value\n",
      "------------------  -------------\n",
      "Degrees of Freedom  101\n",
      "T-Statistic          11.7378\n",
      "P-Value               1.39595e-20\n"
     ]
    }
   ],
   "source": [
    "#Calculating the t-value using the scipy ttest_ind_from_stats() function\n",
    "guinness_t_statistic, guinness_p_value = stats.ttest_ind_from_stats(mean1 = 74, std1 = 7.4, nobs1 = 42, \n",
    "                                                                    mean2 = 57, std2 = 7.1, nobs2 = 61)\n",
    "\n",
    "#Print the result\n",
    "g_table = [[\"Degrees of Freedom\",df_guiness],[\"T-Statistic\",guinness_t_statistic],[\"P-Value\",guinness_p_value]]\n",
    "print(tabulate(g_table, headers=[\"Statistic\", \"Value\"]))"
   ]
  },
  {
   "cell_type": "markdown",
   "id": "5008c75e",
   "metadata": {},
   "source": [
    "**Setting the null and alternative hypotheses:**\n",
    "\n",
    "H0 (Null Hypothesis): μ = 74\n",
    "\n",
    "HA (Alternative Hypothesis): μ < 74\n",
    "\n",
    "**Stating the significance level:**\n",
    "\n",
    "α = 0.05\n",
    "\n",
    "**Determining the approriate test type (one-sample, two-sample or paired test)**\n",
    "\n",
    "A two-sample test is appropriate because we will be comparing two datasets randomly sampled from two normal populations, i.e.,  if Guinness served in an Irish pub tastes significantly better than pints served elsewhere around the globe  \n",
    "\n",
    "**Determining the approriate test type (left-tail, right-tail or two-tailed test)**\n",
    "\n",
    "A two-tailed test is appropriate because our alternative hypothesis is testing whether the mean GOES score from anywhere else in the globe will not be equal to that of the GOES score in Ireland. The GOES score from anywhere else could be less than or greater than the Ireland GOES score of 74\n",
    "\n",
    "**Conclusion**"
   ]
  },
  {
   "cell_type": "markdown",
   "id": "a5daad26",
   "metadata": {},
   "source": [
    "### Question Three"
   ]
  },
  {
   "cell_type": "markdown",
   "id": "905e12e4",
   "metadata": {},
   "source": [
    "Use data from the World Bank Indicators for 2013 to study the relationship between Fertility rate, total (births per woman) versus GDP per capita PPP (current international $). Make a carefully labelled graph with one dot per country. Estimate the correlation coefficient and give your interpretation."
   ]
  },
  {
   "cell_type": "code",
   "execution_count": 20,
   "id": "021a80d2",
   "metadata": {},
   "outputs": [],
   "source": [
    "#Load the Fertlity Rate and GDP per Capita data from the dowloaded files\n",
    "fertility_data = pd.read_csv('Fertility_Rate_Data.csv', skiprows=4)\n",
    "gdp_data = pd.read_csv('GDP_Per_Capita_PPP.csv', skiprows = 4)"
   ]
  },
  {
   "cell_type": "code",
   "execution_count": 21,
   "id": "47488ff1",
   "metadata": {},
   "outputs": [],
   "source": [
    "#Load the fertility rate data from 2013 into a separate new dataframe\n",
    "fertility_data_filtered = fertility_data[[\"2013\"]]\n",
    "#Load the GDP per Capita data from 2013 into a separate new dataframe\n",
    "gdp_data_filtered = gdp_data[[\"2013\"]]"
   ]
  },
  {
   "cell_type": "code",
   "execution_count": 22,
   "id": "bfacd240",
   "metadata": {},
   "outputs": [
    {
     "data": {
      "image/png": "[encoded data removed]",
      "text/plain": [
       "<Figure size 1000x600 with 1 Axes>"
      ]
     },
     "metadata": {},
     "output_type": "display_data"
    }
   ],
   "source": [
    "#Plot a scatterplot of Fertility rate versus GDP per capita for all countries in 2010\n",
    "plt.figure(figsize = (10,6))\n",
    "plt.title(\"Fertility rate versus GDP per capita for all countries in 2013\")\n",
    "plt.xlabel(\"GPD Per Capita\")\n",
    "plt.ylabel(\"Fertility Rate\")\n",
    "plt.scatter(gdp_data_filtered['2013'], fertility_data_filtered['2013'], marker = \".\")\n",
    "plt.show()"
   ]
  },
  {
   "cell_type": "code",
   "execution_count": 23,
   "id": "bd1abfc8",
   "metadata": {},
   "outputs": [
    {
     "name": "stdout",
     "output_type": "stream",
     "text": [
      "Correlation co-effecient : -0.5150224579151862\n"
     ]
    }
   ],
   "source": [
    "#Calculate the correlation coefficient between the two datasets\n",
    "\n",
    "coefficient = fertility_data['2013'].corr(gdp_data['2013'])\n",
    "print(f\"Correlation co-effecient : {coefficient}\")"
   ]
  },
  {
   "cell_type": "markdown",
   "id": "9a47525b",
   "metadata": {},
   "source": [
    "#### Question Four"
   ]
  },
  {
   "cell_type": "markdown",
   "id": "3ba0ba66",
   "metadata": {},
   "source": [
    "Load in monthly average house price data in pounds sterling (£) from Jan 1991 to Dec 2016. Download the data from here (choose the file UK monthly indices (Post ‘91)). Graph the time series and label it carefully. Construct the autocorrelation function (ACF) of the monthly returns defined as r(t) = [p(t)/p(t-1)]-1 and show the values for lags of one up to 20 using a bar-graph. Indicate the values of the ACF using horizontal lines that would correspond to a statistically significant result at p<0.05.\n",
    "From the ACF of monthly data is there evidence of seasonality? Is there a trend in the time series? What is the annualized return over this period as a percentage?"
   ]
  },
  {
   "cell_type": "code",
   "execution_count": 24,
   "id": "d9141f14",
   "metadata": {},
   "outputs": [],
   "source": [
    "#Load the housing price data data and metadata from the dowloaded files\n",
    "house_price_data = pd.read_excel('Monthly Average House Price.xls')\n",
    "house_prices = house_price_data.rename(columns={\"Unnamed: 0\":\"Date\"})"
   ]
  },
  {
   "cell_type": "code",
   "execution_count": 25,
   "id": "3f416a32",
   "metadata": {},
   "outputs": [],
   "source": [
    "#Set the Date column as the index\n",
    "house_prices = house_prices.set_index('Date')"
   ]
  },
  {
   "cell_type": "code",
   "execution_count": 26,
   "id": "14203790",
   "metadata": {},
   "outputs": [],
   "source": [
    "#Select the data from Jan 1991 to Dec 2016\n",
    "mask = (house_prices.index>='1991-01-01') & (house_prices.index<='2016-12-31')\n",
    "house_prices_filtered = house_prices.loc[mask]"
   ]
  },
  {
   "cell_type": "code",
   "execution_count": 27,
   "id": "8b4edf4f",
   "metadata": {},
   "outputs": [
    {
     "data": {
      "image/png": "[encoded data removed]",
      "text/plain": [
       "<Figure size 1000x600 with 1 Axes>"
      ]
     },
     "metadata": {},
     "output_type": "display_data"
    }
   ],
   "source": [
    "#Plot a time-series of the UK monthly indices (Post ‘91)\n",
    "plt.figure(figsize = (10,6))\n",
    "plt.title(\"UK Average House Price (Post ‘91)\")\n",
    "plt.xlabel(\"Date\")\n",
    "plt.ylabel(\"Index Value\")\n",
    "plt.plot(house_prices_filtered.index, house_prices_filtered[\"Average House Price\"], label=\"Average House Price\")\n",
    "plt.legend(loc='upper left')\n",
    "plt.show()"
   ]
  },
  {
   "cell_type": "code",
   "execution_count": 28,
   "id": "6e0848b5",
   "metadata": {},
   "outputs": [],
   "source": [
    "#Calculate the monthly returns on Average House Price defined as r(t) = [p(t)/p(t-1)]-1\n",
    "house_prices_returns = house_prices_filtered.copy()\n",
    "house_prices_returns[\"Returns\"] = (house_prices_filtered[\"Average House Price\"] / house_prices_filtered[\"Average House Price\"].shift(1)) -1"
   ]
  },
  {
   "cell_type": "code",
   "execution_count": 49,
   "id": "75c94a43",
   "metadata": {
    "scrolled": false
   },
   "outputs": [],
   "source": [
    "#Create a list to hold the ACF data from lag values 1 to 20\n",
    "acf_data = []\n",
    "#Constructing the autocorrelation function (ACF) of the monthly returns\n",
    "for i in range(1, 21):\n",
    "    acf = round(house_prices_returns[\"Returns\"].autocorr(lag=i), 3)\n",
    "    acf_data.append(acf)"
   ]
  },
  {
   "cell_type": "code",
   "execution_count": 157,
   "id": "9557883a",
   "metadata": {},
   "outputs": [],
   "source": [
    "#Find the values of the ACF at p<0.05 by using horizontal lines using the confidence interval formula  ±1.96 / sqrt(n)\n",
    "\n",
    "#Find the confidence interval\n",
    "interval = 1.96 / np.sqrt(np.size(house_prices_returns[\"Returns\"]))"
   ]
  },
  {
   "cell_type": "code",
   "execution_count": 158,
   "id": "cf6474cc",
   "metadata": {},
   "outputs": [
    {
     "data": {
      "image/png": "[encoded data removed]",
      "text/plain": [
       "<Figure size 1000x600 with 1 Axes>"
      ]
     },
     "metadata": {},
     "output_type": "display_data"
    }
   ],
   "source": [
    "#Plot the bar graph\n",
    "plt.figure(figsize = (10,6))\n",
    "plt.title(\"Bar Graph of monthly returns for lags of 1 to 20\")\n",
    "plt.xlabel(\"Lag Value\")\n",
    "plt.ylabel(\"Autocorrelation of Returns\")\n",
    "plt.bar(range(1, 21), acf_data,width = 0.4)\n",
    "plt.axhline(interval, color = 'g', linestyle=\"--\", linewidth = 0.8)\n",
    "plt.axhline(np.negative(interval), color = 'g', linestyle=\"--\", linewidth = 0.8)\n",
    "plt.show()"
   ]
  },
  {
   "cell_type": "markdown",
   "id": "e5885324",
   "metadata": {},
   "source": [
    "#### Question Five"
   ]
  },
  {
   "cell_type": "markdown",
   "id": "16ea425a",
   "metadata": {},
   "source": [
    "Load in the FTSE100 index from here (ticker = ^FTSE) over the same period (01-Jan-1991 to 31-Dec-2016). Plot the cumulative returns from the House market (using the price data from question 4) and the FTSE100 index on the same graph with the time series normalized such that each starts at 100 in Jan-1991. What is the average annualized return from the FTSE100? Would it have been better to invest in a UK house or the UK stock market over this period?"
   ]
  },
  {
   "cell_type": "code",
   "execution_count": 93,
   "id": "4037c91d",
   "metadata": {},
   "outputs": [],
   "source": [
    "#Load the FTSE100 index from the dowloaded files\n",
    "ftse = pd.read_csv('FTSE100.csv', index_col = 0)"
   ]
  },
  {
   "cell_type": "code",
   "execution_count": 94,
   "id": "42f43464",
   "metadata": {},
   "outputs": [
    {
     "data": {
      "text/html": [
       "<div>\n",
       "<style scoped>\n",
       "    .dataframe tbody tr th:only-of-type {\n",
       "        vertical-align: middle;\n",
       "    }\n",
       "\n",
       "    .dataframe tbody tr th {\n",
       "        vertical-align: top;\n",
       "    }\n",
       "\n",
       "    .dataframe thead th {\n",
       "        text-align: right;\n",
       "    }\n",
       "</style>\n",
       "<table border=\"1\" class=\"dataframe\">\n",
       "  <thead>\n",
       "    <tr style=\"text-align: right;\">\n",
       "      <th></th>\n",
       "      <th>Open</th>\n",
       "      <th>High</th>\n",
       "      <th>Low</th>\n",
       "      <th>Close</th>\n",
       "      <th>Volume</th>\n",
       "      <th>Adj Close</th>\n",
       "      <th>Returns</th>\n",
       "    </tr>\n",
       "    <tr>\n",
       "      <th>Date</th>\n",
       "      <th></th>\n",
       "      <th></th>\n",
       "      <th></th>\n",
       "      <th></th>\n",
       "      <th></th>\n",
       "      <th></th>\n",
       "      <th></th>\n",
       "    </tr>\n",
       "  </thead>\n",
       "  <tbody>\n",
       "    <tr>\n",
       "      <th>12/1/2016</th>\n",
       "      <td>6783.79</td>\n",
       "      <td>6789.30</td>\n",
       "      <td>6688.41</td>\n",
       "      <td>6752.93</td>\n",
       "      <td>966722048</td>\n",
       "      <td>6752.93</td>\n",
       "      <td>NaN</td>\n",
       "    </tr>\n",
       "    <tr>\n",
       "      <th>11/1/2016</th>\n",
       "      <td>6954.22</td>\n",
       "      <td>6993.79</td>\n",
       "      <td>6903.61</td>\n",
       "      <td>6917.14</td>\n",
       "      <td>780871680</td>\n",
       "      <td>6917.14</td>\n",
       "      <td>0.024317</td>\n",
       "    </tr>\n",
       "    <tr>\n",
       "      <th>10/3/2016</th>\n",
       "      <td>6899.33</td>\n",
       "      <td>6996.43</td>\n",
       "      <td>6898.09</td>\n",
       "      <td>6983.52</td>\n",
       "      <td>745408640</td>\n",
       "      <td>6983.52</td>\n",
       "      <td>0.009596</td>\n",
       "    </tr>\n",
       "    <tr>\n",
       "      <th>9/1/2016</th>\n",
       "      <td>6781.51</td>\n",
       "      <td>6826.22</td>\n",
       "      <td>6723.21</td>\n",
       "      <td>6745.97</td>\n",
       "      <td>991756480</td>\n",
       "      <td>6745.97</td>\n",
       "      <td>-0.034016</td>\n",
       "    </tr>\n",
       "    <tr>\n",
       "      <th>8/1/2016</th>\n",
       "      <td>6724.43</td>\n",
       "      <td>6769.41</td>\n",
       "      <td>6678.45</td>\n",
       "      <td>6693.95</td>\n",
       "      <td>727709696</td>\n",
       "      <td>6693.95</td>\n",
       "      <td>-0.007711</td>\n",
       "    </tr>\n",
       "  </tbody>\n",
       "</table>\n",
       "</div>"
      ],
      "text/plain": [
       "              Open     High      Low    Close     Volume  Adj Close   Returns\n",
       "Date                                                                         \n",
       "12/1/2016  6783.79  6789.30  6688.41  6752.93  966722048    6752.93       NaN\n",
       "11/1/2016  6954.22  6993.79  6903.61  6917.14  780871680    6917.14  0.024317\n",
       "10/3/2016  6899.33  6996.43  6898.09  6983.52  745408640    6983.52  0.009596\n",
       "9/1/2016   6781.51  6826.22  6723.21  6745.97  991756480    6745.97 -0.034016\n",
       "8/1/2016   6724.43  6769.41  6678.45  6693.95  727709696    6693.95 -0.007711"
      ]
     },
     "execution_count": 94,
     "metadata": {},
     "output_type": "execute_result"
    }
   ],
   "source": [
    "#Calculate the returns on the dataset\n",
    "ftse_returns = ftse.copy()\n",
    "ftse_returns[\"Returns\"] = (ftse_returns[\"Adj Close\"] / ftse_returns[\"Adj Close\"].shift(1)) -1\n",
    "ftse_returns.head()"
   ]
  },
  {
   "cell_type": "code",
   "execution_count": 97,
   "id": "8416651e",
   "metadata": {},
   "outputs": [],
   "source": [
    "#Find the cummulutive sum of the FTSE data\n",
    "ftse_returns[\"Cummulative Returns\"] = ftse_returns[\"Returns\"].cumsum()\n",
    "#Find the cummulutive sum of the house price data\n",
    "house_prices_returns[\"Cummulative Returns\"] = house_prices_returns[\"Returns\"].cumsum()"
   ]
  },
  {
   "cell_type": "code",
   "execution_count": 98,
   "id": "de51191c",
   "metadata": {},
   "outputs": [],
   "source": [
    "#Define a function to normalize the returns to start at 100\n",
    "def normalize_row(x, index):\n",
    "    return (x/index) * 100"
   ]
  },
  {
   "cell_type": "code",
   "execution_count": 133,
   "id": "ce7db1d3",
   "metadata": {},
   "outputs": [],
   "source": [
    "ftse_returns_index = ftse_returns.iloc[1][\"Cummulative Returns\"]\n",
    "house_returns_index = house_prices_returns.iloc[1][\"Cummulative Returns\"]"
   ]
  },
  {
   "cell_type": "code",
   "execution_count": 134,
   "id": "e5aa1a56",
   "metadata": {},
   "outputs": [],
   "source": [
    "ftse_returns[\"Normalized Returns\"] = ftse_returns[\"Cummulative Returns\"].apply(normalize_row, args = (ftse_returns_index,))"
   ]
  },
  {
   "cell_type": "code",
   "execution_count": 135,
   "id": "c4da812e",
   "metadata": {},
   "outputs": [
    {
     "data": {
      "text/html": [
       "<div>\n",
       "<style scoped>\n",
       "    .dataframe tbody tr th:only-of-type {\n",
       "        vertical-align: middle;\n",
       "    }\n",
       "\n",
       "    .dataframe tbody tr th {\n",
       "        vertical-align: top;\n",
       "    }\n",
       "\n",
       "    .dataframe thead th {\n",
       "        text-align: right;\n",
       "    }\n",
       "</style>\n",
       "<table border=\"1\" class=\"dataframe\">\n",
       "  <thead>\n",
       "    <tr style=\"text-align: right;\">\n",
       "      <th></th>\n",
       "      <th>Open</th>\n",
       "      <th>High</th>\n",
       "      <th>Low</th>\n",
       "      <th>Close</th>\n",
       "      <th>Volume</th>\n",
       "      <th>Adj Close</th>\n",
       "      <th>Returns</th>\n",
       "      <th>Cummulative Returns</th>\n",
       "      <th>Normalized Returns</th>\n",
       "    </tr>\n",
       "    <tr>\n",
       "      <th>Date</th>\n",
       "      <th></th>\n",
       "      <th></th>\n",
       "      <th></th>\n",
       "      <th></th>\n",
       "      <th></th>\n",
       "      <th></th>\n",
       "      <th></th>\n",
       "      <th></th>\n",
       "      <th></th>\n",
       "    </tr>\n",
       "  </thead>\n",
       "  <tbody>\n",
       "    <tr>\n",
       "      <th>12/1/2016</th>\n",
       "      <td>6783.790000</td>\n",
       "      <td>6789.300000</td>\n",
       "      <td>6688.410000</td>\n",
       "      <td>6752.930000</td>\n",
       "      <td>966722048</td>\n",
       "      <td>6752.930000</td>\n",
       "      <td>NaN</td>\n",
       "      <td>NaN</td>\n",
       "      <td>NaN</td>\n",
       "    </tr>\n",
       "    <tr>\n",
       "      <th>11/1/2016</th>\n",
       "      <td>6954.220000</td>\n",
       "      <td>6993.790000</td>\n",
       "      <td>6903.610000</td>\n",
       "      <td>6917.140000</td>\n",
       "      <td>780871680</td>\n",
       "      <td>6917.140000</td>\n",
       "      <td>0.024317</td>\n",
       "      <td>0.024317</td>\n",
       "      <td>100.000000</td>\n",
       "    </tr>\n",
       "    <tr>\n",
       "      <th>10/3/2016</th>\n",
       "      <td>6899.330000</td>\n",
       "      <td>6996.430000</td>\n",
       "      <td>6898.090000</td>\n",
       "      <td>6983.520000</td>\n",
       "      <td>745408640</td>\n",
       "      <td>6983.520000</td>\n",
       "      <td>0.009596</td>\n",
       "      <td>0.033913</td>\n",
       "      <td>139.464202</td>\n",
       "    </tr>\n",
       "    <tr>\n",
       "      <th>9/1/2016</th>\n",
       "      <td>6781.510000</td>\n",
       "      <td>6826.220000</td>\n",
       "      <td>6723.210000</td>\n",
       "      <td>6745.970000</td>\n",
       "      <td>991756480</td>\n",
       "      <td>6745.970000</td>\n",
       "      <td>-0.034016</td>\n",
       "      <td>-0.000102</td>\n",
       "      <td>-0.421491</td>\n",
       "    </tr>\n",
       "    <tr>\n",
       "      <th>8/1/2016</th>\n",
       "      <td>6724.430000</td>\n",
       "      <td>6769.410000</td>\n",
       "      <td>6678.450000</td>\n",
       "      <td>6693.950000</td>\n",
       "      <td>727709696</td>\n",
       "      <td>6693.950000</td>\n",
       "      <td>-0.007711</td>\n",
       "      <td>-0.007814</td>\n",
       "      <td>-32.133123</td>\n",
       "    </tr>\n",
       "    <tr>\n",
       "      <th>...</th>\n",
       "      <td>...</td>\n",
       "      <td>...</td>\n",
       "      <td>...</td>\n",
       "      <td>...</td>\n",
       "      <td>...</td>\n",
       "      <td>...</td>\n",
       "      <td>...</td>\n",
       "      <td>...</td>\n",
       "      <td>...</td>\n",
       "    </tr>\n",
       "    <tr>\n",
       "      <th>5/1/1991</th>\n",
       "      <td>2487.399902</td>\n",
       "      <td>2554.899902</td>\n",
       "      <td>2444.600098</td>\n",
       "      <td>2499.500000</td>\n",
       "      <td>0</td>\n",
       "      <td>2499.500000</td>\n",
       "      <td>0.035075</td>\n",
       "      <td>-0.744159</td>\n",
       "      <td>-3060.262284</td>\n",
       "    </tr>\n",
       "    <tr>\n",
       "      <th>4/1/1991</th>\n",
       "      <td>2456.500000</td>\n",
       "      <td>2555.300049</td>\n",
       "      <td>2438.600098</td>\n",
       "      <td>2486.199951</td>\n",
       "      <td>0</td>\n",
       "      <td>2486.199951</td>\n",
       "      <td>-0.005321</td>\n",
       "      <td>-0.749481</td>\n",
       "      <td>-3082.144573</td>\n",
       "    </tr>\n",
       "    <tr>\n",
       "      <th>3/1/1991</th>\n",
       "      <td>2374.899902</td>\n",
       "      <td>2527.100098</td>\n",
       "      <td>2368.399902</td>\n",
       "      <td>2456.500000</td>\n",
       "      <td>0</td>\n",
       "      <td>2456.500000</td>\n",
       "      <td>-0.011946</td>\n",
       "      <td>-0.761426</td>\n",
       "      <td>-3131.270678</td>\n",
       "    </tr>\n",
       "    <tr>\n",
       "      <th>2/1/1991</th>\n",
       "      <td>2168.500000</td>\n",
       "      <td>2388.399902</td>\n",
       "      <td>2155.600098</td>\n",
       "      <td>2380.899902</td>\n",
       "      <td>0</td>\n",
       "      <td>2380.899902</td>\n",
       "      <td>-0.030776</td>\n",
       "      <td>-0.792202</td>\n",
       "      <td>-3257.831194</td>\n",
       "    </tr>\n",
       "    <tr>\n",
       "      <th>1/1/1991</th>\n",
       "      <td>2143.500000</td>\n",
       "      <td>2182.100098</td>\n",
       "      <td>2052.300049</td>\n",
       "      <td>2170.300049</td>\n",
       "      <td>0</td>\n",
       "      <td>2170.300049</td>\n",
       "      <td>-0.088454</td>\n",
       "      <td>-0.880656</td>\n",
       "      <td>-3621.586698</td>\n",
       "    </tr>\n",
       "  </tbody>\n",
       "</table>\n",
       "<p>312 rows × 9 columns</p>\n",
       "</div>"
      ],
      "text/plain": [
       "                  Open         High          Low        Close     Volume  \\\n",
       "Date                                                                       \n",
       "12/1/2016  6783.790000  6789.300000  6688.410000  6752.930000  966722048   \n",
       "11/1/2016  6954.220000  6993.790000  6903.610000  6917.140000  780871680   \n",
       "10/3/2016  6899.330000  6996.430000  6898.090000  6983.520000  745408640   \n",
       "9/1/2016   6781.510000  6826.220000  6723.210000  6745.970000  991756480   \n",
       "8/1/2016   6724.430000  6769.410000  6678.450000  6693.950000  727709696   \n",
       "...                ...          ...          ...          ...        ...   \n",
       "5/1/1991   2487.399902  2554.899902  2444.600098  2499.500000          0   \n",
       "4/1/1991   2456.500000  2555.300049  2438.600098  2486.199951          0   \n",
       "3/1/1991   2374.899902  2527.100098  2368.399902  2456.500000          0   \n",
       "2/1/1991   2168.500000  2388.399902  2155.600098  2380.899902          0   \n",
       "1/1/1991   2143.500000  2182.100098  2052.300049  2170.300049          0   \n",
       "\n",
       "             Adj Close   Returns  Cummulative Returns  Normalized Returns  \n",
       "Date                                                                       \n",
       "12/1/2016  6752.930000       NaN                  NaN                 NaN  \n",
       "11/1/2016  6917.140000  0.024317             0.024317          100.000000  \n",
       "10/3/2016  6983.520000  0.009596             0.033913          139.464202  \n",
       "9/1/2016   6745.970000 -0.034016            -0.000102           -0.421491  \n",
       "8/1/2016   6693.950000 -0.007711            -0.007814          -32.133123  \n",
       "...                ...       ...                  ...                 ...  \n",
       "5/1/1991   2499.500000  0.035075            -0.744159        -3060.262284  \n",
       "4/1/1991   2486.199951 -0.005321            -0.749481        -3082.144573  \n",
       "3/1/1991   2456.500000 -0.011946            -0.761426        -3131.270678  \n",
       "2/1/1991   2380.899902 -0.030776            -0.792202        -3257.831194  \n",
       "1/1/1991   2170.300049 -0.088454            -0.880656        -3621.586698  \n",
       "\n",
       "[312 rows x 9 columns]"
      ]
     },
     "execution_count": 135,
     "metadata": {},
     "output_type": "execute_result"
    }
   ],
   "source": [
    "ftse_returns"
   ]
  }
 ],
 "metadata": {
  "kernelspec": {
   "display_name": "Python 3 (ipykernel)",
   "language": "python",
   "name": "python3"
  },
  "language_info": {
   "codemirror_mode": {
    "name": "ipython",
    "version": 3
   },
   "file_extension": ".py",
   "mimetype": "text/x-python",
   "name": "python",
   "nbconvert_exporter": "python",
   "pygments_lexer": "ipython3",
   "version": "3.11.4"
  }
 },
 "nbformat": 4,
 "nbformat_minor": 5
}
