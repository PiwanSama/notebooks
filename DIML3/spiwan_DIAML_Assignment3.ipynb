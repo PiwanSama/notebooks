{
 "cells": [
  {
   "cell_type": "code",
   "execution_count": 58,
   "id": "31dc26c5",
   "metadata": {},
   "outputs": [],
   "source": [
    "#Import the libraries to be used\n",
    "import numpy as np\n",
    "import scipy.stats as stats\n",
    "from tabulate import tabulate"
   ]
  },
  {
   "cell_type": "markdown",
   "id": "a1cd7ab2",
   "metadata": {},
   "source": [
    "### Question One\n",
    "Daily energy intake in kJ was measured for 11 women (Altman, 1991):\n",
    "5260, 5470, 5640, 6180, 6390, 6515, 6805, 7515, 7515, 8230, 8770.\n",
    "We wish to investigate whether the women’s energy intake deviates\n",
    "systematically from a recommended value of 7725 kJ. Assuming this\n",
    "data comes from a normal distribution; use a t-test to test whether the\n",
    "distribution might have a mean of 7725 kJ. Explain whether a left-tail,\n",
    "right-tail or two-tailed test is appropriate. Give the sample mean, sample\n",
    "standard deviation, standard error of the mean (SEM), t statistic, degrees\n",
    "of freedom and p-value. Finally explain if the null hypothesis is rejected\n",
    "or not."
   ]
  },
  {
   "cell_type": "code",
   "execution_count": 66,
   "id": "c5ae0e43",
   "metadata": {},
   "outputs": [],
   "source": [
    "#Load the daily intake data into a list and convert it to a numpy array\n",
    "daily_intake = np.array([5260, 5470, 5640, 6180, 6390, 6515, 6805, 7515, 7515, 8230, 8770])\n",
    "#Get the size pf the dataset\n",
    "sample_size = np.size(daily_intake)"
   ]
  },
  {
   "cell_type": "code",
   "execution_count": 73,
   "id": "b50b4d6d",
   "metadata": {},
   "outputs": [
    {
     "name": "stdout",
     "output_type": "stream",
     "text": [
      "Statistic                        Value\n",
      "-----------------------------  -------\n",
      "Mean                           6753.64\n",
      "Standard Deviation             1088.97\n",
      "Sample Standard error of mean   344.36\n",
      "T-Statistic                      -2.82\n",
      "Degrees of Freedom               10\n",
      "P-Value                           0.02\n"
     ]
    }
   ],
   "source": [
    "#Set the recommended mean value\n",
    "recommended_mean = 7725\n",
    "#Use the scipy ttest_1samp function to perform a one-sample t-test\n",
    "t_statistic, p_value = stats.ttest_1samp(daily_intake, recommended_mean)\n",
    "\n",
    "#Compute the mean of the daily intake data\n",
    "sample_mean = round(np.mean(daily_intake), 2)\n",
    "\n",
    "#Compute the standard deviation of the daily intake data\n",
    "sd = round(np.std(daily_intake), 2)\n",
    "\n",
    "#Compute the standard error of the daily intake data\n",
    "sem_val = np.std(daily_intake, ddof=1) / np.sqrt(np.size(daily_intake))\n",
    "sem = round(sem, 2)\n",
    "\n",
    "#Round off the t-statistic\n",
    "t_stat = (round(t_statistic, 2))\n",
    "\n",
    "#Round off the p-value\n",
    "p_val = (round(p_value, 2))\n",
    "\n",
    "#Compute the degrees of freedom\n",
    "df = sample_size - 1\n",
    "\n",
    "table = [[\"Mean\", sample_mean],[\"Standard Deviation\",sd],[\"Sample Standard error of mean\",sem],[\"T-Statistic\",t_stat],\n",
    "         [\"Degrees of Freedom\",df],[\"P-Value\",p_val]]\n",
    "print(tabulate(table, headers=[\"Statistic\", \"Value\"]))"
   ]
  },
  {
   "cell_type": "markdown",
   "id": "8b161a1b",
   "metadata": {},
   "source": [
    "**Setting the null and alternative hypotheses:**\n",
    "\n",
    "H0 (Null Hypothesis): μ = 7725 kJ\n",
    "\n",
    "HA (Alternative Hypothesis): μ ≠ 7725 kJ\n",
    "\n",
    "**Stating the significance level:**\n",
    "\n",
    "α = 0.05\n",
    "\n",
    "**Determining the approriate test type**\n",
    "\n",
    "A two-tailed test is appropriate because our alternative hypothesis is testing for a value that is not equal to the test statistic\n",
    "\n",
    "**Conclusion**\n",
    "\n",
    "The mean of data provided is 6753.64 kJ, which is significantly greater than the sample mean value of 7725 kJ. Therefore the null hypothesis is rejected because μ ≠ 7725 kJ \n",
    "\n",
    "**Or**\n",
    "\n",
    "According to the t-Distribution table, the t critical value at α = 0.05 and n-1 = 10 degrees of freedom is 1.812. This is not less than our t-statistic value of -2.82. In addition, the p-value of the data provided is 0.02, which is less than our significance level of 0.05 therefore the null hypothesis is rejected"
   ]
  },
  {
   "cell_type": "markdown",
   "id": "5e71ed4f",
   "metadata": {},
   "source": [
    "### Question Two \n",
    " A Guinness Overall Enjoyment Score (GOES) was used to test if Guinness served in an Irish pub tastes significantly better than pints served elsewhere around the globe. Pints consumed in Ireland received a mean GOES score of 74, while the average GOES score for Guinness tasted elsewhere was 57. The full results were as follows:\n",
    "\n",
    "    Location Sample Size Mean Standard Deviation\n",
    "    Ireland 42 74 7.4\n",
    "    Elsewhere 61 57 7.1\n",
    "    \n",
    "Is this difference of 74 versus 57 significant, or is it simply due to natural, random variation? Use a t-test and explain whether a one-sample, two-sample or paired test is appropriate. Show the steps of calculating the t statistic and explain whether a left-tailed, right-tailed or two-tailed test is required. Give the resulting p-value."
   ]
  },
  {
   "cell_type": "markdown",
   "id": "c6b055cb",
   "metadata": {},
   "source": [
    "**Setting the null and alternative hypotheses:**\n",
    "\n",
    "H0 (Null Hypothesis): μ = 7725 kJ\n",
    "\n",
    "HA (Alternative Hypothesis): μ ≠ 7725 kJ\n",
    "\n",
    "**Stating the significance level:**\n",
    "\n",
    "α = 0.05\n",
    "\n",
    "**Determining the approriate test type**\n",
    "\n",
    "A two-tailed test is appropriate because our alternative hypothesis is testing for a value that is not equal to the test statistic\n",
    "\n",
    "**Conclusion**\n",
    "\n",
    "The mean of data provided is 6753.64 kJ, which is significantly greater than the sample mean value of 7725 kJ. Therefore the null hypothesis is rejected because μ ≠ 7725 kJ \n",
    "\n",
    "**Or**\n",
    "\n",
    "According to the t-Distribution table, the t critical value at α = 0.05 and n-1 = 10 degrees of freedom is 1.812. This is not less than our t-statistic value of -2.82. In addition, the p-value of the data provided is 0.02, which is less than our significance level of 0.05 therefore the null hypothesis is rejected"
   ]
  },
  {
   "cell_type": "code",
   "execution_count": null,
   "id": "007212ca",
   "metadata": {},
   "outputs": [],
   "source": []
  }
 ],
 "metadata": {
  "kernelspec": {
   "display_name": "Python 3 (ipykernel)",
   "language": "python",
   "name": "python3"
  },
  "language_info": {
   "codemirror_mode": {
    "name": "ipython",
    "version": 3
   },
   "file_extension": ".py",
   "mimetype": "text/x-python",
   "name": "python",
   "nbconvert_exporter": "python",
   "pygments_lexer": "ipython3",
   "version": "3.11.4"
  }
 },
 "nbformat": 4,
 "nbformat_minor": 5
}
