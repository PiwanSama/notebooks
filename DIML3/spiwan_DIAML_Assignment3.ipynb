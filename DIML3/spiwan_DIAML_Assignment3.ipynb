{
 "cells": [
  {
   "cell_type": "code",
   "execution_count": 1,
   "id": "31dc26c5",
   "metadata": {},
   "outputs": [],
   "source": [
    "#Import the libraries to be used\n",
    "import numpy as np\n",
    "import pandas as pd\n",
    "import matplotlib.pyplot as plt\n",
    "import scipy.stats as stats\n",
    "from tabulate import tabulate"
   ]
  },
  {
   "cell_type": "markdown",
   "id": "a1cd7ab2",
   "metadata": {},
   "source": [
    "### Question One\n",
    "Daily energy intake in kJ was measured for 11 women (Altman, 1991):\n",
    "5260, 5470, 5640, 6180, 6390, 6515, 6805, 7515, 7515, 8230, 8770.\n",
    "We wish to investigate whether the women’s energy intake deviates\n",
    "systematically from a recommended value of 7725 kJ. Assuming this\n",
    "data comes from a normal distribution; use a t-test to test whether the\n",
    "distribution might have a mean of 7725 kJ. Explain whether a left-tail,\n",
    "right-tail or two-tailed test is appropriate. Give the sample mean, sample\n",
    "standard deviation, standard error of the mean (SEM), t statistic, degrees\n",
    "of freedom and p-value. Finally explain if the null hypothesis is rejected\n",
    "or not."
   ]
  },
  {
   "cell_type": "code",
   "execution_count": 2,
   "id": "c5ae0e43",
   "metadata": {},
   "outputs": [],
   "source": [
    "#Load the daily intake data into a list and convert it to a numpy array\n",
    "daily_intake = np.array([5260, 5470, 5640, 6180, 6390, 6515, 6805, 7515, 7515, 8230, 8770])\n",
    "#Get the size pf the dataset\n",
    "sample_size = np.size(daily_intake)"
   ]
  },
  {
   "cell_type": "code",
   "execution_count": 3,
   "id": "fc359132",
   "metadata": {},
   "outputs": [
    {
     "ename": "NameError",
     "evalue": "name 'sem' is not defined",
     "output_type": "error",
     "traceback": [
      "\u001b[1;31m---------------------------------------------------------------------------\u001b[0m",
      "\u001b[1;31mNameError\u001b[0m                                 Traceback (most recent call last)",
      "Cell \u001b[1;32mIn[3], line 14\u001b[0m\n\u001b[0;32m     12\u001b[0m \u001b[38;5;66;03m#Compute the standard error of the daily intake data\u001b[39;00m\n\u001b[0;32m     13\u001b[0m sem_val \u001b[38;5;241m=\u001b[39m np\u001b[38;5;241m.\u001b[39mstd(daily_intake, ddof\u001b[38;5;241m=\u001b[39m\u001b[38;5;241m1\u001b[39m) \u001b[38;5;241m/\u001b[39m np\u001b[38;5;241m.\u001b[39msqrt(np\u001b[38;5;241m.\u001b[39msize(daily_intake))\n\u001b[1;32m---> 14\u001b[0m sem \u001b[38;5;241m=\u001b[39m \u001b[38;5;28mround\u001b[39m(sem, \u001b[38;5;241m2\u001b[39m)\n\u001b[0;32m     16\u001b[0m \u001b[38;5;66;03m#Round off the t-statistic\u001b[39;00m\n\u001b[0;32m     17\u001b[0m t_stat \u001b[38;5;241m=\u001b[39m (\u001b[38;5;28mround\u001b[39m(t_statistic, \u001b[38;5;241m2\u001b[39m))\n",
      "\u001b[1;31mNameError\u001b[0m: name 'sem' is not defined"
     ]
    }
   ],
   "source": [
    "#Set the recommended mean value\n",
    "recommended_mean = 7725\n",
    "#Use the scipy ttest_1samp function to perform a one-sample t-test\n",
    "t_statistic, p_value = stats.ttest_1samp(daily_intake, recommended_mean)\n",
    "\n",
    "#Compute the mean of the daily intake data\n",
    "sample_mean = round(np.mean(daily_intake), 2)\n",
    "\n",
    "#Compute the standard deviation of the daily intake data\n",
    "sd = round(np.std(daily_intake), 2)\n",
    "\n",
    "#Compute the standard error of the daily intake data\n",
    "sem_val = np.std(daily_intake, ddof=1) / np.sqrt(np.size(daily_intake))\n",
    "sem = round(sem, 2)\n",
    "\n",
    "#Round off the t-statistic\n",
    "t_stat = (round(t_statistic, 2))\n",
    "\n",
    "#Round off the p-value\n",
    "p_val = (round(p_value, 2))\n",
    "\n",
    "#Compute the degrees of freedom\n",
    "df = sample_size - 1\n",
    "\n",
    "table = [[\"Mean\", sample_mean],[\"Standard Deviation\",sd],[\"Sample Standard error of mean\",sem],[\"T-Statistic\",t_stat],\n",
    "         [\"Degrees of Freedom\",df],[\"P-Value\",p_val]]\n",
    "print(tabulate(table, headers=[\"Statistic\", \"Value\"]))"
   ]
  },
  {
   "cell_type": "markdown",
   "id": "bc744a1e",
   "metadata": {},
   "source": [
    "**Setting the null and alternative hypotheses:**\n",
    "\n",
    "H0 (Null Hypothesis): μ = 7725 kJ\n",
    "\n",
    "HA (Alternative Hypothesis): μ ≠ 7725 kJ\n",
    "\n",
    "**Stating the significance level:**\n",
    "\n",
    "α = 0.05\n",
    "\n",
    "**Determining the approriate test type (left-tail, right-tail or two-tailed test)**\n",
    "\n",
    "A two-tailed test is appropriate because our alternative hypothesis is testing whether the mean of the sample data provided will not be equal to the ideal mean of 7725 kJ\n",
    "\n",
    "**Conclusion**\n",
    "\n",
    "The mean of data provided is 6753.64 kJ, which is significantly greater than the sample mean value of 7725 kJ. Therefore the null hypothesis is rejected because μ ≠ 7725 kJ \n",
    "\n",
    "**Or**\n",
    "\n",
    "According to the t-Distribution table, the t critical value at α = 0.05 and n-1 = 10 degrees of freedom is 1.812. This is not less than our t-statistic value of -2.82. In addition, the p-value of the data provided is 0.02, which is less than our significance level of 0.05 therefore the null hypothesis is rejected"
   ]
  },
  {
   "cell_type": "markdown",
   "id": "52ad30df",
   "metadata": {},
   "source": [
    "### Question Two \n",
    " A Guinness Overall Enjoyment Score (GOES) was used to test if Guinness served in an Irish pub tastes significantly better than pints served elsewhere around the globe. Pints consumed in Ireland received a mean GOES score of 74, while the average GOES score for Guinness tasted elsewhere was 57. The full results were as follows:\n",
    "\n",
    "    Location Sample Size Mean Standard Deviation\n",
    "    Ireland 42 74 7.4\n",
    "    Elsewhere 61 57 7.1\n",
    "    \n",
    "Is this difference of 74 versus 57 significant, or is it simply due to natural, random variation? Use a t-test and explain whether a one-sample, two-sample or paired test is appropriate. Show the steps of calculating the t statistic and explain whether a left-tailed, right-tailed or two-tailed test is required. Give the resulting p-value."
   ]
  },
  {
   "cell_type": "markdown",
   "id": "5008c75e",
   "metadata": {},
   "source": [
    "**Setting the null and alternative hypotheses:**\n",
    "\n",
    "H0 (Null Hypothesis): μ = 74\n",
    "\n",
    "HA (Alternative Hypothesis): μ < 74\n",
    "\n",
    "**Stating the significance level:**\n",
    "\n",
    "α = 0.05\n",
    "\n",
    "**Determining the approriate test type (one-sample, two-sample or paired test)**\n",
    "\n",
    "**Determining the approriate test type (left-tail, right-tail or two-tailed test)**\n",
    "\n",
    "A lower-tailed test is appropriate because our alternative hypothesis is testing whether the mean GOES score from anywhere else in the globe will be less than that of the GOES score in Ireland, which is 74\n",
    "\n",
    "**Conclusion**\n",
    "\n",
    "The mean of data provided is 6753.64 kJ, which is significantly greater than the sample mean value of 7725 kJ. Therefore the null hypothesis is rejected because μ ≠ 7725 kJ \n",
    "\n",
    "**Or**\n",
    "\n",
    "According to the t-Distribution table, the t critical value at α = 0.05 and n-1 = 10 degrees of freedom is 1.812. This is not less than our t-statistic value of -2.82. In addition, the p-value of the data provided is 0.02, which is less than our significance level of 0.05 therefore the null hypothesis is rejected"
   ]
  },
  {
   "cell_type": "markdown",
   "id": "a5daad26",
   "metadata": {},
   "source": [
    "### Question Three"
   ]
  },
  {
   "cell_type": "markdown",
   "id": "905e12e4",
   "metadata": {},
   "source": [
    "Use data from the World Bank Indicators for 2013 to study the relationship between Fertility rate, total (births per woman) versus GDP per capita PPP (current international $). Make a carefully labelled graph with one dot per country. Estimate the correlation coefficient and give your interpretation."
   ]
  },
  {
   "cell_type": "code",
   "execution_count": 6,
   "id": "021a80d2",
   "metadata": {},
   "outputs": [],
   "source": [
    "#Load the Fertlity Rate and GDP per Capita data from the dowloaded files\n",
    "fertility_data = pd.read_csv('Fertility_Rate_Data.csv', skiprows=4)\n",
    "gdp_data = pd.read_csv('GDP_Per_Capita.csv', skiprows = 4, index_col=1)"
   ]
  },
  {
   "cell_type": "code",
   "execution_count": 7,
   "id": "47488ff1",
   "metadata": {},
   "outputs": [],
   "source": [
    "#Load the fertility rate data from 2013 into a separate new dataframe\n",
    "fertility_data_filtered = fertility_data[[\"2013\"]]\n",
    "#Load the GDP per Capita data from 2013 into a separate new dataframe\n",
    "gdp_data_filtered = gdp_data[[\"2013\"]]"
   ]
  },
  {
   "cell_type": "code",
   "execution_count": 8,
   "id": "bfacd240",
   "metadata": {},
   "outputs": [
    {
     "data": {
      "image/png": "[encoded data removed]",
      "text/plain": [
       "<Figure size 1000x600 with 1 Axes>"
      ]
     },
     "metadata": {},
     "output_type": "display_data"
    }
   ],
   "source": [
    "#Plot a scatterplot of Fertility rate versus GDP per capita for all countries in 2010\n",
    "plt.figure(figsize = (10,6))\n",
    "plt.title(\"Fertility rate versus GDP per capita for all countries in 2013\")\n",
    "plt.xlabel(\"GPD Per Capita\")\n",
    "plt.ylabel(\"Fertility Rate\")\n",
    "plt.scatter(gdp_data_filtered['2013'], fertility_data_filtered['2013'], marker=\".\")\n",
    "plt.show()"
   ]
  },
  {
   "cell_type": "code",
   "execution_count": 9,
   "id": "444e525e",
   "metadata": {},
   "outputs": [],
   "source": [
    "fertility_2013 = np.array(fertility_data_filtered['2013'])\n",
    "gdp_2013 = np.array(gdp_data_filtered['2013'])"
   ]
  },
  {
   "cell_type": "code",
   "execution_count": 10,
   "id": "de1cc120",
   "metadata": {},
   "outputs": [],
   "source": [
    "gdp_2013 = np.nan_to_num(gdp_2013)\n",
    "fertility_2013 = np.nan_to_num(fertility_2013)"
   ]
  },
  {
   "cell_type": "code",
   "execution_count": 11,
   "id": "8f1e756a",
   "metadata": {},
   "outputs": [
    {
     "data": {
      "text/plain": [
       "array([[ 1.        , -0.44624952],\n",
       "       [-0.44624952,  1.        ]])"
      ]
     },
     "execution_count": 11,
     "metadata": {},
     "output_type": "execute_result"
    }
   ],
   "source": [
    "#Calculate the correlation coefficient between the two datasets\n",
    "coeffecient = np.corrcoef(gdp_2013, fertility_2013)\n",
    "coeffecient"
   ]
  },
  {
   "cell_type": "markdown",
   "id": "9a47525b",
   "metadata": {},
   "source": [
    "#### Question Four"
   ]
  },
  {
   "cell_type": "markdown",
   "id": "3ba0ba66",
   "metadata": {},
   "source": [
    "Load in monthly average house price data in pounds sterling (£) from Jan 1991 to Dec 2016. Download the data from here (choose the file UK monthly indices (Post ‘91)). Graph the time series and label it carefully. Construct the autocorrelation function (ACF) of the monthly returns defined as r(t) = [p(t)/p(t-1)]-1 and show the values for lags of one up to 20 using a bar-graph. Indicate the values of the ACF using horizontal lines that would correspond to a statistically significant result at p<0.05.\n",
    "From the ACF of monthly data is there evidence of seasonality? Is there a trend in the time series? What is the annualized return over this period as a percentage?"
   ]
  },
  {
   "cell_type": "code",
   "execution_count": 12,
   "id": "d9141f14",
   "metadata": {},
   "outputs": [
    {
     "data": {
      "text/html": [
       "<div>\n",
       "<style scoped>\n",
       "    .dataframe tbody tr th:only-of-type {\n",
       "        vertical-align: middle;\n",
       "    }\n",
       "\n",
       "    .dataframe tbody tr th {\n",
       "        vertical-align: top;\n",
       "    }\n",
       "\n",
       "    .dataframe thead th {\n",
       "        text-align: right;\n",
       "    }\n",
       "</style>\n",
       "<table border=\"1\" class=\"dataframe\">\n",
       "  <thead>\n",
       "    <tr style=\"text-align: right;\">\n",
       "      <th></th>\n",
       "      <th>Date</th>\n",
       "      <th>Average House Price</th>\n",
       "      <th>INDEX Q1 1993=100</th>\n",
       "      <th>Seasonally Adjusted Index</th>\n",
       "      <th>Monthly % Change (SA)</th>\n",
       "      <th>Year % Change</th>\n",
       "      <th>Latest 3 months on previous 3 months</th>\n",
       "    </tr>\n",
       "  </thead>\n",
       "  <tbody>\n",
       "    <tr>\n",
       "      <th>0</th>\n",
       "      <td>1991-01-01</td>\n",
       "      <td>53051.721106</td>\n",
       "      <td>105.832511</td>\n",
       "      <td>107.127299</td>\n",
       "      <td>NaN</td>\n",
       "      <td>NaN</td>\n",
       "      <td>NaN</td>\n",
       "    </tr>\n",
       "    <tr>\n",
       "      <th>1</th>\n",
       "      <td>1991-02-01</td>\n",
       "      <td>53496.798746</td>\n",
       "      <td>106.720393</td>\n",
       "      <td>107.494996</td>\n",
       "      <td>0.003432</td>\n",
       "      <td>NaN</td>\n",
       "      <td>NaN</td>\n",
       "    </tr>\n",
       "    <tr>\n",
       "      <th>2</th>\n",
       "      <td>1991-03-01</td>\n",
       "      <td>52892.861606</td>\n",
       "      <td>105.515603</td>\n",
       "      <td>106.525649</td>\n",
       "      <td>-0.009018</td>\n",
       "      <td>NaN</td>\n",
       "      <td>NaN</td>\n",
       "    </tr>\n",
       "    <tr>\n",
       "      <th>3</th>\n",
       "      <td>1991-04-01</td>\n",
       "      <td>53677.435270</td>\n",
       "      <td>107.080744</td>\n",
       "      <td>107.126622</td>\n",
       "      <td>0.005642</td>\n",
       "      <td>NaN</td>\n",
       "      <td>NaN</td>\n",
       "    </tr>\n",
       "    <tr>\n",
       "      <th>4</th>\n",
       "      <td>1991-05-01</td>\n",
       "      <td>54385.726747</td>\n",
       "      <td>108.493710</td>\n",
       "      <td>107.266757</td>\n",
       "      <td>0.001308</td>\n",
       "      <td>NaN</td>\n",
       "      <td>NaN</td>\n",
       "    </tr>\n",
       "  </tbody>\n",
       "</table>\n",
       "</div>"
      ],
      "text/plain": [
       "        Date  Average House Price  INDEX Q1 1993=100  \\\n",
       "0 1991-01-01         53051.721106         105.832511   \n",
       "1 1991-02-01         53496.798746         106.720393   \n",
       "2 1991-03-01         52892.861606         105.515603   \n",
       "3 1991-04-01         53677.435270         107.080744   \n",
       "4 1991-05-01         54385.726747         108.493710   \n",
       "\n",
       "   Seasonally Adjusted Index  Monthly % Change (SA)  Year % Change  \\\n",
       "0                 107.127299                    NaN            NaN   \n",
       "1                 107.494996               0.003432            NaN   \n",
       "2                 106.525649              -0.009018            NaN   \n",
       "3                 107.126622               0.005642            NaN   \n",
       "4                 107.266757               0.001308            NaN   \n",
       "\n",
       "   Latest 3 months on previous 3 months  \n",
       "0                                   NaN  \n",
       "1                                   NaN  \n",
       "2                                   NaN  \n",
       "3                                   NaN  \n",
       "4                                   NaN  "
      ]
     },
     "execution_count": 12,
     "metadata": {},
     "output_type": "execute_result"
    }
   ],
   "source": [
    "#Load the housing price data data and metadata from the dowloaded files\n",
    "house_price_data = pd.read_excel('Monthly Average House Price.xls')\n",
    "house_prices = house_price_data.rename(columns={\"Unnamed: 0\":\"Date\"})\n",
    "house_prices.head()"
   ]
  },
  {
   "cell_type": "code",
   "execution_count": 13,
   "id": "3f416a32",
   "metadata": {},
   "outputs": [
    {
     "data": {
      "text/html": [
       "<div>\n",
       "<style scoped>\n",
       "    .dataframe tbody tr th:only-of-type {\n",
       "        vertical-align: middle;\n",
       "    }\n",
       "\n",
       "    .dataframe tbody tr th {\n",
       "        vertical-align: top;\n",
       "    }\n",
       "\n",
       "    .dataframe thead th {\n",
       "        text-align: right;\n",
       "    }\n",
       "</style>\n",
       "<table border=\"1\" class=\"dataframe\">\n",
       "  <thead>\n",
       "    <tr style=\"text-align: right;\">\n",
       "      <th></th>\n",
       "      <th>Average House Price</th>\n",
       "      <th>INDEX Q1 1993=100</th>\n",
       "      <th>Seasonally Adjusted Index</th>\n",
       "      <th>Monthly % Change (SA)</th>\n",
       "      <th>Year % Change</th>\n",
       "      <th>Latest 3 months on previous 3 months</th>\n",
       "    </tr>\n",
       "    <tr>\n",
       "      <th>Date</th>\n",
       "      <th></th>\n",
       "      <th></th>\n",
       "      <th></th>\n",
       "      <th></th>\n",
       "      <th></th>\n",
       "      <th></th>\n",
       "    </tr>\n",
       "  </thead>\n",
       "  <tbody>\n",
       "    <tr>\n",
       "      <th>1991-01-01</th>\n",
       "      <td>53051.721106</td>\n",
       "      <td>105.832511</td>\n",
       "      <td>107.127299</td>\n",
       "      <td>NaN</td>\n",
       "      <td>NaN</td>\n",
       "      <td>NaN</td>\n",
       "    </tr>\n",
       "    <tr>\n",
       "      <th>1991-02-01</th>\n",
       "      <td>53496.798746</td>\n",
       "      <td>106.720393</td>\n",
       "      <td>107.494996</td>\n",
       "      <td>0.003432</td>\n",
       "      <td>NaN</td>\n",
       "      <td>NaN</td>\n",
       "    </tr>\n",
       "    <tr>\n",
       "      <th>1991-03-01</th>\n",
       "      <td>52892.861606</td>\n",
       "      <td>105.515603</td>\n",
       "      <td>106.525649</td>\n",
       "      <td>-0.009018</td>\n",
       "      <td>NaN</td>\n",
       "      <td>NaN</td>\n",
       "    </tr>\n",
       "    <tr>\n",
       "      <th>1991-04-01</th>\n",
       "      <td>53677.435270</td>\n",
       "      <td>107.080744</td>\n",
       "      <td>107.126622</td>\n",
       "      <td>0.005642</td>\n",
       "      <td>NaN</td>\n",
       "      <td>NaN</td>\n",
       "    </tr>\n",
       "    <tr>\n",
       "      <th>1991-05-01</th>\n",
       "      <td>54385.726747</td>\n",
       "      <td>108.493710</td>\n",
       "      <td>107.266757</td>\n",
       "      <td>0.001308</td>\n",
       "      <td>NaN</td>\n",
       "      <td>NaN</td>\n",
       "    </tr>\n",
       "  </tbody>\n",
       "</table>\n",
       "</div>"
      ],
      "text/plain": [
       "            Average House Price  INDEX Q1 1993=100  Seasonally Adjusted Index  \\\n",
       "Date                                                                            \n",
       "1991-01-01         53051.721106         105.832511                 107.127299   \n",
       "1991-02-01         53496.798746         106.720393                 107.494996   \n",
       "1991-03-01         52892.861606         105.515603                 106.525649   \n",
       "1991-04-01         53677.435270         107.080744                 107.126622   \n",
       "1991-05-01         54385.726747         108.493710                 107.266757   \n",
       "\n",
       "            Monthly % Change (SA)  Year % Change  \\\n",
       "Date                                               \n",
       "1991-01-01                    NaN            NaN   \n",
       "1991-02-01               0.003432            NaN   \n",
       "1991-03-01              -0.009018            NaN   \n",
       "1991-04-01               0.005642            NaN   \n",
       "1991-05-01               0.001308            NaN   \n",
       "\n",
       "            Latest 3 months on previous 3 months  \n",
       "Date                                              \n",
       "1991-01-01                                   NaN  \n",
       "1991-02-01                                   NaN  \n",
       "1991-03-01                                   NaN  \n",
       "1991-04-01                                   NaN  \n",
       "1991-05-01                                   NaN  "
      ]
     },
     "execution_count": 13,
     "metadata": {},
     "output_type": "execute_result"
    }
   ],
   "source": [
    "#Set the Date column as the index\n",
    "house_prices = house_prices.set_index('Date')\n",
    "house_prices.head()"
   ]
  },
  {
   "cell_type": "code",
   "execution_count": 25,
   "id": "14203790",
   "metadata": {},
   "outputs": [
    {
     "data": {
      "text/html": [
       "<div>\n",
       "<style scoped>\n",
       "    .dataframe tbody tr th:only-of-type {\n",
       "        vertical-align: middle;\n",
       "    }\n",
       "\n",
       "    .dataframe tbody tr th {\n",
       "        vertical-align: top;\n",
       "    }\n",
       "\n",
       "    .dataframe thead th {\n",
       "        text-align: right;\n",
       "    }\n",
       "</style>\n",
       "<table border=\"1\" class=\"dataframe\">\n",
       "  <thead>\n",
       "    <tr style=\"text-align: right;\">\n",
       "      <th></th>\n",
       "      <th>Average House Price</th>\n",
       "      <th>INDEX Q1 1993=100</th>\n",
       "      <th>Seasonally Adjusted Index</th>\n",
       "      <th>Monthly % Change (SA)</th>\n",
       "      <th>Year % Change</th>\n",
       "      <th>Latest 3 months on previous 3 months</th>\n",
       "    </tr>\n",
       "    <tr>\n",
       "      <th>Date</th>\n",
       "      <th></th>\n",
       "      <th></th>\n",
       "      <th></th>\n",
       "      <th></th>\n",
       "      <th></th>\n",
       "      <th></th>\n",
       "    </tr>\n",
       "  </thead>\n",
       "  <tbody>\n",
       "    <tr>\n",
       "      <th>2016-08-01</th>\n",
       "      <td>206144.961815</td>\n",
       "      <td>411.237157</td>\n",
       "      <td>409.465432</td>\n",
       "      <td>0.007744</td>\n",
       "      <td>0.055643</td>\n",
       "      <td>0.009269</td>\n",
       "    </tr>\n",
       "    <tr>\n",
       "      <th>2016-09-01</th>\n",
       "      <td>206014.691677</td>\n",
       "      <td>410.977282</td>\n",
       "      <td>410.292238</td>\n",
       "      <td>0.002019</td>\n",
       "      <td>0.053326</td>\n",
       "      <td>0.010542</td>\n",
       "    </tr>\n",
       "    <tr>\n",
       "      <th>2016-10-01</th>\n",
       "      <td>205904.191651</td>\n",
       "      <td>410.756846</td>\n",
       "      <td>410.256066</td>\n",
       "      <td>-0.000088</td>\n",
       "      <td>0.046223</td>\n",
       "      <td>0.011086</td>\n",
       "    </tr>\n",
       "    <tr>\n",
       "      <th>2016-11-01</th>\n",
       "      <td>204947.430028</td>\n",
       "      <td>408.848209</td>\n",
       "      <td>410.018088</td>\n",
       "      <td>-0.000580</td>\n",
       "      <td>0.044025</td>\n",
       "      <td>0.008036</td>\n",
       "    </tr>\n",
       "    <tr>\n",
       "      <th>2016-12-01</th>\n",
       "      <td>205897.846011</td>\n",
       "      <td>410.744187</td>\n",
       "      <td>412.912278</td>\n",
       "      <td>0.007059</td>\n",
       "      <td>0.045171</td>\n",
       "      <td>0.005799</td>\n",
       "    </tr>\n",
       "  </tbody>\n",
       "</table>\n",
       "</div>"
      ],
      "text/plain": [
       "            Average House Price  INDEX Q1 1993=100  Seasonally Adjusted Index  \\\n",
       "Date                                                                            \n",
       "2016-08-01        206144.961815         411.237157                 409.465432   \n",
       "2016-09-01        206014.691677         410.977282                 410.292238   \n",
       "2016-10-01        205904.191651         410.756846                 410.256066   \n",
       "2016-11-01        204947.430028         408.848209                 410.018088   \n",
       "2016-12-01        205897.846011         410.744187                 412.912278   \n",
       "\n",
       "            Monthly % Change (SA)  Year % Change  \\\n",
       "Date                                               \n",
       "2016-08-01               0.007744       0.055643   \n",
       "2016-09-01               0.002019       0.053326   \n",
       "2016-10-01              -0.000088       0.046223   \n",
       "2016-11-01              -0.000580       0.044025   \n",
       "2016-12-01               0.007059       0.045171   \n",
       "\n",
       "            Latest 3 months on previous 3 months  \n",
       "Date                                              \n",
       "2016-08-01                              0.009269  \n",
       "2016-09-01                              0.010542  \n",
       "2016-10-01                              0.011086  \n",
       "2016-11-01                              0.008036  \n",
       "2016-12-01                              0.005799  "
      ]
     },
     "execution_count": 25,
     "metadata": {},
     "output_type": "execute_result"
    }
   ],
   "source": [
    "#Select the data from Jan 1991 to Dec 2016\n",
    "mask = (house_prices.index>='1991-01-01') & (house_prices.index<='2016-12-31')\n",
    "house_prices_filtered = house_prices.loc[mask]\n",
    "house_prices_filtered.tail()"
   ]
  },
  {
   "cell_type": "code",
   "execution_count": 28,
   "id": "205545c5",
   "metadata": {},
   "outputs": [
    {
     "data": {
      "image/png": "[encoded data removed]",
      "text/plain": [
       "<Figure size 1000x600 with 1 Axes>"
      ]
     },
     "metadata": {},
     "output_type": "display_data"
    }
   ],
   "source": [
    "#Plot a time-series of the UK monthly indices (Post ‘91)\n",
    "plt.figure(figsize = (10,6))\n",
    "plt.title(\"UK monthly indices (Post ‘91)\")\n",
    "plt.xlabel(\"Date\")\n",
    "plt.ylabel(\"Index Value\")\n",
    "#plt.plot(house_prices_filtered.index, house_prices_filtered[\"INDEX Q1 1993=100\"], label=\"INDEX Q1 1993=100\")\n",
    "plt.plot(house_prices_filtered.index, house_prices_filtered[\"Seasonally Adjusted Index\"], label=\"Seasonally Adjusted Index\")\n",
    "plt.legend(loc='upper left')\n",
    "plt.show()"
   ]
  },
  {
   "cell_type": "code",
   "execution_count": null,
   "id": "4234f56a",
   "metadata": {},
   "outputs": [],
   "source": [
    "#Constructing the autocorrelation function (ACF) of the monthly returns\n",
    "#defined as r(t) = [p(t)/p(t-1)]-1"
   ]
  }
 ],
 "metadata": {
  "kernelspec": {
   "display_name": "Python 3 (ipykernel)",
   "language": "python",
   "name": "python3"
  },
  "language_info": {
   "codemirror_mode": {
    "name": "ipython",
    "version": 3
   },
   "file_extension": ".py",
   "mimetype": "text/x-python",
   "name": "python",
   "nbconvert_exporter": "python",
   "pygments_lexer": "ipython3",
   "version": "3.11.4"
  }
 },
 "nbformat": 4,
 "nbformat_minor": 5
}
