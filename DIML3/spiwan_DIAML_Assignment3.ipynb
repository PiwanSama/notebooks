{
 "cells": [
  {
   "cell_type": "code",
   "execution_count": 87,
   "id": "31dc26c5",
   "metadata": {},
   "outputs": [],
   "source": [
    "#Import the libraries to be used\n",
    "import numpy as np\n",
    "import pandas as pd\n",
    "import matplotlib.pyplot as plt\n",
    "import scipy.stats as stats\n",
    "from tabulate import tabulate"
   ]
  },
  {
   "cell_type": "markdown",
   "id": "a1cd7ab2",
   "metadata": {},
   "source": [
    "### Question One\n",
    "Daily energy intake in kJ was measured for 11 women (Altman, 1991):\n",
    "5260, 5470, 5640, 6180, 6390, 6515, 6805, 7515, 7515, 8230, 8770.\n",
    "We wish to investigate whether the women’s energy intake deviates\n",
    "systematically from a recommended value of 7725 kJ. Assuming this\n",
    "data comes from a normal distribution; use a t-test to test whether the\n",
    "distribution might have a mean of 7725 kJ. Explain whether a left-tail,\n",
    "right-tail or two-tailed test is appropriate. Give the sample mean, sample\n",
    "standard deviation, standard error of the mean (SEM), t statistic, degrees\n",
    "of freedom and p-value. Finally explain if the null hypothesis is rejected\n",
    "or not."
   ]
  },
  {
   "cell_type": "code",
   "execution_count": 66,
   "id": "c5ae0e43",
   "metadata": {},
   "outputs": [],
   "source": [
    "#Load the daily intake data into a list and convert it to a numpy array\n",
    "daily_intake = np.array([5260, 5470, 5640, 6180, 6390, 6515, 6805, 7515, 7515, 8230, 8770])\n",
    "#Get the size pf the dataset\n",
    "sample_size = np.size(daily_intake)"
   ]
  },
  {
   "cell_type": "code",
   "execution_count": 73,
   "id": "199f1f88",
   "metadata": {},
   "outputs": [
    {
     "name": "stdout",
     "output_type": "stream",
     "text": [
      "Statistic                        Value\n",
      "-----------------------------  -------\n",
      "Mean                           6753.64\n",
      "Standard Deviation             1088.97\n",
      "Sample Standard error of mean   344.36\n",
      "T-Statistic                      -2.82\n",
      "Degrees of Freedom               10\n",
      "P-Value                           0.02\n"
     ]
    }
   ],
   "source": [
    "#Set the recommended mean value\n",
    "recommended_mean = 7725\n",
    "#Use the scipy ttest_1samp function to perform a one-sample t-test\n",
    "t_statistic, p_value = stats.ttest_1samp(daily_intake, recommended_mean)\n",
    "\n",
    "#Compute the mean of the daily intake data\n",
    "sample_mean = round(np.mean(daily_intake), 2)\n",
    "\n",
    "#Compute the standard deviation of the daily intake data\n",
    "sd = round(np.std(daily_intake), 2)\n",
    "\n",
    "#Compute the standard error of the daily intake data\n",
    "sem_val = np.std(daily_intake, ddof=1) / np.sqrt(np.size(daily_intake))\n",
    "sem = round(sem, 2)\n",
    "\n",
    "#Round off the t-statistic\n",
    "t_stat = (round(t_statistic, 2))\n",
    "\n",
    "#Round off the p-value\n",
    "p_val = (round(p_value, 2))\n",
    "\n",
    "#Compute the degrees of freedom\n",
    "df = sample_size - 1\n",
    "\n",
    "table = [[\"Mean\", sample_mean],[\"Standard Deviation\",sd],[\"Sample Standard error of mean\",sem],[\"T-Statistic\",t_stat],\n",
    "         [\"Degrees of Freedom\",df],[\"P-Value\",p_val]]\n",
    "print(tabulate(table, headers=[\"Statistic\", \"Value\"]))"
   ]
  },
  {
   "cell_type": "markdown",
   "id": "7668ab1d",
   "metadata": {},
   "source": [
    "**Setting the null and alternative hypotheses:**\n",
    "\n",
    "H0 (Null Hypothesis): μ = 7725 kJ\n",
    "\n",
    "HA (Alternative Hypothesis): μ ≠ 7725 kJ\n",
    "\n",
    "**Stating the significance level:**\n",
    "\n",
    "α = 0.05\n",
    "\n",
    "**Determining the approriate test type (left-tail, right-tail or two-tailed test)**\n",
    "\n",
    "A two-tailed test is appropriate because our alternative hypothesis is testing whether the mean of the sample data provided will not be equal to the ideal mean of 7725 kJ\n",
    "\n",
    "**Conclusion**\n",
    "\n",
    "The mean of data provided is 6753.64 kJ, which is significantly greater than the sample mean value of 7725 kJ. Therefore the null hypothesis is rejected because μ ≠ 7725 kJ \n",
    "\n",
    "**Or**\n",
    "\n",
    "According to the t-Distribution table, the t critical value at α = 0.05 and n-1 = 10 degrees of freedom is 1.812. This is not less than our t-statistic value of -2.82. In addition, the p-value of the data provided is 0.02, which is less than our significance level of 0.05 therefore the null hypothesis is rejected"
   ]
  },
  {
   "cell_type": "markdown",
   "id": "bdce5d17",
   "metadata": {},
   "source": [
    "### Question Two \n",
    " A Guinness Overall Enjoyment Score (GOES) was used to test if Guinness served in an Irish pub tastes significantly better than pints served elsewhere around the globe. Pints consumed in Ireland received a mean GOES score of 74, while the average GOES score for Guinness tasted elsewhere was 57. The full results were as follows:\n",
    "\n",
    "    Location Sample Size Mean Standard Deviation\n",
    "    Ireland 42 74 7.4\n",
    "    Elsewhere 61 57 7.1\n",
    "    \n",
    "Is this difference of 74 versus 57 significant, or is it simply due to natural, random variation? Use a t-test and explain whether a one-sample, two-sample or paired test is appropriate. Show the steps of calculating the t statistic and explain whether a left-tailed, right-tailed or two-tailed test is required. Give the resulting p-value."
   ]
  },
  {
   "cell_type": "markdown",
   "id": "c6e3fa94",
   "metadata": {},
   "source": [
    "**Setting the null and alternative hypotheses:**\n",
    "\n",
    "H0 (Null Hypothesis): μ = 74\n",
    "\n",
    "HA (Alternative Hypothesis): μ < 74\n",
    "\n",
    "**Stating the significance level:**\n",
    "\n",
    "α = 0.05\n",
    "\n",
    "**Determining the approriate test type (one-sample, two-sample or paired test)**\n",
    "\n",
    "**Determining the approriate test type (left-tail, right-tail or two-tailed test)**\n",
    "\n",
    "A lower-tailed test is appropriate because our alternative hypothesis is testing whether the mean GOES score from anywhere else in the globe will be less than that of the GOES score in Ireland, which is 74\n",
    "\n",
    "**Conclusion**\n",
    "\n",
    "The mean of data provided is 6753.64 kJ, which is significantly greater than the sample mean value of 7725 kJ. Therefore the null hypothesis is rejected because μ ≠ 7725 kJ \n",
    "\n",
    "**Or**\n",
    "\n",
    "According to the t-Distribution table, the t critical value at α = 0.05 and n-1 = 10 degrees of freedom is 1.812. This is not less than our t-statistic value of -2.82. In addition, the p-value of the data provided is 0.02, which is less than our significance level of 0.05 therefore the null hypothesis is rejected"
   ]
  },
  {
   "cell_type": "markdown",
   "id": "aad03fa1",
   "metadata": {},
   "source": [
    "### Question Three"
   ]
  },
  {
   "cell_type": "markdown",
   "id": "031a294b",
   "metadata": {},
   "source": [
    "Use data from the World Bank Indicators for 2013 to study the relationship between Fertility rate, total (births per woman) versus GDP per capita PPP (current international $). Make a carefully labelled graph with one dot per country. Estimate the correlation coefficient and give your interpretation."
   ]
  },
  {
   "cell_type": "code",
   "execution_count": 115,
   "id": "7c808c90",
   "metadata": {},
   "outputs": [],
   "source": [
    "#Load the Fertlity Rate and GDP per Capita data from the dowloaded files\n",
    "fertility_data = pd.read_csv('Fertility_Rate_Data.csv', skiprows=4)\n",
    "gdp_data = pd.read_csv('GDP_Per_Capita.csv', skiprows = 4, index_col=1)"
   ]
  },
  {
   "cell_type": "code",
   "execution_count": 116,
   "id": "8347cefc",
   "metadata": {},
   "outputs": [],
   "source": [
    "#Load the fertility rate data from 2013 into a separate new dataframe\n",
    "fertility_data_filtered = fertility_data[[\"2013\"]]\n",
    "#Load the GDP per Capita data from 2013 into a separate new dataframe\n",
    "gdp_data_filtered = gdp_data[[\"2013\"]]"
   ]
  },
  {
   "cell_type": "code",
   "execution_count": 118,
   "id": "74b03793",
   "metadata": {},
   "outputs": [
    {
     "data": {
      "image/png": "[encoded data removed]",
      "text/plain": [
       "<Figure size 1000x600 with 1 Axes>"
      ]
     },
     "metadata": {},
     "output_type": "display_data"
    }
   ],
   "source": [
    "#Plot a scatterplot of Fertility rate versus GDP per capita for all countries in 2010\n",
    "plt.figure(figsize = (10,6))\n",
    "plt.title(\"Fertility rate versus GDP per capita for all countries in 2013\")\n",
    "plt.xlabel(\"GPD Per Capita\")\n",
    "plt.ylabel(\"Fertility Rate\")\n",
    "plt.scatter(gdp_data_filtered['2013'], fertility_rate_data_filtered['2013'], marker=\".\")\n",
    "plt.show()"
   ]
  },
  {
   "cell_type": "code",
   "execution_count": 127,
   "id": "55fd4549",
   "metadata": {},
   "outputs": [],
   "source": [
    "fertility_2013 = np.array(fertility_data_filtered['2013'])\n",
    "gdp_2013 = np.array(gdp_data_filtered['2013'])"
   ]
  },
  {
   "cell_type": "code",
   "execution_count": 128,
   "id": "56399810",
   "metadata": {},
   "outputs": [],
   "source": [
    "gdp_2013 = np.nan_to_num(gdp_2013)\n",
    "fertility_2013 = np.nan_to_num(fertility_2013)"
   ]
  },
  {
   "cell_type": "code",
   "execution_count": 131,
   "id": "869c16fa",
   "metadata": {},
   "outputs": [
    {
     "data": {
      "text/plain": [
       "array([[ 1.        , -0.44624952],\n",
       "       [-0.44624952,  1.        ]])"
      ]
     },
     "execution_count": 131,
     "metadata": {},
     "output_type": "execute_result"
    }
   ],
   "source": [
    "#Calculate the correlation coefficient between the two datasets\n",
    "coeffecient = np.corrcoef(gdp_2013, fertility_2013)\n",
    "coeffecient"
   ]
  },
  {
   "cell_type": "markdown",
   "id": "42e0c7c0",
   "metadata": {},
   "source": [
    "#### Question Four"
   ]
  },
  {
   "cell_type": "markdown",
   "id": "e7ef6612",
   "metadata": {},
   "source": [
    "Load in monthly average house price data in pounds sterling (£) from Jan 1991 to Dec 2016. Download the data from here (choose the file UK monthly indices (Post ‘91)). Graph the time series and label it carefully. Construct the autocorrelation function (ACF) of the monthly returns defined as r(t) = [p(t)/p(t-1)]-1 and show the values for lags of one up to 20 using a bar-graph. Indicate the values of the ACF using horizontal lines that would correspond to a statistically significant result at p<0.05.\n",
    "From the ACF of monthly data is there evidence of seasonality? Is there a trend in the time series? What is the annualized return over this period as a percentage?"
   ]
  },
  {
   "cell_type": "code",
   "execution_count": null,
   "id": "2f6c31a1",
   "metadata": {},
   "outputs": [],
   "source": [
    "#Load the housing price data data and metadata from the dowloaded files\n",
    "fertility_data = pd.read_csv('Fertility_Rate_Data.csv', skiprows=4)\n",
    "gdp_data = pd.read_csv('GDP_Per_Capita.csv', skiprows = 4, index_col=1)"
   ]
  }
 ],
 "metadata": {
  "kernelspec": {
   "display_name": "Python 3 (ipykernel)",
   "language": "python",
   "name": "python3"
  },
  "language_info": {
   "codemirror_mode": {
    "name": "ipython",
    "version": 3
   },
   "file_extension": ".py",
   "mimetype": "text/x-python",
   "name": "python",
   "nbconvert_exporter": "python",
   "pygments_lexer": "ipython3",
   "version": "3.11.4"
  }
 },
 "nbformat": 4,
 "nbformat_minor": 5
}
