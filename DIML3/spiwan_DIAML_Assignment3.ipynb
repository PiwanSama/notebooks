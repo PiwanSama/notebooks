{
 "cells": [
  {
   "cell_type": "code",
   "execution_count": 3,
   "id": "31dc26c5",
   "metadata": {},
   "outputs": [],
   "source": [
    "#Import the libraries to be used\n",
    "import numpy as np"
   ]
  },
  {
   "cell_type": "markdown",
   "id": "a1cd7ab2",
   "metadata": {},
   "source": [
    "1. Daily energy intake in kJ was measured for 11 women (Altman, 1991):\n",
    "5260, 5470, 5640, 6180, 6390, 6515, 6805, 7515, 7515, 8230, 8770.\n",
    "We wish to investigate whether the women’s energy intake deviates\n",
    "systematically from a recommended value of 7725 kJ. Assuming this\n",
    "data comes from a normal distribution; use a t-test to test whether the\n",
    "distribution might have a mean of 7725 kJ. Explain whether a left-tail,\n",
    "right-tail or two-tailed test is appropriate. Give the sample mean, sample\n",
    "standard deviation, standard error of the mean (SEM), t statistic, degrees\n",
    "of freedom and p-value. Finally explain if the null hypothesis is rejected\n",
    "or not."
   ]
  },
  {
   "cell_type": "code",
   "execution_count": 12,
   "id": "c5ae0e43",
   "metadata": {},
   "outputs": [
    {
     "name": "stdout",
     "output_type": "stream",
     "text": [
      "Mean:\n",
      "6753.64\n",
      "Standard Deviation:\n",
      "1088.97\n",
      "Standard error of mean:\n",
      "344.36\n"
     ]
    }
   ],
   "source": [
    "#Load the daily intake data into a list and convert it to a numpy array\n",
    "daily_intake = np.array([5260, 5470, 5640, 6180, 6390, 6515, 6805, 7515, 7515, 8230, 8770])\n",
    "\n",
    "#Print the mean of the daily intake data\n",
    "print(\"Mean:\")\n",
    "print(round(np.mean(daily_intake), 2))\n",
    "\n",
    "#Print the standard deviation of the daily intake data\n",
    "print(\"Standard Deviation:\")\n",
    "print(round(np.std(daily_intake), 2))\n",
    "\n",
    "#Print the standard error of the daily intake data\n",
    "print(\"Standard error of mean:\")\n",
    "sem = np.std(daily_intake, ddof=1) / np.sqrt(np.size(daily_intake))\n",
    "print(round(sem, 2))"
   ]
  },
  {
   "cell_type": "code",
   "execution_count": null,
   "id": "c016d89a",
   "metadata": {},
   "outputs": [],
   "source": []
  }
 ],
 "metadata": {
  "kernelspec": {
   "display_name": "Python 3 (ipykernel)",
   "language": "python",
   "name": "python3"
  },
  "language_info": {
   "codemirror_mode": {
    "name": "ipython",
    "version": 3
   },
   "file_extension": ".py",
   "mimetype": "text/x-python",
   "name": "python",
   "nbconvert_exporter": "python",
   "pygments_lexer": "ipython3",
   "version": "3.11.4"
  }
 },
 "nbformat": 4,
 "nbformat_minor": 5
}
