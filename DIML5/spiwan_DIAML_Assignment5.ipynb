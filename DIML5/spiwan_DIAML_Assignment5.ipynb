{
 "cells": [
  {
   "cell_type": "code",
   "execution_count": 1,
   "id": "e29d34a9",
   "metadata": {},
   "outputs": [],
   "source": [
    "import pandas as pd\n",
    "import numpy as np\n",
    "import matplotlib.pyplot as plt"
   ]
  },
  {
   "cell_type": "markdown",
   "id": "f4652837",
   "metadata": {},
   "source": [
    "### Question Three - Diabetes Data"
   ]
  },
  {
   "cell_type": "markdown",
   "id": "97719116",
   "metadata": {},
   "source": [
    "In this assignment we will be looking at data analyzing diabetes patients (N = 442). The data consists of 11 columns. These columns are AGE, SEX, BMI (body mass index), BP (average blood pressure), S1, S2, S3, S4, S5, S6 (the last six are blood serum measurements looking for example at the Glucose level in blood). The 11th column is the dependent variable y, a quantitative measure of disease progression 1 year after baseline (one year after incurring the disease)."
   ]
  },
  {
   "cell_type": "markdown",
   "id": "63926503",
   "metadata": {},
   "source": [
    "**3.1.** Load the diabetes data into MATLAB or Python from here. Produce a correlation matrix of the explanatory variables. Make a heat-map of the matrix (using imagesc and colorbar) and describe the relationships between the variables."
   ]
  },
  {
   "cell_type": "markdown",
   "id": "36db7ed0",
   "metadata": {},
   "source": [
    "**3.2.** What is collinearity? What effect does collinearity amongst predictor variables have on their estimated coefficient value?"
   ]
  },
  {
   "cell_type": "markdown",
   "id": "958af1ec",
   "metadata": {},
   "source": [
    "**3.3.** Create a multivariate linear model using all ten variables and a constant. In the rest of this assignment this model will be referred to as model1. What are the Mean Squared Error and the adjusted R2 for model1? Are all variables significant? Could this be a problem of collinearity?"
   ]
  },
  {
   "cell_type": "markdown",
   "id": "e00b4e87",
   "metadata": {},
   "source": [
    "**3.4.** What is the difference between forward selection and backward selection?"
   ]
  },
  {
   "cell_type": "markdown",
   "id": "1dbd32b7",
   "metadata": {},
   "source": [
    "**3.5.** How does the approach stepwise work in the sense of selecting variables? Use the function stepwise to interactively compose a model using forward selection. Which variables are selected? How does this function work? What is the MSE and R2 value for this new model?"
   ]
  },
  {
   "cell_type": "markdown",
   "id": "b42abb15",
   "metadata": {},
   "source": [
    "### Question Four - Analyzing the Titanic data set"
   ]
  },
  {
   "cell_type": "markdown",
   "id": "07abc99a",
   "metadata": {},
   "source": [
    "The titanic3 data frame describes the survival status of individual passengers on the British passenger liner RMS Titanic when sunk. The data frame does not contain information for the crew, but it does contain actual and estimated ages for almost 80% of the passengers. More details about the data frame can be found on the file titanic3info.txt. For this assignment, use the titanic dataset stored in titanic3.csv. You can get the dataset from this link"
   ]
  },
  {
   "cell_type": "markdown",
   "id": "bc586c30",
   "metadata": {},
   "source": [
    "**4.1** What is the difference between logistic regression and linear regression?"
   ]
  },
  {
   "cell_type": "markdown",
   "id": "8646cf0d",
   "metadata": {},
   "source": [
    "**4.2** Load in the titanic dataset and calculate the probability of survival for a passenger on the titanic."
   ]
  },
  {
   "cell_type": "markdown",
   "id": "00c9d6d8",
   "metadata": {},
   "source": [
    "**4.3**** Provide a table giving survival probabilities broken down by passenger class, gender and age."
   ]
  },
  {
   "cell_type": "markdown",
   "id": "053f96e3",
   "metadata": {},
   "source": [
    "**4.4** Build a logistic regression model for survival rates based on passenger class, sex and age. What are the parameter estimates and are these parameters statistically significant?"
   ]
  },
  {
   "cell_type": "markdown",
   "id": "9de3b466",
   "metadata": {},
   "source": [
    "**4.5** What is the performance of the model, measured by classification accuracy (number of correct classifications divided by total number of classifications) based on confusion matrix?"
   ]
  },
  {
   "cell_type": "code",
   "execution_count": null,
   "id": "5bb9ddbd",
   "metadata": {},
   "outputs": [],
   "source": []
  }
 ],
 "metadata": {
  "kernelspec": {
   "display_name": "Python 3 (ipykernel)",
   "language": "python",
   "name": "python3"
  },
  "language_info": {
   "codemirror_mode": {
    "name": "ipython",
    "version": 3
   },
   "file_extension": ".py",
   "mimetype": "text/x-python",
   "name": "python",
   "nbconvert_exporter": "python",
   "pygments_lexer": "ipython3",
   "version": "3.11.4"
  }
 },
 "nbformat": 4,
 "nbformat_minor": 5
}
