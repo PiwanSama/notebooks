{
 "cells": [
  {
   "cell_type": "code",
   "execution_count": 94,
   "id": "c9a64847",
   "metadata": {},
   "outputs": [],
   "source": [
    "import pandas as pd\n",
    "import numpy as np\n",
    "import matplotlib.pyplot as plt\n",
    "import seaborn as sns\n",
    "from sklearn.tree import DecisionTreeClassifier\n",
    "from sklearn import tree\n",
    "from sklearn import metrics\n",
    "from sklearn.model_selection import train_test_split\n",
    "from sklearn.model_selection import KFold\n",
    "from sklearn.model_selection import cross_validate\n",
    "from sklearn.model_selection import cross_val_score\n",
    "from sklearn.metrics import accuracy_score, precision_score\n",
    "from sklearn.model_selection import GridSearchCV\n",
    "from sklearn.neighbors import KNeighborsClassifier\n",
    "import statsmodels.api as sm\n",
    "from sklearn import linear_model\n",
    "import warnings\n",
    "warnings.filterwarnings('ignore')"
   ]
  },
  {
   "cell_type": "markdown",
   "id": "33239a74",
   "metadata": {},
   "source": [
    "### Question Three"
   ]
  },
  {
   "cell_type": "markdown",
   "id": "f51b007d",
   "metadata": {},
   "source": [
    "**2.3. Consider the challenge of classifying the likelihood of survival using the Titanic dataset. Construct a decision tree and display the structure of this tree using a graphic**"
   ]
  },
  {
   "cell_type": "code",
   "execution_count": 2,
   "id": "1b75d6a9",
   "metadata": {},
   "outputs": [
    {
     "data": {
      "text/html": [
       "<div>\n",
       "<style scoped>\n",
       "    .dataframe tbody tr th:only-of-type {\n",
       "        vertical-align: middle;\n",
       "    }\n",
       "\n",
       "    .dataframe tbody tr th {\n",
       "        vertical-align: top;\n",
       "    }\n",
       "\n",
       "    .dataframe thead th {\n",
       "        text-align: right;\n",
       "    }\n",
       "</style>\n",
       "<table border=\"1\" class=\"dataframe\">\n",
       "  <thead>\n",
       "    <tr style=\"text-align: right;\">\n",
       "      <th></th>\n",
       "      <th>age</th>\n",
       "      <th>sex</th>\n",
       "      <th>pclass</th>\n",
       "      <th>survived</th>\n",
       "    </tr>\n",
       "  </thead>\n",
       "  <tbody>\n",
       "    <tr>\n",
       "      <th>0</th>\n",
       "      <td>29.00</td>\n",
       "      <td>female</td>\n",
       "      <td>1</td>\n",
       "      <td>1</td>\n",
       "    </tr>\n",
       "    <tr>\n",
       "      <th>1</th>\n",
       "      <td>0.92</td>\n",
       "      <td>male</td>\n",
       "      <td>1</td>\n",
       "      <td>1</td>\n",
       "    </tr>\n",
       "    <tr>\n",
       "      <th>2</th>\n",
       "      <td>2.00</td>\n",
       "      <td>female</td>\n",
       "      <td>1</td>\n",
       "      <td>0</td>\n",
       "    </tr>\n",
       "    <tr>\n",
       "      <th>3</th>\n",
       "      <td>30.00</td>\n",
       "      <td>male</td>\n",
       "      <td>1</td>\n",
       "      <td>0</td>\n",
       "    </tr>\n",
       "    <tr>\n",
       "      <th>4</th>\n",
       "      <td>25.00</td>\n",
       "      <td>female</td>\n",
       "      <td>1</td>\n",
       "      <td>0</td>\n",
       "    </tr>\n",
       "  </tbody>\n",
       "</table>\n",
       "</div>"
      ],
      "text/plain": [
       "     age     sex  pclass  survived\n",
       "0  29.00  female       1         1\n",
       "1   0.92    male       1         1\n",
       "2   2.00  female       1         0\n",
       "3  30.00    male       1         0\n",
       "4  25.00  female       1         0"
      ]
     },
     "execution_count": 2,
     "metadata": {},
     "output_type": "execute_result"
    }
   ],
   "source": [
    "titanic_data = pd.read_csv('titanic3.csv')[[\"age\", \"sex\", \"pclass\", \"survived\"]]\n",
    "titanic_data.head()"
   ]
  },
  {
   "cell_type": "markdown",
   "id": "59942c67",
   "metadata": {},
   "source": [
    "Prepare the data"
   ]
  },
  {
   "cell_type": "code",
   "execution_count": 3,
   "id": "20973cd7",
   "metadata": {},
   "outputs": [
    {
     "data": {
      "text/plain": [
       "age         263\n",
       "sex           0\n",
       "pclass        0\n",
       "survived      0\n",
       "dtype: int64"
      ]
     },
     "execution_count": 3,
     "metadata": {},
     "output_type": "execute_result"
    }
   ],
   "source": [
    "# heck for NaN values\n",
    "titanic_data.isna().sum()"
   ]
  },
  {
   "cell_type": "code",
   "execution_count": 4,
   "id": "abc45646",
   "metadata": {
    "scrolled": true
   },
   "outputs": [
    {
     "data": {
      "text/plain": [
       "age         0\n",
       "sex         0\n",
       "pclass      0\n",
       "survived    0\n",
       "dtype: int64"
      ]
     },
     "execution_count": 4,
     "metadata": {},
     "output_type": "execute_result"
    }
   ],
   "source": [
    "# Calculate the mean age\n",
    "mean_age = titanic_data[\"age\"].mean()\n",
    "\n",
    "# Replace all the NaN values with the mean age\n",
    "titanic_data[\"age\"] = titanic_data[\"age\"].fillna(mean_age)\n",
    "\n",
    "#Check for NaN values\n",
    "titanic_data.isna().sum()"
   ]
  },
  {
   "cell_type": "code",
   "execution_count": 5,
   "id": "d6409321",
   "metadata": {},
   "outputs": [
    {
     "data": {
      "text/html": [
       "<div>\n",
       "<style scoped>\n",
       "    .dataframe tbody tr th:only-of-type {\n",
       "        vertical-align: middle;\n",
       "    }\n",
       "\n",
       "    .dataframe tbody tr th {\n",
       "        vertical-align: top;\n",
       "    }\n",
       "\n",
       "    .dataframe thead th {\n",
       "        text-align: right;\n",
       "    }\n",
       "</style>\n",
       "<table border=\"1\" class=\"dataframe\">\n",
       "  <thead>\n",
       "    <tr style=\"text-align: right;\">\n",
       "      <th></th>\n",
       "      <th>age</th>\n",
       "      <th>sex</th>\n",
       "      <th>pclass</th>\n",
       "      <th>survived</th>\n",
       "      <th>sex binary</th>\n",
       "    </tr>\n",
       "  </thead>\n",
       "  <tbody>\n",
       "    <tr>\n",
       "      <th>0</th>\n",
       "      <td>29.00</td>\n",
       "      <td>female</td>\n",
       "      <td>1</td>\n",
       "      <td>1</td>\n",
       "      <td>0</td>\n",
       "    </tr>\n",
       "    <tr>\n",
       "      <th>1</th>\n",
       "      <td>0.92</td>\n",
       "      <td>male</td>\n",
       "      <td>1</td>\n",
       "      <td>1</td>\n",
       "      <td>1</td>\n",
       "    </tr>\n",
       "    <tr>\n",
       "      <th>2</th>\n",
       "      <td>2.00</td>\n",
       "      <td>female</td>\n",
       "      <td>1</td>\n",
       "      <td>0</td>\n",
       "      <td>0</td>\n",
       "    </tr>\n",
       "    <tr>\n",
       "      <th>3</th>\n",
       "      <td>30.00</td>\n",
       "      <td>male</td>\n",
       "      <td>1</td>\n",
       "      <td>0</td>\n",
       "      <td>1</td>\n",
       "    </tr>\n",
       "    <tr>\n",
       "      <th>4</th>\n",
       "      <td>25.00</td>\n",
       "      <td>female</td>\n",
       "      <td>1</td>\n",
       "      <td>0</td>\n",
       "      <td>0</td>\n",
       "    </tr>\n",
       "  </tbody>\n",
       "</table>\n",
       "</div>"
      ],
      "text/plain": [
       "     age     sex  pclass  survived  sex binary\n",
       "0  29.00  female       1         1           0\n",
       "1   0.92    male       1         1           1\n",
       "2   2.00  female       1         0           0\n",
       "3  30.00    male       1         0           1\n",
       "4  25.00  female       1         0           0"
      ]
     },
     "execution_count": 5,
     "metadata": {},
     "output_type": "execute_result"
    }
   ],
   "source": [
    "# Convert the gender column to float values\n",
    "titanic_data[\"sex binary\"] = titanic_data.sex.map({\"female\":0, \"male\":1})\n",
    "\n",
    "# Validate the transformed sex column\n",
    "titanic_data.head()"
   ]
  },
  {
   "cell_type": "code",
   "execution_count": 6,
   "id": "1d03e4f7",
   "metadata": {
    "scrolled": false
   },
   "outputs": [
    {
     "data": {
      "image/png": "[encoded data removed]",
      "text/plain": [
       "<Figure size 640x480 with 1 Axes>"
      ]
     },
     "metadata": {},
     "output_type": "display_data"
    }
   ],
   "source": [
    "# Set the X and y values\n",
    "X = titanic_data.drop(columns = [\"survived\", \"sex\"])\n",
    "y = titanic_data[[\"survived\"]]\n",
    "\n",
    "# Create the model\n",
    "clf = DecisionTreeClassifier(random_state = 0)\n",
    "\n",
    "# Fit the titanic data onto the model\n",
    "titanic_model = clf.fit(X, y)\n",
    "\n",
    "# Plot the tree from the model created\n",
    "tree.plot_tree(titanic_model)\n",
    "plt.show()"
   ]
  },
  {
   "cell_type": "markdown",
   "id": "47dfd34c",
   "metadata": {},
   "source": [
    "**2.4. Evaluate the performance of the tree (before and after pruning) and provide results using cross-validation**"
   ]
  },
  {
   "cell_type": "markdown",
   "id": "efc956f6",
   "metadata": {},
   "source": [
    "Create folds for the the test and training data and get the accuracy scores"
   ]
  },
  {
   "cell_type": "code",
   "execution_count": 7,
   "id": "5c59dd0d",
   "metadata": {},
   "outputs": [
    {
     "name": "stdout",
     "output_type": "stream",
     "text": [
      "Accuracy scores:\n"
     ]
    },
    {
     "data": {
      "text/plain": [
       "array([0.75572519, 0.80152672, 0.76717557, 0.70992366, 0.78927203])"
      ]
     },
     "execution_count": 7,
     "metadata": {},
     "output_type": "execute_result"
    }
   ],
   "source": [
    "# Create the cross-validation object with five folds\n",
    "k = 5\n",
    "\n",
    "kfolds = KFold(n_splits=k, random_state=None, shuffle=False)\n",
    "scores = cross_val_score(clf, X, y, cv = kfolds, scoring = \"accuracy\")\n",
    "print(\"Accuracy scores:\")\n",
    "scores"
   ]
  },
  {
   "cell_type": "code",
   "execution_count": 8,
   "id": "6e9559a3",
   "metadata": {},
   "outputs": [
    {
     "name": "stdout",
     "output_type": "stream",
     "text": [
      "Average score is 0.7647246351379018\n",
      "Standard deviation is 0.031771406682385074\n"
     ]
    }
   ],
   "source": [
    "print(f\"Average score is {scores.mean()}\")\n",
    "print(f\"Standard deviation is {scores.std()}\")"
   ]
  },
  {
   "cell_type": "markdown",
   "id": "b355feb8",
   "metadata": {},
   "source": [
    "Prune the tree, by using the max_depth, min_sample_split and min_samples_leaf as hyperparameters"
   ]
  },
  {
   "cell_type": "code",
   "execution_count": 9,
   "id": "0e8b2598",
   "metadata": {},
   "outputs": [
    {
     "data": {
      "text/html": [
       "<style>#sk-container-id-1 {color: black;}#sk-container-id-1 pre{padding: 0;}#sk-container-id-1 div.sk-toggleable {background-color: white;}#sk-container-id-1 label.sk-toggleable__label {cursor: pointer;display: block;width: 100%;margin-bottom: 0;padding: 0.3em;box-sizing: border-box;text-align: center;}#sk-container-id-1 label.sk-toggleable__label-arrow:before {content: \"▸\";float: left;margin-right: 0.25em;color: #696969;}#sk-container-id-1 label.sk-toggleable__label-arrow:hover:before {color: black;}#sk-container-id-1 div.sk-estimator:hover label.sk-toggleable__label-arrow:before {color: black;}#sk-container-id-1 div.sk-toggleable__content {max-height: 0;max-width: 0;overflow: hidden;text-align: left;background-color: #f0f8ff;}#sk-container-id-1 div.sk-toggleable__content pre {margin: 0.2em;color: black;border-radius: 0.25em;background-color: #f0f8ff;}#sk-container-id-1 input.sk-toggleable__control:checked~div.sk-toggleable__content {max-height: 200px;max-width: 100%;overflow: auto;}#sk-container-id-1 input.sk-toggleable__control:checked~label.sk-toggleable__label-arrow:before {content: \"▾\";}#sk-container-id-1 div.sk-estimator input.sk-toggleable__control:checked~label.sk-toggleable__label {background-color: #d4ebff;}#sk-container-id-1 div.sk-label input.sk-toggleable__control:checked~label.sk-toggleable__label {background-color: #d4ebff;}#sk-container-id-1 input.sk-hidden--visually {border: 0;clip: rect(1px 1px 1px 1px);clip: rect(1px, 1px, 1px, 1px);height: 1px;margin: -1px;overflow: hidden;padding: 0;position: absolute;width: 1px;}#sk-container-id-1 div.sk-estimator {font-family: monospace;background-color: #f0f8ff;border: 1px dotted black;border-radius: 0.25em;box-sizing: border-box;margin-bottom: 0.5em;}#sk-container-id-1 div.sk-estimator:hover {background-color: #d4ebff;}#sk-container-id-1 div.sk-parallel-item::after {content: \"\";width: 100%;border-bottom: 1px solid gray;flex-grow: 1;}#sk-container-id-1 div.sk-label:hover label.sk-toggleable__label {background-color: #d4ebff;}#sk-container-id-1 div.sk-serial::before {content: \"\";position: absolute;border-left: 1px solid gray;box-sizing: border-box;top: 0;bottom: 0;left: 50%;z-index: 0;}#sk-container-id-1 div.sk-serial {display: flex;flex-direction: column;align-items: center;background-color: white;padding-right: 0.2em;padding-left: 0.2em;position: relative;}#sk-container-id-1 div.sk-item {position: relative;z-index: 1;}#sk-container-id-1 div.sk-parallel {display: flex;align-items: stretch;justify-content: center;background-color: white;position: relative;}#sk-container-id-1 div.sk-item::before, #sk-container-id-1 div.sk-parallel-item::before {content: \"\";position: absolute;border-left: 1px solid gray;box-sizing: border-box;top: 0;bottom: 0;left: 50%;z-index: -1;}#sk-container-id-1 div.sk-parallel-item {display: flex;flex-direction: column;z-index: 1;position: relative;background-color: white;}#sk-container-id-1 div.sk-parallel-item:first-child::after {align-self: flex-end;width: 50%;}#sk-container-id-1 div.sk-parallel-item:last-child::after {align-self: flex-start;width: 50%;}#sk-container-id-1 div.sk-parallel-item:only-child::after {width: 0;}#sk-container-id-1 div.sk-dashed-wrapped {border: 1px dashed gray;margin: 0 0.4em 0.5em 0.4em;box-sizing: border-box;padding-bottom: 0.4em;background-color: white;}#sk-container-id-1 div.sk-label label {font-family: monospace;font-weight: bold;display: inline-block;line-height: 1.2em;}#sk-container-id-1 div.sk-label-container {text-align: center;}#sk-container-id-1 div.sk-container {/* jupyter's `normalize.less` sets `[hidden] { display: none; }` but bootstrap.min.css set `[hidden] { display: none !important; }` so we also need the `!important` here to be able to override the default hidden behavior on the sphinx rendered scikit-learn.org. See: https://github.com/scikit-learn/scikit-learn/issues/21755 */display: inline-block !important;position: relative;}#sk-container-id-1 div.sk-text-repr-fallback {display: none;}</style><div id=\"sk-container-id-1\" class=\"sk-top-container\"><div class=\"sk-text-repr-fallback\"><pre>GridSearchCV(estimator=DecisionTreeClassifier(random_state=0),\n",
       "             param_grid={&#x27;max_depth&#x27;: [2, 4, 6, 8, 10, 12],\n",
       "                         &#x27;min_samples_leaf&#x27;: [1, 2],\n",
       "                         &#x27;min_samples_split&#x27;: [2, 3, 4]})</pre><b>In a Jupyter environment, please rerun this cell to show the HTML representation or trust the notebook. <br />On GitHub, the HTML representation is unable to render, please try loading this page with nbviewer.org.</b></div><div class=\"sk-container\" hidden><div class=\"sk-item sk-dashed-wrapped\"><div class=\"sk-label-container\"><div class=\"sk-label sk-toggleable\"><input class=\"sk-toggleable__control sk-hidden--visually\" id=\"sk-estimator-id-1\" type=\"checkbox\" ><label for=\"sk-estimator-id-1\" class=\"sk-toggleable__label sk-toggleable__label-arrow\">GridSearchCV</label><div class=\"sk-toggleable__content\"><pre>GridSearchCV(estimator=DecisionTreeClassifier(random_state=0),\n",
       "             param_grid={&#x27;max_depth&#x27;: [2, 4, 6, 8, 10, 12],\n",
       "                         &#x27;min_samples_leaf&#x27;: [1, 2],\n",
       "                         &#x27;min_samples_split&#x27;: [2, 3, 4]})</pre></div></div></div><div class=\"sk-parallel\"><div class=\"sk-parallel-item\"><div class=\"sk-item\"><div class=\"sk-label-container\"><div class=\"sk-label sk-toggleable\"><input class=\"sk-toggleable__control sk-hidden--visually\" id=\"sk-estimator-id-2\" type=\"checkbox\" ><label for=\"sk-estimator-id-2\" class=\"sk-toggleable__label sk-toggleable__label-arrow\">estimator: DecisionTreeClassifier</label><div class=\"sk-toggleable__content\"><pre>DecisionTreeClassifier(random_state=0)</pre></div></div></div><div class=\"sk-serial\"><div class=\"sk-item\"><div class=\"sk-estimator sk-toggleable\"><input class=\"sk-toggleable__control sk-hidden--visually\" id=\"sk-estimator-id-3\" type=\"checkbox\" ><label for=\"sk-estimator-id-3\" class=\"sk-toggleable__label sk-toggleable__label-arrow\">DecisionTreeClassifier</label><div class=\"sk-toggleable__content\"><pre>DecisionTreeClassifier(random_state=0)</pre></div></div></div></div></div></div></div></div></div></div>"
      ],
      "text/plain": [
       "GridSearchCV(estimator=DecisionTreeClassifier(random_state=0),\n",
       "             param_grid={'max_depth': [2, 4, 6, 8, 10, 12],\n",
       "                         'min_samples_leaf': [1, 2],\n",
       "                         'min_samples_split': [2, 3, 4]})"
      ]
     },
     "execution_count": 9,
     "metadata": {},
     "output_type": "execute_result"
    }
   ],
   "source": [
    "# Define the paramters for the pruning\n",
    "params = {'max_depth' : [2,4,6,8,10,12],\n",
    "         'min_samples_split' : [2,3,4],\n",
    "         'min_samples_leaf' : [1,2]}\n",
    "\n",
    "gcv = GridSearchCV(estimator=clf, param_grid=params)\n",
    "gcv.fit(X, y)"
   ]
  },
  {
   "cell_type": "code",
   "execution_count": 10,
   "id": "bd0566eb",
   "metadata": {},
   "outputs": [
    {
     "name": "stdout",
     "output_type": "stream",
     "text": [
      "Pruned Scores: \n"
     ]
    },
    {
     "data": {
      "text/plain": [
       "array([0.80534351, 0.84732824, 0.76717557, 0.70610687, 0.72413793])"
      ]
     },
     "execution_count": 10,
     "metadata": {},
     "output_type": "execute_result"
    }
   ],
   "source": [
    "pruned_titanic_clf = gcv.best_estimator_\n",
    "\n",
    "pruned_scores = cross_val_score(pruned_titanic_clf, X, y, cv = kfolds, scoring = \"accuracy\")\n",
    "print(\"Pruned Scores: \")\n",
    "pruned_scores"
   ]
  },
  {
   "cell_type": "code",
   "execution_count": 11,
   "id": "c307d653",
   "metadata": {},
   "outputs": [
    {
     "name": "stdout",
     "output_type": "stream",
     "text": [
      "Average score is 0.770018425901553\n",
      "Standard deviation is 0.05181208017253168\n"
     ]
    }
   ],
   "source": [
    "print(f\"Average score is {pruned_scores.mean()}\")\n",
    "print(f\"Standard deviation is {pruned_scores.std()}\")"
   ]
  },
  {
   "cell_type": "markdown",
   "id": "2ff558da",
   "metadata": {},
   "source": [
    "**2.5. Compare the final tree with logistic regression and comment on the advantages and disadvantages of both. Which model is best for competing in the Kaggle competition? (5)**"
   ]
  },
  {
   "cell_type": "markdown",
   "id": "4cea096b",
   "metadata": {},
   "source": [
    "Create the logistic error model and generate its confusion matrix"
   ]
  },
  {
   "cell_type": "code",
   "execution_count": 12,
   "id": "8319bea2",
   "metadata": {},
   "outputs": [
    {
     "name": "stdout",
     "output_type": "stream",
     "text": [
      "Logit Scores: \n"
     ]
    },
    {
     "data": {
      "text/plain": [
       "array([0.79389313, 0.85496183, 0.78625954, 0.73282443, 0.77011494])"
      ]
     },
     "execution_count": 12,
     "metadata": {},
     "output_type": "execute_result"
    }
   ],
   "source": [
    "titanic_logit_model = linear_model.LogisticRegression()\n",
    "\n",
    "logit_scores = cross_val_score(titanic_logit_model, X, y.values.ravel(), cv = kfolds, scoring = \"accuracy\")\n",
    "print(\"Logit Scores: \")\n",
    "logit_scores"
   ]
  },
  {
   "cell_type": "code",
   "execution_count": 13,
   "id": "e2848f0b",
   "metadata": {},
   "outputs": [
    {
     "name": "stdout",
     "output_type": "stream",
     "text": [
      "Average score is 0.7876107747652891\n",
      "Standard deviation is 0.03971172806040522\n"
     ]
    }
   ],
   "source": [
    "print(f\"Average score is {logit_scores.mean()}\")\n",
    "print(f\"Standard deviation is {logit_scores.std()}\")"
   ]
  },
  {
   "cell_type": "markdown",
   "id": "89295c85",
   "metadata": {},
   "source": [
    "### 3. Classification using KNN"
   ]
  },
  {
   "cell_type": "markdown",
   "id": "44bd2cba",
   "metadata": {},
   "source": [
    "**3.3 Calculate the performance of the classifier versus the number of neighbors used and provide a graphic to display the result. What is the optimal number of neighbors using cross-validation?**"
   ]
  },
  {
   "cell_type": "markdown",
   "id": "544a82ec",
   "metadata": {},
   "source": [
    "Fit the initial KNN classifier with default params, and evaluate the performance using cross validation loss"
   ]
  },
  {
   "cell_type": "code",
   "execution_count": 45,
   "id": "afe3a4e0",
   "metadata": {},
   "outputs": [
    {
     "name": "stdout",
     "output_type": "stream",
     "text": [
      "KNN Initial Cross Validation Scores: \n"
     ]
    },
    {
     "data": {
      "text/plain": [
       "array([0.41603053, 0.27862595, 0.39694656, 0.29770992, 0.33716475])"
      ]
     },
     "execution_count": 45,
     "metadata": {},
     "output_type": "execute_result"
    }
   ],
   "source": [
    "knn = KNeighborsClassifier(n_neighbors = 3)\n",
    "# Calaulate the cross-validation loss using the mean absolute error metric\n",
    "neg_init_knn_scores = cross_val_score(knn, X, y.values.ravel(), \n",
    "                                  scoring='neg_mean_absolute_error')\n",
    "\n",
    "# Convert the negative values to positive values\n",
    "init_knn_scores = np.abs(neg_init_knn_scores)\n",
    "print(\"KNN Initial Cross Validation Scores: \")\n",
    "init_knn_scores"
   ]
  },
  {
   "cell_type": "code",
   "execution_count": 46,
   "id": "1f5952d9",
   "metadata": {},
   "outputs": [
    {
     "name": "stdout",
     "output_type": "stream",
     "text": [
      "Average cross-validation loss is 0.34529554561141823\n"
     ]
    }
   ],
   "source": [
    "print(f\"Average cross-validation loss is {init_knn_scores.mean()}\")"
   ]
  },
  {
   "cell_type": "markdown",
   "id": "421bf8e9",
   "metadata": {},
   "source": [
    "Fine Tuning the classifier by varying the number of neighbours"
   ]
  },
  {
   "cell_type": "code",
   "execution_count": 53,
   "id": "1c3e8c75",
   "metadata": {},
   "outputs": [
    {
     "data": {
      "text/plain": [
       "[0.36210991196513703,\n",
       " 0.3468427363926179,\n",
       " 0.34529554561141823,\n",
       " 0.33691907227048057,\n",
       " 0.350662455032026,\n",
       " 0.34378930127811413,\n",
       " 0.3407358661636103,\n",
       " 0.3476119446638004,\n",
       " 0.3613465531865111,\n",
       " 0.3499107952385131,\n",
       " 0.34609400134538326,\n",
       " 0.34532479307420083,\n",
       " 0.3552543066888948,\n",
       " 0.35372466438536454,\n",
       " 0.35448509841771225,\n",
       " 0.3476177941563569,\n",
       " 0.35296130560673855,\n",
       " 0.3491474364598871,\n",
       " 0.34685736012400925,\n",
       " 0.3491474364598871]"
      ]
     },
     "execution_count": 53,
     "metadata": {},
     "output_type": "execute_result"
    }
   ],
   "source": [
    "num_neighbors = 1\n",
    "tuned_loss_scores = []\n",
    "\n",
    "while num_neighbors <= 20:\n",
    "    tuned_knn = KNeighborsClassifier(n_neighbors = num_neighbors)\n",
    "    neg_knn_scores = cross_val_score(tuned_knn, X, y.values.ravel(), \n",
    "                                  scoring='neg_mean_absolute_error')\n",
    "    knn_scores = np.abs(neg_knn_scores)\n",
    "    tuned_loss_scores.append(knn_scores.mean())\n",
    "    num_neighbors += 1\n",
    "    \n",
    "tuned_loss_scores"
   ]
  },
  {
   "cell_type": "markdown",
   "id": "97dbccc3",
   "metadata": {},
   "source": [
    "Find the optimal number of neighbors"
   ]
  },
  {
   "cell_type": "code",
   "execution_count": 60,
   "id": "8b9c6a92",
   "metadata": {},
   "outputs": [
    {
     "name": "stdout",
     "output_type": "stream",
     "text": [
      "Optimal number of neighbors is 4\n"
     ]
    }
   ],
   "source": [
    "minimum_val = min(tuned_loss_scores)\n",
    "optimal_num_neighbors = tuned_loss_scores.index(minimum_val) + 1\n",
    "print(f\"Optimal number of neighbors is {optimal_num_neighbors}\")"
   ]
  },
  {
   "cell_type": "markdown",
   "id": "c53a838d",
   "metadata": {},
   "source": [
    "Plot the graph of cross-validation losses"
   ]
  },
  {
   "cell_type": "code",
   "execution_count": 84,
   "id": "fbf97208",
   "metadata": {},
   "outputs": [
    {
     "data": {
      "image/png": "[encoded data removed]",
      "text/plain": [
       "<Figure size 1000x600 with 1 Axes>"
      ]
     },
     "metadata": {},
     "output_type": "display_data"
    }
   ],
   "source": [
    "# Create an array for the x-values\n",
    "indices = np.arange(1, len(tuned_loss_scores) + 1)\n",
    "\n",
    "# Get the index of the minimum value\n",
    "minimum_index = tuned_loss_scores.index(minimum_val) + 1\n",
    "\n",
    "# Plot the data\n",
    "plt.figure(figsize = (10,6))\n",
    "plt.plot(indices, tuned_loss_scores, linestyle='-')\n",
    "plt.title(\"Cross-Validation Loss Scores\")\n",
    "plt.xlabel('Number of Neighbors')\n",
    "plt.ylabel('Cross-Validation Loss')\n",
    "\n",
    "# Annotate the maximum value with a marker\n",
    "plt.plot(minimum_index, minimum_val, label=\"Optimal Number of Neighbors\", marker=\"o\", color=\"#008000\")\n",
    "plt.annotate('Minumum Cross-Validation Loss', xy = (minimum_index, minimum_val), ha=\"left\")\n",
    "\n",
    "plt.grid(True)\n",
    "plt.show()"
   ]
  },
  {
   "cell_type": "markdown",
   "id": "458a0728",
   "metadata": {},
   "source": [
    "**3.4 Explain why some distance metrics are sensitive to the kind of features used. Evaluate the performance using different distance metrics**"
   ]
  },
  {
   "cell_type": "code",
   "execution_count": 85,
   "id": "5fd86689",
   "metadata": {},
   "outputs": [],
   "source": [
    "#DA EXPLANATION"
   ]
  },
  {
   "cell_type": "markdown",
   "id": "b530ddf5",
   "metadata": {},
   "source": [
    "Evaluate the performance of the model with the optimal number of neighbors and a set of metrics"
   ]
  },
  {
   "cell_type": "code",
   "execution_count": 96,
   "id": "fff21d47",
   "metadata": {
    "scrolled": false
   },
   "outputs": [
    {
     "data": {
      "text/plain": [
       "{'chebyshev': 0.3995203416103653,\n",
       " 'euclidean': 0.33691907227048057,\n",
       " 'hamming': 0.3857681846099851,\n",
       " 'manhattan': 0.3369190722704805}"
      ]
     },
     "execution_count": 96,
     "metadata": {},
     "output_type": "execute_result"
    }
   ],
   "source": [
    "knn_metrics = ['chebyshev', 'euclidean', 'hamming', 'manhattan']\n",
    "\n",
    "metrics_dict = {}\n",
    "for knn_metric in knn_metrics:\n",
    "    knn_test_metric = KNeighborsClassifier(n_neighbors = optimal_num_neighbors, metric = knn_metric)\n",
    "    \n",
    "    # Calaulate the cross-validation loss using the mean absolute error metric\n",
    "    neg_metric_knn_scores = cross_val_score(knn_test_metric, X, y.values.ravel(), \n",
    "                                  scoring='neg_mean_absolute_error')\n",
    "    metric_knn_scores = np.abs(neg_metric_knn_scores)\n",
    "    metrics_dict[knn_metric] = metric_knn_scores.mean()\n",
    "metrics_dict"
   ]
  },
  {
   "cell_type": "markdown",
   "id": "3ccea3b4",
   "metadata": {},
   "source": [
    "**3.5 Compare the best KNN classifier with logistic regression and comment on the advantages and disadvantages of both. Which model is best for competing in the Kaggle competition?**"
   ]
  },
  {
   "cell_type": "code",
   "execution_count": 98,
   "id": "70001dae",
   "metadata": {},
   "outputs": [
    {
     "name": "stdout",
     "output_type": "stream",
     "text": [
      "Accuracy score from KNN classifier with 4 neighbors is 0.6630809277295194\n"
     ]
    }
   ],
   "source": [
    "# Get the performance of the KNN classifier\n",
    "knn_optimized = KNeighborsClassifier(n_neighbors = optimal_num_neighbors)\n",
    "\n",
    "# Calaulate the cross-validation loss using the mean absolute error metric\n",
    "neg_optimized_knn_scores = cross_val_score(knn_optimized, X, y.values.ravel())\n",
    "optimized_knn_scores = np.abs(neg_optimized_knn_scores)\n",
    "print(f\"Accuracy score from KNN classifier with {optimal_num_neighbors} neighbors is {optimized_knn_scores.mean()}\")"
   ]
  },
  {
   "cell_type": "code",
   "execution_count": 101,
   "id": "86f68e9f",
   "metadata": {},
   "outputs": [
    {
     "name": "stdout",
     "output_type": "stream",
     "text": [
      "Accuracy score from Logistic Regression classifier is 0.7027931326957386\n"
     ]
    }
   ],
   "source": [
    "# Get the performance of the Logistic Regression classifier\n",
    "titanic_logit_model = linear_model.LogisticRegression()\n",
    "logit_scores = cross_val_score(titanic_logit_model, X, y.values.ravel(), scoring = \"accuracy\")\n",
    "print(f\"Accuracy score from Logistic Regression classifier is {logit_scores.mean()}\")"
   ]
  },
  {
   "cell_type": "code",
   "execution_count": 102,
   "id": "cb944143",
   "metadata": {},
   "outputs": [
    {
     "name": "stdout",
     "output_type": "stream",
     "text": [
      "0.6631\n",
      "0.7028\n"
     ]
    }
   ],
   "source": [
    "# Calculate the rounded off scores for the comparison comment\n",
    "print(round(optimized_knn_scores.mean(), 4))\n",
    "print(round(logit_scores.mean(), 4))"
   ]
  },
  {
   "cell_type": "markdown",
   "id": "3061d9d0",
   "metadata": {},
   "source": [
    "The Logistic Regression classifier has an accuracy score of approximately 0.6631 while the KNN classifier has an accuracy score of approximately 0.7028. Therefore, we can conclude that the Logistic Regression classifier has a better classification accuracy.\n",
    "\n",
    "**Advantages of KNN Classifier**\n",
    "\n",
    "**Disadvantages of KNN Classifier**\n",
    "\n",
    "**Advantages of Logistic Regression Classifier**\n",
    "\n",
    "**Disadvantages of Logistic Regression Classifier**"
   ]
  },
  {
   "cell_type": "markdown",
   "id": "68bf8bae",
   "metadata": {},
   "source": [
    "### 4. Regression – wine quality"
   ]
  },
  {
   "cell_type": "markdown",
   "id": "b54db3de",
   "metadata": {},
   "source": [
    "The wine quality database provides information about the quality of wine. There are two\n",
    "datasets, one for red wine and one for white wine, which contain quality ratings, from one to\n",
    "ten, along with their physical and chemical properties. The challenge is to use these features\n",
    "to predict the rating for a wine and to assess performance. It is advisable to study white and\n",
    "red wine separately:"
   ]
  },
  {
   "cell_type": "markdown",
   "id": "30bd8ec9",
   "metadata": {},
   "source": [
    "**4.1 Calculate the average of each feature for the red and white wines separately and make a comparison using a bar graph showing the two wines together. How do the results relate to common sense (or the intuition of a wine expert) based on the features that are available?**"
   ]
  },
  {
   "cell_type": "markdown",
   "id": "0df6a555",
   "metadata": {},
   "source": [
    "Load and find the mean values"
   ]
  },
  {
   "cell_type": "code",
   "execution_count": 14,
   "id": "3eef7e5d",
   "metadata": {
    "scrolled": false
   },
   "outputs": [
    {
     "data": {
      "text/html": [
       "<div>\n",
       "<style scoped>\n",
       "    .dataframe tbody tr th:only-of-type {\n",
       "        vertical-align: middle;\n",
       "    }\n",
       "\n",
       "    .dataframe tbody tr th {\n",
       "        vertical-align: top;\n",
       "    }\n",
       "\n",
       "    .dataframe thead th {\n",
       "        text-align: right;\n",
       "    }\n",
       "</style>\n",
       "<table border=\"1\" class=\"dataframe\">\n",
       "  <thead>\n",
       "    <tr style=\"text-align: right;\">\n",
       "      <th></th>\n",
       "      <th>fixed acidity</th>\n",
       "      <th>volatile acidity</th>\n",
       "      <th>citric acid</th>\n",
       "      <th>residual sugar</th>\n",
       "      <th>chlorides</th>\n",
       "      <th>free sulfur dioxide</th>\n",
       "      <th>total sulfur dioxide</th>\n",
       "      <th>density</th>\n",
       "      <th>pH</th>\n",
       "      <th>sulphates</th>\n",
       "      <th>alcohol</th>\n",
       "      <th>quality</th>\n",
       "    </tr>\n",
       "  </thead>\n",
       "  <tbody>\n",
       "    <tr>\n",
       "      <th>0</th>\n",
       "      <td>7.0</td>\n",
       "      <td>0.27</td>\n",
       "      <td>0.36</td>\n",
       "      <td>20.7</td>\n",
       "      <td>0.045</td>\n",
       "      <td>45.0</td>\n",
       "      <td>170.0</td>\n",
       "      <td>1.0010</td>\n",
       "      <td>3.00</td>\n",
       "      <td>0.45</td>\n",
       "      <td>8.8</td>\n",
       "      <td>6</td>\n",
       "    </tr>\n",
       "    <tr>\n",
       "      <th>1</th>\n",
       "      <td>6.3</td>\n",
       "      <td>0.30</td>\n",
       "      <td>0.34</td>\n",
       "      <td>1.6</td>\n",
       "      <td>0.049</td>\n",
       "      <td>14.0</td>\n",
       "      <td>132.0</td>\n",
       "      <td>0.9940</td>\n",
       "      <td>3.30</td>\n",
       "      <td>0.49</td>\n",
       "      <td>9.5</td>\n",
       "      <td>6</td>\n",
       "    </tr>\n",
       "    <tr>\n",
       "      <th>2</th>\n",
       "      <td>8.1</td>\n",
       "      <td>0.28</td>\n",
       "      <td>0.40</td>\n",
       "      <td>6.9</td>\n",
       "      <td>0.050</td>\n",
       "      <td>30.0</td>\n",
       "      <td>97.0</td>\n",
       "      <td>0.9951</td>\n",
       "      <td>3.26</td>\n",
       "      <td>0.44</td>\n",
       "      <td>10.1</td>\n",
       "      <td>6</td>\n",
       "    </tr>\n",
       "    <tr>\n",
       "      <th>3</th>\n",
       "      <td>7.2</td>\n",
       "      <td>0.23</td>\n",
       "      <td>0.32</td>\n",
       "      <td>8.5</td>\n",
       "      <td>0.058</td>\n",
       "      <td>47.0</td>\n",
       "      <td>186.0</td>\n",
       "      <td>0.9956</td>\n",
       "      <td>3.19</td>\n",
       "      <td>0.40</td>\n",
       "      <td>9.9</td>\n",
       "      <td>6</td>\n",
       "    </tr>\n",
       "    <tr>\n",
       "      <th>4</th>\n",
       "      <td>7.2</td>\n",
       "      <td>0.23</td>\n",
       "      <td>0.32</td>\n",
       "      <td>8.5</td>\n",
       "      <td>0.058</td>\n",
       "      <td>47.0</td>\n",
       "      <td>186.0</td>\n",
       "      <td>0.9956</td>\n",
       "      <td>3.19</td>\n",
       "      <td>0.40</td>\n",
       "      <td>9.9</td>\n",
       "      <td>6</td>\n",
       "    </tr>\n",
       "  </tbody>\n",
       "</table>\n",
       "</div>"
      ],
      "text/plain": [
       "   fixed acidity  volatile acidity  citric acid  residual sugar  chlorides  \\\n",
       "0            7.0              0.27         0.36            20.7      0.045   \n",
       "1            6.3              0.30         0.34             1.6      0.049   \n",
       "2            8.1              0.28         0.40             6.9      0.050   \n",
       "3            7.2              0.23         0.32             8.5      0.058   \n",
       "4            7.2              0.23         0.32             8.5      0.058   \n",
       "\n",
       "   free sulfur dioxide  total sulfur dioxide  density    pH  sulphates  \\\n",
       "0                 45.0                 170.0   1.0010  3.00       0.45   \n",
       "1                 14.0                 132.0   0.9940  3.30       0.49   \n",
       "2                 30.0                  97.0   0.9951  3.26       0.44   \n",
       "3                 47.0                 186.0   0.9956  3.19       0.40   \n",
       "4                 47.0                 186.0   0.9956  3.19       0.40   \n",
       "\n",
       "   alcohol  quality  \n",
       "0      8.8        6  \n",
       "1      9.5        6  \n",
       "2     10.1        6  \n",
       "3      9.9        6  \n",
       "4      9.9        6  "
      ]
     },
     "execution_count": 14,
     "metadata": {},
     "output_type": "execute_result"
    }
   ],
   "source": [
    "white_wine_data = pd.read_csv('winequality-white.csv', delimiter=\";\")\n",
    "white_wine_mean = white_wine_data.mean()\n",
    "white_wine_data.head()"
   ]
  },
  {
   "cell_type": "code",
   "execution_count": 15,
   "id": "91d73632",
   "metadata": {},
   "outputs": [
    {
     "data": {
      "text/html": [
       "<div>\n",
       "<style scoped>\n",
       "    .dataframe tbody tr th:only-of-type {\n",
       "        vertical-align: middle;\n",
       "    }\n",
       "\n",
       "    .dataframe tbody tr th {\n",
       "        vertical-align: top;\n",
       "    }\n",
       "\n",
       "    .dataframe thead th {\n",
       "        text-align: right;\n",
       "    }\n",
       "</style>\n",
       "<table border=\"1\" class=\"dataframe\">\n",
       "  <thead>\n",
       "    <tr style=\"text-align: right;\">\n",
       "      <th></th>\n",
       "      <th>fixed acidity</th>\n",
       "      <th>volatile acidity</th>\n",
       "      <th>citric acid</th>\n",
       "      <th>residual sugar</th>\n",
       "      <th>chlorides</th>\n",
       "      <th>free sulfur dioxide</th>\n",
       "      <th>total sulfur dioxide</th>\n",
       "      <th>density</th>\n",
       "      <th>pH</th>\n",
       "      <th>sulphates</th>\n",
       "      <th>alcohol</th>\n",
       "      <th>quality</th>\n",
       "    </tr>\n",
       "  </thead>\n",
       "  <tbody>\n",
       "    <tr>\n",
       "      <th>0</th>\n",
       "      <td>7.4</td>\n",
       "      <td>0.70</td>\n",
       "      <td>0.00</td>\n",
       "      <td>1.9</td>\n",
       "      <td>0.076</td>\n",
       "      <td>11.0</td>\n",
       "      <td>34.0</td>\n",
       "      <td>0.9978</td>\n",
       "      <td>3.51</td>\n",
       "      <td>0.56</td>\n",
       "      <td>9.4</td>\n",
       "      <td>5</td>\n",
       "    </tr>\n",
       "    <tr>\n",
       "      <th>1</th>\n",
       "      <td>7.8</td>\n",
       "      <td>0.88</td>\n",
       "      <td>0.00</td>\n",
       "      <td>2.6</td>\n",
       "      <td>0.098</td>\n",
       "      <td>25.0</td>\n",
       "      <td>67.0</td>\n",
       "      <td>0.9968</td>\n",
       "      <td>3.20</td>\n",
       "      <td>0.68</td>\n",
       "      <td>9.8</td>\n",
       "      <td>5</td>\n",
       "    </tr>\n",
       "    <tr>\n",
       "      <th>2</th>\n",
       "      <td>7.8</td>\n",
       "      <td>0.76</td>\n",
       "      <td>0.04</td>\n",
       "      <td>2.3</td>\n",
       "      <td>0.092</td>\n",
       "      <td>15.0</td>\n",
       "      <td>54.0</td>\n",
       "      <td>0.9970</td>\n",
       "      <td>3.26</td>\n",
       "      <td>0.65</td>\n",
       "      <td>9.8</td>\n",
       "      <td>5</td>\n",
       "    </tr>\n",
       "    <tr>\n",
       "      <th>3</th>\n",
       "      <td>11.2</td>\n",
       "      <td>0.28</td>\n",
       "      <td>0.56</td>\n",
       "      <td>1.9</td>\n",
       "      <td>0.075</td>\n",
       "      <td>17.0</td>\n",
       "      <td>60.0</td>\n",
       "      <td>0.9980</td>\n",
       "      <td>3.16</td>\n",
       "      <td>0.58</td>\n",
       "      <td>9.8</td>\n",
       "      <td>6</td>\n",
       "    </tr>\n",
       "    <tr>\n",
       "      <th>4</th>\n",
       "      <td>7.4</td>\n",
       "      <td>0.70</td>\n",
       "      <td>0.00</td>\n",
       "      <td>1.9</td>\n",
       "      <td>0.076</td>\n",
       "      <td>11.0</td>\n",
       "      <td>34.0</td>\n",
       "      <td>0.9978</td>\n",
       "      <td>3.51</td>\n",
       "      <td>0.56</td>\n",
       "      <td>9.4</td>\n",
       "      <td>5</td>\n",
       "    </tr>\n",
       "  </tbody>\n",
       "</table>\n",
       "</div>"
      ],
      "text/plain": [
       "   fixed acidity  volatile acidity  citric acid  residual sugar  chlorides  \\\n",
       "0            7.4              0.70         0.00             1.9      0.076   \n",
       "1            7.8              0.88         0.00             2.6      0.098   \n",
       "2            7.8              0.76         0.04             2.3      0.092   \n",
       "3           11.2              0.28         0.56             1.9      0.075   \n",
       "4            7.4              0.70         0.00             1.9      0.076   \n",
       "\n",
       "   free sulfur dioxide  total sulfur dioxide  density    pH  sulphates  \\\n",
       "0                 11.0                  34.0   0.9978  3.51       0.56   \n",
       "1                 25.0                  67.0   0.9968  3.20       0.68   \n",
       "2                 15.0                  54.0   0.9970  3.26       0.65   \n",
       "3                 17.0                  60.0   0.9980  3.16       0.58   \n",
       "4                 11.0                  34.0   0.9978  3.51       0.56   \n",
       "\n",
       "   alcohol  quality  \n",
       "0      9.4        5  \n",
       "1      9.8        5  \n",
       "2      9.8        5  \n",
       "3      9.8        6  \n",
       "4      9.4        5  "
      ]
     },
     "execution_count": 15,
     "metadata": {},
     "output_type": "execute_result"
    }
   ],
   "source": [
    "red_wine_data = pd.read_csv('winequality-red.csv',  delimiter=\";\")\n",
    "red_wine_mean = red_wine_data.mean()\n",
    "red_wine_data.head()"
   ]
  },
  {
   "cell_type": "markdown",
   "id": "bb7eddf8",
   "metadata": {},
   "source": [
    "Plot the data"
   ]
  },
  {
   "cell_type": "code",
   "execution_count": 16,
   "id": "db6efda9",
   "metadata": {},
   "outputs": [
    {
     "data": {
      "image/png": "[encoded data removed]",
      "text/plain": [
       "<Figure size 640x480 with 1 Axes>"
      ]
     },
     "metadata": {},
     "output_type": "display_data"
    }
   ],
   "source": [
    "mean_df = pd.DataFrame({\"White Wine\":white_wine_mean,\"Red Wine\":red_wine_mean})\n",
    "ax = mean_df.plot.bar(color=[\"SkyBlue\",\"IndianRed\"], rot=90, \n",
    "                 title=\"Wine Average Features\")\n",
    "ax.set_xlabel(\"Feature\")\n",
    "ax.set_ylabel(\"Value\")\n",
    "plt.show()"
   ]
  },
  {
   "cell_type": "markdown",
   "id": "a1b4977a",
   "metadata": {},
   "source": [
    "**4.2 What is the correlation between each feature and the dependent variable using a separate analysis for white and red wine? Which variable is most relevant for each wine?**"
   ]
  },
  {
   "cell_type": "code",
   "execution_count": 17,
   "id": "5862b7cb",
   "metadata": {},
   "outputs": [
    {
     "ename": "SyntaxError",
     "evalue": "invalid syntax (2438985989.py, line 1)",
     "output_type": "error",
     "traceback": [
      "\u001b[1;36m  Cell \u001b[1;32mIn[17], line 1\u001b[1;36m\u001b[0m\n\u001b[1;33m    white_wine_corr =\u001b[0m\n\u001b[1;37m                      ^\u001b[0m\n\u001b[1;31mSyntaxError\u001b[0m\u001b[1;31m:\u001b[0m invalid syntax\n"
     ]
    }
   ],
   "source": [
    "white_wine_corr = "
   ]
  },
  {
   "cell_type": "markdown",
   "id": "5f51572b",
   "metadata": {},
   "source": [
    "**4.3 Use Lasso and cross-validation to provide a plot of MSE against lambda and the parameter estimates versus lambda. How do the features selected by LASSO compare with an approach of setting a threshold on the absolute correlation coefficient?**"
   ]
  },
  {
   "cell_type": "markdown",
   "id": "3b6db5d3",
   "metadata": {},
   "source": [
    "**4.4 Use the features identified by LASSO to construct a KNN regression model for red wine**"
   ]
  },
  {
   "cell_type": "markdown",
   "id": "d2756e65",
   "metadata": {},
   "source": [
    "**4.5 What is the performance of a linear regression model and the KNN model, measured by MSE and R2? Describe the advantages and disadvantages of both models**"
   ]
  }
 ],
 "metadata": {
  "kernelspec": {
   "display_name": "Python 3 (ipykernel)",
   "language": "python",
   "name": "python3"
  },
  "language_info": {
   "codemirror_mode": {
    "name": "ipython",
    "version": 3
   },
   "file_extension": ".py",
   "mimetype": "text/x-python",
   "name": "python",
   "nbconvert_exporter": "python",
   "pygments_lexer": "ipython3",
   "version": "3.11.4"
  }
 },
 "nbformat": 4,
 "nbformat_minor": 5
}
