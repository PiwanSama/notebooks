{
 "cells": [
  {
   "cell_type": "markdown",
   "id": "e9821df3",
   "metadata": {},
   "source": [
    "# Fundamentals \n",
    "<OL>\n",
    "    <li><h5>Variables</h5>\n",
    "    <li><h5>Literals</h5>\n",
    "    <li><h5>Interactive Input</h5>\n",
    "    <li><h5>Branching Control Flow</h5>\n",
    "    <li><h5>Looping Control Flow</h5>\n",
    "</OL>"
   ]
  },
  {
   "cell_type": "markdown",
   "id": "f1a552d7",
   "metadata": {},
   "source": [
    "#### Variables and Assignment"
   ]
  },
  {
   "cell_type": "code",
   "execution_count": null,
   "id": "3f0f38fe",
   "metadata": {},
   "outputs": [],
   "source": [
    "#variable_name=value, e.g.\n",
    "num=10 #LHS-variable name; RHS-expression e.g. literal\n",
    "num"
   ]
  },
  {
   "cell_type": "code",
   "execution_count": null,
   "id": "62cc9b61",
   "metadata": {},
   "outputs": [],
   "source": [
    "x, y=10,12 #binds 10 to x, 12 to y"
   ]
  },
  {
   "cell_type": "code",
   "execution_count": null,
   "id": "e86a4824",
   "metadata": {},
   "outputs": [],
   "source": [
    "x"
   ]
  },
  {
   "cell_type": "code",
   "execution_count": null,
   "id": "a1fe8900",
   "metadata": {},
   "outputs": [],
   "source": [
    "y"
   ]
  },
  {
   "cell_type": "code",
   "execution_count": null,
   "id": "3bb5e297",
   "metadata": {},
   "outputs": [],
   "source": [
    "num=10\n",
    "num"
   ]
  },
  {
   "cell_type": "code",
   "execution_count": null,
   "id": "c811432c",
   "metadata": {},
   "outputs": [],
   "source": [
    "num=100\n",
    "num"
   ]
  },
  {
   "cell_type": "markdown",
   "id": "1b64054e",
   "metadata": {},
   "source": [
    "# Interactive Input (including data conversion)"
   ]
  },
  {
   "cell_type": "code",
   "execution_count": null,
   "id": "fd870767",
   "metadata": {},
   "outputs": [],
   "source": [
    "#variable_name=input(prompt), e.g.\n",
    "age=input(\"enter your age: \");\n",
    "age\n"
   ]
  },
  {
   "cell_type": "code",
   "execution_count": null,
   "id": "97cc2212",
   "metadata": {},
   "outputs": [],
   "source": [
    "age=eval(input(\"enter your age: \"));\n",
    "age\n"
   ]
  },
  {
   "cell_type": "code",
   "execution_count": null,
   "id": "2610f99e",
   "metadata": {},
   "outputs": [],
   "source": [
    "age=int(input(\"enter your age: \"));\n",
    "age"
   ]
  },
  {
   "cell_type": "code",
   "execution_count": null,
   "id": "32058721",
   "metadata": {},
   "outputs": [],
   "source": [
    "weight=float(input(\"enter your weight in kgs: \"));\n",
    "weight"
   ]
  },
  {
   "cell_type": "code",
   "execution_count": null,
   "id": "f717f2ff",
   "metadata": {},
   "outputs": [],
   "source": [
    "result=eval(input(\"enter a mathematical expression: \"));\n",
    "result"
   ]
  },
  {
   "cell_type": "markdown",
   "id": "dd700cf1",
   "metadata": {},
   "source": [
    "#### Testing comparison and logical operators"
   ]
  },
  {
   "cell_type": "code",
   "execution_count": null,
   "id": "81cab23f",
   "metadata": {},
   "outputs": [],
   "source": [
    "not 7>3 or 4 == 4"
   ]
  },
  {
   "cell_type": "code",
   "execution_count": null,
   "id": "064b51e6",
   "metadata": {},
   "outputs": [],
   "source": [
    "7>3 and 2<6"
   ]
  },
  {
   "cell_type": "code",
   "execution_count": null,
   "id": "d118b6b7",
   "metadata": {},
   "outputs": [],
   "source": [
    "not(7>3 and 2<6)"
   ]
  },
  {
   "cell_type": "markdown",
   "id": "0ad0883d",
   "metadata": {},
   "source": [
    "#### Interactive Input and Branching Flow"
   ]
  },
  {
   "cell_type": "code",
   "execution_count": null,
   "id": "e2874653",
   "metadata": {},
   "outputs": [],
   "source": [
    "age=int(input(\"Enter your age:\"))\n",
    "if age>=40:\n",
    "    print(age, \", you are too old\")\n",
    "elif age>=20:\n",
    "    print(age, \", you are a young adult\")\n",
    "else:\n",
    "    print(age, \", you are too young\")\n"
   ]
  },
  {
   "cell_type": "markdown",
   "id": "f8b7b95c",
   "metadata": {},
   "source": [
    "#### Looping Control"
   ]
  },
  {
   "cell_type": "code",
   "execution_count": null,
   "id": "2d3b8fd8",
   "metadata": {},
   "outputs": [],
   "source": [
    "count=1\n",
    "sum=0\n",
    "while count<=3:\n",
    "    sum=sum+count\n",
    "    count=count+1\n",
    "print(\"Sum: \", sum)\n"
   ]
  },
  {
   "cell_type": "code",
   "execution_count": null,
   "id": "2d6a7188",
   "metadata": {},
   "outputs": [],
   "source": [
    "import math\n",
    "count=1\n",
    "while count<=10:\n",
    "    print(count, \"cube:\", math.pow(count, 3))\n",
    "    count=count+1\n"
   ]
  },
  {
   "cell_type": "code",
   "execution_count": null,
   "id": "3174b068",
   "metadata": {},
   "outputs": [],
   "source": [
    "surnames = [\"Kimani\", \"Ike\", \"Ishimiwe\"] #list of surnames\n",
    "for surname in surnames:\n",
    "  print(surname)\n"
   ]
  },
  {
   "cell_type": "markdown",
   "id": "c75ea5a6",
   "metadata": {},
   "source": [
    "# Fundamentals \n",
    "<ol>\n",
    "    <li><h5>Functions</h5>\n",
    "    <li><h5>Sequences</h5>\n",
    "    <ul>\n",
    "    <li>Strings\n",
    "    <li>Tuples\n",
    "    <li>Lists\n",
    "    </ul>\n",
    "    </li>\n",
    "    <li><h5>Collections</h5>\n",
    "    <ul>\n",
    "    <li>Dictionaries\n",
    "    <li>Sets      \n",
    "    </ul>\n",
    "    </li>\n",
    "</ol>"
   ]
  },
  {
   "cell_type": "markdown",
   "id": "82bc8083",
   "metadata": {},
   "source": [
    "#### Functions"
   ]
  },
  {
   "cell_type": "code",
   "execution_count": null,
   "id": "7686e237",
   "metadata": {},
   "outputs": [],
   "source": [
    "import math\n",
    "\n",
    "def compute_area(radius):\n",
    "    \"\"\"\n",
    "    Computes and returns the area given the radius\n",
    "\n",
    "    Parameters: radius : float.\n",
    "    Returns: float.\n",
    "\n",
    "    \"\"\"\n",
    "    return math.pi*math.pow(radius,2)"
   ]
  },
  {
   "cell_type": "code",
   "execution_count": null,
   "id": "bb6ab57d",
   "metadata": {},
   "outputs": [],
   "source": [
    "def compute_circumference(radius):\n",
    "    \"\"\"\n",
    "    Computes and returns the circumference\n",
    "    Parameters: radius : float.\n",
    "    Returns: float.\n",
    "    \"\"\"\n",
    "    return 2*math.pi*radius\n"
   ]
  },
  {
   "cell_type": "code",
   "execution_count": null,
   "id": "b81f01e0",
   "metadata": {},
   "outputs": [],
   "source": [
    "def main():\n",
    "    \"\"\"\n",
    "    Requests for the radius and calls functions to compute area and perimeter.\n",
    "    \"\"\"\n",
    "    radius=float(input('Enter radius of circle: '))\n",
    "    #compute and print area and circumference\n",
    "    print(\"Radius:\", radius,\", Area:\",compute_area(radius), \\\n",
    "          \", Circumference:\",compute_circumference(radius))\n"
   ]
  },
  {
   "cell_type": "code",
   "execution_count": null,
   "id": "0735ce70",
   "metadata": {},
   "outputs": [],
   "source": [
    "main()"
   ]
  },
  {
   "cell_type": "markdown",
   "id": "5fd76960",
   "metadata": {},
   "source": [
    "###### Retrieve documentation--use \"\\__doc\\__\" attribute,  help function, or ?"
   ]
  },
  {
   "cell_type": "code",
   "execution_count": null,
   "id": "be1a1a79",
   "metadata": {},
   "outputs": [],
   "source": [
    "print(compute_area.__doc__)"
   ]
  },
  {
   "cell_type": "code",
   "execution_count": null,
   "id": "9fc5a231",
   "metadata": {},
   "outputs": [],
   "source": []
  },
  {
   "cell_type": "code",
   "execution_count": null,
   "id": "0f3f2b9e",
   "metadata": {},
   "outputs": [],
   "source": [
    "print(compute_circumference.__doc__)"
   ]
  },
  {
   "cell_type": "code",
   "execution_count": null,
   "id": "57261afa",
   "metadata": {},
   "outputs": [],
   "source": [
    "print(main.__doc__)"
   ]
  },
  {
   "cell_type": "code",
   "execution_count": null,
   "id": "a15d9fb5",
   "metadata": {},
   "outputs": [],
   "source": [
    "help(compute_area)"
   ]
  },
  {
   "cell_type": "code",
   "execution_count": null,
   "id": "9aff971c",
   "metadata": {},
   "outputs": [],
   "source": [
    "help(compute_circumference)"
   ]
  },
  {
   "cell_type": "code",
   "execution_count": null,
   "id": "8f6ce6d7",
   "metadata": {},
   "outputs": [],
   "source": [
    "help(main)"
   ]
  },
  {
   "cell_type": "code",
   "execution_count": null,
   "id": "88ee56cb",
   "metadata": {},
   "outputs": [],
   "source": [
    "help(math.pow)"
   ]
  },
  {
   "cell_type": "code",
   "execution_count": null,
   "id": "a15370f1",
   "metadata": {},
   "outputs": [],
   "source": [
    "compute_circumference?"
   ]
  },
  {
   "cell_type": "code",
   "execution_count": null,
   "id": "812982bf",
   "metadata": {},
   "outputs": [],
   "source": [
    "main?"
   ]
  },
  {
   "cell_type": "code",
   "execution_count": null,
   "id": "f4bb1604",
   "metadata": {},
   "outputs": [],
   "source": [
    "help(min)"
   ]
  },
  {
   "cell_type": "code",
   "execution_count": null,
   "id": "58997e3e",
   "metadata": {},
   "outputs": [],
   "source": [
    "def fn_demo(x,y,z=10): \n",
    "    \"\"\"\n",
    "    fn_demo uses both keyword and default arguments\n",
    "    \"\"\"\n",
    "    print(x//y+z)\n"
   ]
  },
  {
   "cell_type": "code",
   "execution_count": null,
   "id": "43894469",
   "metadata": {},
   "outputs": [],
   "source": [
    "fn_demo(10,4) #10//4+10==2+10---uses positional arguments and default arguments"
   ]
  },
  {
   "cell_type": "code",
   "execution_count": null,
   "id": "c2876a2f",
   "metadata": {},
   "outputs": [],
   "source": [
    "fn_demo(y=12,x=7) #7//12+10---0+10---uses keyword arguments and default arguments"
   ]
  },
  {
   "cell_type": "code",
   "execution_count": null,
   "id": "2de7c19b",
   "metadata": {},
   "outputs": [],
   "source": [
    "fn_demo(y=3,x=7, z=2) #7//3+2---2+2---uses keyword arguments"
   ]
  },
  {
   "cell_type": "markdown",
   "id": "322858a2",
   "metadata": {},
   "source": [
    "###### Using Variable Arguments"
   ]
  },
  {
   "cell_type": "code",
   "execution_count": null,
   "id": "d576aa53",
   "metadata": {},
   "outputs": [],
   "source": [
    "def fn_varargs(*args):#args is tuple type\n",
    "    for arg in args:\n",
    "        print(arg, end=' ')"
   ]
  },
  {
   "cell_type": "code",
   "execution_count": null,
   "id": "f5975dac",
   "metadata": {},
   "outputs": [],
   "source": [
    "fn_varargs(12,14,\"Hello\",12.4, False, True)"
   ]
  },
  {
   "cell_type": "markdown",
   "id": "4631e165",
   "metadata": {},
   "source": [
    "###### Arbitrary Number of Arguments"
   ]
  },
  {
   "cell_type": "code",
   "execution_count": null,
   "id": "51407d68",
   "metadata": {},
   "outputs": [],
   "source": [
    "def fn_varkwargs(**kwargs):#kwargs is dictionary type\n",
    "    print(type(kwargs)) #check the type of kwargs\n",
    "    print(kwargs) #print out kwargs\n",
    "    print(\"Country: \",kwargs[\"country\"])\n",
    "    print(\"Age:\", kwargs[\"age\"])\n",
    "    print(\"Height:\",kwargs[\"height\"])"
   ]
  },
  {
   "cell_type": "code",
   "execution_count": null,
   "id": "086fe518",
   "metadata": {},
   "outputs": [],
   "source": [
    "fn_varkwargs(country=\"Rwanda\", age=\"65\", height=\"5.6\")"
   ]
  },
  {
   "cell_type": "markdown",
   "id": "50af446b",
   "metadata": {},
   "source": [
    "###### Sequence: Strings"
   ]
  },
  {
   "cell_type": "code",
   "execution_count": null,
   "id": "20fbe920",
   "metadata": {},
   "outputs": [],
   "source": [
    "\"Hello \"*3\n"
   ]
  },
  {
   "cell_type": "code",
   "execution_count": null,
   "id": "cd1057b7",
   "metadata": {},
   "outputs": [],
   "source": [
    "text=\"100\"\n",
    "id(text)"
   ]
  },
  {
   "cell_type": "code",
   "execution_count": null,
   "id": "e33a1a0c",
   "metadata": {},
   "outputs": [],
   "source": [
    "text+=\" 123\"\n",
    "id(text)"
   ]
  },
  {
   "cell_type": "code",
   "execution_count": null,
   "id": "973653f8",
   "metadata": {},
   "outputs": [],
   "source": [
    "\"My Lesson Managers: Francis, Yves, Delphine, Agnes \"*2"
   ]
  },
  {
   "cell_type": "code",
   "execution_count": null,
   "id": "835a8c2c",
   "metadata": {},
   "outputs": [],
   "source": [
    "text=\"hello\""
   ]
  },
  {
   "cell_type": "code",
   "execution_count": null,
   "id": "3db476ee",
   "metadata": {},
   "outputs": [],
   "source": [
    "text[0]"
   ]
  },
  {
   "cell_type": "code",
   "execution_count": null,
   "id": "8221c833",
   "metadata": {},
   "outputs": [],
   "source": [
    "text[-1]"
   ]
  },
  {
   "cell_type": "code",
   "execution_count": null,
   "id": "ca525066",
   "metadata": {},
   "outputs": [],
   "source": [
    "text[-2]"
   ]
  },
  {
   "cell_type": "code",
   "execution_count": null,
   "id": "05043aca",
   "metadata": {},
   "outputs": [],
   "source": [
    "text=\"Slice the text!\"\n",
    "text[0:5] #returns ‘Slice’ , same as >>>text[:5]"
   ]
  },
  {
   "cell_type": "code",
   "execution_count": null,
   "id": "eeb9c824",
   "metadata": {},
   "outputs": [],
   "source": [
    "text[-4:]"
   ]
  },
  {
   "cell_type": "code",
   "execution_count": null,
   "id": "4e748a96",
   "metadata": {},
   "outputs": [],
   "source": [
    "text[6:9] #returns ‘the’"
   ]
  },
  {
   "cell_type": "code",
   "execution_count": null,
   "id": "dc9c5022",
   "metadata": {},
   "outputs": [],
   "source": [
    "text[10:14] #returns ‘text’"
   ]
  },
  {
   "cell_type": "code",
   "execution_count": null,
   "id": "09a6a93f",
   "metadata": {},
   "outputs": [],
   "source": [
    "text[14:15] #returns ‘!’"
   ]
  },
  {
   "cell_type": "code",
   "execution_count": null,
   "id": "4ca1f224",
   "metadata": {},
   "outputs": [],
   "source": [
    "text[6:] #returns ‘the text!’"
   ]
  },
  {
   "cell_type": "markdown",
   "id": "12fb00de",
   "metadata": {},
   "source": [
    "###### Format a string"
   ]
  },
  {
   "cell_type": "code",
   "execution_count": null,
   "id": "c46afbf9",
   "metadata": {},
   "outputs": [],
   "source": [
    "age=int(input(\"Enter age: \"))\n",
    "print(\"Age is {}\".format(age))#print(f\"Age is{age}\")\n"
   ]
  },
  {
   "cell_type": "markdown",
   "id": "b19efa6c",
   "metadata": {},
   "source": [
    "# Example\n",
    "Write a simple python program that reads a name and passes it to a user-defined function that prints “Hello, supplied-name”. The user-defined function should use string formatting.\n",
    "\n"
   ]
  },
  {
   "cell_type": "code",
   "execution_count": null,
   "id": "e239255b",
   "metadata": {},
   "outputs": [],
   "source": [
    "def greet(name):\n",
    "    print(f\"Hello, {name}\")#print(\"Hello,{}\".format(name))"
   ]
  },
  {
   "cell_type": "code",
   "execution_count": null,
   "id": "7c1bc300",
   "metadata": {},
   "outputs": [],
   "source": [
    "name=input(\"Enter name: \")\n",
    "greet(name)"
   ]
  },
  {
   "cell_type": "code",
   "execution_count": null,
   "id": "5ea65b2b",
   "metadata": {},
   "outputs": [],
   "source": []
  },
  {
   "cell_type": "markdown",
   "id": "1ae8227a",
   "metadata": {},
   "source": [
    "###### Sequence: Lists"
   ]
  },
  {
   "cell_type": "code",
   "execution_count": null,
   "id": "088ddd42",
   "metadata": {},
   "outputs": [],
   "source": [
    "x=['hello', 3,True,3.5,[1,2]]\n",
    "for item in x:\n",
    "    print(item)\n"
   ]
  },
  {
   "cell_type": "code",
   "execution_count": null,
   "id": "4b741ad7",
   "metadata": {},
   "outputs": [],
   "source": [
    "print(len(x))"
   ]
  },
  {
   "cell_type": "code",
   "execution_count": null,
   "id": "a595cfe4",
   "metadata": {},
   "outputs": [],
   "source": [
    "print(x)"
   ]
  },
  {
   "cell_type": "code",
   "execution_count": null,
   "id": "09b05484",
   "metadata": {},
   "outputs": [],
   "source": [
    "del x[:2] #shows mutability- deletes a sub-list obtained by slicing"
   ]
  },
  {
   "cell_type": "code",
   "execution_count": null,
   "id": "2a5cddbd",
   "metadata": {},
   "outputs": [],
   "source": [
    "print(x)"
   ]
  },
  {
   "cell_type": "code",
   "execution_count": null,
   "id": "a1801ea8",
   "metadata": {},
   "outputs": [],
   "source": [
    "print(len(x))"
   ]
  },
  {
   "cell_type": "code",
   "execution_count": null,
   "id": "c792f205",
   "metadata": {},
   "outputs": [],
   "source": [
    "y=[10,[13,1.3]]\n",
    "y=y+['hello',True]\n",
    "print(y)\n"
   ]
  },
  {
   "cell_type": "code",
   "execution_count": null,
   "id": "e79bf226",
   "metadata": {},
   "outputs": [],
   "source": [
    "z=[2,10,3]\n",
    "sorted(z) #returns [2,3,10]"
   ]
  },
  {
   "cell_type": "code",
   "execution_count": null,
   "id": "a74fe613",
   "metadata": {},
   "outputs": [],
   "source": [
    "z #returns [2,10,3]---because sorted did not modify the list order."
   ]
  },
  {
   "cell_type": "code",
   "execution_count": null,
   "id": "665fe15d",
   "metadata": {},
   "outputs": [],
   "source": [
    "z.sort() #makes enduring changes"
   ]
  },
  {
   "cell_type": "code",
   "execution_count": null,
   "id": "b723c501",
   "metadata": {},
   "outputs": [],
   "source": [
    "z #returns [2,3,10]"
   ]
  },
  {
   "cell_type": "code",
   "execution_count": null,
   "id": "009b27b3",
   "metadata": {},
   "outputs": [],
   "source": [
    "w=[10,[13,1.3]]\n",
    "w.append(['hello',True])# the appended list becomes a single value in the original list\n",
    "print(w)\n"
   ]
  },
  {
   "cell_type": "code",
   "execution_count": null,
   "id": "6441fab7",
   "metadata": {},
   "outputs": [],
   "source": [
    "w.pop()"
   ]
  },
  {
   "cell_type": "code",
   "execution_count": null,
   "id": "ac52fb9d",
   "metadata": {},
   "outputs": [],
   "source": [
    "w.pop()"
   ]
  },
  {
   "cell_type": "code",
   "execution_count": null,
   "id": "0a810c85",
   "metadata": {},
   "outputs": [],
   "source": [
    "if w: #empty list is equivalent to False\n",
    "    print(w.pop()) #pop should be used for a list that is not empty"
   ]
  },
  {
   "cell_type": "code",
   "execution_count": null,
   "id": "67ce6d4a",
   "metadata": {},
   "outputs": [],
   "source": [
    "w=[10,[13,1.3]]\n",
    "w.append(['hello',True])# the appended list becomes a single value in the original list\n",
    "print(w)\n",
    "while w:#---an empty list [] is False. Same as while bool(w): or while len(w)!=0:\n",
    "    print(w.pop())"
   ]
  },
  {
   "cell_type": "code",
   "execution_count": null,
   "id": "c5a72520",
   "metadata": {},
   "outputs": [],
   "source": [
    "items=list([10,12,34])#uses list class\n",
    "for item in items:\n",
    "    print(item)"
   ]
  },
  {
   "cell_type": "markdown",
   "id": "f227429c",
   "metadata": {},
   "source": [
    "###### Sequence: Tuples"
   ]
  },
  {
   "cell_type": "code",
   "execution_count": null,
   "id": "e0cddd7b",
   "metadata": {},
   "outputs": [],
   "source": [
    "a,b,c=10,12,13 #RHS is a tuple---we are doing multiple assignment. RHS values bind to variable on LHS\n",
    "print(f\"a: {a}, b: {b}, c: {c}\")"
   ]
  },
  {
   "cell_type": "code",
   "execution_count": null,
   "id": "71dad7b2",
   "metadata": {},
   "outputs": [],
   "source": [
    "a,b,*c=10,12,13,16,27,28 #yields a=10, b=12, c=[13,16,27,28]\n",
    "print(f\"a: {a}, b: {b}, c: {c}\")"
   ]
  },
  {
   "cell_type": "code",
   "execution_count": null,
   "id": "8cf175b5",
   "metadata": {},
   "outputs": [],
   "source": [
    "*a,b,c=10,12,13,16,27,28 #yields a=[10,12,13,16], b=27, c=28\n",
    "print(f\"a: {a}, b: {b}, c: {c}\")"
   ]
  },
  {
   "cell_type": "code",
   "execution_count": null,
   "id": "e9fffb8f",
   "metadata": {},
   "outputs": [],
   "source": [
    "a,*b,c=10,12,13,16,27,28 #yields a=10,b=[12,13,16,27], c=28\n",
    "print(f\"a: {a}, b: {b}, c: {c}\")"
   ]
  },
  {
   "cell_type": "code",
   "execution_count": null,
   "id": "5a079d9f",
   "metadata": {},
   "outputs": [],
   "source": [
    "items=tuple((10,12,34)) #uses tuple class\n",
    "for item in items:\n",
    "    print(item)"
   ]
  },
  {
   "cell_type": "markdown",
   "id": "f64f82fc",
   "metadata": {},
   "source": [
    "###### Dictionaries"
   ]
  },
  {
   "cell_type": "code",
   "execution_count": null,
   "id": "0bee3a8b",
   "metadata": {},
   "outputs": [],
   "source": [
    "def dictionary_demo():\n",
    "    student={\"Regno\":\"g1010\",\"Name\":\"Hazimana\",\"DoB\":\"01-01-1990\", \"Grade\":[67,90,95]}\n",
    "    print(\"Original Dictionary: \",student) #echo dictionary on screen\n",
    "    student['Regno']=\"g1012\" #shows mutability\n",
    "    print(\"Modified Dictionary---check regno: \",student,\"\\n\") #echo dictionary after modification\n",
    "    print(f\"RegNo: {student['DoB']}\") #accesses and displays DoB, uses DoB as key\n",
    "    print(f\"Name: {student['Name']}\")\n",
    "    print(f\"DoB: {student['DoB']}\") \n",
    "    print(f\"Grade: {student['Grade']}\")"
   ]
  },
  {
   "cell_type": "code",
   "execution_count": null,
   "id": "b8275539",
   "metadata": {},
   "outputs": [],
   "source": [
    "dictionary_demo()"
   ]
  },
  {
   "cell_type": "code",
   "execution_count": null,
   "id": "84911ae1",
   "metadata": {},
   "outputs": [],
   "source": [
    "def dictionary_demo2():\n",
    "    student={\"Regno\":\"g1010\",\"Name\":\"Hazimana\",\"DoB\":\"01-01-1990\", \"Grade\":[67,90,95]}\n",
    "    print(\"Dictionary: \",student) #echo dictionary on screen\n",
    "\n",
    "    #Access keys and iterate through the values.\n",
    "    print(\"\\nPrinting keys and values....\")\n",
    "    keys=student.keys() #retrieve all keys using keys function\n",
    "    for key in keys: #step through the keys and access the values\n",
    "        print(\"{} : {}\".format(key,student[key]))"
   ]
  },
  {
   "cell_type": "code",
   "execution_count": null,
   "id": "fd1c35ce",
   "metadata": {},
   "outputs": [],
   "source": [
    "dictionary_demo2()"
   ]
  },
  {
   "cell_type": "code",
   "execution_count": null,
   "id": "8761bb83",
   "metadata": {},
   "outputs": [],
   "source": [
    "def dictionary_demo3():\n",
    "    student={\"Regno\":\"g1010\",\"Name\":\"Hazimana\",\"DoB\":\"01-01-1990\", \"Grade\":[67,90,95]}\n",
    "    print(\"Dictionary: \",student,\"\\n\") #echo dictionary on screen\n",
    "\n",
    "    #Access values and iterate through them\n",
    "    values=student.values() #retrieve all values using values function\n",
    "    for value in values: #step through the values\n",
    "        print(\"{}\".format(value))\n"
   ]
  },
  {
   "cell_type": "code",
   "execution_count": null,
   "id": "f849cd88",
   "metadata": {},
   "outputs": [],
   "source": [
    "dictionary_demo3()"
   ]
  },
  {
   "cell_type": "code",
   "execution_count": null,
   "id": "08aa3d8a",
   "metadata": {},
   "outputs": [],
   "source": [
    "def dictionary_demo4():\n",
    "    student={\"Regno\":\"g1010\",\"Name\":\"Hazimana\",\"DoB\":\"01-01-1990\", \"Grade\":[67,90,95]}\n",
    "    print(\"Dictionary: \",student,\"\\n\") #echo dictionary on screen\n",
    "\n",
    "    #Access items and iterate through them\n",
    "    items=student.items() #retrieve all items using items function\n",
    "    for item in items: #step through the items\n",
    "        print(\"{}\".format(item)) #each item is a tuple of the format (key,value)...meaning it can be indexed\n",
    "\n"
   ]
  },
  {
   "cell_type": "code",
   "execution_count": null,
   "id": "9eb541fa",
   "metadata": {},
   "outputs": [],
   "source": [
    "dictionary_demo4()"
   ]
  },
  {
   "cell_type": "code",
   "execution_count": null,
   "id": "c05b02ba",
   "metadata": {},
   "outputs": [],
   "source": [
    "def dictionary_demo5():\n",
    "    student={\"Regno\":\"g1010\",\"Name\":\"Hazimana\",\"DoB\":\"01-01-1990\", \"Grade\":[67,90,95]}\n",
    "    print(\"Dictionary: \",student,\"\\n\") #echo dictionary on screen\n",
    "\n",
    "    #Access items and iterate through them\n",
    "    items=student.items() #retrieve all items using items function\n",
    "    print(items,\"\\n\")\n",
    "    for item in items: #step through the items\n",
    "        print(\"{}: {}\".format(item[0],item[1])) #each item is a tuple of the format (key,value)\n",
    "                                                #...see how we have indexed for key and value\n",
    "\n"
   ]
  },
  {
   "cell_type": "code",
   "execution_count": null,
   "id": "0fdaf8a9",
   "metadata": {},
   "outputs": [],
   "source": [
    "dictionary_demo5()"
   ]
  },
  {
   "cell_type": "code",
   "execution_count": null,
   "id": "b2dd443e",
   "metadata": {},
   "outputs": [],
   "source": [
    "def fn_varkwargs(**kwargs):#kwargs is dictionary type\n",
    "    print(type(kwargs))\n",
    "    keys=kwargs.keys() \n",
    "    for key in keys:\n",
    "        print(f\"{key}: {kwargs[key]}\")"
   ]
  },
  {
   "cell_type": "code",
   "execution_count": null,
   "id": "3d0c69ed",
   "metadata": {},
   "outputs": [],
   "source": [
    "fn_varkwargs(country=\"Rwanda\", age=\"65\", height=\"5.6\")"
   ]
  },
  {
   "cell_type": "markdown",
   "id": "4664250f",
   "metadata": {},
   "source": [
    "###### Documentation for Select Sequence and Collection Data Structures"
   ]
  },
  {
   "cell_type": "code",
   "execution_count": null,
   "id": "24714c9a",
   "metadata": {},
   "outputs": [],
   "source": [
    "help(list)"
   ]
  },
  {
   "cell_type": "code",
   "execution_count": null,
   "id": "18612c8b",
   "metadata": {},
   "outputs": [],
   "source": [
    "help(tuple)"
   ]
  },
  {
   "cell_type": "code",
   "execution_count": null,
   "id": "4626a57b",
   "metadata": {},
   "outputs": [],
   "source": [
    "help(dict)"
   ]
  },
  {
   "cell_type": "code",
   "execution_count": null,
   "id": "c0c29c26",
   "metadata": {},
   "outputs": [],
   "source": []
  },
  {
   "cell_type": "code",
   "execution_count": 1,
   "id": "d538c636",
   "metadata": {},
   "outputs": [],
   "source": [
    "a=[10,12,13]"
   ]
  },
  {
   "cell_type": "code",
   "execution_count": 2,
   "id": "4aa3c6e8",
   "metadata": {},
   "outputs": [],
   "source": [
    "b=a"
   ]
  },
  {
   "cell_type": "code",
   "execution_count": 3,
   "id": "f45662c5",
   "metadata": {},
   "outputs": [
    {
     "name": "stdout",
     "output_type": "stream",
     "text": [
      "a= [10, 12, 13] ,b= [10, 12, 13]\n"
     ]
    }
   ],
   "source": [
    "print(\"a=\",a,\",b=\",b)"
   ]
  },
  {
   "cell_type": "code",
   "execution_count": 4,
   "id": "34e7e39b",
   "metadata": {},
   "outputs": [],
   "source": [
    "a[1]*=2"
   ]
  },
  {
   "cell_type": "code",
   "execution_count": 5,
   "id": "4325bc76",
   "metadata": {},
   "outputs": [
    {
     "name": "stdout",
     "output_type": "stream",
     "text": [
      "a= [10, 24, 13] ,b= [10, 24, 13]\n"
     ]
    }
   ],
   "source": [
    "print(\"a=\",a,\",b=\",b)"
   ]
  },
  {
   "cell_type": "code",
   "execution_count": 6,
   "id": "e2d92b6d",
   "metadata": {},
   "outputs": [
    {
     "data": {
      "text/plain": [
       "(2026119050816, 2026119050816)"
      ]
     },
     "execution_count": 6,
     "metadata": {},
     "output_type": "execute_result"
    }
   ],
   "source": [
    "id(a), id(b) #Notice same memory addresses---mutable data"
   ]
  },
  {
   "cell_type": "code",
   "execution_count": 7,
   "id": "4aea4998",
   "metadata": {},
   "outputs": [],
   "source": [
    "c=10"
   ]
  },
  {
   "cell_type": "code",
   "execution_count": 8,
   "id": "359d755a",
   "metadata": {},
   "outputs": [],
   "source": [
    "d=c"
   ]
  },
  {
   "cell_type": "code",
   "execution_count": 9,
   "id": "dc8feb1f",
   "metadata": {},
   "outputs": [
    {
     "name": "stdout",
     "output_type": "stream",
     "text": [
      "c= 10 ,d= 10\n"
     ]
    }
   ],
   "source": [
    "print(\"c=\",c,\",d=\",d)"
   ]
  },
  {
   "cell_type": "code",
   "execution_count": null,
   "id": "fa309d4a",
   "metadata": {},
   "outputs": [],
   "source": [
    "id(c), id(d)"
   ]
  },
  {
   "cell_type": "code",
   "execution_count": 10,
   "id": "fa535d9b",
   "metadata": {},
   "outputs": [],
   "source": [
    "c+=3"
   ]
  },
  {
   "cell_type": "code",
   "execution_count": 11,
   "id": "ab33f72c",
   "metadata": {},
   "outputs": [
    {
     "name": "stdout",
     "output_type": "stream",
     "text": [
      "c= 13 ,d= 10\n"
     ]
    }
   ],
   "source": [
    "print(\"c=\",c,\",d=\",d)"
   ]
  },
  {
   "cell_type": "code",
   "execution_count": 12,
   "id": "79cdbc78",
   "metadata": {},
   "outputs": [
    {
     "data": {
      "text/plain": [
       "(140710518297768, 140710518297672)"
      ]
     },
     "execution_count": 12,
     "metadata": {},
     "output_type": "execute_result"
    }
   ],
   "source": [
    "id(c), id(d) #notice different memory addresses---immutable data"
   ]
  },
  {
   "cell_type": "markdown",
   "id": "24b9c712",
   "metadata": {},
   "source": [
    "## Further Examples"
   ]
  },
  {
   "cell_type": "code",
   "execution_count": null,
   "id": "0079f578",
   "metadata": {},
   "outputs": [],
   "source": []
  },
  {
   "cell_type": "markdown",
   "id": "09576f06",
   "metadata": {},
   "source": [
    "Display and Variables: Print a greeting of the form “Hello, Michael!”. “Michael” should be retrieved from a variable."
   ]
  },
  {
   "cell_type": "code",
   "execution_count": 1,
   "id": "9876d7ef",
   "metadata": {},
   "outputs": [
    {
     "name": "stdout",
     "output_type": "stream",
     "text": [
      "Hello,  Michael\n"
     ]
    }
   ],
   "source": [
    "name='Michael'\n",
    "print('Hello, ', name)"
   ]
  },
  {
   "cell_type": "markdown",
   "id": "55e57da9",
   "metadata": {},
   "source": [
    "Display and Variables: Write a python program that displays the following verse from the poem, The Scientific Method:\n",
    "The scientific method is the way to go\n",
    "When you absolutely definitely need to know\n",
    "How things happen in our work everyday\n",
    "Scientists helps show all of us the way.\n",
    "a)Use only the print statement(s)\n",
    "b)Use variable(s) to store the verse then print the result.\n"
   ]
  },
  {
   "cell_type": "code",
   "execution_count": 2,
   "id": "eefec1f5",
   "metadata": {},
   "outputs": [
    {
     "name": "stdout",
     "output_type": "stream",
     "text": [
      "The scientific method is the way to go\n",
      "When you absolutely definitely need to know\n",
      "How things happen in our work everyday\n",
      "Scientists helps show all of us the way.\n",
      "\n"
     ]
    }
   ],
   "source": [
    "verse=\"\"\"The scientific method is the way to go\n",
    "When you absolutely definitely need to know\n",
    "How things happen in our work everyday\n",
    "Scientists helps show all of us the way.\n",
    "\"\"\"\n",
    "print(verse)"
   ]
  },
  {
   "cell_type": "code",
   "execution_count": 3,
   "id": "0aeb659d",
   "metadata": {},
   "outputs": [
    {
     "name": "stdout",
     "output_type": "stream",
     "text": [
      "The scientific method is the way to go\n",
      "When you absolutely definitely need to know\n",
      "How things happen in our work everyday\n",
      "Scientists helps show all of us the way.\n",
      "\n"
     ]
    }
   ],
   "source": [
    "print(\"\"\"The scientific method is the way to go\n",
    "When you absolutely definitely need to know\n",
    "How things happen in our work everyday\n",
    "Scientists helps show all of us the way.\n",
    "\"\"\")"
   ]
  },
  {
   "cell_type": "markdown",
   "id": "eaf03638",
   "metadata": {},
   "source": [
    "Type-based Arithmetic: What is the output of the following mathematical expressions?\n",
    "•10+2*6/4\n",
    "•10+2*6//4\n",
    "•type(10+2*6/4)\n",
    "•type(10+2*6//4)\n",
    "Why?\n"
   ]
  },
  {
   "cell_type": "markdown",
   "id": "bfaf65a3",
   "metadata": {},
   "source": [
    "Debugging: What happens when you execute the following script?\n",
    "x=input (\"Enter age:\")\n",
    "x**2\n"
   ]
  },
  {
   "cell_type": "code",
   "execution_count": 4,
   "id": "92622348",
   "metadata": {},
   "outputs": [
    {
     "name": "stdout",
     "output_type": "stream",
     "text": [
      "Enter age:56\n"
     ]
    },
    {
     "ename": "TypeError",
     "evalue": "unsupported operand type(s) for ** or pow(): 'str' and 'int'",
     "output_type": "error",
     "traceback": [
      "\u001b[1;31m---------------------------------------------------------------------------\u001b[0m",
      "\u001b[1;31mTypeError\u001b[0m                                 Traceback (most recent call last)",
      "Cell \u001b[1;32mIn[4], line 2\u001b[0m\n\u001b[0;32m      1\u001b[0m x\u001b[38;5;241m=\u001b[39m\u001b[38;5;28minput\u001b[39m(\u001b[38;5;124m\"\u001b[39m\u001b[38;5;124mEnter age:\u001b[39m\u001b[38;5;124m\"\u001b[39m)\n\u001b[1;32m----> 2\u001b[0m x\u001b[38;5;241m*\u001b[39m\u001b[38;5;241m*\u001b[39m\u001b[38;5;241m2\u001b[39m\n",
      "\u001b[1;31mTypeError\u001b[0m: unsupported operand type(s) for ** or pow(): 'str' and 'int'"
     ]
    }
   ],
   "source": [
    "x=input(\"Enter age:\")\n",
    "x**2"
   ]
  },
  {
   "cell_type": "markdown",
   "id": "7173b3ba",
   "metadata": {},
   "source": [
    "Interactive input: Read name, age at next birthday, course, nationality, and display in the format:\n"
   ]
  },
  {
   "cell_type": "code",
   "execution_count": null,
   "id": "6a29bab5",
   "metadata": {},
   "outputs": [],
   "source": [
    "#******************\n",
    "#Name: Greg Hazimana\n",
    "#Age Next Birthday: 29\n",
    "#Course: MSEAI\n",
    "#Nationality: Rwanda\n",
    "#******************"
   ]
  },
  {
   "cell_type": "markdown",
   "id": "af82967d",
   "metadata": {},
   "source": [
    "Arithmetic, Conditionals, Two-Way Branching: Write a program to ask for an integer input and determine if the number is even or odd. An even number is divisible by 2. The program should display an appropriate message."
   ]
  },
  {
   "cell_type": "code",
   "execution_count": null,
   "id": "9979f907",
   "metadata": {},
   "outputs": [],
   "source": [
    "#Even and odd number- use of if....else---Ex.7\n",
    "num=int(input(\"Enter an integer:\"))\n",
    "if num%2==0:\n",
    "    print(\"Even number.\")\n",
    "else:\n",
    "    print(\"Odd number.\")"
   ]
  },
  {
   "cell_type": "markdown",
   "id": "76d07774",
   "metadata": {},
   "source": [
    "Input validation and Multi-way Branching: Write a program that reads a mark in the range 0-100 (inclusive). Any values outside the range must be rejected with an appropriate message and the program exits after displaying the message. For a valid input, print out the grade as per the following grading system.\n",
    "92-100(inclusive): “A”\n",
    "82-91(inclusive): “B”\n",
    "70-81(inclusive): “C”\n",
    "0-69(inclusive): “Fail”"
   ]
  },
  {
   "cell_type": "code",
   "execution_count": null,
   "id": "c5390615",
   "metadata": {},
   "outputs": [],
   "source": [
    "#Grading system: input validation, multi-way selection, boolean operators, logical operators.\n",
    "#Nested branching\n",
    "mark=int(input(\"Enter a mark in the range 0-100(inclusive):\"))\n",
    "if mark<0 or mark>100:\n",
    "    print(\"Mark of \", mark,\" is out of range! Program exits!\")\n",
    "else:\n",
    "    if mark>=92: # also mark>=92 and mark<=100----but this is redundant\n",
    "        grade=\"A\"\n",
    "    elif mark>=82:\n",
    "        grade=\"B\"\n",
    "    elif mark>=70:\n",
    "        grade=\"C\"\n",
    "    else:\n",
    "        grade=\"Fail\"\n",
    "    print(\"Mark:\",mark,\", Grade:\",grade)"
   ]
  },
  {
   "cell_type": "markdown",
   "id": "ae421c21",
   "metadata": {},
   "source": [
    "Nested Loops, Input Validation, Multi-way Selection: Modify the program above so that it asks the user for the number of students then reads the mark and displays the grade for each student.  Modify the mark validation code such that the user will be requested to enter the right mark again and again until the input is valid."
   ]
  },
  {
   "cell_type": "code",
   "execution_count": null,
   "id": "9fe018cc",
   "metadata": {},
   "outputs": [],
   "source": [
    "#Loops over several students. Nested loops.\n",
    "no_of_students=int(input(\"How many student marks do you wish to enter:\"))\n",
    "count=1 #keeps track of each student. loop control variable (lcv): count\n",
    "while count<=no_of_students:#loop condition\n",
    "    print(\"Student#\",count)\n",
    "    mark=int(input(\"Enter a mark in the range 0-100(inclusive):\"))\n",
    "    while mark<0 or mark>100:\n",
    "        mark=int(input(\"Enter a VALID mark in the range 0-100(inclusive):\"))\n",
    "    if mark>=92: # also mark>=92 and mark<=100----but this is redundant\n",
    "        grade=\"A\"\n",
    "    elif mark>=82:\n",
    "        grade=\"B\"\n",
    "    elif mark>=70:\n",
    "        grade=\"C\"\n",
    "    else:\n",
    "        grade=\"Fail\"\n",
    "    #Display message\n",
    "    print(\"Student#\",count,\": Mark:\", mark,\", Grade:\",grade)\n",
    "    #Update the lcv so that the loop does not run infinitely\n",
    "    count=count+1"
   ]
  },
  {
   "cell_type": "code",
   "execution_count": 16,
   "id": "5d0299b4",
   "metadata": {},
   "outputs": [
    {
     "name": "stdout",
     "output_type": "stream",
     "text": [
      "Enter the number of students : 2\n",
      "Enter marks of student 1 : 30\n",
      "Fail\n",
      "Enter marks of student 2 : 70\n",
      "Pass\n"
     ]
    }
   ],
   "source": [
    "# My version\n",
    "no_of_students = int(input(\"Enter the number of students : \"))\n",
    "counter = 1\n",
    "while counter <= no_of_students:\n",
    "    grade = int(input(f\"Enter marks of student {counter} : \"))\n",
    "    while grade < 0 or grade > 100:\n",
    "        grade = int(input(\"Enter a valid grade between 0 and 100\"))\n",
    "    if grade > 50:\n",
    "        print(\"Pass\")\n",
    "    else:\n",
    "        print(\"Fail\")\n",
    "    counter +=1"
   ]
  },
  {
   "cell_type": "markdown",
   "id": "48c19414",
   "metadata": {},
   "source": [
    "Arithmetic: Write a program that calculates exponentials of the form xy. Your program asks the user for a base x and an exponent y, and calculates xy. \n",
    "a)\tUse ** operator\n",
    "b)\tUse pow function\n"
   ]
  },
  {
   "cell_type": "code",
   "execution_count": null,
   "id": "ab6427d7",
   "metadata": {},
   "outputs": [],
   "source": [
    "#Using ** operator\n",
    "x=eval(input(\"Enter the base:\"))\n",
    "y=eval(input(\"Enter the exponent:\"))\n",
    "result=x**y\n",
    "print(x,\"^\",y,\" = \",result)"
   ]
  },
  {
   "cell_type": "code",
   "execution_count": null,
   "id": "f94de585",
   "metadata": {},
   "outputs": [],
   "source": [
    "#Using pow function\n",
    "import math\n",
    "x=eval(input(\"Enter the base:\"))\n",
    "y=eval(input(\"Enter the exponent:\"))\n",
    "result=math.pow(x,y)\n",
    "print(x,\"^\",y,\" = \",result)"
   ]
  },
  {
   "cell_type": "markdown",
   "id": "1231496d",
   "metadata": {},
   "source": [
    "Looping, logical operators, arithmetic: Write a program which will find all such numbers which are divisible by 13 but are not a multiple of 3, between 771 and 1542 (both included).\n",
    "a)Use a while loop\n",
    "b)Use a for loop\n"
   ]
  },
  {
   "cell_type": "code",
   "execution_count": 17,
   "id": "c0bfd303",
   "metadata": {},
   "outputs": [
    {
     "name": "stdout",
     "output_type": "stream",
     "text": [
      "793\n",
      "806\n",
      "832\n",
      "845\n",
      "871\n",
      "884\n",
      "910\n",
      "923\n",
      "949\n",
      "962\n",
      "988\n",
      "1001\n",
      "1027\n",
      "1040\n",
      "1066\n",
      "1079\n",
      "1105\n",
      "1118\n",
      "1144\n",
      "1157\n",
      "1183\n",
      "1196\n",
      "1222\n",
      "1235\n",
      "1261\n",
      "1274\n",
      "1300\n",
      "1313\n",
      "1339\n",
      "1352\n",
      "1378\n",
      "1391\n",
      "1417\n",
      "1430\n",
      "1456\n",
      "1469\n",
      "1495\n",
      "1508\n",
      "1534\n"
     ]
    }
   ],
   "source": [
    "#divisibles and multiples\n",
    "num=771\n",
    "while num<=1542:\n",
    "    if num%13==0 and num%3!=0:\n",
    "        print(num)\n",
    "    num=num+1 #increment lcv"
   ]
  },
  {
   "cell_type": "code",
   "execution_count": 18,
   "id": "94055591",
   "metadata": {},
   "outputs": [
    {
     "name": "stdout",
     "output_type": "stream",
     "text": [
      "793\n",
      "806\n",
      "832\n",
      "845\n",
      "871\n",
      "884\n",
      "910\n",
      "923\n",
      "949\n",
      "962\n",
      "988\n",
      "1001\n",
      "1027\n",
      "1040\n",
      "1066\n",
      "1079\n",
      "1105\n",
      "1118\n",
      "1144\n",
      "1157\n",
      "1183\n",
      "1196\n",
      "1222\n",
      "1235\n",
      "1261\n",
      "1274\n",
      "1300\n",
      "1313\n",
      "1339\n",
      "1352\n",
      "1378\n",
      "1391\n",
      "1417\n",
      "1430\n",
      "1456\n",
      "1469\n",
      "1495\n",
      "1508\n",
      "1534\n"
     ]
    }
   ],
   "source": [
    "#divisibles and multiples-using for loop\n",
    "for num in range(771,1543): #why 1543?\n",
    "    if num%13==0 and num%3!=0:\n",
    "        print(num)"
   ]
  },
  {
   "cell_type": "markdown",
   "id": "a3a0e2fa",
   "metadata": {},
   "source": [
    "Looping, logical operators, arithmetic: Modify the code above such that no even numbers are printed. Hint: Use continue statement."
   ]
  },
  {
   "cell_type": "code",
   "execution_count": null,
   "id": "467f9668",
   "metadata": {},
   "outputs": [],
   "source": [
    "#divisibles and multiples-using for loop, checks even\n",
    "for num in range(771,1543): #why 1543?\n",
    "    if num%13==0 and num%3!=0:\n",
    "        if num%2==0:\n",
    "            continue\n",
    "        print(num)"
   ]
  },
  {
   "cell_type": "markdown",
   "id": "fd122b7f",
   "metadata": {},
   "source": [
    "Looping, logical operators, arithmetic: Modify the code on divisibility such that as soon as a value divisible by 7 is encountered, the value is printed with the message “<value> divisible by 7, loop terminates!”. Hint: Use break statement."
   ]
  },
  {
   "cell_type": "code",
   "execution_count": null,
   "id": "f9b857cf",
   "metadata": {},
   "outputs": [],
   "source": [
    "#divisibles and multiples-using for loop, checks divisible by 7\n",
    "for num in range(771,1543): #why 1543?\n",
    "    if num%13==0 and num%3!=0:\n",
    "        if num%7==0:\n",
    "            print(num,\" divisible by 7, loop terminates!.\")\n",
    "            break\n",
    "        print(num)"
   ]
  },
  {
   "cell_type": "code",
   "execution_count": null,
   "id": "af18db4f",
   "metadata": {},
   "outputs": [],
   "source": []
  },
  {
   "cell_type": "code",
   "execution_count": null,
   "id": "53d66326",
   "metadata": {},
   "outputs": [],
   "source": []
  },
  {
   "cell_type": "markdown",
   "id": "c983d399",
   "metadata": {},
   "source": [
    "### Program to compute absolute value, cube, cuberoot, square, and square root of a number"
   ]
  },
  {
   "cell_type": "markdown",
   "id": "d8f6910a",
   "metadata": {},
   "source": [
    "Built-in functions: Write a program that reads a number and computes and displays absolute value of the number. The program should then use the absolute value to compute and display the cube, cube root, square, and square root of the number. Hint: Use the math module."
   ]
  },
  {
   "cell_type": "code",
   "execution_count": 21,
   "id": "70b8e152",
   "metadata": {},
   "outputs": [
    {
     "name": "stdout",
     "output_type": "stream",
     "text": [
      "Enter a number: -7\n"
     ]
    }
   ],
   "source": [
    "import math\n",
    "\n",
    "#prompt and read the number\n",
    "num=float(input(\"Enter a number: \")) #why not use int()?\n",
    "\n",
    "#compute absolute value\n",
    "abs_num=abs(num)\n",
    "cube=math.pow(abs_num,3)\n",
    "cuberoot=math.pow(abs_num,1/3)#notice--floating point division\n",
    "square=math.pow(abs_num,2)\n",
    "squareroot=math.sqrt(abs_num)\n"
   ]
  },
  {
   "cell_type": "code",
   "execution_count": 22,
   "id": "9e3aa30d",
   "metadata": {},
   "outputs": [
    {
     "name": "stdout",
     "output_type": "stream",
     "text": [
      "num:-7.0\n",
      "Absolute Value:7.0\n",
      "Square:49.0\n",
      "Square root:2.6457513110645907\n",
      "Cube:343.0\n",
      "Cuberoot:1.912931182772389\n"
     ]
    }
   ],
   "source": [
    "print(\"num:{}\\nAbsolute Value:{}\\nSquare:{}\\nSquare root:{}\\nCube:{}\\\n",
    "\\nCuberoot:{}\".format(num,abs_num,square,squareroot,cube,cuberoot))"
   ]
  },
  {
   "cell_type": "markdown",
   "id": "a01e4fc2",
   "metadata": {},
   "source": [
    "Formatted output: Rewrite the display statement above so that all output is displayed with only one decimal point."
   ]
  },
  {
   "cell_type": "code",
   "execution_count": 27,
   "id": "fb903e6f",
   "metadata": {},
   "outputs": [
    {
     "name": "stdout",
     "output_type": "stream",
     "text": [
      "num: -7.0\n",
      "Absolute Value:  7.0\n",
      "Square:      49.0\n",
      "Square root:  2.6\n",
      "Cube:     343.0\n",
      "Cuberoot:  1.9\n"
     ]
    }
   ],
   "source": [
    "#Format the output to 1 decimal places\n",
    "print(\"num:{:5.1f}\\nAbsolute Value:{:5.1f}\\nSquare:{:10.1f}\\\n",
    "\\nSquare root:{:5.1f}\\nCube:{:10.1f}\\\n",
    "\\nCuberoot:{:5.1f}\".format(num,abs_num,square,squareroot,cube,cuberoot))"
   ]
  },
  {
   "cell_type": "markdown",
   "id": "706fbe73",
   "metadata": {},
   "source": [
    "#### Collecting data into a dictionary"
   ]
  },
  {
   "cell_type": "markdown",
   "id": "5e00ba01",
   "metadata": {},
   "source": [
    "Dictionary: Rewrite the code above such that the input value and the computed results are collected into a dictionary. Display the contents of the dictionary to 1 decimal point."
   ]
  },
  {
   "cell_type": "code",
   "execution_count": 29,
   "id": "d43d023b",
   "metadata": {},
   "outputs": [
    {
     "name": "stdout",
     "output_type": "stream",
     "text": [
      "Enter a number: 4\n"
     ]
    }
   ],
   "source": [
    "import math\n",
    "\n",
    "#prompt and read the number\n",
    "num=float(input(\"Enter a number: \")) #why not use int()?\n",
    "#compute \n",
    "abs_num=abs(num)\n",
    "#create dictionary\n",
    "num_dict={\n",
    "    'num':num,\n",
    "    'abs_num':abs_num,\n",
    "    'square':math.pow(abs_num,2),\n",
    "    'square_root':math.sqrt(abs_num),\n",
    "    'cube':math.pow(abs_num,3),\n",
    "    'cuberoot':math.pow(abs_num,1/3)\n",
    "}"
   ]
  },
  {
   "cell_type": "code",
   "execution_count": 30,
   "id": "01551eb7",
   "metadata": {},
   "outputs": [
    {
     "name": "stdout",
     "output_type": "stream",
     "text": [
      "num:4.0\n",
      "abs_num:4.0\n",
      "square:16.0\n",
      "square_root:2.0\n",
      "cube:64.0\n",
      "cuberoot:1.6\n"
     ]
    }
   ],
   "source": [
    "#Retrieve all keys\n",
    "keys=num_dict.keys()\n",
    "for key in keys:\n",
    "    print(\"{}:{:.1f}\".format(key,num_dict[key]))"
   ]
  },
  {
   "cell_type": "markdown",
   "id": "540f5797",
   "metadata": {},
   "source": [
    "#### Program to compute factorial of a number. Uses a user defined function"
   ]
  },
  {
   "cell_type": "markdown",
   "id": "4b65c5b1",
   "metadata": {},
   "source": [
    "User Defined Functions:\tWrite a program which can computes and displays the factorial of a given number. The program should ask the user for the number, then display the output in the form: ‘Factorial of <num> is <factorial-value>‘.  Define a function factorial that computes and returns the factorial of a number. Perform input validation to display an error message if the number provided is negative."
   ]
  },
  {
   "cell_type": "code",
   "execution_count": 31,
   "id": "d40bf0bb",
   "metadata": {},
   "outputs": [],
   "source": [
    "def factorial(num):\n",
    "    '''\n",
    "    Function name: factorial\n",
    "    Parameters: num, an int\n",
    "    Returns: factorial value, an int\n",
    "    '''\n",
    "    if num == 0 or num==1:\n",
    "        return 1 #base case\n",
    "    return num * factorial(num - 1)#recursive case"
   ]
  },
  {
   "cell_type": "code",
   "execution_count": 32,
   "id": "2aee8723",
   "metadata": {},
   "outputs": [
    {
     "name": "stdout",
     "output_type": "stream",
     "text": [
      "Enter a positive integer value:7\n",
      "\n",
      "Factorial of 7 is 5040\n"
     ]
    }
   ],
   "source": [
    "#prompt and read a number\n",
    "num=int(input(\"Enter a positive integer value:\"))\n",
    "if num>=0:\n",
    "    #call the factorial function and display result\n",
    "    print (f\"\\nFactorial of {num} is {factorial(num)}\")\n",
    "else:\n",
    "    print(\"\\nError: Number should\n",
    "          be positive!\")"
   ]
  },
  {
   "cell_type": "markdown",
   "id": "3a6d9f13",
   "metadata": {},
   "source": []
  },
  {
   "cell_type": "code",
   "execution_count": null,
   "id": "ed39de3e",
   "metadata": {},
   "outputs": [],
   "source": []
  },
  {
   "cell_type": "code",
   "execution_count": null,
   "id": "cd62d83e",
   "metadata": {},
   "outputs": [],
   "source": []
  },
  {
   "cell_type": "markdown",
   "id": "2a8545ee",
   "metadata": {},
   "source": [
    "#### Sequences: lists and tuples"
   ]
  },
  {
   "cell_type": "markdown",
   "id": "10a5c2d5",
   "metadata": {},
   "source": [
    "Lists and Tuples: Write a program which accepts a sequence of comma-separated numbers from the console, generates and displays a list and a tuple containing all the numbers."
   ]
  },
  {
   "cell_type": "code",
   "execution_count": 35,
   "id": "0fa9f3ab",
   "metadata": {},
   "outputs": [
    {
     "name": "stdout",
     "output_type": "stream",
     "text": [
      "Enter a text string: Samalie rocks\n",
      "['Samalie', 'rocks']\n",
      "('Samalie', 'rocks')\n"
     ]
    }
   ],
   "source": [
    "input_string=input(\"Enter a text string: \")\n",
    "num_list=input_string.split(' ')\n",
    "num_tuple=tuple(num_list)\n",
    "print(num_list)\n",
    "print(num_tuple)"
   ]
  },
  {
   "cell_type": "markdown",
   "id": "d70a9cf8",
   "metadata": {},
   "source": [
    "#### But the code above has the input stored as strings. What of numbers?"
   ]
  },
  {
   "cell_type": "code",
   "execution_count": 36,
   "id": "00776afb",
   "metadata": {},
   "outputs": [
    {
     "name": "stdout",
     "output_type": "stream",
     "text": [
      "Enter a set of numbers separated by commas1,2,3\n"
     ]
    }
   ],
   "source": [
    "#Read the comma-separated sequence\n",
    "input_string=input(\"Enter a set of numbers separated by commas\")"
   ]
  },
  {
   "cell_type": "code",
   "execution_count": 37,
   "id": "b694c13b",
   "metadata": {},
   "outputs": [],
   "source": [
    "#Convert sequence into a list\n",
    "num_list=input_string.split(',')\n",
    "#Convert the list items to int\n",
    "for i in range(0,len(num_list)):\n",
    "    num_list[i]=eval(num_list[i])"
   ]
  },
  {
   "cell_type": "code",
   "execution_count": 38,
   "id": "a2b5077f",
   "metadata": {},
   "outputs": [],
   "source": [
    "#Now set up tuple\n",
    "num_tuple=tuple(num_list)"
   ]
  },
  {
   "cell_type": "code",
   "execution_count": 39,
   "id": "735a2791",
   "metadata": {},
   "outputs": [
    {
     "name": "stdout",
     "output_type": "stream",
     "text": [
      "[1, 2, 3]\n",
      "(1, 2, 3)\n"
     ]
    }
   ],
   "source": [
    "#Print both tuple and list\n",
    "print(num_list)\n",
    "print(num_tuple)"
   ]
  },
  {
   "cell_type": "markdown",
   "id": "f64e8463",
   "metadata": {},
   "source": [
    "# List comprehension\n",
    "Provide an expression followed by a for...in clause and optionally an if clause: Syntax::[expression for item in list]"
   ]
  },
  {
   "cell_type": "code",
   "execution_count": null,
   "id": "11bdece3",
   "metadata": {},
   "outputs": [],
   "source": [
    "#The previous approach, using the for loop, is considered the naive approach\n",
    "num_list=[int(item) for item in input_string.split(',')]#convert each item to int"
   ]
  },
  {
   "cell_type": "code",
   "execution_count": null,
   "id": "2a69ed98",
   "metadata": {},
   "outputs": [],
   "source": [
    "#Set up tuple\n",
    "num_tuple=tuple(num_list)"
   ]
  },
  {
   "cell_type": "code",
   "execution_count": null,
   "id": "19860b0a",
   "metadata": {},
   "outputs": [],
   "source": [
    "#Print\n",
    "print(num_list)\n",
    "print(num_tuple)"
   ]
  },
  {
   "cell_type": "markdown",
   "id": "c2921180",
   "metadata": {},
   "source": [
    "##### Other list comprehension examples"
   ]
  },
  {
   "cell_type": "code",
   "execution_count": 54,
   "id": "0789945e",
   "metadata": {},
   "outputs": [
    {
     "name": "stdout",
     "output_type": "stream",
     "text": [
      "[1, 3, 5]\n"
     ]
    }
   ],
   "source": [
    "odds=[n for n in [10,11,13,2,367,9] if n%2==1]\n",
    "print(odds)"
   ]
  },
  {
   "cell_type": "code",
   "execution_count": 42,
   "id": "c90c0df6",
   "metadata": {},
   "outputs": [
    {
     "name": "stdout",
     "output_type": "stream",
     "text": [
      "[121, 169, 134689, 81]\n"
     ]
    }
   ],
   "source": [
    "square_of_odds=[n*n for n in [10,11,13,2,367,9] if n%2==1]\n",
    "print(square_of_odds)"
   ]
  },
  {
   "cell_type": "markdown",
   "id": "cd9cb537",
   "metadata": {},
   "source": [
    "#### String conversion"
   ]
  },
  {
   "cell_type": "markdown",
   "id": "874ecf89",
   "metadata": {},
   "source": [
    "String conversion: Write a program that accepts a line of text as input and prints the text with all characters capitalized and in lower case. The program also prints a list containing all characters in the text."
   ]
  },
  {
   "cell_type": "code",
   "execution_count": 44,
   "id": "a9de0092",
   "metadata": {},
   "outputs": [
    {
     "name": "stdout",
     "output_type": "stream",
     "text": [
      "Enter some text:Baby\n"
     ]
    }
   ],
   "source": [
    "text=input(\"Enter some text:\")"
   ]
  },
  {
   "cell_type": "code",
   "execution_count": 45,
   "id": "04506fe6",
   "metadata": {},
   "outputs": [
    {
     "name": "stdout",
     "output_type": "stream",
     "text": [
      "baby\n",
      "BABY\n"
     ]
    }
   ],
   "source": [
    "#convert and print\n",
    "print(text.lower())\n",
    "print(text.upper())\n"
   ]
  },
  {
   "cell_type": "code",
   "execution_count": 46,
   "id": "cf838954",
   "metadata": {},
   "outputs": [],
   "source": [
    "list_of_char_naive=[]\n",
    "for c in text:#iterating through the string sequence\n",
    "    list_of_char_naive.append(c) #using the append function to add individual items to list"
   ]
  },
  {
   "cell_type": "code",
   "execution_count": 47,
   "id": "fc8f6c26",
   "metadata": {},
   "outputs": [
    {
     "name": "stdout",
     "output_type": "stream",
     "text": [
      "['B', 'a', 'b', 'y']\n"
     ]
    }
   ],
   "source": [
    "print(list_of_char_naive)"
   ]
  },
  {
   "cell_type": "code",
   "execution_count": 48,
   "id": "2ea17276",
   "metadata": {},
   "outputs": [],
   "source": [
    "list_of_char_comprehen=[c for c in text] #using list coprehension"
   ]
  },
  {
   "cell_type": "code",
   "execution_count": 49,
   "id": "8696a4ed",
   "metadata": {},
   "outputs": [
    {
     "name": "stdout",
     "output_type": "stream",
     "text": [
      "['B', 'a', 'b', 'y']\n"
     ]
    }
   ],
   "source": [
    "print(list_of_char_comprehen)"
   ]
  },
  {
   "cell_type": "markdown",
   "id": "42f91784",
   "metadata": {},
   "source": [
    "#### Some complex operations"
   ]
  },
  {
   "cell_type": "code",
   "execution_count": 55,
   "id": "0e3731c3",
   "metadata": {},
   "outputs": [
    {
     "name": "stdout",
     "output_type": "stream",
     "text": [
      "Complex number c: (4+12j)\n",
      "Real part:4.0\n",
      "Imaginary part:12.0\n",
      "Complex number d: (12+4j)\n",
      "Real part:12.0\n",
      "Imaginary part:4.0\n"
     ]
    }
   ],
   "source": [
    "#complex number: a+bi\n",
    "#a: real component\n",
    "#b: imaginary part\n",
    "a=4\n",
    "b=12\n",
    "\n",
    "#set up complex number\n",
    "c=complex(a,b)\n",
    "print(f\"Complex number c: {c}\")\n",
    "\n",
    "print(f\"Real part:{c.real}\")\n",
    "print(f\"Imaginary part:{c.imag}\")\n",
    "\n",
    "d=complex(b,a)\n",
    "print(f\"Complex number d: {d}\")\n",
    "\n",
    "print(f\"Real part:{d.real}\")\n",
    "print(f\"Imaginary part:{d.imag}\")"
   ]
  },
  {
   "cell_type": "code",
   "execution_count": 56,
   "id": "38b28850",
   "metadata": {},
   "outputs": [
    {
     "name": "stdout",
     "output_type": "stream",
     "text": [
      " uwase\n"
     ]
    }
   ],
   "source": [
    "text=\"maliki uwase\"\n",
    "print(text[6:19])"
   ]
  },
  {
   "cell_type": "code",
   "execution_count": 58,
   "id": "4102fe74",
   "metadata": {},
   "outputs": [
    {
     "name": "stdout",
     "output_type": "stream",
     "text": [
      "\n"
     ]
    }
   ],
   "source": [
    "print(text[-1:3])"
   ]
  },
  {
   "cell_type": "code",
   "execution_count": 59,
   "id": "54e41ba6",
   "metadata": {},
   "outputs": [
    {
     "name": "stdout",
     "output_type": "stream",
     "text": [
      "maliki uwase\n"
     ]
    }
   ],
   "source": [
    "print(text[:19])"
   ]
  },
  {
   "cell_type": "code",
   "execution_count": 60,
   "id": "d7119f02",
   "metadata": {},
   "outputs": [
    {
     "ename": "IndexError",
     "evalue": "string index out of range",
     "output_type": "error",
     "traceback": [
      "\u001b[1;31m---------------------------------------------------------------------------\u001b[0m",
      "\u001b[1;31mIndexError\u001b[0m                                Traceback (most recent call last)",
      "Cell \u001b[1;32mIn[60], line 1\u001b[0m\n\u001b[1;32m----> 1\u001b[0m \u001b[38;5;28mprint\u001b[39m(text[\u001b[38;5;241m19\u001b[39m])\n",
      "\u001b[1;31mIndexError\u001b[0m: string index out of range"
     ]
    }
   ],
   "source": [
    "print(text[19])"
   ]
  },
  {
   "cell_type": "code",
   "execution_count": 61,
   "id": "e10b9472",
   "metadata": {},
   "outputs": [
    {
     "data": {
      "text/plain": [
       "[2, 3, 10]"
      ]
     },
     "execution_count": 61,
     "metadata": {},
     "output_type": "execute_result"
    }
   ],
   "source": [
    "z=[2,10,3]\n",
    "sorted(z)"
   ]
  },
  {
   "cell_type": "code",
   "execution_count": 62,
   "id": "a10562b2",
   "metadata": {},
   "outputs": [
    {
     "data": {
      "text/plain": [
       "[2, 10, 3]"
      ]
     },
     "execution_count": 62,
     "metadata": {},
     "output_type": "execute_result"
    }
   ],
   "source": [
    "z"
   ]
  },
  {
   "cell_type": "code",
   "execution_count": 63,
   "id": "19c5c509",
   "metadata": {},
   "outputs": [
    {
     "data": {
      "text/plain": [
       "[10, 3, 2]"
      ]
     },
     "execution_count": 63,
     "metadata": {},
     "output_type": "execute_result"
    }
   ],
   "source": [
    "sorted(z,reverse=True)"
   ]
  },
  {
   "cell_type": "code",
   "execution_count": 64,
   "id": "d652c9a5",
   "metadata": {},
   "outputs": [],
   "source": [
    "z=sorted(z,reverse=True)"
   ]
  },
  {
   "cell_type": "code",
   "execution_count": 65,
   "id": "d1989538",
   "metadata": {},
   "outputs": [
    {
     "data": {
      "text/plain": [
       "[2, 3, 10]"
      ]
     },
     "execution_count": 65,
     "metadata": {},
     "output_type": "execute_result"
    }
   ],
   "source": [
    "y=(10,2,3)\n",
    "sorted(y)"
   ]
  },
  {
   "cell_type": "code",
   "execution_count": 66,
   "id": "c6336221",
   "metadata": {},
   "outputs": [],
   "source": [
    "y=tuple(sorted(y))"
   ]
  },
  {
   "cell_type": "code",
   "execution_count": 67,
   "id": "50810797",
   "metadata": {},
   "outputs": [
    {
     "data": {
      "text/plain": [
       "(2, 3, 10)"
      ]
     },
     "execution_count": 67,
     "metadata": {},
     "output_type": "execute_result"
    }
   ],
   "source": [
    "y"
   ]
  },
  {
   "cell_type": "code",
   "execution_count": 68,
   "id": "8087e3ce",
   "metadata": {},
   "outputs": [
    {
     "data": {
      "text/plain": [
       "[78, 10, 3, 2]"
      ]
     },
     "execution_count": 68,
     "metadata": {},
     "output_type": "execute_result"
    }
   ],
   "source": [
    "a=[10,2,3,78]\n",
    "a.sort(reverse=True)\n",
    "a"
   ]
  },
  {
   "cell_type": "code",
   "execution_count": 74,
   "id": "ce8a13bd",
   "metadata": {},
   "outputs": [
    {
     "ename": "KeyboardInterrupt",
     "evalue": "Interrupted by user",
     "output_type": "error",
     "traceback": [
      "\u001b[1;31m---------------------------------------------------------------------------\u001b[0m",
      "\u001b[1;31mKeyboardInterrupt\u001b[0m                         Traceback (most recent call last)",
      "Cell \u001b[1;32mIn[74], line 1\u001b[0m\n\u001b[1;32m----> 1\u001b[0m a\u001b[38;5;241m=\u001b[39m\u001b[38;5;28minput\u001b[39m(\u001b[38;5;124m\"\u001b[39m\u001b[38;5;124mComma separated list:\u001b[39m\u001b[38;5;124m\"\u001b[39m)\n\u001b[0;32m      2\u001b[0m a\u001b[38;5;241m=\u001b[39ma\u001b[38;5;241m.\u001b[39msplit(\u001b[38;5;124m'\u001b[39m\u001b[38;5;124m,\u001b[39m\u001b[38;5;124m'\u001b[39m)\n\u001b[0;32m      3\u001b[0m \u001b[38;5;28mprint\u001b[39m(a)\n",
      "File \u001b[1;32m~\\anaconda3\\Lib\\site-packages\\ipykernel\\kernelbase.py:1175\u001b[0m, in \u001b[0;36mKernel.raw_input\u001b[1;34m(self, prompt)\u001b[0m\n\u001b[0;32m   1171\u001b[0m \u001b[38;5;28;01mif\u001b[39;00m \u001b[38;5;129;01mnot\u001b[39;00m \u001b[38;5;28mself\u001b[39m\u001b[38;5;241m.\u001b[39m_allow_stdin:\n\u001b[0;32m   1172\u001b[0m     \u001b[38;5;28;01mraise\u001b[39;00m StdinNotImplementedError(\n\u001b[0;32m   1173\u001b[0m         \u001b[38;5;124m\"\u001b[39m\u001b[38;5;124mraw_input was called, but this frontend does not support input requests.\u001b[39m\u001b[38;5;124m\"\u001b[39m\n\u001b[0;32m   1174\u001b[0m     )\n\u001b[1;32m-> 1175\u001b[0m \u001b[38;5;28;01mreturn\u001b[39;00m \u001b[38;5;28mself\u001b[39m\u001b[38;5;241m.\u001b[39m_input_request(\n\u001b[0;32m   1176\u001b[0m     \u001b[38;5;28mstr\u001b[39m(prompt),\n\u001b[0;32m   1177\u001b[0m     \u001b[38;5;28mself\u001b[39m\u001b[38;5;241m.\u001b[39m_parent_ident[\u001b[38;5;124m\"\u001b[39m\u001b[38;5;124mshell\u001b[39m\u001b[38;5;124m\"\u001b[39m],\n\u001b[0;32m   1178\u001b[0m     \u001b[38;5;28mself\u001b[39m\u001b[38;5;241m.\u001b[39mget_parent(\u001b[38;5;124m\"\u001b[39m\u001b[38;5;124mshell\u001b[39m\u001b[38;5;124m\"\u001b[39m),\n\u001b[0;32m   1179\u001b[0m     password\u001b[38;5;241m=\u001b[39m\u001b[38;5;28;01mFalse\u001b[39;00m,\n\u001b[0;32m   1180\u001b[0m )\n",
      "File \u001b[1;32m~\\anaconda3\\Lib\\site-packages\\ipykernel\\kernelbase.py:1217\u001b[0m, in \u001b[0;36mKernel._input_request\u001b[1;34m(self, prompt, ident, parent, password)\u001b[0m\n\u001b[0;32m   1214\u001b[0m             \u001b[38;5;28;01mbreak\u001b[39;00m\n\u001b[0;32m   1215\u001b[0m \u001b[38;5;28;01mexcept\u001b[39;00m \u001b[38;5;167;01mKeyboardInterrupt\u001b[39;00m:\n\u001b[0;32m   1216\u001b[0m     \u001b[38;5;66;03m# re-raise KeyboardInterrupt, to truncate traceback\u001b[39;00m\n\u001b[1;32m-> 1217\u001b[0m     \u001b[38;5;28;01mraise\u001b[39;00m \u001b[38;5;167;01mKeyboardInterrupt\u001b[39;00m(\u001b[38;5;124m\"\u001b[39m\u001b[38;5;124mInterrupted by user\u001b[39m\u001b[38;5;124m\"\u001b[39m) \u001b[38;5;28;01mfrom\u001b[39;00m \u001b[38;5;28;01mNone\u001b[39;00m\n\u001b[0;32m   1218\u001b[0m \u001b[38;5;28;01mexcept\u001b[39;00m \u001b[38;5;167;01mException\u001b[39;00m:\n\u001b[0;32m   1219\u001b[0m     \u001b[38;5;28mself\u001b[39m\u001b[38;5;241m.\u001b[39mlog\u001b[38;5;241m.\u001b[39mwarning(\u001b[38;5;124m\"\u001b[39m\u001b[38;5;124mInvalid Message:\u001b[39m\u001b[38;5;124m\"\u001b[39m, exc_info\u001b[38;5;241m=\u001b[39m\u001b[38;5;28;01mTrue\u001b[39;00m)\n",
      "\u001b[1;31mKeyboardInterrupt\u001b[0m: Interrupted by user"
     ]
    }
   ],
   "source": [
    "a=input(\"Comma separated list:\")\n",
    "a=a.split(',')\n",
    "print(a)"
   ]
  },
  {
   "cell_type": "code",
   "execution_count": 70,
   "id": "4521591f",
   "metadata": {},
   "outputs": [
    {
     "name": "stdout",
     "output_type": "stream",
     "text": [
      "[1, 2, 3]\n"
     ]
    }
   ],
   "source": [
    "for index in range(0, len(a)):#long route\n",
    "    a[index]=int(a[index])\n",
    "    \n",
    "print(a)"
   ]
  },
  {
   "cell_type": "code",
   "execution_count": 75,
   "id": "a03a08ea",
   "metadata": {},
   "outputs": [
    {
     "name": "stdout",
     "output_type": "stream",
     "text": [
      "Comma separated list:1,2,3\n",
      "['1', '2', '3']\n",
      "[1, 2, 3]\n"
     ]
    }
   ],
   "source": [
    "b=input(\"Comma separated list:\")\n",
    "b=b.split(',')\n",
    "print(b)\n",
    "b=[int(n) for n in b] #list comprehension--compact\n",
    "print(b)"
   ]
  },
  {
   "cell_type": "code",
   "execution_count": null,
   "id": "c106d2c6",
   "metadata": {},
   "outputs": [],
   "source": [
    "x=5\n",
    "y=3\n",
    "z=x+y\n",
    "a = ['x', 'y', 'z', 'x*y']\n",
    "a"
   ]
  },
  {
   "cell_type": "code",
   "execution_count": null,
   "id": "fd4cdf1e",
   "metadata": {},
   "outputs": [],
   "source": [
    "a=[eval(n) for n in a]\n",
    "a"
   ]
  },
  {
   "cell_type": "code",
   "execution_count": null,
   "id": "a682993a",
   "metadata": {},
   "outputs": [],
   "source": [
    "vars = ['print','max','type','float','eval'] #View documentation for objects\n",
    "for var in vars:\n",
    "    print(\"---------------------\"*3)\n",
    "    print(f'{var}')\n",
    "    print(\"---------------------\"*3)\n",
    "    print(help(var.strip('\\''))) # OR print(help(var.strip())) OR print(help(eval(var)))\n",
    "   \n",
    "    print(\"++++++++++++++++++++++\"*3)\n",
    "    print('\\n'*2)\n",
    " \n"
   ]
  },
  {
   "cell_type": "code",
   "execution_count": null,
   "id": "ff196828",
   "metadata": {},
   "outputs": [],
   "source": [
    "print(print.__doc__)"
   ]
  },
  {
   "cell_type": "code",
   "execution_count": null,
   "id": "3ab303be",
   "metadata": {},
   "outputs": [],
   "source": []
  }
 ],
 "metadata": {
  "kernelspec": {
   "display_name": "Python 3 (ipykernel)",
   "language": "python",
   "name": "python3"
  },
  "language_info": {
   "codemirror_mode": {
    "name": "ipython",
    "version": 3
   },
   "file_extension": ".py",
   "mimetype": "text/x-python",
   "name": "python",
   "nbconvert_exporter": "python",
   "pygments_lexer": "ipython3",
   "version": "3.11.4"
  }
 },
 "nbformat": 4,
 "nbformat_minor": 5
}
