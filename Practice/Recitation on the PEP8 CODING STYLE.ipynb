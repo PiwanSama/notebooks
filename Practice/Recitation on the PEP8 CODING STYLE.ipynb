{
 "cells": [
  {
   "cell_type": "markdown",
   "id": "c1b061e6",
   "metadata": {},
   "source": [
    "# PEP8 DON'TS"
   ]
  },
  {
   "cell_type": "code",
   "execution_count": 1,
   "id": "947d8aca",
   "metadata": {},
   "outputs": [],
   "source": [
    "# Avoid using single-character variable names (except for counters or iterators)\n",
    "x = 5\n",
    "y = 10\n",
    "\n",
    "# Avoid using uppercase letters in variable and function names\n",
    "CustomerName = \"John Doe\"\n",
    "\n",
    "def CalculateTotalPrice(Quantity, Price):\n",
    "    return Quantity * Price\n",
    "\n",
    "total_price=10\n",
    "\n",
    "TAX_RATE=0.9\n",
    "\n",
    "# Avoid using unnecessary whitespace or blank lines\n",
    "subtotal=total_price+(total_price*TAX_RATE)\n",
    "\n",
    "# Avoid exceeding the recommended line length of 79 characters\n",
    "long_string = \"This is a long string that exceeds the recommended line length of 79 characters. It should be split into multiple lines for better readability.\"\n",
    "\n",
    "# Avoid using unnecessary parentheses or brackets\n",
    "if (subtotal > 100):\n",
    "    print(\"Free shipping!\")\n",
    "\n",
    "# Avoid using wildcard imports (e.g., from module import *)\n",
    "from math import *\n",
    "\n",
    "# Avoid using trailing whitespace at the end of lines\n",
    "customer_name = \"John Doe\" \n",
    "\n",
    "# Avoid using unnecessary comments or comments that state the obvious\n",
    "# This is a variable\n",
    "x = 5\n",
    "\n",
    "# Avoid using multiple statements on a single line\n",
    "a = 1; b = 2; c = 3\n",
    "\n",
    "# Avoid using mutable objects as default values for function arguments\n",
    "def add_to_list(item, my_list=[]):\n",
    "    my_list.append(item)\n",
    "    return my_list\n"
   ]
  },
  {
   "cell_type": "markdown",
   "id": "69d98f7d",
   "metadata": {},
   "source": [
    "# PEP8 Do's"
   ]
  },
  {
   "cell_type": "markdown",
   "id": "95f5398a",
   "metadata": {},
   "source": [
    "### In snake_case, all letters are lowercase, and words are separated by underscores. except letters of constant "
   ]
  },
  {
   "cell_type": "code",
   "execution_count": 2,
   "id": "a4b668e4",
   "metadata": {},
   "outputs": [],
   "source": [
    "# Use descriptive and meaningful names for variables, functions, and classes\n",
    "customer_name = \"John Doe\"\n",
    "\n",
    "def calculate_total_price(quantity, price):\n",
    "    return quantity * price\n",
    "\n",
    "class BankAccount:\n",
    "    def __init__(self, account_number):\n",
    "        self.account_number = account_number\n",
    "\n",
    "# Use lowercase letters and underscores for variable and function names (snake_case)\n",
    "order_quantity = 10\n",
    "total_price = calculate_total_price(order_quantity, 5.99)\n",
    "\n",
    "# Use uppercase letters for constants\n",
    "TAX_RATE = 0.1\n",
    "\n",
    "# Use spaces around operators and after commas to improve readability\n",
    "subtotal = total_price + (total_price * TAX_RATE)\n",
    "\n",
    "# Use 4 spaces for indentation (avoid tabs)\n",
    "if subtotal > 100:\n",
    "    print(\"Free shipping!\")\n",
    "\n",
    "# Limit line length to 79 characters for improved readability\n",
    "long_string = \"This is a long string that exceeds the recommended line length of 79 characters. \" \\\n",
    "              \"It should be split into multiple lines for better readability.\"\n",
    "\n",
    "# Use comments to explain complex code or provide additional context\n",
    "# Calculate the total price by multiplying the quantity with the price\n",
    "\n",
    "# Use blank lines to separate logical sections of code for better organization\n",
    "def process_order(order):\n",
    "    # Code for processing the order\n",
    "\n",
    "    # Code for updating inventory\n",
    "\n",
    "    # Code for generating invoice\n",
    "\n",
    "# Follow the recommended import style: import each module on a separate line\n",
    "    return None\n",
    "import math\n",
    "import datetime\n",
    "\n",
    "# Use docstrings to provide documentation for classes, functions, and modules\n",
    "def calculate_area(radius):\n",
    "    \"\"\"Calculate the area of a circle given the radius.\n",
    "\n",
    "    Args:\n",
    "        radius (float): The radius of the circle.\n",
    "\n",
    "    Returns:\n",
    "        float: The area of the circle.\n",
    "    \"\"\"\n",
    "    return math.pi * radius**2\n"
   ]
  },
  {
   "cell_type": "markdown",
   "id": "f69b1b91",
   "metadata": {},
   "source": [
    "# bank account (parent class)"
   ]
  },
  {
   "cell_type": "code",
   "execution_count": 3,
   "id": "83241c65",
   "metadata": {},
   "outputs": [],
   "source": [
    "class BankAccount:\n",
    "    '''\n",
    "    bank account\n",
    "    '''\n",
    "    def __init__(self, owner, balance, account_number):\n",
    "        self.__owner = owner\n",
    "        self.__balance = balance\n",
    "        self.__account_number = account_number\n",
    "\n",
    "    def get_owner(self):\n",
    "        return self.__owner\n",
    "\n",
    "    def get_balance(self):\n",
    "        return self.__balance\n",
    "\n",
    "    def get_account_number(self):\n",
    "        return self.__account_number\n",
    "\n",
    "    def deposit(self, amount):\n",
    "        self.__balance += amount\n",
    "\n",
    "    def withdraw(self, amount):\n",
    "        if amount <= self.__balance:\n",
    "            self.__balance -= amount\n",
    "        else:\n",
    "            print(\"Insufficient funds\")\n",
    "\n",
    "    def __str__(self):\n",
    "        return f\"Account Owner: {self.__owner}\\nAccount Balance: {self.__balance}\\nAccount Number: {self.__account_number}\"\n"
   ]
  },
  {
   "cell_type": "markdown",
   "id": "e820883a",
   "metadata": {},
   "source": [
    "# Child class "
   ]
  },
  {
   "cell_type": "code",
   "execution_count": 4,
   "id": "0a29ab43",
   "metadata": {},
   "outputs": [],
   "source": [
    "class SavingsAccount(BankAccount):\n",
    "    def __init__(self, owner, balance, account_number, interest_rate):\n",
    "        super().__init__(owner, balance, account_number)\n",
    "        self.__interest_rate = interest_rate\n",
    "\n",
    "    def calculate_interest(self):\n",
    "        return self.get_balance() * self.__interest_rate\n",
    "\n",
    "    def __str__(self):\n",
    "        return super().__str__() + f\"\\nInterest Rate: {self.__interest_rate}\""
   ]
  },
  {
   "cell_type": "markdown",
   "id": "6d0a67e4",
   "metadata": {},
   "source": [
    "# Print account details"
   ]
  },
  {
   "cell_type": "code",
   "execution_count": 5,
   "id": "0baf5a5d",
   "metadata": {},
   "outputs": [],
   "source": [
    "def display_account_details(account):\n",
    "    '''\n",
    "    The function will print the account details\n",
    "    '''\n",
    "    print(account)\n"
   ]
  },
  {
   "cell_type": "markdown",
   "id": "8601b70c",
   "metadata": {},
   "source": [
    "### Create instances of BankAccount, SavingsAccount"
   ]
  },
  {
   "cell_type": "code",
   "execution_count": 6,
   "id": "dd6afb5e",
   "metadata": {},
   "outputs": [],
   "source": [
    "bank_account = BankAccount(\"John Doe\", 1000, \"123456789\")\n",
    "savings_account = SavingsAccount(\"Jane Smith\", 2000, \"987654321\", 0.05)"
   ]
  },
  {
   "cell_type": "markdown",
   "id": "2092bc3d",
   "metadata": {},
   "source": [
    "### Perform withdrawal and deposit actions and display account details"
   ]
  },
  {
   "cell_type": "code",
   "execution_count": 7,
   "id": "43690ddc",
   "metadata": {},
   "outputs": [
    {
     "name": "stdout",
     "output_type": "stream",
     "text": [
      "Account Owner: John Doe\n",
      "Account Balance: 1500\n",
      "Account Number: 123456789\n"
     ]
    }
   ],
   "source": [
    "bank_account.withdraw(500)\n",
    "\n",
    "bank_account.deposit(1000)\n",
    "\n",
    "display_account_details(bank_account)"
   ]
  },
  {
   "cell_type": "markdown",
   "id": "4358280b",
   "metadata": {},
   "source": [
    "### Calculate interest, modify balance, and display account details for SavingsAccount"
   ]
  },
  {
   "cell_type": "code",
   "execution_count": 8,
   "id": "17ac77cb",
   "metadata": {},
   "outputs": [
    {
     "name": "stdout",
     "output_type": "stream",
     "text": [
      "Account Owner: Jane Smith\n",
      "Account Balance: 2100.0\n",
      "Account Number: 987654321\n",
      "Interest Rate: 0.05\n"
     ]
    }
   ],
   "source": [
    "interest_earned = savings_account.calculate_interest()\n",
    "\n",
    "savings_account.deposit(interest_earned)\n",
    "\n",
    "display_account_details(savings_account)"
   ]
  },
  {
   "cell_type": "markdown",
   "id": "89e297dd",
   "metadata": {},
   "source": [
    "## Add instances to a list and display account details using a loop"
   ]
  },
  {
   "cell_type": "code",
   "execution_count": 9,
   "id": "6de844af",
   "metadata": {},
   "outputs": [
    {
     "name": "stdout",
     "output_type": "stream",
     "text": [
      "Account Owner: John Doe\n",
      "Account Balance: 1500\n",
      "Account Number: 123456789\n",
      "\n",
      "\n",
      "Account Owner: Jane Smith\n",
      "Account Balance: 2100.0\n",
      "Account Number: 987654321\n",
      "Interest Rate: 0.05\n",
      "\n",
      "\n"
     ]
    }
   ],
   "source": [
    "accounts = [bank_account, savings_account]\n",
    "\n",
    "for account in accounts:\n",
    "    display_account_details(account)\n",
    "    print('\\n')\n"
   ]
  },
  {
   "cell_type": "code",
   "execution_count": 25,
   "id": "2f2f8c56",
   "metadata": {},
   "outputs": [
    {
     "name": "stdout",
     "output_type": "stream",
     "text": [
      "This is a normal method.\n",
      "Value: 10\n"
     ]
    },
    {
     "ename": "NameError",
     "evalue": "name 'self' is not defined",
     "output_type": "error",
     "traceback": [
      "\u001b[1;31m---------------------------------------------------------------------------\u001b[0m",
      "\u001b[1;31mNameError\u001b[0m                                 Traceback (most recent call last)",
      "\u001b[1;32m<ipython-input-25-66d5d4b28c00>\u001b[0m in \u001b[0;36m<module>\u001b[1;34m\u001b[0m\n\u001b[0;32m     21\u001b[0m \u001b[1;33m\u001b[0m\u001b[0m\n\u001b[0;32m     22\u001b[0m \u001b[1;31m# Calling static method\u001b[0m\u001b[1;33m\u001b[0m\u001b[1;33m\u001b[0m\u001b[0m\n\u001b[1;32m---> 23\u001b[1;33m \u001b[0mMyClass\u001b[0m\u001b[1;33m.\u001b[0m\u001b[0mstatic_method\u001b[0m\u001b[1;33m(\u001b[0m\u001b[0mself\u001b[0m\u001b[1;33m)\u001b[0m\u001b[1;33m\u001b[0m\u001b[1;33m\u001b[0m\u001b[0m\n\u001b[0m",
      "\u001b[1;31mNameError\u001b[0m: name 'self' is not defined"
     ]
    }
   ],
   "source": [
    "#Different between static method and normal method of classes\n",
    "\n",
    "class MyClass:\n",
    "    def __init__(self, value):\n",
    "        self.value = value\n",
    "\n",
    "    def normal_method(self):\n",
    "        print(\"This is a normal method.\")\n",
    "        print(\"Value:\", self.value)\n",
    "\n",
    "    @staticmethod\n",
    "    def static_method(self):\n",
    "        print(f\"This is a static method.{self.value}\")\n",
    "        print(\"Static method cannot access instance variables.\")\n",
    "\n",
    "# Creating an instance of MyClass\n",
    "obj = MyClass(10)\n",
    "\n",
    "# Calling normal method\n",
    "obj.normal_method()\n",
    "\n",
    "# Calling static method\n",
    "MyClass.static_method(self)\n"
   ]
  },
  {
   "cell_type": "code",
   "execution_count": 26,
   "id": "031e819d",
   "metadata": {},
   "outputs": [
    {
     "ename": "TypeError",
     "evalue": "static_method() missing 1 required positional argument: 'self'",
     "output_type": "error",
     "traceback": [
      "\u001b[1;31m---------------------------------------------------------------------------\u001b[0m",
      "\u001b[1;31mTypeError\u001b[0m                                 Traceback (most recent call last)",
      "\u001b[1;32m<ipython-input-26-c93e659c30ea>\u001b[0m in \u001b[0;36m<module>\u001b[1;34m\u001b[0m\n\u001b[1;32m----> 1\u001b[1;33m \u001b[0mobj\u001b[0m\u001b[1;33m.\u001b[0m\u001b[0mstatic_method\u001b[0m\u001b[1;33m(\u001b[0m\u001b[1;33m)\u001b[0m\u001b[1;33m\u001b[0m\u001b[1;33m\u001b[0m\u001b[0m\n\u001b[0m",
      "\u001b[1;31mTypeError\u001b[0m: static_method() missing 1 required positional argument: 'self'"
     ]
    }
   ],
   "source": [
    "obj.static_method()"
   ]
  },
  {
   "cell_type": "markdown",
   "id": "d0d58afc",
   "metadata": {},
   "source": [
    "### usability of static methods"
   ]
  },
  {
   "cell_type": "code",
   "execution_count": 21,
   "id": "5303a85f",
   "metadata": {},
   "outputs": [],
   "source": [
    "class Dates:\n",
    "    def __init__(self, date):\n",
    "        self.date = date\n",
    "        \n",
    "    def getDate(self):\n",
    "        return self.date\n",
    "\n",
    "    @staticmethod\n",
    "    def toDashDate(date):\n",
    "        return date.replace(\"/\", \"-\")\n",
    "    "
   ]
  },
  {
   "cell_type": "code",
   "execution_count": 22,
   "id": "999ee073",
   "metadata": {},
   "outputs": [
    {
     "name": "stdout",
     "output_type": "stream",
     "text": [
      "Equal\n"
     ]
    }
   ],
   "source": [
    "date = Dates(\"15-12-2016\")\n",
    "dateFromDB = \"15/12/2016\"\n",
    "dateWithDash = Dates.toDashDate(dateFromDB)\n",
    "\n",
    "if(date.getDate() == dateWithDash):\n",
    "    print(\"Equal\")\n",
    "else:\n",
    "    print(\"Unequal\")"
   ]
  },
  {
   "cell_type": "markdown",
   "id": "24da7153",
   "metadata": {},
   "source": [
    "# Multilevel inheritance and hybrid inheritance "
   ]
  },
  {
   "cell_type": "code",
   "execution_count": 13,
   "id": "c773beb4",
   "metadata": {},
   "outputs": [],
   "source": [
    "# Base class \n",
    "class Base:\n",
    "    def __init__(self, value):\n",
    "        self.value = value\n",
    "\n",
    "    def show_value(self):\n",
    "        print(\"Value in Base:\", self.value)\n"
   ]
  },
  {
   "cell_type": "code",
   "execution_count": 14,
   "id": "e7e055c1",
   "metadata": {},
   "outputs": [],
   "source": [
    "# Class with multilevel inheritance\n",
    "class DerivedA(Base):\n",
    "    def __init__(self, value):\n",
    "        super().__init__(value)\n",
    "\n",
    "    def show_value(self):\n",
    "        super().show_value()\n",
    "        print(\"Value in DerivedA:\", self.value)"
   ]
  },
  {
   "cell_type": "markdown",
   "id": "575a955b",
   "metadata": {},
   "source": [
    "## Create new class "
   ]
  },
  {
   "cell_type": "code",
   "execution_count": 15,
   "id": "85d71c65",
   "metadata": {},
   "outputs": [],
   "source": [
    "class DerivedB:\n",
    "    def __init__(self, value):\n",
    "        self.value = value\n",
    "\n",
    "    def show_value(self):\n",
    "        print(\"Value in DerivedB:\", self.value)"
   ]
  },
  {
   "cell_type": "code",
   "execution_count": 16,
   "id": "4c6b757a",
   "metadata": {},
   "outputs": [],
   "source": [
    "# Class combining multilevel and hybrid inheritance\n",
    "class Combined(DerivedA, DerivedB):\n",
    "    def __init__(self, value):\n",
    "        DerivedA.__init__(self, value)\n",
    "        DerivedB.__init__(self, value)\n",
    "\n",
    "    def show_value(self):\n",
    "        DerivedA.show_value(self)\n",
    "        DerivedB.show_value(self)\n",
    "        print(\"Value in Combined:\", self.value)"
   ]
  },
  {
   "cell_type": "code",
   "execution_count": 17,
   "id": "61d92b3d",
   "metadata": {},
   "outputs": [
    {
     "name": "stdout",
     "output_type": "stream",
     "text": [
      "Value in Base: 10\n",
      "Value in DerivedA: 10\n",
      "Value in DerivedB: 10\n",
      "Value in Combined: 10\n"
     ]
    }
   ],
   "source": [
    "# Creating instances and demonstrating inheritance\n",
    "combined_obj = Combined(10)\n",
    "combined_obj.show_value()"
   ]
  }
 ],
 "metadata": {
  "kernelspec": {
   "display_name": "Python 3 (ipykernel)",
   "language": "python",
   "name": "python3"
  },
  "language_info": {
   "codemirror_mode": {
    "name": "ipython",
    "version": 3
   },
   "file_extension": ".py",
   "mimetype": "text/x-python",
   "name": "python",
   "nbconvert_exporter": "python",
   "pygments_lexer": "ipython3",
   "version": "3.11.4"
  }
 },
 "nbformat": 4,
 "nbformat_minor": 5
}
