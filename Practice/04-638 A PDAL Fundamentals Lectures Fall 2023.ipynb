{
 "cells": [
  {
   "cell_type": "code",
   "execution_count": 9,
   "id": "3f0f38fe",
   "metadata": {},
   "outputs": [
    {
     "data": {
      "text/plain": [
       "10"
      ]
     },
     "execution_count": 9,
     "metadata": {},
     "output_type": "execute_result"
    }
   ],
   "source": [
    "#variable_name=value, e.g.\n",
    "num=10 #LHS-variable name; RHS-expression e.g. literal\n",
    "num"
   ]
  },
  {
   "cell_type": "code",
   "execution_count": 10,
   "id": "62cc9b61",
   "metadata": {},
   "outputs": [],
   "source": [
    "x, y=10,12 #binds 10 to x, 12 to y"
   ]
  },
  {
   "cell_type": "code",
   "execution_count": 11,
   "id": "e86a4824",
   "metadata": {},
   "outputs": [
    {
     "data": {
      "text/plain": [
       "10"
      ]
     },
     "execution_count": 11,
     "metadata": {},
     "output_type": "execute_result"
    }
   ],
   "source": [
    "x"
   ]
  },
  {
   "cell_type": "code",
   "execution_count": 12,
   "id": "a1fe8900",
   "metadata": {},
   "outputs": [
    {
     "data": {
      "text/plain": [
       "12"
      ]
     },
     "execution_count": 12,
     "metadata": {},
     "output_type": "execute_result"
    }
   ],
   "source": [
    "y"
   ]
  },
  {
   "cell_type": "code",
   "execution_count": 13,
   "id": "3bb5e297",
   "metadata": {},
   "outputs": [
    {
     "data": {
      "text/plain": [
       "10"
      ]
     },
     "execution_count": 13,
     "metadata": {},
     "output_type": "execute_result"
    }
   ],
   "source": [
    "num=10\n",
    "num"
   ]
  },
  {
   "cell_type": "code",
   "execution_count": 14,
   "id": "c811432c",
   "metadata": {},
   "outputs": [
    {
     "data": {
      "text/plain": [
       "100"
      ]
     },
     "execution_count": 14,
     "metadata": {},
     "output_type": "execute_result"
    }
   ],
   "source": [
    "num=100\n",
    "num"
   ]
  },
  {
   "cell_type": "code",
   "execution_count": 15,
   "id": "fd870767",
   "metadata": {},
   "outputs": [
    {
     "name": "stdout",
     "output_type": "stream",
     "text": [
      "enter your age: 12\n"
     ]
    },
    {
     "data": {
      "text/plain": [
       "'12'"
      ]
     },
     "execution_count": 15,
     "metadata": {},
     "output_type": "execute_result"
    }
   ],
   "source": [
    "#variable_name=input(prompt), e.g.\n",
    "age=input(\"enter your age: \");\n",
    "age"
   ]
  },
  {
   "cell_type": "code",
   "execution_count": 3,
   "id": "97cc2212",
   "metadata": {},
   "outputs": [
    {
     "name": "stdout",
     "output_type": "stream",
     "text": [
      "enter your age: 12\n"
     ]
    },
    {
     "data": {
      "text/plain": [
       "12"
      ]
     },
     "execution_count": 3,
     "metadata": {},
     "output_type": "execute_result"
    }
   ],
   "source": [
    "age=eval(input(\"enter your age: \"));\n",
    "age"
   ]
  },
  {
   "cell_type": "code",
   "execution_count": 16,
   "id": "2610f99e",
   "metadata": {},
   "outputs": [
    {
     "name": "stdout",
     "output_type": "stream",
     "text": [
      "enter your age: 12\n"
     ]
    },
    {
     "data": {
      "text/plain": [
       "12"
      ]
     },
     "execution_count": 16,
     "metadata": {},
     "output_type": "execute_result"
    }
   ],
   "source": [
    "age=int(input(\"enter your age: \"));\n",
    "age"
   ]
  },
  {
   "cell_type": "code",
   "execution_count": 17,
   "id": "32058721",
   "metadata": {},
   "outputs": [
    {
     "name": "stdout",
     "output_type": "stream",
     "text": [
      "enter your weight in kgs: 54.3\n"
     ]
    },
    {
     "data": {
      "text/plain": [
       "54.3"
      ]
     },
     "execution_count": 17,
     "metadata": {},
     "output_type": "execute_result"
    }
   ],
   "source": [
    "weight=float(input(\"enter your weight in kgs: \"));\n",
    "weight"
   ]
  },
  {
   "cell_type": "code",
   "execution_count": null,
   "id": "f717f2ff",
   "metadata": {},
   "outputs": [],
   "source": [
    "result=eval(input(\"enter a mathematical expression: \"));\n",
    "result"
   ]
  },
  {
   "cell_type": "code",
   "execution_count": 18,
   "id": "81cab23f",
   "metadata": {},
   "outputs": [
    {
     "data": {
      "text/plain": [
       "True"
      ]
     },
     "execution_count": 18,
     "metadata": {},
     "output_type": "execute_result"
    }
   ],
   "source": [
    "not 7>3 or 4 == 4"
   ]
  },
  {
   "cell_type": "code",
   "execution_count": 19,
   "id": "064b51e6",
   "metadata": {},
   "outputs": [
    {
     "data": {
      "text/plain": [
       "True"
      ]
     },
     "execution_count": 19,
     "metadata": {},
     "output_type": "execute_result"
    }
   ],
   "source": [
    "7>3 and 2<6"
   ]
  },
  {
   "cell_type": "code",
   "execution_count": 20,
   "id": "d118b6b7",
   "metadata": {},
   "outputs": [
    {
     "data": {
      "text/plain": [
       "False"
      ]
     },
     "execution_count": 20,
     "metadata": {},
     "output_type": "execute_result"
    }
   ],
   "source": [
    "not(7>3 and 2<6)"
   ]
  },
  {
   "cell_type": "code",
   "execution_count": 21,
   "id": "e2874653",
   "metadata": {},
   "outputs": [
    {
     "name": "stdout",
     "output_type": "stream",
     "text": [
      "Enter your age:10\n",
      "10 , you are too young\n"
     ]
    }
   ],
   "source": [
    "age=int(input(\"Enter your age:\"))\n",
    "if age>=40:\n",
    "    print(age, \", you are too old\")\n",
    "elif age>=20:\n",
    "    print(age, \", you are a young adult\")\n",
    "else:\n",
    "    print(age, \", you are too young\")\n"
   ]
  },
  {
   "cell_type": "code",
   "execution_count": 22,
   "id": "2d3b8fd8",
   "metadata": {},
   "outputs": [
    {
     "name": "stdout",
     "output_type": "stream",
     "text": [
      "Sum:  6\n"
     ]
    }
   ],
   "source": [
    "count=1\n",
    "sum=0\n",
    "while count<=3:\n",
    "    sum=sum+count\n",
    "    count=count+1\n",
    "print(\"Sum: \", sum)\n"
   ]
  },
  {
   "cell_type": "code",
   "execution_count": 23,
   "id": "2d6a7188",
   "metadata": {},
   "outputs": [
    {
     "name": "stdout",
     "output_type": "stream",
     "text": [
      "1 cube: 1.0\n",
      "2 cube: 8.0\n",
      "3 cube: 27.0\n",
      "4 cube: 64.0\n",
      "5 cube: 125.0\n",
      "6 cube: 216.0\n",
      "7 cube: 343.0\n",
      "8 cube: 512.0\n",
      "9 cube: 729.0\n",
      "10 cube: 1000.0\n"
     ]
    }
   ],
   "source": [
    "import math\n",
    "count=1\n",
    "while count<=10:\n",
    "    print(count, \"cube:\", math.pow(count, 3))\n",
    "    count=count+1\n"
   ]
  },
  {
   "cell_type": "code",
   "execution_count": 24,
   "id": "3174b068",
   "metadata": {},
   "outputs": [
    {
     "name": "stdout",
     "output_type": "stream",
     "text": [
      "Kimani\n",
      "Ike\n",
      "Ishimiwe\n"
     ]
    }
   ],
   "source": [
    "surnames = [\"Kimani\", \"Ike\", \"Ishimiwe\"] #list of surnames\n",
    "for surname in surnames:\n",
    "  print(surname)\n"
   ]
  },
  {
   "cell_type": "code",
   "execution_count": null,
   "id": "79b85fdf",
   "metadata": {},
   "outputs": [],
   "source": [
    "name = input(\"Enter your name\")\n",
    "age = eval(input(\"Enter your age\"))\n",
    "weight = float(input(\"Enter your weight\"))\n",
    "height = float(input(\"Enter your height\"))"
   ]
  },
  {
   "cell_type": "code",
   "execution_count": null,
   "id": "cf45bb04",
   "metadata": {},
   "outputs": [],
   "source": [
    "print(f\"Name : {name}\")\n",
    "print(f\"Age : {age}\")\n",
    "print(f\"Weight : {weight}\")\n",
    "print(f\"Height : {height}\")"
   ]
  },
  {
   "cell_type": "code",
   "execution_count": 1,
   "id": "1f79df4a",
   "metadata": {},
   "outputs": [
    {
     "name": "stdout",
     "output_type": "stream",
     "text": [
      "Enter the number to raise2\n"
     ]
    }
   ],
   "source": [
    "num = int(input(\"Enter the number to raise\"))"
   ]
  },
  {
   "cell_type": "code",
   "execution_count": 2,
   "id": "63078adf",
   "metadata": {},
   "outputs": [
    {
     "name": "stdout",
     "output_type": "stream",
     "text": [
      "Enter the power3\n"
     ]
    }
   ],
   "source": [
    "exp = int(input(\"Enter the power\"))"
   ]
  },
  {
   "cell_type": "code",
   "execution_count": 4,
   "id": "43badda2",
   "metadata": {},
   "outputs": [
    {
     "name": "stdout",
     "output_type": "stream",
     "text": [
      "2 to power 3 is 8\n"
     ]
    }
   ],
   "source": [
    "print(str(num)+\" to power \"+str(exp)+\" is \"+str(num ** exp))"
   ]
  },
  {
   "cell_type": "code",
   "execution_count": 9,
   "id": "108ef8be",
   "metadata": {},
   "outputs": [],
   "source": [
    "import math"
   ]
  },
  {
   "cell_type": "code",
   "execution_count": 10,
   "id": "2e24a194",
   "metadata": {},
   "outputs": [
    {
     "name": "stdout",
     "output_type": "stream",
     "text": [
      "Enter the maximum number for the loop\n",
      "12\n"
     ]
    }
   ],
   "source": [
    "max_num = eval(input(\"Enter the maximum number for the loop\\n\"))"
   ]
  },
  {
   "cell_type": "code",
   "execution_count": 12,
   "id": "3522111a",
   "metadata": {},
   "outputs": [
    {
     "name": "stdout",
     "output_type": "stream",
     "text": [
      "Square root of 1 is 1.0\n",
      "Square root of 2 is 1.4142135623730951\n",
      "Square root of 3 is 1.7320508075688772\n",
      "Square root of 4 is 2.0\n",
      "Square root of 5 is 2.23606797749979\n",
      "Square root of 6 is 2.449489742783178\n",
      "Square root of 7 is 2.6457513110645907\n",
      "Square root of 8 is 2.8284271247461903\n",
      "Square root of 9 is 3.0\n",
      "Square root of 10 is 3.1622776601683795\n",
      "Square root of 11 is 3.3166247903554\n",
      "Square root of 12 is 3.4641016151377544\n"
     ]
    }
   ],
   "source": [
    "if max_num < 1 or max_num > 100:\n",
    "    print(\"Enter a number between 1 and 100\")\n",
    "else:\n",
    "    i = 1\n",
    "    while(i <= max_num):\n",
    "        print(f\"Square root of {i} is {math.sqrt(i)}\")\n",
    "        i+=1"
   ]
  },
  {
   "cell_type": "code",
   "execution_count": 16,
   "id": "acf1ecf8",
   "metadata": {},
   "outputs": [
    {
     "name": "stdout",
     "output_type": "stream",
     "text": [
      "0.8041782815264716\n"
     ]
    }
   ],
   "source": [
    "import random\n",
    "\n",
    "print(random.random())"
   ]
  },
  {
   "cell_type": "code",
   "execution_count": 19,
   "id": "cec8e28b",
   "metadata": {},
   "outputs": [
    {
     "name": "stdout",
     "output_type": "stream",
     "text": [
      "4\n"
     ]
    }
   ],
   "source": [
    "square = lambda x : x*x\n",
    "print(square(2))"
   ]
  },
  {
   "cell_type": "code",
   "execution_count": 20,
   "id": "26549906",
   "metadata": {},
   "outputs": [
    {
     "name": "stdout",
     "output_type": "stream",
     "text": [
      "2\n"
     ]
    }
   ],
   "source": [
    "letters = [\"a\", \"a\", \"c\"]\n",
    "print(letters.count(\"a\"))"
   ]
  },
  {
   "cell_type": "code",
   "execution_count": 22,
   "id": "f428c64c",
   "metadata": {},
   "outputs": [
    {
     "name": "stdout",
     "output_type": "stream",
     "text": [
      "Programming” ” “ ” for Data Analytics\n"
     ]
    }
   ],
   "source": [
    "print(\"Programming” ” “ ” for Data Analytics\")"
   ]
  },
  {
   "cell_type": "code",
   "execution_count": 24,
   "id": "90016277",
   "metadata": {},
   "outputs": [
    {
     "name": "stdout",
     "output_type": "stream",
     "text": [
      "HelloHelloHello\n"
     ]
    }
   ],
   "source": [
    "print(\"Hello\"*3)"
   ]
  },
  {
   "cell_type": "code",
   "execution_count": 25,
   "id": "4dbe39b9",
   "metadata": {},
   "outputs": [],
   "source": [
    "text = \"hello\""
   ]
  },
  {
   "cell_type": "code",
   "execution_count": 32,
   "id": "7009d707",
   "metadata": {},
   "outputs": [
    {
     "name": "stdout",
     "output_type": "stream",
     "text": [
      "e\n"
     ]
    }
   ],
   "source": [
    "print(text[-4])"
   ]
  },
  {
   "cell_type": "code",
   "execution_count": 33,
   "id": "37fe1baf",
   "metadata": {},
   "outputs": [],
   "source": [
    "slicer = \"Slice the text\""
   ]
  },
  {
   "cell_type": "code",
   "execution_count": 38,
   "id": "8cdc5e8e",
   "metadata": {},
   "outputs": [
    {
     "name": "stdout",
     "output_type": "stream",
     "text": [
      "ice the text\n"
     ]
    }
   ],
   "source": [
    "print(slicer[2:])"
   ]
  },
  {
   "cell_type": "code",
   "execution_count": 48,
   "id": "2e89f5e8",
   "metadata": {},
   "outputs": [
    {
     "name": "stdout",
     "output_type": "stream",
     "text": [
      "This is important too\n"
     ]
    }
   ],
   "source": [
    "lily = ['This', \"is\", \"important\", \"too\"]\n",
    "seperator = ' '\n",
    "sentence = seperator.join(lily)\n",
    "print(sentence)"
   ]
  },
  {
   "cell_type": "code",
   "execution_count": null,
   "id": "40114372",
   "metadata": {},
   "outputs": [],
   "source": [
    "list_1 = ['Hello', 'world', '!', 'This', 'is', 'Python'] \n",
    "\n",
    "separator = ' ' \n",
    "\n",
    "result = separator.join(list_1) \n",
    "\n",
    "print(result)"
   ]
  },
  {
   "cell_type": "code",
   "execution_count": 49,
   "id": "665031e9",
   "metadata": {},
   "outputs": [
    {
     "name": "stdout",
     "output_type": "stream",
     "text": [
      "2\n",
      "4\n",
      "[6, 8, 10]\n"
     ]
    }
   ],
   "source": [
    "a, b, *c = 2,4,6,8,10\n",
    "print(a)\n",
    "print(b)\n",
    "print(c)"
   ]
  },
  {
   "cell_type": "code",
   "execution_count": 60,
   "id": "d3c2802b",
   "metadata": {},
   "outputs": [],
   "source": [
    "students={\"regno\":\"g1010\",\"Name\":\"Hazimana\",\"DoB\":\"01-01-1990\"}"
   ]
  },
  {
   "cell_type": "code",
   "execution_count": 59,
   "id": "e7952dd8",
   "metadata": {},
   "outputs": [
    {
     "name": "stdout",
     "output_type": "stream",
     "text": [
      "{'regno': 'g1011', 'Name': 'Quasi', 'DoB': '01-01-1992'}\n"
     ]
    }
   ],
   "source": [
    "print(students)"
   ]
  },
  {
   "cell_type": "code",
   "execution_count": 61,
   "id": "cb2bb93e",
   "metadata": {},
   "outputs": [],
   "source": [
    "keys = students.keys()"
   ]
  },
  {
   "cell_type": "code",
   "execution_count": 69,
   "id": "f885fe37",
   "metadata": {},
   "outputs": [
    {
     "name": "stdout",
     "output_type": "stream",
     "text": [
      "regno : g1010\n",
      "Name : Hazimana\n",
      "DoB : 01-01-1990\n"
     ]
    }
   ],
   "source": [
    "for key in keys:\n",
    "    print(\"{} : {}\".format(key, students[key]))"
   ]
  },
  {
   "cell_type": "code",
   "execution_count": 70,
   "id": "0847c76f",
   "metadata": {},
   "outputs": [],
   "source": [
    "items = students.items()"
   ]
  },
  {
   "cell_type": "code",
   "execution_count": 74,
   "id": "a97f5709",
   "metadata": {},
   "outputs": [
    {
     "name": "stdout",
     "output_type": "stream",
     "text": [
      "('regno', 'g1010')\n",
      "('Name', 'Hazimana')\n",
      "('DoB', '01-01-1990')\n"
     ]
    }
   ],
   "source": [
    "for item in items:\n",
    "    print(item)"
   ]
  },
  {
   "cell_type": "code",
   "execution_count": 77,
   "id": "6310e5d3",
   "metadata": {},
   "outputs": [
    {
     "name": "stdout",
     "output_type": "stream",
     "text": [
      "country : Rwanda\n",
      "age : 65\n",
      "height : 5.6\n"
     ]
    }
   ],
   "source": [
    "def use_kwargs(**kwargs):\n",
    "    keys = kwargs.keys()\n",
    "    for key in keys:\n",
    "        print(\"{} : {}\".format(key, kwargs[key]))\n",
    "\n",
    "use_kwargs(country=\"Rwanda\", age=\"65\", height=\"5.6\")"
   ]
  },
  {
   "cell_type": "code",
   "execution_count": 85,
   "id": "fa61218d",
   "metadata": {},
   "outputs": [],
   "source": [
    "file = open(\"test.txt\", \"w\")\n",
    "file.write(\"This is write\")\n",
    "file.close()"
   ]
  },
  {
   "cell_type": "code",
   "execution_count": null,
   "id": "4cfdbdb2",
   "metadata": {},
   "outputs": [],
   "source": []
  },
  {
   "cell_type": "code",
   "execution_count": null,
   "id": "199616c9",
   "metadata": {},
   "outputs": [],
   "source": []
  }
 ],
 "metadata": {
  "kernelspec": {
   "display_name": "Python 3 (ipykernel)",
   "language": "python",
   "name": "python3"
  },
  "language_info": {
   "codemirror_mode": {
    "name": "ipython",
    "version": 3
   },
   "file_extension": ".py",
   "mimetype": "text/x-python",
   "name": "python",
   "nbconvert_exporter": "python",
   "pygments_lexer": "ipython3",
   "version": "3.11.4"
  }
 },
 "nbformat": 4,
 "nbformat_minor": 5
}
