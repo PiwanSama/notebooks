{
 "cells": [
  {
   "cell_type": "code",
   "execution_count": null,
   "id": "3f0f38fe",
   "metadata": {},
   "outputs": [],
   "source": [
    "#variable_name=value, e.g.\n",
    "num=10 #LHS-variable name; RHS-expression e.g. literal\n",
    "num"
   ]
  },
  {
   "cell_type": "code",
   "execution_count": null,
   "id": "62cc9b61",
   "metadata": {},
   "outputs": [],
   "source": [
    "x, y=10,12 #binds 10 to x, 12 to y"
   ]
  },
  {
   "cell_type": "code",
   "execution_count": null,
   "id": "e86a4824",
   "metadata": {},
   "outputs": [],
   "source": [
    "x"
   ]
  },
  {
   "cell_type": "code",
   "execution_count": null,
   "id": "a1fe8900",
   "metadata": {},
   "outputs": [],
   "source": [
    "y"
   ]
  },
  {
   "cell_type": "code",
   "execution_count": null,
   "id": "3bb5e297",
   "metadata": {},
   "outputs": [],
   "source": [
    "num=10\n",
    "num"
   ]
  },
  {
   "cell_type": "code",
   "execution_count": null,
   "id": "c811432c",
   "metadata": {},
   "outputs": [],
   "source": [
    "num=100\n",
    "num"
   ]
  },
  {
   "cell_type": "code",
   "execution_count": null,
   "id": "fd870767",
   "metadata": {},
   "outputs": [],
   "source": [
    "#variable_name=input(prompt), e.g.\n",
    "age=input(\"enter your age: \");\n",
    "age\n"
   ]
  },
  {
   "cell_type": "code",
   "execution_count": null,
   "id": "97cc2212",
   "metadata": {},
   "outputs": [],
   "source": [
    "age=eval(input(\"enter your age: \"));\n",
    "age\n"
   ]
  },
  {
   "cell_type": "code",
   "execution_count": null,
   "id": "2610f99e",
   "metadata": {},
   "outputs": [],
   "source": [
    "age=int(input(\"enter your age: \"));\n",
    "age"
   ]
  },
  {
   "cell_type": "code",
   "execution_count": null,
   "id": "32058721",
   "metadata": {},
   "outputs": [],
   "source": [
    "weight=float(input(\"enter your weight in kgs: \"));\n",
    "weight"
   ]
  },
  {
   "cell_type": "code",
   "execution_count": null,
   "id": "f717f2ff",
   "metadata": {},
   "outputs": [],
   "source": [
    "result=eval(input(\"enter a mathematical expression: \"));\n",
    "result"
   ]
  },
  {
   "cell_type": "code",
   "execution_count": null,
   "id": "81cab23f",
   "metadata": {},
   "outputs": [],
   "source": [
    "not 7>3 or 4 == 4"
   ]
  },
  {
   "cell_type": "code",
   "execution_count": null,
   "id": "064b51e6",
   "metadata": {},
   "outputs": [],
   "source": [
    "7>3 and 2<6"
   ]
  },
  {
   "cell_type": "code",
   "execution_count": null,
   "id": "d118b6b7",
   "metadata": {},
   "outputs": [],
   "source": [
    "not(7>3 and 2<6)"
   ]
  },
  {
   "cell_type": "code",
   "execution_count": null,
   "id": "e2874653",
   "metadata": {},
   "outputs": [],
   "source": [
    "age=int(input(\"Enter your age:\"))\n",
    "if age>=40:\n",
    "    print(age, \", you are too old\")\n",
    "elif age>=20:\n",
    "    print(age, \", you are a young adult\")\n",
    "else:\n",
    "    print(age, \", you are too young\")\n"
   ]
  },
  {
   "cell_type": "code",
   "execution_count": null,
   "id": "2d3b8fd8",
   "metadata": {},
   "outputs": [],
   "source": [
    "count=1\n",
    "sum=0\n",
    "while count<=3:\n",
    "    sum=sum+count\n",
    "    count=count+1\n",
    "print(\"Sum: \", sum)\n"
   ]
  },
  {
   "cell_type": "code",
   "execution_count": null,
   "id": "2d6a7188",
   "metadata": {},
   "outputs": [],
   "source": [
    "import math\n",
    "count=1\n",
    "while count<=10:\n",
    "    print(count, \"cube:\", math.pow(count, 3))\n",
    "    count=count+1\n"
   ]
  },
  {
   "cell_type": "code",
   "execution_count": null,
   "id": "3174b068",
   "metadata": {},
   "outputs": [],
   "source": [
    "surnames = [\"Kimani\", \"Ike\", \"Ishimiwe\"] #list of surnames\n",
    "for surname in surnames:\n",
    "  print(surname)\n"
   ]
  },
  {
   "cell_type": "code",
   "execution_count": null,
   "id": "79b85fdf",
   "metadata": {},
   "outputs": [],
   "source": []
  }
 ],
 "metadata": {
  "kernelspec": {
   "display_name": "Python 3 (ipykernel)",
   "language": "python",
   "name": "python3"
  },
  "language_info": {
   "codemirror_mode": {
    "name": "ipython",
    "version": 3
   },
   "file_extension": ".py",
   "mimetype": "text/x-python",
   "name": "python",
   "nbconvert_exporter": "python",
   "pygments_lexer": "ipython3",
   "version": "3.11.4"
  }
 },
 "nbformat": 4,
 "nbformat_minor": 5
}
