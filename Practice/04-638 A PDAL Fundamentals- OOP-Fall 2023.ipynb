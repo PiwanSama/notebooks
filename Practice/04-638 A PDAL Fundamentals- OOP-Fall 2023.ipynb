{
 "cells": [
  {
   "cell_type": "markdown",
   "id": "ad0651ff",
   "metadata": {},
   "source": [
    "## Decorators"
   ]
  },
  {
   "cell_type": "markdown",
   "id": "de0fec8f",
   "metadata": {},
   "source": [
    "It is your job to understand how decorators work. Consider that functions are first class objects in Python."
   ]
  },
  {
   "cell_type": "code",
   "execution_count": null,
   "id": "64cdde41",
   "metadata": {},
   "outputs": [],
   "source": []
  },
  {
   "cell_type": "markdown",
   "id": "880430d1",
   "metadata": {},
   "source": [
    "#### Using properties to control data access and modification.\n",
    "A common way to control data access is to use properties. Properties look like data attributes to client code/applications but control how to access and modify an object's data.\n",
    "\n",
    "The properties can be read-write or read-only properties.\n",
    "\n",
    "Each property defines a getter method that can retieve the data attribute's value and could define a setter if needed.\n",
    "\n",
    "Proper use of the properties depends on other Python programmers using the conventions."
   ]
  },
  {
   "cell_type": "markdown",
   "id": "783183ee",
   "metadata": {},
   "source": [
    "#### Inheritance and Method Overriding: \n",
    "A circle is a  shape that has a radius. A sphere is a 3-D shape that has a radius. A cylinder can be said to be a circle with height. You can compute the areas of circle, sphere, and cylinder using the formulas, PI*r*r, 4*PI*r*r, and 2*PI*r*r+2*PI*r*h, respectively. A triangle is defined by base and height while a rectangle is defined by length and width. A cube is a shape with three edges/sides of equal length. Create  classes to represent the description above and define an area method for each. Write a test application that instantiates an object of each shape and displays the radius perimeter,  area, and volume as appropriate."
   ]
  },
  {
   "cell_type": "code",
   "execution_count": 1,
   "id": "8f03f696",
   "metadata": {},
   "outputs": [],
   "source": [
    "class Shape:\n",
    "    pass"
   ]
  },
  {
   "cell_type": "code",
   "execution_count": 10,
   "id": "82a93d63",
   "metadata": {},
   "outputs": [],
   "source": [
    "import math\n",
    "class Circle(Shape):\n",
    "    \"\"\"Create a Circle class. A circle has radius and can compute area and circumference\"\"\"\n",
    "    def __init__(self, radius):\n",
    "        self.radius=radius #this is actually a call to the setter---self.radius refers to the setter \n",
    "        \n",
    "    @property #decorator\n",
    "    def radius(self):\n",
    "        \"\"\"Returns the radius\"\"\"\n",
    "        return self._radius\n",
    "    \n",
    "    @radius.setter #decorator\n",
    "    def radius(self, radius):\n",
    "        \"\"\"Takes a radius value as input and initializes the radius attribute.\n",
    "        The value must be greater than or equal to zero.\"\"\"\n",
    "        if radius<0:\n",
    "            raise ValueError(f'radius={radius} must be >=0')\n",
    "           \n",
    "        self._radius=radius\n",
    "        \n",
    "    #define other methods\n",
    "    def area(self):\n",
    "        return math.pi*self.radius**2 #calls the getter\n",
    "    \n",
    "    def circumference(self):\n",
    "        return 2*math.pi*self.radius #calls the getter\n",
    "        \n",
    "    def __str__(self):\n",
    "        return f'Circle: radius({self.radius}), area({self.area():>8.1f}), circumference({self.circumference():>8.1f}) ' #calls the getter\n",
    "        "
   ]
  },
  {
   "cell_type": "code",
   "execution_count": 11,
   "id": "f644d0dd",
   "metadata": {},
   "outputs": [],
   "source": [
    "def tester():\n",
    "    c=Circle(10)\n",
    "    print(c) #print the circle\n",
    "    c.radius=23 #modify the radius using the setter---try a negative value\n",
    "    print(c) #print the circle again\n",
    "    "
   ]
  },
  {
   "cell_type": "code",
   "execution_count": 12,
   "id": "dc16bb29",
   "metadata": {},
   "outputs": [
    {
     "name": "stdout",
     "output_type": "stream",
     "text": [
      "Circle: radius(10), area(   314.2), circumference(    62.8) \n",
      "Circle: radius(23), area(  1661.9), circumference(   144.5) \n"
     ]
    }
   ],
   "source": [
    "tester() # call the __main__ function."
   ]
  },
  {
   "cell_type": "markdown",
   "id": "1eec5b0b",
   "metadata": {},
   "source": [
    "Stop Press: Not so fast. Nothing prevents a stubborn programmer from modifying 'hidden'attributes! One just needs to know the name."
   ]
  },
  {
   "cell_type": "code",
   "execution_count": 23,
   "id": "3547c357",
   "metadata": {},
   "outputs": [
    {
     "name": "stdout",
     "output_type": "stream",
     "text": [
      "Circle: radius(-11), area(   380.1), circumference(   -69.1) \n"
     ]
    }
   ],
   "source": [
    "#Another Circle object\n",
    "c1=Circle(10)\n",
    "c1._radius=-11\n",
    "print(c1)"
   ]
  },
  {
   "cell_type": "code",
   "execution_count": 14,
   "id": "3a3bf2fb",
   "metadata": {},
   "outputs": [],
   "source": [
    "class Triangle(Shape):\n",
    "    \"\"\"Triangle class is defined by base and height.\"\"\"\n",
    "    def __init__(self, base, height):\n",
    "        self.base=base\n",
    "        self.height=height\n",
    "    \n",
    "    @property #decorator\n",
    "    def base(self):\n",
    "        \"\"\"Returns the base\"\"\"\n",
    "        return self._base\n",
    "    \n",
    "    @base.setter #decorator\n",
    "    def base(self, base):\n",
    "        \"\"\"Takes a base value as input and initializes the base attribute.\n",
    "        The value must be greater than or equal to zero.\"\"\"\n",
    "        if base<0:\n",
    "            raise ValueError(f'base={base} must be >=0')\n",
    "           \n",
    "        self._base=base \n",
    "        \n",
    "    @property #decorator\n",
    "    def height(self):\n",
    "        \"\"\"Returns the height\"\"\"\n",
    "        return self._height\n",
    "    \n",
    "    @height.setter #decorator\n",
    "    def height(self, height):\n",
    "        \"\"\"Takes a height value as input and initializes the height attribute.\n",
    "        The value must be greater than or equal to zero.\"\"\"\n",
    "        if height<0:\n",
    "            raise ValueError(f'height={height} must be >=0')\n",
    "           \n",
    "        self._height=height \n",
    "        \n",
    "        \n",
    "    #define other methods\n",
    "    def area(self):\n",
    "        return float(1)/2*self.base*self.height #calls the getters\n",
    "    \n",
    "    def __str__(self):\n",
    "        return f'Triangle: base({self.base}),height({self.height}), \\\n",
    "        area({self.area():>8.1f})' #calls the getters\n",
    "     "
   ]
  },
  {
   "cell_type": "code",
   "execution_count": 15,
   "id": "83699cb5",
   "metadata": {},
   "outputs": [],
   "source": [
    "class Rectangle(Shape):\n",
    "    def __init__(self, length, width):\n",
    "        self.length=length\n",
    "        self.width=width\n",
    "    \n",
    "    @property #decorator\n",
    "    def length(self):\n",
    "        \"\"\"Returns the length\"\"\"\n",
    "        return self._length\n",
    "    \n",
    "    @length.setter #decorator\n",
    "    def length(self, length):\n",
    "        \"\"\"Takes a length value as input and initializes the length attribute.\n",
    "        The value must be greater than or equal to zero.\"\"\"\n",
    "        if length<0:\n",
    "            raise ValueError(f'length={length} must be >=0')\n",
    "           \n",
    "        self._length=length   \n",
    "        \n",
    "    @property #decorator\n",
    "    def width(self):\n",
    "        \"\"\"Returns the width\"\"\"\n",
    "        return self._width\n",
    "    \n",
    "    @width.setter #decorator\n",
    "    def width(self, width):\n",
    "        \"\"\"Takes a width value as input and initializes the width attribute.\n",
    "        The value must be greater than or equal to zero.\"\"\"\n",
    "        if width<0:\n",
    "            raise ValueError(f'width={width} must be >=0')\n",
    "           \n",
    "        self._width=width\n",
    "    \n",
    "    #define other methods\n",
    "    def area(self):\n",
    "        return self.length*self.width #calls the getters\n",
    "    \n",
    "       #define other methods\n",
    "    def perimeter(self):\n",
    "        return 2*(self.length+self.width) #calls the getters\n",
    "    \n",
    "    def __str__(self):\n",
    "        return f'Rectange: length({self.length}),width({self.width}), area({self.area():>8.1f}), \\\n",
    "        perimeter({self.perimeter():>8.1f})' #calls the getters\n",
    "     "
   ]
  },
  {
   "cell_type": "code",
   "execution_count": 16,
   "id": "ddcf81aa",
   "metadata": {},
   "outputs": [],
   "source": [
    "class Cube(Shape):\n",
    "    def __init__(self, side):\n",
    "        self.side=side\n",
    "              \n",
    "    @property #decorator\n",
    "    def side(self):\n",
    "        \"\"\"Returns the side\"\"\"\n",
    "        return self._side\n",
    "    \n",
    "    @side.setter #decorator\n",
    "    def side(self, side):\n",
    "        \"\"\"Takes a side value representing an edge as input and initializes the side attribute.\n",
    "        The value must be greater than or equal to zero.\"\"\"\n",
    "        if side<0:\n",
    "            raise ValueError(f'side={side} must be >=0')\n",
    "           \n",
    "        self._side=side \n",
    "    \n",
    "       #define other methods\n",
    "    def area(self):\n",
    "        return 6*self.side**2 #calls the getters\n",
    "    \n",
    "           #define other methods\n",
    "    def volume(self):\n",
    "        return self.side**3 #calls the getters\n",
    "    \n",
    "    \n",
    "    def __str__(self):\n",
    "        return f'Cube: side({self.side}), area({self.area():>8.1f}), volume({self.volume():>8.1f})' #calls the getters\n",
    "    "
   ]
  },
  {
   "cell_type": "code",
   "execution_count": 17,
   "id": "c6421c62",
   "metadata": {},
   "outputs": [],
   "source": [
    "class Cylinder(Circle):\n",
    "    def __init__(self, radius, height):\n",
    "        super().__init__(radius)\n",
    "        self.height=height\n",
    "        \n",
    "    @property #decorator\n",
    "    def height(self):\n",
    "        \"\"\"Returns the height\"\"\"\n",
    "        return self._height\n",
    "    \n",
    "    @height.setter #decorator\n",
    "    def height(self, height):\n",
    "        \"\"\"Takes a height value as input and initializes the height attribute.\n",
    "        The value must be greater than or equal to zero.\"\"\"\n",
    "        if height<0:\n",
    "            raise ValueError(f'height={height} must be >=0')\n",
    "           \n",
    "        self._height=height \n",
    "    \n",
    "    #define other methods\n",
    "    def area(self):\n",
    "        return 2*math.pi*self.radius*self.height+ 2*math.pi*self.radius**2 #calls the getters\n",
    "    \n",
    "    def volume(self):\n",
    "        return math.pi*self.height*self.radius**2 #calls the getters\n",
    "    \n",
    "    def __str__(self):\n",
    "        return f'Cylinder: height({self.height}),radius({self.radius}), area({self.area():>8.1f}), \\\n",
    "        volume({self.volume():>8.1f})' #calls the getters\n",
    "     "
   ]
  },
  {
   "cell_type": "code",
   "execution_count": 18,
   "id": "29bb6779",
   "metadata": {},
   "outputs": [],
   "source": [
    "class Sphere(Circle):\n",
    "    def __init__(self, radius):\n",
    "        super().__init__(radius)\n",
    "    \n",
    "    #define other methods\n",
    "    def area(self):\n",
    "        return 4*math.pi*self.radius**2 #calls the getter\n",
    "    \n",
    "    def volume(self):\n",
    "        return 4/3*math.pi*self.radius**3 #calls the getter\n",
    "    \n",
    "    def __str__(self):\n",
    "        return f'Sphere: radius({self.radius}), area({self.area():>8.1f}), volume({self.volume():>8.1f})' #calls the getters\n",
    "     "
   ]
  },
  {
   "cell_type": "code",
   "execution_count": 19,
   "id": "ed4eee23",
   "metadata": {},
   "outputs": [],
   "source": [
    "def __main__():\n",
    "    c=Circle(10)\n",
    "    print(c) #print the circle\n",
    "    cyl=Cylinder(10, 3)\n",
    "    print(cyl) #print the Cylinder\n",
    "    s=Sphere(10)\n",
    "    print(s) #print the Sphere\n",
    "    t=Triangle(10,12)\n",
    "    print(t) #print the circle\n",
    "\n",
    "    r=Rectangle(6,4)\n",
    "    print(r) #print the Rectangle\n",
    "    cub=Cube(6)\n",
    "    print(cub) #print the Cube\n",
    "    "
   ]
  },
  {
   "cell_type": "code",
   "execution_count": 20,
   "id": "36c9bd25",
   "metadata": {},
   "outputs": [
    {
     "name": "stdout",
     "output_type": "stream",
     "text": [
      "Circle: radius(10), area(   314.2), circumference(    62.8) \n",
      "Cylinder: height(3),radius(10), area(   816.8),         volume(   942.5)\n",
      "Sphere: radius(10), area(  1256.6), volume(  4188.8)\n",
      "Triangle: base(10),height(12),         area(    60.0)\n",
      "Rectange: length(6),width(4), area(    24.0),         perimeter(    20.0)\n",
      "Cube: side(6), area(   216.0), volume(   216.0)\n"
     ]
    }
   ],
   "source": [
    "__main__()"
   ]
  },
  {
   "cell_type": "markdown",
   "id": "0c23622c",
   "metadata": {},
   "source": [
    "What will happen if you were to use two underscores for field names?"
   ]
  },
  {
   "cell_type": "markdown",
   "id": "16144792",
   "metadata": {},
   "source": [
    "#### Polymorphism:\n",
    "    Python uses ducktyping! If it quacks like a duck, it is a duck!\n",
    "    \n",
    "    Objects don't have to be in an inheritance hierarcy for them to be processed polymorphically! They just need to have a certain common method e.g. __str__ in our case."
   ]
  },
  {
   "cell_type": "markdown",
   "id": "c5f21d8f",
   "metadata": {},
   "source": [
    "#### Reading exercise: \n",
    "    Read the following for Exception classes: 10.11 Exception Class Hierarchy and Custom Exceptions"
   ]
  },
  {
   "cell_type": "code",
   "execution_count": null,
   "id": "596c3d4c",
   "metadata": {},
   "outputs": [],
   "source": []
  }
 ],
 "metadata": {
  "kernelspec": {
   "display_name": "Python 3 (ipykernel)",
   "language": "python",
   "name": "python3"
  },
  "language_info": {
   "codemirror_mode": {
    "name": "ipython",
    "version": 3
   },
   "file_extension": ".py",
   "mimetype": "text/x-python",
   "name": "python",
   "nbconvert_exporter": "python",
   "pygments_lexer": "ipython3",
   "version": "3.11.4"
  }
 },
 "nbformat": 4,
 "nbformat_minor": 5
}
