{
 "cells": [
  {
   "cell_type": "markdown",
   "id": "b7c9fde8",
   "metadata": {},
   "source": [
    "# Fundamentals \n",
    "<OL>\n",
    "    <li><h5>Variables</h5>\n",
    "    <li><h5>Literals</h5>\n",
    "    <li><h5>Interactive Input</h5>\n",
    "    <li><h5>Branching Control Flow</h5>\n",
    "    <li><h5>Looping Control Flow</h5>\n",
    "</OL>"
   ]
  },
  {
   "cell_type": "markdown",
   "id": "3c24ed81",
   "metadata": {},
   "source": [
    "#### Variables and Assignment"
   ]
  },
  {
   "cell_type": "code",
   "execution_count": 1,
   "id": "3f0f38fe",
   "metadata": {},
   "outputs": [
    {
     "data": {
      "text/plain": [
       "10"
      ]
     },
     "execution_count": 1,
     "metadata": {},
     "output_type": "execute_result"
    }
   ],
   "source": [
    "#variable_name=value, e.g.\n",
    "num=10 #LHS-variable name; RHS-expression e.g. literal\n",
    "num"
   ]
  },
  {
   "cell_type": "code",
   "execution_count": 2,
   "id": "62cc9b61",
   "metadata": {},
   "outputs": [],
   "source": [
    "x, y=10,12 #binds 10 to x, 12 to y"
   ]
  },
  {
   "cell_type": "code",
   "execution_count": 3,
   "id": "e86a4824",
   "metadata": {},
   "outputs": [
    {
     "data": {
      "text/plain": [
       "10"
      ]
     },
     "execution_count": 3,
     "metadata": {},
     "output_type": "execute_result"
    }
   ],
   "source": [
    "x"
   ]
  },
  {
   "cell_type": "code",
   "execution_count": 4,
   "id": "a1fe8900",
   "metadata": {},
   "outputs": [
    {
     "data": {
      "text/plain": [
       "12"
      ]
     },
     "execution_count": 4,
     "metadata": {},
     "output_type": "execute_result"
    }
   ],
   "source": [
    "y"
   ]
  },
  {
   "cell_type": "code",
   "execution_count": 5,
   "id": "3bb5e297",
   "metadata": {},
   "outputs": [
    {
     "data": {
      "text/plain": [
       "10"
      ]
     },
     "execution_count": 5,
     "metadata": {},
     "output_type": "execute_result"
    }
   ],
   "source": [
    "num=10\n",
    "num"
   ]
  },
  {
   "cell_type": "code",
   "execution_count": 6,
   "id": "c811432c",
   "metadata": {},
   "outputs": [
    {
     "data": {
      "text/plain": [
       "100"
      ]
     },
     "execution_count": 6,
     "metadata": {},
     "output_type": "execute_result"
    }
   ],
   "source": [
    "num=100\n",
    "num"
   ]
  },
  {
   "cell_type": "markdown",
   "id": "75f0beca",
   "metadata": {},
   "source": [
    "# Interactive Input (including data conversion)"
   ]
  },
  {
   "cell_type": "code",
   "execution_count": 7,
   "id": "fd870767",
   "metadata": {},
   "outputs": [
    {
     "name": "stdout",
     "output_type": "stream",
     "text": [
      "enter your age: 45\n"
     ]
    },
    {
     "data": {
      "text/plain": [
       "'45'"
      ]
     },
     "execution_count": 7,
     "metadata": {},
     "output_type": "execute_result"
    }
   ],
   "source": [
    "#variable_name=input(prompt), e.g.\n",
    "age=input(\"enter your age: \");\n",
    "age\n"
   ]
  },
  {
   "cell_type": "code",
   "execution_count": 8,
   "id": "97cc2212",
   "metadata": {},
   "outputs": [
    {
     "name": "stdout",
     "output_type": "stream",
     "text": [
      "enter your age: 48\n"
     ]
    },
    {
     "data": {
      "text/plain": [
       "48"
      ]
     },
     "execution_count": 8,
     "metadata": {},
     "output_type": "execute_result"
    }
   ],
   "source": [
    "age=eval(input(\"enter your age: \"));\n",
    "age\n"
   ]
  },
  {
   "cell_type": "code",
   "execution_count": 9,
   "id": "2610f99e",
   "metadata": {},
   "outputs": [
    {
     "name": "stdout",
     "output_type": "stream",
     "text": [
      "enter your age: 23\n"
     ]
    },
    {
     "data": {
      "text/plain": [
       "23"
      ]
     },
     "execution_count": 9,
     "metadata": {},
     "output_type": "execute_result"
    }
   ],
   "source": [
    "age=int(input(\"enter your age: \"));\n",
    "age"
   ]
  },
  {
   "cell_type": "code",
   "execution_count": 10,
   "id": "32058721",
   "metadata": {},
   "outputs": [
    {
     "name": "stdout",
     "output_type": "stream",
     "text": [
      "enter your weight in kgs: 56.7\n"
     ]
    },
    {
     "data": {
      "text/plain": [
       "56.7"
      ]
     },
     "execution_count": 10,
     "metadata": {},
     "output_type": "execute_result"
    }
   ],
   "source": [
    "weight=float(input(\"enter your weight in kgs: \"));\n",
    "weight"
   ]
  },
  {
   "cell_type": "code",
   "execution_count": 11,
   "id": "f717f2ff",
   "metadata": {},
   "outputs": [
    {
     "name": "stdout",
     "output_type": "stream",
     "text": [
      "enter a mathematical expression: 6*79\n"
     ]
    },
    {
     "data": {
      "text/plain": [
       "474"
      ]
     },
     "execution_count": 11,
     "metadata": {},
     "output_type": "execute_result"
    }
   ],
   "source": [
    "result=eval(input(\"enter a mathematical expression: \"));\n",
    "result"
   ]
  },
  {
   "cell_type": "markdown",
   "id": "2ace17b1",
   "metadata": {},
   "source": [
    "#### Testing comparison and logical operators"
   ]
  },
  {
   "cell_type": "code",
   "execution_count": 12,
   "id": "81cab23f",
   "metadata": {},
   "outputs": [
    {
     "data": {
      "text/plain": [
       "True"
      ]
     },
     "execution_count": 12,
     "metadata": {},
     "output_type": "execute_result"
    }
   ],
   "source": [
    "not 7>3 or 4 == 4"
   ]
  },
  {
   "cell_type": "code",
   "execution_count": 13,
   "id": "064b51e6",
   "metadata": {},
   "outputs": [
    {
     "data": {
      "text/plain": [
       "True"
      ]
     },
     "execution_count": 13,
     "metadata": {},
     "output_type": "execute_result"
    }
   ],
   "source": [
    "7>3 and 2<6"
   ]
  },
  {
   "cell_type": "code",
   "execution_count": 14,
   "id": "d118b6b7",
   "metadata": {},
   "outputs": [
    {
     "data": {
      "text/plain": [
       "False"
      ]
     },
     "execution_count": 14,
     "metadata": {},
     "output_type": "execute_result"
    }
   ],
   "source": [
    "not(7>3 and 2<6)"
   ]
  },
  {
   "cell_type": "markdown",
   "id": "5030b39a",
   "metadata": {},
   "source": [
    "#### Interactive Input and Branching Flow"
   ]
  },
  {
   "cell_type": "code",
   "execution_count": 15,
   "id": "e2874653",
   "metadata": {},
   "outputs": [
    {
     "name": "stdout",
     "output_type": "stream",
     "text": [
      "Enter your age:9\n",
      "9 , you are too young\n"
     ]
    }
   ],
   "source": [
    "age=int(input(\"Enter your age:\"))\n",
    "if age>=40:\n",
    "    print(age, \", you are too old\")\n",
    "elif age>=20:\n",
    "    print(age, \", you are a young adult\")\n",
    "else:\n",
    "    print(age, \", you are too young\")\n"
   ]
  },
  {
   "cell_type": "markdown",
   "id": "91dbf1ad",
   "metadata": {},
   "source": [
    "#### Looping Control"
   ]
  },
  {
   "cell_type": "code",
   "execution_count": 16,
   "id": "2d3b8fd8",
   "metadata": {},
   "outputs": [
    {
     "name": "stdout",
     "output_type": "stream",
     "text": [
      "Sum:  6\n"
     ]
    }
   ],
   "source": [
    "count=1\n",
    "sum=0\n",
    "while count<=3:\n",
    "    sum=sum+count\n",
    "    count=count+1\n",
    "print(\"Sum: \", sum)\n"
   ]
  },
  {
   "cell_type": "code",
   "execution_count": 17,
   "id": "2d6a7188",
   "metadata": {},
   "outputs": [
    {
     "name": "stdout",
     "output_type": "stream",
     "text": [
      "1 cube: 1.0\n",
      "2 cube: 8.0\n",
      "3 cube: 27.0\n",
      "4 cube: 64.0\n",
      "5 cube: 125.0\n",
      "6 cube: 216.0\n",
      "7 cube: 343.0\n",
      "8 cube: 512.0\n",
      "9 cube: 729.0\n",
      "10 cube: 1000.0\n"
     ]
    }
   ],
   "source": [
    "import math\n",
    "count=1\n",
    "while count<=10:\n",
    "    print(count, \"cube:\", math.pow(count, 3))\n",
    "    count=count+1\n"
   ]
  },
  {
   "cell_type": "code",
   "execution_count": 18,
   "id": "3174b068",
   "metadata": {},
   "outputs": [
    {
     "name": "stdout",
     "output_type": "stream",
     "text": [
      "Kimani\n",
      "Ike\n",
      "Ishimiwe\n"
     ]
    }
   ],
   "source": [
    "surnames = [\"Kimani\", \"Ike\", \"Ishimiwe\"] #list of surnames\n",
    "for surname in surnames:\n",
    "  print(surname)\n"
   ]
  },
  {
   "cell_type": "markdown",
   "id": "76f4b77a",
   "metadata": {},
   "source": [
    "# Fundamentals \n",
    "<ol>\n",
    "    <li><h5>Functions</h5>\n",
    "    <li><h5>Sequences</h5>\n",
    "    <ul>\n",
    "    <li>Strings\n",
    "    <li>Tuples\n",
    "    <li>Lists\n",
    "    </ul>\n",
    "    </li>\n",
    "    <li><h5>Collections</h5>\n",
    "    <ul>\n",
    "    <li>Dictionaries\n",
    "    <li>Sets      \n",
    "    </ul>\n",
    "    </li>\n",
    "</ol>"
   ]
  },
  {
   "cell_type": "markdown",
   "id": "4e76f96e",
   "metadata": {},
   "source": [
    "#### Functions"
   ]
  },
  {
   "cell_type": "code",
   "execution_count": 19,
   "id": "799e1931",
   "metadata": {},
   "outputs": [],
   "source": [
    "import math\n",
    "\n",
    "def compute_area(radius):\n",
    "    \"\"\"\n",
    "    Computes and returns the area given the radius\n",
    "\n",
    "    Parameters: radius : float.\n",
    "    Returns: float.\n",
    "\n",
    "    \"\"\"\n",
    "    return math.pi*math.pow(radius,2)"
   ]
  },
  {
   "cell_type": "code",
   "execution_count": 20,
   "id": "591a50a8",
   "metadata": {},
   "outputs": [],
   "source": [
    "def compute_circumference(radius):\n",
    "    \"\"\"\n",
    "    Computes and returns the circumference\n",
    "    Parameters: radius : float.\n",
    "    Returns: float.\n",
    "    \"\"\"\n",
    "    return 2*math.pi*radius\n"
   ]
  },
  {
   "cell_type": "code",
   "execution_count": 21,
   "id": "e3d6abe9",
   "metadata": {},
   "outputs": [],
   "source": [
    "def main():\n",
    "    \"\"\"\n",
    "    Requests for the radius and calls functions to compute area and perimeter.\n",
    "    \"\"\"\n",
    "    radius=float(input('Enter radius of circle: '))\n",
    "    #compute and print area and circumference\n",
    "    print(\"Radius:\", radius,\", Area:\",compute_area(radius), \\\n",
    "          \", Circumference:\",compute_circumference(radius))\n"
   ]
  },
  {
   "cell_type": "code",
   "execution_count": 22,
   "id": "f632bef9",
   "metadata": {},
   "outputs": [
    {
     "name": "stdout",
     "output_type": "stream",
     "text": [
      "Enter radius of circle: 3.4\n",
      "Radius: 3.4 , Area: 36.316811075498 , Circumference: 21.362830044410593\n"
     ]
    }
   ],
   "source": [
    "main()"
   ]
  },
  {
   "cell_type": "markdown",
   "id": "42ba12f4",
   "metadata": {},
   "source": [
    "###### Retrieve documentation--use \"\\__doc\\__\" attribute,  help function, or ?"
   ]
  },
  {
   "cell_type": "code",
   "execution_count": 23,
   "id": "87ca4481",
   "metadata": {},
   "outputs": [
    {
     "name": "stdout",
     "output_type": "stream",
     "text": [
      "\n",
      "    Computes and returns the area given the radius\n",
      "\n",
      "    Parameters: radius : float.\n",
      "    Returns: float.\n",
      "\n",
      "    \n"
     ]
    }
   ],
   "source": [
    "print(compute_area.__doc__)"
   ]
  },
  {
   "cell_type": "code",
   "execution_count": null,
   "id": "e2e9f5bf",
   "metadata": {},
   "outputs": [],
   "source": []
  },
  {
   "cell_type": "code",
   "execution_count": 24,
   "id": "506a1a00",
   "metadata": {},
   "outputs": [
    {
     "name": "stdout",
     "output_type": "stream",
     "text": [
      "\n",
      "    Computes and returns the circumference\n",
      "    Parameters: radius : float.\n",
      "    Returns: float.\n",
      "    \n"
     ]
    }
   ],
   "source": [
    "print(compute_circumference.__doc__)"
   ]
  },
  {
   "cell_type": "code",
   "execution_count": 25,
   "id": "3108aead",
   "metadata": {},
   "outputs": [
    {
     "name": "stdout",
     "output_type": "stream",
     "text": [
      "\n",
      "    Requests for the radius and calls functions to compute area and perimeter.\n",
      "    \n"
     ]
    }
   ],
   "source": [
    "print(main.__doc__)"
   ]
  },
  {
   "cell_type": "code",
   "execution_count": 26,
   "id": "f6c0dd5c",
   "metadata": {},
   "outputs": [
    {
     "name": "stdout",
     "output_type": "stream",
     "text": [
      "Help on function compute_area in module __main__:\n",
      "\n",
      "compute_area(radius)\n",
      "    Computes and returns the area given the radius\n",
      "    \n",
      "    Parameters: radius : float.\n",
      "    Returns: float.\n",
      "\n"
     ]
    }
   ],
   "source": [
    "help(compute_area)"
   ]
  },
  {
   "cell_type": "code",
   "execution_count": 27,
   "id": "41621e82",
   "metadata": {},
   "outputs": [
    {
     "name": "stdout",
     "output_type": "stream",
     "text": [
      "Help on function compute_circumference in module __main__:\n",
      "\n",
      "compute_circumference(radius)\n",
      "    Computes and returns the circumference\n",
      "    Parameters: radius : float.\n",
      "    Returns: float.\n",
      "\n"
     ]
    }
   ],
   "source": [
    "help(compute_circumference)"
   ]
  },
  {
   "cell_type": "code",
   "execution_count": 28,
   "id": "1324fcf3",
   "metadata": {},
   "outputs": [
    {
     "name": "stdout",
     "output_type": "stream",
     "text": [
      "Help on function main in module __main__:\n",
      "\n",
      "main()\n",
      "    Requests for the radius and calls functions to compute area and perimeter.\n",
      "\n"
     ]
    }
   ],
   "source": [
    "help(main)"
   ]
  },
  {
   "cell_type": "code",
   "execution_count": 29,
   "id": "e2e8a0f9",
   "metadata": {},
   "outputs": [
    {
     "name": "stdout",
     "output_type": "stream",
     "text": [
      "Help on built-in function pow in module math:\n",
      "\n",
      "pow(x, y, /)\n",
      "    Return x**y (x to the power of y).\n",
      "\n"
     ]
    }
   ],
   "source": [
    "help(math.pow)"
   ]
  },
  {
   "cell_type": "code",
   "execution_count": 30,
   "id": "b16340fd",
   "metadata": {},
   "outputs": [],
   "source": [
    "compute_circumference?"
   ]
  },
  {
   "cell_type": "code",
   "execution_count": 31,
   "id": "fe0d2d87",
   "metadata": {},
   "outputs": [],
   "source": [
    "main?"
   ]
  },
  {
   "cell_type": "code",
   "execution_count": 32,
   "id": "2964cf6b",
   "metadata": {},
   "outputs": [],
   "source": [
    "def fn_demo(x,y,z=10): \n",
    "    \"\"\"\n",
    "    fn_demo uses both keyword and default arguments\n",
    "    \"\"\"\n",
    "    print(x//y+z)\n"
   ]
  },
  {
   "cell_type": "code",
   "execution_count": 33,
   "id": "eea4dc1f",
   "metadata": {},
   "outputs": [
    {
     "name": "stdout",
     "output_type": "stream",
     "text": [
      "12\n"
     ]
    }
   ],
   "source": [
    "fn_demo(10,4) #10//4+10==2+10---uses positional arguments and default arguments"
   ]
  },
  {
   "cell_type": "code",
   "execution_count": 34,
   "id": "f8032bb7",
   "metadata": {},
   "outputs": [
    {
     "name": "stdout",
     "output_type": "stream",
     "text": [
      "10\n"
     ]
    }
   ],
   "source": [
    "fn_demo(y=12,x=7) #7//12+10---0+10---uses keyword arguments and default arguments"
   ]
  },
  {
   "cell_type": "code",
   "execution_count": 35,
   "id": "9a39a19a",
   "metadata": {},
   "outputs": [
    {
     "name": "stdout",
     "output_type": "stream",
     "text": [
      "4\n"
     ]
    }
   ],
   "source": [
    "fn_demo(y=3,x=7, z=2) #7//3+2---2+2---uses keyword arguments"
   ]
  },
  {
   "cell_type": "markdown",
   "id": "ee44309c",
   "metadata": {},
   "source": [
    "###### Using Variable Arguments"
   ]
  },
  {
   "cell_type": "code",
   "execution_count": 36,
   "id": "d366d565",
   "metadata": {},
   "outputs": [],
   "source": [
    "def fn_varargs(*args):#args is tuple type\n",
    "    for arg in args:\n",
    "        print(arg)"
   ]
  },
  {
   "cell_type": "code",
   "execution_count": 37,
   "id": "859a50c4",
   "metadata": {},
   "outputs": [
    {
     "name": "stdout",
     "output_type": "stream",
     "text": [
      "12\n",
      "14\n",
      "Hello\n",
      "12.4\n",
      "False\n",
      "True\n"
     ]
    }
   ],
   "source": [
    "fn_varargs(12,14,\"Hello\",12.4, False, True)"
   ]
  },
  {
   "cell_type": "markdown",
   "id": "b474d1ea",
   "metadata": {},
   "source": [
    "###### Arbitrary Number of Arguments"
   ]
  },
  {
   "cell_type": "code",
   "execution_count": 38,
   "id": "1b4349be",
   "metadata": {},
   "outputs": [],
   "source": [
    "def fn_varkwargs(**kwargs):#kwargs is dictionary type\n",
    "    print(type(kwargs)) #check the type of kwargs\n",
    "    print(kwargs) #print out kwargs\n",
    "    print(\"Country: \",kwargs[\"country\"])\n",
    "    print(\"Age:\", kwargs[\"age\"])\n",
    "    print(\"Height:\",kwargs[\"height\"])"
   ]
  },
  {
   "cell_type": "code",
   "execution_count": 39,
   "id": "8c1cc113",
   "metadata": {},
   "outputs": [
    {
     "name": "stdout",
     "output_type": "stream",
     "text": [
      "<class 'dict'>\n",
      "{'country': 'Rwanda', 'age': '65', 'height': '5.6'}\n",
      "Country:  Rwanda\n",
      "Age: 65\n",
      "Height: 5.6\n"
     ]
    }
   ],
   "source": [
    "fn_varkwargs(country=\"Rwanda\", age=\"65\", height=\"5.6\")"
   ]
  },
  {
   "cell_type": "markdown",
   "id": "8ed15c9e",
   "metadata": {},
   "source": [
    "###### Sequence: Strings"
   ]
  },
  {
   "cell_type": "code",
   "execution_count": 40,
   "id": "c22d6d33",
   "metadata": {},
   "outputs": [
    {
     "data": {
      "text/plain": [
       "'Hello Hello Hello '"
      ]
     },
     "execution_count": 40,
     "metadata": {},
     "output_type": "execute_result"
    }
   ],
   "source": [
    "\"Hello \"*3\n"
   ]
  },
  {
   "cell_type": "code",
   "execution_count": 41,
   "id": "135c5fea",
   "metadata": {},
   "outputs": [],
   "source": [
    "text=\"hello\""
   ]
  },
  {
   "cell_type": "code",
   "execution_count": 42,
   "id": "68f2e05c",
   "metadata": {},
   "outputs": [
    {
     "data": {
      "text/plain": [
       "'h'"
      ]
     },
     "execution_count": 42,
     "metadata": {},
     "output_type": "execute_result"
    }
   ],
   "source": [
    "text[0]"
   ]
  },
  {
   "cell_type": "code",
   "execution_count": 43,
   "id": "12337027",
   "metadata": {},
   "outputs": [
    {
     "data": {
      "text/plain": [
       "'o'"
      ]
     },
     "execution_count": 43,
     "metadata": {},
     "output_type": "execute_result"
    }
   ],
   "source": [
    "text[-1]"
   ]
  },
  {
   "cell_type": "code",
   "execution_count": 44,
   "id": "bee2df44",
   "metadata": {},
   "outputs": [
    {
     "data": {
      "text/plain": [
       "'l'"
      ]
     },
     "execution_count": 44,
     "metadata": {},
     "output_type": "execute_result"
    }
   ],
   "source": [
    "text[-2]"
   ]
  },
  {
   "cell_type": "code",
   "execution_count": 45,
   "id": "43d68ae3",
   "metadata": {},
   "outputs": [
    {
     "data": {
      "text/plain": [
       "'Slice'"
      ]
     },
     "execution_count": 45,
     "metadata": {},
     "output_type": "execute_result"
    }
   ],
   "source": [
    "text=\"Slice the text!\"\n",
    "text[0:5] #returns ‘Slice’ , same as >>>text[:5]"
   ]
  },
  {
   "cell_type": "code",
   "execution_count": 46,
   "id": "18f9abe4",
   "metadata": {},
   "outputs": [
    {
     "data": {
      "text/plain": [
       "'the'"
      ]
     },
     "execution_count": 46,
     "metadata": {},
     "output_type": "execute_result"
    }
   ],
   "source": [
    "text[6:9] #returns ‘the’"
   ]
  },
  {
   "cell_type": "code",
   "execution_count": 47,
   "id": "30e3226b",
   "metadata": {},
   "outputs": [
    {
     "data": {
      "text/plain": [
       "'text'"
      ]
     },
     "execution_count": 47,
     "metadata": {},
     "output_type": "execute_result"
    }
   ],
   "source": [
    "text[10:14] #returns ‘text’"
   ]
  },
  {
   "cell_type": "code",
   "execution_count": 48,
   "id": "c089128a",
   "metadata": {},
   "outputs": [
    {
     "data": {
      "text/plain": [
       "'!'"
      ]
     },
     "execution_count": 48,
     "metadata": {},
     "output_type": "execute_result"
    }
   ],
   "source": [
    "text[14:15] #returns ‘!’"
   ]
  },
  {
   "cell_type": "code",
   "execution_count": 49,
   "id": "4661150a",
   "metadata": {},
   "outputs": [
    {
     "data": {
      "text/plain": [
       "'the text!'"
      ]
     },
     "execution_count": 49,
     "metadata": {},
     "output_type": "execute_result"
    }
   ],
   "source": [
    "text[6:] #returns ‘the text!’"
   ]
  },
  {
   "cell_type": "markdown",
   "id": "e7d90fd8",
   "metadata": {},
   "source": [
    "###### Format a string"
   ]
  },
  {
   "cell_type": "code",
   "execution_count": 50,
   "id": "98ee3805",
   "metadata": {},
   "outputs": [
    {
     "name": "stdout",
     "output_type": "stream",
     "text": [
      "Enter age: 5\n",
      "Age is 5\n"
     ]
    }
   ],
   "source": [
    "age=int(input(\"Enter age: \"))\n",
    "print(\"Age is {}\".format(age))#print(f\"Age is{age}\")\n"
   ]
  },
  {
   "cell_type": "markdown",
   "id": "1233051b",
   "metadata": {},
   "source": [
    "# Example\n",
    "Write a simple python program that reads a name and passes it to a user-defined function that prints “Hello, supplied-name”. The user-defined function should use string formatting.\n",
    "\n"
   ]
  },
  {
   "cell_type": "code",
   "execution_count": 51,
   "id": "7657e7f6",
   "metadata": {},
   "outputs": [],
   "source": [
    "def greet(name):\n",
    "    print(f\"Hello, {name}\")#print(\"Hello,{}\".format(name))"
   ]
  },
  {
   "cell_type": "code",
   "execution_count": 52,
   "id": "2eb7a6f0",
   "metadata": {},
   "outputs": [
    {
     "name": "stdout",
     "output_type": "stream",
     "text": [
      "Enter name: George\n",
      "Hello, George\n"
     ]
    }
   ],
   "source": [
    "name=input(\"Enter name: \")\n",
    "greet(name)"
   ]
  },
  {
   "cell_type": "code",
   "execution_count": null,
   "id": "11c8ea9d",
   "metadata": {},
   "outputs": [],
   "source": []
  },
  {
   "cell_type": "markdown",
   "id": "52ef0cea",
   "metadata": {},
   "source": [
    "###### Sequence: Lists"
   ]
  },
  {
   "cell_type": "code",
   "execution_count": 53,
   "id": "8e49033d",
   "metadata": {},
   "outputs": [
    {
     "name": "stdout",
     "output_type": "stream",
     "text": [
      "hello\n",
      "3\n",
      "True\n",
      "3.5\n",
      "[1, 2]\n"
     ]
    }
   ],
   "source": [
    "x=['hello', 3,True,3.5,[1,2]]\n",
    "for item in x:\n",
    "    print(item)\n"
   ]
  },
  {
   "cell_type": "code",
   "execution_count": 54,
   "id": "1e5098a6",
   "metadata": {},
   "outputs": [
    {
     "name": "stdout",
     "output_type": "stream",
     "text": [
      "5\n"
     ]
    }
   ],
   "source": [
    "print(len(x))"
   ]
  },
  {
   "cell_type": "code",
   "execution_count": 55,
   "id": "ba8da8c5",
   "metadata": {},
   "outputs": [
    {
     "name": "stdout",
     "output_type": "stream",
     "text": [
      "['hello', 3, True, 3.5, [1, 2]]\n"
     ]
    }
   ],
   "source": [
    "print(x)"
   ]
  },
  {
   "cell_type": "code",
   "execution_count": 56,
   "id": "0eeb6f73",
   "metadata": {},
   "outputs": [],
   "source": [
    "del x[:2] #shows mutability- deletes a sub-list obtained by slicing"
   ]
  },
  {
   "cell_type": "code",
   "execution_count": 57,
   "id": "4cfb3d05",
   "metadata": {},
   "outputs": [
    {
     "name": "stdout",
     "output_type": "stream",
     "text": [
      "[True, 3.5, [1, 2]]\n"
     ]
    }
   ],
   "source": [
    "print(x)"
   ]
  },
  {
   "cell_type": "code",
   "execution_count": 58,
   "id": "71ac1db3",
   "metadata": {},
   "outputs": [
    {
     "name": "stdout",
     "output_type": "stream",
     "text": [
      "3\n"
     ]
    }
   ],
   "source": [
    "print(len(x))"
   ]
  },
  {
   "cell_type": "code",
   "execution_count": 59,
   "id": "a24dc642",
   "metadata": {},
   "outputs": [
    {
     "name": "stdout",
     "output_type": "stream",
     "text": [
      "[10, [13, 1.3], 'hello', True]\n"
     ]
    }
   ],
   "source": [
    "y=[10,[13,1.3]]\n",
    "y=y+['hello',True]\n",
    "print(y)\n"
   ]
  },
  {
   "cell_type": "code",
   "execution_count": 60,
   "id": "87de84ae",
   "metadata": {},
   "outputs": [
    {
     "data": {
      "text/plain": [
       "[2, 3, 10]"
      ]
     },
     "execution_count": 60,
     "metadata": {},
     "output_type": "execute_result"
    }
   ],
   "source": [
    "z=[2,10,3]\n",
    "sorted(z) #returns [2,3,10]"
   ]
  },
  {
   "cell_type": "code",
   "execution_count": 61,
   "id": "cf8450ed",
   "metadata": {},
   "outputs": [
    {
     "data": {
      "text/plain": [
       "[2, 10, 3]"
      ]
     },
     "execution_count": 61,
     "metadata": {},
     "output_type": "execute_result"
    }
   ],
   "source": [
    "z #returns [2,10,3]---because sorted did not modify the list order."
   ]
  },
  {
   "cell_type": "code",
   "execution_count": 62,
   "id": "3dc7e411",
   "metadata": {},
   "outputs": [],
   "source": [
    "z.sort() #makes enduring changes"
   ]
  },
  {
   "cell_type": "code",
   "execution_count": 63,
   "id": "0d1a76c1",
   "metadata": {},
   "outputs": [
    {
     "data": {
      "text/plain": [
       "[2, 3, 10]"
      ]
     },
     "execution_count": 63,
     "metadata": {},
     "output_type": "execute_result"
    }
   ],
   "source": [
    "z #returns [2,3,10]"
   ]
  },
  {
   "cell_type": "code",
   "execution_count": 64,
   "id": "c5d5f075",
   "metadata": {},
   "outputs": [
    {
     "name": "stdout",
     "output_type": "stream",
     "text": [
      "[10, [13, 1.3], ['hello', True]]\n"
     ]
    }
   ],
   "source": [
    "w=[10,[13,1.3]]\n",
    "w.append(['hello',True])# the appended list becomes a single value in the original list\n",
    "print(w)\n"
   ]
  },
  {
   "cell_type": "code",
   "execution_count": 65,
   "id": "248a106a",
   "metadata": {},
   "outputs": [
    {
     "data": {
      "text/plain": [
       "['hello', True]"
      ]
     },
     "execution_count": 65,
     "metadata": {},
     "output_type": "execute_result"
    }
   ],
   "source": [
    "w.pop()"
   ]
  },
  {
   "cell_type": "code",
   "execution_count": 66,
   "id": "3ddcac34",
   "metadata": {},
   "outputs": [
    {
     "data": {
      "text/plain": [
       "[13, 1.3]"
      ]
     },
     "execution_count": 66,
     "metadata": {},
     "output_type": "execute_result"
    }
   ],
   "source": [
    "w.pop()"
   ]
  },
  {
   "cell_type": "code",
   "execution_count": 67,
   "id": "347d19c2",
   "metadata": {},
   "outputs": [
    {
     "name": "stdout",
     "output_type": "stream",
     "text": [
      "10\n"
     ]
    }
   ],
   "source": [
    "if w: #empty list is equivalent to False\n",
    "    print(w.pop()) #pop should be used for a list that is not empty"
   ]
  },
  {
   "cell_type": "code",
   "execution_count": 68,
   "id": "7e3cbe55",
   "metadata": {},
   "outputs": [
    {
     "name": "stdout",
     "output_type": "stream",
     "text": [
      "[10, [13, 1.3], ['hello', True]]\n",
      "['hello', True]\n",
      "[13, 1.3]\n",
      "10\n"
     ]
    }
   ],
   "source": [
    "w=[10,[13,1.3]]\n",
    "w.append(['hello',True])# the appended list becomes a single value in the original list\n",
    "print(w)\n",
    "while w:#---an empty list [] is False. Same as while bool(w): or while len(w)!=0:\n",
    "    print(w.pop())"
   ]
  },
  {
   "cell_type": "code",
   "execution_count": 69,
   "id": "1a5fa47c",
   "metadata": {},
   "outputs": [
    {
     "name": "stdout",
     "output_type": "stream",
     "text": [
      "10\n",
      "12\n",
      "34\n"
     ]
    }
   ],
   "source": [
    "items=list([10,12,34])#uses list class\n",
    "for item in items:\n",
    "    print(item)"
   ]
  },
  {
   "cell_type": "markdown",
   "id": "2839e22a",
   "metadata": {},
   "source": [
    "###### Sequence: Tuples"
   ]
  },
  {
   "cell_type": "code",
   "execution_count": 70,
   "id": "06c32d28",
   "metadata": {},
   "outputs": [
    {
     "name": "stdout",
     "output_type": "stream",
     "text": [
      "a: 10, b: 12, c: 13\n"
     ]
    }
   ],
   "source": [
    "a,b,c=10,12,13 #RHS is a tuple---we are doing multiple assignment. RHS values bind to variable on LHS\n",
    "print(f\"a: {a}, b: {b}, c: {c}\")"
   ]
  },
  {
   "cell_type": "code",
   "execution_count": 71,
   "id": "1bc95d76",
   "metadata": {},
   "outputs": [
    {
     "name": "stdout",
     "output_type": "stream",
     "text": [
      "a: 10, b: 12, c: [13, 16, 27, 28]\n"
     ]
    }
   ],
   "source": [
    "a,b,*c=10,12,13,16,27,28 #yields a=10, b=12, c=[13,16,27,28]\n",
    "print(f\"a: {a}, b: {b}, c: {c}\")"
   ]
  },
  {
   "cell_type": "code",
   "execution_count": 72,
   "id": "42d1da3c",
   "metadata": {},
   "outputs": [
    {
     "name": "stdout",
     "output_type": "stream",
     "text": [
      "a: [10, 12, 13, 16], b: 27, c: 28\n"
     ]
    }
   ],
   "source": [
    "*a,b,c=10,12,13,16,27,28 #yields a=[10,12,13,16], b=27, c=28\n",
    "print(f\"a: {a}, b: {b}, c: {c}\")"
   ]
  },
  {
   "cell_type": "code",
   "execution_count": 73,
   "id": "16bb6bef",
   "metadata": {},
   "outputs": [
    {
     "name": "stdout",
     "output_type": "stream",
     "text": [
      "a: 10, b: [12, 13, 16, 27], c: 28\n"
     ]
    }
   ],
   "source": [
    "a,*b,c=10,12,13,16,27,28 #yields a=10,b=[12,13,16,27], c=28\n",
    "print(f\"a: {a}, b: {b}, c: {c}\")"
   ]
  },
  {
   "cell_type": "code",
   "execution_count": 74,
   "id": "bc0a6ac4",
   "metadata": {},
   "outputs": [
    {
     "name": "stdout",
     "output_type": "stream",
     "text": [
      "10\n",
      "12\n",
      "34\n"
     ]
    }
   ],
   "source": [
    "items=tuple((10,12,34)) #uses tuple class\n",
    "for item in items:\n",
    "    print(item)"
   ]
  },
  {
   "cell_type": "markdown",
   "id": "d466c051",
   "metadata": {},
   "source": [
    "###### Dictionaries"
   ]
  },
  {
   "cell_type": "code",
   "execution_count": 75,
   "id": "05a388f5",
   "metadata": {},
   "outputs": [],
   "source": [
    "def dictionary_demo():\n",
    "    student={\"Regno\":\"g1010\",\"Name\":\"Hazimana\",\"DoB\":\"01-01-1990\", \"Grade\":[67,90,95]}\n",
    "    print(\"Original Dictionary: \",student) #echo dictionary on screen\n",
    "    student['Regno']=\"g1012\" #shows mutability\n",
    "    print(\"Modified Dictionary---check regno: \",student,\"\\n\") #echo dictionary after modification\n",
    "    print(f\"RegNo: {student['DoB']}\") #accesses and displays DoB, uses DoB as key\n",
    "    print(f\"Name: {student['Name']}\")\n",
    "    print(f\"DoB: {student['DoB']}\") \n",
    "    print(f\"Grade: {student['Grade']}\")"
   ]
  },
  {
   "cell_type": "code",
   "execution_count": 76,
   "id": "9880f7d9",
   "metadata": {},
   "outputs": [
    {
     "name": "stdout",
     "output_type": "stream",
     "text": [
      "Original Dictionary:  {'Regno': 'g1010', 'Name': 'Hazimana', 'DoB': '01-01-1990', 'Grade': [67, 90, 95]}\n",
      "Modified Dictionary---check regno:  {'Regno': 'g1012', 'Name': 'Hazimana', 'DoB': '01-01-1990', 'Grade': [67, 90, 95]} \n",
      "\n",
      "RegNo: 01-01-1990\n",
      "Name: Hazimana\n",
      "DoB: 01-01-1990\n",
      "Grade: [67, 90, 95]\n"
     ]
    }
   ],
   "source": [
    "dictionary_demo()"
   ]
  },
  {
   "cell_type": "code",
   "execution_count": 77,
   "id": "b9573825",
   "metadata": {},
   "outputs": [],
   "source": [
    "def dictionary_demo2():\n",
    "    student={\"Regno\":\"g1010\",\"Name\":\"Hazimana\",\"DoB\":\"01-01-1990\", \"Grade\":[67,90,95]}\n",
    "    print(\"Dictionary: \",student) #echo dictionary on screen\n",
    "\n",
    "    #Access keys and iterate through the values.\n",
    "    print(\"\\nPrinting keys and values....\")\n",
    "    keys=student.keys() #retrieve all keys using keys function\n",
    "    for key in keys: #step through the keys and access the values\n",
    "        print(\"{} : {}\".format(key,student[key]))"
   ]
  },
  {
   "cell_type": "code",
   "execution_count": 78,
   "id": "84761c43",
   "metadata": {},
   "outputs": [
    {
     "name": "stdout",
     "output_type": "stream",
     "text": [
      "Dictionary:  {'Regno': 'g1010', 'Name': 'Hazimana', 'DoB': '01-01-1990', 'Grade': [67, 90, 95]}\n",
      "\n",
      "Printing keys and values....\n",
      "Regno : g1010\n",
      "Name : Hazimana\n",
      "DoB : 01-01-1990\n",
      "Grade : [67, 90, 95]\n"
     ]
    }
   ],
   "source": [
    "dictionary_demo2()"
   ]
  },
  {
   "cell_type": "code",
   "execution_count": 79,
   "id": "a4d9a2ba",
   "metadata": {},
   "outputs": [],
   "source": [
    "def dictionary_demo3():\n",
    "    student={\"Regno\":\"g1010\",\"Name\":\"Hazimana\",\"DoB\":\"01-01-1990\", \"Grade\":[67,90,95]}\n",
    "    print(\"Dictionary: \",student,\"\\n\") #echo dictionary on screen\n",
    "\n",
    "    #Access values and iterate through them\n",
    "    values=student.values() #retrieve all values using values function\n",
    "    for value in values: #step through the values\n",
    "        print(\"{}\".format(value))\n"
   ]
  },
  {
   "cell_type": "code",
   "execution_count": 80,
   "id": "f5ec70ad",
   "metadata": {},
   "outputs": [
    {
     "name": "stdout",
     "output_type": "stream",
     "text": [
      "Dictionary:  {'Regno': 'g1010', 'Name': 'Hazimana', 'DoB': '01-01-1990', 'Grade': [67, 90, 95]} \n",
      "\n",
      "g1010\n",
      "Hazimana\n",
      "01-01-1990\n",
      "[67, 90, 95]\n"
     ]
    }
   ],
   "source": [
    "dictionary_demo3()"
   ]
  },
  {
   "cell_type": "code",
   "execution_count": 81,
   "id": "540d8909",
   "metadata": {},
   "outputs": [],
   "source": [
    "def dictionary_demo4():\n",
    "    student={\"Regno\":\"g1010\",\"Name\":\"Hazimana\",\"DoB\":\"01-01-1990\", \"Grade\":[67,90,95]}\n",
    "    print(\"Dictionary: \",student,\"\\n\") #echo dictionary on screen\n",
    "\n",
    "    #Access items and iterate through them\n",
    "    items=student.items() #retrieve all items using items function\n",
    "    for item in items: #step through the items\n",
    "        print(\"{}\".format(item)) #each item is a tuple of the format (key,value)...meaning it can be indexed\n",
    "\n"
   ]
  },
  {
   "cell_type": "code",
   "execution_count": 82,
   "id": "f84c6896",
   "metadata": {},
   "outputs": [
    {
     "name": "stdout",
     "output_type": "stream",
     "text": [
      "Dictionary:  {'Regno': 'g1010', 'Name': 'Hazimana', 'DoB': '01-01-1990', 'Grade': [67, 90, 95]} \n",
      "\n",
      "('Regno', 'g1010')\n",
      "('Name', 'Hazimana')\n",
      "('DoB', '01-01-1990')\n",
      "('Grade', [67, 90, 95])\n"
     ]
    }
   ],
   "source": [
    "dictionary_demo4()"
   ]
  },
  {
   "cell_type": "code",
   "execution_count": 83,
   "id": "1d9177bf",
   "metadata": {},
   "outputs": [],
   "source": [
    "def dictionary_demo5():\n",
    "    student={\"Regno\":\"g1010\",\"Name\":\"Hazimana\",\"DoB\":\"01-01-1990\", \"Grade\":[67,90,95]}\n",
    "    print(\"Dictionary: \",student,\"\\n\") #echo dictionary on screen\n",
    "\n",
    "    #Access items and iterate through them\n",
    "    items=student.items() #retrieve all items using items function\n",
    "    print(items,\"\\n\")\n",
    "    for item in items: #step through the items\n",
    "        print(\"{}: {}\".format(item[0],item[1])) #each item is a tuple of the format (key,value)\n",
    "                                                #...see how we have indexed for key and value\n",
    "\n"
   ]
  },
  {
   "cell_type": "code",
   "execution_count": 84,
   "id": "3651ebda",
   "metadata": {},
   "outputs": [
    {
     "name": "stdout",
     "output_type": "stream",
     "text": [
      "Dictionary:  {'Regno': 'g1010', 'Name': 'Hazimana', 'DoB': '01-01-1990', 'Grade': [67, 90, 95]} \n",
      "\n",
      "dict_items([('Regno', 'g1010'), ('Name', 'Hazimana'), ('DoB', '01-01-1990'), ('Grade', [67, 90, 95])]) \n",
      "\n",
      "Regno: g1010\n",
      "Name: Hazimana\n",
      "DoB: 01-01-1990\n",
      "Grade: [67, 90, 95]\n"
     ]
    }
   ],
   "source": [
    "dictionary_demo5()"
   ]
  },
  {
   "cell_type": "code",
   "execution_count": 85,
   "id": "cd143d60",
   "metadata": {},
   "outputs": [],
   "source": [
    "def fn_varkwargs(**kwargs):#kwargs is dictionary type\n",
    "    print(type(kwargs))\n",
    "    keys=kwargs.keys() \n",
    "    for key in keys:\n",
    "        print(f\"{key}: {kwargs[key]}\")"
   ]
  },
  {
   "cell_type": "code",
   "execution_count": 86,
   "id": "cfb9f9e7",
   "metadata": {},
   "outputs": [
    {
     "name": "stdout",
     "output_type": "stream",
     "text": [
      "<class 'dict'>\n",
      "country: Rwanda\n",
      "age: 65\n",
      "height: 5.6\n"
     ]
    }
   ],
   "source": [
    "fn_varkwargs(country=\"Rwanda\", age=\"65\", height=\"5.6\")"
   ]
  },
  {
   "cell_type": "markdown",
   "id": "ca23288e",
   "metadata": {},
   "source": [
    "###### Documentation for Select Sequence and Collection Data Structures"
   ]
  },
  {
   "cell_type": "code",
   "execution_count": 87,
   "id": "724381e4",
   "metadata": {},
   "outputs": [
    {
     "name": "stdout",
     "output_type": "stream",
     "text": [
      "Help on class list in module builtins:\n",
      "\n",
      "class list(object)\n",
      " |  list(iterable=(), /)\n",
      " |  \n",
      " |  Built-in mutable sequence.\n",
      " |  \n",
      " |  If no argument is given, the constructor creates a new empty list.\n",
      " |  The argument must be an iterable if specified.\n",
      " |  \n",
      " |  Methods defined here:\n",
      " |  \n",
      " |  __add__(self, value, /)\n",
      " |      Return self+value.\n",
      " |  \n",
      " |  __contains__(self, key, /)\n",
      " |      Return key in self.\n",
      " |  \n",
      " |  __delitem__(self, key, /)\n",
      " |      Delete self[key].\n",
      " |  \n",
      " |  __eq__(self, value, /)\n",
      " |      Return self==value.\n",
      " |  \n",
      " |  __ge__(self, value, /)\n",
      " |      Return self>=value.\n",
      " |  \n",
      " |  __getattribute__(self, name, /)\n",
      " |      Return getattr(self, name).\n",
      " |  \n",
      " |  __getitem__(...)\n",
      " |      x.__getitem__(y) <==> x[y]\n",
      " |  \n",
      " |  __gt__(self, value, /)\n",
      " |      Return self>value.\n",
      " |  \n",
      " |  __iadd__(self, value, /)\n",
      " |      Implement self+=value.\n",
      " |  \n",
      " |  __imul__(self, value, /)\n",
      " |      Implement self*=value.\n",
      " |  \n",
      " |  __init__(self, /, *args, **kwargs)\n",
      " |      Initialize self.  See help(type(self)) for accurate signature.\n",
      " |  \n",
      " |  __iter__(self, /)\n",
      " |      Implement iter(self).\n",
      " |  \n",
      " |  __le__(self, value, /)\n",
      " |      Return self<=value.\n",
      " |  \n",
      " |  __len__(self, /)\n",
      " |      Return len(self).\n",
      " |  \n",
      " |  __lt__(self, value, /)\n",
      " |      Return self<value.\n",
      " |  \n",
      " |  __mul__(self, value, /)\n",
      " |      Return self*value.\n",
      " |  \n",
      " |  __ne__(self, value, /)\n",
      " |      Return self!=value.\n",
      " |  \n",
      " |  __repr__(self, /)\n",
      " |      Return repr(self).\n",
      " |  \n",
      " |  __reversed__(self, /)\n",
      " |      Return a reverse iterator over the list.\n",
      " |  \n",
      " |  __rmul__(self, value, /)\n",
      " |      Return value*self.\n",
      " |  \n",
      " |  __setitem__(self, key, value, /)\n",
      " |      Set self[key] to value.\n",
      " |  \n",
      " |  __sizeof__(self, /)\n",
      " |      Return the size of the list in memory, in bytes.\n",
      " |  \n",
      " |  append(self, object, /)\n",
      " |      Append object to the end of the list.\n",
      " |  \n",
      " |  clear(self, /)\n",
      " |      Remove all items from list.\n",
      " |  \n",
      " |  copy(self, /)\n",
      " |      Return a shallow copy of the list.\n",
      " |  \n",
      " |  count(self, value, /)\n",
      " |      Return number of occurrences of value.\n",
      " |  \n",
      " |  extend(self, iterable, /)\n",
      " |      Extend list by appending elements from the iterable.\n",
      " |  \n",
      " |  index(self, value, start=0, stop=9223372036854775807, /)\n",
      " |      Return first index of value.\n",
      " |      \n",
      " |      Raises ValueError if the value is not present.\n",
      " |  \n",
      " |  insert(self, index, object, /)\n",
      " |      Insert object before index.\n",
      " |  \n",
      " |  pop(self, index=-1, /)\n",
      " |      Remove and return item at index (default last).\n",
      " |      \n",
      " |      Raises IndexError if list is empty or index is out of range.\n",
      " |  \n",
      " |  remove(self, value, /)\n",
      " |      Remove first occurrence of value.\n",
      " |      \n",
      " |      Raises ValueError if the value is not present.\n",
      " |  \n",
      " |  reverse(self, /)\n",
      " |      Reverse *IN PLACE*.\n",
      " |  \n",
      " |  sort(self, /, *, key=None, reverse=False)\n",
      " |      Sort the list in ascending order and return None.\n",
      " |      \n",
      " |      The sort is in-place (i.e. the list itself is modified) and stable (i.e. the\n",
      " |      order of two equal elements is maintained).\n",
      " |      \n",
      " |      If a key function is given, apply it once to each list item and sort them,\n",
      " |      ascending or descending, according to their function values.\n",
      " |      \n",
      " |      The reverse flag can be set to sort in descending order.\n",
      " |  \n",
      " |  ----------------------------------------------------------------------\n",
      " |  Class methods defined here:\n",
      " |  \n",
      " |  __class_getitem__(...) from builtins.type\n",
      " |      See PEP 585\n",
      " |  \n",
      " |  ----------------------------------------------------------------------\n",
      " |  Static methods defined here:\n",
      " |  \n",
      " |  __new__(*args, **kwargs) from builtins.type\n",
      " |      Create and return a new object.  See help(type) for accurate signature.\n",
      " |  \n",
      " |  ----------------------------------------------------------------------\n",
      " |  Data and other attributes defined here:\n",
      " |  \n",
      " |  __hash__ = None\n",
      "\n"
     ]
    }
   ],
   "source": [
    "help(list)"
   ]
  },
  {
   "cell_type": "code",
   "execution_count": 88,
   "id": "0022fe51",
   "metadata": {},
   "outputs": [
    {
     "name": "stdout",
     "output_type": "stream",
     "text": [
      "Help on class tuple in module builtins:\n",
      "\n",
      "class tuple(object)\n",
      " |  tuple(iterable=(), /)\n",
      " |  \n",
      " |  Built-in immutable sequence.\n",
      " |  \n",
      " |  If no argument is given, the constructor returns an empty tuple.\n",
      " |  If iterable is specified the tuple is initialized from iterable's items.\n",
      " |  \n",
      " |  If the argument is a tuple, the return value is the same object.\n",
      " |  \n",
      " |  Built-in subclasses:\n",
      " |      asyncgen_hooks\n",
      " |      UnraisableHookArgs\n",
      " |  \n",
      " |  Methods defined here:\n",
      " |  \n",
      " |  __add__(self, value, /)\n",
      " |      Return self+value.\n",
      " |  \n",
      " |  __contains__(self, key, /)\n",
      " |      Return key in self.\n",
      " |  \n",
      " |  __eq__(self, value, /)\n",
      " |      Return self==value.\n",
      " |  \n",
      " |  __ge__(self, value, /)\n",
      " |      Return self>=value.\n",
      " |  \n",
      " |  __getattribute__(self, name, /)\n",
      " |      Return getattr(self, name).\n",
      " |  \n",
      " |  __getitem__(self, key, /)\n",
      " |      Return self[key].\n",
      " |  \n",
      " |  __getnewargs__(self, /)\n",
      " |  \n",
      " |  __gt__(self, value, /)\n",
      " |      Return self>value.\n",
      " |  \n",
      " |  __hash__(self, /)\n",
      " |      Return hash(self).\n",
      " |  \n",
      " |  __iter__(self, /)\n",
      " |      Implement iter(self).\n",
      " |  \n",
      " |  __le__(self, value, /)\n",
      " |      Return self<=value.\n",
      " |  \n",
      " |  __len__(self, /)\n",
      " |      Return len(self).\n",
      " |  \n",
      " |  __lt__(self, value, /)\n",
      " |      Return self<value.\n",
      " |  \n",
      " |  __mul__(self, value, /)\n",
      " |      Return self*value.\n",
      " |  \n",
      " |  __ne__(self, value, /)\n",
      " |      Return self!=value.\n",
      " |  \n",
      " |  __repr__(self, /)\n",
      " |      Return repr(self).\n",
      " |  \n",
      " |  __rmul__(self, value, /)\n",
      " |      Return value*self.\n",
      " |  \n",
      " |  count(self, value, /)\n",
      " |      Return number of occurrences of value.\n",
      " |  \n",
      " |  index(self, value, start=0, stop=9223372036854775807, /)\n",
      " |      Return first index of value.\n",
      " |      \n",
      " |      Raises ValueError if the value is not present.\n",
      " |  \n",
      " |  ----------------------------------------------------------------------\n",
      " |  Class methods defined here:\n",
      " |  \n",
      " |  __class_getitem__(...) from builtins.type\n",
      " |      See PEP 585\n",
      " |  \n",
      " |  ----------------------------------------------------------------------\n",
      " |  Static methods defined here:\n",
      " |  \n",
      " |  __new__(*args, **kwargs) from builtins.type\n",
      " |      Create and return a new object.  See help(type) for accurate signature.\n",
      "\n"
     ]
    }
   ],
   "source": [
    "help(tuple)"
   ]
  },
  {
   "cell_type": "code",
   "execution_count": 89,
   "id": "8caa25b4",
   "metadata": {},
   "outputs": [
    {
     "name": "stdout",
     "output_type": "stream",
     "text": [
      "Help on class dict in module builtins:\n",
      "\n",
      "class dict(object)\n",
      " |  dict() -> new empty dictionary\n",
      " |  dict(mapping) -> new dictionary initialized from a mapping object's\n",
      " |      (key, value) pairs\n",
      " |  dict(iterable) -> new dictionary initialized as if via:\n",
      " |      d = {}\n",
      " |      for k, v in iterable:\n",
      " |          d[k] = v\n",
      " |  dict(**kwargs) -> new dictionary initialized with the name=value pairs\n",
      " |      in the keyword argument list.  For example:  dict(one=1, two=2)\n",
      " |  \n",
      " |  Built-in subclasses:\n",
      " |      StgDict\n",
      " |  \n",
      " |  Methods defined here:\n",
      " |  \n",
      " |  __contains__(self, key, /)\n",
      " |      True if the dictionary has the specified key, else False.\n",
      " |  \n",
      " |  __delitem__(self, key, /)\n",
      " |      Delete self[key].\n",
      " |  \n",
      " |  __eq__(self, value, /)\n",
      " |      Return self==value.\n",
      " |  \n",
      " |  __ge__(self, value, /)\n",
      " |      Return self>=value.\n",
      " |  \n",
      " |  __getattribute__(self, name, /)\n",
      " |      Return getattr(self, name).\n",
      " |  \n",
      " |  __getitem__(...)\n",
      " |      x.__getitem__(y) <==> x[y]\n",
      " |  \n",
      " |  __gt__(self, value, /)\n",
      " |      Return self>value.\n",
      " |  \n",
      " |  __init__(self, /, *args, **kwargs)\n",
      " |      Initialize self.  See help(type(self)) for accurate signature.\n",
      " |  \n",
      " |  __ior__(self, value, /)\n",
      " |      Return self|=value.\n",
      " |  \n",
      " |  __iter__(self, /)\n",
      " |      Implement iter(self).\n",
      " |  \n",
      " |  __le__(self, value, /)\n",
      " |      Return self<=value.\n",
      " |  \n",
      " |  __len__(self, /)\n",
      " |      Return len(self).\n",
      " |  \n",
      " |  __lt__(self, value, /)\n",
      " |      Return self<value.\n",
      " |  \n",
      " |  __ne__(self, value, /)\n",
      " |      Return self!=value.\n",
      " |  \n",
      " |  __or__(self, value, /)\n",
      " |      Return self|value.\n",
      " |  \n",
      " |  __repr__(self, /)\n",
      " |      Return repr(self).\n",
      " |  \n",
      " |  __reversed__(self, /)\n",
      " |      Return a reverse iterator over the dict keys.\n",
      " |  \n",
      " |  __ror__(self, value, /)\n",
      " |      Return value|self.\n",
      " |  \n",
      " |  __setitem__(self, key, value, /)\n",
      " |      Set self[key] to value.\n",
      " |  \n",
      " |  __sizeof__(...)\n",
      " |      D.__sizeof__() -> size of D in memory, in bytes\n",
      " |  \n",
      " |  clear(...)\n",
      " |      D.clear() -> None.  Remove all items from D.\n",
      " |  \n",
      " |  copy(...)\n",
      " |      D.copy() -> a shallow copy of D\n",
      " |  \n",
      " |  get(self, key, default=None, /)\n",
      " |      Return the value for key if key is in the dictionary, else default.\n",
      " |  \n",
      " |  items(...)\n",
      " |      D.items() -> a set-like object providing a view on D's items\n",
      " |  \n",
      " |  keys(...)\n",
      " |      D.keys() -> a set-like object providing a view on D's keys\n",
      " |  \n",
      " |  pop(...)\n",
      " |      D.pop(k[,d]) -> v, remove specified key and return the corresponding value.\n",
      " |      \n",
      " |      If the key is not found, return the default if given; otherwise,\n",
      " |      raise a KeyError.\n",
      " |  \n",
      " |  popitem(self, /)\n",
      " |      Remove and return a (key, value) pair as a 2-tuple.\n",
      " |      \n",
      " |      Pairs are returned in LIFO (last-in, first-out) order.\n",
      " |      Raises KeyError if the dict is empty.\n",
      " |  \n",
      " |  setdefault(self, key, default=None, /)\n",
      " |      Insert key with a value of default if key is not in the dictionary.\n",
      " |      \n",
      " |      Return the value for key if key is in the dictionary, else default.\n",
      " |  \n",
      " |  update(...)\n",
      " |      D.update([E, ]**F) -> None.  Update D from dict/iterable E and F.\n",
      " |      If E is present and has a .keys() method, then does:  for k in E: D[k] = E[k]\n",
      " |      If E is present and lacks a .keys() method, then does:  for k, v in E: D[k] = v\n",
      " |      In either case, this is followed by: for k in F:  D[k] = F[k]\n",
      " |  \n",
      " |  values(...)\n",
      " |      D.values() -> an object providing a view on D's values\n",
      " |  \n",
      " |  ----------------------------------------------------------------------\n",
      " |  Class methods defined here:\n",
      " |  \n",
      " |  __class_getitem__(...) from builtins.type\n",
      " |      See PEP 585\n",
      " |  \n",
      " |  fromkeys(iterable, value=None, /) from builtins.type\n",
      " |      Create a new dictionary with keys from iterable and values set to value.\n",
      " |  \n",
      " |  ----------------------------------------------------------------------\n",
      " |  Static methods defined here:\n",
      " |  \n",
      " |  __new__(*args, **kwargs) from builtins.type\n",
      " |      Create and return a new object.  See help(type) for accurate signature.\n",
      " |  \n",
      " |  ----------------------------------------------------------------------\n",
      " |  Data and other attributes defined here:\n",
      " |  \n",
      " |  __hash__ = None\n",
      "\n"
     ]
    }
   ],
   "source": [
    "help(dict)"
   ]
  },
  {
   "cell_type": "code",
   "execution_count": null,
   "id": "af2e2cc3",
   "metadata": {},
   "outputs": [],
   "source": []
  },
  {
   "cell_type": "code",
   "execution_count": null,
   "id": "7cc2c388",
   "metadata": {},
   "outputs": [],
   "source": []
  }
 ],
 "metadata": {
  "kernelspec": {
   "display_name": "Python 3 (ipykernel)",
   "language": "python",
   "name": "python3"
  },
  "language_info": {
   "codemirror_mode": {
    "name": "ipython",
    "version": 3
   },
   "file_extension": ".py",
   "mimetype": "text/x-python",
   "name": "python",
   "nbconvert_exporter": "python",
   "pygments_lexer": "ipython3",
   "version": "3.11.4"
  }
 },
 "nbformat": 4,
 "nbformat_minor": 5
}
