{
 "cells": [
  {
   "cell_type": "code",
   "execution_count": null,
   "id": "c0f3dee4",
   "metadata": {},
   "outputs": [],
   "source": [
    "#pip install django"
   ]
  },
  {
   "cell_type": "code",
   "execution_count": null,
   "id": "8e812ed8",
   "metadata": {},
   "outputs": [],
   "source": [
    "#pip install flask"
   ]
  },
  {
   "cell_type": "code",
   "execution_count": null,
   "id": "7636da3c",
   "metadata": {},
   "outputs": [],
   "source": [
    "#pip install streamlit"
   ]
  },
  {
   "cell_type": "code",
   "execution_count": null,
   "id": "c961d3d8",
   "metadata": {},
   "outputs": [],
   "source": [
    "import pandas as pd\n",
    "import numpy as np\n",
    "#import ML algorithms\n",
    "from sklearn.ensemble import RandomForestClassifier\n",
    "#Import model selection and metrics utilities\n",
    "from sklearn.model_selection import train_test_split\n",
    "from sklearn.metrics import accuracy_score\n",
    "import warnings\n",
    "warnings.filterwarnings(\"ignore\")"
   ]
  },
  {
   "cell_type": "markdown",
   "id": "b74f9c00",
   "metadata": {},
   "source": [
    "### Import Wisconsin Breast Cancer Dataset {http://archive.ics.uci.edu/dataset/15/breast+cancer+wisconsin+original}"
   ]
  },
  {
   "cell_type": "code",
   "execution_count": null,
   "id": "0f20056c",
   "metadata": {},
   "outputs": [],
   "source": [
    "#pip install ucimlrepo"
   ]
  },
  {
   "cell_type": "code",
   "execution_count": null,
   "id": "1b3b6cfc",
   "metadata": {},
   "outputs": [],
   "source": [
    "from ucimlrepo import fetch_ucirepo \n",
    "  \n",
    "# fetch dataset \n",
    "breast_cancer_wisconsin_original = fetch_ucirepo(id=15) \n",
    "  \n",
    "# data (as pandas dataframes) \n",
    "X = breast_cancer_wisconsin_original.data.features \n",
    "y = breast_cancer_wisconsin_original.data.targets "
   ]
  },
  {
   "cell_type": "code",
   "execution_count": null,
   "id": "b09dfc2a",
   "metadata": {},
   "outputs": [],
   "source": [
    "X.shape"
   ]
  },
  {
   "cell_type": "code",
   "execution_count": null,
   "id": "bee91596",
   "metadata": {},
   "outputs": [],
   "source": [
    "y.shape"
   ]
  },
  {
   "cell_type": "code",
   "execution_count": null,
   "id": "4ad420a4",
   "metadata": {},
   "outputs": [],
   "source": [
    " y.sample(6) #Class Labels --- 2 = benign, 4 = malignant"
   ]
  },
  {
   "cell_type": "code",
   "execution_count": null,
   "id": "2e35da64",
   "metadata": {},
   "outputs": [],
   "source": [
    "X.head(15)"
   ]
  },
  {
   "cell_type": "code",
   "execution_count": null,
   "id": "67abbe01",
   "metadata": {},
   "outputs": [],
   "source": [
    "X.tail(15)"
   ]
  },
  {
   "cell_type": "code",
   "execution_count": null,
   "id": "947a1661",
   "metadata": {},
   "outputs": [],
   "source": [
    "#Count the number of missing values\n",
    "X.isnull().sum()"
   ]
  },
  {
   "cell_type": "code",
   "execution_count": null,
   "id": "3a8d00dc",
   "metadata": {},
   "outputs": [],
   "source": [
    "#Replace missing value with mean"
   ]
  },
  {
   "cell_type": "code",
   "execution_count": null,
   "id": "d6154b7d",
   "metadata": {},
   "outputs": [],
   "source": [
    "X.fillna(X['Bare_nuclei'].mean() ,inplace=True)"
   ]
  },
  {
   "cell_type": "code",
   "execution_count": null,
   "id": "e0607c24",
   "metadata": {},
   "outputs": [],
   "source": [
    "#Count the number of missing values\n",
    "X.isnull().sum()"
   ]
  },
  {
   "cell_type": "code",
   "execution_count": null,
   "id": "cf54ddf4",
   "metadata": {},
   "outputs": [],
   "source": [
    "#Split dataset on train and test\n",
    "X_train, X_test, y_train, y_test=train_test_split(X,y,test_size=0.3, random_state=42)"
   ]
  },
  {
   "cell_type": "code",
   "execution_count": null,
   "id": "e38e0ff5",
   "metadata": {},
   "outputs": [],
   "source": [
    "#Instantiate classifier\n",
    "rf=RandomForestClassifier(n_estimators=150)"
   ]
  },
  {
   "cell_type": "code",
   "execution_count": null,
   "id": "6a6baca1",
   "metadata": {},
   "outputs": [],
   "source": [
    "rf.fit(X_train,y_train)"
   ]
  },
  {
   "cell_type": "code",
   "execution_count": null,
   "id": "abf48096",
   "metadata": {},
   "outputs": [],
   "source": [
    "predictions=rf.predict(X_test)"
   ]
  },
  {
   "cell_type": "code",
   "execution_count": null,
   "id": "aa8774b4",
   "metadata": {},
   "outputs": [],
   "source": [
    "accuracy_score(predictions,y_test)"
   ]
  },
  {
   "cell_type": "code",
   "execution_count": null,
   "id": "6f2b8f47",
   "metadata": {},
   "outputs": [],
   "source": [
    "X.head()"
   ]
  },
  {
   "cell_type": "code",
   "execution_count": null,
   "id": "b6e7dc85",
   "metadata": {},
   "outputs": [],
   "source": []
  },
  {
   "cell_type": "markdown",
   "id": "58844ba5",
   "metadata": {},
   "source": [
    "### Store and Retrieve the Model"
   ]
  },
  {
   "cell_type": "code",
   "execution_count": null,
   "id": "6d1ea19e",
   "metadata": {},
   "outputs": [],
   "source": [
    "import pickle"
   ]
  },
  {
   "cell_type": "code",
   "execution_count": null,
   "id": "c36a8db6",
   "metadata": {},
   "outputs": [],
   "source": [
    "pickle.dump(rf, open('saved-models/rf_model.pkl','wb')) #This is the model we will load on the server"
   ]
  },
  {
   "cell_type": "code",
   "execution_count": null,
   "id": "b38e2dab",
   "metadata": {},
   "outputs": [],
   "source": [
    "model = pickle.load(open('saved-models/rf_model.pkl','rb'))\n",
    "print(model.predict([[5,5,9,7,6,1,2,8,3]]))"
   ]
  },
  {
   "cell_type": "code",
   "execution_count": null,
   "id": "cee57b90",
   "metadata": {},
   "outputs": [],
   "source": [
    "X.columns"
   ]
  },
  {
   "cell_type": "markdown",
   "id": "23a25f27",
   "metadata": {},
   "source": [
    "### Process The Form Data"
   ]
  },
  {
   "cell_type": "code",
   "execution_count": null,
   "id": "8709fe49",
   "metadata": {},
   "outputs": [],
   "source": [
    "from flask import Flask,render_template,request,flash"
   ]
  },
  {
   "cell_type": "code",
   "execution_count": null,
   "id": "fe7c3040",
   "metadata": {},
   "outputs": [],
   "source": [
    "app=Flask(__name__) #creates the app to process the user input\n",
    "#Configure the app\n",
    "app.logger.setLevel('INFO')\n",
    "app.secret_key = \"amakuru\"\n",
    "\n",
    "#Define the functions that represent the actions that occur as the user interacts with the app.\n",
    "@app.route('/')\n",
    "def home():\n",
    "    return render_template('index.html')\n",
    "\n",
    "@app.route('/predict',methods=['GET','POST'])\n",
    "def predict():\n",
    "    if request.method =='POST':\n",
    "        \n",
    "        \"\"\"Clump_thickness', 'Uniformity_of_cell_size',\n",
    "       'Uniformity_of_cell_shape', 'Marginal_adhesion',\n",
    "       'Single_epithelial_cell_size', 'Bare_nuclei', 'Bland_chromatin',\n",
    "       'Normal_nucleoli', 'Mitoses'\"\"\"\n",
    "        try:\n",
    "            #Retrieve the form inputs\n",
    "            Clump_thickness=float(request.form['Clump_thickness'])\n",
    "            Uniformity_of_cell_size=float(request.form['Uniformity_of_cell_size'])\n",
    "            Uniformity_of_cell_shape=float(request.form['Uniformity_of_cell_shape'])\n",
    "            Marginal_adhesion=float(request.form['Marginal_adhesion'])\n",
    "            Single_epithelial_cell_size=float(request.form['Single_epithelial_cell_size']) \n",
    "            Bare_nuclei=float(request.form['Bare_nuclei'])\n",
    "            Bland_chromatin=float(request.form['Bland_chromatin'])\n",
    "            Normal_nucleoli=float(request.form['Normal_nucleoli'])\n",
    "            Mitoses=float(request.form['Mitoses'])\n",
    "\n",
    "            #Consolidate the inputs\n",
    "            input_args=[Clump_thickness, Uniformity_of_cell_size,\\\n",
    "                       Uniformity_of_cell_shape, Marginal_adhesion,\\\n",
    "                       Single_epithelial_cell_size, Bare_nuclei, \\\n",
    "                       Bland_chromatin, Normal_nucleoli, Mitoses]\n",
    "            input_arr=np.array(input_args)\n",
    "            inputs=input_arr.reshape(1,-1)# 1 row, numpy with suggest the number of columns\n",
    "            #load the saved model\n",
    "            model = pickle.load(open('saved-models/rf_model.pkl','rb'))\n",
    "            result=model.predict(inputs)\n",
    "            #Transform result to human readable\n",
    "            if int(result)== 2:\n",
    "                prediction ='Benign'\n",
    "                color_signal='green'\n",
    "            else:\n",
    "                prediction ='Malignant'\n",
    "                color_signal='red'\n",
    "                \n",
    "            #Populate flashed messages\n",
    "            flash(prediction)\n",
    "            flash(color_signal)\n",
    "\n",
    "        except ValueError:\n",
    "            return \"Error: Values not valid.\"\n",
    "    return render_template('predict.html',prediction=prediction, color_signal=color_signal)\n"
   ]
  },
  {
   "cell_type": "code",
   "execution_count": null,
   "id": "04e5445a",
   "metadata": {},
   "outputs": [],
   "source": [
    "if __name__=='__main__':\n",
    "    app.run(host='localhost', port=1887, debug=False)"
   ]
  },
  {
   "cell_type": "code",
   "execution_count": null,
   "id": "b382ab00",
   "metadata": {},
   "outputs": [],
   "source": []
  }
 ],
 "metadata": {
  "kernelspec": {
   "display_name": "Python 3 (ipykernel)",
   "language": "python",
   "name": "python3"
  },
  "language_info": {
   "codemirror_mode": {
    "name": "ipython",
    "version": 3
   },
   "file_extension": ".py",
   "mimetype": "text/x-python",
   "name": "python",
   "nbconvert_exporter": "python",
   "pygments_lexer": "ipython3",
   "version": "3.11.5"
  }
 },
 "nbformat": 4,
 "nbformat_minor": 5
}
