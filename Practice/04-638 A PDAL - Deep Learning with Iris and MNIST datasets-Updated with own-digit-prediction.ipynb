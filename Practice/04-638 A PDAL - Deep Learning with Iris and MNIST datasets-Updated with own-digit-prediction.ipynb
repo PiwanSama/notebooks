{
 "cells": [
  {
   "cell_type": "markdown",
   "metadata": {},
   "source": [
    "# <h1>Basic Deep Learning Model: TensorFlow, Keras, Sequential model.</h1>\n",
    "<p>In general, perform the following tasks:Define, Compile, Fit, and Evaluate the model then use the model to make predictions.</p>"
   ]
  },
  {
   "cell_type": "code",
   "execution_count": 1,
   "metadata": {},
   "outputs": [],
   "source": [
    "#pip install opencv-python"
   ]
  },
  {
   "cell_type": "code",
   "execution_count": 2,
   "metadata": {},
   "outputs": [],
   "source": [
    "#pip install tensorflow"
   ]
  },
  {
   "cell_type": "code",
   "execution_count": 46,
   "metadata": {},
   "outputs": [],
   "source": [
    "#pip install Keras-Preprocessing"
   ]
  },
  {
   "cell_type": "code",
   "execution_count": 48,
   "metadata": {},
   "outputs": [],
   "source": [
    "import math\n",
    "import pandas as pd\n",
    "import numpy as np\n",
    "import matplotlib.pyplot as plt\n",
    "\n",
    "from scipy import ndimage \n",
    "import cv2\n",
    "\n",
    "from sklearn.model_selection import train_test_split\n",
    "from sklearn.preprocessing import LabelEncoder, StandardScaler\n",
    "\n",
    "import tensorflow as tf\n",
    "from tensorflow.keras import Sequential\n",
    "from tensorflow.keras.layers import Dense\n",
    "\n",
    "from tensorflow.keras.layers import Conv2D\n",
    "from tensorflow.keras.layers import MaxPool2D\n",
    "from tensorflow.keras.layers import Flatten\n",
    "from tensorflow.keras.layers import Dropout\n",
    "\n",
    "from tensorflow.keras.datasets import mnist\n",
    "\n",
    "import warnings\n",
    "warnings.filterwarnings(\"ignore\")"
   ]
  },
  {
   "cell_type": "code",
   "execution_count": 49,
   "metadata": {},
   "outputs": [
    {
     "name": "stdout",
     "output_type": "stream",
     "text": [
      "2.15.0\n"
     ]
    }
   ],
   "source": [
    "#check version\n",
    "print(tf.__version__)"
   ]
  },
  {
   "cell_type": "markdown",
   "metadata": {},
   "source": [
    "# Example 1: Build a Sequential Model with Iris Dataset"
   ]
  },
  {
   "cell_type": "code",
   "execution_count": 50,
   "metadata": {},
   "outputs": [],
   "source": [
    "#Read the data\n",
    "iris=pd.read_csv('python-data/iris_dataset.csv')"
   ]
  },
  {
   "cell_type": "code",
   "execution_count": 51,
   "metadata": {},
   "outputs": [
    {
     "data": {
      "text/plain": [
       "pandas.core.frame.DataFrame"
      ]
     },
     "execution_count": 51,
     "metadata": {},
     "output_type": "execute_result"
    }
   ],
   "source": [
    "type(iris)"
   ]
  },
  {
   "cell_type": "code",
   "execution_count": 52,
   "metadata": {},
   "outputs": [
    {
     "data": {
      "text/plain": [
       "(150, 5)"
      ]
     },
     "execution_count": 52,
     "metadata": {},
     "output_type": "execute_result"
    }
   ],
   "source": [
    "iris.shape"
   ]
  },
  {
   "cell_type": "code",
   "execution_count": 53,
   "metadata": {},
   "outputs": [],
   "source": [
    "X=iris.values[:,:-1]\n",
    "y=iris.values[:,-1]"
   ]
  },
  {
   "cell_type": "code",
   "execution_count": 54,
   "metadata": {},
   "outputs": [
    {
     "data": {
      "text/plain": [
       "numpy.ndarray"
      ]
     },
     "execution_count": 54,
     "metadata": {},
     "output_type": "execute_result"
    }
   ],
   "source": [
    "type(X)"
   ]
  },
  {
   "cell_type": "code",
   "execution_count": 55,
   "metadata": {},
   "outputs": [],
   "source": [
    "X=X.astype('float32')"
   ]
  },
  {
   "cell_type": "code",
   "execution_count": 56,
   "metadata": {},
   "outputs": [],
   "source": [
    "#convert categorical to int\n",
    "encoder=LabelEncoder()\n",
    "y=encoder.fit_transform(y)"
   ]
  },
  {
   "cell_type": "code",
   "execution_count": 57,
   "metadata": {},
   "outputs": [],
   "source": [
    "#Get train test data\n",
    "X_train, X_test, y_train, y_test=train_test_split(X,y,test_size=0.3, random_state=42)"
   ]
  },
  {
   "cell_type": "code",
   "execution_count": 58,
   "metadata": {},
   "outputs": [
    {
     "data": {
      "text/plain": [
       "((105, 4), (45, 4), (105,), (45,))"
      ]
     },
     "execution_count": 58,
     "metadata": {},
     "output_type": "execute_result"
    }
   ],
   "source": [
    "(X_train.shape,X_test.shape, y_train.shape, y_test.shape)"
   ]
  },
  {
   "cell_type": "code",
   "execution_count": 59,
   "metadata": {},
   "outputs": [
    {
     "data": {
      "text/plain": [
       "4"
      ]
     },
     "execution_count": 59,
     "metadata": {},
     "output_type": "execute_result"
    }
   ],
   "source": [
    "#How many input features\n",
    "num_features=X_train.shape[1]\n",
    "num_features"
   ]
  },
  {
   "cell_type": "code",
   "execution_count": 60,
   "metadata": {},
   "outputs": [],
   "source": [
    "#Scale the datap--this uses mean and standard deviation\n",
    "scaler=StandardScaler()\n",
    "X_train=scaler.fit_transform(X_train)\n",
    "X_test=scaler.transform(X_test)"
   ]
  },
  {
   "cell_type": "code",
   "execution_count": 61,
   "metadata": {},
   "outputs": [
    {
     "data": {
      "text/plain": [
       "array([[-0.4134164 , -1.4644012 , -0.10014565, -0.32149985],\n",
       "       [ 0.55122215, -0.4958211 ,  0.7177107 ,  0.35364988]],\n",
       "      dtype=float32)"
      ]
     },
     "execution_count": 61,
     "metadata": {},
     "output_type": "execute_result"
    }
   ],
   "source": [
    "X_train[:2]"
   ]
  },
  {
   "cell_type": "code",
   "execution_count": 62,
   "metadata": {},
   "outputs": [
    {
     "data": {
      "text/plain": [
       "array([[ 0.31006223, -0.4958211 ,  0.4840374 , -0.0514399 ],\n",
       "       [-0.17225707,  1.9256301 , -1.268512  , -1.2667094 ]],\n",
       "      dtype=float32)"
      ]
     },
     "execution_count": 62,
     "metadata": {},
     "output_type": "execute_result"
    }
   ],
   "source": [
    "X_test[:2]"
   ]
  },
  {
   "cell_type": "markdown",
   "metadata": {},
   "source": [
    "# Build Sequential model. Adds layers in a linear manner"
   ]
  },
  {
   "cell_type": "code",
   "execution_count": 63,
   "metadata": {},
   "outputs": [],
   "source": [
    "#Create the model and add layers-Step 1\n",
    "#activations:['relu','softmax','sigmoid', 'tanh','etc.']\n",
    "#kernel_initializers:['uniform','normal','he_normal','he_uniform', 'etc.']\n",
    "def createDLModel():\n",
    "    model=Sequential() #defines sequential model to which we add layers\n",
    "    model.add(Dense(units=20, activation='relu', kernel_initializer='uniform',\\\n",
    "                    input_shape=(num_features,))) #adds a layer---fully connected\n",
    "    model.add(Dense(units=16,activation='relu',kernel_initializer='uniform')) #fully connected layer\n",
    "    model.add(Dense(units=8,activation='relu',kernel_initializer='uniform'))#fully connected layer\n",
    "    model.add(Dense(units=3,activation='softmax')) #remember we want to classify into setosa, versicolor, and virginica. #fully connected layer\n",
    "    return model"
   ]
  },
  {
   "cell_type": "code",
   "execution_count": 64,
   "metadata": {},
   "outputs": [],
   "source": [
    "#set up model\n",
    "model=createDLModel()"
   ]
  },
  {
   "cell_type": "code",
   "execution_count": 65,
   "metadata": {},
   "outputs": [],
   "source": [
    "#compile the model- Step 2\n",
    "#Select the loss function to optimize (e.g. MSE, cross entropy, etc) and the optimizer (e.g. adam, nadam, etc)\n",
    "#e.g. 'binary_crossentropy' for binary classification, 'mse' (mean squared error) for regression, \n",
    "#and'sparse_categorical_crossentropy' for multi-class classification.\n",
    "#Also includes setting the list of metrics\n",
    "\n",
    "#optimizers:['adam','nadam','SGD','Adamax','etc.']\n",
    "\n",
    "model.compile(optimizer='adam', loss='sparse_categorical_crossentropy', metrics=['accuracy']) \n",
    "#1- loss: sparse_categorical_crossentropy for integer form targets\n",
    "#2- optitimizer: optimization algorithm for stochastic gradient descent for training deep learning models."
   ]
  },
  {
   "cell_type": "code",
   "execution_count": 66,
   "metadata": {},
   "outputs": [
    {
     "name": "stdout",
     "output_type": "stream",
     "text": [
      "Epoch 1/15\n",
      "7/7 - 1s - loss: 1.0978 - accuracy: 0.2952 - 596ms/epoch - 85ms/step\n",
      "Epoch 2/15\n",
      "7/7 - 0s - loss: 1.0947 - accuracy: 0.3524 - 37ms/epoch - 5ms/step\n",
      "Epoch 3/15\n",
      "7/7 - 0s - loss: 1.0897 - accuracy: 0.3619 - 20ms/epoch - 3ms/step\n",
      "Epoch 4/15\n",
      "7/7 - 0s - loss: 1.0818 - accuracy: 0.3524 - 24ms/epoch - 3ms/step\n",
      "Epoch 5/15\n",
      "7/7 - 0s - loss: 1.0697 - accuracy: 0.4476 - 17ms/epoch - 2ms/step\n",
      "Epoch 6/15\n",
      "7/7 - 0s - loss: 1.0526 - accuracy: 0.6381 - 16ms/epoch - 2ms/step\n",
      "Epoch 7/15\n",
      "7/7 - 0s - loss: 1.0298 - accuracy: 0.6381 - 17ms/epoch - 2ms/step\n",
      "Epoch 8/15\n",
      "7/7 - 0s - loss: 1.0018 - accuracy: 0.6381 - 18ms/epoch - 3ms/step\n",
      "Epoch 9/15\n",
      "7/7 - 0s - loss: 0.9673 - accuracy: 0.6476 - 27ms/epoch - 4ms/step\n",
      "Epoch 10/15\n",
      "7/7 - 0s - loss: 0.9290 - accuracy: 0.6476 - 12ms/epoch - 2ms/step\n",
      "Epoch 11/15\n",
      "7/7 - 0s - loss: 0.8855 - accuracy: 0.6476 - 15ms/epoch - 2ms/step\n",
      "Epoch 12/15\n",
      "7/7 - 0s - loss: 0.8409 - accuracy: 0.6476 - 18ms/epoch - 3ms/step\n",
      "Epoch 13/15\n",
      "7/7 - 0s - loss: 0.7939 - accuracy: 0.6476 - 21ms/epoch - 3ms/step\n",
      "Epoch 14/15\n",
      "7/7 - 0s - loss: 0.7474 - accuracy: 0.6476 - 13ms/epoch - 2ms/step\n",
      "Epoch 15/15\n",
      "7/7 - 0s - loss: 0.7030 - accuracy: 0.6476 - 14ms/epoch - 2ms/step\n"
     ]
    },
    {
     "data": {
      "text/plain": [
       "<keras.src.callbacks.History at 0x1b91480fd90>"
      ]
     },
     "execution_count": 66,
     "metadata": {},
     "output_type": "execute_result"
    }
   ],
   "source": [
    "#Fit the model- Step 3\n",
    "#verbose 2 means it displays progress. verbose 0 disables display of progress.\n",
    "#batch_size - number of samples\n",
    "model.fit(X_train,y_train,epochs=15, \n",
    "          batch_size=15, verbose=2) "
   ]
  },
  {
   "cell_type": "code",
   "execution_count": 67,
   "metadata": {},
   "outputs": [
    {
     "name": "stdout",
     "output_type": "stream",
     "text": [
      "Accuracy: 0.711\n",
      "Loss: 0.648\n"
     ]
    }
   ],
   "source": [
    "#Evaluate the model-Step 4\n",
    "loss, acc=model.evaluate(X_test,y_test,verbose=0)\n",
    "print(f\"Accuracy: {acc:.3f}\")\n",
    "print(f\"Loss: {loss:.3f}\")"
   ]
  },
  {
   "cell_type": "code",
   "execution_count": 68,
   "metadata": {},
   "outputs": [
    {
     "name": "stdout",
     "output_type": "stream",
     "text": [
      "[[-1.25747489  0.95704976 -1.32693037 -1.40173942]]\n",
      "1/1 [==============================] - 0s 52ms/step\n",
      "Predicted: [[0.5647342  0.19071987 0.24454603]]\n",
      "Species: 0\n"
     ]
    }
   ],
   "source": [
    "#Test prediction- Apply the model. The trained model can also be applied at this stage.\n",
    "x151=[4.8,3.4,1.6,0.2]#setosa\n",
    "x151=scaler.transform([x151])\n",
    "print(x151)\n",
    "y_pred=model.predict([x151])\n",
    "print(f'Predicted: {y_pred}\\nSpecies: {np.argmax(y_pred)}')\n",
    "    #argmax returns the indices of the maximum values along an axis.\n"
   ]
  },
  {
   "cell_type": "code",
   "execution_count": 69,
   "metadata": {},
   "outputs": [
    {
     "name": "stdout",
     "output_type": "stream",
     "text": [
      "[[-0.53399618 -0.01153073  0.36720087  0.35364987]]\n",
      "1/1 [==============================] - 0s 23ms/step\n",
      "Predicted: [[0.11200915 0.39701    0.49098083]]\n",
      "Species: 2\n"
     ]
    }
   ],
   "source": [
    "#Test prediction- Apply the model\n",
    "x152=[5.4,3,4.5,1.5] #versicolor\n",
    "x152=scaler.transform([x152])\n",
    "print(x152)\n",
    "y_pred=model.predict([x152])\n",
    "print(f'Predicted: {y_pred}\\nSpecies: {np.argmax(y_pred)}')\n",
    "    #argmax returns the indices of the maximum values along an axis.\n"
   ]
  },
  {
   "cell_type": "code",
   "execution_count": 70,
   "metadata": {},
   "outputs": [
    {
     "name": "stdout",
     "output_type": "stream",
     "text": [
      "Model: \"sequential_3\"\n",
      "_________________________________________________________________\n",
      " Layer (type)                Output Shape              Param #   \n",
      "=================================================================\n",
      " dense_8 (Dense)             (None, 20)                100       \n",
      "                                                                 \n",
      " dense_9 (Dense)             (None, 16)                336       \n",
      "                                                                 \n",
      " dense_10 (Dense)            (None, 8)                 136       \n",
      "                                                                 \n",
      " dense_11 (Dense)            (None, 3)                 27        \n",
      "                                                                 \n",
      "=================================================================\n",
      "Total params: 599 (2.34 KB)\n",
      "Trainable params: 599 (2.34 KB)\n",
      "Non-trainable params: 0 (0.00 Byte)\n",
      "_________________________________________________________________\n"
     ]
    }
   ],
   "source": [
    "model.summary()"
   ]
  },
  {
   "cell_type": "markdown",
   "metadata": {},
   "source": [
    "# Example 2- Build CNN for image classification. "
   ]
  },
  {
   "cell_type": "markdown",
   "metadata": {},
   "source": [
    "Have convolution and pooling layers. \n",
    "\n",
    "Convolution layers generate feature maps, pooling layers collect important features."
   ]
  },
  {
   "cell_type": "markdown",
   "metadata": {},
   "source": [
    "MNIST dataset-link for more info on the dataset: http://yann.lecun.com/exdb/mnist/\n",
    "\n",
    "Cotains images of handwritten digits in grayscale. A grayscale image has just one channel.\n",
    "\n",
    "60000 training instances; 10000 test instances.\n",
    "\n",
    "The instances are 28*28 images\n",
    "\n",
    "CNN: convolution layer takes a filter and multiplies the input matrix (element-wise) \n",
    "with the filter, thereby generating new features. It uses dot-matrix multiplication."
   ]
  },
  {
   "cell_type": "code",
   "execution_count": 71,
   "metadata": {},
   "outputs": [
    {
     "data": {
      "text/plain": [
       "(60000, 10000)"
      ]
     },
     "execution_count": 71,
     "metadata": {},
     "output_type": "execute_result"
    }
   ],
   "source": [
    "#load MNIST dataset-load_data() returns a 2-tuple\n",
    "\n",
    "(X_mn_train,y_mn_train), (X_mn_test,y_mn_test)=mnist.load_data()\n",
    "len(X_mn_train), len(X_mn_test)"
   ]
  },
  {
   "cell_type": "code",
   "execution_count": 72,
   "metadata": {},
   "outputs": [
    {
     "data": {
      "text/plain": [
       "(60000, 28, 28)"
      ]
     },
     "execution_count": 72,
     "metadata": {},
     "output_type": "execute_result"
    }
   ],
   "source": [
    "X_mn_train.shape #notice the channel is missing in the shape\n",
    "                #-----for RGB images,channel is 3; 1 for grayscale images"
   ]
  },
  {
   "cell_type": "code",
   "execution_count": 73,
   "metadata": {},
   "outputs": [
    {
     "data": {
      "image/png": "[encoded data removed]",
      "text/plain": [
       "<Figure size 640x480 with 9 Axes>"
      ]
     },
     "metadata": {},
     "output_type": "display_data"
    }
   ],
   "source": [
    "#Sample the images in the training set and display them\n",
    "for im_index in range(9):\n",
    "    plt.subplot(3,3,im_index+1)\n",
    "    plt.imshow(X_mn_train[im_index],cmap='gray')#cmap='gray' is a good alternative\n",
    "    \n",
    "plt.show()"
   ]
  },
  {
   "cell_type": "code",
   "execution_count": 74,
   "metadata": {},
   "outputs": [
    {
     "data": {
      "image/png": "[encoded data removed]",
      "text/plain": [
       "<Figure size 640x480 with 9 Axes>"
      ]
     },
     "metadata": {},
     "output_type": "display_data"
    }
   ],
   "source": [
    "#Sample the images in the test set and display them\n",
    "for im_index in range(9):\n",
    "    plt.subplot(3,3,im_index+1)\n",
    "    plt.imshow(X_mn_test[im_index],cmap='hot')#cmap='gray' is a good alternative\n",
    "    \n",
    "plt.show()"
   ]
  },
  {
   "cell_type": "code",
   "execution_count": 75,
   "metadata": {},
   "outputs": [
    {
     "data": {
      "text/plain": [
       "array([[[0, 0, 0, ..., 0, 0, 0],\n",
       "        [0, 0, 0, ..., 0, 0, 0],\n",
       "        [0, 0, 0, ..., 0, 0, 0],\n",
       "        ...,\n",
       "        [0, 0, 0, ..., 0, 0, 0],\n",
       "        [0, 0, 0, ..., 0, 0, 0],\n",
       "        [0, 0, 0, ..., 0, 0, 0]],\n",
       "\n",
       "       [[0, 0, 0, ..., 0, 0, 0],\n",
       "        [0, 0, 0, ..., 0, 0, 0],\n",
       "        [0, 0, 0, ..., 0, 0, 0],\n",
       "        ...,\n",
       "        [0, 0, 0, ..., 0, 0, 0],\n",
       "        [0, 0, 0, ..., 0, 0, 0],\n",
       "        [0, 0, 0, ..., 0, 0, 0]],\n",
       "\n",
       "       [[0, 0, 0, ..., 0, 0, 0],\n",
       "        [0, 0, 0, ..., 0, 0, 0],\n",
       "        [0, 0, 0, ..., 0, 0, 0],\n",
       "        ...,\n",
       "        [0, 0, 0, ..., 0, 0, 0],\n",
       "        [0, 0, 0, ..., 0, 0, 0],\n",
       "        [0, 0, 0, ..., 0, 0, 0]],\n",
       "\n",
       "       ...,\n",
       "\n",
       "       [[0, 0, 0, ..., 0, 0, 0],\n",
       "        [0, 0, 0, ..., 0, 0, 0],\n",
       "        [0, 0, 0, ..., 0, 0, 0],\n",
       "        ...,\n",
       "        [0, 0, 0, ..., 0, 0, 0],\n",
       "        [0, 0, 0, ..., 0, 0, 0],\n",
       "        [0, 0, 0, ..., 0, 0, 0]],\n",
       "\n",
       "       [[0, 0, 0, ..., 0, 0, 0],\n",
       "        [0, 0, 0, ..., 0, 0, 0],\n",
       "        [0, 0, 0, ..., 0, 0, 0],\n",
       "        ...,\n",
       "        [0, 0, 0, ..., 0, 0, 0],\n",
       "        [0, 0, 0, ..., 0, 0, 0],\n",
       "        [0, 0, 0, ..., 0, 0, 0]],\n",
       "\n",
       "       [[0, 0, 0, ..., 0, 0, 0],\n",
       "        [0, 0, 0, ..., 0, 0, 0],\n",
       "        [0, 0, 0, ..., 0, 0, 0],\n",
       "        ...,\n",
       "        [0, 0, 0, ..., 0, 0, 0],\n",
       "        [0, 0, 0, ..., 0, 0, 0],\n",
       "        [0, 0, 0, ..., 0, 0, 0]]], dtype=uint8)"
      ]
     },
     "execution_count": 75,
     "metadata": {},
     "output_type": "execute_result"
    }
   ],
   "source": [
    "X_mn_train.reshape((60000,28,28))"
   ]
  },
  {
   "cell_type": "code",
   "execution_count": 76,
   "metadata": {},
   "outputs": [
    {
     "data": {
      "text/plain": [
       "array([[  0,   0,   0,   0,   0,   0,   0,   0,   0,   0,   0,   0,   0,\n",
       "          0,   0,   0,   0,   0,   0,   0,   0,   0,   0,   0,   0,   0,\n",
       "          0,   0],\n",
       "       [  0,   0,   0,   0,   0,   0,   0,   0,   0,   0,   0,   0,   0,\n",
       "          0,   0,   0,   0,   0,   0,   0,   0,   0,   0,   0,   0,   0,\n",
       "          0,   0],\n",
       "       [  0,   0,   0,   0,   0,   0,   0,   0,   0,   0,   0,   0,   0,\n",
       "          0,   0,   0,   0,   0,   0,   0,   0,   0,   0,   0,   0,   0,\n",
       "          0,   0],\n",
       "       [  0,   0,   0,   0,   0,   0,   0,   0,   0,   0,   0,   0,   0,\n",
       "          0,   0,   0,   0,   0,   0,   0,   0,   0,   0,   0,   0,   0,\n",
       "          0,   0],\n",
       "       [  0,   0,   0,   0,   0,   0,   0,   0,   0,   0,   0,   0,   0,\n",
       "          0,   0,   0,   0,   0,   0,   0,   0,   0,   0,   0,   0,   0,\n",
       "          0,   0],\n",
       "       [  0,   0,   0,   0,   0,   0,   0,   0,   0,   0,   0,   0,   0,\n",
       "          0,   0,   0, 138, 238, 217,  68,   0,   0,   0,   0,   0,   0,\n",
       "          0,   0],\n",
       "       [  0,   0,   0,   0,   0,   0,   0,   0,   0,   0,   0,   0,   0,\n",
       "          0,   0, 150, 254, 254, 254, 232,   0,   0,   0,   0,   0,   0,\n",
       "          0,   0],\n",
       "       [  0,   0,   0,   0,   0,   0,   0,   0,   0,   0,   0,   0,   0,\n",
       "          0,  63, 224, 254, 145, 254, 240,  22,   0,   0,   0,   0,   0,\n",
       "          0,   0],\n",
       "       [  0,   0,   0,   0,   0,   0,   0,   0,   0,   0,   0,   0,  15,\n",
       "        160, 253, 254, 254, 187, 254, 180,   0,   0,   0,   0,   0,   0,\n",
       "          0,   0],\n",
       "       [  0,   0,   0,   0,   0,   0,   0,   0,   0,   0,   0,   0, 184,\n",
       "        254, 184, 207, 254, 254, 248,  51,   0,   0,   0,   0,   0,   0,\n",
       "          0,   0],\n",
       "       [  0,   0,   0,   0,   0,   0,   0,   0,   0,   0,   0, 123, 252,\n",
       "        206,  17,  47, 254, 254, 128,   0,   0,   0,   0,   0,   0,   0,\n",
       "          0,   0],\n",
       "       [  0,   0,   0,   0,   0,   0,   0,   0,   0,   0,   0, 229, 254,\n",
       "         43,   0, 165, 254, 159,   6,   0,   0,   0,   0,   0,   0,   0,\n",
       "          0,   0],\n",
       "       [  0,   0,   0,   0,   0,   0,   0,   0,   0,   0,   0, 229, 237,\n",
       "         23,  42, 235, 218,  24,   0,   0,   0,   0,   0,   0,   0,   0,\n",
       "          0,   0],\n",
       "       [  0,   0,   0,   0,   0,   0,   0,   0,   0,   0,   0, 213, 254,\n",
       "        105, 212, 247,  50,   0,   0,   0,   0,   0,   0,   0,   0,   0,\n",
       "          0,   0],\n",
       "       [  0,   0,   0,   0,   0,   0,   0,   0,   0,   0,   0,  60, 249,\n",
       "        254, 254, 128,   0,   0,   0,   0,   0,   0,   0,   0,   0,   0,\n",
       "          0,   0],\n",
       "       [  0,   0,   0,   0,   0,   0,   0,   0,   0,   0,   0,   0, 139,\n",
       "        254, 254, 163,   8,   0,   0,   0,   0,   0,   0,   0,   0,   0,\n",
       "          0,   0],\n",
       "       [  0,   0,   0,   0,   0,   0,   0,   0,   0,   0,   0,   0, 164,\n",
       "        254, 243, 254,  89,   0,   0,   0,   0,   0,   0,   0,   0,   0,\n",
       "          0,   0],\n",
       "       [  0,   0,   0,   0,   0,   0,   0,   0,   0,   0,   0,  56, 249,\n",
       "        177,  49, 235, 202,   0,   0,   0,   0,   0,   0,   0,   0,   0,\n",
       "          0,   0],\n",
       "       [  0,   0,   0,   0,   0,   0,   0,   0,   0,   0,   7, 213, 249,\n",
       "         50,   0, 212, 247,  41,   0,   0,   0,   0,   0,   0,   0,   0,\n",
       "          0,   0],\n",
       "       [  0,   0,   0,   0,   0,   0,   0,   0,   0,   0,  69, 254, 158,\n",
       "          0,   0, 212, 254,  52,   0,   0,   0,   0,   0,   0,   0,   0,\n",
       "          0,   0],\n",
       "       [  0,   0,   0,   0,   0,   0,   0,   0,   0,   0, 212, 254,  30,\n",
       "          0,   0, 212, 254,  52,   0,   0,   0,   0,   0,   0,   0,   0,\n",
       "          0,   0],\n",
       "       [  0,   0,   0,   0,   0,   0,   0,   0,   0,   4, 235, 213,   8,\n",
       "          0,  37, 243, 241,  32,   0,   0,   0,   0,   0,   0,   0,   0,\n",
       "          0,   0],\n",
       "       [  0,   0,   0,   0,   0,   0,   0,   0,   0,  19, 240, 200,   4,\n",
       "          5, 193, 254, 126,   0,   0,   0,   0,   0,   0,   0,   0,   0,\n",
       "          0,   0],\n",
       "       [  0,   0,   0,   0,   0,   0,   0,   0,   0,   0, 232, 254, 212,\n",
       "        218, 254, 195,  15,   0,   0,   0,   0,   0,   0,   0,   0,   0,\n",
       "          0,   0],\n",
       "       [  0,   0,   0,   0,   0,   0,   0,   0,   0,   0,  68, 216, 254,\n",
       "        254, 166,  14,   0,   0,   0,   0,   0,   0,   0,   0,   0,   0,\n",
       "          0,   0],\n",
       "       [  0,   0,   0,   0,   0,   0,   0,   0,   0,   0,   0,   0,   0,\n",
       "          0,   0,   0,   0,   0,   0,   0,   0,   0,   0,   0,   0,   0,\n",
       "          0,   0],\n",
       "       [  0,   0,   0,   0,   0,   0,   0,   0,   0,   0,   0,   0,   0,\n",
       "          0,   0,   0,   0,   0,   0,   0,   0,   0,   0,   0,   0,   0,\n",
       "          0,   0],\n",
       "       [  0,   0,   0,   0,   0,   0,   0,   0,   0,   0,   0,   0,   0,\n",
       "          0,   0,   0,   0,   0,   0,   0,   0,   0,   0,   0,   0,   0,\n",
       "          0,   0]], dtype=uint8)"
      ]
     },
     "execution_count": 76,
     "metadata": {},
     "output_type": "execute_result"
    }
   ],
   "source": [
    "X_mn_train[300]#see 28*28 image with pixesl ranging between 0-255"
   ]
  },
  {
   "cell_type": "code",
   "execution_count": 77,
   "metadata": {},
   "outputs": [
    {
     "data": {
      "image/png": "[encoded data removed]",
      "text/plain": [
       "<Figure size 640x480 with 1 Axes>"
      ]
     },
     "metadata": {},
     "output_type": "display_data"
    }
   ],
   "source": [
    "#This is the image plot\n",
    "plt.imshow(X_mn_train[300],cmap='hot') \n",
    "plt.show()"
   ]
  },
  {
   "cell_type": "code",
   "execution_count": 78,
   "metadata": {},
   "outputs": [
    {
     "data": {
      "text/plain": [
       "238"
      ]
     },
     "execution_count": 78,
     "metadata": {},
     "output_type": "execute_result"
    }
   ],
   "source": [
    "X_mn_train[300][5][17]#what is in row 6, column 18--the value returned is actually channel information"
   ]
  },
  {
   "cell_type": "code",
   "execution_count": 79,
   "metadata": {},
   "outputs": [
    {
     "data": {
      "text/plain": [
       "0"
      ]
     },
     "execution_count": 79,
     "metadata": {},
     "output_type": "execute_result"
    }
   ],
   "source": [
    "X_mn_train[300][5][5]#what is in row 6, column 6"
   ]
  },
  {
   "cell_type": "code",
   "execution_count": 80,
   "metadata": {},
   "outputs": [],
   "source": [
    "#We modify dimension to include channel. \n",
    "#CNN expects images to be of the form (rows, columns, channels)\n",
    "#reshape the data to have a single channel\n",
    "X_mn_train=X_mn_train.reshape((X_mn_train.shape[0], #image instance---60000\n",
    "                               X_mn_train.shape[1], #rows-28\n",
    "                               X_mn_train.shape[2], #columns-28\n",
    "                               1 #channel--grayscale\n",
    "                              ))\n",
    "X_mn_test=X_mn_test.reshape((X_mn_test.shape[0],#image instance---10000\n",
    "                             X_mn_test.shape[1],#rows-28\n",
    "                             X_mn_test.shape[2],#columns-28\n",
    "                             1 #channel--grayscale\n",
    "                            ))"
   ]
  },
  {
   "cell_type": "code",
   "execution_count": 81,
   "metadata": {},
   "outputs": [
    {
     "data": {
      "text/plain": [
       "(60000, 28, 28, 1)"
      ]
     },
     "execution_count": 81,
     "metadata": {},
     "output_type": "execute_result"
    }
   ],
   "source": [
    "X_mn_train.shape"
   ]
  },
  {
   "cell_type": "code",
   "execution_count": 82,
   "metadata": {},
   "outputs": [
    {
     "data": {
      "text/plain": [
       "(10000, 28, 28, 1)"
      ]
     },
     "execution_count": 82,
     "metadata": {},
     "output_type": "execute_result"
    }
   ],
   "source": [
    "X_mn_test.shape"
   ]
  },
  {
   "cell_type": "code",
   "execution_count": 83,
   "metadata": {},
   "outputs": [
    {
     "data": {
      "text/plain": [
       "(28, 28, 1)"
      ]
     },
     "execution_count": 83,
     "metadata": {},
     "output_type": "execute_result"
    }
   ],
   "source": [
    "#Image input shape. This is the shape we will offer as input\n",
    "in_shape=X_mn_train.shape[1:] #exclude the first index which is for image instance.\n",
    "in_shape"
   ]
  },
  {
   "cell_type": "code",
   "execution_count": 84,
   "metadata": {},
   "outputs": [
    {
     "data": {
      "text/plain": [
       "array([0, 1, 2, 3, 4, 5, 6, 7, 8, 9], dtype=uint8)"
      ]
     },
     "execution_count": 84,
     "metadata": {},
     "output_type": "execute_result"
    }
   ],
   "source": [
    "#Examine the classes in the target attribute\n",
    "np.unique(y_mn_train)"
   ]
  },
  {
   "cell_type": "code",
   "execution_count": 85,
   "metadata": {},
   "outputs": [
    {
     "data": {
      "text/plain": [
       "10"
      ]
     },
     "execution_count": 85,
     "metadata": {},
     "output_type": "execute_result"
    }
   ],
   "source": [
    "#Determine the number of classes that the image can be classifed into\n",
    "#---we expect 10:(0,1,2,3,4,5,6,7,8,9)---as above\n",
    "n_classes = len(np.unique(y_mn_train))\n",
    "n_classes"
   ]
  },
  {
   "cell_type": "code",
   "execution_count": 86,
   "metadata": {},
   "outputs": [],
   "source": [
    "#Scale the pixels from range 0-255 to 0-1. This is good for models that \n",
    "#use linear combinations of inputs and need to learn weights\n",
    "#We first make each instance a float before computation\n",
    "X_mn_train=X_mn_train.astype('float32')/255.0\n",
    "X_mn_test=X_mn_test.astype('float32')/255.0"
   ]
  },
  {
   "cell_type": "code",
   "execution_count": 87,
   "metadata": {},
   "outputs": [],
   "source": [
    "#Create function to return a CNN model.\n",
    "#The function creates a Sequential model, and adds layers to it. \n",
    "#The model is then compiled and returned.\n",
    "def createCNNModel():\n",
    "    model=Sequential()\n",
    "    model.add(Conv2D(filters=32,kernel_size=(3,3),activation='relu', \\\n",
    "                     kernel_initializer='he_uniform', input_shape=in_shape))\n",
    "    model.add(MaxPool2D(pool_size=(2,2), strides=1))\n",
    "    model.add(Flatten()) #will modify input e.g. from (28,28,1) to (28*28*1,), i.e. (784,)\n",
    "    model.add(Dense(units=100,activation='relu', kernel_initializer='he_uniform'))\n",
    "    model.add(Dropout(rate=0.3)) #randomly sets input weights to zero with frequency of rate---to avoid overfitting\n",
    "    model.add(Dense(units=n_classes,activation='softmax'))\n",
    "    #Compile model--sets parameters like optimizer, loss function, metrics, etc.\n",
    "    model.compile(optimizer='adam', loss='sparse_categorical_crossentropy', metrics=['accuracy'])\n",
    "    return model"
   ]
  },
  {
   "cell_type": "code",
   "execution_count": 88,
   "metadata": {},
   "outputs": [],
   "source": [
    "#set up the CNN model\n",
    "modelCNN=createCNNModel()"
   ]
  },
  {
   "cell_type": "code",
   "execution_count": 89,
   "metadata": {},
   "outputs": [
    {
     "name": "stdout",
     "output_type": "stream",
     "text": [
      "Epoch 1/150\n",
      "938/938 [==============================] - 16s 17ms/step - loss: 0.3375 - accuracy: 0.9002\n",
      "Epoch 2/150\n",
      "938/938 [==============================] - 17s 18ms/step - loss: 0.1255 - accuracy: 0.9616\n",
      "Epoch 3/150\n",
      "938/938 [==============================] - 17s 18ms/step - loss: 0.0894 - accuracy: 0.9721\n",
      "Epoch 4/150\n",
      "938/938 [==============================] - 17s 18ms/step - loss: 0.0732 - accuracy: 0.9768\n",
      "Epoch 5/150\n",
      "938/938 [==============================] - 17s 18ms/step - loss: 0.0625 - accuracy: 0.9798\n",
      "Epoch 6/150\n",
      "938/938 [==============================] - 15s 16ms/step - loss: 0.0532 - accuracy: 0.9823\n",
      "Epoch 7/150\n",
      "938/938 [==============================] - 14s 15ms/step - loss: 0.0482 - accuracy: 0.9842\n",
      "Epoch 8/150\n",
      "938/938 [==============================] - 17s 18ms/step - loss: 0.0407 - accuracy: 0.9864\n",
      "Epoch 9/150\n",
      "938/938 [==============================] - 17s 18ms/step - loss: 0.0349 - accuracy: 0.9883\n",
      "Epoch 10/150\n",
      "938/938 [==============================] - 16s 17ms/step - loss: 0.0334 - accuracy: 0.9890\n",
      "Epoch 11/150\n",
      "938/938 [==============================] - 15s 16ms/step - loss: 0.0292 - accuracy: 0.9901\n",
      "Epoch 12/150\n",
      "938/938 [==============================] - 15s 16ms/step - loss: 0.0283 - accuracy: 0.9901\n",
      "Epoch 13/150\n",
      "938/938 [==============================] - 14s 15ms/step - loss: 0.0242 - accuracy: 0.9917\n",
      "Epoch 14/150\n",
      "938/938 [==============================] - 16s 17ms/step - loss: 0.0222 - accuracy: 0.9924\n",
      "Epoch 15/150\n",
      "938/938 [==============================] - 16s 17ms/step - loss: 0.0217 - accuracy: 0.9923\n",
      "Epoch 16/150\n",
      "938/938 [==============================] - 16s 17ms/step - loss: 0.0193 - accuracy: 0.9934\n",
      "Epoch 17/150\n",
      "938/938 [==============================] - 16s 17ms/step - loss: 0.0175 - accuracy: 0.9938\n",
      "Epoch 18/150\n",
      "938/938 [==============================] - 16s 17ms/step - loss: 0.0169 - accuracy: 0.9943\n",
      "Epoch 19/150\n",
      "938/938 [==============================] - 16s 17ms/step - loss: 0.0172 - accuracy: 0.9944\n",
      "Epoch 20/150\n",
      "938/938 [==============================] - 17s 18ms/step - loss: 0.0160 - accuracy: 0.9944\n",
      "Epoch 21/150\n",
      "938/938 [==============================] - 17s 18ms/step - loss: 0.0158 - accuracy: 0.9946\n",
      "Epoch 22/150\n",
      "938/938 [==============================] - 16s 17ms/step - loss: 0.0129 - accuracy: 0.9956\n",
      "Epoch 23/150\n",
      "938/938 [==============================] - 16s 17ms/step - loss: 0.0128 - accuracy: 0.9957\n",
      "Epoch 24/150\n",
      "938/938 [==============================] - 16s 17ms/step - loss: 0.0146 - accuracy: 0.9954\n",
      "Epoch 25/150\n",
      "938/938 [==============================] - 16s 17ms/step - loss: 0.0110 - accuracy: 0.9959\n",
      "Epoch 26/150\n",
      "938/938 [==============================] - 16s 17ms/step - loss: 0.0111 - accuracy: 0.9962\n",
      "Epoch 27/150\n",
      "938/938 [==============================] - 17s 18ms/step - loss: 0.0101 - accuracy: 0.9966\n",
      "Epoch 28/150\n",
      "938/938 [==============================] - 16s 17ms/step - loss: 0.0103 - accuracy: 0.9964\n",
      "Epoch 29/150\n",
      "938/938 [==============================] - 17s 19ms/step - loss: 0.0100 - accuracy: 0.9965\n",
      "Epoch 30/150\n",
      "938/938 [==============================] - 15s 16ms/step - loss: 0.0100 - accuracy: 0.9967\n",
      "Epoch 31/150\n",
      "938/938 [==============================] - 16s 17ms/step - loss: 0.0089 - accuracy: 0.9970\n",
      "Epoch 32/150\n",
      "938/938 [==============================] - 16s 17ms/step - loss: 0.0096 - accuracy: 0.9967\n",
      "Epoch 33/150\n",
      "938/938 [==============================] - 17s 18ms/step - loss: 0.0089 - accuracy: 0.9969\n",
      "Epoch 34/150\n",
      "938/938 [==============================] - 17s 18ms/step - loss: 0.0096 - accuracy: 0.9967\n",
      "Epoch 35/150\n",
      "938/938 [==============================] - 17s 18ms/step - loss: 0.0079 - accuracy: 0.9972\n",
      "Epoch 36/150\n",
      "938/938 [==============================] - 17s 18ms/step - loss: 0.0080 - accuracy: 0.9971\n",
      "Epoch 37/150\n",
      "938/938 [==============================] - 17s 18ms/step - loss: 0.0074 - accuracy: 0.9975\n",
      "Epoch 38/150\n",
      "938/938 [==============================] - 17s 18ms/step - loss: 0.0085 - accuracy: 0.9973\n",
      "Epoch 39/150\n",
      "938/938 [==============================] - 17s 18ms/step - loss: 0.0071 - accuracy: 0.9976\n",
      "Epoch 40/150\n",
      "938/938 [==============================] - 17s 18ms/step - loss: 0.0063 - accuracy: 0.9978\n",
      "Epoch 41/150\n",
      "938/938 [==============================] - 17s 18ms/step - loss: 0.0077 - accuracy: 0.9974\n",
      "Epoch 42/150\n",
      "938/938 [==============================] - 17s 18ms/step - loss: 0.0069 - accuracy: 0.9975\n",
      "Epoch 43/150\n",
      "938/938 [==============================] - 16s 17ms/step - loss: 0.0067 - accuracy: 0.9976\n",
      "Epoch 44/150\n",
      "938/938 [==============================] - 17s 18ms/step - loss: 0.0064 - accuracy: 0.9980\n",
      "Epoch 45/150\n",
      "938/938 [==============================] - 17s 18ms/step - loss: 0.0068 - accuracy: 0.9977\n",
      "Epoch 46/150\n",
      "938/938 [==============================] - 17s 18ms/step - loss: 0.0068 - accuracy: 0.9977\n",
      "Epoch 47/150\n",
      "938/938 [==============================] - 17s 18ms/step - loss: 0.0060 - accuracy: 0.9982\n",
      "Epoch 48/150\n",
      "938/938 [==============================] - 17s 18ms/step - loss: 0.0060 - accuracy: 0.9979\n",
      "Epoch 49/150\n",
      "938/938 [==============================] - 17s 18ms/step - loss: 0.0072 - accuracy: 0.9977\n",
      "Epoch 50/150\n",
      "938/938 [==============================] - 17s 18ms/step - loss: 0.0057 - accuracy: 0.9981\n",
      "Epoch 51/150\n",
      "938/938 [==============================] - 17s 18ms/step - loss: 0.0053 - accuracy: 0.9980\n",
      "Epoch 52/150\n",
      "938/938 [==============================] - 17s 18ms/step - loss: 0.0063 - accuracy: 0.9980\n",
      "Epoch 53/150\n",
      "938/938 [==============================] - 17s 18ms/step - loss: 0.0058 - accuracy: 0.9981\n",
      "Epoch 54/150\n",
      "938/938 [==============================] - 17s 18ms/step - loss: 0.0055 - accuracy: 0.9980\n",
      "Epoch 55/150\n",
      "938/938 [==============================] - 18s 19ms/step - loss: 0.0061 - accuracy: 0.9982\n",
      "Epoch 56/150\n",
      "938/938 [==============================] - 18s 19ms/step - loss: 0.0056 - accuracy: 0.9981\n",
      "Epoch 57/150\n",
      "938/938 [==============================] - 15s 16ms/step - loss: 0.0062 - accuracy: 0.9980\n",
      "Epoch 58/150\n",
      "938/938 [==============================] - 16s 17ms/step - loss: 0.0062 - accuracy: 0.9980\n",
      "Epoch 59/150\n",
      "938/938 [==============================] - 16s 17ms/step - loss: 0.0049 - accuracy: 0.9983\n",
      "Epoch 60/150\n",
      "938/938 [==============================] - 17s 18ms/step - loss: 0.0048 - accuracy: 0.9983\n",
      "Epoch 61/150\n",
      "938/938 [==============================] - 18s 19ms/step - loss: 0.0054 - accuracy: 0.9981\n",
      "Epoch 62/150\n",
      "938/938 [==============================] - 17s 18ms/step - loss: 0.0043 - accuracy: 0.9986\n",
      "Epoch 63/150\n",
      "938/938 [==============================] - 16s 17ms/step - loss: 0.0061 - accuracy: 0.9980\n",
      "Epoch 64/150\n",
      "938/938 [==============================] - 17s 18ms/step - loss: 0.0049 - accuracy: 0.9984\n",
      "Epoch 65/150\n",
      "938/938 [==============================] - 17s 18ms/step - loss: 0.0055 - accuracy: 0.9982\n",
      "Epoch 66/150\n",
      "938/938 [==============================] - 17s 18ms/step - loss: 0.0054 - accuracy: 0.9984\n",
      "Epoch 67/150\n",
      "938/938 [==============================] - 16s 17ms/step - loss: 0.0055 - accuracy: 0.9983\n",
      "Epoch 68/150\n",
      "938/938 [==============================] - 17s 18ms/step - loss: 0.0050 - accuracy: 0.9984\n",
      "Epoch 69/150\n",
      "938/938 [==============================] - 17s 18ms/step - loss: 0.0056 - accuracy: 0.9982\n",
      "Epoch 70/150\n",
      "938/938 [==============================] - 16s 17ms/step - loss: 0.0045 - accuracy: 0.9985\n",
      "Epoch 71/150\n",
      "938/938 [==============================] - 17s 18ms/step - loss: 0.0046 - accuracy: 0.9985\n",
      "Epoch 72/150\n",
      "938/938 [==============================] - 18s 19ms/step - loss: 0.0047 - accuracy: 0.9984\n",
      "Epoch 73/150\n",
      "938/938 [==============================] - 18s 19ms/step - loss: 0.0045 - accuracy: 0.9984\n",
      "Epoch 74/150\n",
      "938/938 [==============================] - 18s 19ms/step - loss: 0.0037 - accuracy: 0.9989\n",
      "Epoch 75/150\n",
      "938/938 [==============================] - 16s 17ms/step - loss: 0.0049 - accuracy: 0.9985\n",
      "Epoch 76/150\n",
      "938/938 [==============================] - 16s 17ms/step - loss: 0.0043 - accuracy: 0.9984\n",
      "Epoch 77/150\n",
      "938/938 [==============================] - 16s 17ms/step - loss: 0.0043 - accuracy: 0.9985\n",
      "Epoch 78/150\n",
      "938/938 [==============================] - 16s 17ms/step - loss: 0.0044 - accuracy: 0.9984\n",
      "Epoch 79/150\n",
      "938/938 [==============================] - 16s 17ms/step - loss: 0.0040 - accuracy: 0.9986\n",
      "Epoch 80/150\n",
      "938/938 [==============================] - 16s 17ms/step - loss: 0.0045 - accuracy: 0.9984\n",
      "Epoch 81/150\n",
      "938/938 [==============================] - 16s 17ms/step - loss: 0.0039 - accuracy: 0.9985\n",
      "Epoch 82/150\n",
      "938/938 [==============================] - 16s 17ms/step - loss: 0.0042 - accuracy: 0.9985\n",
      "Epoch 83/150\n",
      "938/938 [==============================] - 17s 18ms/step - loss: 0.0038 - accuracy: 0.9987\n",
      "Epoch 84/150\n",
      "938/938 [==============================] - 17s 18ms/step - loss: 0.0042 - accuracy: 0.9986\n",
      "Epoch 85/150\n",
      "938/938 [==============================] - 17s 18ms/step - loss: 0.0041 - accuracy: 0.9987\n",
      "Epoch 86/150\n",
      "938/938 [==============================] - 17s 18ms/step - loss: 0.0032 - accuracy: 0.9990\n",
      "Epoch 87/150\n",
      "938/938 [==============================] - 16s 17ms/step - loss: 0.0045 - accuracy: 0.9986\n",
      "Epoch 88/150\n",
      "938/938 [==============================] - 16s 17ms/step - loss: 0.0046 - accuracy: 0.9985\n",
      "Epoch 89/150\n",
      "938/938 [==============================] - 16s 17ms/step - loss: 0.0041 - accuracy: 0.9985\n",
      "Epoch 90/150\n",
      "938/938 [==============================] - 16s 17ms/step - loss: 0.0052 - accuracy: 0.9985\n",
      "Epoch 91/150\n",
      "938/938 [==============================] - 16s 17ms/step - loss: 0.0043 - accuracy: 0.9988\n",
      "Epoch 92/150\n",
      "938/938 [==============================] - 16s 17ms/step - loss: 0.0033 - accuracy: 0.9989\n",
      "Epoch 93/150\n",
      "938/938 [==============================] - 17s 18ms/step - loss: 0.0048 - accuracy: 0.9984\n",
      "Epoch 94/150\n",
      "938/938 [==============================] - 17s 18ms/step - loss: 0.0036 - accuracy: 0.9988\n",
      "Epoch 95/150\n",
      "938/938 [==============================] - 17s 19ms/step - loss: 0.0040 - accuracy: 0.9987\n",
      "Epoch 96/150\n",
      "938/938 [==============================] - 17s 18ms/step - loss: 0.0042 - accuracy: 0.9987\n",
      "Epoch 97/150\n",
      "938/938 [==============================] - 16s 17ms/step - loss: 0.0036 - accuracy: 0.9989\n",
      "Epoch 98/150\n",
      "938/938 [==============================] - 15s 16ms/step - loss: 0.0038 - accuracy: 0.9988\n",
      "Epoch 99/150\n",
      "938/938 [==============================] - 16s 18ms/step - loss: 0.0047 - accuracy: 0.9986\n",
      "Epoch 100/150\n",
      "938/938 [==============================] - 19s 20ms/step - loss: 0.0037 - accuracy: 0.9988\n",
      "Epoch 101/150\n",
      "938/938 [==============================] - 18s 19ms/step - loss: 0.0041 - accuracy: 0.9987\n",
      "Epoch 102/150\n",
      "938/938 [==============================] - 17s 18ms/step - loss: 0.0042 - accuracy: 0.9986\n",
      "Epoch 103/150\n",
      "938/938 [==============================] - 17s 18ms/step - loss: 0.0051 - accuracy: 0.9984\n",
      "Epoch 104/150\n",
      "938/938 [==============================] - 17s 18ms/step - loss: 0.0036 - accuracy: 0.9988\n",
      "Epoch 105/150\n",
      "938/938 [==============================] - 17s 18ms/step - loss: 0.0033 - accuracy: 0.9990\n",
      "Epoch 106/150\n",
      "938/938 [==============================] - 16s 17ms/step - loss: 0.0041 - accuracy: 0.9987\n",
      "Epoch 107/150\n",
      "938/938 [==============================] - 17s 18ms/step - loss: 0.0037 - accuracy: 0.9989\n",
      "Epoch 108/150\n",
      "938/938 [==============================] - 15s 16ms/step - loss: 0.0031 - accuracy: 0.9988\n",
      "Epoch 109/150\n",
      "938/938 [==============================] - 16s 17ms/step - loss: 0.0053 - accuracy: 0.9986\n",
      "Epoch 110/150\n",
      "938/938 [==============================] - 15s 16ms/step - loss: 0.0030 - accuracy: 0.9991\n",
      "Epoch 111/150\n",
      "938/938 [==============================] - 15s 16ms/step - loss: 0.0032 - accuracy: 0.9990\n",
      "Epoch 112/150\n",
      "938/938 [==============================] - 15s 16ms/step - loss: 0.0039 - accuracy: 0.9988\n",
      "Epoch 113/150\n",
      "938/938 [==============================] - 15s 16ms/step - loss: 0.0040 - accuracy: 0.9988\n",
      "Epoch 114/150\n",
      "938/938 [==============================] - 17s 18ms/step - loss: 0.0033 - accuracy: 0.9990\n",
      "Epoch 115/150\n",
      "938/938 [==============================] - 17s 18ms/step - loss: 0.0030 - accuracy: 0.9991\n",
      "Epoch 116/150\n",
      "938/938 [==============================] - 16s 17ms/step - loss: 0.0041 - accuracy: 0.9987\n",
      "Epoch 117/150\n",
      "938/938 [==============================] - 19s 21ms/step - loss: 0.0029 - accuracy: 0.9990\n",
      "Epoch 118/150\n",
      "938/938 [==============================] - 17s 18ms/step - loss: 0.0032 - accuracy: 0.9990\n",
      "Epoch 119/150\n",
      "938/938 [==============================] - 16s 18ms/step - loss: 0.0036 - accuracy: 0.9988\n",
      "Epoch 120/150\n",
      "938/938 [==============================] - 18s 19ms/step - loss: 0.0033 - accuracy: 0.9988\n",
      "Epoch 121/150\n",
      "938/938 [==============================] - 18s 19ms/step - loss: 0.0035 - accuracy: 0.9989\n",
      "Epoch 122/150\n",
      "938/938 [==============================] - 18s 19ms/step - loss: 0.0036 - accuracy: 0.9990\n",
      "Epoch 123/150\n",
      "938/938 [==============================] - 16s 17ms/step - loss: 0.0025 - accuracy: 0.9992\n",
      "Epoch 124/150\n",
      "938/938 [==============================] - 16s 17ms/step - loss: 0.0043 - accuracy: 0.9987\n",
      "Epoch 125/150\n",
      "938/938 [==============================] - 17s 18ms/step - loss: 0.0036 - accuracy: 0.9989\n",
      "Epoch 126/150\n",
      "938/938 [==============================] - 16s 17ms/step - loss: 0.0044 - accuracy: 0.9987\n",
      "Epoch 127/150\n",
      "938/938 [==============================] - 16s 17ms/step - loss: 0.0034 - accuracy: 0.9989\n",
      "Epoch 128/150\n",
      "938/938 [==============================] - 16s 17ms/step - loss: 0.0042 - accuracy: 0.9988\n",
      "Epoch 129/150\n",
      "938/938 [==============================] - 16s 17ms/step - loss: 0.0041 - accuracy: 0.9987\n",
      "Epoch 130/150\n",
      "938/938 [==============================] - 16s 17ms/step - loss: 0.0028 - accuracy: 0.9993\n",
      "Epoch 131/150\n",
      "938/938 [==============================] - 15s 16ms/step - loss: 0.0040 - accuracy: 0.9989\n",
      "Epoch 132/150\n",
      "938/938 [==============================] - 15s 16ms/step - loss: 0.0035 - accuracy: 0.9990\n",
      "Epoch 133/150\n",
      "938/938 [==============================] - 15s 16ms/step - loss: 0.0033 - accuracy: 0.9988\n",
      "Epoch 134/150\n",
      "938/938 [==============================] - 16s 18ms/step - loss: 0.0029 - accuracy: 0.9991\n",
      "Epoch 135/150\n",
      "938/938 [==============================] - 17s 18ms/step - loss: 0.0030 - accuracy: 0.9991\n",
      "Epoch 136/150\n",
      "938/938 [==============================] - 17s 18ms/step - loss: 0.0037 - accuracy: 0.9989\n",
      "Epoch 137/150\n",
      "938/938 [==============================] - 18s 19ms/step - loss: 0.0035 - accuracy: 0.9991\n",
      "Epoch 138/150\n",
      "938/938 [==============================] - 15s 16ms/step - loss: 0.0029 - accuracy: 0.9991\n",
      "Epoch 139/150\n",
      "938/938 [==============================] - 16s 17ms/step - loss: 0.0030 - accuracy: 0.9990\n",
      "Epoch 140/150\n",
      "938/938 [==============================] - 16s 17ms/step - loss: 0.0032 - accuracy: 0.9991\n",
      "Epoch 141/150\n",
      "938/938 [==============================] - 16s 18ms/step - loss: 0.0032 - accuracy: 0.9990\n",
      "Epoch 142/150\n",
      "938/938 [==============================] - 17s 19ms/step - loss: 0.0023 - accuracy: 0.9991\n",
      "Epoch 143/150\n",
      "938/938 [==============================] - 16s 17ms/step - loss: 0.0030 - accuracy: 0.9992\n",
      "Epoch 144/150\n",
      "938/938 [==============================] - 15s 16ms/step - loss: 0.0029 - accuracy: 0.9990\n",
      "Epoch 145/150\n",
      "938/938 [==============================] - 19s 21ms/step - loss: 0.0030 - accuracy: 0.9991\n",
      "Epoch 146/150\n",
      "938/938 [==============================] - 17s 18ms/step - loss: 0.0030 - accuracy: 0.9991\n",
      "Epoch 147/150\n",
      "938/938 [==============================] - 15s 16ms/step - loss: 0.0032 - accuracy: 0.9992\n",
      "Epoch 148/150\n",
      "938/938 [==============================] - 16s 17ms/step - loss: 0.0028 - accuracy: 0.9992\n",
      "Epoch 149/150\n",
      "938/938 [==============================] - 17s 18ms/step - loss: 0.0034 - accuracy: 0.9990\n",
      "Epoch 150/150\n",
      "938/938 [==============================] - 16s 17ms/step - loss: 0.0025 - accuracy: 0.9992\n"
     ]
    },
    {
     "data": {
      "text/plain": [
       "<keras.src.callbacks.History at 0x1b913ca6050>"
      ]
     },
     "execution_count": 89,
     "metadata": {},
     "output_type": "execute_result"
    }
   ],
   "source": [
    "#Fit the model\n",
    "modelCNN.fit(X_mn_train, y_mn_train, epochs=150, batch_size=64, verbose=1)"
   ]
  },
  {
   "cell_type": "code",
   "execution_count": 90,
   "metadata": {},
   "outputs": [
    {
     "name": "stdout",
     "output_type": "stream",
     "text": [
      "Accuracy:0.989\n"
     ]
    }
   ],
   "source": [
    "#Evaluate \n",
    "loss,acc=modelCNN.evaluate(X_mn_test,y_mn_test, verbose=0)\n",
    "print(f\"Accuracy:{acc:.3f}\")"
   ]
  },
  {
   "cell_type": "code",
   "execution_count": 91,
   "metadata": {},
   "outputs": [
    {
     "name": "stdout",
     "output_type": "stream",
     "text": [
      "1/1 [==============================] - 0s 75ms/step\n",
      "\n",
      " [[7.1083992e-38 1.0000000e+00 5.5215525e-25 9.7143348e-28 1.5588900e-22\n",
      "  1.2066415e-20 4.2101428e-22 5.3151079e-34 8.8208789e-20 0.0000000e+00]] \n",
      "\n",
      "\n",
      "Predicted: digit=1\n",
      "\n",
      "Actual: digit=1\n"
     ]
    }
   ],
   "source": [
    "#Predict unseen instance\n",
    "unseen = X_mn_train[200]\n",
    "y_pred = modelCNN.predict(np.asarray([unseen]))\n",
    "print('\\n',y_pred,'\\n')\n",
    "print(f'\\nPredicted: digit={np.argmax(y_pred)}')\n",
    "print(f'\\nActual: digit={y_mn_train[200]}')"
   ]
  },
  {
   "cell_type": "code",
   "execution_count": 92,
   "metadata": {},
   "outputs": [
    {
     "data": {
      "image/png": "[encoded data removed]",
      "text/plain": [
       "<Figure size 640x480 with 1 Axes>"
      ]
     },
     "metadata": {},
     "output_type": "display_data"
    }
   ],
   "source": [
    "#Check it out with a plot\n",
    "plt.imshow(unseen,cmap='hot')\n",
    "plt.show()"
   ]
  },
  {
   "cell_type": "code",
   "execution_count": 93,
   "metadata": {},
   "outputs": [
    {
     "name": "stdout",
     "output_type": "stream",
     "text": [
      "1/1 [==============================] - 0s 25ms/step\n",
      "\n",
      " [[0.0000000e+00 2.5397318e-34 1.2058308e-29 5.6340095e-37 0.0000000e+00\n",
      "  0.0000000e+00 0.0000000e+00 1.0000000e+00 0.0000000e+00 8.6412246e-29]] \n",
      "\n",
      "\n",
      "Predicted: digit=7\n",
      "\n",
      "Actual: digit=7\n"
     ]
    }
   ],
   "source": [
    "#Predict unseen instance\n",
    "unseen2 = X_mn_test[17]\n",
    "y_pred = modelCNN.predict(np.asarray([unseen2]))\n",
    "print('\\n',y_pred,'\\n')\n",
    "print(f'\\nPredicted: digit={np.argmax(y_pred)}')\n",
    "print(f'\\nActual: digit={y_mn_test[17]}')"
   ]
  },
  {
   "cell_type": "code",
   "execution_count": 94,
   "metadata": {},
   "outputs": [
    {
     "data": {
      "image/png": "[encoded data removed]",
      "text/plain": [
       "<Figure size 640x480 with 1 Axes>"
      ]
     },
     "metadata": {},
     "output_type": "display_data"
    }
   ],
   "source": [
    "#Check it out with a plot\n",
    "plt.imshow(unseen2,cmap='hot')  \n",
    "plt.show()"
   ]
  },
  {
   "cell_type": "code",
   "execution_count": 95,
   "metadata": {},
   "outputs": [
    {
     "name": "stdout",
     "output_type": "stream",
     "text": [
      "Model: \"sequential_4\"\n",
      "_________________________________________________________________\n",
      " Layer (type)                Output Shape              Param #   \n",
      "=================================================================\n",
      " conv2d_2 (Conv2D)           (None, 26, 26, 32)        320       \n",
      "                                                                 \n",
      " max_pooling2d_2 (MaxPoolin  (None, 25, 25, 32)        0         \n",
      " g2D)                                                            \n",
      "                                                                 \n",
      " flatten_2 (Flatten)         (None, 20000)             0         \n",
      "                                                                 \n",
      " dense_12 (Dense)            (None, 100)               2000100   \n",
      "                                                                 \n",
      " dropout_2 (Dropout)         (None, 100)               0         \n",
      "                                                                 \n",
      " dense_13 (Dense)            (None, 10)                1010      \n",
      "                                                                 \n",
      "=================================================================\n",
      "Total params: 2001430 (7.63 MB)\n",
      "Trainable params: 2001430 (7.63 MB)\n",
      "Non-trainable params: 0 (0.00 Byte)\n",
      "_________________________________________________________________\n"
     ]
    }
   ],
   "source": [
    "modelCNN.summary()"
   ]
  },
  {
   "cell_type": "markdown",
   "metadata": {},
   "source": [
    "# Classify own dataset "
   ]
  },
  {
   "cell_type": "markdown",
   "metadata": {},
   "source": [
    "Use your own or friend's handwritten digits. \n",
    "\n",
    "Center the new images just like the mnist dataset (used in training) before classification. Otherwise the prediction results will be very poor."
   ]
  },
  {
   "cell_type": "code",
   "execution_count": null,
   "metadata": {},
   "outputs": [],
   "source": [
    "#Read the images from files and, prepare them and predict, i.e., read and convert to array"
   ]
  },
  {
   "cell_type": "code",
   "execution_count": null,
   "metadata": {},
   "outputs": [],
   "source": [
    "num_images=10\n",
    "\n",
    "IMG_SIZE=28\n",
    "test_images=[]\n",
    "for i in range(0,num_images):\n",
    "    image_path='images/image'+str(i)+'.jpg'\n",
    "    gray_image=cv2.imread(image_path, cv2.IMREAD_GRAYSCALE)\n",
    "    test_image = cv2.resize(255-gray_image,  (IMG_SIZE,IMG_SIZE))\n",
    "    test_image = np.array(test_image).reshape(IMG_SIZE, IMG_SIZE, 1)\n",
    "    test_image=test_image.astype('float32')\n",
    "    test_image/=255.0\n",
    "    test_images.append(test_image)"
   ]
  },
  {
   "cell_type": "code",
   "execution_count": null,
   "metadata": {},
   "outputs": [],
   "source": [
    "test_images[0].shape"
   ]
  },
  {
   "cell_type": "code",
   "execution_count": null,
   "metadata": {},
   "outputs": [],
   "source": [
    "type(test_images[0])"
   ]
  },
  {
   "cell_type": "code",
   "execution_count": null,
   "metadata": {},
   "outputs": [],
   "source": [
    "#Plot test images and display them\n",
    "for im_index in range(num_images):\n",
    "    plt.subplot(2,int(num_images/2),im_index+1)\n",
    "    plt.imshow(test_images[im_index].reshape(28,28),cmap='gray')#cmap='gray' is good \n",
    "    \n",
    "plt.show()"
   ]
  },
  {
   "cell_type": "code",
   "execution_count": null,
   "metadata": {},
   "outputs": [],
   "source": [
    "#Notice relatively poor performance---because our new images have not \n",
    "#been processed liked the mnist dataset---they have not been centered on\n",
    "#a 28x28 box.\n",
    "correctly_predicted=0\n",
    "print('*'*40)\n",
    "for i in range(0,num_images):\n",
    "    y_pred = modelCNN.predict(np.asarray([test_images[i].reshape(IMG_SIZE,IMG_SIZE,1)]))\n",
    "    #print('\\n',y_pred,'\\n')\n",
    "    actual=i%10\n",
    "    print(f'\\nActual: digit={actual}, Predicted: digit={np.argmax(y_pred)}')\n",
    "    \n",
    "    if i==np.argmax(y_pred):\n",
    "        correctly_predicted+=1\n",
    "\n",
    "print('*'*40)        \n",
    "accuracy_on_unseen=correctly_predicted/len(test_images)\n",
    "\n",
    "print(f\"\\n\\tCorrectly Predicted:{correctly_predicted}\\\n",
    "        \\n\\tIncorrectly predicted:{len(test_images)-correctly_predicted}\\\n",
    "    \\n\\tAccuracy on unseen: {accuracy_on_unseen} \")\n",
    "        "
   ]
  },
  {
   "cell_type": "code",
   "execution_count": null,
   "metadata": {},
   "outputs": [],
   "source": [
    "# create an array where we can store our 10 pictures\n",
    "test_images = np.zeros((num_images,784)) #10 images with 28*28=784 pixel values"
   ]
  },
  {
   "cell_type": "code",
   "execution_count": null,
   "metadata": {},
   "outputs": [],
   "source": [
    "IMG_SIZE=28\n",
    "for i in range(0,num_images):\n",
    "    image_path='images/image'+str(i)+'.jpg'\n",
    "    gray_image=cv2.imread(image_path, cv2.IMREAD_GRAYSCALE)\n",
    "    test_image = cv2.resize(255-gray_image,  (IMG_SIZE,IMG_SIZE))\n",
    "    test_image = np.array(test_image).reshape(IMG_SIZE, IMG_SIZE, 1)\n",
    "    test_image=test_image.astype('float32')\n",
    "    test_image/=255.0\n",
    "    flatten=test_image.flatten() #from (28,28,1) to (784,)\n",
    "    test_image=flatten\n",
    "    #print(test_image)\n",
    "    test_images[i]=test_image"
   ]
  },
  {
   "cell_type": "code",
   "execution_count": null,
   "metadata": {},
   "outputs": [],
   "source": [
    "#what are the results when the images are not centered.\n",
    "#Still, no better results because we still haven't centered the images.\n",
    "correctly_predicted=0\n",
    "print('*'*40)\n",
    "for i in range(0,num_images):\n",
    "    y_pred = modelCNN.predict(np.asarray([test_images[i].reshape(28,28,1)]))\n",
    "    if i==np.argmax(y_pred):\n",
    "        correctly_predicted+=1\n",
    "    print(f'\\nActual: digit={i}, Predicted: digit={np.argmax(y_pred)}')\n",
    "    \n",
    "print('*'*40)\n",
    "accuracy_on_unseen=correctly_predicted/len(test_images)\n",
    "\n",
    "print(f\"\\n\\tCorrectly Predicted:{correctly_predicted}\\\n",
    "        \\n\\tIncorrectly predicted:{len(test_images)-correctly_predicted}\\\n",
    "    \\n\\tAccuracy on unseen: {accuracy_on_unseen} \")"
   ]
  },
  {
   "cell_type": "markdown",
   "metadata": {},
   "source": [
    "# Center the images"
   ]
  },
  {
   "cell_type": "markdown",
   "metadata": {},
   "source": [
    "For process Follow the link: https://medium.com/@o.kroeger/tensorflow-mnist-and-your-own-handwritten-digits-4d1cd32bbab4 \n",
    "\n",
    "(c): Ole Kröger\n",
    "\n",
    "Complete shifting or adjustment\n",
    "\n",
    "In mnist dataset, it is stated: all images are size normalized to fit in a 20x20 pixel box and they are centered in a 28x28 image using the center of mass. \n",
    "\n",
    "These are important pieces of information to use in preprocessing of our own images."
   ]
  },
  {
   "cell_type": "code",
   "execution_count": 98,
   "metadata": {},
   "outputs": [],
   "source": [
    "#Now, we center the image\n",
    "#get the center_of_mass mass \n",
    "def getBestShift(img):\n",
    "    cy,cx = ndimage.measurements.center_of_mass(img)\n",
    "    rows,cols = img.shape\n",
    "    shiftx = np.round(cols/2.0-cx).astype(int)\n",
    "    shifty = np.round(rows/2.0-cy).astype(int)\n",
    "\n",
    "    return shiftx,shifty"
   ]
  },
  {
   "cell_type": "code",
   "execution_count": 99,
   "metadata": {},
   "outputs": [],
   "source": [
    "#shifts the image in the given directions\n",
    "def shift(img,sx,sy):\n",
    "    rows,cols = img.shape\n",
    "    M = np.float32([[1,0,sx],[0,1,sy]]) #transformation matrix to shift the image.\n",
    "    shifted = cv2.warpAffine(img,M,(cols,rows))\n",
    "    return shifted"
   ]
  },
  {
   "cell_type": "code",
   "execution_count": 100,
   "metadata": {},
   "outputs": [],
   "source": [
    "# create an array where we can store our pictures\n",
    "num_images=10 #in my test set\n",
    "test_images = np.zeros((num_images,28,28,1))\n",
    "\n",
    "# we want to test our images\n",
    "i = 0\n",
    "for file_index in range(num_images):\n",
    "    # read the image\n",
    "    test_image = cv2.imread(\"images/image\"+str(file_index)+\".jpg\",\n",
    "                      cv2.IMREAD_GRAYSCALE)\n",
    "\n",
    "    # resize the images and invert it (black background)\n",
    "    test_image = cv2.resize(255-test_image, (28, 28))\n",
    "    (thresh,test_image) = cv2.threshold(test_image, 128, 255, \\\n",
    "                                    cv2.THRESH_BINARY | cv2.THRESH_OTSU)\n",
    "\n",
    "    #Fit the images into this 20x20 pixel box- remove every row or column \n",
    "    #on the side that is completely black\n",
    "    while np.sum(test_image[0]) == 0:\n",
    "        test_image = test_image[1:]\n",
    "\n",
    "    while np.sum(test_image[:,0]) == 0:\n",
    "        test_image = np.delete(test_image,0,1)\n",
    "\n",
    "    while np.sum(test_image[-1]) == 0:\n",
    "        test_image = test_image[:-1]\n",
    "\n",
    "    while np.sum(test_image[:,-1]) == 0:\n",
    "        test_image = np.delete(test_image,-1,1)\n",
    "\n",
    "    rows,cols = test_image.shape\n",
    "    \n",
    "    #Resize the outer box to fit in a 20x20 box\n",
    "    if rows > cols:\n",
    "        factor = 20.0/rows\n",
    "        rows = 20\n",
    "        cols = int(round(cols*factor))\n",
    "        test_image = cv2.resize(test_image, (cols,rows))\n",
    "    else:\n",
    "        factor = 20.0/cols\n",
    "        cols = 20\n",
    "        rows = int(round(rows*factor))\n",
    "        test_image = cv2.resize(test_image, (cols, rows))\n",
    "        \n",
    "    #Add missing black rows and columns to get a 28x28 image using np.lib.pad\n",
    "    colsPadding = (int(math.ceil((28-cols)/2.0)),int(math.floor((28-cols)/2.0)))\n",
    "    rowsPadding = (int(math.ceil((28-rows)/2.0)),int(math.floor((28-rows)/2.0)))\n",
    "    test_image = np.lib.pad(test_image,(rowsPadding,colsPadding),'constant')\n",
    "    \n",
    "    #Shift the image now to center it\n",
    "    shiftx,shifty = getBestShift(test_image)\n",
    "    shifted = shift(test_image,shiftx,shifty)\n",
    "    test_image = shifted\n",
    "    \n",
    "    # save the processed images---in future you could just read these directly\n",
    "    cv2.imwrite(\"images/after/image_\"+str(file_index)+\".jpg\", test_image)\n",
    "    \n",
    "    #test_image=test_image.astype('float32')\n",
    "    \"\"\"\n",
    "    make all pixels in the range 0-1.\n",
    "    \"\"\"\n",
    "    test_image = test_image / 255.0\n",
    "    \"\"\"\n",
    "    store the image with scaled pixels.\n",
    "    \"\"\"\n",
    "    test_images[file_index] = test_image.reshape(28,28,1)\n",
    " "
   ]
  },
  {
   "cell_type": "markdown",
   "metadata": {},
   "source": [
    "Notice from below that we have better results---accuracy (after centering),,,,from the initial accuracy (before centering).\n",
    "\n",
    "If a model is trained on mnist dataset is to be used to classified user-supplied handwritten digits, such user-supplied images have to be processed in the same way as the mnist data set before they can be used in classification"
   ]
  },
  {
   "cell_type": "code",
   "execution_count": 101,
   "metadata": {},
   "outputs": [
    {
     "name": "stdout",
     "output_type": "stream",
     "text": [
      "****************************************\n",
      "1/1 [==============================] - 0s 25ms/step\n",
      "\n",
      "Actual: digit=0, Predicted: digit=0\n",
      "1/1 [==============================] - 0s 22ms/step\n",
      "\n",
      "Actual: digit=1, Predicted: digit=1\n",
      "1/1 [==============================] - 0s 23ms/step\n",
      "\n",
      "Actual: digit=2, Predicted: digit=2\n",
      "1/1 [==============================] - 0s 23ms/step\n",
      "\n",
      "Actual: digit=3, Predicted: digit=3\n",
      "1/1 [==============================] - 0s 23ms/step\n",
      "\n",
      "Actual: digit=4, Predicted: digit=4\n",
      "1/1 [==============================] - 0s 23ms/step\n",
      "\n",
      "Actual: digit=5, Predicted: digit=5\n",
      "1/1 [==============================] - 0s 24ms/step\n",
      "\n",
      "Actual: digit=6, Predicted: digit=4\n",
      "1/1 [==============================] - 0s 21ms/step\n",
      "\n",
      "Actual: digit=7, Predicted: digit=2\n",
      "1/1 [==============================] - 0s 22ms/step\n",
      "\n",
      "Actual: digit=8, Predicted: digit=0\n",
      "1/1 [==============================] - 0s 24ms/step\n",
      "\n",
      "Actual: digit=9, Predicted: digit=0\n",
      "****************************************\n",
      "\n",
      "\tCorrectly Predicted:6        \n",
      "\tIncorrectly predicted:4    \n",
      "\tAccuracy on unseen: 0.6 \n"
     ]
    }
   ],
   "source": [
    "\n",
    "correctly_predicted=0\n",
    "print('*'*40)\n",
    "for i in range(0,num_images):\n",
    "    #y_pred = modelCNN.predict(np.asarray([test_images[i].reshape(28,28,1)]))\n",
    "    y_pred = modelCNN.predict(np.asarray([test_images[i]]))\n",
    "  \n",
    "    \n",
    "    if i==np.argmax(y_pred):\n",
    "        correctly_predicted+=1\n",
    "    print(f'\\nActual: digit={i}, Predicted: digit={np.argmax(y_pred)}')\n",
    "    \n",
    "accuracy_on_unseen=correctly_predicted/len(test_images)\n",
    "print('*'*40)\n",
    "print(f\"\\n\\tCorrectly Predicted:{correctly_predicted}\\\n",
    "        \\n\\tIncorrectly predicted:{len(test_images)-correctly_predicted}\\\n",
    "    \\n\\tAccuracy on unseen: {accuracy_on_unseen} \")"
   ]
  },
  {
   "cell_type": "code",
   "execution_count": 102,
   "metadata": {},
   "outputs": [
    {
     "data": {
      "image/png": "[encoded data removed]",
      "text/plain": [
       "<Figure size 640x480 with 10 Axes>"
      ]
     },
     "metadata": {},
     "output_type": "display_data"
    }
   ],
   "source": [
    "#Plot test images and display them---examine to compare with results above.\n",
    "for file_index in range(num_images):\n",
    "    plt.subplot(2,5,file_index+1)\n",
    "    plt.imshow(test_images[file_index].reshape(28,28),cmap='hot')#cmap='gray' is a good alternative\n",
    "    \n",
    "plt.show()"
   ]
  },
  {
   "cell_type": "code",
   "execution_count": 103,
   "metadata": {},
   "outputs": [
    {
     "name": "stdout",
     "output_type": "stream",
     "text": [
      "1/1 [==============================] - 0s 27ms/step\n"
     ]
    },
    {
     "data": {
      "text/plain": [
       "10"
      ]
     },
     "execution_count": 103,
     "metadata": {},
     "output_type": "execute_result"
    }
   ],
   "source": [
    "pred=modelCNN.predict(test_images)\n",
    "len(pred)"
   ]
  },
  {
   "cell_type": "code",
   "execution_count": 104,
   "metadata": {},
   "outputs": [
    {
     "name": "stdout",
     "output_type": "stream",
     "text": [
      "[[1.00000000e+00 0.00000000e+00 6.23913056e-23 7.00988571e-33\n",
      "  5.65422305e-38 1.33861183e-16 1.34852494e-15 8.80687221e-17\n",
      "  7.14396365e-28 9.10526445e-34]\n",
      " [2.75294805e-14 7.71543741e-01 1.63776165e-13 9.23150527e-21\n",
      "  1.86968836e-19 2.49559150e-18 4.86962955e-13 1.79046329e-20\n",
      "  2.28456229e-01 2.67564184e-19]\n",
      " [2.07256957e-25 1.44867665e-13 1.00000000e+00 8.25514336e-22\n",
      "  1.66207446e-26 1.27611265e-34 1.37194949e-19 5.89273694e-21\n",
      "  8.32569479e-23 4.58045952e-26]\n",
      " [1.93477929e-36 1.05488783e-34 1.05575921e-23 1.00000000e+00\n",
      "  5.09129467e-32 4.37660777e-20 0.00000000e+00 1.07815352e-28\n",
      "  1.95169913e-32 7.42745142e-33]\n",
      " [1.86056934e-33 9.34570596e-30 1.28876368e-26 0.00000000e+00\n",
      "  1.00000000e+00 1.12648439e-32 1.19229177e-29 4.56368886e-38\n",
      "  0.00000000e+00 0.00000000e+00]\n",
      " [6.28019979e-16 2.53718505e-11 1.82894620e-24 5.57960692e-11\n",
      "  2.00546451e-14 1.00000000e+00 2.02399679e-08 2.43385908e-20\n",
      "  3.47762819e-09 7.50292637e-15]\n",
      " [9.28469923e-09 1.30817718e-11 4.47452720e-03 8.26253128e-14\n",
      "  9.95491445e-01 2.33497133e-07 3.37849779e-05 3.44789614e-11\n",
      "  1.32006849e-14 5.65579583e-08]\n",
      " [2.81805570e-23 1.09010718e-14 9.48344707e-01 1.72699089e-04\n",
      "  7.12945665e-24 5.52190858e-15 3.01949762e-21 5.14825992e-02\n",
      "  4.10885942e-15 5.16201383e-20]\n",
      " [1.00000000e+00 1.23487873e-36 9.83618420e-23 0.00000000e+00\n",
      "  1.02152694e-36 9.92503860e-35 1.19521605e-20 2.15148426e-25\n",
      "  7.35429350e-32 3.91085371e-20]\n",
      " [9.99998808e-01 0.00000000e+00 3.54206886e-10 0.00000000e+00\n",
      "  1.74023800e-24 2.18864515e-29 1.20528114e-06 3.97463070e-29\n",
      "  1.87367792e-27 1.19823075e-11]]\n"
     ]
    }
   ],
   "source": [
    "print(pred)"
   ]
  },
  {
   "cell_type": "code",
   "execution_count": 105,
   "metadata": {},
   "outputs": [
    {
     "name": "stdout",
     "output_type": "stream",
     "text": [
      "Accuracy:0.600\n"
     ]
    }
   ],
   "source": [
    "#Evaluate \n",
    "actual_digits=np.asarray([range(0,len(test_images))]).reshape(len(test_images),1)\n",
    "loss,acc=modelCNN.evaluate(test_images,actual_digits, verbose=0)\n",
    "print(f\"Accuracy:{acc:.3f}\")"
   ]
  },
  {
   "cell_type": "code",
   "execution_count": 106,
   "metadata": {},
   "outputs": [
    {
     "data": {
      "text/plain": [
       "array([9])"
      ]
     },
     "execution_count": 106,
     "metadata": {},
     "output_type": "execute_result"
    }
   ],
   "source": [
    "actual_digits[9]"
   ]
  },
  {
   "cell_type": "code",
   "execution_count": 108,
   "metadata": {},
   "outputs": [],
   "source": [
    "#Uncomment if you want to save model.\n",
    "modelCNN.save(\"saved-models/my_model.hdf5\")"
   ]
  },
  {
   "cell_type": "code",
   "execution_count": null,
   "metadata": {},
   "outputs": [],
   "source": []
  },
  {
   "cell_type": "code",
   "execution_count": null,
   "metadata": {},
   "outputs": [],
   "source": []
  },
  {
   "cell_type": "code",
   "execution_count": null,
   "metadata": {},
   "outputs": [],
   "source": []
  }
 ],
 "metadata": {
  "kernelspec": {
   "display_name": "Python 3 (ipykernel)",
   "language": "python",
   "name": "python3"
  },
  "language_info": {
   "codemirror_mode": {
    "name": "ipython",
    "version": 3
   },
   "file_extension": ".py",
   "mimetype": "text/x-python",
   "name": "python",
   "nbconvert_exporter": "python",
   "pygments_lexer": "ipython3",
   "version": "3.11.4"
  }
 },
 "nbformat": 4,
 "nbformat_minor": 4
}
