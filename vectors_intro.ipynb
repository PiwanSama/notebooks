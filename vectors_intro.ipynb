{
 "cells": [
  {
   "cell_type": "markdown",
   "id": "4637b6da",
   "metadata": {},
   "source": [
    "# Section I Linear Algebra"
   ]
  },
  {
   "cell_type": "markdown",
   "id": "c52f129b",
   "metadata": {},
   "source": [
    "\n",
    "Learning linear algebra is crucial for you as students of machine learning for several reasons. First and foremost, linear algebra provides a fundamental understanding of the mathematical concepts underpinning various machine learning algorithms, enabling you to comprehend their inner workings and make informed decisions when selecting or modifying models. Matrix operations, such as multiplication, inversion, and decomposition, form the basis of many algorithms and optimizations in machine learning, making it essential for efficient computation and performance improvements. Moreover, linear algebra facilitates the manipulation and analysis of high-dimensional data, a common scenario in machine learning applications. By learning linear algebra, you gain the ability to perform tasks like dimensionality reduction, feature engineering, and data preprocessing with greater ease and effectiveness. Overall, mastering linear algebra empowers you as aspiring machine learning practitioners to approach complex problems with confidence and opens the door to a deeper understanding of advanced techniques and models in the field."
   ]
  },
  {
   "cell_type": "markdown",
   "id": "1c2055d9",
   "metadata": {},
   "source": [
    "## 1.1 Vectors\n"
   ]
  },
  {
   "cell_type": "markdown",
   "id": "2fd39bbc",
   "metadata": {},
   "source": [
    "Vectors play a crucial role in linear algebra and hold significant importance in machine learning. In linear algebra, vectors are fundamental objects used to represent points, directions, and transformations in vector spaces. They serve as building blocks for understanding vector operations, such as addition, scalar multiplication, and dot product, which are essential for solving systems of linear equations and finding eigenvalues and eigenvectors.\n",
    "\n",
    "In machine learning, vectors are pervasive, representing features and data points in numerical form. They enable efficient storage and computation, allowing algorithms to handle large datasets effectively. Vector spaces are central to dimensionality reduction techniques like PCA and SVD, helping extract essential features and reduce noise. Moreover, similarity measures between vectors aid in clustering and classification tasks, and neural networks, fundamental to modern machine learning, heavily rely on vector-based operations for training and inference. Understanding vectors in linear algebra is, therefore, indispensable for mastering machine learning and developing cutting-edge applications."
   ]
  },
  {
   "cell_type": "markdown",
   "id": "0a601deb",
   "metadata": {},
   "source": [
    "### Row Vectors or Horizontal Vectors:\n",
    "Row vectors are 1-dimensional arrays with shape (1, n), where 'n' is the number of elements in the vector. They are laid out in memory horizontally, and the data is accessed along the rows. To create a row vector in NumPy, you can use the numpy.array function or reshape a 1D array using numpy.reshape."
   ]
  },
  {
   "cell_type": "code",
   "execution_count": 1,
   "id": "38edd8c1",
   "metadata": {},
   "outputs": [
    {
     "name": "stdout",
     "output_type": "stream",
     "text": [
      "vector : \n",
      " [1 2 3], shape (3,)\n",
      "vector: \n",
      " [[1 2 3]], shape (1, 3)\n"
     ]
    }
   ],
   "source": [
    "import numpy as np\n",
    "\n",
    "# Creating a row vector using numpy.array\n",
    "row_vector = np.array([1, 2, 3])\n",
    "\n",
    "# Creating a row vector using numpy.reshape\n",
    "row_vector_reshaped = np.array([1, 2, 3]).reshape(1, -1)\n",
    "print(f\"vector : \\n {row_vector}, shape {row_vector.shape}\")\n",
    "print(f\"vector: \\n {row_vector_reshaped}, shape {row_vector_reshaped.shape}\")"
   ]
  },
  {
   "cell_type": "markdown",
   "id": "a410cdd5",
   "metadata": {},
   "source": [
    "### Column Vectors or Vertical Vectors:\n",
    "Column vectors are also 1-dimensional arrays but with shape (n, 1). They are stored vertically in memory, and the data is accessed along the columns. Similarly, you can use the numpy.array function or reshape a 1D array to create a column vector."
   ]
  },
  {
   "cell_type": "code",
   "execution_count": 2,
   "id": "e31d7715",
   "metadata": {},
   "outputs": [
    {
     "name": "stdout",
     "output_type": "stream",
     "text": [
      "vector:\n",
      " [[1]\n",
      " [2]\n",
      " [3]], shape (3, 1)\n",
      "vector:\n",
      " [[1]\n",
      " [2]\n",
      " [3]], shape (3, 1)\n"
     ]
    }
   ],
   "source": [
    "import numpy as np\n",
    "\n",
    "# Creating a column vector using numpy.array\n",
    "column_vector = np.array([1, 2, 3]).reshape(-1, 1)\n",
    "\n",
    "# Creating a column vector using numpy.reshape\n",
    "column_vector_reshaped = np.array([1, 2, 3]).reshape(-1, 1)\n",
    "print(f\"vector:\\n {column_vector}, shape {column_vector.shape}\")\n",
    "print(f\"vector:\\n {column_vector_reshaped}, shape {column_vector_reshaped.shape}\")"
   ]
  },
  {
   "cell_type": "markdown",
   "id": "64461b6d",
   "metadata": {},
   "source": [
    "### NB\n",
    "vector: [1 2 3], shape (3,)\n",
    "In this representation, vector is a 1-dimensional NumPy array with shape (3,). This is considered a 1D array or a rank-1 array in NumPy, and it represents a row vector with three elements: 1, 2, and 3. However, note that it is not explicitly a row vector in terms of linear algebra because it is not a 2D array.\n",
    "\n",
    "vector: [[1 2 3]], shape (1, 3)\n",
    "In this representation, vector is a 2-dimensional NumPy array with shape (1, 3). The double brackets signify that it's a 2D array with one row and three columns. This is a true row vector in terms of linear algebra because it has one row and multiple columns, which aligns with the definition of a row vector.\n",
    "\n",
    "While both representations contain the same data, the difference lies in the shape of the array. The second representation explicitly captures the concept of a row vector with a shape of (1, 3), making it more suitable for linear algebra and certain mathematical operations. The first representation, although commonly used, is technically a 1D array with shape (3,) and requires special attention when performing certain operations to ensure correct behavior in linear algebra contexts.\n",
    "\n",
    "\n",
    "\n",
    "\n"
   ]
  },
  {
   "cell_type": "markdown",
   "id": "2fab2893",
   "metadata": {},
   "source": [
    "## Operations with Vectors"
   ]
  },
  {
   "cell_type": "markdown",
   "id": "7f7e3349",
   "metadata": {},
   "source": [
    "### Vector Addition:\n",
    "You can add two vectors element-wise using the + operator or the numpy.add() function."
   ]
  },
  {
   "cell_type": "code",
   "execution_count": 11,
   "id": "3daebbbc",
   "metadata": {},
   "outputs": [
    {
     "data": {
      "text/plain": [
       "array([5, 7, 9])"
      ]
     },
     "execution_count": 11,
     "metadata": {},
     "output_type": "execute_result"
    }
   ],
   "source": [
    "import numpy as np\n",
    "\n",
    "vector1 = np.array([1, 2, 3])\n",
    "vector2 = np.array([4, 5, 6])\n",
    "\n",
    "result = vector1 + vector2\n",
    "# Output: array([5, 7, 9])\n",
    "result"
   ]
  },
  {
   "cell_type": "markdown",
   "id": "cd4281bd",
   "metadata": {},
   "source": [
    "### Vector Subtraction:\n",
    "You can subtract two vectors element-wise using the - operator or the numpy.subtract() function."
   ]
  },
  {
   "cell_type": "code",
   "execution_count": 14,
   "id": "db992488",
   "metadata": {},
   "outputs": [
    {
     "data": {
      "text/plain": [
       "array([3, 3, 3])"
      ]
     },
     "execution_count": 14,
     "metadata": {},
     "output_type": "execute_result"
    }
   ],
   "source": [
    "import numpy as np\n",
    "\n",
    "vector1 = np.array([1, 2, 3])\n",
    "vector2 = np.array([4, 5, 6])\n",
    "\n",
    "result = vector2 - vector1\n",
    "# Output: array([3, 3, 3])\n",
    "result"
   ]
  },
  {
   "cell_type": "markdown",
   "id": "878434d9",
   "metadata": {},
   "source": [
    "### Examples with Column Vectors"
   ]
  },
  {
   "cell_type": "code",
   "execution_count": 4,
   "id": "331f7a39",
   "metadata": {},
   "outputs": [
    {
     "name": "stdout",
     "output_type": "stream",
     "text": [
      "Adding two column vectors\n",
      "[[5]\n",
      " [7]\n",
      " [9]]\n",
      "subtracting two column vectors\n"
     ]
    },
    {
     "data": {
      "text/plain": [
       "array([[3],\n",
       "       [3],\n",
       "       [3]])"
      ]
     },
     "execution_count": 4,
     "metadata": {},
     "output_type": "execute_result"
    }
   ],
   "source": [
    "import numpy as np\n",
    "\n",
    "vector1 = np.array([[1],\n",
    "                    [2],\n",
    "                    [3]])\n",
    "\n",
    "vector2 = np.array([[4],\n",
    "                    [5],\n",
    "                    [6]])\n",
    "\n",
    "result = vector1 + vector2\n",
    "# Output:\n",
    "# array([[5],\n",
    "#        [7],\n",
    "#        [9]])\n",
    "print(\"Adding two column vectors\")\n",
    "print(result)\n",
    "\n",
    "import numpy as np\n",
    "\n",
    "vector1 = np.array([[1],\n",
    "                    [2],\n",
    "                    [3]])\n",
    "\n",
    "vector2 = np.array([[4],\n",
    "                    [5],\n",
    "                    [6]])\n",
    "\n",
    "result = vector2 - vector1\n",
    "# Output:\n",
    "# array([[3],\n",
    "#        [3],\n",
    "#        [3]])\n",
    "print('subtracting two column vectors')\n",
    "result"
   ]
  },
  {
   "cell_type": "markdown",
   "id": "59c82d67",
   "metadata": {},
   "source": [
    "### Numpy Broadcasting \n",
    "You must be wondering what if you add a row vector and a column vector. \n",
    "Broadcasting in NumPy is a powerful feature that allows element-wise operations between arrays with different shapes, making it possible to perform operations on arrays that would otherwise be incompatible due to their dimensions.\n",
    "\n",
    "The broadcasting rules in NumPy are applied when performing element-wise operations (e.g., addition, subtraction, multiplication, division, etc.) between two arrays. The broadcasting process involves automatically aligning and extending the dimensions of smaller arrays to match the shape of larger arrays, so that the operation can be performed element-wise.\n",
    "\n",
    "Broadcasting follows a set of rules to determine how arrays should be broadcasted:\n",
    "<br>\n",
    "If the arrays have the same shape, no broadcasting is needed, and the operation is performed element-wise as expected.\n",
    "<br>\n",
    "If the arrays have different shapes, NumPy compares their dimensions from right to left:\n",
    "<br>\n",
    "If the dimensions match or one of the arrays has a size of 1 in a particular dimension, they are compatible for broadcasting in that dimension.\n",
    "<br>\n",
    "If the dimensions don't match and none of the arrays has a size of 1 in a particular dimension, then broadcasting is not possible, and an error will be raised.\n",
    "<br>\n",
    "During broadcasting, NumPy replicates the array along the dimensions that have a size of 1, making them compatible with the other array. This process is done implicitly and efficiently, without actually creating multiple copies of the data in memory."
   ]
  },
  {
   "cell_type": "code",
   "execution_count": 23,
   "id": "84749789",
   "metadata": {},
   "outputs": [
    {
     "data": {
      "text/plain": [
       "array([[5, 6, 7],\n",
       "       [6, 7, 8],\n",
       "       [7, 8, 9]])"
      ]
     },
     "execution_count": 23,
     "metadata": {},
     "output_type": "execute_result"
    }
   ],
   "source": [
    "import numpy as np\n",
    "\n",
    "# Row vector (shape: (1, 3))\n",
    "row_vector = np.array([[1, 2, 3]])\n",
    "\n",
    "# Column vector (shape: (3, 1))\n",
    "column_vector = np.array([[4],\n",
    "                          [5],\n",
    "                          [6]])\n",
    "\n",
    "# Broadcasting occurs here when we add the row vector and column vector.\n",
    "# The row vector is broadcasted to (3, 3), and the column vector is broadcasted to (3, 3).\n",
    "# Broadcasting allows NumPy to expand the vectors along the appropriate axes to match their shapes.\n",
    "result = row_vector + column_vector\n",
    "\n",
    "# Output:\n",
    "# array([[5, 6, 7],\n",
    "#        [6, 7, 8],\n",
    "#        [7, 8, 9]])\n",
    "result"
   ]
  },
  {
   "cell_type": "markdown",
   "id": "15b29daa",
   "metadata": {},
   "source": [
    "### Element-wise Multiplication (Hadamard Product):\n",
    "You can perform element-wise multiplication of two 1D vectors using the * operator or the numpy.multiply() function."
   ]
  },
  {
   "cell_type": "code",
   "execution_count": 5,
   "id": "50c5b4b2",
   "metadata": {},
   "outputs": [
    {
     "data": {
      "text/plain": [
       "array([ 4, 10, 18])"
      ]
     },
     "execution_count": 5,
     "metadata": {},
     "output_type": "execute_result"
    }
   ],
   "source": [
    "import numpy as np\n",
    "\n",
    "vector1 = np.array([1, 2, 3])\n",
    "vector2 = np.array([4, 5, 6])\n",
    "\n",
    "result = vector1 * vector2\n",
    "# Output: array([4, 10, 18])\n",
    "result"
   ]
  },
  {
   "cell_type": "markdown",
   "id": "3df90d3a",
   "metadata": {},
   "source": [
    "### Element-wise Division:\n",
    "You can perform element-wise division of two 1D vectors using the / operator or the numpy.divide() function."
   ]
  },
  {
   "cell_type": "code",
   "execution_count": 6,
   "id": "cf64290c",
   "metadata": {},
   "outputs": [
    {
     "data": {
      "text/plain": [
       "array([2., 4., 4.])"
      ]
     },
     "execution_count": 6,
     "metadata": {},
     "output_type": "execute_result"
    }
   ],
   "source": [
    "import numpy as np\n",
    "\n",
    "vector1 = np.array([4, 8, 12])\n",
    "vector2 = np.array([2, 2, 3])\n",
    "\n",
    "result = vector1 / vector2\n",
    "# Output: array([2., 4., 4.])\n",
    "result"
   ]
  },
  {
   "cell_type": "markdown",
   "id": "d87fdab6",
   "metadata": {},
   "source": [
    "### Element-wise Exponentiation:\n",
    "You can perform element-wise exponentiation of a 1D vector using the ** operator or the numpy.power() function."
   ]
  },
  {
   "cell_type": "code",
   "execution_count": 9,
   "id": "d36bc21b",
   "metadata": {},
   "outputs": [
    {
     "data": {
      "text/plain": [
       "array([ 4,  9, 16])"
      ]
     },
     "execution_count": 9,
     "metadata": {},
     "output_type": "execute_result"
    }
   ],
   "source": [
    "import numpy as np\n",
    "\n",
    "vector = np.array([2, 3, 4])\n",
    "\n",
    "result = vector ** 2\n",
    "# Output: array([ 4,  9, 16])\n",
    "result"
   ]
  },
  {
   "cell_type": "markdown",
   "id": "e6127f37",
   "metadata": {},
   "source": [
    "### Summation:\n",
    "You can calculate the sum of all elements in a 1D vector using numpy.sum()."
   ]
  },
  {
   "cell_type": "code",
   "execution_count": 10,
   "id": "419ed692",
   "metadata": {},
   "outputs": [
    {
     "data": {
      "text/plain": [
       "15"
      ]
     },
     "execution_count": 10,
     "metadata": {},
     "output_type": "execute_result"
    }
   ],
   "source": [
    "import numpy as np\n",
    "\n",
    "vector = np.array([1, 2, 3, 4, 5])\n",
    "\n",
    "sum_result = np.sum(vector)\n",
    "# Output: 15\n",
    "sum_result"
   ]
  },
  {
   "cell_type": "markdown",
   "id": "fe6370e9",
   "metadata": {},
   "source": [
    "### Dot Product with Another 1D Vector:\n",
    "You can calculate the dot product of two 1D vectors using numpy.dot() or the @ operator.\n",
    "<br>\n",
    "when performing the dot product (also known as inner product) between two vectors (1-dimensional arrays), there are specific constraints on the shape of the arrays to get a meaningful result. The dot product is a binary operation that takes two vectors and returns a scalar value.\n",
    "<br>\n",
    "The constraint for the dot product is that the two vectors must have the same length (number of elements). Mathematically, for two vectors a and b, both of shape (N,), the dot product a · b is defined only when N is the same for both a and b."
   ]
  },
  {
   "cell_type": "code",
   "execution_count": 11,
   "id": "4c797b89",
   "metadata": {},
   "outputs": [
    {
     "name": "stdout",
     "output_type": "stream",
     "text": [
      "32\n"
     ]
    }
   ],
   "source": [
    "\n",
    "a = np.array([1, 2, 3])\n",
    "b = np.array([4, 5, 6])\n",
    "\n",
    "dot_product = np.dot(a, b)  # or simply a.dot(b)\n",
    "\n",
    "print(dot_product)  # Output: 32\n"
   ]
  },
  {
   "cell_type": "markdown",
   "id": "1bba13ac",
   "metadata": {},
   "source": [
    "### Cross product\n",
    "the cross product is a binary operation performed on two 3-dimensional vectors (arrays with three elements each). The cross product between two vectors results in a new vector that is orthogonal (perpendicular) to the plane containing the original vectors.\n",
    "<br>\n",
    "The main constraint for performing the cross product in NumPy is that both vectors must be 1-dimensional arrays (vectors) of length 3. Mathematically, if a and b are two vectors with shapes (3,), the cross product a x b is well-defined.\n",
    "<br>\n",
    "#### Note\n",
    "while numpy will allow the cross product between vectors in two dimensional space, the output does not make sense in the definition of dot product and hence you should rather add 0's in the missing direction"
   ]
  },
  {
   "cell_type": "code",
   "execution_count": 12,
   "id": "9af10d7d",
   "metadata": {},
   "outputs": [
    {
     "name": "stdout",
     "output_type": "stream",
     "text": [
      "[-3  6 -3]\n"
     ]
    }
   ],
   "source": [
    "import numpy as np\n",
    "\n",
    "a = np.array([1, 2, 3])\n",
    "b = np.array([4, 5, 6])\n",
    "\n",
    "cross_product = np.cross(a, b)\n",
    "\n",
    "print(cross_product)  # Output: [-3  6 -3]\n"
   ]
  },
  {
   "cell_type": "markdown",
   "id": "db8ac862",
   "metadata": {},
   "source": [
    "### Norm of a Vector:\n",
    "You can calculate the norm (L2) (magnitude) of a vector using numpy.linalg.norm()."
   ]
  },
  {
   "cell_type": "code",
   "execution_count": 12,
   "id": "914bd3c0",
   "metadata": {},
   "outputs": [
    {
     "data": {
      "text/plain": [
       "5.0"
      ]
     },
     "execution_count": 12,
     "metadata": {},
     "output_type": "execute_result"
    }
   ],
   "source": [
    "import numpy as np\n",
    "\n",
    "vector = np.array([3, 4])\n",
    "\n",
    "norm = np.linalg.norm(vector)\n",
    "# Output: 5.0\n",
    "norm"
   ]
  },
  {
   "cell_type": "markdown",
   "id": "ce04fb65",
   "metadata": {},
   "source": [
    "#### These are just a few examples of vector operations in NumPy. The library provides a wide range of functions for vector manipulation and linear algebra operations, making it a powerful tool for various mathematical and machine learning tasks."
   ]
  },
  {
   "cell_type": "markdown",
   "id": "b3cfb318",
   "metadata": {},
   "source": [
    "### The above operations by themself does not show the power of Numpy in solving mathematical problems. However, they form the basis of other complex operations hence understanding them will be beneficial for other linear algebraic operations"
   ]
  },
  {
   "cell_type": "code",
   "execution_count": null,
   "id": "99c96d0c",
   "metadata": {},
   "outputs": [],
   "source": []
  }
 ],
 "metadata": {
  "kernelspec": {
   "display_name": "Python 3 (ipykernel)",
   "language": "python",
   "name": "python3"
  },
  "language_info": {
   "codemirror_mode": {
    "name": "ipython",
    "version": 3
   },
   "file_extension": ".py",
   "mimetype": "text/x-python",
   "name": "python",
   "nbconvert_exporter": "python",
   "pygments_lexer": "ipython3",
   "version": "3.11.4"
  }
 },
 "nbformat": 4,
 "nbformat_minor": 5
}
