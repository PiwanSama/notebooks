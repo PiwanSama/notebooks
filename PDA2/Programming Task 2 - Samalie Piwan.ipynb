{
 "cells": [
  {
   "cell_type": "markdown",
   "id": "f595c96e",
   "metadata": {},
   "source": [
    "### Practice Programming Task 1 of the course 04-638 A: Programming for Data Analytics.\n",
    "\n",
    "******************************************************\n",
    "#### Name: Samalie Piwan\n",
    "#### AndrewID: spiwan\n",
    "#### Semester: Fall 2023\n",
    "#### Course: Programming for Data Analytics\n",
    "#### Last modified: 19th September 2023\n",
    "******************************************************"
   ]
  },
  {
   "cell_type": "markdown",
   "id": "0499c71b",
   "metadata": {},
   "source": [
    "### Exercise 1: Reading and Processing Files"
   ]
  },
  {
   "cell_type": "markdown",
   "id": "32b60a74",
   "metadata": {},
   "source": [
    "Part A - You have a text file called \"data.txt\" containing a list of names, one name per line. Write a Python program that reads this file, stores the names in a list, and then prints the total number of names and the longest name in the list."
   ]
  },
  {
   "cell_type": "code",
   "execution_count": 189,
   "id": "defee87c",
   "metadata": {},
   "outputs": [
    {
     "name": "stdout",
     "output_type": "stream",
     "text": [
      "Total number of names : 11\n",
      "The longest name is Benjamin\n",
      "\n"
     ]
    }
   ],
   "source": [
    "\"\"\"\n",
    "    This code reads data from the file data.txt, adds the names to a list and\n",
    "    prints the total number of names and the longest name in the list\n",
    "\n",
    "    Return\n",
    "    -----------\n",
    "        The total number of names in the list\n",
    "        The longest name in the list\n",
    "\"\"\"\n",
    "\n",
    "name_list = []\n",
    "longest_name = ''\n",
    "\n",
    "#Read the data from data.txt\n",
    "try:\n",
    "    #Open the data.txt file in read mode\n",
    "    with open('data.txt', 'r') as file:\n",
    "        lines = file.readlines()\n",
    "        \n",
    "        #loop through the lines in the file and add to the list\n",
    "        for name in lines:\n",
    "            #Add the name to the name_list list\n",
    "            name_list.append(name)\n",
    "            #Check if the current name is the longest from those read\n",
    "            if(len(name)>len(longest_name)):\n",
    "                longest_name = name\n",
    "                \n",
    "    #Print number of names\n",
    "    print(\"Total number of names : \"+str(len(name_list)))\n",
    "    #Print longest name in the list\n",
    "    print(f\"The longest name is {longest_name}\")\n",
    "    \n",
    "#Handle exception if the file is not found\n",
    "except FileNotFoundError:\n",
    "    print('File not found!')"
   ]
  },
  {
   "cell_type": "markdown",
   "id": "06d2e5c2",
   "metadata": {},
   "source": [
    "Part B. Create a function called find_shortest_name that takes a list of names as input\n",
    "and returns the shortest name in the list. Call this function in your program and print the\n",
    "shortest name. Additionally, modify the function to handle ties where there are multiple\n",
    "names with the same shortest length. Return a list of all names with the shortest length"
   ]
  },
  {
   "cell_type": "code",
   "execution_count": 190,
   "id": "4f5442cc",
   "metadata": {},
   "outputs": [
    {
     "name": "stdout",
     "output_type": "stream",
     "text": [
      "['oh', 'fr']\n"
     ]
    }
   ],
   "source": [
    "\"\"\"\n",
    "    This function takes a list of names as input and returns the shortest name in the li\n",
    "\n",
    "    Attributes\n",
    "    -----------\n",
    "        name_list : list\n",
    "            The list of names to search\n",
    "    Return\n",
    "    -----------\n",
    "        shortest_name : str\n",
    "            The shortest name on the list\n",
    "        shortest_name_list : list\n",
    "            A list of one or more of the shortest names  \n",
    "\"\"\"\n",
    "\n",
    "def find_shortest_name(names_list):\n",
    "    #Set the shortest name as the first name on the list\n",
    "    shortest_name = names_list[0].rstrip(\"\\n\")\n",
    "    shortest_name_list = []\n",
    "    \n",
    "    #Loop through the list of names parameter\n",
    "    for name in names_list:\n",
    "        #Strip new lines from the name being read\n",
    "        current_name = name.rstrip('\\n')\n",
    "        \n",
    "        #Check if the current name from the list is the shortest name\n",
    "        if(len(current_name)<len(shortest_name)):\n",
    "            shortest_name = current_name\n",
    "            #Clear the list of shortest names if a single shorter name exists\n",
    "            if(len(shortest_name_list) > 0):\n",
    "                if(len(shortest_name) < len(shortest_name_list[0])):\n",
    "                    shortest_name_list.clear()\n",
    "            \n",
    "        #Check if the current name from the list has the same length as the shortest name\n",
    "        elif(len(current_name)==len(shortest_name)):\n",
    "            shortest_name_list.append(current_name.rstrip('\\n'))\n",
    "            if shortest_name not in shortest_name_list:\n",
    "                shortest_name_list.append(shortest_name.rstrip('\\n'))\n",
    "    \n",
    "    #Print the list of names if the shortest name found is longer than\n",
    "    #the length of names in the shortest names list\n",
    "    if(len(shortest_name_list) > 0):\n",
    "        print(shortest_name_list)\n",
    "    \n",
    "    #Print the shortest name\n",
    "    else:\n",
    "        print(shortest_name)\n",
    "\n",
    "find_shortest_name(name_list)"
   ]
  },
  {
   "cell_type": "markdown",
   "id": "cb05ee29",
   "metadata": {},
   "source": [
    "Part C. Create a function called write_sorted_names that takes a list of names as input from data.txt file, sorts them in reverse alphabetical order, and writes the sorted list to a new text file called \"sorted_data.txt.\" Additionally, modify the function to handle the case where the file \"sorted_data.txt\" already exists. If the file exists, append the sorted names to it."
   ]
  },
  {
   "cell_type": "code",
   "execution_count": 140,
   "id": "6c3a482f",
   "metadata": {},
   "outputs": [],
   "source": [
    "\"\"\"\n",
    "    This function takes a file with a list of names as input, \n",
    "    sorts them in reverse alphabetical order, and writes the sorted \n",
    "    list to a new text file called \"sorted_data.txt.\" \n",
    "\n",
    "    Attributes\n",
    "    -----------\n",
    "        name_list : list\n",
    "            The list of names to sort\n",
    "    Return\n",
    "    -----------\n",
    "        shortest_name : str\n",
    "            The shortest name on the list\n",
    "\"\"\"\n",
    "\n",
    "def write_sorted_names(name_file):\n",
    "\n",
    "    unsorted_list = []\n",
    "    sorted_list = []\n",
    "\n",
    "    try:\n",
    "        #Open the data.txt file in read mode\n",
    "        with open(name_file, 'r') as file:\n",
    "            lines = file.readlines()\n",
    "\n",
    "            #loop through the lines in the file and add to the list\n",
    "            for line in lines:\n",
    "                #Add the name to the sorted_list list\n",
    "                unsorted_list.append(line.rstrip(\"\\n\"))\n",
    "        #Sort the names using the Python sort() function\n",
    "        sorted_list = sorted(unsorted_list, key = str.lower, reverse=True)\n",
    "    \n",
    "        #Write the sorted names to the sorted_data.txt file\n",
    "        sorted_file = open(\"sorted_data.txt\", \"a+\")    \n",
    "        for name in sorted_list:\n",
    "            sorted_file.write(name+\"\\n\")\n",
    "\n",
    "        #Close the file IO operation after writing data to the file\n",
    "        sorted_file.close()\n",
    "    \n",
    "    #Handle exception if the file is not found\n",
    "    except FileNotFoundError:\n",
    "        print('File not found!')\n",
    "\n",
    "#Call the function using the data.txt file\n",
    "write_sorted_names('data.txt')"
   ]
  },
  {
   "cell_type": "markdown",
   "id": "339bdc6e",
   "metadata": {},
   "source": [
    "### Exercise 2: Reading and Processing Files"
   ]
  },
  {
   "cell_type": "markdown",
   "id": "3b6941e4",
   "metadata": {},
   "source": [
    "A. Use the text file from Question 1 \"data.txt\", write a python program that:<br>\n",
    "● Identifies and prints lines that contain a specific name (e.g., \"Aline\") to the console. Ignore the case such that both “Aline” and “aline” are considered as the same name.<br>\n",
    "● Counts and prints the total number of lines containing the name."
   ]
  },
  {
   "cell_type": "code",
   "execution_count": 177,
   "id": "a8c0f47d",
   "metadata": {},
   "outputs": [
    {
     "name": "stdout",
     "output_type": "stream",
     "text": [
      "Name found at position 8 : Olivia\n",
      "The name Olivia appears 1 time\n"
     ]
    }
   ],
   "source": [
    "\"\"\"\n",
    "    This function identifies and prints lines that contain a specific name (e.g., \"Aline\") to the console without case sensitivity.\n",
    "    It then counts and prints the total number of lines containing the name.\n",
    "    \n",
    "    Attributes:\n",
    "    -----------\n",
    "        search_name : str\n",
    "            The name to search in the file\n",
    "    Return\n",
    "    -----------\n",
    "        count_lines : int\n",
    "            Lines that have a name passed\n",
    "\"\"\"\n",
    "\n",
    "def search_name_lines(search_name):\n",
    "    count_lines = 0\n",
    "    line_num = 0\n",
    "\n",
    "    #Read the data from data.txt\n",
    "    try:\n",
    "        #Open the data.txt file in read mode\n",
    "        with open('data.txt', 'r') as file:\n",
    "            lines = file.readlines()\n",
    "\n",
    "            #loop through the lines in the file and add to the list\n",
    "            for name in lines:\n",
    "                #Update the number of lines iterated\n",
    "                line_num += 1\n",
    "                #Strip new lines from the name being read\n",
    "                current_name = name.rstrip('\\n')\n",
    "        \n",
    "                #Check if the current name is the search name\n",
    "                if(search_name.lower() == current_name.lower()):\n",
    "                    #Print the line and name with a match\n",
    "                    print(f\"Name found at position {line_num} : {current_name}\")\n",
    "                    #Update the count of lines that contain the name\n",
    "                    count_lines+=1\n",
    "\n",
    "        #Print number of times the name occurs\n",
    "        if(count_lines < 1):\n",
    "            print(f\"The name {search_name} does not appear in the file\")\n",
    "        elif(count_lines == 1):\n",
    "            print(f\"The name {search_name} appears {count_lines} time\")\n",
    "        else:\n",
    "            print(f\"The name {search_name} appears {count_lines} times\")\n",
    "    \n",
    "    #Handle exception if an integer is entered\n",
    "    except AttributeError:\n",
    "        print('Please enter a string value')\n",
    "        \n",
    "    #Handle exception if the file is not found\n",
    "    except FileNotFoundError:\n",
    "        print('File not found!')\n",
    "        \n",
    "search_name_lines(\"Olivia\")"
   ]
  },
  {
   "cell_type": "markdown",
   "id": "0c1ba427",
   "metadata": {},
   "source": [
    "B. Using the file in 1-A, implement a function that allows the user to search for a specific name in the list. If the name is found, display a message indicating its presence along with its position in the list (e.g., \"Name found at position 5: Alice\"). If the name is not found, display a message indicating that it's not in the list (e.g, “Alice is not in the list.”)."
   ]
  },
  {
   "cell_type": "code",
   "execution_count": 176,
   "id": "8d905a01",
   "metadata": {},
   "outputs": [
    {
     "name": "stdout",
     "output_type": "stream",
     "text": [
      "Name found at position 6 : William\n"
     ]
    }
   ],
   "source": [
    "\"\"\"\n",
    "    This function allows the user to search for a specific name in the list.\n",
    "    If the name is found, display a message indicating its presence along with its position in the list \\\n",
    "    (e.g., \"Name found at position 5: Alice\"). If the name is not found, display a message indicating that \n",
    "    it's not in the list (e.g, “Alice is not in the list.”).\n",
    "    \n",
    "    Attributes:\n",
    "    -----------\n",
    "        search_name : str\n",
    "            The name to search in the file\n",
    "    Return\n",
    "    -----------\n",
    "        count_lines : int\n",
    "            Lines that have a name passed\n",
    "\"\"\"\n",
    "\n",
    "def search_name(query_name):\n",
    "    line_num = 0\n",
    "    count_lines = 0\n",
    "\n",
    "    #Read the data from data.txt\n",
    "    try:\n",
    "        #Open the data.txt file in read mode\n",
    "        with open('data.txt', 'r') as file:\n",
    "            lines = file.readlines()\n",
    "\n",
    "            #loop through the lines in the file and add to the list\n",
    "            for name in lines:\n",
    "                #Update the number of lines iterated\n",
    "                line_num += 1\n",
    "                #Strip new lines from the name being read\n",
    "                current_name = name.rstrip('\\n')\n",
    "        \n",
    "                #Check if the current name is the search name\n",
    "                if(query_name.lower() == current_name.lower()):\n",
    "                    #Print the line and name with a match\n",
    "                    print(f\"Name found at position {line_num} : {current_name}\")\n",
    "                    #Update the count of lines that contain the name\n",
    "                    count_lines+=1\n",
    "\n",
    "        #Print number of times the name occurs\n",
    "        if(count_lines < 1):\n",
    "            print(f\"{query_name} is not on the list\")\n",
    "    \n",
    "    #Handle exception if an integer is entered\n",
    "    except AttributeError:\n",
    "        print('Please enter a string value')\n",
    "        \n",
    "    #Handle exception if the file is not found\n",
    "    except FileNotFoundError:\n",
    "        print('File not found!')\n",
    "        \n",
    "search_name(\"william\")"
   ]
  },
  {
   "cell_type": "markdown",
   "id": "45893cc5",
   "metadata": {},
   "source": [
    "C. You will refer to 1-A for this question:<br>\n",
    "● Case-Insensitive Shortest Name: Modify the find_shortest_name function to consider\n",
    "names with the same length regardless of case (e.g., \"John\" and \"john\" are considered\n",
    "the same).<br>"
   ]
  },
  {
   "cell_type": "code",
   "execution_count": 180,
   "id": "d9152427",
   "metadata": {},
   "outputs": [
    {
     "ename": "IndexError",
     "evalue": "list index out of range",
     "output_type": "error",
     "traceback": [
      "\u001b[1;31m---------------------------------------------------------------------------\u001b[0m",
      "\u001b[1;31mIndexError\u001b[0m                                Traceback (most recent call last)",
      "Cell \u001b[1;32mIn[180], line 49\u001b[0m\n\u001b[0;32m     45\u001b[0m     \u001b[38;5;66;03m#Print the shortest name\u001b[39;00m\n\u001b[0;32m     46\u001b[0m     \u001b[38;5;28;01melse\u001b[39;00m:\n\u001b[0;32m     47\u001b[0m         \u001b[38;5;28mprint\u001b[39m(shortest_name)\n\u001b[1;32m---> 49\u001b[0m find_shortest_name(name_list)\n",
      "Cell \u001b[1;32mIn[180], line 31\u001b[0m, in \u001b[0;36mfind_shortest_name\u001b[1;34m(names_list)\u001b[0m\n\u001b[0;32m     29\u001b[0m     shortest_name \u001b[38;5;241m=\u001b[39m current_name\n\u001b[0;32m     30\u001b[0m     \u001b[38;5;66;03m#Clear the list of shortest names if a single shorter name exists\u001b[39;00m\n\u001b[1;32m---> 31\u001b[0m     \u001b[38;5;28;01mif\u001b[39;00m(\u001b[38;5;28mlen\u001b[39m(shortest_name) \u001b[38;5;241m<\u001b[39m \u001b[38;5;28mlen\u001b[39m(shortest_name_list[\u001b[38;5;241m0\u001b[39m])):\n\u001b[0;32m     32\u001b[0m         shortest_name_list\u001b[38;5;241m.\u001b[39mclear()\n\u001b[0;32m     34\u001b[0m \u001b[38;5;66;03m#Check if the current name from the list has the same length as the shortest name\u001b[39;00m\n",
      "\u001b[1;31mIndexError\u001b[0m: list index out of range"
     ]
    }
   ],
   "source": [
    "\"\"\"\n",
    "    This function takes a list of names as input and returns the shortest name in the li\n",
    "\n",
    "    Attributes\n",
    "    -----------\n",
    "        name_list : list\n",
    "            The list of names to search\n",
    "    Return\n",
    "    -----------\n",
    "        shortest_name : str\n",
    "            The shortest name on the list\n",
    "        shortest_name_list : list\n",
    "            A list of one or more of the shortest names  \n",
    "\"\"\"\n",
    "\n",
    "def find_shortest_name(names_list):\n",
    "    #Set the shortest name as the first name on the list\n",
    "    shortest_name = names_list[0].rstrip(\"\\n\")\n",
    "    shortest_name_list = []\n",
    "    \n",
    "    #Loop through the list of names parameter\n",
    "    for name in names_list:\n",
    "        #Strip new lines from the name being read\n",
    "        current_name = name.rstrip('\\n')\n",
    "        current_name_lower = name.rstrip('\\n')\n",
    "        \n",
    "        #Check if the current name from the list is the shortest name\n",
    "        if(len(current_name)<len(shortest_name)):\n",
    "            shortest_name = current_name\n",
    "            #Clear the list of shortest names if a single shorter name exists\n",
    "            if(len(shortest_name_list) > 0):\n",
    "                if(len(shortest_name) < len(shortest_name_list[0])):\n",
    "                    shortest_name_list.clear()\n",
    "            \n",
    "        #Check if the current name from the list has the same length as the shortest name\n",
    "        elif(len(current_name)==len(shortest_name)):\n",
    "            shortest_name_list.append(current_name.rstrip('\\n'))\n",
    "            if shortest_name not in shortest_name_list:\n",
    "                shortest_name_list.append(shortest_name.rstrip('\\n'))\n",
    "    \n",
    "    #Print the list of names if the shortest name found is longer than\n",
    "    #the length of names in the shortest names list\n",
    "    if(len(shortest_name_list) > 0):\n",
    "        print(shortest_name_list)\n",
    "    \n",
    "    #Print the shortest name\n",
    "    else:\n",
    "        print(shortest_name)\n",
    "\n",
    "find_shortest_name(name_list)"
   ]
  },
  {
   "cell_type": "markdown",
   "id": "f0178c2f",
   "metadata": {},
   "source": [
    "C. You will refer to 1-A for this question:<br>\n",
    "● Filter by Starting Letter: Create a function to ask the user for a starting letter and then\n",
    "display all names starting with that letter.<br>"
   ]
  },
  {
   "cell_type": "markdown",
   "id": "f4fecd26",
   "metadata": {},
   "source": [
    "C. You will refer to 1-A for this question:<br>\n",
    "● Writing in the file: Create a function that asks the user to input a new name and write it\n",
    "to the \"names.txt\" file. Ensure the file is opened in append mode to add the new name\n",
    "without overwriting existing names. Input validation: Ensure that the user enters a\n",
    "non-empty name. If the user enters an empty name, display an error message and ask\n",
    "for input again until a valid name (not null) is provided."
   ]
  },
  {
   "cell_type": "code",
   "execution_count": null,
   "id": "2f4632b4",
   "metadata": {},
   "outputs": [],
   "source": []
  }
 ],
 "metadata": {
  "kernelspec": {
   "display_name": "Python 3 (ipykernel)",
   "language": "python",
   "name": "python3"
  },
  "language_info": {
   "codemirror_mode": {
    "name": "ipython",
    "version": 3
   },
   "file_extension": ".py",
   "mimetype": "text/x-python",
   "name": "python",
   "nbconvert_exporter": "python",
   "pygments_lexer": "ipython3",
   "version": "3.11.4"
  }
 },
 "nbformat": 4,
 "nbformat_minor": 5
}
