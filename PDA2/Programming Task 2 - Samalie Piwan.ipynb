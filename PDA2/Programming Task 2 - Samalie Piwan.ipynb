{
 "cells": [
  {
   "cell_type": "markdown",
   "id": "f595c96e",
   "metadata": {},
   "source": [
    "### Practice Programming Task 1 of the course 04-638 A: Programming for Data Analytics.\n",
    "\n",
    "******************************************************\n",
    "#### Name: Samalie Piwan\n",
    "#### AndrewID: spiwan\n",
    "#### Semester: Fall 2023\n",
    "#### Course: Programming for Data Analytics\n",
    "#### Last modified: 19th September 2023\n",
    "******************************************************"
   ]
  },
  {
   "cell_type": "markdown",
   "id": "0499c71b",
   "metadata": {},
   "source": [
    "### Exercise 1: Reading and Processing Files"
   ]
  },
  {
   "cell_type": "markdown",
   "id": "8c4ce50a",
   "metadata": {},
   "source": [
    "Part A - You have a text file called \"data.txt\" containing a list of names, one name per line. Write a Python program that reads this file, stores the names in a list, and then prints the total number of names and the longest name in the list."
   ]
  },
  {
   "cell_type": "code",
   "execution_count": 215,
   "id": "defee87c",
   "metadata": {},
   "outputs": [
    {
     "name": "stdout",
     "output_type": "stream",
     "text": [
      "Total number of names : 11\n",
      "The longest name is Benjamin\n",
      "\n"
     ]
    }
   ],
   "source": [
    "\"\"\"\n",
    "    This code reads data from the file data.txt, adds the names to a list and\n",
    "    prints the total number of names and the longest name in the list\n",
    "\n",
    "    Return\n",
    "    -----------\n",
    "        number_of_names : int\n",
    "            The total number of names in the list\n",
    "        longest_name : str\n",
    "            The longest name in the list\n",
    "\"\"\"\n",
    "\n",
    "name_list = []\n",
    "longest_name = ''\n",
    "\n",
    "#Read the data from data.txt\n",
    "try:\n",
    "    #Open the data.txt file in read mode\n",
    "    with open('data.txt', 'r') as file:\n",
    "        lines = file.readlines()\n",
    "        \n",
    "        #loop through the lines in the file and add to the list\n",
    "        for name in lines:\n",
    "            #Add the name to the name_list list\n",
    "            name_list.append(name)\n",
    "            #Check if the current name is the longest from those read\n",
    "            if(len(name)>len(longest_name)):\n",
    "                longest_name = name\n",
    "                \n",
    "    #Print number of names\n",
    "    print(\"Total number of names : \"+str(len(name_list)))\n",
    "    #Print longest name in the list\n",
    "    print(f\"The longest name is {longest_name}\")\n",
    "    \n",
    "#Handle exception if the file is not found\n",
    "except FileNotFoundError:\n",
    "    print('File not found!')"
   ]
  },
  {
   "cell_type": "markdown",
   "id": "e57c63f8",
   "metadata": {},
   "source": [
    "Part B. Create a function called find_shortest_name that takes a list of names as input\n",
    "and returns the shortest name in the list. Call this function in your program and print the\n",
    "shortest name. Additionally, modify the function to handle ties where there are multiple\n",
    "names with the same shortest length. Return a list of all names with the shortest length"
   ]
  },
  {
   "cell_type": "code",
   "execution_count": 31,
   "id": "b58f37fa",
   "metadata": {},
   "outputs": [
    {
     "name": "stdout",
     "output_type": "stream",
     "text": [
      "John\n",
      "john\n",
      "Ella\n",
      "ella\n"
     ]
    }
   ],
   "source": [
    "\"\"\"\n",
    "    This function takes a list of names as input and returns the shortest name in the li\n",
    "\n",
    "    Attributes\n",
    "    -----------\n",
    "        name_list : list\n",
    "            The list of names to search\n",
    "    Return\n",
    "    -----------\n",
    "        shortest_name : str\n",
    "            The shortest name on the list\n",
    "        shortest_name_list : list\n",
    "            A list of one or more of the shortest names  \n",
    "\"\"\"\n",
    "\n",
    "def find_shortest_name(names_list):\n",
    "    #Set the shortest name as the first name on the list\n",
    "    shortest_name = names_list[0].rstrip(\"\\n\")\n",
    "    shortest_name_list = []\n",
    "    \n",
    "    #Loop through the list of names parameter\n",
    "    for name in names_list:\n",
    "        #Strip new lines from the name being read\n",
    "        current_name = name.rstrip('\\n')\n",
    "        \n",
    "        #Check if the current name from the list is the shortest name\n",
    "        if(len(current_name)<len(shortest_name)):\n",
    "            shortest_name = current_name\n",
    "            #Clear the list of shortest names if a single shorter name exists\n",
    "            if(len(shortest_name_list) > 0):\n",
    "                if(len(shortest_name) < len(shortest_name_list[0])):\n",
    "                    shortest_name_list.clear()\n",
    "            \n",
    "        #Check if the current name from the list has the same length as the shortest name\n",
    "        elif(len(current_name)==len(shortest_name)):\n",
    "            shortest_name_list.append(current_name)\n",
    "            if shortest_name not in shortest_name_list:\n",
    "                shortest_name_list.append(shortest_name)\n",
    "    \n",
    "    #Print the list of names if the shortest name found is longer than\n",
    "    #the length of names in the shortest names list\n",
    "    if(len(shortest_name_list) > 0):\n",
    "        for name in shortest_name_list:\n",
    "            print(name)\n",
    "    \n",
    "    #Print the shortest name\n",
    "    else:\n",
    "        print(shortest_name)\n",
    "\n",
    "find_shortest_name(name_list)"
   ]
  },
  {
   "cell_type": "markdown",
   "id": "71d3d3cc",
   "metadata": {},
   "source": [
    "Part C. Create a function called write_sorted_names that takes a list of names as input from data.txt file, sorts them in reverse alphabetical order, and writes the sorted list to a new text file called \"sorted_data.txt.\" Additionally, modify the function to handle the case where the file \"sorted_data.txt\" already exists. If the file exists, append the sorted names to it."
   ]
  },
  {
   "cell_type": "code",
   "execution_count": 140,
   "id": "9e718182",
   "metadata": {},
   "outputs": [],
   "source": [
    "\"\"\"\n",
    "    This function takes a file with a list of names as input, \n",
    "    sorts them in reverse alphabetical order, and writes the sorted \n",
    "    list to a new text file called \"sorted_data.txt.\" \n",
    "\n",
    "    Attributes\n",
    "    -----------\n",
    "        name_list : list\n",
    "            The list of names to sort\n",
    "    Return\n",
    "    -----------\n",
    "        shortest_name : str\n",
    "            The shortest name on the list\n",
    "\"\"\"\n",
    "\n",
    "def write_sorted_names(name_file):\n",
    "\n",
    "    unsorted_list = []\n",
    "    sorted_list = []\n",
    "\n",
    "    try:\n",
    "        #Open the data.txt file in read mode\n",
    "        with open(name_file, 'r') as file:\n",
    "            lines = file.readlines()\n",
    "\n",
    "            #loop through the lines in the file and add to the list\n",
    "            for line in lines:\n",
    "                #Add the name to the sorted_list list\n",
    "                unsorted_list.append(line.rstrip(\"\\n\"))\n",
    "        #Sort the names using the Python sort() function\n",
    "        sorted_list = sorted(unsorted_list, key = str.lower, reverse=True)\n",
    "    \n",
    "        #Write the sorted names to the sorted_data.txt file\n",
    "        sorted_file = open(\"sorted_data.txt\", \"a+\")    \n",
    "        for name in sorted_list:\n",
    "            sorted_file.write(name+\"\\n\")\n",
    "\n",
    "        #Close the file IO operation after writing data to the file\n",
    "        sorted_file.close()\n",
    "    \n",
    "    #Handle exception if the file is not found\n",
    "    except FileNotFoundError:\n",
    "        print('File not found!')\n",
    "\n",
    "#Call the function using the data.txt file\n",
    "write_sorted_names('data.txt')"
   ]
  },
  {
   "cell_type": "markdown",
   "id": "eaa827db",
   "metadata": {},
   "source": [
    "### Exercise 2: Reading and Processing Files"
   ]
  },
  {
   "cell_type": "markdown",
   "id": "aad8d23b",
   "metadata": {},
   "source": [
    "A. Use the text file from Question 1 \"data.txt\", write a python program that:<br>\n",
    "● Identifies and prints lines that contain a specific name (e.g., \"Aline\") to the console. Ignore the case such that both “Aline” and “aline” are considered as the same name.<br>\n",
    "● Counts and prints the total number of lines containing the name."
   ]
  },
  {
   "cell_type": "code",
   "execution_count": 177,
   "id": "9b2d9e9b",
   "metadata": {},
   "outputs": [
    {
     "name": "stdout",
     "output_type": "stream",
     "text": [
      "Name found at position 8 : Olivia\n",
      "The name Olivia appears 1 time\n"
     ]
    }
   ],
   "source": [
    "\"\"\"\n",
    "    This function identifies and prints lines that contain a specific name (e.g., \"Aline\") to the console without case sensitivity.\n",
    "    It then counts and prints the total number of lines containing the name.\n",
    "    \n",
    "    Attributes:\n",
    "    -----------\n",
    "        search_name : str\n",
    "            The name to search in the file\n",
    "    Return\n",
    "    -----------\n",
    "        count_lines : int\n",
    "            Lines that have a name passed\n",
    "\"\"\"\n",
    "\n",
    "def search_name_lines(search_name):\n",
    "    count_lines = 0\n",
    "    line_num = 0\n",
    "\n",
    "    #Read the data from data.txt\n",
    "    try:\n",
    "        #Open the data.txt file in read mode\n",
    "        with open('data.txt', 'r') as file:\n",
    "            lines = file.readlines()\n",
    "\n",
    "            #loop through the lines in the file and add to the list\n",
    "            for name in lines:\n",
    "                #Update the number of lines iterated\n",
    "                line_num += 1\n",
    "                #Strip new lines from the name being read\n",
    "                current_name = name.rstrip('\\n')\n",
    "        \n",
    "                #Check if the current name is the search name\n",
    "                if(search_name.lower() == current_name.lower()):\n",
    "                    #Print the line and name with a match\n",
    "                    print(f\"Name found at position {line_num} : {current_name}\")\n",
    "                    #Update the count of lines that contain the name\n",
    "                    count_lines+=1\n",
    "\n",
    "        #Print number of times the name occurs\n",
    "        if(count_lines < 1):\n",
    "            print(f\"The name {search_name} does not appear in the file\")\n",
    "        elif(count_lines == 1):\n",
    "            print(f\"The name {search_name} appears {count_lines} time\")\n",
    "        else:\n",
    "            print(f\"The name {search_name} appears {count_lines} times\")\n",
    "    \n",
    "    #Handle exception if an integer is entered\n",
    "    except AttributeError:\n",
    "        print('Please enter a string value')\n",
    "        \n",
    "    #Handle exception if the file is not found\n",
    "    except FileNotFoundError:\n",
    "        print('File not found!')\n",
    "        \n",
    "search_name_lines(\"Olivia\")"
   ]
  },
  {
   "cell_type": "markdown",
   "id": "05289996",
   "metadata": {},
   "source": [
    "B. Using the file in 1-A, implement a function that allows the user to search for a specific name in the list. If the name is found, display a message indicating its presence along with its position in the list (e.g., \"Name found at position 5: Alice\"). If the name is not found, display a message indicating that it's not in the list (e.g, “Alice is not in the list.”)."
   ]
  },
  {
   "cell_type": "code",
   "execution_count": 176,
   "id": "9c9aa891",
   "metadata": {},
   "outputs": [
    {
     "name": "stdout",
     "output_type": "stream",
     "text": [
      "Name found at position 6 : William\n"
     ]
    }
   ],
   "source": [
    "\"\"\"\n",
    "    This function allows the user to search for a specific name in the list.\n",
    "    If the name is found, display a message indicating its presence along with its position in the list \\\n",
    "    (e.g., \"Name found at position 5: Alice\"). If the name is not found, display a message indicating that \n",
    "    it's not in the list (e.g, “Alice is not in the list.”).\n",
    "    \n",
    "    Attributes:\n",
    "    -----------\n",
    "        search_name : str\n",
    "            The name to search in the file\n",
    "    Return\n",
    "    -----------\n",
    "        count_lines : int\n",
    "            Lines that have a name passed\n",
    "\"\"\"\n",
    "\n",
    "def search_name(query_name):\n",
    "    line_num = 0\n",
    "    count_lines = 0\n",
    "\n",
    "    #Read the data from data.txt\n",
    "    try:\n",
    "        #Open the data.txt file in read mode\n",
    "        with open('data.txt', 'r') as file:\n",
    "            lines = file.readlines()\n",
    "\n",
    "            #loop through the lines in the file and add to the list\n",
    "            for name in lines:\n",
    "                #Update the number of lines iterated\n",
    "                line_num += 1\n",
    "                #Strip new lines from the name being read\n",
    "                current_name = name.rstrip('\\n')\n",
    "        \n",
    "                #Check if the current name is the search name\n",
    "                if(query_name.lower() == current_name.lower()):\n",
    "                    #Print the line and name with a match\n",
    "                    print(f\"Name found at position {line_num} : {current_name}\")\n",
    "                    #Update the count of lines that contain the name\n",
    "                    count_lines+=1\n",
    "\n",
    "        #Print number of times the name occurs\n",
    "        if(count_lines < 1):\n",
    "            print(f\"{query_name} is not on the list\")\n",
    "    \n",
    "    #Handle exception if an integer is entered\n",
    "    except AttributeError:\n",
    "        print('Please enter a string value')\n",
    "        \n",
    "    #Handle exception if the file is not found\n",
    "    except FileNotFoundError:\n",
    "        print('File not found!')\n",
    "        \n",
    "search_name(\"william\")"
   ]
  },
  {
   "cell_type": "markdown",
   "id": "bcecd23a",
   "metadata": {},
   "source": [
    "C. You will refer to 1-A for this question:<br>\n",
    "● Case-Insensitive Shortest Name: Modify the find_shortest_name function to consider\n",
    "names with the same length regardless of case (e.g., \"John\" and \"john\" are considered\n",
    "the same).<br>"
   ]
  },
  {
   "cell_type": "code",
   "execution_count": 35,
   "id": "b5a07a50",
   "metadata": {},
   "outputs": [
    {
     "name": "stdout",
     "output_type": "stream",
     "text": [
      "['John', 'Ella']\n"
     ]
    }
   ],
   "source": [
    "\"\"\"\n",
    "    This function takes a list of names as input and returns the shortest name in the list\n",
    "\n",
    "    Attributes\n",
    "    -----------\n",
    "        name_list : list\n",
    "            The list of names to search\n",
    "    Return\n",
    "    -----------\n",
    "        shortest_name : str\n",
    "            The shortest name on the list\n",
    "        shortest_name_list : list\n",
    "            A list of one or more of the shortest names  \n",
    "\"\"\"\n",
    "\n",
    "def find_shortest_name(names_list):\n",
    "    #Set the shortest name as the first name on the list\n",
    "    shortest_name = names_list[0].rstrip(\"\\n\")\n",
    "    shortest_name_list = []\n",
    "    \n",
    "    #Loop through the list of names parameter\n",
    "    for name in names_list:\n",
    "        #Strip new lines from the name being read\n",
    "        current_name = name.rstrip('\\n')\n",
    "        \n",
    "        #Check if the current name from the list is the shortest name\n",
    "        if(len(current_name)<len(shortest_name)):\n",
    "            shortest_name = current_name\n",
    "            #Clear the list of shortest names if a single shorter name exists\n",
    "            if(len(shortest_name_list) > 0):\n",
    "                if(len(shortest_name) < len(shortest_name_list[0])):\n",
    "                    shortest_name_list.clear()\n",
    "            \n",
    "        #Check if the current name from the list has the same length as the shortest name\n",
    "        elif(len(current_name)==len(shortest_name)):\n",
    "            #Check if capitalized version of the current name is not in the list\n",
    "            if current_name not in shortest_name_list and current_name.capitalize() not in shortest_name_list:\n",
    "                shortest_name_list.append(current_name)\n",
    "                \n",
    "                #Check if capitalized version of the shortest name is not in the list\n",
    "                if shortest_name not in shortest_name_list and shortest_name.capitalize() not in shortest_name_list:\n",
    "                    shortest_name_list.append(shortest_name)\n",
    "    \n",
    "    #Print the list of names if the shortest name found is longer than\n",
    "    #the length of names in the shortest names list\n",
    "    if(len(shortest_name_list) > 0):\n",
    "        print(shortest_name_list)\n",
    "    \n",
    "    #Print the shortest name\n",
    "    else:\n",
    "        print(shortest_name)\n",
    "\n",
    "find_shortest_name(name_list)"
   ]
  },
  {
   "cell_type": "markdown",
   "id": "1e88b3d7",
   "metadata": {},
   "source": [
    "C. You will refer to 1-A for this question:<br>\n",
    "● Filter by Starting Letter: Create a function to ask the user for a starting letter and then\n",
    "display all names starting with that letter.<br>"
   ]
  },
  {
   "cell_type": "code",
   "execution_count": 36,
   "id": "a3c3f91e",
   "metadata": {},
   "outputs": [
    {
     "name": "stdout",
     "output_type": "stream",
     "text": [
      "John\n",
      "john\n"
     ]
    }
   ],
   "source": [
    "\"\"\"\n",
    "    This function takes a character as input and returns all the names in the list that start with that character\n",
    "\n",
    "    Attributes\n",
    "    -----------\n",
    "        query_letter : char\n",
    "            The character to search\n",
    "    Return\n",
    "    -----------\n",
    "        names_list : list\n",
    "            A list of names that start with the query letter passed\n",
    "\"\"\"\n",
    "\n",
    "def search_first_character(query_letter):\n",
    "    try:\n",
    "        #Set the shortest name as the first name on the list\n",
    "        query_names_list = []\n",
    "\n",
    "        #Loop through the list of names parameter\n",
    "        for name in name_list:\n",
    "            #Strip new lines from the name being read\n",
    "            current_name = name.rstrip('\\n')\n",
    "\n",
    "            #Check the first character of the current name\n",
    "            compare_char = current_name[0]\n",
    "\n",
    "            #Compare to the query letter\n",
    "            if(query_letter.lower() == compare_char.lower()):\n",
    "                query_names_list.append(current_name)\n",
    "\n",
    "        #Print the list of names if the shortest name found is longer than\n",
    "        #the length of names in the shortest names list\n",
    "        if(len(query_names_list) < 0):\n",
    "            print(f\"No names starting with letter '{query_letter}' found\")\n",
    "\n",
    "        #Print the list of names\n",
    "        else:\n",
    "            for name in query_names_list:\n",
    "                print(name)\n",
    "            \n",
    "    #Handle exception if an integer is entered\n",
    "    except AttributeError:\n",
    "        print('Please enter a string value')\n",
    "        \n",
    "    #Handle exception if an integer is entered\n",
    "    except NameError:\n",
    "        print('Invalid input')\n",
    "\n",
    "search_first_character(\"j\")"
   ]
  },
  {
   "cell_type": "markdown",
   "id": "f2d98c6a",
   "metadata": {},
   "source": [
    "C. You will refer to 1-A for this question:<br>\n",
    "● Writing in the file: Create a function that asks the user to input a new name and write it\n",
    "to the \"names.txt\" file. Ensure the file is opened in append mode to add the new name\n",
    "without overwriting existing names. Input validation: Ensure that the user enters a\n",
    "non-empty name. If the user enters an empty name, display an error message and ask\n",
    "for input again until a valid name (not null) is provided."
   ]
  },
  {
   "cell_type": "code",
   "execution_count": 96,
   "id": "341c0507",
   "metadata": {},
   "outputs": [
    {
     "name": "stdout",
     "output_type": "stream",
     "text": [
      "Enter name to add to the list\n",
      "You have not entered a name, try again\n",
      "Enter name to add to the list\n",
      "You have not entered a name, try again\n",
      "Enter name to add to the list\n",
      "You have not entered a name, try again\n",
      "Enter name to add to the list\n",
      "You have not entered a name, try again\n"
     ]
    },
    {
     "ename": "KeyboardInterrupt",
     "evalue": "Interrupted by user",
     "output_type": "error",
     "traceback": [
      "\u001b[1;31m---------------------------------------------------------------------------\u001b[0m",
      "\u001b[1;31mKeyboardInterrupt\u001b[0m                         Traceback (most recent call last)",
      "Cell \u001b[1;32mIn[96], line 31\u001b[0m\n\u001b[0;32m     28\u001b[0m         \u001b[38;5;28;01mexcept\u001b[39;00m \u001b[38;5;167;01mTypeError\u001b[39;00m:\n\u001b[0;32m     29\u001b[0m             \u001b[38;5;28mprint\u001b[39m(\u001b[38;5;124m'\u001b[39m\u001b[38;5;124mYou have not entered a name, try again\u001b[39m\u001b[38;5;124m'\u001b[39m)\n\u001b[1;32m---> 31\u001b[0m input_name()\n",
      "Cell \u001b[1;32mIn[96], line 13\u001b[0m, in \u001b[0;36minput_name\u001b[1;34m()\u001b[0m\n\u001b[0;32m     10\u001b[0m \u001b[38;5;28;01mwhile\u001b[39;00m(\u001b[38;5;129;01mnot\u001b[39;00m show_menu):\n\u001b[0;32m     11\u001b[0m     \u001b[38;5;28;01mtry\u001b[39;00m:\n\u001b[0;32m     12\u001b[0m         \u001b[38;5;66;03m#Prompt the user to input a name\u001b[39;00m\n\u001b[1;32m---> 13\u001b[0m         name \u001b[38;5;241m=\u001b[39m \u001b[38;5;28minput\u001b[39m(\u001b[38;5;124m\"\u001b[39m\u001b[38;5;124mEnter name to add to the list\u001b[39m\u001b[38;5;124m\"\u001b[39m)\n\u001b[0;32m     14\u001b[0m         \u001b[38;5;28;01mif\u001b[39;00m(name \u001b[38;5;241m==\u001b[39m \u001b[38;5;124m'\u001b[39m\u001b[38;5;124m'\u001b[39m):\n\u001b[0;32m     15\u001b[0m             \u001b[38;5;28;01mraise\u001b[39;00m \u001b[38;5;167;01mTypeError\u001b[39;00m(\u001b[38;5;124m\"\u001b[39m\u001b[38;5;124mPlease enter a name\u001b[39m\u001b[38;5;124m\"\u001b[39m)\n",
      "File \u001b[1;32m~\\anaconda3\\Lib\\site-packages\\ipykernel\\kernelbase.py:1175\u001b[0m, in \u001b[0;36mKernel.raw_input\u001b[1;34m(self, prompt)\u001b[0m\n\u001b[0;32m   1171\u001b[0m \u001b[38;5;28;01mif\u001b[39;00m \u001b[38;5;129;01mnot\u001b[39;00m \u001b[38;5;28mself\u001b[39m\u001b[38;5;241m.\u001b[39m_allow_stdin:\n\u001b[0;32m   1172\u001b[0m     \u001b[38;5;28;01mraise\u001b[39;00m StdinNotImplementedError(\n\u001b[0;32m   1173\u001b[0m         \u001b[38;5;124m\"\u001b[39m\u001b[38;5;124mraw_input was called, but this frontend does not support input requests.\u001b[39m\u001b[38;5;124m\"\u001b[39m\n\u001b[0;32m   1174\u001b[0m     )\n\u001b[1;32m-> 1175\u001b[0m \u001b[38;5;28;01mreturn\u001b[39;00m \u001b[38;5;28mself\u001b[39m\u001b[38;5;241m.\u001b[39m_input_request(\n\u001b[0;32m   1176\u001b[0m     \u001b[38;5;28mstr\u001b[39m(prompt),\n\u001b[0;32m   1177\u001b[0m     \u001b[38;5;28mself\u001b[39m\u001b[38;5;241m.\u001b[39m_parent_ident[\u001b[38;5;124m\"\u001b[39m\u001b[38;5;124mshell\u001b[39m\u001b[38;5;124m\"\u001b[39m],\n\u001b[0;32m   1178\u001b[0m     \u001b[38;5;28mself\u001b[39m\u001b[38;5;241m.\u001b[39mget_parent(\u001b[38;5;124m\"\u001b[39m\u001b[38;5;124mshell\u001b[39m\u001b[38;5;124m\"\u001b[39m),\n\u001b[0;32m   1179\u001b[0m     password\u001b[38;5;241m=\u001b[39m\u001b[38;5;28;01mFalse\u001b[39;00m,\n\u001b[0;32m   1180\u001b[0m )\n",
      "File \u001b[1;32m~\\anaconda3\\Lib\\site-packages\\ipykernel\\kernelbase.py:1217\u001b[0m, in \u001b[0;36mKernel._input_request\u001b[1;34m(self, prompt, ident, parent, password)\u001b[0m\n\u001b[0;32m   1214\u001b[0m             \u001b[38;5;28;01mbreak\u001b[39;00m\n\u001b[0;32m   1215\u001b[0m \u001b[38;5;28;01mexcept\u001b[39;00m \u001b[38;5;167;01mKeyboardInterrupt\u001b[39;00m:\n\u001b[0;32m   1216\u001b[0m     \u001b[38;5;66;03m# re-raise KeyboardInterrupt, to truncate traceback\u001b[39;00m\n\u001b[1;32m-> 1217\u001b[0m     \u001b[38;5;28;01mraise\u001b[39;00m \u001b[38;5;167;01mKeyboardInterrupt\u001b[39;00m(\u001b[38;5;124m\"\u001b[39m\u001b[38;5;124mInterrupted by user\u001b[39m\u001b[38;5;124m\"\u001b[39m) \u001b[38;5;28;01mfrom\u001b[39;00m \u001b[38;5;28;01mNone\u001b[39;00m\n\u001b[0;32m   1218\u001b[0m \u001b[38;5;28;01mexcept\u001b[39;00m \u001b[38;5;167;01mException\u001b[39;00m:\n\u001b[0;32m   1219\u001b[0m     \u001b[38;5;28mself\u001b[39m\u001b[38;5;241m.\u001b[39mlog\u001b[38;5;241m.\u001b[39mwarning(\u001b[38;5;124m\"\u001b[39m\u001b[38;5;124mInvalid Message:\u001b[39m\u001b[38;5;124m\"\u001b[39m, exc_info\u001b[38;5;241m=\u001b[39m\u001b[38;5;28;01mTrue\u001b[39;00m)\n",
      "\u001b[1;31mKeyboardInterrupt\u001b[0m: Interrupted by user"
     ]
    }
   ],
   "source": [
    "\"\"\"\n",
    "    This function prompts the user to input a new name and write it to the \"names.txt\" file\n",
    "    \n",
    "\"\"\"\n",
    "\n",
    "def input_name():\n",
    "    #Set the flag to show the menu as false\n",
    "    show_menu = False\n",
    "    \n",
    "    while(not show_menu):\n",
    "        try:\n",
    "            #Prompt the user to input a name\n",
    "            name = input(\"Enter name to add to the list\")\n",
    "            if(name == ''):\n",
    "                raise TypeError(\"Please enter a name\")\n",
    "            else:\n",
    "                show_menu = True\n",
    "                #Open the data.txt file in append mode\n",
    "                name_file = open(\"data.txt\", \"a\")\n",
    "                #Write the input name to the file\n",
    "                name_file.write(name+\"\\n\")\n",
    "                #Close the file IO operation\n",
    "                name_file.close()\n",
    "                #Give user feedback that the name has been added\n",
    "                print(f\"{name} has been added to the list!\")\n",
    "    \n",
    "        #Raise exception if the file is not found\n",
    "        except TypeError:\n",
    "            print('You have not entered a name, try again')\n",
    "\n",
    "input_name()"
   ]
  },
  {
   "cell_type": "markdown",
   "id": "87851a30",
   "metadata": {},
   "source": [
    "3. You are tasked with creating a Python program to manage and analyze student records using dictionaries and JSON files. You will need to perform various operations, including adding new student records, updating student information, calculating student ages, and storing the data in JSON format."
   ]
  },
  {
   "cell_type": "markdown",
   "id": "0499943e",
   "metadata": {},
   "source": [
    "- Create an empty dictionary called student_records.<br>\n",
    "- Implement a function add_student that takes student information as arguments (e.g., regno, Name, DoB) and adds a new student record to the student_records dictionary. Ensure that each student record is a nested dictionary within the student_records dictionary.<br>\n",
    "- Add three student records using the add_student function.<br>\n",
    "- Write the entire student_records dictionary to a JSON file named \"student_records.json.\""
   ]
  },
  {
   "cell_type": "code",
   "execution_count": 137,
   "id": "9d4fd5a6",
   "metadata": {},
   "outputs": [
    {
     "name": "stdout",
     "output_type": "stream",
     "text": [
      "Student with registraion number 01 has been added\n",
      "Student with registraion number 02 has been added\n",
      "Student with registraion number 03 has been added\n",
      "Data written to student_records.json\n"
     ]
    }
   ],
   "source": [
    "#Import the python json library\n",
    "import json\n",
    "\n",
    "#Create the student_records dictionary\n",
    "student_records = {}\n",
    "\n",
    "def add_student(regno, name, dob):\n",
    "    \"\"\"\n",
    "        This function takes a student's registration number, name and date of birth\n",
    "        and adds them to the student_records dictionary\n",
    "\n",
    "        Attributes\n",
    "        -----------\n",
    "            regno : str\n",
    "                The student's registration number\n",
    "            name : str\n",
    "                The student's registration name\n",
    "            dob : str\n",
    "                The student's date of birth\n",
    "    \"\"\"\n",
    "    #Create a dictionary with the new student record\n",
    "    new_student_record = {\"name\":name, \"dob\":dob}\n",
    "    student_records[regno] = new_student_record\n",
    "    print(f\"Student with registraion number {regno} has been added\")\n",
    "\n",
    "#Add three students to the student_records dictionary\n",
    "add_student(\"01\",\"Samalie\",\"18/08/1992\")\n",
    "add_student(\"02\",\"Diana\",\"16/03/1997\")\n",
    "add_student(\"03\",\"Angelo\",\"01/07/2001\")\n",
    "\n",
    "#Write the records to the student_records.json file\n",
    "students_file = open(\"student_records.json\", \"a\")\n",
    "#Write student_records dictionary to the file\n",
    "students_file.write(json.dumps(student_records))\n",
    "#Close the file IO operation\n",
    "students_file.close()\n",
    "#Give user feedback that the name has been added\n",
    "print(\"Data written to student_records.json!\")"
   ]
  },
  {
   "cell_type": "markdown",
   "id": "2d172372",
   "metadata": {},
   "source": [
    "- Implement a function load_student_records that reads the \"student_records.json\" file and loads its content into a dictionary<br>\n",
    "- Load the data from \"student_records.json\" into a new dictionary called loaded_student_records using the load_student_records function<br>\n",
    "- Print the contents of the loaded_student_records dictionary<br>"
   ]
  },
  {
   "cell_type": "code",
   "execution_count": 242,
   "id": "8e79d3e8",
   "metadata": {},
   "outputs": [
    {
     "name": "stdout",
     "output_type": "stream",
     "text": [
      "{'01': {'name': 'John Mark', 'dob': '2001-03-01', 'Age': 22}, '02': {'name': 'Diana', 'dob': '1997-03-16', 'Age': 26}, '03': {'name': 'Angelo', 'dob': '2001-07-01', 'Age': 22}}\n"
     ]
    }
   ],
   "source": [
    "def load_student_records():\n",
    "    \"\"\"\n",
    "        This function loads data from the student_records.json file into a dictionary\n",
    "    \"\"\"\n",
    "    loaded_student_records = {}\n",
    "    try:\n",
    "        with open('student_records.json', 'r') as students:\n",
    "            loaded_student_records = json.load(students)\n",
    "\n",
    "        return loaded_student_records\n",
    "    #Handle exception if the file is not found\n",
    "    except FileNotFoundError:\n",
    "        print('File not found!')\n",
    "        \n",
    "print(load_student_records())"
   ]
  },
  {
   "cell_type": "markdown",
   "id": "ef8d4f2c",
   "metadata": {},
   "source": [
    "- Implement a function update_student that takes a student's registration number (regno) and updates their Name and Date of Birth (DoB) in the student_records dictionary.\n",
    "- Use the update_student function to update the information of one of the students in the student_records dictionary.\n",
    "- Write the updated student_records dictionary back to the \"student_records.json\" file.\n",
    "- Load the data from \"student_records.json\" into a new dictionary called updated_student_records using the load_student_records function.\n",
    "- Print the contents of the updated_student_records dictionary to verify that the student information has been updated."
   ]
  },
  {
   "cell_type": "code",
   "execution_count": 197,
   "id": "20040caa",
   "metadata": {},
   "outputs": [
    {
     "name": "stdout",
     "output_type": "stream",
     "text": [
      "{'01': {'name': 'John Mark', 'dob': '01/03/2001'}, '02': {'name': 'Diana', 'dob': '16/03/1997'}, '03': {'name': 'Angelo', 'dob': '01/07/2001'}}\n",
      "Data written to student_records.json!\n"
     ]
    }
   ],
   "source": [
    "def update_student(regno, name, dob):\n",
    "    \"\"\"\n",
    "        This function  takes a student's registration number (regno) and updates their Name and \n",
    "        Date of Birth (DoB) in the student_records dictionary.\n",
    "        \n",
    "        Attributes\n",
    "        -----------\n",
    "            regno : str\n",
    "                The registration number of the student to update\n",
    "                \n",
    "    \"\"\"\n",
    "    \n",
    "    loaded_student_records = {}\n",
    "    try:\n",
    "        #Load the data from the students.json file\n",
    "        with open('student_records.json', 'r') as students:\n",
    "            loaded_student_records = json.load(students)\n",
    "            #Select the student by reg number passed\n",
    "            selected_record = loaded_student_records[regno]\n",
    "    \n",
    "            #Update the student records\n",
    "            selected_record['name'] = name\n",
    "            selected_record['dob'] = dob\n",
    "            \n",
    "            #Print the updated data from the loaded_student_records dictionary\n",
    "            print(loaded_student_records)\n",
    "            \n",
    "            #Write the records to the student_records.json file\n",
    "            students_file = open(\"student_records.json\", \"w\")\n",
    "            #Write student_records dictionary to the file\n",
    "            students_file.write(json.dumps(loaded_student_records))\n",
    "            #Close the file IO operation\n",
    "            students_file.close()\n",
    "            #Give user feedback that the name has been added\n",
    "            print(\"Data written to student_records.json!\")\n",
    "            \n",
    "    #Handle exception if the file is not found\n",
    "    except FileNotFoundError:\n",
    "        print('File not found!')\n",
    "    \n",
    "    #Handle exception if the registration number does not exist in the fle\n",
    "    except KeyError:\n",
    "        print(f\"Student with registraion number {regno} not found\")\n",
    "\n",
    "update_student(\"01\",\"John Mark\",\"01/03/2001\")"
   ]
  },
  {
   "cell_type": "markdown",
   "id": "125b3330",
   "metadata": {},
   "source": [
    "- Implement a function calculate_age that takes a student's Date of Birth (DoB) and calculates their age."
   ]
  },
  {
   "cell_type": "code",
   "execution_count": 235,
   "id": "cb4369a9",
   "metadata": {},
   "outputs": [],
   "source": [
    "#Import the python datetime library\n",
    "from datetime import datetime\n",
    "from datetime import date\n",
    "\n",
    "def calculate_age(str_student_dob):\n",
    "    \"\"\"\n",
    "        This function takes a date string, converts it to a datetime and calculate the age\n",
    "        \n",
    "        Attributes\n",
    "        -----------\n",
    "            dob : str\n",
    "                The date of birth for the student whose age to calculate as a string\n",
    "        Returns\n",
    "        -----------\n",
    "            age : int\n",
    "                The age of the student\n",
    "                \n",
    "    \"\"\"\n",
    "    student_dob = datetime.strptime(str_student_dob, '%Y-%m-%d').date()\n",
    "            \n",
    "    #Get the current date\n",
    "    today = date.today()\n",
    "\n",
    "    #Calculate the student's age\n",
    "    age = today.year - student_dob.year - ((today.month, today.day) < (student_dob.month, student_dob.day))\n",
    "\n",
    "    #Return the student's age\n",
    "    return age"
   ]
  },
  {
   "cell_type": "markdown",
   "id": "1e5b7d64",
   "metadata": {},
   "source": [
    "- Iterate through the student records in the student_records dictionary, calculate the age of each student using the calculate_age function, and add the age as a new key-value pair (\"Age\": age) in their respective record.\n",
    "- Write the updated student_records dictionary (now including age information) back to the \"student_records.json\" file.\n",
    "- Load the data from \"student_records.json\" into a new dictionary called final_student_records using the load_student_records function.\n",
    "- Print the contents of the final_student_records dictionary to verify that the age information has been added to each student record.\n",
    "- Load the data from \"student_records.json\" into a new dictionary called final_student_records using the load_student_records function.\n",
    "- Print the contents of the final_student_records dictionary to verify that the age information has been added to each student record."
   ]
  },
  {
   "cell_type": "code",
   "execution_count": 244,
   "id": "2c774811",
   "metadata": {},
   "outputs": [
    {
     "name": "stdout",
     "output_type": "stream",
     "text": [
      "Data written to student_records.json!\n",
      "{'01': {'name': 'John Mark', 'dob': '2001-03-01', 'Age': 22}, '02': {'name': 'Diana', 'dob': '1997-03-16', 'Age': 26}, '03': {'name': 'Angelo', 'dob': '2001-07-01', 'Age': 22}}\n"
     ]
    }
   ],
   "source": [
    " \"\"\"\n",
    "    This code iterates through the student records in the student_records dictionary, \n",
    "    calculates the age of each student using the calculate_age function,\n",
    "    and adds the age as a new key-value pair (\"Age\": age) in their respective record.\n",
    "\n",
    "    Attributes\n",
    "    -----------\n",
    "        dob : str\n",
    "            The date of birth for the student whose age to calculate as a string\n",
    "                \n",
    "\"\"\"\n",
    "try:\n",
    "    #Load the data from the students.json file\n",
    "    with open('student_records.json', 'r') as students:\n",
    "        loaded_student_records = json.load(students)\n",
    "        \n",
    "        #Iterate through the loaded_student_records dictionary to find the student age\n",
    "        for key in loaded_student_records:\n",
    "            #Get the student from the iteration\n",
    "            current_student = loaded_student_records[key]\n",
    "            #Call the calculate_age function with the the student dob as a parameter to calculate their age\n",
    "            student_age = calculate_age(current_student['dob'])\n",
    "            #Add the 'Age' key to the student record\n",
    "            current_student[\"Age\"] = student_age\n",
    "        \n",
    "        #Write the records to the student_records.json file\n",
    "        students_file = open(\"student_records.json\", \"w\")\n",
    "        #Write student_records dictionary to the file\n",
    "        students_file.write(json.dumps(loaded_student_records))\n",
    "        #Close the file IO operation\n",
    "        students_file.close()\n",
    "        #Give user feedback that the name has been added\n",
    "        print(\"Data written to student_records.json!\")\n",
    "    \n",
    "    final_student_records = load_student_records()\n",
    "    print(final_student_records)\n",
    "\n",
    "#Handle exception if the file is not found\n",
    "except FileNotFoundError:\n",
    "    print('File not found!')\n",
    "\n",
    "#Handle exception if the registration number does not exist in the fle\n",
    "except KeyError:\n",
    "    print(f\"Student with registration number {regno} not found\")"
   ]
  }
 ],
 "metadata": {
  "kernelspec": {
   "display_name": "Python 3 (ipykernel)",
   "language": "python",
   "name": "python3"
  },
  "language_info": {
   "codemirror_mode": {
    "name": "ipython",
    "version": 3
   },
   "file_extension": ".py",
   "mimetype": "text/x-python",
   "name": "python",
   "nbconvert_exporter": "python",
   "pygments_lexer": "ipython3",
   "version": "3.11.4"
  }
 },
 "nbformat": 4,
 "nbformat_minor": 5
}
