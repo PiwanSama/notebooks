{
 "cells": [
  {
   "cell_type": "markdown",
   "id": "f595c96e",
   "metadata": {},
   "source": [
    "### Practice Programming Task 1 of the course 04-638 A: Programming for Data Analytics.\n",
    "\n",
    "******************************************************\n",
    "#### Name: Samalie Piwan\n",
    "#### AndrewID: spiwan\n",
    "#### Semester: Fall 2023\n",
    "#### Course: Programming for Data Analytics\n",
    "#### Last modified: 19th September 2023\n",
    "******************************************************"
   ]
  },
  {
   "cell_type": "markdown",
   "id": "0499c71b",
   "metadata": {},
   "source": [
    "### Exercise 1: Reading and Processing Files"
   ]
  },
  {
   "cell_type": "markdown",
   "id": "efad7f14",
   "metadata": {},
   "source": [
    "Part A - You have a text file called \"data.txt\" containing a list of names, one name per line. Write a Python program that reads this file, stores the names in a list, and then prints the total number of names and the longest name in the list."
   ]
  },
  {
   "cell_type": "code",
   "execution_count": 101,
   "id": "defee87c",
   "metadata": {},
   "outputs": [
    {
     "name": "stdout",
     "output_type": "stream",
     "text": [
      "Total number of names : 12\n",
      "The longest name is Benjamin\n",
      "\n"
     ]
    }
   ],
   "source": [
    "\"\"\"\n",
    "    This code reads data from the file data.txt, adds the names to a list and\n",
    "    prints the total number of names and the longest name in the list\n",
    "\n",
    "    Return\n",
    "    -----------\n",
    "        The total number of names in the list\n",
    "        The longest name in the list\n",
    "\"\"\"\n",
    "\n",
    "name_list = []\n",
    "longest_name = ''\n",
    "\n",
    "#Read the data from data.txt\n",
    "try:\n",
    "    #Open the data.txt file in read mode\n",
    "    with open('data.txt', 'r') as file:\n",
    "        lines = file.readlines()\n",
    "        \n",
    "        #loop through the lines in the file and add to the list\n",
    "        for name in lines:\n",
    "            #Add the name to the name_list list\n",
    "            name_list.append(name)\n",
    "            #Check if the current name is the longest from those read\n",
    "            if(len(name)>len(longest_name)):\n",
    "                longest_name = name\n",
    "                \n",
    "    #Print number of names\n",
    "    print(\"Total number of names : \"+str(len(name_list)))\n",
    "    #Print longest name in the list\n",
    "    print(f\"The longest name is {longest_name}\")\n",
    "    \n",
    "#Handle exception if the file is not found\n",
    "except FileNotFoundError:\n",
    "    print('File not found!')"
   ]
  },
  {
   "cell_type": "markdown",
   "id": "aca28292",
   "metadata": {},
   "source": [
    "Part B. Create a function called find_shortest_name that takes a list of names as input\n",
    "and returns the shortest name in the list. Call this function in your program and print the\n",
    "shortest name. Additionally, modify the function to handle ties where there are multiple\n",
    "names with the same shortest length. Return a list of all names with the shortest length"
   ]
  },
  {
   "cell_type": "code",
   "execution_count": 102,
   "id": "142f98ff",
   "metadata": {},
   "outputs": [
    {
     "name": "stdout",
     "output_type": "stream",
     "text": [
      "Xi\n"
     ]
    }
   ],
   "source": [
    "\"\"\"\n",
    "    This function takes a list of names as input and returns the shortest name in the li\n",
    "\n",
    "    Attributes\n",
    "    -----------\n",
    "        name_list : list\n",
    "            The list of names to search\n",
    "    Return\n",
    "    -----------\n",
    "        shortest_name : str\n",
    "            The shortest name on the list\n",
    "        shortest_name_list : list\n",
    "            A list of one or more of the shortest names  \n",
    "\"\"\"\n",
    "\n",
    "def find_shortest_name(names_list):\n",
    "    #Set the shortest name as the first name on the list\n",
    "    shortest_name = names_list[0].rstrip(\"\\n\")\n",
    "    shortest_name_list = []\n",
    "    \n",
    "    #Loop through the list of names parameter\n",
    "    for name in names_list:\n",
    "        #Strip new lines from the name being read\n",
    "        current_name = name.rstrip('\\n')\n",
    "        \n",
    "        #Check if the current name from the list is the shortest name\n",
    "        if(len(current_name)<len(shortest_name)):\n",
    "            shortest_name = current_name\n",
    "            #Clear the list of shortest names if a single shorter name exists\n",
    "            if(len(shortest_name) < len(shortest_name_list[0])):\n",
    "                shortest_name_list.clear()\n",
    "            \n",
    "        #Check if the current name from the list has the same length as the shortest name\n",
    "        elif(len(current_name)==len(shortest_name)):\n",
    "            shortest_name_list.append(current_name.rstrip('\\n'))\n",
    "            if shortest_name not in shortest_name_list:\n",
    "                shortest_name_list.append(shortest_name.rstrip('\\n'))\n",
    "    \n",
    "    #Print the list of names if the shortest name found is longer than\n",
    "    #the length of names in the shortest names list\n",
    "    if(len(shortest_name_list) > 0):\n",
    "        print(shortest_name_list)\n",
    "    \n",
    "    #Print the shortest name\n",
    "    else:\n",
    "        print(shortest_name)\n",
    "\n",
    "find_shortest_name(name_list)"
   ]
  },
  {
   "cell_type": "code",
   "execution_count": null,
   "id": "5c1d1a1f",
   "metadata": {},
   "outputs": [],
   "source": []
  }
 ],
 "metadata": {
  "kernelspec": {
   "display_name": "Python 3 (ipykernel)",
   "language": "python",
   "name": "python3"
  },
  "language_info": {
   "codemirror_mode": {
    "name": "ipython",
    "version": 3
   },
   "file_extension": ".py",
   "mimetype": "text/x-python",
   "name": "python",
   "nbconvert_exporter": "python",
   "pygments_lexer": "ipython3",
   "version": "3.11.4"
  }
 },
 "nbformat": 4,
 "nbformat_minor": 5
}
