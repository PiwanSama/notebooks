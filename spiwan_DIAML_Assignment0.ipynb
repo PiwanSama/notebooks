{
 "cells": [
  {
   "cell_type": "markdown",
   "id": "eb09e47a",
   "metadata": {},
   "source": [
    "## Data, Inference, and Applied Machine Learning :: 18785 R - Assignment 0\n",
    "\n",
    "**Task:**\n",
    "\n",
    "● prints out \"Hello Data Inference and Applied Machine Learning\"  \n",
    "● defines the values of three famous mathematical constants and describes their\n",
    "relevance: pi, Euler's constant (e) and the Golden Ratio (phi). Description should be\n",
    "inserted as comments  \n",
    "● The final part of the code should print out the sum of the three constants  \n",
    "\n",
    "******************************************************\n",
    "**Name: Samalie Piwan**  \n",
    "**Andrew ID: spiwan**  \n",
    "**Semester: Fall 2023**  \n",
    "**Last modified: 30th August 2023**  \n",
    "******************************************************"
   ]
  },
  {
   "cell_type": "markdown",
   "id": "9b550e57",
   "metadata": {},
   "source": [
    "Import the python math library to access the math constants pi and Euler's constant"
   ]
  },
  {
   "cell_type": "code",
   "execution_count": 7,
   "id": "8590115e",
   "metadata": {},
   "outputs": [],
   "source": [
    "import math"
   ]
  },
  {
   "cell_type": "markdown",
   "id": "e142b8f6",
   "metadata": {},
   "source": [
    "Print the text \"Hello Data Inference and Applied Machine Learning\""
   ]
  },
  {
   "cell_type": "code",
   "execution_count": 8,
   "id": "62466c4c",
   "metadata": {},
   "outputs": [
    {
     "name": "stdout",
     "output_type": "stream",
     "text": [
      "Hello Data Inference and Applied Machine Learning\n"
     ]
    }
   ],
   "source": [
    "print(\"Hello Data Inference and Applied Machine Learning\");"
   ]
  },
  {
   "cell_type": "markdown",
   "id": "7b0353e8",
   "metadata": {},
   "source": [
    "Initialize a variable pi to and assign it the math constant pi"
   ]
  },
  {
   "cell_type": "code",
   "execution_count": 9,
   "id": "d8720491",
   "metadata": {},
   "outputs": [],
   "source": [
    "pi = math.pi"
   ]
  },
  {
   "cell_type": "markdown",
   "id": "666f3626",
   "metadata": {},
   "source": [
    "Initialize a variable e and assign it the math constant Euler's constant"
   ]
  },
  {
   "cell_type": "code",
   "execution_count": 10,
   "id": "5e05b6d7",
   "metadata": {},
   "outputs": [],
   "source": [
    "e = math.e"
   ]
  },
  {
   "cell_type": "markdown",
   "id": "9fbe00eb",
   "metadata": {},
   "source": [
    "Initialize a variable phi to hold the Golden Ratio, and perform a calculation that will return the approximate value of the golden ratio which is 1.618"
   ]
  },
  {
   "cell_type": "code",
   "execution_count": 14,
   "id": "cbea5b5f",
   "metadata": {},
   "outputs": [],
   "source": [
    "phi = (1 + math.sqrt(5)) / 2"
   ]
  },
  {
   "cell_type": "markdown",
   "id": "11e6b323",
   "metadata": {},
   "source": [
    "Print the sum of the three constants pi, e and phi"
   ]
  },
  {
   "cell_type": "code",
   "execution_count": 15,
   "id": "2d222687",
   "metadata": {},
   "outputs": [
    {
     "name": "stdout",
     "output_type": "stream",
     "text": [
      "7.477908470798733\n"
     ]
    }
   ],
   "source": [
    "print(pi + e + phi)"
   ]
  }
 ],
 "metadata": {
  "kernelspec": {
   "display_name": "Python 3 (ipykernel)",
   "language": "python",
   "name": "python3"
  },
  "language_info": {
   "codemirror_mode": {
    "name": "ipython",
    "version": 3
   },
   "file_extension": ".py",
   "mimetype": "text/x-python",
   "name": "python",
   "nbconvert_exporter": "python",
   "pygments_lexer": "ipython3",
   "version": "3.11.4"
  }
 },
 "nbformat": 4,
 "nbformat_minor": 5
}
