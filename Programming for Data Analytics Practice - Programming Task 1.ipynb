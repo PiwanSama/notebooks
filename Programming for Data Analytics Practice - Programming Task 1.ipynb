{
 "cells": [
  {
   "cell_type": "code",
   "execution_count": null,
   "id": "256aec3d",
   "metadata": {},
   "outputs": [],
   "source": [
    "\"\"\"This notebook covers Practice Programming Task 1 of the course 04-638 A: Programming for Data Analytics.\n",
    "\n",
    "******************************************************\n",
    "Name: Samalie Piwan\n",
    "Andrew ID: spiwan\n",
    "Semester: Fall 2023\n",
    "Course: Programming for Data Analytics\n",
    "Last modified: 5th September 2023\n",
    "******************************************************\n",
    "\n",
    "\"\"\""
   ]
  },
  {
   "cell_type": "markdown",
   "id": "0499c71b",
   "metadata": {},
   "source": [
    "### Exercise 1, 2 and 3"
   ]
  },
  {
   "cell_type": "code",
   "execution_count": 50,
   "id": "a090d99e",
   "metadata": {},
   "outputs": [
    {
     "name": "stdout",
     "output_type": "stream",
     "text": [
      "Enter two numbers to perform arithmetic, or enter 'exit' or 'quit' to close the application: \n",
      "\n",
      "First number exit\n",
      "Closing the application...\n"
     ]
    }
   ],
   "source": [
    "\"\"\"\n",
    "    This application prompts the user to input two numbers and returns their sum, difference, product, and quotient in a tuple.\n",
    "    It also determines whether an arithmetic response is even or odd\n",
    "    The user can exit the application by entering 'quit' or 'exit' when prompted for input\n",
    "\n",
    "    Attributes\n",
    "    -----------\n",
    "        show_menu : boolean\n",
    "            A flag that determines whether the menu should be displayed\n",
    "    Methods\n",
    "    -----------\n",
    "        perform_arithmetic(a,b)\n",
    "            Takes two integers a and b, and returns tuple that contains their sum, difference, product, and quotient\n",
    "        odd_even(num):\n",
    "            Takes an integer num and determines whether it is an even or odd number\n",
    "          \n",
    "\"\"\"\n",
    "\n",
    "show_menu = False\n",
    "    \n",
    "def perform_arithmetic(a,b):\n",
    "    \"\"\"\n",
    "    This function takes two numbers as input from the user and returns their sum, difference, product, \n",
    "    and quotient in a tuple.\n",
    "    It then prints whether each arithmetic calculation result is even or odd\n",
    "    \n",
    "    Parameters\n",
    "    -----------\n",
    "        a : int\n",
    "            The first number entered by the user to be computed\n",
    "        b : int\n",
    "            The second number entered by the user to be computed\n",
    "    Return\n",
    "    -----------\n",
    "        arithmetic_response : tuple\n",
    "            A tuple that contains the sum, difference, product, and quotient of the two numbers entered\n",
    "    \"\"\"\n",
    "    \n",
    "    a = int(a)\n",
    "    b = int(b)\n",
    "    summ = a + b\n",
    "    difference = a - b\n",
    "    product = a * b\n",
    "    quotient = a // b\n",
    "\n",
    "    print(\"\\n\")\n",
    "\n",
    "    print(f\"The sum is {summ}\")\n",
    "    print(f\"The difference is {difference}\")\n",
    "    print(f\"The product is {product}\")\n",
    "    print(f\"The quotient is {quotient}\")\n",
    "\n",
    "    if(summ>100):\n",
    "        print(\"The sum is greater than 100\")\n",
    "    else:\n",
    "        print(\"The sum is not greater than 100\")\n",
    "        \n",
    "    arithmetic_response = (summ, difference, product, quotient)\n",
    "    print(arithmetic_response)\n",
    "    return (arithmetic_response)\n",
    "        \n",
    "def odd_even(num):\n",
    "    \"\"\"\n",
    "    This function determines whether a number is an even or odd number\n",
    "    \n",
    "    Parameters\n",
    "    -----------\n",
    "        num : int\n",
    "            The number to check if is even or odd\n",
    "    \"\"\"\n",
    "    \n",
    "    if num%2 == 0:\n",
    "        print(\"Even\")\n",
    "    else:\n",
    "        return print(\"Odd\")\n",
    "\n",
    "while(not show_menu):\n",
    "    num_one = input(\"Enter two numbers to perform arithmetic, or enter 'exit' or 'quit' to close the application: \\n\\nFirst number \")\n",
    "    if(num_one=='quit'or num_one=='exit'):\n",
    "        print(\"Closing the application...\")\n",
    "        show_menu = True\n",
    "    else:\n",
    "        num_two = input(\"Second number \")\n",
    "        if(num_two=='quit'or num_two=='exit'):\n",
    "            print(\"Closing the application...\")\n",
    "            show_menu = True\n",
    "        else:\n",
    "            perform_arithmetic(num_one, num_two)"
   ]
  },
  {
   "cell_type": "markdown",
   "id": "d07d14ba",
   "metadata": {},
   "source": [
    "### Exercise 4"
   ]
  },
  {
   "cell_type": "code",
   "execution_count": null,
   "id": "daa2e29e",
   "metadata": {},
   "outputs": [],
   "source": [
    "def calculate_average():\n",
    "    user_input = 0\n",
    "    num_list = []\n",
    "    \n",
    "    while(user_input != -1):\n",
    "        user_input = int(input(\"Enter a number to find average, or enter '-1' to calculate the average and close the application: \\nNumber:\"))\n",
    "        \n",
    "        if(user_input != -1):\n",
    "            num_list.append(user_input)\n",
    "        else:\n",
    "            average = round(sum(num_list) / len(num_list), 2)\n",
    "            print(f\"The average of numbers entered is {average}\")\n",
    "            print(\"Closing the application...\")"
   ]
  },
  {
   "cell_type": "code",
   "execution_count": null,
   "id": "c0b60044",
   "metadata": {},
   "outputs": [],
   "source": []
  },
  {
   "cell_type": "code",
   "execution_count": null,
   "id": "d63e21c1",
   "metadata": {},
   "outputs": [],
   "source": []
  }
 ],
 "metadata": {
  "kernelspec": {
   "display_name": "Python 3 (ipykernel)",
   "language": "python",
   "name": "python3"
  },
  "language_info": {
   "codemirror_mode": {
    "name": "ipython",
    "version": 3
   },
   "file_extension": ".py",
   "mimetype": "text/x-python",
   "name": "python",
   "nbconvert_exporter": "python",
   "pygments_lexer": "ipython3",
   "version": "3.11.4"
  }
 },
 "nbformat": 4,
 "nbformat_minor": 5
}
