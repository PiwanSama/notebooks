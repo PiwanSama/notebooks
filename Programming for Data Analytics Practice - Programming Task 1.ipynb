{
 "cells": [
  {
   "cell_type": "code",
   "execution_count": null,
   "id": "256aec3d",
   "metadata": {},
   "outputs": [],
   "source": [
    "\"\"\"This notebook covers Practice Programming Task 1 of the course 04-638 A: Programming for Data Analytics.\n",
    "\n",
    "******************************************************\n",
    "Name: Samalie Piwan\n",
    "Andrew ID: spiwan\n",
    "Semester: Fall 2023\n",
    "Course: Programming for Data Analytics\n",
    "Last modified: 5th September 2023\n",
    "******************************************************\n",
    "\n",
    "\"\"\""
   ]
  },
  {
   "cell_type": "markdown",
   "id": "bb40a82c",
   "metadata": {},
   "source": [
    "### Exercise One"
   ]
  },
  {
   "cell_type": "markdown",
   "id": "0499c71b",
   "metadata": {},
   "source": [
    "#### a) Write a program that takes two numbers as input from the user and prints their sum using f-string format"
   ]
  },
  {
   "cell_type": "code",
   "execution_count": 145,
   "id": "9a9db985",
   "metadata": {},
   "outputs": [
    {
     "name": "stdout",
     "output_type": "stream",
     "text": [
      "Enter two numbers to find their sum.\n",
      "Enter the first number:2\n",
      "Enter the second number3\n",
      "The sum is 5\n"
     ]
    }
   ],
   "source": [
    "\"\"\"\n",
    "    This application prompts the user to input two numbers and returns their sum\n",
    "\n",
    "    Attributes\n",
    "    -----------\n",
    "        num_one : int\n",
    "            The first number entered by the user to be computed\n",
    "        num_two : int\n",
    "            The second number entered by the user to be computed\n",
    "    Return\n",
    "    -----------\n",
    "        sum : int\n",
    "            The sum of the two numbers entered by the user     \n",
    "\"\"\"\n",
    "\n",
    "num_one = input(\"Enter two numbers to find their sum.\\nEnter the first number:\")\n",
    "num_two = input(\"Enter the second number\")\n",
    "summation = int(num_one) + int(num_two)\n",
    "print(f\"The sum is {summation}\")"
   ]
  },
  {
   "cell_type": "markdown",
   "id": "170ebfd4",
   "metadata": {},
   "source": [
    "#### b) Enhance the previous program to also print the difference, product, and quotient of the two numbers."
   ]
  },
  {
   "cell_type": "code",
   "execution_count": 146,
   "id": "3c4563dd",
   "metadata": {},
   "outputs": [
    {
     "name": "stdout",
     "output_type": "stream",
     "text": [
      "Enter two numbers to find their sum, difference, product, and quotient\n",
      "Enter the first number:4\n",
      "Enter the second number5\n",
      "The sum is 9\n",
      "The difference is -1\n",
      "The product is 20\n",
      "The quotient is 0\n"
     ]
    }
   ],
   "source": [
    "\"\"\"\n",
    "    This application prompts the user to input two numbers and returns their sum, difference, product, and quotient\n",
    "\n",
    "    Attributes\n",
    "    -----------\n",
    "        num_one : int\n",
    "            The first number entered by the user to be computed\n",
    "        num_two : int\n",
    "            The second number entered by the user to be computed\n",
    "    Return\n",
    "    -----------\n",
    "        sum : int\n",
    "            The sum of the two numbers entered by the user\n",
    "        difference : int\n",
    "            The difference of the two numbers entered by the user\n",
    "        product : int\n",
    "            The product of the two numbers entered by the use\n",
    "        quotient : int\n",
    "            The quotient of the two numbers entered by the use\n",
    "\"\"\"\n",
    "\n",
    "num_one = input(\"Enter two numbers to find their sum, difference, product, and quotient\\nEnter the first number:\")\n",
    "num_two = input(\"Enter the second number\")\n",
    "num_one = int(num_one)\n",
    "num_two = int(num_two)\n",
    "\n",
    "summation = num_one + num_two\n",
    "difference = num_one - num_two\n",
    "product = num_one * num_two\n",
    "quotient = num_one // num_two\n",
    "print(f\"The sum is {summation}\")\n",
    "print(f\"The difference is {difference}\")\n",
    "print(f\"The product is {product}\")\n",
    "print(f\"The quotient is {quotient}\")"
   ]
  },
  {
   "cell_type": "markdown",
   "id": "cb229da6",
   "metadata": {},
   "source": [
    "#### c) Modify the program to check if the sum of the two numbers is greater than 100. If it is, print \"Sum is greater than 100,\" otherwise print \"Sum is not greater than 100.\""
   ]
  },
  {
   "cell_type": "code",
   "execution_count": 155,
   "id": "d64b63f0",
   "metadata": {},
   "outputs": [
    {
     "name": "stdout",
     "output_type": "stream",
     "text": [
      "Enter two numbers to find their sum, difference, product, and quotient\n",
      "Enter the first number: 90\n",
      "Enter the second number: 60\n",
      "\n",
      "The sum is 150\n",
      "The difference is 30\n",
      "The product is 5400\n",
      "The quotient is 1\n",
      "\n",
      "The sum is greater than 100\n"
     ]
    }
   ],
   "source": [
    "\"\"\"\n",
    "    This application prompts the user to input two numbers and returns their sum, difference, product, and quotient\n",
    "\n",
    "    Attributes\n",
    "    -----------\n",
    "        num_one : int\n",
    "            The first number entered by the user to be computed\n",
    "        num_two : int\n",
    "            The second number entered by the user to be computed\n",
    "    Return\n",
    "    -----------\n",
    "        sum : int\n",
    "            The sum of the two numbers entered by the user\n",
    "        difference : int\n",
    "            The difference of the two numbers entered by the user\n",
    "        product : int\n",
    "            The product of the two numbers entered by the use\n",
    "        quotient : int\n",
    "            The quotient of the two numbers entered by the use\n",
    "\"\"\"\n",
    "\n",
    "num_one = input(\"Enter two numbers to find their sum, difference, product, and quotient\\nEnter the first number: \")\n",
    "num_two = input(\"Enter the second number: \")\n",
    "num_one = int(num_one)\n",
    "num_two = int(num_two)\n",
    "\n",
    "summation = num_one + num_two\n",
    "difference = num_one - num_two\n",
    "product = num_one * num_two\n",
    "quotient = num_one // num_two\n",
    "print(f\"\\nThe sum is {summation}\")\n",
    "print(f\"The difference is {difference}\")\n",
    "print(f\"The product is {product}\")\n",
    "print(f\"The quotient is {quotient}\")\n",
    "if(summation>100):\n",
    "    print(\"\\nThe sum is greater than 100\")\n",
    "else:\n",
    "    print(\"\\nThe sum is not greater than 100\")\n"
   ]
  },
  {
   "cell_type": "markdown",
   "id": "bac9d46e",
   "metadata": {},
   "source": [
    "### Exercise 2"
   ]
  },
  {
   "cell_type": "code",
   "execution_count": 158,
   "id": "a090d99e",
   "metadata": {},
   "outputs": [
    {
     "name": "stdout",
     "output_type": "stream",
     "text": [
      "Enter two numbers to perform arithmetic, or enter 'exit' or 'quit' to close the application: \n",
      "\n",
      "First number: 90\n",
      "Second number: 20\n",
      "The sum is greater than 100\n",
      "(110, 70, 1800, 4)\n",
      "Even\n",
      "Even\n",
      "Even\n",
      "Even\n"
     ]
    },
    {
     "ename": "KeyboardInterrupt",
     "evalue": "Interrupted by user",
     "output_type": "error",
     "traceback": [
      "\u001b[1;31m---------------------------------------------------------------------------\u001b[0m",
      "\u001b[1;31mKeyboardInterrupt\u001b[0m                         Traceback (most recent call last)",
      "Cell \u001b[1;32mIn[158], line 75\u001b[0m\n\u001b[0;32m     72\u001b[0m         \u001b[38;5;28mprint\u001b[39m(\u001b[38;5;124m\"\u001b[39m\u001b[38;5;124mOdd\u001b[39m\u001b[38;5;124m\"\u001b[39m)\n\u001b[0;32m     74\u001b[0m \u001b[38;5;28;01mwhile\u001b[39;00m(\u001b[38;5;129;01mnot\u001b[39;00m show_menu):\n\u001b[1;32m---> 75\u001b[0m     num_one \u001b[38;5;241m=\u001b[39m \u001b[38;5;28minput\u001b[39m(\u001b[38;5;124m\"\u001b[39m\u001b[38;5;124mEnter two numbers to perform arithmetic, or enter \u001b[39m\u001b[38;5;124m'\u001b[39m\u001b[38;5;124mexit\u001b[39m\u001b[38;5;124m'\u001b[39m\u001b[38;5;124m or \u001b[39m\u001b[38;5;124m'\u001b[39m\u001b[38;5;124mquit\u001b[39m\u001b[38;5;124m'\u001b[39m\u001b[38;5;124m to close the application: \u001b[39m\u001b[38;5;130;01m\\n\u001b[39;00m\u001b[38;5;130;01m\\n\u001b[39;00m\u001b[38;5;124mFirst number: \u001b[39m\u001b[38;5;124m\"\u001b[39m)\n\u001b[0;32m     76\u001b[0m     \u001b[38;5;28;01mif\u001b[39;00m(num_one\u001b[38;5;241m==\u001b[39m\u001b[38;5;124m'\u001b[39m\u001b[38;5;124mquit\u001b[39m\u001b[38;5;124m'\u001b[39m\u001b[38;5;129;01mor\u001b[39;00m num_one\u001b[38;5;241m==\u001b[39m\u001b[38;5;124m'\u001b[39m\u001b[38;5;124mexit\u001b[39m\u001b[38;5;124m'\u001b[39m):\n\u001b[0;32m     77\u001b[0m         \u001b[38;5;28mprint\u001b[39m(\u001b[38;5;124m\"\u001b[39m\u001b[38;5;124mClosing the application...\u001b[39m\u001b[38;5;124m\"\u001b[39m)\n",
      "File \u001b[1;32m~\\anaconda3\\Lib\\site-packages\\ipykernel\\kernelbase.py:1175\u001b[0m, in \u001b[0;36mKernel.raw_input\u001b[1;34m(self, prompt)\u001b[0m\n\u001b[0;32m   1171\u001b[0m \u001b[38;5;28;01mif\u001b[39;00m \u001b[38;5;129;01mnot\u001b[39;00m \u001b[38;5;28mself\u001b[39m\u001b[38;5;241m.\u001b[39m_allow_stdin:\n\u001b[0;32m   1172\u001b[0m     \u001b[38;5;28;01mraise\u001b[39;00m StdinNotImplementedError(\n\u001b[0;32m   1173\u001b[0m         \u001b[38;5;124m\"\u001b[39m\u001b[38;5;124mraw_input was called, but this frontend does not support input requests.\u001b[39m\u001b[38;5;124m\"\u001b[39m\n\u001b[0;32m   1174\u001b[0m     )\n\u001b[1;32m-> 1175\u001b[0m \u001b[38;5;28;01mreturn\u001b[39;00m \u001b[38;5;28mself\u001b[39m\u001b[38;5;241m.\u001b[39m_input_request(\n\u001b[0;32m   1176\u001b[0m     \u001b[38;5;28mstr\u001b[39m(prompt),\n\u001b[0;32m   1177\u001b[0m     \u001b[38;5;28mself\u001b[39m\u001b[38;5;241m.\u001b[39m_parent_ident[\u001b[38;5;124m\"\u001b[39m\u001b[38;5;124mshell\u001b[39m\u001b[38;5;124m\"\u001b[39m],\n\u001b[0;32m   1178\u001b[0m     \u001b[38;5;28mself\u001b[39m\u001b[38;5;241m.\u001b[39mget_parent(\u001b[38;5;124m\"\u001b[39m\u001b[38;5;124mshell\u001b[39m\u001b[38;5;124m\"\u001b[39m),\n\u001b[0;32m   1179\u001b[0m     password\u001b[38;5;241m=\u001b[39m\u001b[38;5;28;01mFalse\u001b[39;00m,\n\u001b[0;32m   1180\u001b[0m )\n",
      "File \u001b[1;32m~\\anaconda3\\Lib\\site-packages\\ipykernel\\kernelbase.py:1217\u001b[0m, in \u001b[0;36mKernel._input_request\u001b[1;34m(self, prompt, ident, parent, password)\u001b[0m\n\u001b[0;32m   1214\u001b[0m             \u001b[38;5;28;01mbreak\u001b[39;00m\n\u001b[0;32m   1215\u001b[0m \u001b[38;5;28;01mexcept\u001b[39;00m \u001b[38;5;167;01mKeyboardInterrupt\u001b[39;00m:\n\u001b[0;32m   1216\u001b[0m     \u001b[38;5;66;03m# re-raise KeyboardInterrupt, to truncate traceback\u001b[39;00m\n\u001b[1;32m-> 1217\u001b[0m     \u001b[38;5;28;01mraise\u001b[39;00m \u001b[38;5;167;01mKeyboardInterrupt\u001b[39;00m(\u001b[38;5;124m\"\u001b[39m\u001b[38;5;124mInterrupted by user\u001b[39m\u001b[38;5;124m\"\u001b[39m) \u001b[38;5;28;01mfrom\u001b[39;00m \u001b[38;5;28;01mNone\u001b[39;00m\n\u001b[0;32m   1218\u001b[0m \u001b[38;5;28;01mexcept\u001b[39;00m \u001b[38;5;167;01mException\u001b[39;00m:\n\u001b[0;32m   1219\u001b[0m     \u001b[38;5;28mself\u001b[39m\u001b[38;5;241m.\u001b[39mlog\u001b[38;5;241m.\u001b[39mwarning(\u001b[38;5;124m\"\u001b[39m\u001b[38;5;124mInvalid Message:\u001b[39m\u001b[38;5;124m\"\u001b[39m, exc_info\u001b[38;5;241m=\u001b[39m\u001b[38;5;28;01mTrue\u001b[39;00m)\n",
      "\u001b[1;31mKeyboardInterrupt\u001b[0m: Interrupted by user"
     ]
    }
   ],
   "source": [
    "\"\"\"\n",
    "    This application prompts the user to input two numbers and returns their sum, difference, product, and quotient in a tuple.\n",
    "    It also determines whether an arithmetic response is even or odd\n",
    "    The user can exit the application by entering 'quit' or 'exit' when prompted for input\n",
    "\n",
    "    Attributes\n",
    "    -----------\n",
    "        show_menu : boolean\n",
    "            A flag that determines whether the menu should be displayed\n",
    "    Methods\n",
    "    -----------\n",
    "        perform_arithmetic(a,b)\n",
    "            Takes two integers a and b, and returns tuple that contains their sum, difference, product, and quotient\n",
    "        odd_even(num):\n",
    "            Takes an integer num and determines whether it is an even or odd number\n",
    "          \n",
    "\"\"\"\n",
    "\n",
    "show_menu = False\n",
    "    \n",
    "def perform_arithmetic(a,b):\n",
    "    \"\"\"\n",
    "    This function takes two numbers as input from the user and returns their sum, difference, product, \n",
    "    and quotient in a tuple.\n",
    "    It then prints whether each arithmetic calculation result is even or odd\n",
    "    \n",
    "    Parameters\n",
    "    -----------\n",
    "        a : int\n",
    "            The first number entered by the user to be computed\n",
    "        b : int\n",
    "            The second number entered by the user to be computed\n",
    "    Return\n",
    "    -----------\n",
    "        arithmetic_response : tuple\n",
    "            A tuple that contains the sum, difference, product, and quotient of the two numbers entered\n",
    "    \"\"\"\n",
    "    \n",
    "    a = int(a)\n",
    "    b = int(b)\n",
    "    summ = a + b\n",
    "    difference = a - b\n",
    "    product = a * b\n",
    "    quotient = a // b\n",
    "    \n",
    "    if(summ>100):\n",
    "        print(\"The sum is greater than 100\")\n",
    "    else:\n",
    "        print(\"The sum is not greater than 100\")\n",
    "        \n",
    "    arithmetic_response = (summ, difference, product, quotient)\n",
    "    print(arithmetic_response)\n",
    "    odd_even(summ)\n",
    "    odd_even(difference)\n",
    "    odd_even(product)\n",
    "    odd_even(quotient)\n",
    "    return (arithmetic_response)\n",
    "        \n",
    "def odd_even(num):\n",
    "    \"\"\"\n",
    "    This function determines whether a number is an even or odd number\n",
    "    \n",
    "    Parameters\n",
    "    -----------\n",
    "        num : int\n",
    "            The number to check if is even or odd\n",
    "    \"\"\"\n",
    "    \n",
    "    if num%2 == 0:\n",
    "        print(\"Even\")\n",
    "    else:\n",
    "        print(\"Odd\")\n",
    "\n",
    "while(not show_menu):\n",
    "    num_one = input(\"Enter two numbers to perform arithmetic, or enter 'exit' or 'quit' to close the application: \\n\\nFirst number: \")\n",
    "    if(num_one=='quit'or num_one=='exit'):\n",
    "        print(\"Closing the application...\")\n",
    "        show_menu = True\n",
    "    else:\n",
    "        num_two = input(\"Second number: \")\n",
    "        if(num_two=='quit'or num_two=='exit'):\n",
    "            print(\"Closing the application...\")\n",
    "            show_menu = True\n",
    "        else:\n",
    "            perform_arithmetic(num_one, num_two)"
   ]
  },
  {
   "cell_type": "markdown",
   "id": "84c19c8b",
   "metadata": {},
   "source": [
    "### Exercise 4"
   ]
  },
  {
   "cell_type": "code",
   "execution_count": 173,
   "id": "920d5803",
   "metadata": {},
   "outputs": [
    {
     "name": "stdout",
     "output_type": "stream",
     "text": [
      "Enter student grades until ready to calculate average, then enter '-1' to find the average and close the application: \n",
      "Student Grade: 89\n",
      "Enter student grades until ready to calculate average, then enter '-1' to find the average and close the application: \n",
      "Student Grade: 90\n",
      "Enter student grades until ready to calculate average, then enter '-1' to find the average and close the application: \n",
      "Student Grade: -1\n",
      "\n",
      "The average of the grades input is 90\n",
      "\n",
      "Exiting the application...\n"
     ]
    }
   ],
   "source": [
    "def calculate_average():\n",
    "    prompt_user = 0\n",
    "    ta_grades_list = []\n",
    "\n",
    "    while(prompt_user != -1):\n",
    "\n",
    "        student_grade = input(\"Enter student grades until ready to calculate average, then enter '-1' to find the average and close the application: \\nStudent Grade: \")\n",
    "\n",
    "        student_grade = int(student_grade)\n",
    "\n",
    "        if(int(student_grade) == -1):\n",
    "            prompt_user = -1\n",
    "            ta_average = round(sum(ta_grades_list) / len(ta_grades_list))\n",
    "            print(f\"\\nThe average of the grades input is {ta_average}\")\n",
    "            print(\"\\nExiting the application...\")\n",
    "        else:\n",
    "            ta_grades_list.append(student_grade)\n",
    "\n",
    "calculate_average()"
   ]
  },
  {
   "cell_type": "markdown",
   "id": "84758b6e",
   "metadata": {},
   "source": [
    "### Exercise 5"
   ]
  },
  {
   "cell_type": "code",
   "execution_count": 176,
   "id": "afd9c5fa",
   "metadata": {},
   "outputs": [
    {
     "name": "stdout",
     "output_type": "stream",
     "text": [
      "Enter student AndrewID and grade, or enter '-1' to close the application: \n",
      "AndrewID: spiwan\n",
      "Enter student mark: 100\n",
      "Enter student AndrewID and grade, or enter '-1' to close the application: \n",
      "AndrewID: pb\n",
      "Enter student mark: 98\n",
      "Enter student AndrewID and grade, or enter '-1' to close the application: \n",
      "AndrewID: lynna\n",
      "Enter student mark: 87\n",
      "Enter student AndrewID and grade, or enter '-1' to close the application: \n",
      "AndrewID: sd\n",
      "Enter student mark: -1\n",
      "{'spiwan': 100, 'pb': 98, 'lynna': 87}\n"
     ]
    }
   ],
   "source": [
    "def calculate_average():\n",
    "    prompt_user = 0\n",
    "    andrew_dict = {}\n",
    "\n",
    "    while(prompt_user != -1):\n",
    "\n",
    "        andrew_id = input(\"Enter student AndrewID and grade, or enter '-1' to close the application: \\nAndrewID: \")\n",
    "        student_grade = input(\"Enter student mark: \")\n",
    "        \n",
    "        student_grade = int(student_grade)\n",
    "\n",
    "        if(int(student_grade) == -1):\n",
    "            prompt_user = -1\n",
    "            print(andrew_dict)\n",
    "        else:\n",
    "            andrew_dict[andrew_id] = student_grade\n",
    "\n",
    "calculate_average()"
   ]
  },
  {
   "cell_type": "markdown",
   "id": "43c685ad",
   "metadata": {},
   "source": [
    "### Exercise 6"
   ]
  },
  {
   "cell_type": "code",
   "execution_count": 177,
   "id": "ac2377f4",
   "metadata": {},
   "outputs": [
    {
     "name": "stdout",
     "output_type": "stream",
     "text": [
      "Enter student AndrewID and grade, or enter '-1' to close the application: \n",
      "AndrewID: spiwan\n",
      "Enter student mark: 92\n",
      "Enter student AndrewID and grade, or enter '-1' to close the application: \n",
      "AndrewID: foger\n",
      "Enter student mark: 87\n",
      "Enter student AndrewID and grade, or enter '-1' to close the application: \n",
      "AndrewID: popo\n",
      "Enter student mark: 45\n",
      "Enter student AndrewID and grade, or enter '-1' to close the application: \n",
      "AndrewID: dddf\n",
      "Enter student mark: -1\n",
      "\n",
      "Student Dictionary:\n",
      "{'spiwan': 92, 'foger': 87, 'popo': 45}\n",
      "\n",
      "Grades\t Number of Students\n",
      "A \t 1\n",
      "B \t 1\n",
      "C \t 0\n",
      "D \t 0\n",
      "F \t 1\n",
      "\n",
      "Exiting the application...\n"
     ]
    }
   ],
   "source": [
    "def calculate_average():\n",
    "    prompt_user = 0\n",
    "    a_count = b_count = c_count = d_count = f_count = 0\n",
    "    student_dict = {}\n",
    "    \n",
    "    while(prompt_user != -1):\n",
    "        andrew_id = input(\"Enter student AndrewID and grade, or enter '-1' to close the application: \\nAndrewID: \")\n",
    "        student_grade = input(\"Enter student mark: \")\n",
    "        \n",
    "        student_grade = int(student_grade)\n",
    "        \n",
    "        if(int(student_grade) == -1):\n",
    "            prompt_user = -1\n",
    "            \n",
    "            print(\"\\nStudent Dictionary:\")\n",
    "            print(student_dict)\n",
    "            \n",
    "            print(\"\\nGrades\\t Number of Students\")\n",
    "            print(f\"A \\t {a_count}\")\n",
    "            print(f\"B \\t {b_count}\")\n",
    "            print(f\"C \\t {c_count}\")\n",
    "            print(f\"D \\t {d_count}\")\n",
    "            print(f\"F \\t {f_count}\")\n",
    "            print(\"\\nExiting the application...\")\n",
    "            \n",
    "        else:\n",
    "            student_dict[andrew_id] = student_grade\n",
    "            if(student_grade >= 90):\n",
    "                a_count += 1\n",
    "            elif(80 <= student_grade <= 89):\n",
    "                b_count += 1\n",
    "            elif(70 <= student_grade <= 79):\n",
    "                c_count += 1\n",
    "            elif( 60 <= student_grade <= 69):\n",
    "                d_count += 1\n",
    "            else:\n",
    "                f_count += 1\n",
    "\n",
    "calculate_average()"
   ]
  },
  {
   "cell_type": "markdown",
   "id": "b1c3db80",
   "metadata": {},
   "source": [
    "### Exercise 7\n",
    "\n",
    "Input: A list of lists where there will be 5 lists within the larger list. The 5 lists represent the five courses (Course 0, Course 1, Course 2 etc). Each list will have 10 numbers which represent the marks of 10 students in a course."
   ]
  },
  {
   "cell_type": "code",
   "execution_count": 136,
   "id": "e68f8f1c",
   "metadata": {},
   "outputs": [],
   "source": [
    "def calculate_course_average(grades_list):\n",
    "    zero_avg = one_avg = two_avg = three_avg = four_avg = 0\n",
    "    zero_avg =  round(sum(grades_list[0]) / len(grades_list[0]))\n",
    "    one_avg =  round(sum(grades_list[1]) / len(grades_list[1]))\n",
    "    two_avg =  round(sum(grades_list[2]) / len(grades_list[2]))\n",
    "    three_avg =  round(sum(grades_list[3]) / len(grades_list[3]))\n",
    "    four_avg =  round(sum(grades_list[4]) / len(grades_list[4]))\n",
    "    \n",
    "    \n",
    "    print(\"Courses\\t\\t Average Marks\")\n",
    "    print(f\"Course 0 \\t {zero_avg}\")\n",
    "    print(f\"Course 1 \\t {one_avg}\")\n",
    "    print(f\"Cpurse 2 \\t {two_avg}\")\n",
    "    print(f\"Cpurse 3 \\t {three_avg}\")\n",
    "    print(f\"Course 4 \\t {four_avg}\")\n",
    "        "
   ]
  },
  {
   "cell_type": "code",
   "execution_count": 137,
   "id": "01731372",
   "metadata": {},
   "outputs": [
    {
     "name": "stdout",
     "output_type": "stream",
     "text": [
      "Courses\t\t Average Marks\n",
      "Course 0 \t 74\n",
      "Course 1 \t 72\n",
      "Cpurse 2 \t 77\n",
      "Cpurse 3 \t 68\n",
      "Course 4 \t 69\n"
     ]
    }
   ],
   "source": [
    "calculate_course_average([[79, 76, 87, 58, 75, 65, 68, 68, 66, 93], [68, 51, 87, 78, 54, 85,\n",
    "86, 85, 76, 50], [88, 100, 75, 87, 52, 77, 65, 97, 80, 51], [82, 51,\n",
    "50, 97, 52, 70, 73, 86, 70, 53], [51, 84, 65, 87, 71, 53, 68, 77, 50,\n",
    "80]])"
   ]
  },
  {
   "cell_type": "markdown",
   "id": "86bdc3c0",
   "metadata": {},
   "source": [
    "### Exercise 8"
   ]
  },
  {
   "cell_type": "code",
   "execution_count": 144,
   "id": "8ea3ddfc",
   "metadata": {},
   "outputs": [
    {
     "name": "stdout",
     "output_type": "stream",
     "text": [
      "4\n",
      "Guess the generated random number between 0 and 20:\n",
      "5\n",
      "Your guess 5 is greater than the random number, try again \n",
      "You have tried 1 guesses so far\n",
      "\n",
      "Guess the generated random number between 0 and 20:\n",
      "3\n",
      "Your guess 3 is lower than the random number, try again. \n",
      "You have tried 2 guesses so far\n",
      "\n",
      "Guess the generated random number between 0 and 20:\n",
      "32\n",
      "Your guess 32 is out of range!\n",
      "You have guessed 3 times so far\n",
      "\n",
      "Guess the generated random number between 0 and 20:\n",
      "2\n",
      "Your guess 2 is lower than the random number, try again. \n",
      "You have tried 4 guesses so far\n",
      "\n",
      "Guess the generated random number between 0 and 20:\n",
      "3\n",
      "Your guess 3 is lower than the random number, try again. \n",
      "You have tried 5 guesses so far\n",
      "\n",
      "Guess the generated random number between 0 and 20:\n",
      "4\n",
      "Correct! The random number is 4. \n",
      "You guessed 6 times in total\n",
      "\n"
     ]
    }
   ],
   "source": [
    "import random\n",
    "\n",
    "generated_guess = random.randint(0,20)\n",
    "try_count = 0\n",
    "prompt_input = 0\n",
    "print(generated_guess)\n",
    "\n",
    "while(prompt_input != -1):  \n",
    "    input_guess = input(\"Guess the generated random number between 0 and 20:\\n\")\n",
    "    input_guess = int(input_guess)\n",
    "\n",
    "    if(input_guess > 20 or input_guess < 0):\n",
    "        try_count+=1\n",
    "        print(f\"Your guess {input_guess} is out of range!\\nYou have guessed {try_count} times so far\\n\")\n",
    "    elif(input_guess == generated_guess):\n",
    "        try_count+=1\n",
    "        print(f\"Correct! The random number is {generated_guess}. \\nYou guessed {try_count} times in total\\n\")\n",
    "        prompt_input = -1\n",
    "    elif(input_guess < generated_guess):\n",
    "        try_count+=1\n",
    "        print(f\"Your guess {input_guess} is lower than the random number, try again. \\nYou have tried {try_count} guesses so far\\n\")\n",
    "    elif(input_guess > generated_guess):\n",
    "        try_count+=1\n",
    "        print(f\"Your guess {input_guess} is greater than the random number, try again \\nYou have tried {try_count} guesses so far\\n\")\n",
    "    else:\n",
    "        print(\"Invalid input\")"
   ]
  }
 ],
 "metadata": {
  "kernelspec": {
   "display_name": "Python 3 (ipykernel)",
   "language": "python",
   "name": "python3"
  },
  "language_info": {
   "codemirror_mode": {
    "name": "ipython",
    "version": 3
   },
   "file_extension": ".py",
   "mimetype": "text/x-python",
   "name": "python",
   "nbconvert_exporter": "python",
   "pygments_lexer": "ipython3",
   "version": "3.11.4"
  }
 },
 "nbformat": 4,
 "nbformat_minor": 5
}
