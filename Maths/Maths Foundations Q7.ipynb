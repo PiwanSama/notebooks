{
 "cells": [
  {
   "cell_type": "markdown",
   "id": "aa74e5fb",
   "metadata": {},
   "source": [
    "### 04650 Mathematical Foundations of Machine Learning \n",
    "******************************************************\n",
    "#### Name: Samalie Piwan\n",
    "#### AndrewID: spiwan"
   ]
  },
  {
   "cell_type": "markdown",
   "id": "f7dcc2b1",
   "metadata": {},
   "source": [
    "Cauchy inequality states that |𝑢.𝑣|≤‖𝑢‖‖𝑣‖, where |𝑢.𝑣| is the dot product, while ‖𝑢‖ is the norm. Using python generate a random sequence (𝑎1, 𝑎2,… 𝑎𝑁) where 𝑎𝑖∈ℝ. \n",
    "\n",
    "Let 𝑢𝑖=[𝑎𝑖𝑎𝑖+1𝑎𝑖+2] and 𝑣𝑖=[𝑎𝑖+1𝑎𝑖+2𝑎𝑖+3]\n",
    "\n",
    "Using a plot show that Catchy inequality hold for any pair 𝑢𝑖,𝑣𝑖; 𝑖=1,2,…,𝑁−3"
   ]
  },
  {
   "cell_type": "code",
   "execution_count": 3,
   "id": "9a26a4bc",
   "metadata": {},
   "outputs": [],
   "source": [
    "import numpy as np"
   ]
  },
  {
   "cell_type": "code",
   "execution_count": 2,
   "id": "4de3b507",
   "metadata": {},
   "outputs": [],
   "source": [
    "#Initialize a variable for the number of random numbers to generate\n",
    "N = 50\n",
    "#Generate a list of N random numbers with values between 1 and 100\n",
    "random_list = np.random.randint(1, 100, N+1)"
   ]
  },
  {
   "cell_type": "code",
   "execution_count": 21,
   "id": "aec5f281",
   "metadata": {},
   "outputs": [
    {
     "name": "stdout",
     "output_type": "stream",
     "text": [
      "56\n",
      "78\n",
      "35\n",
      "86\n",
      "71\n",
      "62\n",
      "18\n",
      "39\n",
      "34\n",
      "1\n",
      "73\n",
      "43\n",
      "98\n",
      "3\n",
      "99\n",
      "98\n",
      "80\n",
      "60\n",
      "25\n",
      "58\n",
      "51\n",
      "29\n",
      "22\n",
      "82\n",
      "74\n",
      "85\n",
      "67\n",
      "75\n",
      "91\n",
      "92\n",
      "26\n",
      "38\n",
      "35\n",
      "44\n",
      "10\n",
      "81\n",
      "52\n",
      "21\n",
      "93\n",
      "75\n",
      "95\n",
      "40\n",
      "44\n",
      "4\n",
      "64\n",
      "21\n",
      "9\n",
      "97\n",
      "10\n",
      "64\n",
      "74\n"
     ]
    }
   ],
   "source": [
    "dot_product_list = []\n",
    "\n",
    "for i in range(len(random_list)):\n",
    "    u = random_list[i]\n",
    "    v = random_list[i+1]\n",
    "    \n",
    "    vector = np.array([u,v])"
   ]
  },
  {
   "cell_type": "code",
   "execution_count": null,
   "id": "a6abcdfd",
   "metadata": {},
   "outputs": [],
   "source": []
  }
 ],
 "metadata": {
  "kernelspec": {
   "display_name": "Python 3 (ipykernel)",
   "language": "python",
   "name": "python3"
  },
  "language_info": {
   "codemirror_mode": {
    "name": "ipython",
    "version": 3
   },
   "file_extension": ".py",
   "mimetype": "text/x-python",
   "name": "python",
   "nbconvert_exporter": "python",
   "pygments_lexer": "ipython3",
   "version": "3.11.4"
  }
 },
 "nbformat": 4,
 "nbformat_minor": 5
}
