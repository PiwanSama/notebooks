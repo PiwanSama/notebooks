{
 "cells": [
  {
   "cell_type": "code",
   "execution_count": 1,
   "id": "8d0cb5ef",
   "metadata": {},
   "outputs": [],
   "source": [
    "import os\n",
    "import numpy as np \n",
    "from PIL import Image\n",
    "import matplotlib.pyplot as plt\n",
    "from sklearn import preprocessing"
   ]
  },
  {
   "cell_type": "markdown",
   "id": "ef2be4fb",
   "metadata": {},
   "source": [
    "Get the number of rows and columns from the first image in the directory"
   ]
  },
  {
   "cell_type": "code",
   "execution_count": 2,
   "id": "33fd527f",
   "metadata": {},
   "outputs": [],
   "source": [
    "image = Image.open('yalefaces/subject01.centerlight')\n",
    "nrows, ncolumns = image.height, image.width"
   ]
  },
  {
   "cell_type": "markdown",
   "id": "4c2a6a86",
   "metadata": {},
   "source": [
    "Define a function to get load and preprocess the data"
   ]
  },
  {
   "cell_type": "code",
   "execution_count": 3,
   "id": "db334e30",
   "metadata": {},
   "outputs": [],
   "source": [
    "def process_images(image_directory):\n",
    "    image_files = []\n",
    "    for i, file in enumerate(os.listdir(image_directory)):\n",
    "        image = Image.open(os.path.join(image_directory, file))\n",
    "        image_files.append(np.asarray(image.getdata()))\n",
    "    return image_files"
   ]
  },
  {
   "cell_type": "markdown",
   "id": "6691f401",
   "metadata": {},
   "source": [
    "Load the images from the 'yalefaces' directory and flatten them into a dataset"
   ]
  },
  {
   "cell_type": "code",
   "execution_count": 5,
   "id": "a88d1fa0",
   "metadata": {},
   "outputs": [],
   "source": [
    "X = process_images('yalefaces')"
   ]
  },
  {
   "cell_type": "markdown",
   "id": "1f334a8b",
   "metadata": {},
   "source": [
    "Confirm the shape of the flattened dataset. Since the dataset contains 165 images and we have resized the images into 300 by 400 size, we should expect the shape to by 165 by 300 * 400"
   ]
  },
  {
   "cell_type": "code",
   "execution_count": null,
   "id": "76e2529d",
   "metadata": {},
   "outputs": [],
   "source": []
  }
 ],
 "metadata": {
  "kernelspec": {
   "display_name": "Python 3 (ipykernel)",
   "language": "python",
   "name": "python3"
  },
  "language_info": {
   "codemirror_mode": {
    "name": "ipython",
    "version": 3
   },
   "file_extension": ".py",
   "mimetype": "text/x-python",
   "name": "python",
   "nbconvert_exporter": "python",
   "pygments_lexer": "ipython3",
   "version": "3.11.4"
  }
 },
 "nbformat": 4,
 "nbformat_minor": 5
}
