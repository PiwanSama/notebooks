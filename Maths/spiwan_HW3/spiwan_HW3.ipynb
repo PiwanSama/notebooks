{
 "cells": [
  {
   "cell_type": "code",
   "execution_count": 1,
   "id": "8d0cb5ef",
   "metadata": {},
   "outputs": [],
   "source": [
    "import os\n",
    "import numpy as np \n",
    "from PIL import Image\n",
    "import matplotlib.pyplot as plt\n",
    "from sklearn import preprocessing\n",
    "from sympy import *"
   ]
  },
  {
   "cell_type": "markdown",
   "id": "c31f01b3",
   "metadata": {},
   "source": [
    "#### Part 1: Dataset Selection and Preprocessing (15 points)"
   ]
  },
  {
   "cell_type": "markdown",
   "id": "3652ccc2",
   "metadata": {},
   "source": [
    "Get the number of rows and columns from the first image in the directory"
   ]
  },
  {
   "cell_type": "code",
   "execution_count": 2,
   "id": "3b2af4df",
   "metadata": {},
   "outputs": [],
   "source": [
    "image = Image.open('yalefaces/subject01.centerlight')\n",
    "nrows, ncolumns = image.height, image.width"
   ]
  },
  {
   "cell_type": "markdown",
   "id": "c6e71959",
   "metadata": {},
   "source": [
    "Define a function to get load and preprocess the data"
   ]
  },
  {
   "cell_type": "code",
   "execution_count": 3,
   "id": "c2d41f69",
   "metadata": {},
   "outputs": [],
   "source": [
    "def process_images(image_directory):\n",
    "    image_files = []\n",
    "    for i, file in enumerate(os.listdir(image_directory)):\n",
    "        image = Image.open(os.path.join(image_directory, file))\n",
    "        image = image.resize((50, 50)).convert('L')\n",
    "        image_files.append(np.asarray(image.getdata()))\n",
    "    return image_files"
   ]
  },
  {
   "cell_type": "markdown",
   "id": "24deb0e2",
   "metadata": {},
   "source": [
    "#### Part 2: Eigenface Generation (20 points)"
   ]
  },
  {
   "cell_type": "markdown",
   "id": "d32e8b60",
   "metadata": {},
   "source": [
    "Load the images from the 'yalefaces' directory and flatten them into a dataset"
   ]
  },
  {
   "cell_type": "code",
   "execution_count": 4,
   "id": "ec72c07f",
   "metadata": {},
   "outputs": [],
   "source": [
    "X = np.asarray(process_images('yalefaces'))"
   ]
  },
  {
   "cell_type": "markdown",
   "id": "4fd574c9",
   "metadata": {},
   "source": [
    "Confirm the shape of the flattened dataset. Since the dataset contains 165 images and we have resized the images into 300 by 400 size, we should expect the shape to by 165 by 64 * 64"
   ]
  },
  {
   "cell_type": "code",
   "execution_count": 5,
   "id": "a5f6213d",
   "metadata": {},
   "outputs": [
    {
     "data": {
      "text/plain": [
       "(165, 2500)"
      ]
     },
     "execution_count": 5,
     "metadata": {},
     "output_type": "execute_result"
    }
   ],
   "source": [
    "X.shape"
   ]
  },
  {
   "cell_type": "markdown",
   "id": "542a7636",
   "metadata": {},
   "source": [
    "Calculate the average face image"
   ]
  },
  {
   "cell_type": "code",
   "execution_count": 6,
   "id": "4f0fd5d1",
   "metadata": {},
   "outputs": [],
   "source": [
    "# Get the length of the images array\n",
    "length_dataset = X.shape[0]\n",
    "\n",
    "mean_face = np.sum(X, axis=0, dtype='float64') / length_dataset"
   ]
  },
  {
   "cell_type": "markdown",
   "id": "3e621928",
   "metadata": {},
   "source": [
    "Find the mean matrix using the numpy tile function. np.tile constructs an array by repeating a given dataset by the number of times specified"
   ]
  },
  {
   "cell_type": "code",
   "execution_count": 7,
   "id": "691a1aaf",
   "metadata": {},
   "outputs": [],
   "source": [
    "mean_matrix = np.tile(mean_face, (length_dataset, 1)) "
   ]
  },
  {
   "cell_type": "markdown",
   "id": "8a22f3c8",
   "metadata": {},
   "source": [
    "Mean-center the image data. Mean-centering calculates the difference between the mean value and the actual value, ensuring that we are only looking at the variance in the dataset"
   ]
  },
  {
   "cell_type": "code",
   "execution_count": 8,
   "id": "57f494e5",
   "metadata": {},
   "outputs": [],
   "source": [
    "X_centered = X - mean_matrix"
   ]
  },
  {
   "cell_type": "markdown",
   "id": "6a93f889",
   "metadata": {},
   "source": [
    "Caclulate the co-variance in the data. Convariance is a measure of the relationship between two variables.\n",
    "\n",
    "In this case, we calculate the co-variance by finding the dot product of the image data and a transposed version of the image data"
   ]
  },
  {
   "cell_type": "code",
   "execution_count": 9,
   "id": "8f83ffd2",
   "metadata": {},
   "outputs": [],
   "source": [
    "covariance_matrix = (X_centered.dot(X_centered.T)) / length_dataset"
   ]
  },
  {
   "cell_type": "markdown",
   "id": "4c99bb95",
   "metadata": {},
   "source": [
    "Find the eigenvalues and eigenvectors using the covariance matrix. Because they are square and symmetrical, covariance matrixes are diagonalizable, which means an eigendecomposition can be performed on the matrix."
   ]
  },
  {
   "cell_type": "code",
   "execution_count": 10,
   "id": "51b1a157",
   "metadata": {},
   "outputs": [],
   "source": [
    "eigenvalues, eigenvectors = np.linalg.eig(covariance_matrix)"
   ]
  },
  {
   "cell_type": "code",
   "execution_count": 11,
   "id": "c9d53c70",
   "metadata": {},
   "outputs": [
    {
     "data": {
      "text/plain": [
       "array([ 3.33326006e+06+0.00000000e+00j,  1.52599003e+06+0.00000000e+00j,\n",
       "        9.56452718e+05+0.00000000e+00j,  8.07260102e+05+0.00000000e+00j,\n",
       "        5.06382591e+05+0.00000000e+00j,  4.41204630e+05+0.00000000e+00j,\n",
       "        2.90799269e+05+0.00000000e+00j,  2.39541432e+05+0.00000000e+00j,\n",
       "        2.34898615e+05+0.00000000e+00j,  1.94322500e+05+0.00000000e+00j,\n",
       "        1.37847598e+05+0.00000000e+00j,  1.16257401e+05+0.00000000e+00j,\n",
       "        9.36427084e+04+0.00000000e+00j,  9.01826374e+04+0.00000000e+00j,\n",
       "        8.77712605e+04+0.00000000e+00j,  8.04618289e+04+0.00000000e+00j,\n",
       "        7.38324071e+04+0.00000000e+00j,  6.41477082e+04+0.00000000e+00j,\n",
       "        6.22117346e+04+0.00000000e+00j,  5.97069618e+04+0.00000000e+00j,\n",
       "        5.08778993e+04+0.00000000e+00j,  4.72798036e+04+0.00000000e+00j,\n",
       "        4.26912174e+04+0.00000000e+00j,  4.03352813e+04+0.00000000e+00j,\n",
       "        3.77239473e+04+0.00000000e+00j,  3.63773901e+04+0.00000000e+00j,\n",
       "        3.16509969e+04+0.00000000e+00j,  2.91714546e+04+0.00000000e+00j,\n",
       "        2.74524813e+04+0.00000000e+00j,  2.59506954e+04+0.00000000e+00j,\n",
       "        2.55585642e+04+0.00000000e+00j,  2.43793245e+04+0.00000000e+00j,\n",
       "        2.25249704e+04+0.00000000e+00j,  2.12076394e+04+0.00000000e+00j,\n",
       "        2.07314787e+04+0.00000000e+00j,  1.97166869e+04+0.00000000e+00j,\n",
       "        1.73695820e+04+0.00000000e+00j,  1.69726679e+04+0.00000000e+00j,\n",
       "        1.64871188e+04+0.00000000e+00j,  1.56370458e+04+0.00000000e+00j,\n",
       "        1.50494094e+04+0.00000000e+00j,  1.49292282e+04+0.00000000e+00j,\n",
       "        1.36006803e+04+0.00000000e+00j,  1.33161485e+04+0.00000000e+00j,\n",
       "        1.26875991e+04+0.00000000e+00j,  1.23024985e+04+0.00000000e+00j,\n",
       "        1.20854217e+04+0.00000000e+00j,  1.14769580e+04+0.00000000e+00j,\n",
       "        1.10958886e+04+0.00000000e+00j,  1.06036869e+04+0.00000000e+00j,\n",
       "        1.05199100e+04+0.00000000e+00j,  9.89750260e+03+0.00000000e+00j,\n",
       "        9.70540140e+03+0.00000000e+00j,  9.38992289e+03+0.00000000e+00j,\n",
       "        9.08528923e+03+0.00000000e+00j,  8.51830894e+03+0.00000000e+00j,\n",
       "        8.38440344e+03+0.00000000e+00j,  8.08192459e+03+0.00000000e+00j,\n",
       "        7.87070964e+03+0.00000000e+00j,  7.66762856e+03+0.00000000e+00j,\n",
       "        7.56806540e+03+0.00000000e+00j,  7.16235881e+03+0.00000000e+00j,\n",
       "        6.90062536e+03+0.00000000e+00j,  6.70398618e+03+0.00000000e+00j,\n",
       "        6.63551645e+03+0.00000000e+00j,  6.44675275e+03+0.00000000e+00j,\n",
       "        6.23911483e+03+0.00000000e+00j,  5.68230995e+03+0.00000000e+00j,\n",
       "        6.00170599e+03+0.00000000e+00j,  5.90885545e+03+0.00000000e+00j,\n",
       "        5.51449736e+03+0.00000000e+00j,  5.38477770e+03+0.00000000e+00j,\n",
       "        5.23801666e+03+0.00000000e+00j,  5.08305950e+03+0.00000000e+00j,\n",
       "        4.99943348e+03+0.00000000e+00j,  4.71052396e+03+0.00000000e+00j,\n",
       "        4.76749933e+03+0.00000000e+00j,  4.58149019e+03+0.00000000e+00j,\n",
       "        4.46877192e+03+0.00000000e+00j,  4.34381156e+03+0.00000000e+00j,\n",
       "        4.09417090e+03+0.00000000e+00j,  3.79987719e+03+0.00000000e+00j,\n",
       "        3.94626764e+03+0.00000000e+00j,  3.90074924e+03+0.00000000e+00j,\n",
       "        3.50112152e+03+0.00000000e+00j,  3.57701294e+03+0.00000000e+00j,\n",
       "        3.45410989e+03+0.00000000e+00j,  3.32780706e+03+0.00000000e+00j,\n",
       "        3.28704076e+03+0.00000000e+00j,  3.17527532e+03+0.00000000e+00j,\n",
       "        3.16916454e+03+0.00000000e+00j,  3.08512278e+03+0.00000000e+00j,\n",
       "        2.99490633e+03+0.00000000e+00j,  2.86355158e+03+0.00000000e+00j,\n",
       "        2.79704334e+03+0.00000000e+00j,  2.72566163e+03+0.00000000e+00j,\n",
       "        2.65382613e+03+0.00000000e+00j,  2.58084040e+03+0.00000000e+00j,\n",
       "        2.47903117e+03+0.00000000e+00j,  2.43259277e+03+0.00000000e+00j,\n",
       "        2.35873765e+03+0.00000000e+00j,  2.26560103e+03+0.00000000e+00j,\n",
       "        2.25917204e+03+0.00000000e+00j,  2.17376074e+03+0.00000000e+00j,\n",
       "        2.14906308e+03+0.00000000e+00j,  2.03580626e+03+0.00000000e+00j,\n",
       "        1.95040803e+03+0.00000000e+00j,  8.58925445e+01+0.00000000e+00j,\n",
       "        6.78071882e+01+0.00000000e+00j,  1.78531727e+02+0.00000000e+00j,\n",
       "        2.17330834e+02+0.00000000e+00j,  2.36031558e+02+0.00000000e+00j,\n",
       "        2.34356209e+02+0.00000000e+00j,  3.85107293e+02+0.00000000e+00j,\n",
       "        3.24258564e+02+0.00000000e+00j,  2.82503444e+02+0.00000000e+00j,\n",
       "        2.95929908e+02+0.00000000e+00j,  2.88390424e+02+0.00000000e+00j,\n",
       "        1.93376324e+03+0.00000000e+00j,  1.83850580e+03+0.00000000e+00j,\n",
       "        1.74832814e+03+0.00000000e+00j,  4.68590718e+02+0.00000000e+00j,\n",
       "        1.93972929e+03+0.00000000e+00j,  1.70936896e+03+0.00000000e+00j,\n",
       "        5.08228204e+02+0.00000000e+00j,  1.64425961e+03+0.00000000e+00j,\n",
       "        1.56820045e+03+0.00000000e+00j,  1.52891990e+03+0.00000000e+00j,\n",
       "        1.48391790e+03+0.00000000e+00j,  5.79431887e+02+0.00000000e+00j,\n",
       "        6.12152455e+02+0.00000000e+00j,  6.22838025e+02+0.00000000e+00j,\n",
       "        1.44172125e+03+0.00000000e+00j,  1.31914974e+03+0.00000000e+00j,\n",
       "        1.36844513e+03+0.00000000e+00j,  1.40175110e+03+0.00000000e+00j,\n",
       "        1.14259089e+03+0.00000000e+00j,  7.33490851e+02+0.00000000e+00j,\n",
       "        1.66726324e+03+0.00000000e+00j,  6.81874241e+02+0.00000000e+00j,\n",
       "        6.96715844e+02+0.00000000e+00j,  1.28617155e+03+0.00000000e+00j,\n",
       "        1.19553267e+03+0.00000000e+00j,  1.09892244e+03+0.00000000e+00j,\n",
       "        1.21169758e+03+0.00000000e+00j,  7.75164770e+02+0.00000000e+00j,\n",
       "        8.26270056e+02+0.00000000e+00j,  7.90083868e+02+0.00000000e+00j,\n",
       "        9.56195722e+02+0.00000000e+00j,  9.83209323e+02+0.00000000e+00j,\n",
       "        9.09472315e+02+0.00000000e+00j,  1.03286316e+03+0.00000000e+00j,\n",
       "        9.20981261e+02+0.00000000e+00j,  1.01756104e+03+0.00000000e+00j,\n",
       "        8.30847112e+02+0.00000000e+00j,  2.85272998e-11+0.00000000e+00j,\n",
       "       -3.61596281e-12+0.00000000e+00j,  1.47542744e-12+8.80921650e-13j,\n",
       "        1.47542744e-12-8.80921650e-13j, -1.79301515e-12+0.00000000e+00j,\n",
       "        2.88802206e-13+3.64277673e-13j,  2.88802206e-13-3.64277673e-13j,\n",
       "        1.54493193e-13+0.00000000e+00j, -2.30293795e-13+0.00000000e+00j,\n",
       "       -6.55516233e-13+0.00000000e+00j])"
      ]
     },
     "execution_count": 11,
     "metadata": {},
     "output_type": "execute_result"
    }
   ],
   "source": [
    "eigenvalues"
   ]
  },
  {
   "cell_type": "markdown",
   "id": "8d1ec6af",
   "metadata": {},
   "source": [
    "Find the order of the eignevalues"
   ]
  },
  {
   "cell_type": "code",
   "execution_count": 12,
   "id": "d6306ba5",
   "metadata": {},
   "outputs": [],
   "source": [
    "order = eigenvalues.argsort()[::-1]"
   ]
  },
  {
   "cell_type": "markdown",
   "id": "66e3c981",
   "metadata": {},
   "source": [
    "Sort the eigenvalues by their order"
   ]
  },
  {
   "cell_type": "code",
   "execution_count": 13,
   "id": "82a6b074",
   "metadata": {},
   "outputs": [],
   "source": [
    "eigenvalues = eigenvalues[order]"
   ]
  },
  {
   "cell_type": "markdown",
   "id": "5c2ef7bc",
   "metadata": {},
   "source": [
    "Get the principal components"
   ]
  },
  {
   "cell_type": "code",
   "execution_count": 14,
   "id": "5be2b069",
   "metadata": {},
   "outputs": [],
   "source": [
    "eigenvectors_C = eigenvectors[:, order]"
   ]
  },
  {
   "cell_type": "markdown",
   "id": "4b64cca7",
   "metadata": {},
   "source": [
    "Project all images to the eigen space"
   ]
  },
  {
   "cell_type": "code",
   "execution_count": 15,
   "id": "930f505b",
   "metadata": {},
   "outputs": [],
   "source": [
    "eigenvectors_C = X_centered.T @ eigenvectors "
   ]
  },
  {
   "cell_type": "markdown",
   "id": "ee7f7a61",
   "metadata": {},
   "source": [
    "Normalize all the eigenfaces"
   ]
  },
  {
   "cell_type": "code",
   "execution_count": 16,
   "id": "4c829bda",
   "metadata": {
    "scrolled": false
   },
   "outputs": [
    {
     "ename": "ValueError",
     "evalue": "Complex data not supported\n[[-6.58237087e+01+0.j -5.58298828e+01+0.j -5.43156059e+01+0.j ...\n   3.51621356e+02+0.j  3.24839476e+02+0.j  3.04224719e+02+0.j]\n [ 1.14763727e+02+0.j  1.02401145e+02+0.j  9.83731149e+01+0.j ...\n   3.60919810e+02+0.j  3.42864063e+02+0.j  3.36812258e+02+0.j]\n [-6.32229248e+01+0.j -6.36312392e+01+0.j -5.90238792e+01+0.j ...\n  -5.18946391e+01+0.j -2.47224170e+01+0.j -1.38836523e+01+0.j]\n ...\n [ 4.32334374e-14+0.j  4.15876313e-14+0.j  3.77867484e-14+0.j ...\n  -3.64170012e-14+0.j -9.33756207e-15+0.j  2.25933227e-14+0.j]\n [ 6.23550619e-14+0.j  9.04577065e-14+0.j  6.02001937e-14+0.j ...\n  -2.13135699e-13+0.j -2.41041841e-13+0.j -2.38877967e-13+0.j]\n [ 6.21910876e-14+0.j  8.55395776e-14+0.j  6.36752607e-14+0.j ...\n  -1.53167792e-13+0.j -1.84660219e-13+0.j -1.73713386e-13+0.j]]\n",
     "output_type": "error",
     "traceback": [
      "\u001b[1;31m---------------------------------------------------------------------------\u001b[0m",
      "\u001b[1;31mComplexWarning\u001b[0m                            Traceback (most recent call last)",
      "File \u001b[1;32m~\\anaconda3\\Lib\\site-packages\\sklearn\\utils\\validation.py:917\u001b[0m, in \u001b[0;36mcheck_array\u001b[1;34m(array, accept_sparse, accept_large_sparse, dtype, order, copy, force_all_finite, ensure_2d, allow_nd, ensure_min_samples, ensure_min_features, estimator, input_name)\u001b[0m\n\u001b[0;32m    916\u001b[0m     \u001b[38;5;28;01melse\u001b[39;00m:\n\u001b[1;32m--> 917\u001b[0m         array \u001b[38;5;241m=\u001b[39m _asarray_with_order(array, order\u001b[38;5;241m=\u001b[39morder, dtype\u001b[38;5;241m=\u001b[39mdtype, xp\u001b[38;5;241m=\u001b[39mxp)\n\u001b[0;32m    918\u001b[0m \u001b[38;5;28;01mexcept\u001b[39;00m ComplexWarning \u001b[38;5;28;01mas\u001b[39;00m complex_warning:\n",
      "File \u001b[1;32m~\\anaconda3\\Lib\\site-packages\\sklearn\\utils\\_array_api.py:380\u001b[0m, in \u001b[0;36m_asarray_with_order\u001b[1;34m(array, dtype, order, copy, xp)\u001b[0m\n\u001b[0;32m    379\u001b[0m \u001b[38;5;28;01melse\u001b[39;00m:\n\u001b[1;32m--> 380\u001b[0m     array \u001b[38;5;241m=\u001b[39m numpy\u001b[38;5;241m.\u001b[39masarray(array, order\u001b[38;5;241m=\u001b[39morder, dtype\u001b[38;5;241m=\u001b[39mdtype)\n\u001b[0;32m    382\u001b[0m \u001b[38;5;66;03m# At this point array is a NumPy ndarray. We convert it to an array\u001b[39;00m\n\u001b[0;32m    383\u001b[0m \u001b[38;5;66;03m# container that is consistent with the input's namespace.\u001b[39;00m\n",
      "\u001b[1;31mComplexWarning\u001b[0m: Casting complex values to real discards the imaginary part",
      "\nThe above exception was the direct cause of the following exception:\n",
      "\u001b[1;31mValueError\u001b[0m                                Traceback (most recent call last)",
      "Cell \u001b[1;32mIn[16], line 1\u001b[0m\n\u001b[1;32m----> 1\u001b[0m eigenfaces \u001b[38;5;241m=\u001b[39m preprocessing\u001b[38;5;241m.\u001b[39mnormalize(eigenvectors_C\u001b[38;5;241m.\u001b[39mT)\n",
      "File \u001b[1;32m~\\anaconda3\\Lib\\site-packages\\sklearn\\utils\\_param_validation.py:211\u001b[0m, in \u001b[0;36mvalidate_params.<locals>.decorator.<locals>.wrapper\u001b[1;34m(*args, **kwargs)\u001b[0m\n\u001b[0;32m    205\u001b[0m \u001b[38;5;28;01mtry\u001b[39;00m:\n\u001b[0;32m    206\u001b[0m     \u001b[38;5;28;01mwith\u001b[39;00m config_context(\n\u001b[0;32m    207\u001b[0m         skip_parameter_validation\u001b[38;5;241m=\u001b[39m(\n\u001b[0;32m    208\u001b[0m             prefer_skip_nested_validation \u001b[38;5;129;01mor\u001b[39;00m global_skip_validation\n\u001b[0;32m    209\u001b[0m         )\n\u001b[0;32m    210\u001b[0m     ):\n\u001b[1;32m--> 211\u001b[0m         \u001b[38;5;28;01mreturn\u001b[39;00m func(\u001b[38;5;241m*\u001b[39margs, \u001b[38;5;241m*\u001b[39m\u001b[38;5;241m*\u001b[39mkwargs)\n\u001b[0;32m    212\u001b[0m \u001b[38;5;28;01mexcept\u001b[39;00m InvalidParameterError \u001b[38;5;28;01mas\u001b[39;00m e:\n\u001b[0;32m    213\u001b[0m     \u001b[38;5;66;03m# When the function is just a wrapper around an estimator, we allow\u001b[39;00m\n\u001b[0;32m    214\u001b[0m     \u001b[38;5;66;03m# the function to delegate validation to the estimator, but we replace\u001b[39;00m\n\u001b[0;32m    215\u001b[0m     \u001b[38;5;66;03m# the name of the estimator by the name of the function in the error\u001b[39;00m\n\u001b[0;32m    216\u001b[0m     \u001b[38;5;66;03m# message to avoid confusion.\u001b[39;00m\n\u001b[0;32m    217\u001b[0m     msg \u001b[38;5;241m=\u001b[39m re\u001b[38;5;241m.\u001b[39msub(\n\u001b[0;32m    218\u001b[0m         \u001b[38;5;124mr\u001b[39m\u001b[38;5;124m\"\u001b[39m\u001b[38;5;124mparameter of \u001b[39m\u001b[38;5;124m\\\u001b[39m\u001b[38;5;124mw+ must be\u001b[39m\u001b[38;5;124m\"\u001b[39m,\n\u001b[0;32m    219\u001b[0m         \u001b[38;5;124mf\u001b[39m\u001b[38;5;124m\"\u001b[39m\u001b[38;5;124mparameter of \u001b[39m\u001b[38;5;132;01m{\u001b[39;00mfunc\u001b[38;5;241m.\u001b[39m\u001b[38;5;18m__qualname__\u001b[39m\u001b[38;5;132;01m}\u001b[39;00m\u001b[38;5;124m must be\u001b[39m\u001b[38;5;124m\"\u001b[39m,\n\u001b[0;32m    220\u001b[0m         \u001b[38;5;28mstr\u001b[39m(e),\n\u001b[0;32m    221\u001b[0m     )\n",
      "File \u001b[1;32m~\\anaconda3\\Lib\\site-packages\\sklearn\\preprocessing\\_data.py:1843\u001b[0m, in \u001b[0;36mnormalize\u001b[1;34m(X, norm, axis, copy, return_norm)\u001b[0m\n\u001b[0;32m   1840\u001b[0m \u001b[38;5;28;01melse\u001b[39;00m:  \u001b[38;5;66;03m# axis == 1:\u001b[39;00m\n\u001b[0;32m   1841\u001b[0m     sparse_format \u001b[38;5;241m=\u001b[39m \u001b[38;5;124m\"\u001b[39m\u001b[38;5;124mcsr\u001b[39m\u001b[38;5;124m\"\u001b[39m\n\u001b[1;32m-> 1843\u001b[0m X \u001b[38;5;241m=\u001b[39m check_array(\n\u001b[0;32m   1844\u001b[0m     X,\n\u001b[0;32m   1845\u001b[0m     accept_sparse\u001b[38;5;241m=\u001b[39msparse_format,\n\u001b[0;32m   1846\u001b[0m     copy\u001b[38;5;241m=\u001b[39mcopy,\n\u001b[0;32m   1847\u001b[0m     estimator\u001b[38;5;241m=\u001b[39m\u001b[38;5;124m\"\u001b[39m\u001b[38;5;124mthe normalize function\u001b[39m\u001b[38;5;124m\"\u001b[39m,\n\u001b[0;32m   1848\u001b[0m     dtype\u001b[38;5;241m=\u001b[39mFLOAT_DTYPES,\n\u001b[0;32m   1849\u001b[0m )\n\u001b[0;32m   1850\u001b[0m \u001b[38;5;28;01mif\u001b[39;00m axis \u001b[38;5;241m==\u001b[39m \u001b[38;5;241m0\u001b[39m:\n\u001b[0;32m   1851\u001b[0m     X \u001b[38;5;241m=\u001b[39m X\u001b[38;5;241m.\u001b[39mT\n",
      "File \u001b[1;32m~\\anaconda3\\Lib\\site-packages\\sklearn\\utils\\validation.py:919\u001b[0m, in \u001b[0;36mcheck_array\u001b[1;34m(array, accept_sparse, accept_large_sparse, dtype, order, copy, force_all_finite, ensure_2d, allow_nd, ensure_min_samples, ensure_min_features, estimator, input_name)\u001b[0m\n\u001b[0;32m    917\u001b[0m             array \u001b[38;5;241m=\u001b[39m _asarray_with_order(array, order\u001b[38;5;241m=\u001b[39morder, dtype\u001b[38;5;241m=\u001b[39mdtype, xp\u001b[38;5;241m=\u001b[39mxp)\n\u001b[0;32m    918\u001b[0m     \u001b[38;5;28;01mexcept\u001b[39;00m ComplexWarning \u001b[38;5;28;01mas\u001b[39;00m complex_warning:\n\u001b[1;32m--> 919\u001b[0m         \u001b[38;5;28;01mraise\u001b[39;00m \u001b[38;5;167;01mValueError\u001b[39;00m(\n\u001b[0;32m    920\u001b[0m             \u001b[38;5;124m\"\u001b[39m\u001b[38;5;124mComplex data not supported\u001b[39m\u001b[38;5;130;01m\\n\u001b[39;00m\u001b[38;5;132;01m{}\u001b[39;00m\u001b[38;5;130;01m\\n\u001b[39;00m\u001b[38;5;124m\"\u001b[39m\u001b[38;5;241m.\u001b[39mformat(array)\n\u001b[0;32m    921\u001b[0m         ) \u001b[38;5;28;01mfrom\u001b[39;00m \u001b[38;5;21;01mcomplex_warning\u001b[39;00m\n\u001b[0;32m    923\u001b[0m \u001b[38;5;66;03m# It is possible that the np.array(..) gave no warning. This happens\u001b[39;00m\n\u001b[0;32m    924\u001b[0m \u001b[38;5;66;03m# when no dtype conversion happened, for example dtype = None. The\u001b[39;00m\n\u001b[0;32m    925\u001b[0m \u001b[38;5;66;03m# result is that np.array(..) produces an array of complex dtype\u001b[39;00m\n\u001b[0;32m    926\u001b[0m \u001b[38;5;66;03m# and we need to catch and raise exception for such cases.\u001b[39;00m\n\u001b[0;32m    927\u001b[0m _ensure_no_complex_data(array)\n",
      "\u001b[1;31mValueError\u001b[0m: Complex data not supported\n[[-6.58237087e+01+0.j -5.58298828e+01+0.j -5.43156059e+01+0.j ...\n   3.51621356e+02+0.j  3.24839476e+02+0.j  3.04224719e+02+0.j]\n [ 1.14763727e+02+0.j  1.02401145e+02+0.j  9.83731149e+01+0.j ...\n   3.60919810e+02+0.j  3.42864063e+02+0.j  3.36812258e+02+0.j]\n [-6.32229248e+01+0.j -6.36312392e+01+0.j -5.90238792e+01+0.j ...\n  -5.18946391e+01+0.j -2.47224170e+01+0.j -1.38836523e+01+0.j]\n ...\n [ 4.32334374e-14+0.j  4.15876313e-14+0.j  3.77867484e-14+0.j ...\n  -3.64170012e-14+0.j -9.33756207e-15+0.j  2.25933227e-14+0.j]\n [ 6.23550619e-14+0.j  9.04577065e-14+0.j  6.02001937e-14+0.j ...\n  -2.13135699e-13+0.j -2.41041841e-13+0.j -2.38877967e-13+0.j]\n [ 6.21910876e-14+0.j  8.55395776e-14+0.j  6.36752607e-14+0.j ...\n  -1.53167792e-13+0.j -1.84660219e-13+0.j -1.73713386e-13+0.j]]\n"
     ]
    }
   ],
   "source": [
    "eigenfaces = preprocessing.normalize(eigenvectors_C.T)"
   ]
  },
  {
   "cell_type": "markdown",
   "id": "b0839a67",
   "metadata": {},
   "source": [
    "Plot the first eigenface"
   ]
  },
  {
   "cell_type": "code",
   "execution_count": null,
   "id": "e0f3ed88",
   "metadata": {},
   "outputs": [],
   "source": [
    "plt.imshow(np.resize(eigenfaces[0], (nrows,ncolumns)), cmap='gray')\n",
    "plt.title('First Eigen Face')\n",
    "plt.show()"
   ]
  },
  {
   "cell_type": "code",
   "execution_count": null,
   "id": "97b60211",
   "metadata": {},
   "outputs": [],
   "source": []
  }
 ],
 "metadata": {
  "kernelspec": {
   "display_name": "Python 3 (ipykernel)",
   "language": "python",
   "name": "python3"
  },
  "language_info": {
   "codemirror_mode": {
    "name": "ipython",
    "version": 3
   },
   "file_extension": ".py",
   "mimetype": "text/x-python",
   "name": "python",
   "nbconvert_exporter": "python",
   "pygments_lexer": "ipython3",
   "version": "3.11.4"
  }
 },
 "nbformat": 4,
 "nbformat_minor": 5
}
