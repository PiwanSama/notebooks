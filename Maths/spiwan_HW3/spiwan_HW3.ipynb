{
 "cells": [
  {
   "cell_type": "code",
   "execution_count": 1,
   "id": "8d0cb5ef",
   "metadata": {},
   "outputs": [],
   "source": [
    "import os\n",
    "import numpy as np \n",
    "from PIL import Image\n",
    "import matplotlib.pyplot as plt\n",
    "from sklearn import preprocessing"
   ]
  },
  {
   "cell_type": "markdown",
   "id": "b81cc1bb",
   "metadata": {},
   "source": [
    "#### Part 1: Dataset Selection and Preprocessing (15 points)"
   ]
  },
  {
   "cell_type": "markdown",
   "id": "54bb4e36",
   "metadata": {},
   "source": [
    "Get the number of rows and columns from the first image in the directory"
   ]
  },
  {
   "cell_type": "code",
   "execution_count": 2,
   "id": "0995e4d6",
   "metadata": {},
   "outputs": [],
   "source": [
    "image = Image.open('yalefaces/subject01.centerlight')\n",
    "nrows, ncolumns = image.height, image.width"
   ]
  },
  {
   "cell_type": "markdown",
   "id": "bbacd9f6",
   "metadata": {},
   "source": [
    "Define a function to get load and preprocess the data"
   ]
  },
  {
   "cell_type": "code",
   "execution_count": 9,
   "id": "0e3f6c44",
   "metadata": {},
   "outputs": [],
   "source": [
    "def process_images(image_directory):\n",
    "    image_files = []\n",
    "    for i, file in enumerate(os.listdir(image_directory)):\n",
    "        image = Image.open(os.path.join(image_directory, file))\n",
    "        image = image.resize((300, 400)).convert('L')\n",
    "        image_files.append(np.asarray(image.getdata()))\n",
    "    return image_files"
   ]
  },
  {
   "cell_type": "markdown",
   "id": "63259b72",
   "metadata": {},
   "source": [
    "#### Part 2: Eigenface Generation (20 points)"
   ]
  },
  {
   "cell_type": "markdown",
   "id": "efa9990d",
   "metadata": {},
   "source": [
    "Load the images from the 'yalefaces' directory and flatten them into a dataset"
   ]
  },
  {
   "cell_type": "code",
   "execution_count": 10,
   "id": "e215f4e6",
   "metadata": {},
   "outputs": [],
   "source": [
    "X = np.asarray(process_images('yalefaces'))"
   ]
  },
  {
   "cell_type": "markdown",
   "id": "4db16f72",
   "metadata": {},
   "source": [
    "Confirm the shape of the flattened dataset. Since the dataset contains 165 images and we have resized the images into 300 by 400 size, we should expect the shape to by 165 by 300 * 400"
   ]
  },
  {
   "cell_type": "code",
   "execution_count": 11,
   "id": "a4d531c8",
   "metadata": {},
   "outputs": [
    {
     "data": {
      "text/plain": [
       "(165, 120000)"
      ]
     },
     "execution_count": 11,
     "metadata": {},
     "output_type": "execute_result"
    }
   ],
   "source": [
    "X.shape"
   ]
  },
  {
   "cell_type": "markdown",
   "id": "017f4e15",
   "metadata": {},
   "source": [
    "Calculate the average faces image"
   ]
  },
  {
   "cell_type": "code",
   "execution_count": null,
   "id": "bb3604bc",
   "metadata": {},
   "outputs": [],
   "source": [
    "# Get the length of the images array\n",
    "length_dataset = X.shape[0]\n",
    "\n",
    "mean_face = np.sum(X, axis=0, dtype='float64') / length_dataset"
   ]
  },
  {
   "cell_type": "markdown",
   "id": "b82b7ed0",
   "metadata": {},
   "source": [
    "Find the mean matrix using the numpy tile function. np.tile constructs an array by repeating a given dataset by the number of times specified"
   ]
  },
  {
   "cell_type": "code",
   "execution_count": null,
   "id": "cecbb81e",
   "metadata": {},
   "outputs": [],
   "source": [
    "mean_matrix = np.tile(mean_face, (length_dataset, 1)) "
   ]
  },
  {
   "cell_type": "markdown",
   "id": "1b96424e",
   "metadata": {},
   "source": [
    "Mean-center the image data. Mean-centering calculates the difference between the mean value and the actual value, ensuring that we are only looking at the variance in the dataset"
   ]
  },
  {
   "cell_type": "code",
   "execution_count": null,
   "id": "1ceaf6c0",
   "metadata": {},
   "outputs": [],
   "source": [
    "X_centered = X - mean_matrix"
   ]
  }
 ],
 "metadata": {
  "kernelspec": {
   "display_name": "Python 3 (ipykernel)",
   "language": "python",
   "name": "python3"
  },
  "language_info": {
   "codemirror_mode": {
    "name": "ipython",
    "version": 3
   },
   "file_extension": ".py",
   "mimetype": "text/x-python",
   "name": "python",
   "nbconvert_exporter": "python",
   "pygments_lexer": "ipython3",
   "version": "3.11.4"
  }
 },
 "nbformat": 4,
 "nbformat_minor": 5
}
