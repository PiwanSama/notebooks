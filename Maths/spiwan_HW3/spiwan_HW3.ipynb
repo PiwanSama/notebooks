{
 "cells": [
  {
   "cell_type": "code",
   "execution_count": 74,
   "id": "8d0cb5ef",
   "metadata": {},
   "outputs": [],
   "source": [
    "import os\n",
    "import numpy as np\n",
    "import pandas as pd\n",
    "from PIL import Image\n",
    "import matplotlib.pyplot as plt\n",
    "from sklearn import preprocessing\n",
    "from sympy import *\n",
    "import mtcnn\n",
    "import cv2\n",
    "from mtcnn.mtcnn import MTCNN\n",
    "from sklearn.model_selection import train_test_split\n",
    "from sklearn.preprocessing import LabelEncoder\n",
    "from sklearn.preprocessing import Normalizer\n",
    "#Libraries to evaluate the face recognition system's performance\n",
    "from sklearn.metrics import accuracy_score, precision_score, recall_score, f1_score"
   ]
  },
  {
   "cell_type": "markdown",
   "id": "c31f01b3",
   "metadata": {},
   "source": [
    "### Part 1: Dataset Selection and Preprocessing (15 points)"
   ]
  },
  {
   "cell_type": "markdown",
   "id": "d8a64e8d",
   "metadata": {},
   "source": [
    "#### Testing pre-processing and face detection on one file"
   ]
  },
  {
   "cell_type": "markdown",
   "id": "7f4ecca5",
   "metadata": {},
   "source": [
    "Set the default image dimensions"
   ]
  },
  {
   "cell_type": "code",
   "execution_count": 2,
   "id": "3110de26",
   "metadata": {},
   "outputs": [],
   "source": [
    "nrows = 64\n",
    "ncolumns = 64"
   ]
  },
  {
   "cell_type": "markdown",
   "id": "c3389ecb",
   "metadata": {},
   "source": [
    "Specify the directory with the Yale faces"
   ]
  },
  {
   "cell_type": "code",
   "execution_count": 30,
   "id": "3ae596cc",
   "metadata": {},
   "outputs": [],
   "source": [
    "yalesfaces_dir = 'yalefaces'"
   ]
  },
  {
   "cell_type": "markdown",
   "id": "144e0311",
   "metadata": {},
   "source": [
    "#### Setup the dataset into training and testing data"
   ]
  },
  {
   "cell_type": "markdown",
   "id": "1327598b",
   "metadata": {},
   "source": [
    "Load the file data into different lists"
   ]
  },
  {
   "cell_type": "code",
   "execution_count": 3,
   "id": "e1ddad9a",
   "metadata": {
    "scrolled": false
   },
   "outputs": [],
   "source": [
    "subject_numbers = []\n",
    "file_names = []\n",
    "categories  = []\n",
    "# Get the list of filenames\n",
    "for file in os.listdir(yalefaces_dir):\n",
    "    # Add the subject number, filename and category to seperate lists\n",
    "    file_names.append(file)\n",
    "    categories.append(file.split(\".\")[1])\n",
    "    subject_numbers.append(file.split(\".\")[0].replace('subject0','').replace('subject',''))"
   ]
  },
  {
   "cell_type": "markdown",
   "id": "69579a5e",
   "metadata": {},
   "source": [
    "Create a pandas DataFrame from the lists"
   ]
  },
  {
   "cell_type": "code",
   "execution_count": 4,
   "id": "34881a1d",
   "metadata": {},
   "outputs": [
    {
     "data": {
      "text/html": [
       "<div>\n",
       "<style scoped>\n",
       "    .dataframe tbody tr th:only-of-type {\n",
       "        vertical-align: middle;\n",
       "    }\n",
       "\n",
       "    .dataframe tbody tr th {\n",
       "        vertical-align: top;\n",
       "    }\n",
       "\n",
       "    .dataframe thead th {\n",
       "        text-align: right;\n",
       "    }\n",
       "</style>\n",
       "<table border=\"1\" class=\"dataframe\">\n",
       "  <thead>\n",
       "    <tr style=\"text-align: right;\">\n",
       "      <th></th>\n",
       "      <th>Subject</th>\n",
       "      <th>Category</th>\n",
       "      <th>File</th>\n",
       "    </tr>\n",
       "  </thead>\n",
       "  <tbody>\n",
       "    <tr>\n",
       "      <th>0</th>\n",
       "      <td>1</td>\n",
       "      <td>centerlight</td>\n",
       "      <td>subject01.centerlight</td>\n",
       "    </tr>\n",
       "    <tr>\n",
       "      <th>1</th>\n",
       "      <td>1</td>\n",
       "      <td>glasses</td>\n",
       "      <td>subject01.glasses</td>\n",
       "    </tr>\n",
       "    <tr>\n",
       "      <th>2</th>\n",
       "      <td>1</td>\n",
       "      <td>happy</td>\n",
       "      <td>subject01.happy</td>\n",
       "    </tr>\n",
       "    <tr>\n",
       "      <th>3</th>\n",
       "      <td>1</td>\n",
       "      <td>leftlight</td>\n",
       "      <td>subject01.leftlight</td>\n",
       "    </tr>\n",
       "    <tr>\n",
       "      <th>4</th>\n",
       "      <td>1</td>\n",
       "      <td>noglasses</td>\n",
       "      <td>subject01.noglasses</td>\n",
       "    </tr>\n",
       "  </tbody>\n",
       "</table>\n",
       "</div>"
      ],
      "text/plain": [
       "  Subject     Category                   File\n",
       "0       1  centerlight  subject01.centerlight\n",
       "1       1      glasses      subject01.glasses\n",
       "2       1        happy        subject01.happy\n",
       "3       1    leftlight    subject01.leftlight\n",
       "4       1    noglasses    subject01.noglasses"
      ]
     },
     "execution_count": 4,
     "metadata": {},
     "output_type": "execute_result"
    }
   ],
   "source": [
    "faces_dict = {'Subject':subject_numbers, 'Category':categories, 'File':file_names}\n",
    "faces_df = pd.DataFrame(faces_dict, columns = ['Subject', 'Category','File'])\n",
    "faces_df.head()"
   ]
  },
  {
   "cell_type": "markdown",
   "id": "995f0c46",
   "metadata": {},
   "source": [
    "Set the sizes of the test and training datasets"
   ]
  },
  {
   "cell_type": "code",
   "execution_count": 5,
   "id": "43d8c4a9",
   "metadata": {},
   "outputs": [],
   "source": [
    "training_set_count = 8\n",
    "class_count = len(faces_df[\"Subject\"].unique())\n",
    "dataset_size = faces_df[\"Category\"].count()\n",
    "test_size = 1 - (training_set_count * class_count / dataset_size)"
   ]
  },
  {
   "cell_type": "markdown",
   "id": "0eaa21a2",
   "metadata": {},
   "source": [
    "Define the X and Y columns that will be used for testing and training"
   ]
  },
  {
   "cell_type": "code",
   "execution_count": 6,
   "id": "3769ed67",
   "metadata": {},
   "outputs": [],
   "source": [
    "y = faces_df['Subject']\n",
    "X = faces_df.drop('Subject', axis = 1)\n",
    "\n",
    "X_train_info, X_test_info, y_train, y_test = train_test_split(\n",
    "    X, y, test_size = test_size, random_state = 45, stratify = y)"
   ]
  },
  {
   "cell_type": "markdown",
   "id": "a049bcc2",
   "metadata": {},
   "source": [
    "Load the X_test and X_train data"
   ]
  },
  {
   "cell_type": "code",
   "execution_count": 31,
   "id": "b9a8c63d",
   "metadata": {},
   "outputs": [],
   "source": [
    "def load_images_dataset(image_directory, dataset):\n",
    "    face_images = []\n",
    "    for filename in dataset[\"File\"]:\n",
    "        # Load the image from the directory as a PIL image\n",
    "        image = Image.open(os.path.join(image_directory, filename))\n",
    "        image = image.resize((nrows, ncolumns))\n",
    "        face_images.append(np.asarray(image))\n",
    "        \n",
    "    return np.asarray(face_images)"
   ]
  },
  {
   "cell_type": "code",
   "execution_count": 32,
   "id": "4785907c",
   "metadata": {},
   "outputs": [],
   "source": [
    "X_test = load_images_dataset(yalesfaces_dir, X_test_info)\n",
    "X_train = load_images_dataset(yalesfaces_dir, X_train_info)"
   ]
  },
  {
   "cell_type": "markdown",
   "id": "017caf29",
   "metadata": {},
   "source": [
    "Reshape and normalize the data"
   ]
  },
  {
   "cell_type": "code",
   "execution_count": 9,
   "id": "e21890ed",
   "metadata": {},
   "outputs": [
    {
     "name": "stdout",
     "output_type": "stream",
     "text": [
      "Reshaped X_train (120, 4096)\n",
      "Reshaped X_test (45, 4096)\n"
     ]
    },
    {
     "data": {
      "text/html": [
       "<style>#sk-container-id-1 {color: black;}#sk-container-id-1 pre{padding: 0;}#sk-container-id-1 div.sk-toggleable {background-color: white;}#sk-container-id-1 label.sk-toggleable__label {cursor: pointer;display: block;width: 100%;margin-bottom: 0;padding: 0.3em;box-sizing: border-box;text-align: center;}#sk-container-id-1 label.sk-toggleable__label-arrow:before {content: \"▸\";float: left;margin-right: 0.25em;color: #696969;}#sk-container-id-1 label.sk-toggleable__label-arrow:hover:before {color: black;}#sk-container-id-1 div.sk-estimator:hover label.sk-toggleable__label-arrow:before {color: black;}#sk-container-id-1 div.sk-toggleable__content {max-height: 0;max-width: 0;overflow: hidden;text-align: left;background-color: #f0f8ff;}#sk-container-id-1 div.sk-toggleable__content pre {margin: 0.2em;color: black;border-radius: 0.25em;background-color: #f0f8ff;}#sk-container-id-1 input.sk-toggleable__control:checked~div.sk-toggleable__content {max-height: 200px;max-width: 100%;overflow: auto;}#sk-container-id-1 input.sk-toggleable__control:checked~label.sk-toggleable__label-arrow:before {content: \"▾\";}#sk-container-id-1 div.sk-estimator input.sk-toggleable__control:checked~label.sk-toggleable__label {background-color: #d4ebff;}#sk-container-id-1 div.sk-label input.sk-toggleable__control:checked~label.sk-toggleable__label {background-color: #d4ebff;}#sk-container-id-1 input.sk-hidden--visually {border: 0;clip: rect(1px 1px 1px 1px);clip: rect(1px, 1px, 1px, 1px);height: 1px;margin: -1px;overflow: hidden;padding: 0;position: absolute;width: 1px;}#sk-container-id-1 div.sk-estimator {font-family: monospace;background-color: #f0f8ff;border: 1px dotted black;border-radius: 0.25em;box-sizing: border-box;margin-bottom: 0.5em;}#sk-container-id-1 div.sk-estimator:hover {background-color: #d4ebff;}#sk-container-id-1 div.sk-parallel-item::after {content: \"\";width: 100%;border-bottom: 1px solid gray;flex-grow: 1;}#sk-container-id-1 div.sk-label:hover label.sk-toggleable__label {background-color: #d4ebff;}#sk-container-id-1 div.sk-serial::before {content: \"\";position: absolute;border-left: 1px solid gray;box-sizing: border-box;top: 0;bottom: 0;left: 50%;z-index: 0;}#sk-container-id-1 div.sk-serial {display: flex;flex-direction: column;align-items: center;background-color: white;padding-right: 0.2em;padding-left: 0.2em;position: relative;}#sk-container-id-1 div.sk-item {position: relative;z-index: 1;}#sk-container-id-1 div.sk-parallel {display: flex;align-items: stretch;justify-content: center;background-color: white;position: relative;}#sk-container-id-1 div.sk-item::before, #sk-container-id-1 div.sk-parallel-item::before {content: \"\";position: absolute;border-left: 1px solid gray;box-sizing: border-box;top: 0;bottom: 0;left: 50%;z-index: -1;}#sk-container-id-1 div.sk-parallel-item {display: flex;flex-direction: column;z-index: 1;position: relative;background-color: white;}#sk-container-id-1 div.sk-parallel-item:first-child::after {align-self: flex-end;width: 50%;}#sk-container-id-1 div.sk-parallel-item:last-child::after {align-self: flex-start;width: 50%;}#sk-container-id-1 div.sk-parallel-item:only-child::after {width: 0;}#sk-container-id-1 div.sk-dashed-wrapped {border: 1px dashed gray;margin: 0 0.4em 0.5em 0.4em;box-sizing: border-box;padding-bottom: 0.4em;background-color: white;}#sk-container-id-1 div.sk-label label {font-family: monospace;font-weight: bold;display: inline-block;line-height: 1.2em;}#sk-container-id-1 div.sk-label-container {text-align: center;}#sk-container-id-1 div.sk-container {/* jupyter's `normalize.less` sets `[hidden] { display: none; }` but bootstrap.min.css set `[hidden] { display: none !important; }` so we also need the `!important` here to be able to override the default hidden behavior on the sphinx rendered scikit-learn.org. See: https://github.com/scikit-learn/scikit-learn/issues/21755 */display: inline-block !important;position: relative;}#sk-container-id-1 div.sk-text-repr-fallback {display: none;}</style><div id=\"sk-container-id-1\" class=\"sk-top-container\"><div class=\"sk-text-repr-fallback\"><pre>LabelEncoder()</pre><b>In a Jupyter environment, please rerun this cell to show the HTML representation or trust the notebook. <br />On GitHub, the HTML representation is unable to render, please try loading this page with nbviewer.org.</b></div><div class=\"sk-container\" hidden><div class=\"sk-item\"><div class=\"sk-estimator sk-toggleable\"><input class=\"sk-toggleable__control sk-hidden--visually\" id=\"sk-estimator-id-1\" type=\"checkbox\" checked><label for=\"sk-estimator-id-1\" class=\"sk-toggleable__label sk-toggleable__label-arrow\">LabelEncoder</label><div class=\"sk-toggleable__content\"><pre>LabelEncoder()</pre></div></div></div></div></div>"
      ],
      "text/plain": [
       "LabelEncoder()"
      ]
     },
     "execution_count": 9,
     "metadata": {},
     "output_type": "execute_result"
    }
   ],
   "source": [
    "# Normalize the input vectors and labels\n",
    "in_encoder = Normalizer(norm='l2')\n",
    "\n",
    "# Reshape X_train into a 2D array using the dimensions of the 3D array\n",
    "X_train_reshaped = X_train.reshape(X_train.shape[0],\n",
    "                                   X_train.shape[1]*X_train.shape[2])\n",
    "print('Reshaped X_train', X_train_reshaped.shape)\n",
    "X_train_reshaped = in_encoder.transform(X_train_reshaped)\n",
    "\n",
    "# Reshape X_test into a 2D array using the dimensions of the 3D array\n",
    "X_test_reshaped = X_test.reshape(X_test.shape[0],\n",
    "                                 X_test.shape[1]*X_test.shape[2])\n",
    "print('Reshaped X_test', X_test_reshaped.shape)\n",
    "X_test_reshaped = in_encoder.transform(X_test_reshaped)\n",
    "\n",
    "#Normalize labels\n",
    "out_encoder = LabelEncoder()\n",
    "out_encoder.fit(y_train)"
   ]
  },
  {
   "cell_type": "code",
   "execution_count": 10,
   "id": "10194c42",
   "metadata": {},
   "outputs": [
    {
     "data": {
      "text/plain": [
       "(120, 64, 64)"
      ]
     },
     "execution_count": 10,
     "metadata": {},
     "output_type": "execute_result"
    }
   ],
   "source": [
    "X_train.shape"
   ]
  },
  {
   "cell_type": "markdown",
   "id": "0cb2face",
   "metadata": {},
   "source": [
    "### Part 2: Eigenface Generation (20 points)"
   ]
  },
  {
   "cell_type": "markdown",
   "id": "542a7636",
   "metadata": {},
   "source": [
    "Calculate the average face image"
   ]
  },
  {
   "cell_type": "code",
   "execution_count": 11,
   "id": "4f0fd5d1",
   "metadata": {},
   "outputs": [],
   "source": [
    "# Get the length of the images array\n",
    "length_dataset = X_train_reshaped.shape[0]\n",
    "\n",
    "mean_face = np.sum(X_train_reshaped, axis=0, dtype='float64') / length_dataset"
   ]
  },
  {
   "cell_type": "markdown",
   "id": "3e621928",
   "metadata": {},
   "source": [
    "Find the mean matrix using the numpy tile function. np.tile constructs an array by repeating a given dataset by the number of times specified"
   ]
  },
  {
   "cell_type": "code",
   "execution_count": 12,
   "id": "691a1aaf",
   "metadata": {},
   "outputs": [],
   "source": [
    "mean_matrix = np.tile(mean_face, (length_dataset, 1))"
   ]
  },
  {
   "cell_type": "markdown",
   "id": "8a22f3c8",
   "metadata": {},
   "source": [
    "Mean-center the image data. Mean-centering calculates the difference between the mean value and the actual value, ensuring that we are only looking at the variance in the dataset"
   ]
  },
  {
   "cell_type": "code",
   "execution_count": 13,
   "id": "57f494e5",
   "metadata": {},
   "outputs": [],
   "source": [
    "X_centered = X_train_reshaped - mean_matrix"
   ]
  },
  {
   "cell_type": "markdown",
   "id": "6a93f889",
   "metadata": {},
   "source": [
    "Caclulate the co-variance in the data. Convariance is a measure of the relationship between two variables.\n",
    "\n",
    "In this case, we calculate the co-variance by finding the dot product of the image data and a transposed version of the image data"
   ]
  },
  {
   "cell_type": "code",
   "execution_count": 14,
   "id": "8f83ffd2",
   "metadata": {},
   "outputs": [],
   "source": [
    "covariance_matrix = (X_centered.dot(X_centered.T)) / length_dataset"
   ]
  },
  {
   "cell_type": "markdown",
   "id": "4c99bb95",
   "metadata": {},
   "source": [
    "Find the eigenvalues and eigenvectors using the covariance matrix. Because they are square and symmetrical, covariance matrixes are diagonalizable, which means an eigendecomposition can be performed on the matrix."
   ]
  },
  {
   "cell_type": "code",
   "execution_count": 15,
   "id": "51b1a157",
   "metadata": {},
   "outputs": [],
   "source": [
    "eigenvalues, eigenvectors = np.linalg.eig(covariance_matrix)"
   ]
  },
  {
   "cell_type": "markdown",
   "id": "521d21d6",
   "metadata": {},
   "source": [
    "Convert the eigenvalues and eigenvectors from complex numbers to real numbers"
   ]
  },
  {
   "cell_type": "code",
   "execution_count": 16,
   "id": "dcace085",
   "metadata": {},
   "outputs": [],
   "source": [
    "eigenvalues = np.real(eigenvalues)\n",
    "eigenvectors = np.real(eigenvectors)"
   ]
  },
  {
   "cell_type": "markdown",
   "id": "8d1ec6af",
   "metadata": {},
   "source": [
    "Find the order of the eignevalues"
   ]
  },
  {
   "cell_type": "code",
   "execution_count": 17,
   "id": "d6306ba5",
   "metadata": {},
   "outputs": [],
   "source": [
    "order = np.real(eigenvalues).argsort()[::-1]"
   ]
  },
  {
   "cell_type": "markdown",
   "id": "66e3c981",
   "metadata": {},
   "source": [
    "Sort the eigenvalues by their order"
   ]
  },
  {
   "cell_type": "code",
   "execution_count": 18,
   "id": "e26d35b9",
   "metadata": {},
   "outputs": [],
   "source": [
    "eigenvalues = eigenvalues[order]"
   ]
  },
  {
   "cell_type": "markdown",
   "id": "5c2ef7bc",
   "metadata": {},
   "source": [
    "Get the principal components"
   ]
  },
  {
   "cell_type": "code",
   "execution_count": 19,
   "id": "5be2b069",
   "metadata": {},
   "outputs": [],
   "source": [
    "eigenvectors_C = eigenvectors[:, order]"
   ]
  },
  {
   "cell_type": "markdown",
   "id": "4b64cca7",
   "metadata": {},
   "source": [
    "Project all images to the eigen space"
   ]
  },
  {
   "cell_type": "code",
   "execution_count": 20,
   "id": "930f505b",
   "metadata": {},
   "outputs": [],
   "source": [
    "eigenvectors_C = X_centered.T @ eigenvectors "
   ]
  },
  {
   "cell_type": "markdown",
   "id": "ee7f7a61",
   "metadata": {},
   "source": [
    "Normalize all the eigenfaces"
   ]
  },
  {
   "cell_type": "code",
   "execution_count": 21,
   "id": "4c829bda",
   "metadata": {
    "scrolled": false
   },
   "outputs": [],
   "source": [
    "eigenfaces = preprocessing.normalize(eigenvectors_C.T)"
   ]
  },
  {
   "cell_type": "markdown",
   "id": "b0839a67",
   "metadata": {},
   "source": [
    "Plot the first eigenface"
   ]
  },
  {
   "cell_type": "code",
   "execution_count": 22,
   "id": "e0f3ed88",
   "metadata": {},
   "outputs": [
    {
     "data": {
      "image/png": "[encoded data removed]",
      "text/plain": [
       "<Figure size 640x480 with 1 Axes>"
      ]
     },
     "metadata": {},
     "output_type": "display_data"
    }
   ],
   "source": [
    "plt.imshow(np.resize(eigenfaces[0], (nrows,ncolumns)), cmap='gray')\n",
    "plt.title('First Eigenface')\n",
    "plt.show()"
   ]
  },
  {
   "cell_type": "markdown",
   "id": "90732db1",
   "metadata": {},
   "source": [
    "### Part 3: Face Recognition (35 points)"
   ]
  },
  {
   "cell_type": "markdown",
   "id": "6e9c20f0",
   "metadata": {},
   "source": [
    "Create a function to project an image to the eigenspace"
   ]
  },
  {
   "cell_type": "code",
   "execution_count": 23,
   "id": "206f7289",
   "metadata": {},
   "outputs": [],
   "source": [
    "def project_to_eigenspace(image, eigen_faces, mean_face):\n",
    "    return eigen_faces.dot(image - mean_face)"
   ]
  },
  {
   "cell_type": "markdown",
   "id": "efad48f3",
   "metadata": {},
   "source": [
    "Create a function to find the cosine similarity between two matrices"
   ]
  },
  {
   "cell_type": "code",
   "execution_count": 24,
   "id": "fa31f8fd",
   "metadata": {},
   "outputs": [],
   "source": [
    "def cosine_similarity(a, b):\n",
    "    dot_product = np.dot(a, b)\n",
    "    norm_a = np.linalg.norm(a)\n",
    "    norm_b = np.linalg.norm(b)\n",
    "    return dot_product / (norm_a * norm_b)"
   ]
  },
  {
   "cell_type": "markdown",
   "id": "18ad59e4",
   "metadata": {},
   "source": [
    "Create a function to find the maximum similarity between an image projection and the set of eigen faces"
   ]
  },
  {
   "cell_type": "code",
   "execution_count": 25,
   "id": "1141c4a2",
   "metadata": {},
   "outputs": [],
   "source": [
    "def compute_max_similarity(image_projection, eigen_faces, num_components):\n",
    "    eigen_projections = [project_to_eigenspace(ef, eigen_faces, mean_face) for ef in eigen_faces[:num_components]]\n",
    "    similarities = [cosine_similarity(image_projection, ep) for ep in eigen_projections]\n",
    "    \n",
    "    return np.max(similarities)"
   ]
  },
  {
   "cell_type": "markdown",
   "id": "30af619a",
   "metadata": {},
   "source": [
    "Define a function to determine if an image contains a face"
   ]
  },
  {
   "cell_type": "code",
   "execution_count": 26,
   "id": "3bac2abb",
   "metadata": {},
   "outputs": [],
   "source": [
    "def is_face(image, eigen_faces, mean_face, num_components, threshold = 0.5):\n",
    "    image_projection = project_to_eigenspace(image, eigen_faces, mean_face)\n",
    "    max_similarity = compute_max_similarity(image_projection, eigen_faces[:num_components], num_components)\n",
    "    return max_similarity > threshold"
   ]
  },
  {
   "cell_type": "markdown",
   "id": "a8bf7902",
   "metadata": {},
   "source": [
    "Check if an image is a face"
   ]
  },
  {
   "cell_type": "code",
   "execution_count": 28,
   "id": "6fb07846",
   "metadata": {},
   "outputs": [
    {
     "name": "stdout",
     "output_type": "stream",
     "text": [
      "The image is a face\n"
     ]
    }
   ],
   "source": [
    "given_image = Image.open('non_faces/B1_00107.pgm')\n",
    "given_image = given_image.resize((nrows, ncolumns))\n",
    "num_components = 5\n",
    "\n",
    "# Convert the given image into a numpy array\n",
    "given_image = np.asarray(given_image.getdata())\n",
    "\n",
    "# Get the face evaluation result\n",
    "result = is_face(given_image, eigenfaces[:num_components], mean_face, num_components)\n",
    "if result:\n",
    "    print(\"The image is a face\")\n",
    "else:\n",
    "    print(\"The image is not a face\")"
   ]
  },
  {
   "cell_type": "markdown",
   "id": "e8acc1bc",
   "metadata": {},
   "source": [
    "Check the difference between the actual mean face and predicted mean faces"
   ]
  },
  {
   "cell_type": "code",
   "execution_count": 96,
   "id": "9c879234",
   "metadata": {},
   "outputs": [],
   "source": [
    "true_label = []\n",
    "predicted_label = []"
   ]
  },
  {
   "cell_type": "code",
   "execution_count": 97,
   "id": "dfd05153",
   "metadata": {
    "scrolled": false
   },
   "outputs": [],
   "source": [
    "# Loop through the non-faces and faces\n",
    "for i, image_file in enumerate(os.listdir(yalesfaces_dir)):\n",
    "    # Label the file as a face\n",
    "    true_label.append(1)\n",
    "    new_image = Image.open(os.path.join(yalesfaces_dir, image_file))\n",
    "    new_image = new_image.resize((nrows, ncolumns))\n",
    "    new_image = np.asarray(new_image.getdata())\n",
    "    \n",
    "    if is_face(new_image, eigenfaces[:num_components], mean_face, num_components):\n",
    "        predicted_label.append(1)\n",
    "    else:\n",
    "        predicted_label.append(0)"
   ]
  },
  {
   "cell_type": "code",
   "execution_count": 98,
   "id": "251aaf01",
   "metadata": {},
   "outputs": [],
   "source": [
    "nonfaces_dir = 'non_faces'\n",
    "# Loop through the non-faces and faces\n",
    "for i, image_file in enumerate(os.listdir(nonfaces_dir)):\n",
    "    # Label the file as a face\n",
    "    true_label.append(0)\n",
    "    new_image = Image.open(os.path.join(nonfaces_dir, image_file))\n",
    "    new_image = new_image.resize((nrows, ncolumns))\n",
    "    new_image = np.asarray(new_image.getdata())\n",
    "    \n",
    "    if is_face(new_image, eigenfaces[:num_components], mean_face, num_components):\n",
    "        predicted_label.append(1)\n",
    "    else:\n",
    "        predicted_label.append(0)"
   ]
  },
  {
   "cell_type": "markdown",
   "id": "60f866bf",
   "metadata": {},
   "source": [
    "Print the evaluation metrics"
   ]
  },
  {
   "cell_type": "code",
   "execution_count": 102,
   "id": "483e0b16",
   "metadata": {},
   "outputs": [
    {
     "name": "stdout",
     "output_type": "stream",
     "text": [
      "Accuracy score is 0.2315369261477046\n",
      "Precision score is 0.23684210526315788\n",
      "Recall score is 0.6\n",
      "F1 score is 0.339622641509434\n"
     ]
    }
   ],
   "source": [
    "score = accuracy_score(true_label, predicted_label)\n",
    "precision = precision_score(true_label, predicted_label)\n",
    "recall = recall_score(true_label, predicted_label)\n",
    "f1 = f1_score(true_label, predicted_label)\n",
    "print(f\"Accuracy score is {score}\")\n",
    "print(f\"Precision score is {precision}\")\n",
    "print(f\"Recall score is {recall}\")\n",
    "print(f\"F1 score is {f1}\")"
   ]
  },
  {
   "cell_type": "code",
   "execution_count": null,
   "id": "5d951927",
   "metadata": {},
   "outputs": [],
   "source": []
  },
  {
   "cell_type": "code",
   "execution_count": null,
   "id": "d87c66c3",
   "metadata": {},
   "outputs": [],
   "source": []
  }
 ],
 "metadata": {
  "kernelspec": {
   "display_name": "Python 3 (ipykernel)",
   "language": "python",
   "name": "python3"
  },
  "language_info": {
   "codemirror_mode": {
    "name": "ipython",
    "version": 3
   },
   "file_extension": ".py",
   "mimetype": "text/x-python",
   "name": "python",
   "nbconvert_exporter": "python",
   "pygments_lexer": "ipython3",
   "version": "3.11.4"
  }
 },
 "nbformat": 4,
 "nbformat_minor": 5
}
