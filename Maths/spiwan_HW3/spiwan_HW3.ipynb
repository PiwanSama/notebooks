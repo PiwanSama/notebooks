{
 "cells": [
  {
   "cell_type": "code",
   "execution_count": null,
   "id": "8d0cb5ef",
   "metadata": {},
   "outputs": [],
   "source": [
    "import os\n",
    "import numpy as np\n",
    "import pandas as pd\n",
    "from PIL import Image\n",
    "import matplotlib.pyplot as plt\n",
    "from sklearn import preprocessing\n",
    "from sympy import *\n",
    "import mtcnn\n",
    "import cv2\n",
    "from mtcnn.mtcnn import MTCNN\n",
    "from sklearn.model_selection import train_test_split\n",
    "from sklearn.preprocessing import LabelEncoder\n",
    "from sklearn.preprocessing import Normalizer"
   ]
  },
  {
   "cell_type": "markdown",
   "id": "c31f01b3",
   "metadata": {},
   "source": [
    "### Part 1: Dataset Selection and Preprocessing (15 points)"
   ]
  },
  {
   "cell_type": "markdown",
   "id": "d8a64e8d",
   "metadata": {},
   "source": [
    "#### Testing pre-processing and face detection on one file"
   ]
  },
  {
   "cell_type": "markdown",
   "id": "11d01035",
   "metadata": {},
   "source": [
    "Set the default image dimensions"
   ]
  },
  {
   "cell_type": "code",
   "execution_count": null,
   "id": "9c7fb373",
   "metadata": {},
   "outputs": [],
   "source": [
    "nrows = 64\n",
    "ncolumns = 64"
   ]
  },
  {
   "cell_type": "markdown",
   "id": "144e0311",
   "metadata": {},
   "source": [
    "#### Setup the dataset into training and testing data"
   ]
  },
  {
   "cell_type": "markdown",
   "id": "1327598b",
   "metadata": {},
   "source": [
    "Load the file data into different lists"
   ]
  },
  {
   "cell_type": "code",
   "execution_count": null,
   "id": "e1ddad9a",
   "metadata": {
    "scrolled": false
   },
   "outputs": [],
   "source": [
    "subject_numbers = []\n",
    "file_names = []\n",
    "categories  = []\n",
    "# Get the list of filenames\n",
    "for file in os.listdir('yalefaces'):\n",
    "    # Add the subject number, filename and category to seperate lists\n",
    "    file_names.append(file)\n",
    "    categories.append(file.split(\".\")[1])\n",
    "    subject_numbers.append(file.split(\".\")[0].replace('subject0','').replace('subject',''))"
   ]
  },
  {
   "cell_type": "markdown",
   "id": "69579a5e",
   "metadata": {},
   "source": [
    "Create a pandas DataFrame from the lists"
   ]
  },
  {
   "cell_type": "code",
   "execution_count": null,
   "id": "34881a1d",
   "metadata": {},
   "outputs": [],
   "source": [
    "faces_dict = {'Subject':subject_numbers, 'Category':categories, 'File':file_names}\n",
    "faces_df = pd.DataFrame(faces_dict, columns = ['Subject', 'Category','File'])\n",
    "faces_df.head()"
   ]
  },
  {
   "cell_type": "markdown",
   "id": "995f0c46",
   "metadata": {},
   "source": [
    "Set the sizes of the test and training datasets"
   ]
  },
  {
   "cell_type": "code",
   "execution_count": null,
   "id": "43d8c4a9",
   "metadata": {},
   "outputs": [],
   "source": [
    "training_set_count = 8\n",
    "class_count = len(faces_df[\"Subject\"].unique())\n",
    "dataset_size = faces_df[\"Category\"].count()\n",
    "test_size = 1 - (training_set_count * class_count / dataset_size)"
   ]
  },
  {
   "cell_type": "markdown",
   "id": "0eaa21a2",
   "metadata": {},
   "source": [
    "Define the X and Y columns that will be used for testing and training"
   ]
  },
  {
   "cell_type": "code",
   "execution_count": null,
   "id": "3769ed67",
   "metadata": {},
   "outputs": [],
   "source": [
    "y = faces_df['Subject']\n",
    "X = faces_df.drop('Subject', axis = 1)\n",
    "\n",
    "X_train_info, X_test_info, y_train, y_test = train_test_split(\n",
    "    X, y, test_size = test_size, random_state = 45, stratify = y)"
   ]
  },
  {
   "cell_type": "markdown",
   "id": "a049bcc2",
   "metadata": {},
   "source": [
    "Load the X_test and X_train data"
   ]
  },
  {
   "cell_type": "code",
   "execution_count": null,
   "id": "b9a8c63d",
   "metadata": {},
   "outputs": [],
   "source": [
    "def load_images_dataset(image_directory, dataset):\n",
    "    face_images = []\n",
    "    for filename in dataset[\"File\"]:\n",
    "        # Load the image from the directory as a PIL image\n",
    "        image = Image.open(os.path.join(image_directory, filename))\n",
    "        image = image.resize((nrows, ncolumns))\n",
    "        face_images.append(np.asarray(image))\n",
    "        \n",
    "    return np.asarray(face_images)"
   ]
  },
  {
   "cell_type": "code",
   "execution_count": null,
   "id": "4785907c",
   "metadata": {},
   "outputs": [],
   "source": [
    "X_test = load_images_dataset('yalefaces', X_test_info)\n",
    "X_train = load_images_dataset('yalefaces', X_train_info)"
   ]
  },
  {
   "cell_type": "markdown",
   "id": "017caf29",
   "metadata": {},
   "source": [
    "Reshape and normalize the data"
   ]
  },
  {
   "cell_type": "code",
   "execution_count": null,
   "id": "e21890ed",
   "metadata": {},
   "outputs": [],
   "source": [
    "# Normalize the input vectors and labels\n",
    "in_encoder = Normalizer(norm='l2')\n",
    "\n",
    "# Reshape X_train into a 2D array using the dimensions of the 3D array\n",
    "X_train_reshaped = X_train.reshape(X_train.shape[0],\n",
    "                                   X_train.shape[1]*X_train.shape[2])\n",
    "print('Reshaped X_train', X_train_reshaped.shape)\n",
    "X_train_reshaped = in_encoder.transform(X_train_reshaped)\n",
    "\n",
    "# Reshape X_test into a 2D array using the dimensions of the 3D array\n",
    "X_test_reshaped = X_test.reshape(X_test.shape[0],\n",
    "                                 X_test.shape[1]*X_test.shape[2])\n",
    "print('Reshaped X_test', X_test_reshaped.shape)\n",
    "X_test_reshaped = in_encoder.transform(X_test_reshaped)\n",
    "\n",
    "#Normalize labels\n",
    "out_encoder = LabelEncoder()\n",
    "out_encoder.fit(y_train)"
   ]
  },
  {
   "cell_type": "code",
   "execution_count": null,
   "id": "e97d76ae",
   "metadata": {},
   "outputs": [],
   "source": [
    "X_train.shape"
   ]
  },
  {
   "cell_type": "markdown",
   "id": "072a4b2e",
   "metadata": {},
   "source": [
    "### Part 2: Eigenface Generation (20 points)"
   ]
  },
  {
   "cell_type": "markdown",
   "id": "542a7636",
   "metadata": {},
   "source": [
    "Calculate the average face image"
   ]
  },
  {
   "cell_type": "code",
   "execution_count": null,
   "id": "4f0fd5d1",
   "metadata": {},
   "outputs": [],
   "source": [
    "# Get the length of the images array\n",
    "length_dataset = X_train_reshaped.shape[0]\n",
    "\n",
    "mean_face = np.sum(X_train_reshaped, axis=0, dtype='float64') / length_dataset"
   ]
  },
  {
   "cell_type": "markdown",
   "id": "3e621928",
   "metadata": {},
   "source": [
    "Find the mean matrix using the numpy tile function. np.tile constructs an array by repeating a given dataset by the number of times specified"
   ]
  },
  {
   "cell_type": "code",
   "execution_count": null,
   "id": "691a1aaf",
   "metadata": {},
   "outputs": [],
   "source": [
    "mean_matrix = np.tile(mean_face, (length_dataset, 1))"
   ]
  },
  {
   "cell_type": "markdown",
   "id": "8a22f3c8",
   "metadata": {},
   "source": [
    "Mean-center the image data. Mean-centering calculates the difference between the mean value and the actual value, ensuring that we are only looking at the variance in the dataset"
   ]
  },
  {
   "cell_type": "code",
   "execution_count": null,
   "id": "57f494e5",
   "metadata": {},
   "outputs": [],
   "source": [
    "X_centered = X_train_reshaped - mean_matrix"
   ]
  },
  {
   "cell_type": "markdown",
   "id": "6a93f889",
   "metadata": {},
   "source": [
    "Caclulate the co-variance in the data. Convariance is a measure of the relationship between two variables.\n",
    "\n",
    "In this case, we calculate the co-variance by finding the dot product of the image data and a transposed version of the image data"
   ]
  },
  {
   "cell_type": "code",
   "execution_count": null,
   "id": "8f83ffd2",
   "metadata": {},
   "outputs": [],
   "source": [
    "covariance_matrix = (X_centered.dot(X_centered.T)) / length_dataset"
   ]
  },
  {
   "cell_type": "markdown",
   "id": "4c99bb95",
   "metadata": {},
   "source": [
    "Find the eigenvalues and eigenvectors using the covariance matrix. Because they are square and symmetrical, covariance matrixes are diagonalizable, which means an eigendecomposition can be performed on the matrix."
   ]
  },
  {
   "cell_type": "code",
   "execution_count": null,
   "id": "51b1a157",
   "metadata": {},
   "outputs": [],
   "source": [
    "eigenvalues, eigenvectors = np.linalg.eig(covariance_matrix)"
   ]
  },
  {
   "cell_type": "markdown",
   "id": "f39bced5",
   "metadata": {},
   "source": [
    "Convert the eigenvalues and eigenvectors from complex numbers to real numbers"
   ]
  },
  {
   "cell_type": "code",
   "execution_count": null,
   "id": "aa6cd658",
   "metadata": {},
   "outputs": [],
   "source": [
    "eigenvalues = np.real(eigenvalues)\n",
    "eigenvectors = np.real(eigenvectors)"
   ]
  },
  {
   "cell_type": "markdown",
   "id": "8d1ec6af",
   "metadata": {},
   "source": [
    "Find the order of the eignevalues"
   ]
  },
  {
   "cell_type": "code",
   "execution_count": null,
   "id": "d6306ba5",
   "metadata": {},
   "outputs": [],
   "source": [
    "order = np.real(eigenvalues).argsort()[::-1]"
   ]
  },
  {
   "cell_type": "markdown",
   "id": "66e3c981",
   "metadata": {},
   "source": [
    "Sort the eigenvalues by their order"
   ]
  },
  {
   "cell_type": "code",
   "execution_count": null,
   "id": "93fd807e",
   "metadata": {},
   "outputs": [],
   "source": [
    "eigenvalues = eigenvalues[order]"
   ]
  },
  {
   "cell_type": "markdown",
   "id": "5c2ef7bc",
   "metadata": {},
   "source": [
    "Get the principal components"
   ]
  },
  {
   "cell_type": "code",
   "execution_count": null,
   "id": "5be2b069",
   "metadata": {},
   "outputs": [],
   "source": [
    "eigenvectors_C = eigenvectors[:, order]"
   ]
  },
  {
   "cell_type": "markdown",
   "id": "4b64cca7",
   "metadata": {},
   "source": [
    "Project all images to the eigen space"
   ]
  },
  {
   "cell_type": "code",
   "execution_count": null,
   "id": "930f505b",
   "metadata": {},
   "outputs": [],
   "source": [
    "eigenvectors_C = X_centered.T @ eigenvectors "
   ]
  },
  {
   "cell_type": "markdown",
   "id": "ee7f7a61",
   "metadata": {},
   "source": [
    "Normalize all the eigenfaces"
   ]
  },
  {
   "cell_type": "code",
   "execution_count": null,
   "id": "4c829bda",
   "metadata": {
    "scrolled": false
   },
   "outputs": [],
   "source": [
    "eigenfaces = preprocessing.normalize(eigenvectors_C.T)"
   ]
  },
  {
   "cell_type": "markdown",
   "id": "b0839a67",
   "metadata": {},
   "source": [
    "Plot the first eigenface"
   ]
  },
  {
   "cell_type": "code",
   "execution_count": null,
   "id": "e0f3ed88",
   "metadata": {},
   "outputs": [],
   "source": [
    "plt.imshow(np.resize(eigenfaces[0], (nrows,ncolumns)), cmap='gray')\n",
    "plt.title('First Eigenface')\n",
    "plt.show()"
   ]
  },
  {
   "cell_type": "markdown",
   "id": "d9c1e652",
   "metadata": {},
   "source": [
    "### Part 3: Face Recognition (35 points)"
   ]
  },
  {
   "cell_type": "markdown",
   "id": "ebb9de88",
   "metadata": {},
   "source": [
    "Create a function to project an image to the eigenspace"
   ]
  },
  {
   "cell_type": "code",
   "execution_count": null,
   "id": "e2f2810c",
   "metadata": {},
   "outputs": [],
   "source": [
    "def project_to_eigenspace(image, eigen_faces, mean_face):\n",
    "    return eigen_faces.dot(image - mean_face)"
   ]
  },
  {
   "cell_type": "markdown",
   "id": "17c78c65",
   "metadata": {},
   "source": [
    "Create a function to find the cosine similarity between two matrices"
   ]
  },
  {
   "cell_type": "code",
   "execution_count": null,
   "id": "94c15689",
   "metadata": {},
   "outputs": [],
   "source": [
    "def cosine_similarity(a, b):\n",
    "    dot_product = np.dot(a, b)\n",
    "    norm_a = np.linalg.norm(a)\n",
    "    norm_b = np.linalg.norm(b)\n",
    "    return dot_product / (norm_a * norm_b)"
   ]
  },
  {
   "cell_type": "markdown",
   "id": "9e69aa4c",
   "metadata": {},
   "source": [
    "Create a function to find the maximum similarity between an image projection and the set of eigen faces"
   ]
  },
  {
   "cell_type": "code",
   "execution_count": null,
   "id": "34ee8da7",
   "metadata": {},
   "outputs": [],
   "source": [
    "def compute_max_similarity(image_projection, eigen_faces, num_components):\n",
    "    eigen_projections = [project_to_eigenspace(ef, eigen_faces, mean_face) for ef in eigen_faces[:num_components]]\n",
    "    similarities = [cosine_similarity(image_projection, ep) for ep in eigen_projections]\n",
    "    \n",
    "    return np.max(similarities)"
   ]
  },
  {
   "cell_type": "markdown",
   "id": "35ecf714",
   "metadata": {},
   "source": [
    "Define a function to determine if an image contains a face"
   ]
  },
  {
   "cell_type": "code",
   "execution_count": null,
   "id": "f1d33ca3",
   "metadata": {},
   "outputs": [],
   "source": [
    "def is_face(image, eigen_faces, mean_face, num_components, threshold = 0.5):\n",
    "    image_projection = project_to_eigenspace(image, eigen_faces, mean_face)\n",
    "    max_similarity = compute_max_similarity(image_projection, eigen_faces[:num_components], num_components)\n",
    "    return max_similarity > threshold"
   ]
  },
  {
   "cell_type": "markdown",
   "id": "55b17651",
   "metadata": {},
   "source": [
    "Check if an image is a face"
   ]
  },
  {
   "cell_type": "code",
   "execution_count": null,
   "id": "b75335c9",
   "metadata": {},
   "outputs": [],
   "source": [
    "given_image = Image.open('non_faces/B1_00107.pgm')\n",
    "given_image = given_image.resize((nrows, ncolumns))\n",
    "num_components = 5\n",
    "\n",
    "# Convert the given image into a numpy array\n",
    "given_image = np.asarray(given_image.getdata())\n",
    "\n",
    "# Get the face evaluation result\n",
    "result = is_face(given_image, eigen_faces[:num_components], mean_face, num_components)\n",
    "if result:\n",
    "    print(\"The image is a face\")\n",
    "else:\n",
    "    print(\"The image is not a face\")"
   ]
  }
 ],
 "metadata": {
  "kernelspec": {
   "display_name": "Python 3 (ipykernel)",
   "language": "python",
   "name": "python3"
  },
  "language_info": {
   "codemirror_mode": {
    "name": "ipython",
    "version": 3
   },
   "file_extension": ".py",
   "mimetype": "text/x-python",
   "name": "python",
   "nbconvert_exporter": "python",
   "pygments_lexer": "ipython3",
   "version": "3.11.4"
  }
 },
 "nbformat": 4,
 "nbformat_minor": 5
}
