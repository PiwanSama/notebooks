{
 "cells": [
  {
   "cell_type": "code",
   "execution_count": 273,
   "id": "8d0cb5ef",
   "metadata": {},
   "outputs": [],
   "source": [
    "import os\n",
    "import numpy as np\n",
    "import pandas as pd\n",
    "from PIL import Image\n",
    "import matplotlib.pyplot as plt\n",
    "from sklearn import preprocessing\n",
    "#Libraries to evaluate the face recognition system's performance\n",
    "from sklearn.metrics import accuracy_score, precision_score, recall_score, f1_score\n",
    "from tabulate import tabulate"
   ]
  },
  {
   "cell_type": "markdown",
   "id": "c31f01b3",
   "metadata": {},
   "source": [
    "### Part 1: Dataset Selection and Preprocessing (15 points)"
   ]
  },
  {
   "cell_type": "markdown",
   "id": "d8a64e8d",
   "metadata": {},
   "source": [
    "#### Testing pre-processing and face detection on one file"
   ]
  },
  {
   "cell_type": "markdown",
   "id": "3a839a19",
   "metadata": {},
   "source": [
    "Set the default image dimensions"
   ]
  },
  {
   "cell_type": "code",
   "execution_count": 274,
   "id": "3a3510de",
   "metadata": {},
   "outputs": [],
   "source": [
    "nrows = 64\n",
    "ncolumns = 64"
   ]
  },
  {
   "cell_type": "markdown",
   "id": "0c1817ff",
   "metadata": {},
   "source": [
    "Specify the directory with the Yale faces and non-faces"
   ]
  },
  {
   "cell_type": "code",
   "execution_count": 275,
   "id": "e9c267ca",
   "metadata": {},
   "outputs": [],
   "source": [
    "yalefaces_dir = 'yalefaces'\n",
    "nonfaces_dir = 'non_faces'"
   ]
  },
  {
   "cell_type": "markdown",
   "id": "f5f81070",
   "metadata": {},
   "source": [
    "Load the data from the **yalefaces** directory"
   ]
  },
  {
   "cell_type": "code",
   "execution_count": 276,
   "id": "e3f2fbb9",
   "metadata": {},
   "outputs": [],
   "source": [
    "def load_images(imagedirectory):\n",
    "    image_list = []\n",
    "    for i, imagefile in enumerate(os.listdir(imagedirectory)):\n",
    "        image = Image.open(os.path.join(imagedirectory, imagefile))\n",
    "        image = image.resize((nrows, ncolumns))\n",
    "        image_list.append(np.asarray(image.getdata()))\n",
    "    return image_list"
   ]
  },
  {
   "cell_type": "markdown",
   "id": "017caf29",
   "metadata": {},
   "source": [
    "Flatten the data"
   ]
  },
  {
   "cell_type": "code",
   "execution_count": 277,
   "id": "ace091e2",
   "metadata": {},
   "outputs": [],
   "source": [
    "X = np.asarray(load_images(yalefaces_dir))"
   ]
  },
  {
   "cell_type": "code",
   "execution_count": 278,
   "id": "b45e9a32",
   "metadata": {},
   "outputs": [
    {
     "data": {
      "text/plain": [
       "(165, 4096)"
      ]
     },
     "execution_count": 278,
     "metadata": {},
     "output_type": "execute_result"
    }
   ],
   "source": [
    "X.shape"
   ]
  },
  {
   "cell_type": "markdown",
   "id": "a9be989b",
   "metadata": {},
   "source": [
    "### Part 2: Eigenface Generation (20 points)"
   ]
  },
  {
   "cell_type": "markdown",
   "id": "542a7636",
   "metadata": {},
   "source": [
    "Calculate the average face image"
   ]
  },
  {
   "cell_type": "code",
   "execution_count": 279,
   "id": "4f0fd5d1",
   "metadata": {},
   "outputs": [],
   "source": [
    "# Get the length of the images array\n",
    "length_dataset = X.shape[0]\n",
    "\n",
    "mean_face = np.sum(X, axis=0, dtype='float64') / length_dataset"
   ]
  },
  {
   "cell_type": "markdown",
   "id": "3e621928",
   "metadata": {},
   "source": [
    "Find the mean matrix using the numpy tile function. np.tile constructs an array by repeating a given dataset by the number of times specified"
   ]
  },
  {
   "cell_type": "code",
   "execution_count": 280,
   "id": "691a1aaf",
   "metadata": {},
   "outputs": [],
   "source": [
    "mean_matrix = np.tile(mean_face, (length_dataset, 1))"
   ]
  },
  {
   "cell_type": "markdown",
   "id": "8a22f3c8",
   "metadata": {},
   "source": [
    "Mean-center the image data. Mean-centering calculates the difference between the mean value and the actual value, ensuring that we are only looking at the variance in the dataset"
   ]
  },
  {
   "cell_type": "code",
   "execution_count": 292,
   "id": "57f494e5",
   "metadata": {},
   "outputs": [],
   "source": [
    "X_centered = X - mean_matrix"
   ]
  },
  {
   "cell_type": "markdown",
   "id": "6a93f889",
   "metadata": {},
   "source": [
    "Caclulate the co-variance in the data. Convariance is a measure of the relationship between two variables.\n",
    "\n",
    "In this case, we calculate the co-variance by finding the dot product of the image data and a transposed version of the image data"
   ]
  },
  {
   "cell_type": "code",
   "execution_count": 293,
   "id": "8f83ffd2",
   "metadata": {},
   "outputs": [],
   "source": [
    "covariance_matrix = (X_centered.dot(X_centered.T)) / length_dataset"
   ]
  },
  {
   "cell_type": "markdown",
   "id": "4c99bb95",
   "metadata": {},
   "source": [
    "Find the eigenvalues and eigenvectors using the covariance matrix. Because they are square and symmetrical, covariance matrixes are diagonalizable, which means an eigendecomposition can be performed on the matrix."
   ]
  },
  {
   "cell_type": "code",
   "execution_count": 294,
   "id": "51b1a157",
   "metadata": {},
   "outputs": [],
   "source": [
    "eigenvalues, eigenvectors = np.linalg.eig(covariance_matrix)"
   ]
  },
  {
   "cell_type": "markdown",
   "id": "e8699879",
   "metadata": {},
   "source": [
    "Convert the eigenvalues and eigenvectors from complex numbers to real numbers"
   ]
  },
  {
   "cell_type": "code",
   "execution_count": 295,
   "id": "a70ea240",
   "metadata": {},
   "outputs": [],
   "source": [
    "eigenvalues = np.real(eigenvalues)\n",
    "eigenvectors = np.real(eigenvectors)"
   ]
  },
  {
   "cell_type": "markdown",
   "id": "8d1ec6af",
   "metadata": {},
   "source": [
    "Find the order of the eignevalues"
   ]
  },
  {
   "cell_type": "code",
   "execution_count": 296,
   "id": "d6306ba5",
   "metadata": {},
   "outputs": [],
   "source": [
    "order = np.real(eigenvalues).argsort()[::-1]"
   ]
  },
  {
   "cell_type": "markdown",
   "id": "66e3c981",
   "metadata": {},
   "source": [
    "Sort the eigenvalues by their order"
   ]
  },
  {
   "cell_type": "code",
   "execution_count": 297,
   "id": "2cba99e0",
   "metadata": {},
   "outputs": [],
   "source": [
    "eigenvalues = eigenvalues[order]"
   ]
  },
  {
   "cell_type": "markdown",
   "id": "5c2ef7bc",
   "metadata": {},
   "source": [
    "Get the principal components"
   ]
  },
  {
   "cell_type": "code",
   "execution_count": 298,
   "id": "5be2b069",
   "metadata": {},
   "outputs": [],
   "source": [
    "eigenvectors_C = eigenvectors[:, order]"
   ]
  },
  {
   "cell_type": "markdown",
   "id": "4b64cca7",
   "metadata": {},
   "source": [
    "Project all images to the eigen space"
   ]
  },
  {
   "cell_type": "code",
   "execution_count": 299,
   "id": "930f505b",
   "metadata": {},
   "outputs": [],
   "source": [
    "eigenvectors_C = X_centered.T @ eigenvectors "
   ]
  },
  {
   "cell_type": "markdown",
   "id": "ee7f7a61",
   "metadata": {},
   "source": [
    "Normalize all the eigenfaces"
   ]
  },
  {
   "cell_type": "code",
   "execution_count": 300,
   "id": "4c829bda",
   "metadata": {
    "scrolled": false
   },
   "outputs": [],
   "source": [
    "eigenfaces = preprocessing.normalize(eigenvectors_C.T)"
   ]
  },
  {
   "cell_type": "markdown",
   "id": "b0839a67",
   "metadata": {},
   "source": [
    "Plot the first eigenface"
   ]
  },
  {
   "cell_type": "code",
   "execution_count": 301,
   "id": "e0f3ed88",
   "metadata": {},
   "outputs": [
    {
     "data": {
      "image/png": "[encoded data removed]",
      "text/plain": [
       "<Figure size 640x480 with 1 Axes>"
      ]
     },
     "metadata": {},
     "output_type": "display_data"
    }
   ],
   "source": [
    "plt.imshow(np.resize(eigenfaces[0], (nrows,ncolumns)), cmap='gray')\n",
    "plt.title('First Eigenface')\n",
    "plt.show()"
   ]
  },
  {
   "cell_type": "markdown",
   "id": "5f73d5ab",
   "metadata": {},
   "source": [
    "### Part 3: Face Recognition (35 points)"
   ]
  },
  {
   "cell_type": "markdown",
   "id": "f4c8335f",
   "metadata": {},
   "source": [
    "Get the recounstruction error to determine the initial number of components to use"
   ]
  },
  {
   "cell_type": "code",
   "execution_count": 302,
   "id": "f8e3bc0d",
   "metadata": {},
   "outputs": [
    {
     "data": {
      "image/png": "[encoded data removed]",
      "text/plain": [
       "<Figure size 640x480 with 1 Axes>"
      ]
     },
     "metadata": {},
     "output_type": "display_data"
    },
    {
     "name": "stdout",
     "output_type": "stream",
     "text": [
      "Mean reconstruction error using k=10: 1773.56261683575\n"
     ]
    }
   ],
   "source": [
    "errors = []\n",
    "\n",
    "for k in range(1, 11):\n",
    "    error_sum = 0\n",
    "    for F in X:\n",
    "        omega = eigenfaces[:k].dot(F - mean_face)\n",
    "        F_reconstructed = eigenfaces[:k].T.dot(omega) + mean_face\n",
    "        error = np.linalg.norm(F - F_reconstructed)\n",
    "        error_sum += error\n",
    "    mean_error = error_sum / X.shape[0]\n",
    "    errors.append(mean_error)\n",
    "\n",
    "plt.plot(range(1, 11), errors)\n",
    "plt.xlabel('Number of Eigenfaces (k)')\n",
    "plt.ylabel('Mean Reconstruction Error')\n",
    "plt.title('Mean Reconstruction Error vs Number of Eigenfaces')\n",
    "plt.show()\n",
    "\n",
    "print(f\"Mean reconstruction error using k=10: {errors[9]}\")"
   ]
  },
  {
   "cell_type": "markdown",
   "id": "289a144c",
   "metadata": {},
   "source": [
    "From the above graph we can deduce that 10 or more Eigenfaces represent the same data, as the the mean reconstruction error reduces towards a straight line. Therefore, we will start with the number of components as 10, and then compare the performance as the number of components increases"
   ]
  },
  {
   "cell_type": "code",
   "execution_count": 304,
   "id": "bb7a90d0",
   "metadata": {},
   "outputs": [],
   "source": [
    "num_components = 10"
   ]
  },
  {
   "cell_type": "markdown",
   "id": "cca28825",
   "metadata": {},
   "source": [
    "Create a function to project an image to the eigenspace"
   ]
  },
  {
   "cell_type": "code",
   "execution_count": 305,
   "id": "3c13fa59",
   "metadata": {},
   "outputs": [],
   "source": [
    "def project_to_eigenspace(image, eigen_faces, mean_face):\n",
    "    return eigen_faces.dot(image - mean_face)"
   ]
  },
  {
   "cell_type": "markdown",
   "id": "a7bd01bc",
   "metadata": {},
   "source": [
    "Create a function to find the cosine similarity between two matrices"
   ]
  },
  {
   "cell_type": "code",
   "execution_count": 306,
   "id": "d5ffc0a5",
   "metadata": {},
   "outputs": [],
   "source": [
    "def cosine_similarity(a, b):\n",
    "    dot_product = np.dot(a, b)\n",
    "    norm_a = np.linalg.norm(a)\n",
    "    norm_b = np.linalg.norm(b)\n",
    "    return dot_product / (norm_a * norm_b)"
   ]
  },
  {
   "cell_type": "markdown",
   "id": "e8b0739f",
   "metadata": {},
   "source": [
    "Create a function to find the maximum similarity between an image projection and the set of eigen faces"
   ]
  },
  {
   "cell_type": "code",
   "execution_count": 307,
   "id": "281da6bc",
   "metadata": {},
   "outputs": [],
   "source": [
    "def compute_max_similarity(image_projection, eigen_faces, num_components):\n",
    "    eigen_projections = [project_to_eigenspace(ef, eigen_faces, mean_face) for ef in eigen_faces[:num_components]]\n",
    "    similarities = [cosine_similarity(image_projection, ep) for ep in eigen_projections]\n",
    "    \n",
    "    return np.max(similarities)"
   ]
  },
  {
   "cell_type": "markdown",
   "id": "7f690fa2",
   "metadata": {},
   "source": [
    "Define a function to determine if an image contains a face"
   ]
  },
  {
   "cell_type": "code",
   "execution_count": 308,
   "id": "6e371e90",
   "metadata": {},
   "outputs": [],
   "source": [
    "def is_face(image, eigen_faces, mean_face, num_components, threshold = 0.5):\n",
    "    image_projection = project_to_eigenspace(image, eigen_faces, mean_face)\n",
    "    max_similarity = compute_max_similarity(image_projection, eigen_faces[:num_components], num_components)\n",
    "    return max_similarity > threshold"
   ]
  },
  {
   "cell_type": "markdown",
   "id": "1517619c",
   "metadata": {},
   "source": [
    "Check if an image is a face"
   ]
  },
  {
   "cell_type": "code",
   "execution_count": 309,
   "id": "7fcadcaa",
   "metadata": {},
   "outputs": [
    {
     "name": "stdout",
     "output_type": "stream",
     "text": [
      "The image is a face\n"
     ]
    }
   ],
   "source": [
    "given_image = Image.open('non_faces/B1_00002.pgm')\n",
    "given_image = given_image.resize((nrows, ncolumns))\n",
    "\n",
    "# Convert the given image into a numpy array\n",
    "given_image = np.asarray(given_image.getdata())\n",
    "\n",
    "# Get the face evaluation result\n",
    "result = is_face(given_image, eigenfaces[:num_components], mean_face, num_components)\n",
    "if result:\n",
    "    print(\"The image is a face\")\n",
    "else:\n",
    "    print(\"The image is not a face\")"
   ]
  },
  {
   "cell_type": "markdown",
   "id": "103fbb1b",
   "metadata": {},
   "source": [
    "Check the difference between the actual mean face and predicted mean faces"
   ]
  },
  {
   "cell_type": "code",
   "execution_count": 310,
   "id": "cec3e94c",
   "metadata": {
    "scrolled": false
   },
   "outputs": [],
   "source": [
    "true_label = []\n",
    "predicted_label = []\n",
    "\n",
    "for i, imagefile in enumerate(os.listdir(yalefaces_dir)):\n",
    "    true_label.append(1)\n",
    "    new_image = Image.open(os.path.join(yalefaces_dir, imagefile))\n",
    "    new_image = new_image.resize((nrows, ncolumns))\n",
    "    new_image = np.asarray(new_image.getdata())\n",
    "    if is_face(new_image, eigenfaces[:num_components], mean_face, num_components):\n",
    "        predicted_label.append(1)\n",
    "    else:\n",
    "        predicted_label.append(0)"
   ]
  },
  {
   "cell_type": "code",
   "execution_count": 311,
   "id": "951e525a",
   "metadata": {},
   "outputs": [],
   "source": [
    "# Loop through the non-faces\n",
    "for i, image_file in enumerate(os.listdir(nonfaces_dir)):\n",
    "    true_label.append(0)\n",
    "    new_image = Image.open(os.path.join(nonfaces_dir, image_file))\n",
    "    new_image = new_image.resize((nrows, ncolumns))\n",
    "    new_image = np.asarray(new_image.getdata())\n",
    "    \n",
    "    if is_face(new_image, eigenfaces[:num_components], mean_face, num_components):\n",
    "        predicted_label.append(1)\n",
    "    else:\n",
    "        predicted_label.append(0)"
   ]
  },
  {
   "cell_type": "markdown",
   "id": "636e5977",
   "metadata": {},
   "source": [
    "Print the evaluation metrics"
   ]
  },
  {
   "cell_type": "code",
   "execution_count": 312,
   "id": "9cf0ea59",
   "metadata": {},
   "outputs": [
    {
     "name": "stdout",
     "output_type": "stream",
     "text": [
      "Accuracy score is 0.09381237524950099\n",
      "F1 score is 0.05809128630705395\n"
     ]
    }
   ],
   "source": [
    "score = accuracy_score(true_label, predicted_label)\n",
    "f1 = f1_score(true_label, predicted_label)\n",
    "print(f\"Accuracy score is {score}\")\n",
    "print(f\"F1 score is {f1}\")"
   ]
  },
  {
   "cell_type": "markdown",
   "id": "229b3aba",
   "metadata": {},
   "source": [
    "### Part 4: Experimentation and Analysis (20 points)"
   ]
  },
  {
   "cell_type": "markdown",
   "id": "fd94f370",
   "metadata": {},
   "source": [
    "Define a function to calculate the accuracy with a varying number of components using the logic defined above"
   ]
  },
  {
   "cell_type": "code",
   "execution_count": 313,
   "id": "2644602c",
   "metadata": {},
   "outputs": [],
   "source": [
    "def get_accuracy_score(num_components, faces_directory, non_faces_directory):\n",
    "    # Loop through the faces\n",
    "    for i, image_file in enumerate(os.listdir(faces_directory)):\n",
    "        # Label the file as a face\n",
    "        true_label.append(1)\n",
    "        new_image = Image.open(os.path.join(faces_directory, image_file))\n",
    "        new_image = new_image.resize((nrows, ncolumns))\n",
    "        new_image = np.asarray(new_image.getdata())\n",
    "\n",
    "        if is_face(new_image, eigenfaces[:num_components], mean_face, num_components):\n",
    "            predicted_label.append(1)\n",
    "        else:\n",
    "            predicted_label.append(0)\n",
    "        \n",
    "    # Loop through the non-faces\n",
    "    for i, image_file in enumerate(os.listdir(non_faces_directory)):\n",
    "        # Label the file as a face\n",
    "        true_label.append(0)\n",
    "        new_image = Image.open(os.path.join(non_faces_directory, image_file))\n",
    "        new_image = new_image.resize((nrows, ncolumns))\n",
    "        new_image = np.asarray(new_image.getdata())\n",
    "\n",
    "        if is_face(new_image, eigenfaces[:num_components], mean_face, num_components):\n",
    "            predicted_label.append(1)\n",
    "        else:\n",
    "            predicted_label.append(0)\n",
    "            \n",
    "    #Compute the accuracy and F1 scores\n",
    "    score = accuracy_score(true_label, predicted_label)\n",
    "    f1 = f1_score(true_label, predicted_label)\n",
    "    # Return the four computed metrics\n",
    "    return score, f1     "
   ]
  },
  {
   "cell_type": "markdown",
   "id": "b598abaf",
   "metadata": {},
   "source": [
    "Create a loop that checks the accuracy for an increasing number of components"
   ]
  },
  {
   "cell_type": "code",
   "execution_count": 314,
   "id": "ff465880",
   "metadata": {},
   "outputs": [],
   "source": [
    "# Create lists to hold the metrics\n",
    "evaluation_scores = []\n",
    "for num_components in range(1, 50, 5):\n",
    "    score, f1 = get_accuracy_score(num_components, yalefaces_dir, nonfaces_dir)\n",
    "    evaluation_scores.append([num_components, score, f1])"
   ]
  },
  {
   "cell_type": "markdown",
   "id": "d3a23199",
   "metadata": {},
   "source": [
    "Print the results in a table"
   ]
  },
  {
   "cell_type": "code",
   "execution_count": 315,
   "id": "f200a9ef",
   "metadata": {},
   "outputs": [
    {
     "name": "stdout",
     "output_type": "stream",
     "text": [
      "  Number of Components    Accuracy Score    F1 Score\n",
      "----------------------  ----------------  ----------\n",
      "                     1         0.127745    0.157996\n",
      "                     6         0.111111    0.127937\n",
      "                    11         0.106786    0.111221\n",
      "                    16         0.104192    0.100962\n",
      "                    21         0.102794    0.0940544\n",
      "                    26         0.101796    0.0890688\n",
      "                    31         0.101048    0.0853008\n",
      "                    36         0.100466    0.0823529\n",
      "                    41         0.0998004   0.0795918\n",
      "                    46         0.099256    0.0773234\n"
     ]
    }
   ],
   "source": [
    "table = evaluation_scores\n",
    "print(tabulate(table, headers=[\"Number of Components\", \"Accuracy Score\", \"F1 Score\"]))"
   ]
  },
  {
   "cell_type": "markdown",
   "id": "0e106875",
   "metadata": {},
   "source": [
    "**Conclusion**"
   ]
  },
  {
   "cell_type": "code",
   "execution_count": null,
   "id": "991f6e1f",
   "metadata": {},
   "outputs": [],
   "source": [
    "diff = 0.633763 - 0.612679\n",
    "round(diff, 4)"
   ]
  },
  {
   "cell_type": "markdown",
   "id": "79be4a42",
   "metadata": {},
   "source": [
    "As the number of components of components increases, the accuracy of the model only shows slight increment. For example with 26 components, the accuracy score is 0.612679 while with 86 components, the accuracy is 0.633763. The difference in accuracy score between using 26 and 86 components is approximately 0.0211. \n",
    "\n",
    "Therefore, we can conclude that the number of components increases, the algorithm has already extracted the most relevant information from the faces with the initial set of features and the new images being added are not adding more information to the algorithm\n",
    "\n",
    "We can also conclude that the model will perform as well when using the initial number of components which was 5"
   ]
  },
  {
   "cell_type": "markdown",
   "id": "173c09c9",
   "metadata": {},
   "source": [
    "#### Strengths of Eignefaces"
   ]
  },
  {
   "cell_type": "markdown",
   "id": "256bbe2a",
   "metadata": {},
   "source": [
    "- Raw intensity data are used directly for learning and recognition without any significant low-level or mid-level processing\n",
    "- No knowledge of geometry and reflectance of faces is required\n",
    "- Data compression is achieved by the low-dimensional subspace representation\n",
    "- Recognition is simple and efficient compared to other matching approaches."
   ]
  },
  {
   "cell_type": "markdown",
   "id": "78bd14b0",
   "metadata": {},
   "source": [
    "#### Limitations of Eignefaces"
   ]
  },
  {
   "cell_type": "code",
   "execution_count": null,
   "id": "f2a5a1b3",
   "metadata": {},
   "outputs": [],
   "source": []
  }
 ],
 "metadata": {
  "kernelspec": {
   "display_name": "Python 3 (ipykernel)",
   "language": "python",
   "name": "python3"
  },
  "language_info": {
   "codemirror_mode": {
    "name": "ipython",
    "version": 3
   },
   "file_extension": ".py",
   "mimetype": "text/x-python",
   "name": "python",
   "nbconvert_exporter": "python",
   "pygments_lexer": "ipython3",
   "version": "3.11.4"
  }
 },
 "nbformat": 4,
 "nbformat_minor": 5
}
