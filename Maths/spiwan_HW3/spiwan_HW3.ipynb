{
 "cells": [
  {
   "cell_type": "code",
   "execution_count": 1,
   "id": "8d0cb5ef",
   "metadata": {},
   "outputs": [],
   "source": [
    "import os\n",
    "import numpy as np \n",
    "from PIL import Image\n",
    "import matplotlib.pyplot as plt\n",
    "from sklearn import preprocessing"
   ]
  },
  {
   "cell_type": "markdown",
   "id": "1ecfa7b3",
   "metadata": {},
   "source": [
    "#### Part 1: Dataset Selection and Preprocessing (15 points)"
   ]
  },
  {
   "cell_type": "markdown",
   "id": "a13269fe",
   "metadata": {},
   "source": [
    "Get the number of rows and columns from the first image in the directory"
   ]
  },
  {
   "cell_type": "code",
   "execution_count": 2,
   "id": "31870e0d",
   "metadata": {},
   "outputs": [],
   "source": [
    "image = Image.open('yalefaces/subject01.centerlight')\n",
    "nrows, ncolumns = image.height, image.width"
   ]
  },
  {
   "cell_type": "markdown",
   "id": "307784fb",
   "metadata": {},
   "source": [
    "Define a function to get load and preprocess the data"
   ]
  },
  {
   "cell_type": "code",
   "execution_count": 9,
   "id": "ffe2cf4c",
   "metadata": {},
   "outputs": [],
   "source": [
    "def process_images(image_directory):\n",
    "    image_files = []\n",
    "    for i, file in enumerate(os.listdir(image_directory)):\n",
    "        image = Image.open(os.path.join(image_directory, file))\n",
    "        image = image.resize((300, 400)).convert('L')\n",
    "        image_files.append(np.asarray(image.getdata()))\n",
    "    return image_files"
   ]
  },
  {
   "cell_type": "markdown",
   "id": "00ba5de1",
   "metadata": {},
   "source": [
    "#### Part 2: Eigenface Generation (20 points)"
   ]
  },
  {
   "cell_type": "markdown",
   "id": "4696583a",
   "metadata": {},
   "source": [
    "Load the images from the 'yalefaces' directory and flatten them into a dataset"
   ]
  },
  {
   "cell_type": "code",
   "execution_count": 10,
   "id": "56c65d51",
   "metadata": {},
   "outputs": [],
   "source": [
    "X = np.asarray(process_images('yalefaces'))"
   ]
  },
  {
   "cell_type": "markdown",
   "id": "8269713e",
   "metadata": {},
   "source": [
    "Confirm the shape of the flattened dataset. Since the dataset contains 165 images and we have resized the images into 300 by 400 size, we should expect the shape to by 165 by 300 * 400"
   ]
  },
  {
   "cell_type": "code",
   "execution_count": 11,
   "id": "be28870d",
   "metadata": {},
   "outputs": [
    {
     "data": {
      "text/plain": [
       "(165, 120000)"
      ]
     },
     "execution_count": 11,
     "metadata": {},
     "output_type": "execute_result"
    }
   ],
   "source": [
    "X.shape"
   ]
  },
  {
   "cell_type": "markdown",
   "id": "e3d91576",
   "metadata": {},
   "source": [
    "Calculate the average face image"
   ]
  },
  {
   "cell_type": "code",
   "execution_count": 15,
   "id": "b3b0e9d4",
   "metadata": {},
   "outputs": [],
   "source": [
    "# Get the length of the images array\n",
    "length_dataset = X.shape[0]\n",
    "\n",
    "mean_face = np.sum(X, axis=0, dtype='float64') / length_dataset"
   ]
  },
  {
   "cell_type": "markdown",
   "id": "cea9848b",
   "metadata": {},
   "source": [
    "Find the mean matrix using the numpy tile function. np.tile constructs an array by repeating a given dataset by the number of times specified"
   ]
  },
  {
   "cell_type": "code",
   "execution_count": 16,
   "id": "dea33470",
   "metadata": {},
   "outputs": [],
   "source": [
    "mean_matrix = np.tile(mean_face, (length_dataset, 1)) "
   ]
  },
  {
   "cell_type": "markdown",
   "id": "164ec784",
   "metadata": {},
   "source": [
    "Mean-center the image data. Mean-centering calculates the difference between the mean value and the actual value, ensuring that we are only looking at the variance in the dataset"
   ]
  },
  {
   "cell_type": "code",
   "execution_count": 17,
   "id": "bfec54e9",
   "metadata": {},
   "outputs": [],
   "source": [
    "X_centered = X - mean_matrix"
   ]
  },
  {
   "cell_type": "markdown",
   "id": "f1cc35d5",
   "metadata": {},
   "source": [
    "Caclulate the co-variance in the data. Convariance is a measure of the relationship between two variables.\n",
    "\n",
    "In this case, we calculate the co-variance by finding the dot product of the image data and a transposed version of the image data"
   ]
  },
  {
   "cell_type": "code",
   "execution_count": 18,
   "id": "176fe9fd",
   "metadata": {},
   "outputs": [],
   "source": [
    "covariance_matrix = (X_centered.dot(X_centered.T)) / length_dataset"
   ]
  },
  {
   "cell_type": "markdown",
   "id": "ad306f38",
   "metadata": {},
   "source": [
    "Find the eigenvalues and eigenvectors using the covariance matrix. Because they are square and symmetrical, covariance matrixes are diagonalizable, which means an eigendecomposition can be performed on the matrix."
   ]
  },
  {
   "cell_type": "code",
   "execution_count": 19,
   "id": "96f11ee3",
   "metadata": {},
   "outputs": [],
   "source": [
    "eigenvalues, eigenvectors = np.linalg.eig(covariance_matrix)"
   ]
  },
  {
   "cell_type": "markdown",
   "id": "4fb95c36",
   "metadata": {},
   "source": [
    "Find the order of the eignevalues"
   ]
  },
  {
   "cell_type": "code",
   "execution_count": 20,
   "id": "be1043b8",
   "metadata": {},
   "outputs": [],
   "source": [
    "order = eigenvalues.argsort()[::-1]"
   ]
  },
  {
   "cell_type": "markdown",
   "id": "c006769c",
   "metadata": {},
   "source": [
    "Sort the eigenvalues by their order"
   ]
  },
  {
   "cell_type": "code",
   "execution_count": 21,
   "id": "4839b3e4",
   "metadata": {},
   "outputs": [],
   "source": [
    "eigenvalues = eigenvalues[order]"
   ]
  },
  {
   "cell_type": "markdown",
   "id": "95ee7b66",
   "metadata": {},
   "source": [
    "Get the principal components"
   ]
  },
  {
   "cell_type": "code",
   "execution_count": 23,
   "id": "a6a64280",
   "metadata": {},
   "outputs": [],
   "source": [
    "eigenvectors_C = eigenvectors[:, order]"
   ]
  },
  {
   "cell_type": "markdown",
   "id": "aaf82f66",
   "metadata": {},
   "source": [
    "Project all images to the eigen space"
   ]
  },
  {
   "cell_type": "code",
   "execution_count": 24,
   "id": "0beabc0d",
   "metadata": {},
   "outputs": [],
   "source": [
    "eigenvectors_C = X_centered.T @ eigenvectors "
   ]
  },
  {
   "cell_type": "markdown",
   "id": "42915ef6",
   "metadata": {},
   "source": [
    "Normalize all the eigenfaces"
   ]
  },
  {
   "cell_type": "code",
   "execution_count": 27,
   "id": "234bf1f3",
   "metadata": {
    "scrolled": false
   },
   "outputs": [
    {
     "ename": "ValueError",
     "evalue": "Complex data not supported\n[[-4.86737370e+01+0.00000000e+00j -7.77793566e+01+0.00000000e+00j\n  -8.69613346e+01+0.00000000e+00j ... -2.85648336e+01+0.00000000e+00j\n  -2.75107970e+01+0.00000000e+00j -2.70522939e+01+0.00000000e+00j]\n [-9.47427847e+01+0.00000000e+00j -1.10129694e+02+0.00000000e+00j\n  -1.10706229e+02+0.00000000e+00j ...  3.19657070e+01+0.00000000e+00j\n   3.40089772e+01+0.00000000e+00j  3.31238582e+01+0.00000000e+00j]\n [ 4.43513892e+00+0.00000000e+00j  5.79034303e+00+0.00000000e+00j\n   9.33619393e+00+0.00000000e+00j ... -1.08749397e+00+0.00000000e+00j\n  -4.14668419e-01+0.00000000e+00j  1.40578921e-01+0.00000000e+00j]\n ...\n [-2.79345111e-14-5.21163048e-15j -1.82071050e-14+4.67698124e-15j\n  -2.61104355e-14+2.08510928e-14j ...  3.48637457e-16+3.38737701e-15j\n   4.80110257e-15+5.17181114e-15j  9.94320776e-15+4.54228992e-15j]\n [ 9.18534228e-14+0.00000000e+00j  7.90646345e-14+0.00000000e+00j\n   5.36802355e-14+0.00000000e+00j ... -6.19483430e-15+0.00000000e+00j\n  -1.98998111e-14+0.00000000e+00j -2.26730384e-14+0.00000000e+00j]\n [-1.25712578e-14+0.00000000e+00j -1.62448449e-14+0.00000000e+00j\n  -2.65289411e-14+0.00000000e+00j ... -3.99547652e-15+0.00000000e+00j\n  -3.37512214e-15+0.00000000e+00j -3.37071089e-15+0.00000000e+00j]]\n",
     "output_type": "error",
     "traceback": [
      "\u001b[1;31m---------------------------------------------------------------------------\u001b[0m",
      "\u001b[1;31mComplexWarning\u001b[0m                            Traceback (most recent call last)",
      "File \u001b[1;32m~\\anaconda3\\Lib\\site-packages\\sklearn\\utils\\validation.py:917\u001b[0m, in \u001b[0;36mcheck_array\u001b[1;34m(array, accept_sparse, accept_large_sparse, dtype, order, copy, force_all_finite, ensure_2d, allow_nd, ensure_min_samples, ensure_min_features, estimator, input_name)\u001b[0m\n\u001b[0;32m    916\u001b[0m     \u001b[38;5;28;01melse\u001b[39;00m:\n\u001b[1;32m--> 917\u001b[0m         array \u001b[38;5;241m=\u001b[39m _asarray_with_order(array, order\u001b[38;5;241m=\u001b[39morder, dtype\u001b[38;5;241m=\u001b[39mdtype, xp\u001b[38;5;241m=\u001b[39mxp)\n\u001b[0;32m    918\u001b[0m \u001b[38;5;28;01mexcept\u001b[39;00m ComplexWarning \u001b[38;5;28;01mas\u001b[39;00m complex_warning:\n",
      "File \u001b[1;32m~\\anaconda3\\Lib\\site-packages\\sklearn\\utils\\_array_api.py:380\u001b[0m, in \u001b[0;36m_asarray_with_order\u001b[1;34m(array, dtype, order, copy, xp)\u001b[0m\n\u001b[0;32m    379\u001b[0m \u001b[38;5;28;01melse\u001b[39;00m:\n\u001b[1;32m--> 380\u001b[0m     array \u001b[38;5;241m=\u001b[39m numpy\u001b[38;5;241m.\u001b[39masarray(array, order\u001b[38;5;241m=\u001b[39morder, dtype\u001b[38;5;241m=\u001b[39mdtype)\n\u001b[0;32m    382\u001b[0m \u001b[38;5;66;03m# At this point array is a NumPy ndarray. We convert it to an array\u001b[39;00m\n\u001b[0;32m    383\u001b[0m \u001b[38;5;66;03m# container that is consistent with the input's namespace.\u001b[39;00m\n",
      "\u001b[1;31mComplexWarning\u001b[0m: Casting complex values to real discards the imaginary part",
      "\nThe above exception was the direct cause of the following exception:\n",
      "\u001b[1;31mValueError\u001b[0m                                Traceback (most recent call last)",
      "Cell \u001b[1;32mIn[27], line 1\u001b[0m\n\u001b[1;32m----> 1\u001b[0m eigenfaces \u001b[38;5;241m=\u001b[39m preprocessing\u001b[38;5;241m.\u001b[39mnormalize(eigenvectors_C\u001b[38;5;241m.\u001b[39mT)\n",
      "File \u001b[1;32m~\\anaconda3\\Lib\\site-packages\\sklearn\\utils\\_param_validation.py:211\u001b[0m, in \u001b[0;36mvalidate_params.<locals>.decorator.<locals>.wrapper\u001b[1;34m(*args, **kwargs)\u001b[0m\n\u001b[0;32m    205\u001b[0m \u001b[38;5;28;01mtry\u001b[39;00m:\n\u001b[0;32m    206\u001b[0m     \u001b[38;5;28;01mwith\u001b[39;00m config_context(\n\u001b[0;32m    207\u001b[0m         skip_parameter_validation\u001b[38;5;241m=\u001b[39m(\n\u001b[0;32m    208\u001b[0m             prefer_skip_nested_validation \u001b[38;5;129;01mor\u001b[39;00m global_skip_validation\n\u001b[0;32m    209\u001b[0m         )\n\u001b[0;32m    210\u001b[0m     ):\n\u001b[1;32m--> 211\u001b[0m         \u001b[38;5;28;01mreturn\u001b[39;00m func(\u001b[38;5;241m*\u001b[39margs, \u001b[38;5;241m*\u001b[39m\u001b[38;5;241m*\u001b[39mkwargs)\n\u001b[0;32m    212\u001b[0m \u001b[38;5;28;01mexcept\u001b[39;00m InvalidParameterError \u001b[38;5;28;01mas\u001b[39;00m e:\n\u001b[0;32m    213\u001b[0m     \u001b[38;5;66;03m# When the function is just a wrapper around an estimator, we allow\u001b[39;00m\n\u001b[0;32m    214\u001b[0m     \u001b[38;5;66;03m# the function to delegate validation to the estimator, but we replace\u001b[39;00m\n\u001b[0;32m    215\u001b[0m     \u001b[38;5;66;03m# the name of the estimator by the name of the function in the error\u001b[39;00m\n\u001b[0;32m    216\u001b[0m     \u001b[38;5;66;03m# message to avoid confusion.\u001b[39;00m\n\u001b[0;32m    217\u001b[0m     msg \u001b[38;5;241m=\u001b[39m re\u001b[38;5;241m.\u001b[39msub(\n\u001b[0;32m    218\u001b[0m         \u001b[38;5;124mr\u001b[39m\u001b[38;5;124m\"\u001b[39m\u001b[38;5;124mparameter of \u001b[39m\u001b[38;5;124m\\\u001b[39m\u001b[38;5;124mw+ must be\u001b[39m\u001b[38;5;124m\"\u001b[39m,\n\u001b[0;32m    219\u001b[0m         \u001b[38;5;124mf\u001b[39m\u001b[38;5;124m\"\u001b[39m\u001b[38;5;124mparameter of \u001b[39m\u001b[38;5;132;01m{\u001b[39;00mfunc\u001b[38;5;241m.\u001b[39m\u001b[38;5;18m__qualname__\u001b[39m\u001b[38;5;132;01m}\u001b[39;00m\u001b[38;5;124m must be\u001b[39m\u001b[38;5;124m\"\u001b[39m,\n\u001b[0;32m    220\u001b[0m         \u001b[38;5;28mstr\u001b[39m(e),\n\u001b[0;32m    221\u001b[0m     )\n",
      "File \u001b[1;32m~\\anaconda3\\Lib\\site-packages\\sklearn\\preprocessing\\_data.py:1843\u001b[0m, in \u001b[0;36mnormalize\u001b[1;34m(X, norm, axis, copy, return_norm)\u001b[0m\n\u001b[0;32m   1840\u001b[0m \u001b[38;5;28;01melse\u001b[39;00m:  \u001b[38;5;66;03m# axis == 1:\u001b[39;00m\n\u001b[0;32m   1841\u001b[0m     sparse_format \u001b[38;5;241m=\u001b[39m \u001b[38;5;124m\"\u001b[39m\u001b[38;5;124mcsr\u001b[39m\u001b[38;5;124m\"\u001b[39m\n\u001b[1;32m-> 1843\u001b[0m X \u001b[38;5;241m=\u001b[39m check_array(\n\u001b[0;32m   1844\u001b[0m     X,\n\u001b[0;32m   1845\u001b[0m     accept_sparse\u001b[38;5;241m=\u001b[39msparse_format,\n\u001b[0;32m   1846\u001b[0m     copy\u001b[38;5;241m=\u001b[39mcopy,\n\u001b[0;32m   1847\u001b[0m     estimator\u001b[38;5;241m=\u001b[39m\u001b[38;5;124m\"\u001b[39m\u001b[38;5;124mthe normalize function\u001b[39m\u001b[38;5;124m\"\u001b[39m,\n\u001b[0;32m   1848\u001b[0m     dtype\u001b[38;5;241m=\u001b[39mFLOAT_DTYPES,\n\u001b[0;32m   1849\u001b[0m )\n\u001b[0;32m   1850\u001b[0m \u001b[38;5;28;01mif\u001b[39;00m axis \u001b[38;5;241m==\u001b[39m \u001b[38;5;241m0\u001b[39m:\n\u001b[0;32m   1851\u001b[0m     X \u001b[38;5;241m=\u001b[39m X\u001b[38;5;241m.\u001b[39mT\n",
      "File \u001b[1;32m~\\anaconda3\\Lib\\site-packages\\sklearn\\utils\\validation.py:919\u001b[0m, in \u001b[0;36mcheck_array\u001b[1;34m(array, accept_sparse, accept_large_sparse, dtype, order, copy, force_all_finite, ensure_2d, allow_nd, ensure_min_samples, ensure_min_features, estimator, input_name)\u001b[0m\n\u001b[0;32m    917\u001b[0m             array \u001b[38;5;241m=\u001b[39m _asarray_with_order(array, order\u001b[38;5;241m=\u001b[39morder, dtype\u001b[38;5;241m=\u001b[39mdtype, xp\u001b[38;5;241m=\u001b[39mxp)\n\u001b[0;32m    918\u001b[0m     \u001b[38;5;28;01mexcept\u001b[39;00m ComplexWarning \u001b[38;5;28;01mas\u001b[39;00m complex_warning:\n\u001b[1;32m--> 919\u001b[0m         \u001b[38;5;28;01mraise\u001b[39;00m \u001b[38;5;167;01mValueError\u001b[39;00m(\n\u001b[0;32m    920\u001b[0m             \u001b[38;5;124m\"\u001b[39m\u001b[38;5;124mComplex data not supported\u001b[39m\u001b[38;5;130;01m\\n\u001b[39;00m\u001b[38;5;132;01m{}\u001b[39;00m\u001b[38;5;130;01m\\n\u001b[39;00m\u001b[38;5;124m\"\u001b[39m\u001b[38;5;241m.\u001b[39mformat(array)\n\u001b[0;32m    921\u001b[0m         ) \u001b[38;5;28;01mfrom\u001b[39;00m \u001b[38;5;21;01mcomplex_warning\u001b[39;00m\n\u001b[0;32m    923\u001b[0m \u001b[38;5;66;03m# It is possible that the np.array(..) gave no warning. This happens\u001b[39;00m\n\u001b[0;32m    924\u001b[0m \u001b[38;5;66;03m# when no dtype conversion happened, for example dtype = None. The\u001b[39;00m\n\u001b[0;32m    925\u001b[0m \u001b[38;5;66;03m# result is that np.array(..) produces an array of complex dtype\u001b[39;00m\n\u001b[0;32m    926\u001b[0m \u001b[38;5;66;03m# and we need to catch and raise exception for such cases.\u001b[39;00m\n\u001b[0;32m    927\u001b[0m _ensure_no_complex_data(array)\n",
      "\u001b[1;31mValueError\u001b[0m: Complex data not supported\n[[-4.86737370e+01+0.00000000e+00j -7.77793566e+01+0.00000000e+00j\n  -8.69613346e+01+0.00000000e+00j ... -2.85648336e+01+0.00000000e+00j\n  -2.75107970e+01+0.00000000e+00j -2.70522939e+01+0.00000000e+00j]\n [-9.47427847e+01+0.00000000e+00j -1.10129694e+02+0.00000000e+00j\n  -1.10706229e+02+0.00000000e+00j ...  3.19657070e+01+0.00000000e+00j\n   3.40089772e+01+0.00000000e+00j  3.31238582e+01+0.00000000e+00j]\n [ 4.43513892e+00+0.00000000e+00j  5.79034303e+00+0.00000000e+00j\n   9.33619393e+00+0.00000000e+00j ... -1.08749397e+00+0.00000000e+00j\n  -4.14668419e-01+0.00000000e+00j  1.40578921e-01+0.00000000e+00j]\n ...\n [-2.79345111e-14-5.21163048e-15j -1.82071050e-14+4.67698124e-15j\n  -2.61104355e-14+2.08510928e-14j ...  3.48637457e-16+3.38737701e-15j\n   4.80110257e-15+5.17181114e-15j  9.94320776e-15+4.54228992e-15j]\n [ 9.18534228e-14+0.00000000e+00j  7.90646345e-14+0.00000000e+00j\n   5.36802355e-14+0.00000000e+00j ... -6.19483430e-15+0.00000000e+00j\n  -1.98998111e-14+0.00000000e+00j -2.26730384e-14+0.00000000e+00j]\n [-1.25712578e-14+0.00000000e+00j -1.62448449e-14+0.00000000e+00j\n  -2.65289411e-14+0.00000000e+00j ... -3.99547652e-15+0.00000000e+00j\n  -3.37512214e-15+0.00000000e+00j -3.37071089e-15+0.00000000e+00j]]\n"
     ]
    }
   ],
   "source": [
    "eigenfaces = preprocessing.normalize(eigenvectors_C.T)"
   ]
  },
  {
   "cell_type": "markdown",
   "id": "c716c2d2",
   "metadata": {},
   "source": [
    "Plot the first eigenface"
   ]
  },
  {
   "cell_type": "code",
   "execution_count": 28,
   "id": "998e4899",
   "metadata": {},
   "outputs": [
    {
     "ename": "NameError",
     "evalue": "name 'eigenfaces' is not defined",
     "output_type": "error",
     "traceback": [
      "\u001b[1;31m---------------------------------------------------------------------------\u001b[0m",
      "\u001b[1;31mNameError\u001b[0m                                 Traceback (most recent call last)",
      "Cell \u001b[1;32mIn[28], line 1\u001b[0m\n\u001b[1;32m----> 1\u001b[0m plt\u001b[38;5;241m.\u001b[39mimshow(np\u001b[38;5;241m.\u001b[39mresize(eigenfaces[\u001b[38;5;241m0\u001b[39m], (nrows,ncolumns)), cmap\u001b[38;5;241m=\u001b[39m\u001b[38;5;124m'\u001b[39m\u001b[38;5;124mgray\u001b[39m\u001b[38;5;124m'\u001b[39m)\n\u001b[0;32m      2\u001b[0m plt\u001b[38;5;241m.\u001b[39mtitle(\u001b[38;5;124m'\u001b[39m\u001b[38;5;124mFirst Eigen Face\u001b[39m\u001b[38;5;124m'\u001b[39m)\n\u001b[0;32m      3\u001b[0m plt\u001b[38;5;241m.\u001b[39mshow()\n",
      "\u001b[1;31mNameError\u001b[0m: name 'eigenfaces' is not defined"
     ]
    }
   ],
   "source": [
    "plt.imshow(np.resize(eigenfaces[0], (nrows,ncolumns)), cmap='gray')\n",
    "plt.title('First Eigen Face')\n",
    "plt.show()"
   ]
  },
  {
   "cell_type": "code",
   "execution_count": null,
   "id": "b6b8cf91",
   "metadata": {},
   "outputs": [],
   "source": []
  }
 ],
 "metadata": {
  "kernelspec": {
   "display_name": "Python 3 (ipykernel)",
   "language": "python",
   "name": "python3"
  },
  "language_info": {
   "codemirror_mode": {
    "name": "ipython",
    "version": 3
   },
   "file_extension": ".py",
   "mimetype": "text/x-python",
   "name": "python",
   "nbconvert_exporter": "python",
   "pygments_lexer": "ipython3",
   "version": "3.11.4"
  }
 },
 "nbformat": 4,
 "nbformat_minor": 5
}
