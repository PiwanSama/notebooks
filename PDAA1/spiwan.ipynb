{
 "cells": [
  {
   "cell_type": "markdown",
   "id": "c3b7278d",
   "metadata": {},
   "source": [
    "# Programming for Data Analytics - Task One"
   ]
  },
  {
   "cell_type": "markdown",
   "id": "cfb45256",
   "metadata": {},
   "source": [
    "Prepared by Samalie Piwan   \n",
    "Email : spiwan@andrew.cmu.edu"
   ]
  },
  {
   "cell_type": "markdown",
   "id": "80bde3f2",
   "metadata": {},
   "source": [
    "### Section 1: Numpy"
   ]
  },
  {
   "cell_type": "markdown",
   "id": "bc499a8d",
   "metadata": {},
   "source": [
    "#### Question 1: Analyzing Monthly Expenses [15 Pts]\n",
    "\n",
    "Scenario:You are tasked with analyzing monthly expenses for a small business. You have two lists: one containing monthly expenses for the current year, and another for the previous year.\n",
    "\n",
    "current_year_expenses = [1200, 1350, 1100, 980, 1500]\n",
    "\n",
    "previous_year_expenses = [1150, 1300, 1050, 950, 1400]"
   ]
  },
  {
   "cell_type": "markdown",
   "id": "0309fea5",
   "metadata": {},
   "source": [
    "a) Create a Python script that imports NumPy, sets up two arrays based on the two lists, and calculates the following statistics for both current and previous year's expenses:\n",
    "- Mean (average) expense\n",
    "- Median expense\n",
    "- Standard deviation of expenses\n",
    "- Total expenses"
   ]
  },
  {
   "cell_type": "markdown",
   "id": "a60a0d68",
   "metadata": {},
   "source": [
    "Converting the lists to numpy arrays"
   ]
  },
  {
   "cell_type": "code",
   "execution_count": 48,
   "id": "53ce8a67",
   "metadata": {},
   "outputs": [],
   "source": [
    "# Import numpy\n",
    "import numpy as np\n",
    "\n",
    "# Initialize the two lists\n",
    "current_year_expenses = [1200, 1350, 1100, 980, 1500]\n",
    "previous_year_expenses = [1150, 1300, 1050, 950, 1400]\n",
    "\n",
    "# Convert the lists to numpy arrays\n",
    "current_year_expenses = np.array(current_year_expenses)\n",
    "previous_year_expenses = np.array(previous_year_expenses)"
   ]
  },
  {
   "cell_type": "markdown",
   "id": "9631616b",
   "metadata": {},
   "source": [
    "Getting statistics for current_year_expenses"
   ]
  },
  {
   "cell_type": "code",
   "execution_count": 49,
   "id": "c91fa055",
   "metadata": {},
   "outputs": [
    {
     "name": "stdout",
     "output_type": "stream",
     "text": [
      "Current Year Mean : 1226.0\n",
      "Current Year Median: 1200.0\n",
      "Current Year Total : 6130\n"
     ]
    }
   ],
   "source": [
    "current_year_mean = np.mean(current_year_expenses)\n",
    "print(f\"Current Year Mean : {current_year_mean}\")\n",
    "current_year_median = np.median(current_year_expenses)\n",
    "print(f\"Current Year Median: {current_year_median}\")\n",
    "current_year_total = np.sum(current_year_expenses)\n",
    "print(f\"Current Year Total : {current_year_total}\")"
   ]
  },
  {
   "cell_type": "markdown",
   "id": "0910f913",
   "metadata": {},
   "source": [
    "Getting statistics for previous_year_expenses"
   ]
  },
  {
   "cell_type": "code",
   "execution_count": 24,
   "id": "50fa42b9",
   "metadata": {},
   "outputs": [
    {
     "name": "stdout",
     "output_type": "stream",
     "text": [
      "Previous Year Mean : 1170.0\n",
      "Previous Year Median: 1150.0\n",
      "Previous Year Total : 5850\n"
     ]
    }
   ],
   "source": [
    "previous_year_mean = np.mean(previous_year_expenses)\n",
    "print(f\"Previous Year Mean : {previous_year_mean}\")\n",
    "previous_year_median = np.median(previous_year_expenses)\n",
    "print(f\"Previous Year Median: {previous_year_median}\")\n",
    "previous_year_total = np.sum(previous_year_expenses)\n",
    "print(f\"Previous Year Total : {previous_year_total}\")"
   ]
  },
  {
   "cell_type": "markdown",
   "id": "dbcf87fe",
   "metadata": {},
   "source": [
    "b) Imagine you are a financial analyst presenting these expense statistics to the company's executives. In your code, calculate and print the following based on the calculated means of the current and previous year's expenses:"
   ]
  },
  {
   "cell_type": "markdown",
   "id": "27680646",
   "metadata": {},
   "source": [
    "The difference between the mean expenses of the current year and the previous year."
   ]
  },
  {
   "cell_type": "code",
   "execution_count": 25,
   "id": "91e76be4",
   "metadata": {},
   "outputs": [
    {
     "name": "stdout",
     "output_type": "stream",
     "text": [
      "The difference between the mean expenses of the current year and previous year is 56.0\n"
     ]
    }
   ],
   "source": [
    "# Calculate the mean difference using the variables initialized above\n",
    "mean_diff = current_year_mean - previous_year_mean\n",
    "print(f\"The difference between the mean expenses of the current year and previous year is {mean_diff}\")"
   ]
  },
  {
   "cell_type": "markdown",
   "id": "36c7f99c",
   "metadata": {},
   "source": [
    "The percentage change in mean expenses from the previous year to the current year."
   ]
  },
  {
   "cell_type": "code",
   "execution_count": 26,
   "id": "f5eab4f5",
   "metadata": {},
   "outputs": [
    {
     "name": "stdout",
     "output_type": "stream",
     "text": [
      "The percentage change in mean expenses from the previous year to the current year is 4.786%\n"
     ]
    }
   ],
   "source": [
    "# We can find the percentage change using the formula change / original_value * 100\n",
    "pct_change = (mean_diff / previous_year_mean) * 100\n",
    "print(f\"The percentage change in mean expenses from the previous year to the current year is {round(pct_change, 3)}%\")"
   ]
  },
  {
   "cell_type": "markdown",
   "id": "e16db886",
   "metadata": {},
   "source": [
    "c. You are responsible for financial risk assessment. In your code, calculate and print the following practical metrics based on the standard deviation of expenses for the current and previous year:\n",
    "\n",
    "- The coefficient of variation (CV) for both years (CV = (Standard Deviation / Mean) * 100)\n",
    "- A risk assessment message for each year based on the CV (e.g., \"Low Risk\" for CV < 20, \"Moderate Risk\" for 20 <= CV < 50, \"High Risk\" for CV >= 50)."
   ]
  },
  {
   "cell_type": "code",
   "execution_count": 43,
   "id": "6e44adbb",
   "metadata": {},
   "outputs": [],
   "source": [
    "def get_risk_assessment(cv):\n",
    "    if cv < 20:\n",
    "        print(\"Risk Assessment : Low Risk\")\n",
    "    elif 20 <= cv <= 50:\n",
    "        print(\"Risk Assessment : Moderate Risk\")\n",
    "    else:\n",
    "        print(\"Risk Assessment : High Risk\")"
   ]
  },
  {
   "cell_type": "code",
   "execution_count": 44,
   "id": "70f09e09",
   "metadata": {},
   "outputs": [
    {
     "name": "stdout",
     "output_type": "stream",
     "text": [
      "The coffeicent of variation for the current year is 14.929933035755369\n",
      "Risk Assessment : Low Risk\n"
     ]
    }
   ],
   "source": [
    "current_year_std = np.std(current_year_expenses)\n",
    "current_coeff_of_variation = (current_year_std / current_year_mean) * 100\n",
    "print(f\"The coffeicent of variation for the current year is {current_coeff_of_variation}\")\n",
    "\n",
    "# Call the get_risk_assessment function to print the risk assessment of the CV\n",
    "get_risk_assessment(current_coeff_of_variation)"
   ]
  },
  {
   "cell_type": "code",
   "execution_count": 45,
   "id": "5880d99f",
   "metadata": {},
   "outputs": [
    {
     "name": "stdout",
     "output_type": "stream",
     "text": [
      "The coffeicent of variation for the previous year is 13.939749085726572\n",
      "Risk Assessment : Low Risk\n"
     ]
    }
   ],
   "source": [
    "previous_year_std = np.std(previous_year_expenses)\n",
    "previous_coeff_of_variation = (previous_year_std / previous_year_mean) * 100\n",
    "print(f\"The coffeicent of variation for the previous year is {previous_coeff_of_variation}\")\n",
    "\n",
    "# Call the get_risk_assessment function to print the risk assessment of the CV\n",
    "get_risk_assessment(previous_coeff_of_variation)"
   ]
  },
  {
   "cell_type": "markdown",
   "id": "7f56f3d1",
   "metadata": {},
   "source": [
    "### Question 2: Sales Forecasting with NumPy [10 Pts]"
   ]
  },
  {
   "cell_type": "markdown",
   "id": "d04c9005",
   "metadata": {},
   "source": [
    "Scenario: Suppose you want to forecast monthly sales for the upcoming year based on historical sales data. You have access to the monthly sales data for the last three years. Historical sales data for the last three years (12 months each year):\n",
    "\n",
    "year1_sales = [12000, 13500, 11000, 9800, 15000, 12300, 13700, 11150, 9750, 14850, 13000, 15500] \n",
    "\n",
    "year2_sales = [12500, 13000, 11200, 9900, 15200, 12600, 14200, 11350, 9950, 15000, 13500, 16000] \n",
    "\n",
    "year3_sales = [12300, 13700, 11150, 9750, 14850, 12800, 13900, 11000, 9600, 14500, 12750, 14200]"
   ]
  },
  {
   "cell_type": "code",
   "execution_count": 50,
   "id": "37235cc1",
   "metadata": {},
   "outputs": [],
   "source": [
    "# Initialize the three lists\n",
    "year1_sales = [12000, 13500, 11000, 9800, 15000, 12300, 13700, 11150, 9750, 14850, 13000, 15500] \n",
    "year2_sales = [12500, 13000, 11200, 9900, 15200, 12600, 14200, 11350, 9950, 15000, 13500, 16000] \n",
    "year3_sales = [12300, 13700, 11150, 9750, 14850, 12800, 13900, 11000, 9600, 14500, 12750, 14200]\n",
    "\n",
    "# Convert the lists to numpy arrays\n",
    "year1_sales = np.array([12000, 13500, 11000, 9800, 15000, 12300, 13700, 11150, 9750, 14850, 13000, 15500]) \n",
    "year2_sales = np.array([12500, 13000, 11200, 9900, 15200, 12600, 14200, 11350, 9950, 15000, 13500, 16000]) \n",
    "year3_sales = np.array([12300, 13700, 11150, 9750, 14850, 12800, 13900, 11000, 9600, 14500, 12750, 14200])"
   ]
  },
  {
   "cell_type": "markdown",
   "id": "25d3cc08",
   "metadata": {},
   "source": [
    "a) Create a Python script that imports NumPy (you need not re-import NumPy though if you completed Question 1), sets up a suitable array (or arrays), and calculates the monthly sales forecast for the upcoming year using the historical data."
   ]
  },
  {
   "cell_type": "code",
   "execution_count": 59,
   "id": "182eda29",
   "metadata": {},
   "outputs": [
    {
     "name": "stdout",
     "output_type": "stream",
     "text": [
      "Upcoming Sales Forecast :\n"
     ]
    },
    {
     "data": {
      "text/plain": [
       "[12266.666666666666,\n",
       " 13400.0,\n",
       " 11116.666666666666,\n",
       " 9816.666666666666,\n",
       " 15016.666666666666,\n",
       " 12566.666666666666,\n",
       " 13933.333333333334,\n",
       " 11166.666666666666,\n",
       " 9766.666666666666,\n",
       " 14783.333333333334,\n",
       " 13083.333333333334,\n",
       " 15233.333333333334]"
      ]
     },
     "execution_count": 59,
     "metadata": {},
     "output_type": "execute_result"
    }
   ],
   "source": [
    "# Create a list for the monthly sales forecast\n",
    "upcoming_sales = []\n",
    "\n",
    "# Find the length of the sales data lists top loop through the three sales lists\n",
    "len_dataset = len(year1_sales)\n",
    "index = 0\n",
    "\n",
    "while index < len_dataset:\n",
    "    \n",
    "    # Loop through each list and pick the value for the month specified by the index value\n",
    "    monthly_val_one = year1_sales[index]\n",
    "    monthly_val_two = year2_sales[index]\n",
    "    monthly_val_three = year3_sales[index]\n",
    "      \n",
    "    # Find the mean value of the 3 values for that month and add them to the upcoming_sales list\n",
    "    upcoming_val = np.mean([monthly_val_one, monthly_val_two, monthly_val_three])\n",
    "    upcoming_sales.append(upcoming_val)\n",
    "    \n",
    "    index+=1\n",
    " \n",
    "print(\"Upcoming Sales Forecast :\")\n",
    "upcoming_sales"
   ]
  },
  {
   "cell_type": "code",
   "execution_count": null,
   "id": "d6daf0d4",
   "metadata": {},
   "outputs": [],
   "source": []
  }
 ],
 "metadata": {
  "kernelspec": {
   "display_name": "Python 3 (ipykernel)",
   "language": "python",
   "name": "python3"
  },
  "language_info": {
   "codemirror_mode": {
    "name": "ipython",
    "version": 3
   },
   "file_extension": ".py",
   "mimetype": "text/x-python",
   "name": "python",
   "nbconvert_exporter": "python",
   "pygments_lexer": "ipython3",
   "version": "3.11.4"
  }
 },
 "nbformat": 4,
 "nbformat_minor": 5
}
