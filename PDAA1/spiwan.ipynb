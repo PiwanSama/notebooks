{
 "cells": [
  {
   "cell_type": "markdown",
   "id": "fa167ebc",
   "metadata": {},
   "source": [
    "# Programming for Data Analytics - Task One"
   ]
  },
  {
   "cell_type": "markdown",
   "id": "f4b53946",
   "metadata": {},
   "source": [
    "Prepared by Samalie Piwan   \n",
    "Email : spiwan@andrew.cmu.edu"
   ]
  },
  {
   "cell_type": "markdown",
   "id": "7b90c1e0",
   "metadata": {},
   "source": [
    "### Section 1: Numpy"
   ]
  },
  {
   "cell_type": "markdown",
   "id": "d91d31a7",
   "metadata": {},
   "source": [
    "#### Question 1: Analyzing Monthly Expenses [15 Pts]\n",
    "\n",
    "Scenario:You are tasked with analyzing monthly expenses for a small business. You have two lists: one containing monthly expenses for the current year, and another for the previous year.\n",
    "\n",
    "current_year_expenses = [1200, 1350, 1100, 980, 1500]\n",
    "\n",
    "previous_year_expenses = [1150, 1300, 1050, 950, 1400]"
   ]
  },
  {
   "cell_type": "markdown",
   "id": "58e10931",
   "metadata": {},
   "source": [
    "a) Create a Python script that imports NumPy, sets up two arrays based on the two lists, and calculates the following statistics for both current and previous year's expenses:\n",
    "- Mean (average) expense\n",
    "- Median expense\n",
    "- Standard deviation of expenses\n",
    "- Total expenses"
   ]
  },
  {
   "cell_type": "markdown",
   "id": "a7d0f830",
   "metadata": {},
   "source": [
    "Converting the lists to numpy arrays"
   ]
  },
  {
   "cell_type": "code",
   "execution_count": 1,
   "id": "0b219221",
   "metadata": {},
   "outputs": [],
   "source": [
    "# Import numpy\n",
    "import numpy as np\n",
    "\n",
    "# Initialize the two lists\n",
    "current_year_expenses = [1200, 1350, 1100, 980, 1500]\n",
    "previous_year_expenses = [1150, 1300, 1050, 950, 1400]\n",
    "\n",
    "# Convert the lists to numpy arrays\n",
    "current_year_expenses = np.array(current_year_expenses)\n",
    "previous_year_expenses = np.array(previous_year_expenses)"
   ]
  },
  {
   "cell_type": "markdown",
   "id": "44a31731",
   "metadata": {},
   "source": [
    "Getting statistics for current_year_expenses"
   ]
  },
  {
   "cell_type": "code",
   "execution_count": 2,
   "id": "cddc8d6b",
   "metadata": {},
   "outputs": [
    {
     "name": "stdout",
     "output_type": "stream",
     "text": [
      "Current Year Mean : 1226.0\n",
      "Current Year Median: 1200.0\n",
      "Current Year Total : 6130\n"
     ]
    }
   ],
   "source": [
    "current_year_mean = np.mean(current_year_expenses)\n",
    "print(f\"Current Year Mean : {current_year_mean}\")\n",
    "current_year_median = np.median(current_year_expenses)\n",
    "print(f\"Current Year Median: {current_year_median}\")\n",
    "current_year_total = np.sum(current_year_expenses)\n",
    "print(f\"Current Year Total : {current_year_total}\")"
   ]
  },
  {
   "cell_type": "markdown",
   "id": "c95ea8b5",
   "metadata": {},
   "source": [
    "Getting statistics for previous_year_expenses"
   ]
  },
  {
   "cell_type": "code",
   "execution_count": 3,
   "id": "80cccfdd",
   "metadata": {},
   "outputs": [
    {
     "name": "stdout",
     "output_type": "stream",
     "text": [
      "Previous Year Mean : 1170.0\n",
      "Previous Year Median: 1150.0\n",
      "Previous Year Total : 5850\n"
     ]
    }
   ],
   "source": [
    "previous_year_mean = np.mean(previous_year_expenses)\n",
    "print(f\"Previous Year Mean : {previous_year_mean}\")\n",
    "previous_year_median = np.median(previous_year_expenses)\n",
    "print(f\"Previous Year Median: {previous_year_median}\")\n",
    "previous_year_total = np.sum(previous_year_expenses)\n",
    "print(f\"Previous Year Total : {previous_year_total}\")"
   ]
  },
  {
   "cell_type": "markdown",
   "id": "90dc3052",
   "metadata": {},
   "source": [
    "b) Imagine you are a financial analyst presenting these expense statistics to the company's executives. In your code, calculate and print the following based on the calculated means of the current and previous year's expenses:"
   ]
  },
  {
   "cell_type": "markdown",
   "id": "844fa3fd",
   "metadata": {},
   "source": [
    "- The difference between the mean expenses of the current year and the previous year."
   ]
  },
  {
   "cell_type": "code",
   "execution_count": 4,
   "id": "0bde499f",
   "metadata": {},
   "outputs": [
    {
     "name": "stdout",
     "output_type": "stream",
     "text": [
      "The difference between the mean expenses of the current year and previous year is 56.0\n"
     ]
    }
   ],
   "source": [
    "# Calculate the mean difference using the variables initialized above\n",
    "mean_diff = current_year_mean - previous_year_mean\n",
    "print(f\"The difference between the mean expenses of the current year and previous year is {mean_diff}\")"
   ]
  },
  {
   "cell_type": "markdown",
   "id": "248726d0",
   "metadata": {},
   "source": [
    "- The percentage change in mean expenses from the previous year to the current year."
   ]
  },
  {
   "cell_type": "code",
   "execution_count": 5,
   "id": "8ec66ec0",
   "metadata": {},
   "outputs": [
    {
     "name": "stdout",
     "output_type": "stream",
     "text": [
      "The percentage change in mean expenses from the previous year to the current year is 4.786%\n"
     ]
    }
   ],
   "source": [
    "# We can find the percentage change using the formula change / original_value * 100\n",
    "pct_change = (mean_diff / previous_year_mean) * 100\n",
    "print(f\"The percentage change in mean expenses from the previous year to the current year is {round(pct_change, 3)}%\")"
   ]
  },
  {
   "cell_type": "markdown",
   "id": "ba3c4a94",
   "metadata": {},
   "source": [
    "c. You are responsible for financial risk assessment. In your code, calculate and print the following practical metrics based on the standard deviation of expenses for the current and previous year:\n",
    "\n",
    "- The coefficient of variation (CV) for both years (CV = (Standard Deviation / Mean) * 100)\n",
    "- A risk assessment message for each year based on the CV (e.g., \"Low Risk\" for CV < 20, \"Moderate Risk\" for 20 <= CV < 50, \"High Risk\" for CV >= 50)."
   ]
  },
  {
   "cell_type": "code",
   "execution_count": 6,
   "id": "b0fc2e4a",
   "metadata": {},
   "outputs": [],
   "source": [
    "def get_risk_assessment(cv):\n",
    "    if cv < 20:\n",
    "        print(\"Risk Assessment : Low Risk\")\n",
    "    elif 20 <= cv <= 50:\n",
    "        print(\"Risk Assessment : Moderate Risk\")\n",
    "    else:\n",
    "        print(\"Risk Assessment : High Risk\")"
   ]
  },
  {
   "cell_type": "code",
   "execution_count": 7,
   "id": "ffbdde76",
   "metadata": {},
   "outputs": [
    {
     "name": "stdout",
     "output_type": "stream",
     "text": [
      "The coffeicent of variation for the current year is 14.929933035755369\n",
      "Risk Assessment : Low Risk\n"
     ]
    }
   ],
   "source": [
    "current_year_std = np.std(current_year_expenses)\n",
    "current_coeff_of_variation = (current_year_std / current_year_mean) * 100\n",
    "print(f\"The coffeicent of variation for the current year is {current_coeff_of_variation}\")\n",
    "\n",
    "# Call the get_risk_assessment function to print the risk assessment of the CV\n",
    "get_risk_assessment(current_coeff_of_variation)"
   ]
  },
  {
   "cell_type": "code",
   "execution_count": 8,
   "id": "6d0ca984",
   "metadata": {},
   "outputs": [
    {
     "name": "stdout",
     "output_type": "stream",
     "text": [
      "The coffeicent of variation for the previous year is 13.939749085726572\n",
      "Risk Assessment : Low Risk\n"
     ]
    }
   ],
   "source": [
    "previous_year_std = np.std(previous_year_expenses)\n",
    "previous_coeff_of_variation = (previous_year_std / previous_year_mean) * 100\n",
    "print(f\"The coffeicent of variation for the previous year is {previous_coeff_of_variation}\")\n",
    "\n",
    "# Call the get_risk_assessment function to print the risk assessment of the CV\n",
    "get_risk_assessment(previous_coeff_of_variation)"
   ]
  },
  {
   "cell_type": "markdown",
   "id": "fba203d4",
   "metadata": {},
   "source": [
    "### Question 2: Sales Forecasting with NumPy [10 Pts]"
   ]
  },
  {
   "cell_type": "markdown",
   "id": "9020a83c",
   "metadata": {},
   "source": [
    "Scenario: Suppose you want to forecast monthly sales for the upcoming year based on historical sales data. You have access to the monthly sales data for the last three years. Historical sales data for the last three years (12 months each year):\n",
    "\n",
    "year1_sales = [12000, 13500, 11000, 9800, 15000, 12300, 13700, 11150, 9750, 14850, 13000, 15500] \n",
    "\n",
    "year2_sales = [12500, 13000, 11200, 9900, 15200, 12600, 14200, 11350, 9950, 15000, 13500, 16000] \n",
    "\n",
    "year3_sales = [12300, 13700, 11150, 9750, 14850, 12800, 13900, 11000, 9600, 14500, 12750, 14200]"
   ]
  },
  {
   "cell_type": "code",
   "execution_count": 9,
   "id": "46a3499f",
   "metadata": {},
   "outputs": [],
   "source": [
    "# Initialize the three lists\n",
    "year1_sales = [12000, 13500, 11000, 9800, 15000, 12300, 13700, 11150, 9750, 14850, 13000, 15500] \n",
    "year2_sales = [12500, 13000, 11200, 9900, 15200, 12600, 14200, 11350, 9950, 15000, 13500, 16000] \n",
    "year3_sales = [12300, 13700, 11150, 9750, 14850, 12800, 13900, 11000, 9600, 14500, 12750, 14200]\n",
    "\n",
    "# Convert the lists to numpy arrays\n",
    "year1_sales = np.array([12000, 13500, 11000, 9800, 15000, 12300, 13700, 11150, 9750, 14850, 13000, 15500]) \n",
    "year2_sales = np.array([12500, 13000, 11200, 9900, 15200, 12600, 14200, 11350, 9950, 15000, 13500, 16000]) \n",
    "year3_sales = np.array([12300, 13700, 11150, 9750, 14850, 12800, 13900, 11000, 9600, 14500, 12750, 14200])"
   ]
  },
  {
   "cell_type": "markdown",
   "id": "8a5b3613",
   "metadata": {},
   "source": [
    "a) Create a Python script that imports NumPy (you need not re-import NumPy though if you completed Question 1), sets up a suitable array (or arrays), and calculates the monthly sales forecast for the upcoming year using the historical data."
   ]
  },
  {
   "cell_type": "code",
   "execution_count": 10,
   "id": "d9787c19",
   "metadata": {},
   "outputs": [
    {
     "name": "stdout",
     "output_type": "stream",
     "text": [
      "Upcoming Sales Forecast :\n",
      "\n",
      "[12266.666666666666, 13400.0, 11116.666666666666, 9816.666666666666, 15016.666666666666, 12566.666666666666, 13933.333333333334, 11166.666666666666, 9766.666666666666, 14783.333333333334, 13083.333333333334, 15233.333333333334]\n"
     ]
    }
   ],
   "source": [
    "def get_sales_forecast():\n",
    "    # Create a list for the monthly sales forecast\n",
    "    upcoming_sales = []\n",
    "\n",
    "    # Find the length of the sales data lists top loop through the three sales lists\n",
    "    len_dataset = len(year1_sales)\n",
    "    index = 0\n",
    "\n",
    "    while index < len_dataset:\n",
    "\n",
    "        # Loop through each list and pick the value for the month specified by the index value\n",
    "        monthly_val_one = year1_sales[index]\n",
    "        monthly_val_two = year2_sales[index]\n",
    "        monthly_val_three = year3_sales[index]\n",
    "\n",
    "        # Find the mean value of the 3 values for that month and add them to the upcoming_sales list\n",
    "        upcoming_val = np.mean([monthly_val_one, monthly_val_two, monthly_val_three])\n",
    "        upcoming_sales.append(upcoming_val)\n",
    "\n",
    "        index+=1\n",
    "    \n",
    "    # Return the list of forecast sales\n",
    "    return upcoming_sales\n",
    "\n",
    "# Load the forecast sales into a list\n",
    "forecast_sales = get_sales_forecast()\n",
    "\n",
    "# Print the results\n",
    "print(\"Upcoming Sales Forecast :\\n\")\n",
    "print(forecast_sales)"
   ]
  },
  {
   "cell_type": "markdown",
   "id": "6dfaeb55",
   "metadata": {},
   "source": [
    "b) Consider that external factors such as discounts and promotions can significantly affect sales. Write Python code to adjust the monthly sales forecast based on a list of percentage changes for each month due to expected promotions.\n",
    "\n",
    "List of percentage changes for each month due to promotions (e.g., 10% increase in March, 7% decrease in January): \n",
    "\n",
    "promotion_percentages = [-0.07, 0.0, 0.10, 0.0, 0.0, -0.05, 0.0, 0.0, 0.08, 0.0, 0.0, 0.15]"
   ]
  },
  {
   "cell_type": "code",
   "execution_count": 11,
   "id": "deddf706",
   "metadata": {},
   "outputs": [
    {
     "name": "stdout",
     "output_type": "stream",
     "text": [
      "Updated upcoming sales with percentage changes for each month due to promotions applied : \n",
      "\n",
      "[11408.0, 13400.0, 12228.333333333332, 9816.666666666666, 15016.666666666666, 11938.333333333332, 13933.333333333334, 11166.666666666666, 10548.0, 14783.333333333334, 13083.333333333334, 17518.333333333336]\n"
     ]
    }
   ],
   "source": [
    "# Create a list for the precentage changes and convert to a numpy array\n",
    "promotion_percentages = [-0.07, 0.0, 0.10, 0.0, 0.0, -0.05, 0.0, 0.0, 0.08, 0.0, 0.0, 0.15]\n",
    "promotion_percentages = np.array(promotion_percentages)\n",
    "\n",
    "# Get the list of forecast sales\n",
    "forecast_sales = get_sales_forecast()\n",
    "\n",
    "# Get the length of the forecast sales list\n",
    "len_forecast_dataset = len(forecast_sales)\n",
    "\n",
    "# Create a list for the updated monthly sales forecast\n",
    "updated_upcoming_sales = []\n",
    "index = 0\n",
    "    \n",
    "#Loop through the forecast sales and get the updated sales value\n",
    "while index < len_forecast_dataset:\n",
    "\n",
    "    # Get the new value after percentage change is applied\n",
    "    forecast_change = promotion_percentages[index] * forecast_sales[index]\n",
    "\n",
    "    # Calculate the change in the forecast\n",
    "    updated_forecast = forecast_sales[index] + forecast_change\n",
    "    updated_upcoming_sales.append(updated_forecast)\n",
    "    \n",
    "    index+=1\n",
    "\n",
    "# Print the list of updated forecast sales\n",
    "print(\"Updated upcoming sales with percentage changes for each month due to promotions applied : \\n\")\n",
    "print(updated_upcoming_sales)"
   ]
  },
  {
   "cell_type": "markdown",
   "id": "078788fc",
   "metadata": {},
   "source": [
    "### Section 2: Matplotlib"
   ]
  },
  {
   "cell_type": "markdown",
   "id": "7e3a21a1",
   "metadata": {},
   "source": [
    "#### Question 3: Basic matplotlib plot [15 Pts]"
   ]
  },
  {
   "cell_type": "markdown",
   "id": "b49d0693",
   "metadata": {},
   "source": [
    "Scenario: Imagine you are analyzing the monthly sales data of a small business. You have a list of months and corresponding sales values. Your task is to create a basic line plot using matplotlib.\n",
    "\n",
    "months = [Jan, Feb, Mar, Apr, May]\n",
    "\n",
    "sales = [10000, 12000, 9000, 11000, 13000]"
   ]
  },
  {
   "cell_type": "code",
   "execution_count": 12,
   "id": "6b6ca8b5",
   "metadata": {},
   "outputs": [],
   "source": [
    "# Import the matplotlib library\n",
    "import matplotlib.pyplot as plt\n",
    "import matplotlib.dates as mdates"
   ]
  },
  {
   "cell_type": "code",
   "execution_count": 13,
   "id": "5c9e770d",
   "metadata": {},
   "outputs": [
    {
     "data": {
      "image/png": "[encoded data removed]",
      "text/plain": [
       "<Figure size 640x480 with 1 Axes>"
      ]
     },
     "metadata": {},
     "output_type": "display_data"
    }
   ],
   "source": [
    "# Initialize the data lists\n",
    "months = [\"Jan\", \"Feb\", \"Mar\", \"Apr\", \"May\"]\n",
    "sales = [10000, 12000, 9000, 11000, 13000]\n",
    "\n",
    "plt.title(\"Sales by Month\")\n",
    "plt.xlabel(\"Month\")\n",
    "plt.ylabel(\"Sales\")\n",
    "plt.plot(months, sales)\n",
    "plt.show()"
   ]
  },
  {
   "cell_type": "markdown",
   "id": "bfbf099a",
   "metadata": {},
   "source": [
    "b) Modify the script to change the line style to a dashed line.\n",
    "\n",
    "c) Change the line color to blue.\n",
    "\n",
    "d) Add a legend with the label \"Sales\" to the plot.\n",
    "\n",
    "e) Add a markdown cell to explain the patterns or trends in the data, if any."
   ]
  },
  {
   "cell_type": "code",
   "execution_count": 14,
   "id": "fd0e4739",
   "metadata": {},
   "outputs": [
    {
     "data": {
      "image/png": "[encoded data removed]",
      "text/plain": [
       "<Figure size 640x480 with 1 Axes>"
      ]
     },
     "metadata": {},
     "output_type": "display_data"
    }
   ],
   "source": [
    "plt.title(\"Sales by Month\")\n",
    "plt.xlabel(\"Month\")\n",
    "plt.ylabel(\"Sales\")\n",
    "plt.plot(months, sales, linestyle = 'dashed', color = 'blue', label = \"Sales\")\n",
    "plt.legend()\n",
    "plt.show()"
   ]
  },
  {
   "cell_type": "markdown",
   "id": "30ff9d2d",
   "metadata": {},
   "source": [
    "e) Add a markdown cell to explain the patterns or trends in the data, if any."
   ]
  },
  {
   "cell_type": "markdown",
   "id": "3cc20779",
   "metadata": {},
   "source": [
    "There is a slight increase in sales between January and February from 10,000 to 12,000. This is followed by a sharp decrease in sales between February to March, from 12,000 to 9000. After March, there is a sharp incease in sales from 9,000 to 13,000"
   ]
  },
  {
   "cell_type": "markdown",
   "id": "93644273",
   "metadata": {},
   "source": [
    "#### Question 4: Enhancing the Sales Plot [15 Pts]"
   ]
  },
  {
   "cell_type": "markdown",
   "id": "00dd6565",
   "metadata": {},
   "source": [
    "a) Modify the script from Question 3 to include the following:\n",
    " - Plot the sales data using a red solid line.\n",
    " - Add markers to data points.\n",
    " - Include grid lines in the plot."
   ]
  },
  {
   "cell_type": "code",
   "execution_count": 15,
   "id": "e054ac4c",
   "metadata": {},
   "outputs": [
    {
     "data": {
      "image/png": "[encoded data removed]",
      "text/plain": [
       "<Figure size 640x480 with 1 Axes>"
      ]
     },
     "metadata": {},
     "output_type": "display_data"
    }
   ],
   "source": [
    "plt.title(\"Sales by Month\")\n",
    "plt.xlabel(\"Month\")\n",
    "plt.ylabel(\"Sales\")\n",
    "plt.plot(months, sales, color = 'red', label = \"Sales\", marker='.', markerfacecolor='blue', markersize = '12')\n",
    "plt.legend()\n",
    "plt.grid()\n",
    "plt.show()"
   ]
  },
  {
   "cell_type": "markdown",
   "id": "ca9cdaa4",
   "metadata": {},
   "source": [
    "b) Imagine you are presenting this sales data to your company's management. Write Python code to add a label to the highest data point on the plot, indicating the maximum sales value. Use plt.annotate() to label the highest data point with the maximum sales value on your sales data plot.)"
   ]
  },
  {
   "cell_type": "code",
   "execution_count": 16,
   "id": "8731a3a6",
   "metadata": {},
   "outputs": [
    {
     "data": {
      "image/png": "[encoded data removed]",
      "text/plain": [
       "<Figure size 640x480 with 1 Axes>"
      ]
     },
     "metadata": {},
     "output_type": "display_data"
    }
   ],
   "source": [
    "plt.title(\"Sales by Month\")\n",
    "plt.xlabel(\"Month\")\n",
    "plt.ylabel(\"Sales\")\n",
    "plt.plot(months, sales, color = 'red', label = \"Sales\", marker='.', markerfacecolor='blue', markersize = '12')\n",
    "#Get the maximum x and y values\n",
    "ymax = max(sales)\n",
    "ymax_index = sales.index(ymax)\n",
    "xmax = months[ymax_index]\n",
    "plt.annotate('Maximum Sale', xy = (xmax, ymax))\n",
    "plt.legend()\n",
    "plt.grid()\n",
    "plt.show()"
   ]
  },
  {
   "cell_type": "markdown",
   "id": "181681fe",
   "metadata": {},
   "source": [
    "c) Add markdown cells to briefly explain how adding markers to data points in the plot can help them understand and make decisions based on the sales trends."
   ]
  },
  {
   "cell_type": "markdown",
   "id": "6a7a8500",
   "metadata": {},
   "source": [
    "Adding markers to datapoints help stakeholders identify the exact point at which an event occured by drawing attention to that point. This can also be helpful in cases where two events occur along a straight line, for example in the case of our graph above for sales in March, April and May"
   ]
  },
  {
   "cell_type": "markdown",
   "id": "6922fe27",
   "metadata": {},
   "source": [
    "d) You are preparing a report for a client, and you've used grid lines in your sales plot. Write Python code to make the grid lines dash instead of solid."
   ]
  },
  {
   "cell_type": "code",
   "execution_count": 17,
   "id": "f6ed899c",
   "metadata": {},
   "outputs": [
    {
     "data": {
      "image/png": "[encoded data removed]",
      "text/plain": [
       "<Figure size 640x480 with 1 Axes>"
      ]
     },
     "metadata": {},
     "output_type": "display_data"
    }
   ],
   "source": [
    "plt.title(\"Sales by Month\")\n",
    "plt.xlabel(\"Month\")\n",
    "plt.ylabel(\"Sales\")\n",
    "plt.plot(months, sales, color = 'red', label = \"Sales\", marker='.', markerfacecolor='blue', markersize = '12')\n",
    "#Get the maximum x and y values\n",
    "ymax = max(sales)\n",
    "ymax_index = sales.index(ymax)\n",
    "xmax = months[ymax_index]\n",
    "plt.annotate('Maximum Sale', xy = (xmax, ymax))\n",
    "plt.legend()\n",
    "plt.grid(linestyle = '--')\n",
    "plt.show()"
   ]
  },
  {
   "cell_type": "markdown",
   "id": "56f13e26",
   "metadata": {},
   "source": [
    "e) Add a markdown cell to describe how the inclusion of grid lines aids in presenting data accurately and facilitating a better understanding of the sales performance."
   ]
  },
  {
   "cell_type": "markdown",
   "id": "45887e6e",
   "metadata": {},
   "source": [
    "Adding grid lines aids in marking the boundaries within which data occurs on the x axis, y axis or both. This allows the user to quickly and visually align the points where a value occuers, especially in cases where a value is too far from the axis. The visual alignment of data aids in faster intepretation and understanding of the data"
   ]
  },
  {
   "cell_type": "markdown",
   "id": "f0dfc115",
   "metadata": {},
   "source": [
    "#### Question 5: Plotting Monthly Sales with Trends [15 Pts]"
   ]
  },
  {
   "cell_type": "markdown",
   "id": "c5da33d3",
   "metadata": {},
   "source": [
    "a) Modify the script from Question 4 to include the following:\n",
    " - Plot the sales data using a solid green line.\n",
    " - Add a trendline (a linear regression line) to represent the overall sales trend.\n",
    " - Add labels for the trendline and data points."
   ]
  },
  {
   "cell_type": "code",
   "execution_count": 28,
   "id": "596dcf40",
   "metadata": {},
   "outputs": [],
   "source": [
    "# Create a list of dates for each month in the months list\n",
    "#months = [\"Jan\", \"Feb\", \"Mar\", \"Apr\", \"May\"]\n",
    "month_dates = ['2023-01-01', '2023-02-01', '2023-03-01', '2023-04-01', '2023-05-01']\n",
    "month_dates_num = mdates.date2num(month_dates)\n",
    "# Get the slope m and intercept b of the linear regression line\n",
    "m, b = np.polyfit(month_dates_num, sales, 1)\n",
    "# Get the y value \n",
    "y = m*month_dates_num + b"
   ]
  },
  {
   "cell_type": "code",
   "execution_count": 31,
   "id": "0a994fc3",
   "metadata": {},
   "outputs": [
    {
     "data": {
      "image/png": "[encoded data removed]",
      "text/plain": [
       "<Figure size 640x480 with 1 Axes>"
      ]
     },
     "metadata": {},
     "output_type": "display_data"
    }
   ],
   "source": [
    "plt.title(\"Sales by Month\")\n",
    "plt.xlabel(\"Month\")\n",
    "plt.ylabel(\"Sales\")\n",
    "# Plot the sales\n",
    "plt.plot(months, sales, color = 'green', label = \"Sales\", marker='.', markerfacecolor='blue', markersize = '12')\n",
    "# Plot the trend line\n",
    "plt.plot(months, y, label = \"Overall Sales Trend\")\n",
    "# Get the maximum x and y values\n",
    "ymax = max(sales)\n",
    "ymax_index = sales.index(ymax)\n",
    "xmax = months[ymax_index]\n",
    "plt.annotate('Maximum Sale', xy = (xmax, ymax))\n",
    "plt.legend()\n",
    "plt.grid(linestyle = '--')\n",
    "plt.show()"
   ]
  },
  {
   "cell_type": "markdown",
   "id": "280aef2e",
   "metadata": {},
   "source": [
    "### Section 3: Pandas"
   ]
  },
  {
   "cell_type": "markdown",
   "id": "1a34505e",
   "metadata": {},
   "source": [
    "Import pandas library"
   ]
  },
  {
   "cell_type": "code",
   "execution_count": 32,
   "id": "4139290b",
   "metadata": {},
   "outputs": [],
   "source": [
    "import pandas as pd"
   ]
  },
  {
   "cell_type": "markdown",
   "id": "224ace41",
   "metadata": {},
   "source": [
    "#### Question 6: Load, Inspect, and Clean Data [20 Pts]"
   ]
  },
  {
   "cell_type": "markdown",
   "id": "42522464",
   "metadata": {},
   "source": [
    "**a) Load and inspect data**"
   ]
  },
  {
   "cell_type": "markdown",
   "id": "de05a33f",
   "metadata": {},
   "source": [
    "Load the dataset using pandas"
   ]
  },
  {
   "cell_type": "code",
   "execution_count": 33,
   "id": "de1d064e",
   "metadata": {},
   "outputs": [],
   "source": [
    "crime_stats = pd.read_csv('SouthAfricaCrimeStats_v2.csv')"
   ]
  },
  {
   "cell_type": "markdown",
   "id": "bb2ae36c",
   "metadata": {},
   "source": [
    "Display the first 5 rows"
   ]
  },
  {
   "cell_type": "code",
   "execution_count": 34,
   "id": "69e322c1",
   "metadata": {},
   "outputs": [
    {
     "data": {
      "text/html": [
       "<div>\n",
       "<style scoped>\n",
       "    .dataframe tbody tr th:only-of-type {\n",
       "        vertical-align: middle;\n",
       "    }\n",
       "\n",
       "    .dataframe tbody tr th {\n",
       "        vertical-align: top;\n",
       "    }\n",
       "\n",
       "    .dataframe thead th {\n",
       "        text-align: right;\n",
       "    }\n",
       "</style>\n",
       "<table border=\"1\" class=\"dataframe\">\n",
       "  <thead>\n",
       "    <tr style=\"text-align: right;\">\n",
       "      <th></th>\n",
       "      <th>Province</th>\n",
       "      <th>Station</th>\n",
       "      <th>Category</th>\n",
       "      <th>2005-2006</th>\n",
       "      <th>2006-2007</th>\n",
       "      <th>2007-2008</th>\n",
       "      <th>2008-2009</th>\n",
       "      <th>2009-2010</th>\n",
       "      <th>2010-2011</th>\n",
       "      <th>2011-2012</th>\n",
       "      <th>2012-2013</th>\n",
       "      <th>2013-2014</th>\n",
       "      <th>2014-2015</th>\n",
       "      <th>2015-2016</th>\n",
       "    </tr>\n",
       "  </thead>\n",
       "  <tbody>\n",
       "    <tr>\n",
       "      <th>0</th>\n",
       "      <td>Western Cape</td>\n",
       "      <td>Cape Town Central</td>\n",
       "      <td>All theft not mentioned elsewhere</td>\n",
       "      <td>6692</td>\n",
       "      <td>6341</td>\n",
       "      <td>5966</td>\n",
       "      <td>5187</td>\n",
       "      <td>4985</td>\n",
       "      <td>5127</td>\n",
       "      <td>5285</td>\n",
       "      <td>5937</td>\n",
       "      <td>5600</td>\n",
       "      <td>5335</td>\n",
       "      <td>5176</td>\n",
       "    </tr>\n",
       "    <tr>\n",
       "      <th>1</th>\n",
       "      <td>Gauteng</td>\n",
       "      <td>Jhb Central</td>\n",
       "      <td>All theft not mentioned elsewhere</td>\n",
       "      <td>6093</td>\n",
       "      <td>4602</td>\n",
       "      <td>3761</td>\n",
       "      <td>3610</td>\n",
       "      <td>3267</td>\n",
       "      <td>3037</td>\n",
       "      <td>2886</td>\n",
       "      <td>2638</td>\n",
       "      <td>2809</td>\n",
       "      <td>3050</td>\n",
       "      <td>2434</td>\n",
       "    </tr>\n",
       "    <tr>\n",
       "      <th>2</th>\n",
       "      <td>Western Cape</td>\n",
       "      <td>Mitchells Plain</td>\n",
       "      <td>All theft not mentioned elsewhere</td>\n",
       "      <td>5341</td>\n",
       "      <td>6093</td>\n",
       "      <td>6316</td>\n",
       "      <td>6803</td>\n",
       "      <td>6035</td>\n",
       "      <td>5761</td>\n",
       "      <td>6108</td>\n",
       "      <td>5514</td>\n",
       "      <td>4975</td>\n",
       "      <td>4043</td>\n",
       "      <td>3635</td>\n",
       "    </tr>\n",
       "    <tr>\n",
       "      <th>3</th>\n",
       "      <td>Free State</td>\n",
       "      <td>Park Road</td>\n",
       "      <td>All theft not mentioned elsewhere</td>\n",
       "      <td>5108</td>\n",
       "      <td>4282</td>\n",
       "      <td>3834</td>\n",
       "      <td>3316</td>\n",
       "      <td>3101</td>\n",
       "      <td>3013</td>\n",
       "      <td>2679</td>\n",
       "      <td>3116</td>\n",
       "      <td>2927</td>\n",
       "      <td>2297</td>\n",
       "      <td>2103</td>\n",
       "    </tr>\n",
       "    <tr>\n",
       "      <th>4</th>\n",
       "      <td>Gauteng</td>\n",
       "      <td>Pretoria Central</td>\n",
       "      <td>All theft not mentioned elsewhere</td>\n",
       "      <td>5099</td>\n",
       "      <td>4536</td>\n",
       "      <td>3309</td>\n",
       "      <td>2694</td>\n",
       "      <td>2616</td>\n",
       "      <td>2606</td>\n",
       "      <td>2635</td>\n",
       "      <td>3226</td>\n",
       "      <td>3246</td>\n",
       "      <td>2892</td>\n",
       "      <td>3030</td>\n",
       "    </tr>\n",
       "  </tbody>\n",
       "</table>\n",
       "</div>"
      ],
      "text/plain": [
       "       Province            Station                           Category  \\\n",
       "0  Western Cape  Cape Town Central  All theft not mentioned elsewhere   \n",
       "1       Gauteng        Jhb Central  All theft not mentioned elsewhere   \n",
       "2  Western Cape    Mitchells Plain  All theft not mentioned elsewhere   \n",
       "3    Free State          Park Road  All theft not mentioned elsewhere   \n",
       "4       Gauteng   Pretoria Central  All theft not mentioned elsewhere   \n",
       "\n",
       "   2005-2006  2006-2007  2007-2008  2008-2009  2009-2010  2010-2011  \\\n",
       "0       6692       6341       5966       5187       4985       5127   \n",
       "1       6093       4602       3761       3610       3267       3037   \n",
       "2       5341       6093       6316       6803       6035       5761   \n",
       "3       5108       4282       3834       3316       3101       3013   \n",
       "4       5099       4536       3309       2694       2616       2606   \n",
       "\n",
       "   2011-2012  2012-2013  2013-2014  2014-2015  2015-2016  \n",
       "0       5285       5937       5600       5335       5176  \n",
       "1       2886       2638       2809       3050       2434  \n",
       "2       6108       5514       4975       4043       3635  \n",
       "3       2679       3116       2927       2297       2103  \n",
       "4       2635       3226       3246       2892       3030  "
      ]
     },
     "execution_count": 34,
     "metadata": {},
     "output_type": "execute_result"
    }
   ],
   "source": [
    "crime_stats.head()"
   ]
  },
  {
   "cell_type": "markdown",
   "id": "12bc26fe",
   "metadata": {},
   "source": [
    "Provide the basic information about the dataset (number of rows, columns, data types)"
   ]
  },
  {
   "cell_type": "code",
   "execution_count": 35,
   "id": "d0fdde52",
   "metadata": {},
   "outputs": [
    {
     "name": "stdout",
     "output_type": "stream",
     "text": [
      "<class 'pandas.core.frame.DataFrame'>\n",
      "RangeIndex: 30861 entries, 0 to 30860\n",
      "Data columns (total 14 columns):\n",
      " #   Column     Non-Null Count  Dtype \n",
      "---  ------     --------------  ----- \n",
      " 0   Province   30861 non-null  object\n",
      " 1   Station    30861 non-null  object\n",
      " 2   Category   30861 non-null  object\n",
      " 3   2005-2006  30861 non-null  int64 \n",
      " 4   2006-2007  30861 non-null  int64 \n",
      " 5   2007-2008  30861 non-null  int64 \n",
      " 6   2008-2009  30861 non-null  int64 \n",
      " 7   2009-2010  30861 non-null  int64 \n",
      " 8   2010-2011  30861 non-null  int64 \n",
      " 9   2011-2012  30861 non-null  int64 \n",
      " 10  2012-2013  30861 non-null  int64 \n",
      " 11  2013-2014  30861 non-null  int64 \n",
      " 12  2014-2015  30861 non-null  int64 \n",
      " 13  2015-2016  30861 non-null  int64 \n",
      "dtypes: int64(11), object(3)\n",
      "memory usage: 3.3+ MB\n"
     ]
    }
   ],
   "source": [
    "crime_stats.info()"
   ]
  },
  {
   "cell_type": "markdown",
   "id": "293b8776",
   "metadata": {},
   "source": [
    "Identify and print the summary statistics (mean, median, min, max, etc.) for numerical columns."
   ]
  },
  {
   "cell_type": "code",
   "execution_count": 36,
   "id": "aa2b61b4",
   "metadata": {},
   "outputs": [
    {
     "data": {
      "text/html": [
       "<div>\n",
       "<style scoped>\n",
       "    .dataframe tbody tr th:only-of-type {\n",
       "        vertical-align: middle;\n",
       "    }\n",
       "\n",
       "    .dataframe tbody tr th {\n",
       "        vertical-align: top;\n",
       "    }\n",
       "\n",
       "    .dataframe thead th {\n",
       "        text-align: right;\n",
       "    }\n",
       "</style>\n",
       "<table border=\"1\" class=\"dataframe\">\n",
       "  <thead>\n",
       "    <tr style=\"text-align: right;\">\n",
       "      <th></th>\n",
       "      <th>2005-2006</th>\n",
       "      <th>2006-2007</th>\n",
       "      <th>2007-2008</th>\n",
       "      <th>2008-2009</th>\n",
       "      <th>2009-2010</th>\n",
       "      <th>2010-2011</th>\n",
       "      <th>2011-2012</th>\n",
       "      <th>2012-2013</th>\n",
       "      <th>2013-2014</th>\n",
       "      <th>2014-2015</th>\n",
       "      <th>2015-2016</th>\n",
       "    </tr>\n",
       "  </thead>\n",
       "  <tbody>\n",
       "    <tr>\n",
       "      <th>count</th>\n",
       "      <td>30861.000000</td>\n",
       "      <td>30861.000000</td>\n",
       "      <td>30861.000000</td>\n",
       "      <td>30861.000000</td>\n",
       "      <td>30861.000000</td>\n",
       "      <td>30861.000000</td>\n",
       "      <td>30861.000000</td>\n",
       "      <td>30861.000000</td>\n",
       "      <td>30861.000000</td>\n",
       "      <td>30861.000000</td>\n",
       "      <td>30861.000000</td>\n",
       "    </tr>\n",
       "    <tr>\n",
       "      <th>mean</th>\n",
       "      <td>70.527753</td>\n",
       "      <td>69.301610</td>\n",
       "      <td>67.154305</td>\n",
       "      <td>68.756165</td>\n",
       "      <td>69.517773</td>\n",
       "      <td>67.766696</td>\n",
       "      <td>68.259616</td>\n",
       "      <td>69.700658</td>\n",
       "      <td>71.416999</td>\n",
       "      <td>71.498202</td>\n",
       "      <td>70.736496</td>\n",
       "    </tr>\n",
       "    <tr>\n",
       "      <th>std</th>\n",
       "      <td>205.491698</td>\n",
       "      <td>198.037635</td>\n",
       "      <td>186.760510</td>\n",
       "      <td>187.173860</td>\n",
       "      <td>185.514638</td>\n",
       "      <td>181.865878</td>\n",
       "      <td>183.334468</td>\n",
       "      <td>184.812420</td>\n",
       "      <td>187.635207</td>\n",
       "      <td>185.019046</td>\n",
       "      <td>179.363964</td>\n",
       "    </tr>\n",
       "    <tr>\n",
       "      <th>min</th>\n",
       "      <td>0.000000</td>\n",
       "      <td>0.000000</td>\n",
       "      <td>0.000000</td>\n",
       "      <td>0.000000</td>\n",
       "      <td>0.000000</td>\n",
       "      <td>0.000000</td>\n",
       "      <td>0.000000</td>\n",
       "      <td>0.000000</td>\n",
       "      <td>0.000000</td>\n",
       "      <td>0.000000</td>\n",
       "      <td>0.000000</td>\n",
       "    </tr>\n",
       "    <tr>\n",
       "      <th>25%</th>\n",
       "      <td>0.000000</td>\n",
       "      <td>0.000000</td>\n",
       "      <td>0.000000</td>\n",
       "      <td>0.000000</td>\n",
       "      <td>1.000000</td>\n",
       "      <td>0.000000</td>\n",
       "      <td>1.000000</td>\n",
       "      <td>1.000000</td>\n",
       "      <td>1.000000</td>\n",
       "      <td>1.000000</td>\n",
       "      <td>1.000000</td>\n",
       "    </tr>\n",
       "    <tr>\n",
       "      <th>50%</th>\n",
       "      <td>8.000000</td>\n",
       "      <td>8.000000</td>\n",
       "      <td>8.000000</td>\n",
       "      <td>9.000000</td>\n",
       "      <td>9.000000</td>\n",
       "      <td>9.000000</td>\n",
       "      <td>10.000000</td>\n",
       "      <td>10.000000</td>\n",
       "      <td>11.000000</td>\n",
       "      <td>11.000000</td>\n",
       "      <td>11.000000</td>\n",
       "    </tr>\n",
       "    <tr>\n",
       "      <th>75%</th>\n",
       "      <td>49.000000</td>\n",
       "      <td>50.000000</td>\n",
       "      <td>50.000000</td>\n",
       "      <td>52.000000</td>\n",
       "      <td>54.000000</td>\n",
       "      <td>52.000000</td>\n",
       "      <td>53.000000</td>\n",
       "      <td>55.000000</td>\n",
       "      <td>56.000000</td>\n",
       "      <td>57.000000</td>\n",
       "      <td>58.000000</td>\n",
       "    </tr>\n",
       "    <tr>\n",
       "      <th>max</th>\n",
       "      <td>6692.000000</td>\n",
       "      <td>6341.000000</td>\n",
       "      <td>6316.000000</td>\n",
       "      <td>6803.000000</td>\n",
       "      <td>6571.000000</td>\n",
       "      <td>6260.000000</td>\n",
       "      <td>6108.000000</td>\n",
       "      <td>6310.000000</td>\n",
       "      <td>6044.000000</td>\n",
       "      <td>5335.000000</td>\n",
       "      <td>5176.000000</td>\n",
       "    </tr>\n",
       "  </tbody>\n",
       "</table>\n",
       "</div>"
      ],
      "text/plain": [
       "          2005-2006     2006-2007     2007-2008     2008-2009     2009-2010  \\\n",
       "count  30861.000000  30861.000000  30861.000000  30861.000000  30861.000000   \n",
       "mean      70.527753     69.301610     67.154305     68.756165     69.517773   \n",
       "std      205.491698    198.037635    186.760510    187.173860    185.514638   \n",
       "min        0.000000      0.000000      0.000000      0.000000      0.000000   \n",
       "25%        0.000000      0.000000      0.000000      0.000000      1.000000   \n",
       "50%        8.000000      8.000000      8.000000      9.000000      9.000000   \n",
       "75%       49.000000     50.000000     50.000000     52.000000     54.000000   \n",
       "max     6692.000000   6341.000000   6316.000000   6803.000000   6571.000000   \n",
       "\n",
       "          2010-2011     2011-2012     2012-2013     2013-2014     2014-2015  \\\n",
       "count  30861.000000  30861.000000  30861.000000  30861.000000  30861.000000   \n",
       "mean      67.766696     68.259616     69.700658     71.416999     71.498202   \n",
       "std      181.865878    183.334468    184.812420    187.635207    185.019046   \n",
       "min        0.000000      0.000000      0.000000      0.000000      0.000000   \n",
       "25%        0.000000      1.000000      1.000000      1.000000      1.000000   \n",
       "50%        9.000000     10.000000     10.000000     11.000000     11.000000   \n",
       "75%       52.000000     53.000000     55.000000     56.000000     57.000000   \n",
       "max     6260.000000   6108.000000   6310.000000   6044.000000   5335.000000   \n",
       "\n",
       "          2015-2016  \n",
       "count  30861.000000  \n",
       "mean      70.736496  \n",
       "std      179.363964  \n",
       "min        0.000000  \n",
       "25%        1.000000  \n",
       "50%       11.000000  \n",
       "75%       58.000000  \n",
       "max     5176.000000  "
      ]
     },
     "execution_count": 36,
     "metadata": {},
     "output_type": "execute_result"
    }
   ],
   "source": [
    "crime_stats.describe()"
   ]
  },
  {
   "cell_type": "markdown",
   "id": "7b826fdd",
   "metadata": {},
   "source": [
    "**b) Data Cleaning**"
   ]
  },
  {
   "cell_type": "markdown",
   "id": "9d863505",
   "metadata": {},
   "source": [
    "- Handle missing values in the dataset if any. Use markdown cells to explain your strategy for dealing with missing data."
   ]
  },
  {
   "cell_type": "code",
   "execution_count": 37,
   "id": "1b480b45",
   "metadata": {},
   "outputs": [
    {
     "name": "stdout",
     "output_type": "stream",
     "text": [
      "Dataset missing values : False\n"
     ]
    }
   ],
   "source": [
    "has_missing_values = crime_stats.isnull().values.any()\n",
    "print(f\"Dataset missing values : {has_missing_values}\")"
   ]
  },
  {
   "cell_type": "markdown",
   "id": "7d0ccdbb",
   "metadata": {},
   "source": [
    "If the dataset had missing data, I would replace the missing values with 0 using the formula below:\n",
    "\n",
    "crime_stats.fillna(0)"
   ]
  },
  {
   "cell_type": "markdown",
   "id": "06bd2a8a",
   "metadata": {},
   "source": [
    "- Check for and remove any duplicate rows if there are."
   ]
  },
  {
   "cell_type": "code",
   "execution_count": 38,
   "id": "1d0b0583",
   "metadata": {},
   "outputs": [
    {
     "data": {
      "text/html": [
       "<div>\n",
       "<style scoped>\n",
       "    .dataframe tbody tr th:only-of-type {\n",
       "        vertical-align: middle;\n",
       "    }\n",
       "\n",
       "    .dataframe tbody tr th {\n",
       "        vertical-align: top;\n",
       "    }\n",
       "\n",
       "    .dataframe thead th {\n",
       "        text-align: right;\n",
       "    }\n",
       "</style>\n",
       "<table border=\"1\" class=\"dataframe\">\n",
       "  <thead>\n",
       "    <tr style=\"text-align: right;\">\n",
       "      <th></th>\n",
       "      <th>Province</th>\n",
       "      <th>Station</th>\n",
       "      <th>Category</th>\n",
       "      <th>2005-2006</th>\n",
       "      <th>2006-2007</th>\n",
       "      <th>2007-2008</th>\n",
       "      <th>2008-2009</th>\n",
       "      <th>2009-2010</th>\n",
       "      <th>2010-2011</th>\n",
       "      <th>2011-2012</th>\n",
       "      <th>2012-2013</th>\n",
       "      <th>2013-2014</th>\n",
       "      <th>2014-2015</th>\n",
       "      <th>2015-2016</th>\n",
       "    </tr>\n",
       "  </thead>\n",
       "  <tbody>\n",
       "  </tbody>\n",
       "</table>\n",
       "</div>"
      ],
      "text/plain": [
       "Empty DataFrame\n",
       "Columns: [Province, Station, Category, 2005-2006, 2006-2007, 2007-2008, 2008-2009, 2009-2010, 2010-2011, 2011-2012, 2012-2013, 2013-2014, 2014-2015, 2015-2016]\n",
       "Index: []"
      ]
     },
     "execution_count": 38,
     "metadata": {},
     "output_type": "execute_result"
    }
   ],
   "source": [
    "has_duplicate_values = crime_stats.loc[crime_stats.duplicated()]\n",
    "has_duplicate_values"
   ]
  },
  {
   "cell_type": "code",
   "execution_count": 39,
   "id": "e878385a",
   "metadata": {},
   "outputs": [
    {
     "name": "stdout",
     "output_type": "stream",
     "text": [
      "Number of rows with missing values : 0\n"
     ]
    }
   ],
   "source": [
    "print(f\"Number of rows with missing values : {len(has_duplicate_values)}\")"
   ]
  },
  {
   "cell_type": "markdown",
   "id": "fcd31329",
   "metadata": {},
   "source": [
    "- Check for any outliers (How do you check for outliers?)"
   ]
  },
  {
   "cell_type": "markdown",
   "id": "bbebb8e6",
   "metadata": {},
   "source": [
    "We can check for outliers by identifying values that lie outside the interquantlie range i.e., the lower range Q1 and upper range Q3. We define a function that will select these values from a dataframe below."
   ]
  },
  {
   "cell_type": "code",
   "execution_count": 40,
   "id": "5918a6a6",
   "metadata": {},
   "outputs": [],
   "source": [
    "def select_iqr_outliers(data):\n",
    "    q1 = data.quantile(0.25)\n",
    "    q3 = data.quantile(0.75)\n",
    "    iqr = q3 - q1\n",
    "    \n",
    "    outliers = data[(data<(q1-1.5*iqr)) | (data>(q3+1.5*iqr))]\n",
    "    \n",
    "    return outliers"
   ]
  },
  {
   "cell_type": "markdown",
   "id": "3a0cd6dd",
   "metadata": {},
   "source": [
    "Display the first 5 outliers"
   ]
  },
  {
   "cell_type": "code",
   "execution_count": 52,
   "id": "e074d551",
   "metadata": {},
   "outputs": [],
   "source": [
    "# Create a list of the column names with statistics\n",
    "years = [\"2005-2006\",\"2006-2007\",\"2007-2008\",\"2008-2009\",\n",
    "          \"2009-2010\",\"2010-2011\",\"2011-2012\",\"2012-2013\",\n",
    "           \"2013-2014\", \"2014-2015\",\"2015-2016\"]"
   ]
  },
  {
   "cell_type": "code",
   "execution_count": 53,
   "id": "8a59ccf6",
   "metadata": {
    "scrolled": false
   },
   "outputs": [
    {
     "data": {
      "text/html": [
       "<div>\n",
       "<style scoped>\n",
       "    .dataframe tbody tr th:only-of-type {\n",
       "        vertical-align: middle;\n",
       "    }\n",
       "\n",
       "    .dataframe tbody tr th {\n",
       "        vertical-align: top;\n",
       "    }\n",
       "\n",
       "    .dataframe thead th {\n",
       "        text-align: right;\n",
       "    }\n",
       "</style>\n",
       "<table border=\"1\" class=\"dataframe\">\n",
       "  <thead>\n",
       "    <tr style=\"text-align: right;\">\n",
       "      <th></th>\n",
       "      <th>2005-2006</th>\n",
       "      <th>2006-2007</th>\n",
       "      <th>2007-2008</th>\n",
       "      <th>2008-2009</th>\n",
       "      <th>2009-2010</th>\n",
       "      <th>2010-2011</th>\n",
       "      <th>2011-2012</th>\n",
       "      <th>2012-2013</th>\n",
       "      <th>2013-2014</th>\n",
       "      <th>2014-2015</th>\n",
       "      <th>2015-2016</th>\n",
       "    </tr>\n",
       "  </thead>\n",
       "  <tbody>\n",
       "    <tr>\n",
       "      <th>0</th>\n",
       "      <td>6692.0</td>\n",
       "      <td>6341.0</td>\n",
       "      <td>5966.0</td>\n",
       "      <td>5187.0</td>\n",
       "      <td>4985.0</td>\n",
       "      <td>5127.0</td>\n",
       "      <td>5285.0</td>\n",
       "      <td>5937.0</td>\n",
       "      <td>5600.0</td>\n",
       "      <td>5335.0</td>\n",
       "      <td>5176.0</td>\n",
       "    </tr>\n",
       "    <tr>\n",
       "      <th>1</th>\n",
       "      <td>6093.0</td>\n",
       "      <td>4602.0</td>\n",
       "      <td>3761.0</td>\n",
       "      <td>3610.0</td>\n",
       "      <td>3267.0</td>\n",
       "      <td>3037.0</td>\n",
       "      <td>2886.0</td>\n",
       "      <td>2638.0</td>\n",
       "      <td>2809.0</td>\n",
       "      <td>3050.0</td>\n",
       "      <td>2434.0</td>\n",
       "    </tr>\n",
       "    <tr>\n",
       "      <th>2</th>\n",
       "      <td>5341.0</td>\n",
       "      <td>6093.0</td>\n",
       "      <td>6316.0</td>\n",
       "      <td>6803.0</td>\n",
       "      <td>6035.0</td>\n",
       "      <td>5761.0</td>\n",
       "      <td>6108.0</td>\n",
       "      <td>5514.0</td>\n",
       "      <td>4975.0</td>\n",
       "      <td>4043.0</td>\n",
       "      <td>3635.0</td>\n",
       "    </tr>\n",
       "    <tr>\n",
       "      <th>3</th>\n",
       "      <td>5108.0</td>\n",
       "      <td>4282.0</td>\n",
       "      <td>3834.0</td>\n",
       "      <td>3316.0</td>\n",
       "      <td>3101.0</td>\n",
       "      <td>3013.0</td>\n",
       "      <td>2679.0</td>\n",
       "      <td>3116.0</td>\n",
       "      <td>2927.0</td>\n",
       "      <td>2297.0</td>\n",
       "      <td>2103.0</td>\n",
       "    </tr>\n",
       "    <tr>\n",
       "      <th>4</th>\n",
       "      <td>5099.0</td>\n",
       "      <td>4536.0</td>\n",
       "      <td>3309.0</td>\n",
       "      <td>2694.0</td>\n",
       "      <td>2616.0</td>\n",
       "      <td>2606.0</td>\n",
       "      <td>2635.0</td>\n",
       "      <td>3226.0</td>\n",
       "      <td>3246.0</td>\n",
       "      <td>2892.0</td>\n",
       "      <td>3030.0</td>\n",
       "    </tr>\n",
       "  </tbody>\n",
       "</table>\n",
       "</div>"
      ],
      "text/plain": [
       "   2005-2006  2006-2007  2007-2008  2008-2009  2009-2010  2010-2011  \\\n",
       "0     6692.0     6341.0     5966.0     5187.0     4985.0     5127.0   \n",
       "1     6093.0     4602.0     3761.0     3610.0     3267.0     3037.0   \n",
       "2     5341.0     6093.0     6316.0     6803.0     6035.0     5761.0   \n",
       "3     5108.0     4282.0     3834.0     3316.0     3101.0     3013.0   \n",
       "4     5099.0     4536.0     3309.0     2694.0     2616.0     2606.0   \n",
       "\n",
       "   2011-2012  2012-2013  2013-2014  2014-2015  2015-2016  \n",
       "0     5285.0     5937.0     5600.0     5335.0     5176.0  \n",
       "1     2886.0     2638.0     2809.0     3050.0     2434.0  \n",
       "2     6108.0     5514.0     4975.0     4043.0     3635.0  \n",
       "3     2679.0     3116.0     2927.0     2297.0     2103.0  \n",
       "4     2635.0     3226.0     3246.0     2892.0     3030.0  "
      ]
     },
     "execution_count": 53,
     "metadata": {},
     "output_type": "execute_result"
    }
   ],
   "source": [
    "crime_outliers = select_iqr_outliers(crime_stats[years])\n",
    "outlier_mask = crime_stats.isin(crime_outliers)\n",
    "crime_outlier_records = crime_stats[outlier_mask][years]\n",
    "crime_outlier_records.head()"
   ]
  },
  {
   "cell_type": "markdown",
   "id": "0bec4efb",
   "metadata": {},
   "source": [
    "Print a summary of the outliers"
   ]
  },
  {
   "cell_type": "code",
   "execution_count": 54,
   "id": "9097b335",
   "metadata": {},
   "outputs": [
    {
     "data": {
      "text/html": [
       "<div>\n",
       "<style scoped>\n",
       "    .dataframe tbody tr th:only-of-type {\n",
       "        vertical-align: middle;\n",
       "    }\n",
       "\n",
       "    .dataframe tbody tr th {\n",
       "        vertical-align: top;\n",
       "    }\n",
       "\n",
       "    .dataframe thead th {\n",
       "        text-align: right;\n",
       "    }\n",
       "</style>\n",
       "<table border=\"1\" class=\"dataframe\">\n",
       "  <thead>\n",
       "    <tr style=\"text-align: right;\">\n",
       "      <th></th>\n",
       "      <th>2005-2006</th>\n",
       "      <th>2006-2007</th>\n",
       "      <th>2007-2008</th>\n",
       "      <th>2008-2009</th>\n",
       "      <th>2009-2010</th>\n",
       "      <th>2010-2011</th>\n",
       "      <th>2011-2012</th>\n",
       "      <th>2012-2013</th>\n",
       "      <th>2013-2014</th>\n",
       "      <th>2014-2015</th>\n",
       "      <th>2015-2016</th>\n",
       "    </tr>\n",
       "  </thead>\n",
       "  <tbody>\n",
       "    <tr>\n",
       "      <th>count</th>\n",
       "      <td>4226.000000</td>\n",
       "      <td>4112.000000</td>\n",
       "      <td>4083.000000</td>\n",
       "      <td>4085.000000</td>\n",
       "      <td>4088.000000</td>\n",
       "      <td>4053.000000</td>\n",
       "      <td>4099.000000</td>\n",
       "      <td>4054.000000</td>\n",
       "      <td>4062.000000</td>\n",
       "      <td>4016.000000</td>\n",
       "      <td>4011.000000</td>\n",
       "    </tr>\n",
       "    <tr>\n",
       "      <th>mean</th>\n",
       "      <td>404.305017</td>\n",
       "      <td>401.971547</td>\n",
       "      <td>386.242224</td>\n",
       "      <td>390.990942</td>\n",
       "      <td>392.757339</td>\n",
       "      <td>385.636566</td>\n",
       "      <td>384.063674</td>\n",
       "      <td>391.612728</td>\n",
       "      <td>401.315608</td>\n",
       "      <td>402.613795</td>\n",
       "      <td>395.184742</td>\n",
       "    </tr>\n",
       "    <tr>\n",
       "      <th>std</th>\n",
       "      <td>417.917693</td>\n",
       "      <td>401.999961</td>\n",
       "      <td>375.659927</td>\n",
       "      <td>373.266476</td>\n",
       "      <td>365.356354</td>\n",
       "      <td>360.327142</td>\n",
       "      <td>363.872061</td>\n",
       "      <td>366.681182</td>\n",
       "      <td>368.333023</td>\n",
       "      <td>360.748092</td>\n",
       "      <td>345.743498</td>\n",
       "    </tr>\n",
       "    <tr>\n",
       "      <th>min</th>\n",
       "      <td>123.000000</td>\n",
       "      <td>126.000000</td>\n",
       "      <td>126.000000</td>\n",
       "      <td>131.000000</td>\n",
       "      <td>134.000000</td>\n",
       "      <td>131.000000</td>\n",
       "      <td>132.000000</td>\n",
       "      <td>137.000000</td>\n",
       "      <td>139.000000</td>\n",
       "      <td>142.000000</td>\n",
       "      <td>144.000000</td>\n",
       "    </tr>\n",
       "    <tr>\n",
       "      <th>25%</th>\n",
       "      <td>176.000000</td>\n",
       "      <td>178.750000</td>\n",
       "      <td>175.000000</td>\n",
       "      <td>183.000000</td>\n",
       "      <td>185.750000</td>\n",
       "      <td>181.000000</td>\n",
       "      <td>183.000000</td>\n",
       "      <td>190.000000</td>\n",
       "      <td>191.000000</td>\n",
       "      <td>195.000000</td>\n",
       "      <td>193.000000</td>\n",
       "    </tr>\n",
       "    <tr>\n",
       "      <th>50%</th>\n",
       "      <td>271.000000</td>\n",
       "      <td>271.500000</td>\n",
       "      <td>264.000000</td>\n",
       "      <td>269.000000</td>\n",
       "      <td>275.000000</td>\n",
       "      <td>268.000000</td>\n",
       "      <td>267.000000</td>\n",
       "      <td>275.000000</td>\n",
       "      <td>282.000000</td>\n",
       "      <td>282.000000</td>\n",
       "      <td>283.000000</td>\n",
       "    </tr>\n",
       "    <tr>\n",
       "      <th>75%</th>\n",
       "      <td>474.000000</td>\n",
       "      <td>471.000000</td>\n",
       "      <td>454.500000</td>\n",
       "      <td>457.000000</td>\n",
       "      <td>458.000000</td>\n",
       "      <td>447.000000</td>\n",
       "      <td>441.000000</td>\n",
       "      <td>450.000000</td>\n",
       "      <td>463.000000</td>\n",
       "      <td>463.000000</td>\n",
       "      <td>457.000000</td>\n",
       "    </tr>\n",
       "    <tr>\n",
       "      <th>max</th>\n",
       "      <td>6692.000000</td>\n",
       "      <td>6341.000000</td>\n",
       "      <td>6316.000000</td>\n",
       "      <td>6803.000000</td>\n",
       "      <td>6571.000000</td>\n",
       "      <td>6260.000000</td>\n",
       "      <td>6108.000000</td>\n",
       "      <td>6310.000000</td>\n",
       "      <td>6044.000000</td>\n",
       "      <td>5335.000000</td>\n",
       "      <td>5176.000000</td>\n",
       "    </tr>\n",
       "  </tbody>\n",
       "</table>\n",
       "</div>"
      ],
      "text/plain": [
       "         2005-2006    2006-2007    2007-2008    2008-2009    2009-2010  \\\n",
       "count  4226.000000  4112.000000  4083.000000  4085.000000  4088.000000   \n",
       "mean    404.305017   401.971547   386.242224   390.990942   392.757339   \n",
       "std     417.917693   401.999961   375.659927   373.266476   365.356354   \n",
       "min     123.000000   126.000000   126.000000   131.000000   134.000000   \n",
       "25%     176.000000   178.750000   175.000000   183.000000   185.750000   \n",
       "50%     271.000000   271.500000   264.000000   269.000000   275.000000   \n",
       "75%     474.000000   471.000000   454.500000   457.000000   458.000000   \n",
       "max    6692.000000  6341.000000  6316.000000  6803.000000  6571.000000   \n",
       "\n",
       "         2010-2011    2011-2012    2012-2013    2013-2014    2014-2015  \\\n",
       "count  4053.000000  4099.000000  4054.000000  4062.000000  4016.000000   \n",
       "mean    385.636566   384.063674   391.612728   401.315608   402.613795   \n",
       "std     360.327142   363.872061   366.681182   368.333023   360.748092   \n",
       "min     131.000000   132.000000   137.000000   139.000000   142.000000   \n",
       "25%     181.000000   183.000000   190.000000   191.000000   195.000000   \n",
       "50%     268.000000   267.000000   275.000000   282.000000   282.000000   \n",
       "75%     447.000000   441.000000   450.000000   463.000000   463.000000   \n",
       "max    6260.000000  6108.000000  6310.000000  6044.000000  5335.000000   \n",
       "\n",
       "         2015-2016  \n",
       "count  4011.000000  \n",
       "mean    395.184742  \n",
       "std     345.743498  \n",
       "min     144.000000  \n",
       "25%     193.000000  \n",
       "50%     283.000000  \n",
       "75%     457.000000  \n",
       "max    5176.000000  "
      ]
     },
     "execution_count": 54,
     "metadata": {},
     "output_type": "execute_result"
    }
   ],
   "source": [
    "crime_outliers.describe()"
   ]
  },
  {
   "cell_type": "markdown",
   "id": "a89aa011",
   "metadata": {},
   "source": [
    "#### Question 7: Elementary Data Analysis [20 Pts]"
   ]
  },
  {
   "cell_type": "markdown",
   "id": "93ffc6ea",
   "metadata": {},
   "source": [
    "a) Comparative Analysis:\n",
    " - Compare the crime rates across the five most frequent provinces for 2011-2012."
   ]
  },
  {
   "cell_type": "code",
   "execution_count": 43,
   "id": "7f5b7a37",
   "metadata": {},
   "outputs": [
    {
     "data": {
      "text/html": [
       "<div>\n",
       "<style scoped>\n",
       "    .dataframe tbody tr th:only-of-type {\n",
       "        vertical-align: middle;\n",
       "    }\n",
       "\n",
       "    .dataframe tbody tr th {\n",
       "        vertical-align: top;\n",
       "    }\n",
       "\n",
       "    .dataframe thead th {\n",
       "        text-align: right;\n",
       "    }\n",
       "</style>\n",
       "<table border=\"1\" class=\"dataframe\">\n",
       "  <thead>\n",
       "    <tr style=\"text-align: right;\">\n",
       "      <th></th>\n",
       "      <th>Province</th>\n",
       "      <th>Station</th>\n",
       "      <th>Category</th>\n",
       "      <th>2011-2012</th>\n",
       "    </tr>\n",
       "  </thead>\n",
       "  <tbody>\n",
       "    <tr>\n",
       "      <th>2</th>\n",
       "      <td>Western Cape</td>\n",
       "      <td>Mitchells Plain</td>\n",
       "      <td>All theft not mentioned elsewhere</td>\n",
       "      <td>6108</td>\n",
       "    </tr>\n",
       "    <tr>\n",
       "      <th>12</th>\n",
       "      <td>Western Cape</td>\n",
       "      <td>Mitchells Plain</td>\n",
       "      <td>Drug-related crime</td>\n",
       "      <td>5850</td>\n",
       "    </tr>\n",
       "    <tr>\n",
       "      <th>0</th>\n",
       "      <td>Western Cape</td>\n",
       "      <td>Cape Town Central</td>\n",
       "      <td>All theft not mentioned elsewhere</td>\n",
       "      <td>5285</td>\n",
       "    </tr>\n",
       "    <tr>\n",
       "      <th>622</th>\n",
       "      <td>Western Cape</td>\n",
       "      <td>Manenberg</td>\n",
       "      <td>Drug-related crime</td>\n",
       "      <td>3672</td>\n",
       "    </tr>\n",
       "    <tr>\n",
       "      <th>11</th>\n",
       "      <td>Western Cape</td>\n",
       "      <td>Cape Town Central</td>\n",
       "      <td>Theft out of or from motor vehicle</td>\n",
       "      <td>3474</td>\n",
       "    </tr>\n",
       "  </tbody>\n",
       "</table>\n",
       "</div>"
      ],
      "text/plain": [
       "         Province            Station                            Category  \\\n",
       "2    Western Cape    Mitchells Plain   All theft not mentioned elsewhere   \n",
       "12   Western Cape    Mitchells Plain                  Drug-related crime   \n",
       "0    Western Cape  Cape Town Central   All theft not mentioned elsewhere   \n",
       "622  Western Cape          Manenberg                  Drug-related crime   \n",
       "11   Western Cape  Cape Town Central  Theft out of or from motor vehicle   \n",
       "\n",
       "     2011-2012  \n",
       "2         6108  \n",
       "12        5850  \n",
       "0         5285  \n",
       "622       3672  \n",
       "11        3474  "
      ]
     },
     "execution_count": 43,
     "metadata": {},
     "output_type": "execute_result"
    }
   ],
   "source": [
    "crime_stats_2011 = crime_stats[[\"Province\", \"Station\", \"Category\", \"2011-2012\"]].copy()\n",
    "# Select the top five most frequent provinces\n",
    "crime_stats_2011.sort_values([\"2011-2012\"], ascending = False).head(5)"
   ]
  },
  {
   "cell_type": "markdown",
   "id": "a5823835",
   "metadata": {},
   "source": [
    "# Confirm if it should be unique provinces or top provinces"
   ]
  },
  {
   "cell_type": "markdown",
   "id": "221bbe16",
   "metadata": {},
   "source": [
    " - Identify the province with the highest and lowest crime rates in the “All theft not mentioned elsewhere” category over the entire period."
   ]
  },
  {
   "cell_type": "code",
   "execution_count": 138,
   "id": "eb0b8f31",
   "metadata": {},
   "outputs": [
    {
     "data": {
      "text/html": [
       "<div>\n",
       "<style scoped>\n",
       "    .dataframe tbody tr th:only-of-type {\n",
       "        vertical-align: middle;\n",
       "    }\n",
       "\n",
       "    .dataframe tbody tr th {\n",
       "        vertical-align: top;\n",
       "    }\n",
       "\n",
       "    .dataframe thead th {\n",
       "        text-align: right;\n",
       "    }\n",
       "</style>\n",
       "<table border=\"1\" class=\"dataframe\">\n",
       "  <thead>\n",
       "    <tr style=\"text-align: right;\">\n",
       "      <th></th>\n",
       "      <th>Province</th>\n",
       "      <th>Station</th>\n",
       "      <th>Category</th>\n",
       "      <th>2005-2006</th>\n",
       "      <th>2006-2007</th>\n",
       "      <th>2007-2008</th>\n",
       "      <th>2008-2009</th>\n",
       "      <th>2009-2010</th>\n",
       "      <th>2010-2011</th>\n",
       "      <th>2011-2012</th>\n",
       "      <th>2012-2013</th>\n",
       "      <th>2013-2014</th>\n",
       "      <th>2014-2015</th>\n",
       "      <th>2015-2016</th>\n",
       "    </tr>\n",
       "  </thead>\n",
       "  <tbody>\n",
       "    <tr>\n",
       "      <th>0</th>\n",
       "      <td>Western Cape</td>\n",
       "      <td>Cape Town Central</td>\n",
       "      <td>All theft not mentioned elsewhere</td>\n",
       "      <td>6692</td>\n",
       "      <td>6341</td>\n",
       "      <td>5966</td>\n",
       "      <td>5187</td>\n",
       "      <td>4985</td>\n",
       "      <td>5127</td>\n",
       "      <td>5285</td>\n",
       "      <td>5937</td>\n",
       "      <td>5600</td>\n",
       "      <td>5335</td>\n",
       "      <td>5176</td>\n",
       "    </tr>\n",
       "    <tr>\n",
       "      <th>1</th>\n",
       "      <td>Gauteng</td>\n",
       "      <td>Jhb Central</td>\n",
       "      <td>All theft not mentioned elsewhere</td>\n",
       "      <td>6093</td>\n",
       "      <td>4602</td>\n",
       "      <td>3761</td>\n",
       "      <td>3610</td>\n",
       "      <td>3267</td>\n",
       "      <td>3037</td>\n",
       "      <td>2886</td>\n",
       "      <td>2638</td>\n",
       "      <td>2809</td>\n",
       "      <td>3050</td>\n",
       "      <td>2434</td>\n",
       "    </tr>\n",
       "    <tr>\n",
       "      <th>2</th>\n",
       "      <td>Western Cape</td>\n",
       "      <td>Mitchells Plain</td>\n",
       "      <td>All theft not mentioned elsewhere</td>\n",
       "      <td>5341</td>\n",
       "      <td>6093</td>\n",
       "      <td>6316</td>\n",
       "      <td>6803</td>\n",
       "      <td>6035</td>\n",
       "      <td>5761</td>\n",
       "      <td>6108</td>\n",
       "      <td>5514</td>\n",
       "      <td>4975</td>\n",
       "      <td>4043</td>\n",
       "      <td>3635</td>\n",
       "    </tr>\n",
       "    <tr>\n",
       "      <th>3</th>\n",
       "      <td>Free State</td>\n",
       "      <td>Park Road</td>\n",
       "      <td>All theft not mentioned elsewhere</td>\n",
       "      <td>5108</td>\n",
       "      <td>4282</td>\n",
       "      <td>3834</td>\n",
       "      <td>3316</td>\n",
       "      <td>3101</td>\n",
       "      <td>3013</td>\n",
       "      <td>2679</td>\n",
       "      <td>3116</td>\n",
       "      <td>2927</td>\n",
       "      <td>2297</td>\n",
       "      <td>2103</td>\n",
       "    </tr>\n",
       "    <tr>\n",
       "      <th>4</th>\n",
       "      <td>Gauteng</td>\n",
       "      <td>Pretoria Central</td>\n",
       "      <td>All theft not mentioned elsewhere</td>\n",
       "      <td>5099</td>\n",
       "      <td>4536</td>\n",
       "      <td>3309</td>\n",
       "      <td>2694</td>\n",
       "      <td>2616</td>\n",
       "      <td>2606</td>\n",
       "      <td>2635</td>\n",
       "      <td>3226</td>\n",
       "      <td>3246</td>\n",
       "      <td>2892</td>\n",
       "      <td>3030</td>\n",
       "    </tr>\n",
       "  </tbody>\n",
       "</table>\n",
       "</div>"
      ],
      "text/plain": [
       "       Province            Station                           Category  \\\n",
       "0  Western Cape  Cape Town Central  All theft not mentioned elsewhere   \n",
       "1       Gauteng        Jhb Central  All theft not mentioned elsewhere   \n",
       "2  Western Cape    Mitchells Plain  All theft not mentioned elsewhere   \n",
       "3    Free State          Park Road  All theft not mentioned elsewhere   \n",
       "4       Gauteng   Pretoria Central  All theft not mentioned elsewhere   \n",
       "\n",
       "   2005-2006  2006-2007  2007-2008  2008-2009  2009-2010  2010-2011  \\\n",
       "0       6692       6341       5966       5187       4985       5127   \n",
       "1       6093       4602       3761       3610       3267       3037   \n",
       "2       5341       6093       6316       6803       6035       5761   \n",
       "3       5108       4282       3834       3316       3101       3013   \n",
       "4       5099       4536       3309       2694       2616       2606   \n",
       "\n",
       "   2011-2012  2012-2013  2013-2014  2014-2015  2015-2016  \n",
       "0       5285       5937       5600       5335       5176  \n",
       "1       2886       2638       2809       3050       2434  \n",
       "2       6108       5514       4975       4043       3635  \n",
       "3       2679       3116       2927       2297       2103  \n",
       "4       2635       3226       3246       2892       3030  "
      ]
     },
     "execution_count": 138,
     "metadata": {},
     "output_type": "execute_result"
    }
   ],
   "source": [
    "# Select all the records in the category 'All theft not mentioned elsewhere'\n",
    "crime_stats_all_theft = crime_stats.loc[crime_stats[\"Category\"] == \"All theft not mentioned elsewhere\"]\n",
    "crime_stats_all_theft.head()"
   ]
  },
  {
   "cell_type": "code",
   "execution_count": 207,
   "id": "af2bd147",
   "metadata": {
    "scrolled": false
   },
   "outputs": [],
   "source": [
    "# Get the sum of crime statistics per province by specifying the sum axis as 1, which will add across columns\n",
    "total_crime_stats_category = crime_stats_all_theft[years].sum(axis = 1)"
   ]
  },
  {
   "cell_type": "code",
   "execution_count": 208,
   "id": "86496ed5",
   "metadata": {},
   "outputs": [],
   "source": [
    "# Select the row with the maximum values\n",
    "max_value = total_crime_stats_category.max()\n",
    "max_col = total_crime_stats_category.idxmax()\n",
    "max_province = crime_stats_all_theft.loc[max_col][\"Province\"]\n",
    "\n",
    "# Select the row with the minimum values\n",
    "min_value = total_crime_stats_category.min()\n",
    "min_col = total_crime_stats_category.idxmin()\n",
    "min_province = crime_stats_all_theft.loc[min_col][\"Province\"]"
   ]
  },
  {
   "cell_type": "code",
   "execution_count": 209,
   "id": "205e46a7",
   "metadata": {},
   "outputs": [
    {
     "name": "stdout",
     "output_type": "stream",
     "text": [
      "Highest crime rate in the “All theft not mentioned elsewhere” category over the entire period was in Western Cape\n",
      "Lowest crime rate in the “All theft not mentioned elsewhere” category over the entire period was in Eastern Cape\n"
     ]
    }
   ],
   "source": [
    "print(f\"Highest crime rate in the “All theft not mentioned elsewhere” category over the entire period was in {max_province}\")\n",
    "print(f\"Lowest crime rate in the “All theft not mentioned elsewhere” category over the entire period was in {min_province}\")"
   ]
  },
  {
   "cell_type": "markdown",
   "id": "a4b4792e",
   "metadata": {},
   "source": [
    "b) Ranking:\n",
    " - Rank the top 5 stations based on the average crime rate over the entire period."
   ]
  },
  {
   "cell_type": "markdown",
   "id": "26c7deab",
   "metadata": {},
   "source": [
    "Get the average crime rate over the entire period"
   ]
  },
  {
   "cell_type": "code",
   "execution_count": 199,
   "id": "55c47556",
   "metadata": {},
   "outputs": [],
   "source": [
    "average_crime_stats = crime_stats[years].mean(axis = 1)"
   ]
  },
  {
   "cell_type": "markdown",
   "id": "a72cdba8",
   "metadata": {},
   "source": [
    "Select the top 5 average crime rates"
   ]
  },
  {
   "cell_type": "code",
   "execution_count": 200,
   "id": "73595158",
   "metadata": {},
   "outputs": [],
   "source": [
    "top_average_crime_stats = average_crime_stats.nlargest()"
   ]
  },
  {
   "cell_type": "markdown",
   "id": "56d949c1",
   "metadata": {},
   "source": [
    "Loop through the list of top average crime rates and select the station for each"
   ]
  },
  {
   "cell_type": "code",
   "execution_count": 201,
   "id": "971782cf",
   "metadata": {},
   "outputs": [
    {
     "name": "stdout",
     "output_type": "stream",
     "text": [
      "Top 5 stations based on the average crime rate over the entire period are:\n",
      "1. Cape Town Central\n",
      "2. Mitchells Plain\n",
      "3. Bellville\n",
      "4. Jhb Central\n",
      "5. Durban Central\n"
     ]
    }
   ],
   "source": [
    "average_station_list = []\n",
    "index = 0\n",
    "while index < len(top_average_crime_stats):\n",
    "    list_index = top_average_crime_stats.index[index]\n",
    "    station = crime_stats_all_theft.iloc[list_index][\"Station\"]\n",
    "    average_station_list.append(station)\n",
    "    index += 1\n",
    "    \n",
    "print(\"Top 5 stations based on the average crime rate over the entire period are:\")\n",
    "for rank, station in enumerate(average_station_list):\n",
    "    print(f\"{rank+1}. {station}\")"
   ]
  },
  {
   "cell_type": "markdown",
   "id": "b3e54ed0",
   "metadata": {},
   "source": [
    " - Identify the top 5 stations with the highest and lowest crime rates over the entire period."
   ]
  },
  {
   "cell_type": "markdown",
   "id": "20711031",
   "metadata": {},
   "source": [
    "Get the total crime rate over the entire period"
   ]
  },
  {
   "cell_type": "code",
   "execution_count": 210,
   "id": "9be8cfff",
   "metadata": {},
   "outputs": [],
   "source": [
    "total_crime_stats = crime_stats[years].sum(axis = 1)"
   ]
  },
  {
   "cell_type": "markdown",
   "id": "ce9e9279",
   "metadata": {},
   "source": [
    "Get the stations with the highest crime rates"
   ]
  },
  {
   "cell_type": "code",
   "execution_count": 213,
   "id": "912840aa",
   "metadata": {},
   "outputs": [
    {
     "name": "stdout",
     "output_type": "stream",
     "text": [
      "Top 5 stations with the highest crime rate over the entire period are:\n",
      "1. Cape Town Central\n",
      "2. Mitchells Plain\n",
      "3. Mitchells Plain\n",
      "4. Jhb Central\n",
      "5. Durban Central\n"
     ]
    }
   ],
   "source": [
    "#Select the top 5 highest crime rates and find their provinces\n",
    "top_highest_crime_stats = total_crime_stats.nlargest()\n",
    "highest_station_list = []\n",
    "index = 0\n",
    "while index < len(top_highest_crime_stats):\n",
    "    high_list_index = top_highest_crime_stats.index[index]\n",
    "    station = crime_stats.iloc[high_list_index][\"Station\"]\n",
    "    highest_station_list.append(station)\n",
    "    index += 1\n",
    "    \n",
    "print(\"Top 5 stations with the highest crime rate over the entire period are:\")\n",
    "for rank, station in enumerate(highest_station_list):\n",
    "    print(f\"{rank+1}. {station}\")"
   ]
  },
  {
   "cell_type": "code",
   "execution_count": 215,
   "id": "878d0398",
   "metadata": {},
   "outputs": [
    {
     "name": "stdout",
     "output_type": "stream",
     "text": [
      "Top 5 stations with the lowest crime rate over the entire period are:\n",
      "1. Aberdeen\n",
      "2. Aberdeen\n",
      "3. Aberdeen\n",
      "4. Addo\n",
      "5. Addo\n"
     ]
    }
   ],
   "source": [
    "#Select the top 5 lowest crime rates and find their provinces\n",
    "top_lowest_crime_stats = total_crime_stats.nsmallest()\n",
    "lowest_station_list = []\n",
    "index = 0\n",
    "while index < len(top_lowest_crime_stats):\n",
    "    low_list_index = top_lowest_crime_stats.index[index]\n",
    "    station = crime_stats.iloc[low_list_index][\"Station\"]\n",
    "    lowest_station_list.append(station)\n",
    "    index += 1\n",
    "    \n",
    "print(\"Top 5 stations with the lowest crime rate over the entire period are:\")\n",
    "for rank, station in enumerate(lowest_station_list):\n",
    "    print(f\"{rank+1}. {station}\")"
   ]
  },
  {
   "cell_type": "markdown",
   "id": "2475d501",
   "metadata": {},
   "source": [
    "c) Change Over Time:\n",
    " - Identify the top 5 stations where there has been a significant decrease in crime rates over consecutive years."
   ]
  },
  {
   "cell_type": "markdown",
   "id": "b909592b",
   "metadata": {},
   "source": [
    "Get the percentage change over the entire period"
   ]
  },
  {
   "cell_type": "code",
   "execution_count": 227,
   "id": "7750dd55",
   "metadata": {},
   "outputs": [
    {
     "ename": "TypeError",
     "evalue": "unsupported operand type(s) for /: 'str' and 'str'",
     "output_type": "error",
     "traceback": [
      "\u001b[1;31m---------------------------------------------------------------------------\u001b[0m",
      "\u001b[1;31mTypeError\u001b[0m                                 Traceback (most recent call last)",
      "File \u001b[1;32m~\\anaconda3\\Lib\\site-packages\\pandas\\core\\ops\\array_ops.py:165\u001b[0m, in \u001b[0;36m_na_arithmetic_op\u001b[1;34m(left, right, op, is_cmp)\u001b[0m\n\u001b[0;32m    164\u001b[0m \u001b[38;5;28;01mtry\u001b[39;00m:\n\u001b[1;32m--> 165\u001b[0m     result \u001b[38;5;241m=\u001b[39m func(left, right)\n\u001b[0;32m    166\u001b[0m \u001b[38;5;28;01mexcept\u001b[39;00m \u001b[38;5;167;01mTypeError\u001b[39;00m:\n",
      "File \u001b[1;32m~\\anaconda3\\Lib\\site-packages\\pandas\\core\\computation\\expressions.py:241\u001b[0m, in \u001b[0;36mevaluate\u001b[1;34m(op, a, b, use_numexpr)\u001b[0m\n\u001b[0;32m    239\u001b[0m     \u001b[38;5;28;01mif\u001b[39;00m use_numexpr:\n\u001b[0;32m    240\u001b[0m         \u001b[38;5;66;03m# error: \"None\" not callable\u001b[39;00m\n\u001b[1;32m--> 241\u001b[0m         \u001b[38;5;28;01mreturn\u001b[39;00m _evaluate(op, op_str, a, b)  \u001b[38;5;66;03m# type: ignore[misc]\u001b[39;00m\n\u001b[0;32m    242\u001b[0m \u001b[38;5;28;01mreturn\u001b[39;00m _evaluate_standard(op, op_str, a, b)\n",
      "File \u001b[1;32m~\\anaconda3\\Lib\\site-packages\\pandas\\core\\computation\\expressions.py:129\u001b[0m, in \u001b[0;36m_evaluate_numexpr\u001b[1;34m(op, op_str, a, b)\u001b[0m\n\u001b[0;32m    128\u001b[0m \u001b[38;5;28;01mif\u001b[39;00m result \u001b[38;5;129;01mis\u001b[39;00m \u001b[38;5;28;01mNone\u001b[39;00m:\n\u001b[1;32m--> 129\u001b[0m     result \u001b[38;5;241m=\u001b[39m _evaluate_standard(op, op_str, a, b)\n\u001b[0;32m    131\u001b[0m \u001b[38;5;28;01mreturn\u001b[39;00m result\n",
      "File \u001b[1;32m~\\anaconda3\\Lib\\site-packages\\pandas\\core\\computation\\expressions.py:70\u001b[0m, in \u001b[0;36m_evaluate_standard\u001b[1;34m(op, op_str, a, b)\u001b[0m\n\u001b[0;32m     69\u001b[0m     _store_test_result(\u001b[38;5;28;01mFalse\u001b[39;00m)\n\u001b[1;32m---> 70\u001b[0m \u001b[38;5;28;01mreturn\u001b[39;00m op(a, b)\n",
      "\u001b[1;31mTypeError\u001b[0m: unsupported operand type(s) for /: 'str' and 'NoneType'",
      "\nDuring handling of the above exception, another exception occurred:\n",
      "\u001b[1;31mTypeError\u001b[0m                                 Traceback (most recent call last)",
      "Cell \u001b[1;32mIn[227], line 1\u001b[0m\n\u001b[1;32m----> 1\u001b[0m crime_stats\u001b[38;5;241m.\u001b[39mpct_change()\n",
      "File \u001b[1;32m~\\anaconda3\\Lib\\site-packages\\pandas\\core\\generic.py:11081\u001b[0m, in \u001b[0;36mNDFrame.pct_change\u001b[1;34m(self, periods, fill_method, limit, freq, **kwargs)\u001b[0m\n\u001b[0;32m  11079\u001b[0m shifted \u001b[38;5;241m=\u001b[39m data\u001b[38;5;241m.\u001b[39mshift(periods\u001b[38;5;241m=\u001b[39mperiods, freq\u001b[38;5;241m=\u001b[39mfreq, axis\u001b[38;5;241m=\u001b[39maxis, \u001b[38;5;241m*\u001b[39m\u001b[38;5;241m*\u001b[39mkwargs)\n\u001b[0;32m  11080\u001b[0m \u001b[38;5;66;03m# Unsupported left operand type for / (\"NDFrameT\")\u001b[39;00m\n\u001b[1;32m> 11081\u001b[0m rs \u001b[38;5;241m=\u001b[39m data \u001b[38;5;241m/\u001b[39m shifted \u001b[38;5;241m-\u001b[39m \u001b[38;5;241m1\u001b[39m  \u001b[38;5;66;03m# type: ignore[operator]\u001b[39;00m\n\u001b[0;32m  11082\u001b[0m \u001b[38;5;28;01mif\u001b[39;00m freq \u001b[38;5;129;01mis\u001b[39;00m \u001b[38;5;129;01mnot\u001b[39;00m \u001b[38;5;28;01mNone\u001b[39;00m:\n\u001b[0;32m  11083\u001b[0m     \u001b[38;5;66;03m# Shift method is implemented differently when freq is not None\u001b[39;00m\n\u001b[0;32m  11084\u001b[0m     \u001b[38;5;66;03m# We want to restore the original index\u001b[39;00m\n\u001b[0;32m  11085\u001b[0m     rs \u001b[38;5;241m=\u001b[39m rs\u001b[38;5;241m.\u001b[39mloc[\u001b[38;5;241m~\u001b[39mrs\u001b[38;5;241m.\u001b[39mindex\u001b[38;5;241m.\u001b[39mduplicated()]\n",
      "File \u001b[1;32m~\\anaconda3\\Lib\\site-packages\\pandas\\core\\ops\\common.py:72\u001b[0m, in \u001b[0;36m_unpack_zerodim_and_defer.<locals>.new_method\u001b[1;34m(self, other)\u001b[0m\n\u001b[0;32m     68\u001b[0m             \u001b[38;5;28;01mreturn\u001b[39;00m \u001b[38;5;28mNotImplemented\u001b[39m\n\u001b[0;32m     70\u001b[0m other \u001b[38;5;241m=\u001b[39m item_from_zerodim(other)\n\u001b[1;32m---> 72\u001b[0m \u001b[38;5;28;01mreturn\u001b[39;00m method(\u001b[38;5;28mself\u001b[39m, other)\n",
      "File \u001b[1;32m~\\anaconda3\\Lib\\site-packages\\pandas\\core\\arraylike.py:126\u001b[0m, in \u001b[0;36mOpsMixin.__truediv__\u001b[1;34m(self, other)\u001b[0m\n\u001b[0;32m    124\u001b[0m \u001b[38;5;129m@unpack_zerodim_and_defer\u001b[39m(\u001b[38;5;124m\"\u001b[39m\u001b[38;5;124m__truediv__\u001b[39m\u001b[38;5;124m\"\u001b[39m)\n\u001b[0;32m    125\u001b[0m \u001b[38;5;28;01mdef\u001b[39;00m \u001b[38;5;21m__truediv__\u001b[39m(\u001b[38;5;28mself\u001b[39m, other):\n\u001b[1;32m--> 126\u001b[0m     \u001b[38;5;28;01mreturn\u001b[39;00m \u001b[38;5;28mself\u001b[39m\u001b[38;5;241m.\u001b[39m_arith_method(other, operator\u001b[38;5;241m.\u001b[39mtruediv)\n",
      "File \u001b[1;32m~\\anaconda3\\Lib\\site-packages\\pandas\\core\\frame.py:7594\u001b[0m, in \u001b[0;36mDataFrame._arith_method\u001b[1;34m(self, other, op)\u001b[0m\n\u001b[0;32m   7590\u001b[0m other \u001b[38;5;241m=\u001b[39m ops\u001b[38;5;241m.\u001b[39mmaybe_prepare_scalar_for_op(other, (\u001b[38;5;28mself\u001b[39m\u001b[38;5;241m.\u001b[39mshape[axis],))\n\u001b[0;32m   7592\u001b[0m \u001b[38;5;28mself\u001b[39m, other \u001b[38;5;241m=\u001b[39m ops\u001b[38;5;241m.\u001b[39malign_method_FRAME(\u001b[38;5;28mself\u001b[39m, other, axis, flex\u001b[38;5;241m=\u001b[39m\u001b[38;5;28;01mTrue\u001b[39;00m, level\u001b[38;5;241m=\u001b[39m\u001b[38;5;28;01mNone\u001b[39;00m)\n\u001b[1;32m-> 7594\u001b[0m new_data \u001b[38;5;241m=\u001b[39m \u001b[38;5;28mself\u001b[39m\u001b[38;5;241m.\u001b[39m_dispatch_frame_op(other, op, axis\u001b[38;5;241m=\u001b[39maxis)\n\u001b[0;32m   7595\u001b[0m \u001b[38;5;28;01mreturn\u001b[39;00m \u001b[38;5;28mself\u001b[39m\u001b[38;5;241m.\u001b[39m_construct_result(new_data)\n",
      "File \u001b[1;32m~\\anaconda3\\Lib\\site-packages\\pandas\\core\\frame.py:7633\u001b[0m, in \u001b[0;36mDataFrame._dispatch_frame_op\u001b[1;34m(self, right, func, axis)\u001b[0m\n\u001b[0;32m   7627\u001b[0m     \u001b[38;5;66;03m# TODO: The previous assertion `assert right._indexed_same(self)`\u001b[39;00m\n\u001b[0;32m   7628\u001b[0m     \u001b[38;5;66;03m#  fails in cases with empty columns reached via\u001b[39;00m\n\u001b[0;32m   7629\u001b[0m     \u001b[38;5;66;03m#  _frame_arith_method_with_reindex\u001b[39;00m\n\u001b[0;32m   7630\u001b[0m \n\u001b[0;32m   7631\u001b[0m     \u001b[38;5;66;03m# TODO operate_blockwise expects a manager of the same type\u001b[39;00m\n\u001b[0;32m   7632\u001b[0m     \u001b[38;5;28;01mwith\u001b[39;00m np\u001b[38;5;241m.\u001b[39merrstate(\u001b[38;5;28mall\u001b[39m\u001b[38;5;241m=\u001b[39m\u001b[38;5;124m\"\u001b[39m\u001b[38;5;124mignore\u001b[39m\u001b[38;5;124m\"\u001b[39m):\n\u001b[1;32m-> 7633\u001b[0m         bm \u001b[38;5;241m=\u001b[39m \u001b[38;5;28mself\u001b[39m\u001b[38;5;241m.\u001b[39m_mgr\u001b[38;5;241m.\u001b[39moperate_blockwise(\n\u001b[0;32m   7634\u001b[0m             \u001b[38;5;66;03m# error: Argument 1 to \"operate_blockwise\" of \"ArrayManager\" has\u001b[39;00m\n\u001b[0;32m   7635\u001b[0m             \u001b[38;5;66;03m# incompatible type \"Union[ArrayManager, BlockManager]\"; expected\u001b[39;00m\n\u001b[0;32m   7636\u001b[0m             \u001b[38;5;66;03m# \"ArrayManager\"\u001b[39;00m\n\u001b[0;32m   7637\u001b[0m             \u001b[38;5;66;03m# error: Argument 1 to \"operate_blockwise\" of \"BlockManager\" has\u001b[39;00m\n\u001b[0;32m   7638\u001b[0m             \u001b[38;5;66;03m# incompatible type \"Union[ArrayManager, BlockManager]\"; expected\u001b[39;00m\n\u001b[0;32m   7639\u001b[0m             \u001b[38;5;66;03m# \"BlockManager\"\u001b[39;00m\n\u001b[0;32m   7640\u001b[0m             right\u001b[38;5;241m.\u001b[39m_mgr,  \u001b[38;5;66;03m# type: ignore[arg-type]\u001b[39;00m\n\u001b[0;32m   7641\u001b[0m             array_op,\n\u001b[0;32m   7642\u001b[0m         )\n\u001b[0;32m   7643\u001b[0m     \u001b[38;5;28;01mreturn\u001b[39;00m \u001b[38;5;28mself\u001b[39m\u001b[38;5;241m.\u001b[39m_constructor(bm)\n\u001b[0;32m   7645\u001b[0m \u001b[38;5;28;01melif\u001b[39;00m \u001b[38;5;28misinstance\u001b[39m(right, Series) \u001b[38;5;129;01mand\u001b[39;00m axis \u001b[38;5;241m==\u001b[39m \u001b[38;5;241m1\u001b[39m:\n\u001b[0;32m   7646\u001b[0m     \u001b[38;5;66;03m# axis=1 means we want to operate row-by-row\u001b[39;00m\n",
      "File \u001b[1;32m~\\anaconda3\\Lib\\site-packages\\pandas\\core\\internals\\managers.py:1589\u001b[0m, in \u001b[0;36mBlockManager.operate_blockwise\u001b[1;34m(self, other, array_op)\u001b[0m\n\u001b[0;32m   1585\u001b[0m \u001b[38;5;28;01mdef\u001b[39;00m \u001b[38;5;21moperate_blockwise\u001b[39m(\u001b[38;5;28mself\u001b[39m, other: BlockManager, array_op) \u001b[38;5;241m-\u001b[39m\u001b[38;5;241m>\u001b[39m BlockManager:\n\u001b[0;32m   1586\u001b[0m \u001b[38;5;250m    \u001b[39m\u001b[38;5;124;03m\"\"\"\u001b[39;00m\n\u001b[0;32m   1587\u001b[0m \u001b[38;5;124;03m    Apply array_op blockwise with another (aligned) BlockManager.\u001b[39;00m\n\u001b[0;32m   1588\u001b[0m \u001b[38;5;124;03m    \"\"\"\u001b[39;00m\n\u001b[1;32m-> 1589\u001b[0m     \u001b[38;5;28;01mreturn\u001b[39;00m operate_blockwise(\u001b[38;5;28mself\u001b[39m, other, array_op)\n",
      "File \u001b[1;32m~\\anaconda3\\Lib\\site-packages\\pandas\\core\\internals\\ops.py:63\u001b[0m, in \u001b[0;36moperate_blockwise\u001b[1;34m(left, right, array_op)\u001b[0m\n\u001b[0;32m     61\u001b[0m res_blks: \u001b[38;5;28mlist\u001b[39m[Block] \u001b[38;5;241m=\u001b[39m []\n\u001b[0;32m     62\u001b[0m \u001b[38;5;28;01mfor\u001b[39;00m lvals, rvals, locs, left_ea, right_ea, rblk \u001b[38;5;129;01min\u001b[39;00m _iter_block_pairs(left, right):\n\u001b[1;32m---> 63\u001b[0m     res_values \u001b[38;5;241m=\u001b[39m array_op(lvals, rvals)\n\u001b[0;32m     64\u001b[0m     \u001b[38;5;28;01mif\u001b[39;00m left_ea \u001b[38;5;129;01mand\u001b[39;00m \u001b[38;5;129;01mnot\u001b[39;00m right_ea \u001b[38;5;129;01mand\u001b[39;00m \u001b[38;5;28mhasattr\u001b[39m(res_values, \u001b[38;5;124m\"\u001b[39m\u001b[38;5;124mreshape\u001b[39m\u001b[38;5;124m\"\u001b[39m):\n\u001b[0;32m     65\u001b[0m         res_values \u001b[38;5;241m=\u001b[39m res_values\u001b[38;5;241m.\u001b[39mreshape(\u001b[38;5;241m1\u001b[39m, \u001b[38;5;241m-\u001b[39m\u001b[38;5;241m1\u001b[39m)\n",
      "File \u001b[1;32m~\\anaconda3\\Lib\\site-packages\\pandas\\core\\ops\\array_ops.py:226\u001b[0m, in \u001b[0;36marithmetic_op\u001b[1;34m(left, right, op)\u001b[0m\n\u001b[0;32m    222\u001b[0m     _bool_arith_check(op, left, right)\n\u001b[0;32m    224\u001b[0m     \u001b[38;5;66;03m# error: Argument 1 to \"_na_arithmetic_op\" has incompatible type\u001b[39;00m\n\u001b[0;32m    225\u001b[0m     \u001b[38;5;66;03m# \"Union[ExtensionArray, ndarray[Any, Any]]\"; expected \"ndarray[Any, Any]\"\u001b[39;00m\n\u001b[1;32m--> 226\u001b[0m     res_values \u001b[38;5;241m=\u001b[39m _na_arithmetic_op(left, right, op)  \u001b[38;5;66;03m# type: ignore[arg-type]\u001b[39;00m\n\u001b[0;32m    228\u001b[0m \u001b[38;5;28;01mreturn\u001b[39;00m res_values\n",
      "File \u001b[1;32m~\\anaconda3\\Lib\\site-packages\\pandas\\core\\ops\\array_ops.py:172\u001b[0m, in \u001b[0;36m_na_arithmetic_op\u001b[1;34m(left, right, op, is_cmp)\u001b[0m\n\u001b[0;32m    166\u001b[0m \u001b[38;5;28;01mexcept\u001b[39;00m \u001b[38;5;167;01mTypeError\u001b[39;00m:\n\u001b[0;32m    167\u001b[0m     \u001b[38;5;28;01mif\u001b[39;00m \u001b[38;5;129;01mnot\u001b[39;00m is_cmp \u001b[38;5;129;01mand\u001b[39;00m (is_object_dtype(left\u001b[38;5;241m.\u001b[39mdtype) \u001b[38;5;129;01mor\u001b[39;00m is_object_dtype(right)):\n\u001b[0;32m    168\u001b[0m         \u001b[38;5;66;03m# For object dtype, fallback to a masked operation (only operating\u001b[39;00m\n\u001b[0;32m    169\u001b[0m         \u001b[38;5;66;03m#  on the non-missing values)\u001b[39;00m\n\u001b[0;32m    170\u001b[0m         \u001b[38;5;66;03m# Don't do this for comparisons, as that will handle complex numbers\u001b[39;00m\n\u001b[0;32m    171\u001b[0m         \u001b[38;5;66;03m#  incorrectly, see GH#32047\u001b[39;00m\n\u001b[1;32m--> 172\u001b[0m         result \u001b[38;5;241m=\u001b[39m _masked_arith_op(left, right, op)\n\u001b[0;32m    173\u001b[0m     \u001b[38;5;28;01melse\u001b[39;00m:\n\u001b[0;32m    174\u001b[0m         \u001b[38;5;28;01mraise\u001b[39;00m\n",
      "File \u001b[1;32m~\\anaconda3\\Lib\\site-packages\\pandas\\core\\ops\\array_ops.py:110\u001b[0m, in \u001b[0;36m_masked_arith_op\u001b[1;34m(x, y, op)\u001b[0m\n\u001b[0;32m    108\u001b[0m     \u001b[38;5;66;03m# See GH#5284, GH#5035, GH#19448 for historical reference\u001b[39;00m\n\u001b[0;32m    109\u001b[0m     \u001b[38;5;28;01mif\u001b[39;00m mask\u001b[38;5;241m.\u001b[39many():\n\u001b[1;32m--> 110\u001b[0m         result[mask] \u001b[38;5;241m=\u001b[39m op(xrav[mask], yrav[mask])\n\u001b[0;32m    112\u001b[0m \u001b[38;5;28;01melse\u001b[39;00m:\n\u001b[0;32m    113\u001b[0m     \u001b[38;5;28;01mif\u001b[39;00m \u001b[38;5;129;01mnot\u001b[39;00m is_scalar(y):\n",
      "\u001b[1;31mTypeError\u001b[0m: unsupported operand type(s) for /: 'str' and 'str'"
     ]
    }
   ],
   "source": [
    "#crime_stats.pct_change()"
   ]
  },
  {
   "cell_type": "markdown",
   "id": "ef8884af",
   "metadata": {},
   "source": [
    "- Plot the percentage change in crime rates for Pretoria Central, Cape Town Central, Brooklyn, and Pretoria West stations over the years."
   ]
  },
  {
   "cell_type": "markdown",
   "id": "267bfa2b",
   "metadata": {},
   "source": [
    "d) Aggregate Analysis:\n",
    "- Aggregate the data at the province level (Use only the 5 most frequent provinces) and analyze the overall crime trends for each province."
   ]
  },
  {
   "cell_type": "markdown",
   "id": "5040eb38",
   "metadata": {},
   "source": [
    "- Identify provinces (Use only the 5 most frequent provinces) where certain categories of crime are more prevalent."
   ]
  }
 ],
 "metadata": {
  "kernelspec": {
   "display_name": "Python 3 (ipykernel)",
   "language": "python",
   "name": "python3"
  },
  "language_info": {
   "codemirror_mode": {
    "name": "ipython",
    "version": 3
   },
   "file_extension": ".py",
   "mimetype": "text/x-python",
   "name": "python",
   "nbconvert_exporter": "python",
   "pygments_lexer": "ipython3",
   "version": "3.11.4"
  }
 },
 "nbformat": 4,
 "nbformat_minor": 5
}
