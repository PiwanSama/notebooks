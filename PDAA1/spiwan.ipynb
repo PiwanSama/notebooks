{
 "cells": [
  {
   "cell_type": "markdown",
   "id": "e0a23c81",
   "metadata": {},
   "source": [
    "# Programming for Data Analytics - Task One"
   ]
  },
  {
   "cell_type": "markdown",
   "id": "5d70709c",
   "metadata": {},
   "source": [
    "Prepared by Samalie Piwan   \n",
    "Email : spiwan@andrew.cmu.edu"
   ]
  },
  {
   "cell_type": "markdown",
   "id": "6a4d0ede",
   "metadata": {},
   "source": [
    "### Section 1: Numpy"
   ]
  },
  {
   "cell_type": "markdown",
   "id": "1752fe97",
   "metadata": {},
   "source": [
    "#### Question 1: Analyzing Monthly Expenses [15 Pts]\n",
    "\n",
    "Scenario:You are tasked with analyzing monthly expenses for a small business. You have two lists: one containing monthly expenses for the current year, and another for the previous year.\n",
    "\n",
    "current_year_expenses = [1200, 1350, 1100, 980, 1500]\n",
    "\n",
    "previous_year_expenses = [1150, 1300, 1050, 950, 1400]"
   ]
  },
  {
   "cell_type": "markdown",
   "id": "7429a90b",
   "metadata": {},
   "source": [
    "a) Create a Python script that imports NumPy, sets up two arrays based on the two lists, and calculates the following statistics for both current and previous year's expenses:\n",
    "- Mean (average) expense\n",
    "- Median expense\n",
    "- Standard deviation of expenses\n",
    "- Total expenses"
   ]
  },
  {
   "cell_type": "markdown",
   "id": "d50d08ab",
   "metadata": {},
   "source": [
    "Converting the lists to numpy arrays"
   ]
  },
  {
   "cell_type": "code",
   "execution_count": 48,
   "id": "55a423a5",
   "metadata": {},
   "outputs": [],
   "source": [
    "# Import numpy\n",
    "import numpy as np\n",
    "\n",
    "# Initialize the two lists\n",
    "current_year_expenses = [1200, 1350, 1100, 980, 1500]\n",
    "previous_year_expenses = [1150, 1300, 1050, 950, 1400]\n",
    "\n",
    "# Convert the lists to numpy arrays\n",
    "current_year_expenses = np.array(current_year_expenses)\n",
    "previous_year_expenses = np.array(previous_year_expenses)"
   ]
  },
  {
   "cell_type": "markdown",
   "id": "bee7e935",
   "metadata": {},
   "source": [
    "Getting statistics for current_year_expenses"
   ]
  },
  {
   "cell_type": "code",
   "execution_count": 49,
   "id": "4911ef46",
   "metadata": {},
   "outputs": [
    {
     "name": "stdout",
     "output_type": "stream",
     "text": [
      "Current Year Mean : 1226.0\n",
      "Current Year Median: 1200.0\n",
      "Current Year Total : 6130\n"
     ]
    }
   ],
   "source": [
    "current_year_mean = np.mean(current_year_expenses)\n",
    "print(f\"Current Year Mean : {current_year_mean}\")\n",
    "current_year_median = np.median(current_year_expenses)\n",
    "print(f\"Current Year Median: {current_year_median}\")\n",
    "current_year_total = np.sum(current_year_expenses)\n",
    "print(f\"Current Year Total : {current_year_total}\")"
   ]
  },
  {
   "cell_type": "markdown",
   "id": "bda3de44",
   "metadata": {},
   "source": [
    "Getting statistics for previous_year_expenses"
   ]
  },
  {
   "cell_type": "code",
   "execution_count": 24,
   "id": "4ca15304",
   "metadata": {},
   "outputs": [
    {
     "name": "stdout",
     "output_type": "stream",
     "text": [
      "Previous Year Mean : 1170.0\n",
      "Previous Year Median: 1150.0\n",
      "Previous Year Total : 5850\n"
     ]
    }
   ],
   "source": [
    "previous_year_mean = np.mean(previous_year_expenses)\n",
    "print(f\"Previous Year Mean : {previous_year_mean}\")\n",
    "previous_year_median = np.median(previous_year_expenses)\n",
    "print(f\"Previous Year Median: {previous_year_median}\")\n",
    "previous_year_total = np.sum(previous_year_expenses)\n",
    "print(f\"Previous Year Total : {previous_year_total}\")"
   ]
  },
  {
   "cell_type": "markdown",
   "id": "a86995d0",
   "metadata": {},
   "source": [
    "b) Imagine you are a financial analyst presenting these expense statistics to the company's executives. In your code, calculate and print the following based on the calculated means of the current and previous year's expenses:"
   ]
  },
  {
   "cell_type": "markdown",
   "id": "47fc7c4e",
   "metadata": {},
   "source": [
    "The difference between the mean expenses of the current year and the previous year."
   ]
  },
  {
   "cell_type": "code",
   "execution_count": 25,
   "id": "2bd946ce",
   "metadata": {},
   "outputs": [
    {
     "name": "stdout",
     "output_type": "stream",
     "text": [
      "The difference between the mean expenses of the current year and previous year is 56.0\n"
     ]
    }
   ],
   "source": [
    "# Calculate the mean difference using the variables initialized above\n",
    "mean_diff = current_year_mean - previous_year_mean\n",
    "print(f\"The difference between the mean expenses of the current year and previous year is {mean_diff}\")"
   ]
  },
  {
   "cell_type": "markdown",
   "id": "fb9b6113",
   "metadata": {},
   "source": [
    "The percentage change in mean expenses from the previous year to the current year."
   ]
  },
  {
   "cell_type": "code",
   "execution_count": 26,
   "id": "4ce04b1e",
   "metadata": {},
   "outputs": [
    {
     "name": "stdout",
     "output_type": "stream",
     "text": [
      "The percentage change in mean expenses from the previous year to the current year is 4.786%\n"
     ]
    }
   ],
   "source": [
    "# We can find the percentage change using the formula change / original_value * 100\n",
    "pct_change = (mean_diff / previous_year_mean) * 100\n",
    "print(f\"The percentage change in mean expenses from the previous year to the current year is {round(pct_change, 3)}%\")"
   ]
  },
  {
   "cell_type": "markdown",
   "id": "15394eb5",
   "metadata": {},
   "source": [
    "c. You are responsible for financial risk assessment. In your code, calculate and print the following practical metrics based on the standard deviation of expenses for the current and previous year:\n",
    "\n",
    "- The coefficient of variation (CV) for both years (CV = (Standard Deviation / Mean) * 100)\n",
    "- A risk assessment message for each year based on the CV (e.g., \"Low Risk\" for CV < 20, \"Moderate Risk\" for 20 <= CV < 50, \"High Risk\" for CV >= 50)."
   ]
  },
  {
   "cell_type": "code",
   "execution_count": 43,
   "id": "a0831b03",
   "metadata": {},
   "outputs": [],
   "source": [
    "def get_risk_assessment(cv):\n",
    "    if cv < 20:\n",
    "        print(\"Risk Assessment : Low Risk\")\n",
    "    elif 20 <= cv <= 50:\n",
    "        print(\"Risk Assessment : Moderate Risk\")\n",
    "    else:\n",
    "        print(\"Risk Assessment : High Risk\")"
   ]
  },
  {
   "cell_type": "code",
   "execution_count": 44,
   "id": "a959dcf0",
   "metadata": {},
   "outputs": [
    {
     "name": "stdout",
     "output_type": "stream",
     "text": [
      "The coffeicent of variation for the current year is 14.929933035755369\n",
      "Risk Assessment : Low Risk\n"
     ]
    }
   ],
   "source": [
    "current_year_std = np.std(current_year_expenses)\n",
    "current_coeff_of_variation = (current_year_std / current_year_mean) * 100\n",
    "print(f\"The coffeicent of variation for the current year is {current_coeff_of_variation}\")\n",
    "\n",
    "# Call the get_risk_assessment function to print the risk assessment of the CV\n",
    "get_risk_assessment(current_coeff_of_variation)"
   ]
  },
  {
   "cell_type": "code",
   "execution_count": 45,
   "id": "0fc447c9",
   "metadata": {},
   "outputs": [
    {
     "name": "stdout",
     "output_type": "stream",
     "text": [
      "The coffeicent of variation for the previous year is 13.939749085726572\n",
      "Risk Assessment : Low Risk\n"
     ]
    }
   ],
   "source": [
    "previous_year_std = np.std(previous_year_expenses)\n",
    "previous_coeff_of_variation = (previous_year_std / previous_year_mean) * 100\n",
    "print(f\"The coffeicent of variation for the previous year is {previous_coeff_of_variation}\")\n",
    "\n",
    "# Call the get_risk_assessment function to print the risk assessment of the CV\n",
    "get_risk_assessment(previous_coeff_of_variation)"
   ]
  },
  {
   "cell_type": "markdown",
   "id": "5bbebb2c",
   "metadata": {},
   "source": [
    "### Question 2: Sales Forecasting with NumPy [10 Pts]"
   ]
  },
  {
   "cell_type": "markdown",
   "id": "52dab100",
   "metadata": {},
   "source": [
    "Scenario: Suppose you want to forecast monthly sales for the upcoming year based on historical sales data. You have access to the monthly sales data for the last three years. Historical sales data for the last three years (12 months each year):\n",
    "\n",
    "year1_sales = [12000, 13500, 11000, 9800, 15000, 12300, 13700, 11150, 9750, 14850, 13000, 15500] \n",
    "\n",
    "year2_sales = [12500, 13000, 11200, 9900, 15200, 12600, 14200, 11350, 9950, 15000, 13500, 16000] \n",
    "\n",
    "year3_sales = [12300, 13700, 11150, 9750, 14850, 12800, 13900, 11000, 9600, 14500, 12750, 14200]"
   ]
  },
  {
   "cell_type": "code",
   "execution_count": 50,
   "id": "10f76310",
   "metadata": {},
   "outputs": [],
   "source": [
    "# Initialize the three lists\n",
    "year1_sales = [12000, 13500, 11000, 9800, 15000, 12300, 13700, 11150, 9750, 14850, 13000, 15500] \n",
    "year2_sales = [12500, 13000, 11200, 9900, 15200, 12600, 14200, 11350, 9950, 15000, 13500, 16000] \n",
    "year3_sales = [12300, 13700, 11150, 9750, 14850, 12800, 13900, 11000, 9600, 14500, 12750, 14200]\n",
    "\n",
    "# Convert the lists to numpy arrays\n",
    "year1_sales = np.array([12000, 13500, 11000, 9800, 15000, 12300, 13700, 11150, 9750, 14850, 13000, 15500]) \n",
    "year2_sales = np.array([12500, 13000, 11200, 9900, 15200, 12600, 14200, 11350, 9950, 15000, 13500, 16000]) \n",
    "year3_sales = np.array([12300, 13700, 11150, 9750, 14850, 12800, 13900, 11000, 9600, 14500, 12750, 14200])"
   ]
  },
  {
   "cell_type": "markdown",
   "id": "a54c2c4f",
   "metadata": {},
   "source": [
    "a) Create a Python script that imports NumPy (you need not re-import NumPy though if you completed Question 1), sets up a suitable array (or arrays), and calculates the monthly sales forecast for the upcoming year using the historical data."
   ]
  },
  {
   "cell_type": "code",
   "execution_count": 72,
   "id": "5aac3f86",
   "metadata": {},
   "outputs": [
    {
     "name": "stdout",
     "output_type": "stream",
     "text": [
      "Upcoming Sales Forecast :\n",
      "\n",
      "[12266.666666666666, 13400.0, 11116.666666666666, 9816.666666666666, 15016.666666666666, 12566.666666666666, 13933.333333333334, 11166.666666666666, 9766.666666666666, 14783.333333333334, 13083.333333333334, 15233.333333333334]\n"
     ]
    }
   ],
   "source": [
    "def get_sales_forecast():\n",
    "    # Create a list for the monthly sales forecast\n",
    "    upcoming_sales = []\n",
    "\n",
    "    # Find the length of the sales data lists top loop through the three sales lists\n",
    "    len_dataset = len(year1_sales)\n",
    "    index = 0\n",
    "\n",
    "    while index < len_dataset:\n",
    "\n",
    "        # Loop through each list and pick the value for the month specified by the index value\n",
    "        monthly_val_one = year1_sales[index]\n",
    "        monthly_val_two = year2_sales[index]\n",
    "        monthly_val_three = year3_sales[index]\n",
    "\n",
    "        # Find the mean value of the 3 values for that month and add them to the upcoming_sales list\n",
    "        upcoming_val = np.mean([monthly_val_one, monthly_val_two, monthly_val_three])\n",
    "        upcoming_sales.append(upcoming_val)\n",
    "\n",
    "        index+=1\n",
    "    \n",
    "    # Return the list of forecast sales\n",
    "    return upcoming_sales\n",
    "\n",
    "# Load the forecast sales into a list\n",
    "forecast_sales = get_sales_forecast()\n",
    "\n",
    "# Print the results\n",
    "print(\"Upcoming Sales Forecast :\\n\")\n",
    "print(forecast_sales)"
   ]
  },
  {
   "cell_type": "markdown",
   "id": "8b29542c",
   "metadata": {},
   "source": [
    "b) Consider that external factors such as discounts and promotions can significantly affect sales. Write Python code to adjust the monthly sales forecast based on a list of percentage changes for each month due to expected promotions.\n",
    "\n",
    "List of percentage changes for each month due to promotions (e.g., 10% increase in March, 7% decrease in January): \n",
    "\n",
    "promotion_percentages = [-0.07, 0.0, 0.10, 0.0, 0.0, -0.05, 0.0, 0.0, 0.08, 0.0, 0.0, 0.15]"
   ]
  },
  {
   "cell_type": "code",
   "execution_count": 80,
   "id": "35d4d436",
   "metadata": {},
   "outputs": [
    {
     "name": "stdout",
     "output_type": "stream",
     "text": [
      "Updated upcoming sales with percentage changes for each month due to promotions applied : \n",
      "\n",
      "[11408.0, 13400.0, 12228.333333333332, 9816.666666666666, 15016.666666666666, 11938.333333333332, 13933.333333333334, 11166.666666666666, 10548.0, 14783.333333333334, 13083.333333333334, 17518.333333333336]\n"
     ]
    }
   ],
   "source": [
    "# Create a list for the precentage changes and convert to a numpy array\n",
    "promotion_percentages = [-0.07, 0.0, 0.10, 0.0, 0.0, -0.05, 0.0, 0.0, 0.08, 0.0, 0.0, 0.15]\n",
    "promotion_percentages = np.array(promotion_percentages)\n",
    "\n",
    "# Get the list of forecast sales\n",
    "forecast_sales = get_sales_forecast()\n",
    "\n",
    "# Get the length of the forecast sales list\n",
    "len_forecast_dataset = len(forecast_sales)\n",
    "\n",
    "# Create a list for the updated monthly sales forecast\n",
    "updated_upcoming_sales = []\n",
    "index = 0\n",
    "    \n",
    "#Loop through the forecast sales and get the updated sales value\n",
    "while index < len_forecast_dataset:\n",
    "\n",
    "    # Get the new value after percentage change is applied\n",
    "    forecast_change = promotion_percentages[index] * forecast_sales[index]\n",
    "\n",
    "    # Calculate the change in the forecast\n",
    "    updated_forecast = forecast_sales[index] + forecast_change\n",
    "    updated_upcoming_sales.append(updated_forecast)\n",
    "    \n",
    "    index+=1\n",
    "\n",
    "# Print the list of updated forecast sales\n",
    "print(\"Updated upcoming sales with percentage changes for each month due to promotions applied : \\n\")\n",
    "print(updated_upcoming_sales)"
   ]
  },
  {
   "cell_type": "markdown",
   "id": "9cb2c5a3",
   "metadata": {},
   "source": [
    "### Section 2: Matplotlib"
   ]
  },
  {
   "cell_type": "markdown",
   "id": "bf845edb",
   "metadata": {},
   "source": [
    "#### Question 3: Basic matplotlib plot [15 Pts]"
   ]
  },
  {
   "cell_type": "markdown",
   "id": "538196cf",
   "metadata": {},
   "source": [
    "Scenario: Imagine you are analyzing the monthly sales data of a small business. You have a list of months and corresponding sales values. Your task is to create a basic line plot using matplotlib.\n",
    "\n",
    "months = [Jan, Feb, Mar, Apr, May]\n",
    "\n",
    "sales = [10000, 12000, 9000, 11000, 13000]"
   ]
  },
  {
   "cell_type": "code",
   "execution_count": 113,
   "id": "e0418fc1",
   "metadata": {},
   "outputs": [],
   "source": [
    "# Import the matplotlib library\n",
    "import matplotlib.pyplot as plt\n",
    "import matplotlib.dates as mdates"
   ]
  },
  {
   "cell_type": "code",
   "execution_count": 85,
   "id": "8e03921f",
   "metadata": {},
   "outputs": [
    {
     "data": {
      "image/png": "[encoded data removed]",
      "text/plain": [
       "<Figure size 640x480 with 1 Axes>"
      ]
     },
     "metadata": {},
     "output_type": "display_data"
    }
   ],
   "source": [
    "# Initialize the data lists\n",
    "months = [\"Jan\", \"Feb\", \"Mar\", \"Apr\", \"May\"]\n",
    "sales = [10000, 12000, 9000, 11000, 13000]\n",
    "\n",
    "plt.title(\"Sales by Month\")\n",
    "plt.xlabel(\"Month\")\n",
    "plt.ylabel(\"Sales\")\n",
    "plt.plot(months, sales)\n",
    "plt.show()"
   ]
  },
  {
   "cell_type": "markdown",
   "id": "fad05cfb",
   "metadata": {},
   "source": [
    "b) Modify the script to change the line style to a dashed line.\n",
    "\n",
    "c) Change the line color to blue.\n",
    "\n",
    "d) Add a legend with the label \"Sales\" to the plot.\n",
    "\n",
    "e) Add a markdown cell to explain the patterns or trends in the data, if any."
   ]
  },
  {
   "cell_type": "code",
   "execution_count": 87,
   "id": "ed423c44",
   "metadata": {},
   "outputs": [
    {
     "data": {
      "image/png": "[encoded data removed]",
      "text/plain": [
       "<Figure size 640x480 with 1 Axes>"
      ]
     },
     "metadata": {},
     "output_type": "display_data"
    }
   ],
   "source": [
    "plt.title(\"Sales by Month\")\n",
    "plt.xlabel(\"Month\")\n",
    "plt.ylabel(\"Sales\")\n",
    "plt.plot(months, sales, linestyle = 'dashed', color = 'blue', label = \"Sales\")\n",
    "plt.legend()\n",
    "plt.show()"
   ]
  },
  {
   "cell_type": "markdown",
   "id": "30c9d8ad",
   "metadata": {},
   "source": [
    "e) Add a markdown cell to explain the patterns or trends in the data, if any."
   ]
  },
  {
   "cell_type": "markdown",
   "id": "8f7bc471",
   "metadata": {},
   "source": [
    "There is a slight increase in sales between January and February from 10,000 to 12,000. This is followed by a sharp decrease in sales between February to March, from 12,000 to 9000. After March, there is a sharp incease in sales from 9,000 to 13,000"
   ]
  },
  {
   "cell_type": "markdown",
   "id": "532a257e",
   "metadata": {},
   "source": [
    "#### Question 4: Enhancing the Sales Plot [15 Pts]"
   ]
  },
  {
   "cell_type": "markdown",
   "id": "cffd5d64",
   "metadata": {},
   "source": [
    "a) Modify the script from Question 3 to include the following:\n",
    " - Plot the sales data using a red solid line.\n",
    " - Add markers to data points.\n",
    " - Include grid lines in the plot."
   ]
  },
  {
   "cell_type": "code",
   "execution_count": 93,
   "id": "0a16f20b",
   "metadata": {},
   "outputs": [
    {
     "data": {
      "image/png": "[encoded data removed]",
      "text/plain": [
       "<Figure size 640x480 with 1 Axes>"
      ]
     },
     "metadata": {},
     "output_type": "display_data"
    }
   ],
   "source": [
    "plt.title(\"Sales by Month\")\n",
    "plt.xlabel(\"Month\")\n",
    "plt.ylabel(\"Sales\")\n",
    "plt.plot(months, sales, color = 'red', label = \"Sales\", marker='.', markerfacecolor='blue', markersize = '12')\n",
    "plt.legend()\n",
    "plt.grid()\n",
    "plt.show()"
   ]
  },
  {
   "cell_type": "markdown",
   "id": "a6b647b5",
   "metadata": {},
   "source": [
    "b) Imagine you are presenting this sales data to your company's management. Write Python code to add a label to the highest data point on the plot, indicating the maximum sales value. Use plt.annotate() to label the highest data point with the maximum sales value on your sales data plot.)"
   ]
  },
  {
   "cell_type": "code",
   "execution_count": 102,
   "id": "9a143ec2",
   "metadata": {},
   "outputs": [
    {
     "data": {
      "image/png": "[encoded data removed]",
      "text/plain": [
       "<Figure size 640x480 with 1 Axes>"
      ]
     },
     "metadata": {},
     "output_type": "display_data"
    }
   ],
   "source": [
    "plt.title(\"Sales by Month\")\n",
    "plt.xlabel(\"Month\")\n",
    "plt.ylabel(\"Sales\")\n",
    "plt.plot(months, sales, color = 'red', label = \"Sales\", marker='.', markerfacecolor='blue', markersize = '12')\n",
    "#Get the maximum x and y values\n",
    "ymax = max(sales)\n",
    "ymax_index = sales.index(ymax)\n",
    "xmax = months[ymax_index]\n",
    "plt.annotate('Maximum Sale', xy = (xmax, ymax))\n",
    "plt.legend()\n",
    "plt.grid()\n",
    "plt.show()"
   ]
  },
  {
   "cell_type": "markdown",
   "id": "2c356058",
   "metadata": {},
   "source": [
    "c) Add markdown cells to briefly explain how adding markers to data points in the plot can help them understand and make decisions based on the sales trends."
   ]
  },
  {
   "cell_type": "markdown",
   "id": "80c3845e",
   "metadata": {},
   "source": [
    "Adding markers to datapoints help stakeholders identify the exact point at which an event occured by drawing attention to that point. This can also be helpful in cases where two events occur along a straight line, for example in the case of our graph above for sales in March, April and May"
   ]
  },
  {
   "cell_type": "markdown",
   "id": "b0ef1c11",
   "metadata": {},
   "source": [
    "d) You are preparing a report for a client, and you've used grid lines in your sales plot. Write Python code to make the grid lines dash instead of solid."
   ]
  },
  {
   "cell_type": "code",
   "execution_count": 105,
   "id": "c22490f7",
   "metadata": {},
   "outputs": [
    {
     "data": {
      "image/png": "[encoded data removed]",
      "text/plain": [
       "<Figure size 640x480 with 1 Axes>"
      ]
     },
     "metadata": {},
     "output_type": "display_data"
    }
   ],
   "source": [
    "plt.title(\"Sales by Month\")\n",
    "plt.xlabel(\"Month\")\n",
    "plt.ylabel(\"Sales\")\n",
    "plt.plot(months, sales, color = 'red', label = \"Sales\", marker='.', markerfacecolor='blue', markersize = '12')\n",
    "#Get the maximum x and y values\n",
    "ymax = max(sales)\n",
    "ymax_index = sales.index(ymax)\n",
    "xmax = months[ymax_index]\n",
    "plt.annotate('Maximum Sale', xy = (xmax, ymax))\n",
    "plt.legend()\n",
    "plt.grid(linestyle = '--')\n",
    "plt.show()"
   ]
  },
  {
   "cell_type": "markdown",
   "id": "7c136c6f",
   "metadata": {},
   "source": [
    "e) Add a markdown cell to describe how the inclusion of grid lines aids in presenting data accurately and facilitating a better understanding of the sales performance."
   ]
  },
  {
   "cell_type": "markdown",
   "id": "63558f21",
   "metadata": {},
   "source": [
    "Adding grid lines aids in marking the boundaries within which data occurs on the x axis, y axis or both. This allows the user to quickly and visually align the points where a value occuers, especially in cases where a value is too far from the axis. The visual alignment of data aids in faster intepretation and understanding of the data"
   ]
  },
  {
   "cell_type": "markdown",
   "id": "d6a53bf3",
   "metadata": {},
   "source": [
    "#### Question 5: Plotting Monthly Sales with Trends [15 Pts]"
   ]
  },
  {
   "cell_type": "markdown",
   "id": "b077c56c",
   "metadata": {},
   "source": [
    "a) Modify the script from Question 4 to include the following:\n",
    " - Plot the sales data using a solid green line.\n",
    " - Add a trendline (a linear regression line) to represent the overall sales trend.\n",
    " - Add labels for the trendline and data points."
   ]
  },
  {
   "cell_type": "code",
   "execution_count": 117,
   "id": "0cc8dbf8",
   "metadata": {},
   "outputs": [
    {
     "ename": "UFuncTypeError",
     "evalue": "ufunc 'add' did not contain a loop with signature matching types (dtype('<U3'), dtype('float64')) -> None",
     "output_type": "error",
     "traceback": [
      "\u001b[1;31m---------------------------------------------------------------------------\u001b[0m",
      "\u001b[1;31mUFuncTypeError\u001b[0m                            Traceback (most recent call last)",
      "Cell \u001b[1;32mIn[117], line 2\u001b[0m\n\u001b[0;32m      1\u001b[0m \u001b[38;5;66;03m# Get the slope m and intercept b of the linear regression line\u001b[39;00m\n\u001b[1;32m----> 2\u001b[0m m, b \u001b[38;5;241m=\u001b[39m np\u001b[38;5;241m.\u001b[39mpolyfit(months, sales, \u001b[38;5;241m1\u001b[39m)\n",
      "File \u001b[1;32m<__array_function__ internals>:200\u001b[0m, in \u001b[0;36mpolyfit\u001b[1;34m(*args, **kwargs)\u001b[0m\n",
      "File \u001b[1;32m~\\anaconda3\\Lib\\site-packages\\numpy\\lib\\polynomial.py:629\u001b[0m, in \u001b[0;36mpolyfit\u001b[1;34m(x, y, deg, rcond, full, w, cov)\u001b[0m\n\u001b[0;32m    454\u001b[0m \u001b[38;5;250m\u001b[39m\u001b[38;5;124;03m\"\"\"\u001b[39;00m\n\u001b[0;32m    455\u001b[0m \u001b[38;5;124;03mLeast squares polynomial fit.\u001b[39;00m\n\u001b[0;32m    456\u001b[0m \n\u001b[1;32m   (...)\u001b[0m\n\u001b[0;32m    626\u001b[0m \n\u001b[0;32m    627\u001b[0m \u001b[38;5;124;03m\"\"\"\u001b[39;00m\n\u001b[0;32m    628\u001b[0m order \u001b[38;5;241m=\u001b[39m \u001b[38;5;28mint\u001b[39m(deg) \u001b[38;5;241m+\u001b[39m \u001b[38;5;241m1\u001b[39m\n\u001b[1;32m--> 629\u001b[0m x \u001b[38;5;241m=\u001b[39m NX\u001b[38;5;241m.\u001b[39masarray(x) \u001b[38;5;241m+\u001b[39m \u001b[38;5;241m0.0\u001b[39m\n\u001b[0;32m    630\u001b[0m y \u001b[38;5;241m=\u001b[39m NX\u001b[38;5;241m.\u001b[39masarray(y) \u001b[38;5;241m+\u001b[39m \u001b[38;5;241m0.0\u001b[39m\n\u001b[0;32m    632\u001b[0m \u001b[38;5;66;03m# check arguments.\u001b[39;00m\n",
      "\u001b[1;31mUFuncTypeError\u001b[0m: ufunc 'add' did not contain a loop with signature matching types (dtype('<U3'), dtype('float64')) -> None"
     ]
    }
   ],
   "source": [
    "# Get the slope m and intercept b of the linear regression line\n",
    "m, b = np.polyfit(months, sales, 1)"
   ]
  },
  {
   "cell_type": "code",
   "execution_count": 119,
   "id": "6da80c6a",
   "metadata": {},
   "outputs": [
    {
     "data": {
      "image/png": "[encoded data removed]",
      "text/plain": [
       "<Figure size 640x480 with 1 Axes>"
      ]
     },
     "metadata": {},
     "output_type": "display_data"
    }
   ],
   "source": [
    "plt.title(\"Sales by Month\")\n",
    "plt.xlabel(\"Month\")\n",
    "plt.ylabel(\"Sales\")\n",
    "plt.plot(months, sales, color = 'green', label = \"Sales\", marker='.', markerfacecolor='blue', markersize = '12')\n",
    "#Get the maximum x and y values\n",
    "ymax = max(sales)\n",
    "ymax_index = sales.index(ymax)\n",
    "xmax = months[ymax_index]\n",
    "\n",
    "plt.annotate('Maximum Sale', xy = (xmax, ymax))\n",
    "plt.legend()\n",
    "plt.grid(linestyle = '--')\n",
    "plt.show()"
   ]
  },
  {
   "cell_type": "markdown",
   "id": "617cbed2",
   "metadata": {},
   "source": [
    "### Section 3: Pandas"
   ]
  },
  {
   "cell_type": "markdown",
   "id": "b1dadc92",
   "metadata": {},
   "source": [
    "Import pandas library"
   ]
  },
  {
   "cell_type": "code",
   "execution_count": 120,
   "id": "30eec443",
   "metadata": {},
   "outputs": [],
   "source": [
    "import pandas as pd"
   ]
  },
  {
   "cell_type": "markdown",
   "id": "e134d028",
   "metadata": {},
   "source": [
    "#### Question 6: Load, Inspect, and Clean Data [20 Pts]"
   ]
  },
  {
   "cell_type": "markdown",
   "id": "615fe67b",
   "metadata": {},
   "source": [
    "**a) Load and inspect data**"
   ]
  },
  {
   "cell_type": "markdown",
   "id": "357969a8",
   "metadata": {},
   "source": [
    "Load the dataset using pandas"
   ]
  },
  {
   "cell_type": "code",
   "execution_count": 122,
   "id": "11ce9a75",
   "metadata": {},
   "outputs": [],
   "source": [
    "crime_stats = pd.read_csv('SouthAfricaCrimeStats_v2.csv')"
   ]
  },
  {
   "cell_type": "markdown",
   "id": "b2a08508",
   "metadata": {},
   "source": [
    "Display the first 5 rows"
   ]
  },
  {
   "cell_type": "code",
   "execution_count": 128,
   "id": "45c1afc2",
   "metadata": {},
   "outputs": [
    {
     "data": {
      "text/html": [
       "<div>\n",
       "<style scoped>\n",
       "    .dataframe tbody tr th:only-of-type {\n",
       "        vertical-align: middle;\n",
       "    }\n",
       "\n",
       "    .dataframe tbody tr th {\n",
       "        vertical-align: top;\n",
       "    }\n",
       "\n",
       "    .dataframe thead th {\n",
       "        text-align: right;\n",
       "    }\n",
       "</style>\n",
       "<table border=\"1\" class=\"dataframe\">\n",
       "  <thead>\n",
       "    <tr style=\"text-align: right;\">\n",
       "      <th></th>\n",
       "      <th>Province</th>\n",
       "      <th>Station</th>\n",
       "      <th>Category</th>\n",
       "      <th>2005-2006</th>\n",
       "      <th>2006-2007</th>\n",
       "      <th>2007-2008</th>\n",
       "      <th>2008-2009</th>\n",
       "      <th>2009-2010</th>\n",
       "      <th>2010-2011</th>\n",
       "      <th>2011-2012</th>\n",
       "      <th>2012-2013</th>\n",
       "      <th>2013-2014</th>\n",
       "      <th>2014-2015</th>\n",
       "      <th>2015-2016</th>\n",
       "    </tr>\n",
       "  </thead>\n",
       "  <tbody>\n",
       "    <tr>\n",
       "      <th>0</th>\n",
       "      <td>Western Cape</td>\n",
       "      <td>Cape Town Central</td>\n",
       "      <td>All theft not mentioned elsewhere</td>\n",
       "      <td>6692</td>\n",
       "      <td>6341</td>\n",
       "      <td>5966</td>\n",
       "      <td>5187</td>\n",
       "      <td>4985</td>\n",
       "      <td>5127</td>\n",
       "      <td>5285</td>\n",
       "      <td>5937</td>\n",
       "      <td>5600</td>\n",
       "      <td>5335</td>\n",
       "      <td>5176</td>\n",
       "    </tr>\n",
       "    <tr>\n",
       "      <th>1</th>\n",
       "      <td>Gauteng</td>\n",
       "      <td>Jhb Central</td>\n",
       "      <td>All theft not mentioned elsewhere</td>\n",
       "      <td>6093</td>\n",
       "      <td>4602</td>\n",
       "      <td>3761</td>\n",
       "      <td>3610</td>\n",
       "      <td>3267</td>\n",
       "      <td>3037</td>\n",
       "      <td>2886</td>\n",
       "      <td>2638</td>\n",
       "      <td>2809</td>\n",
       "      <td>3050</td>\n",
       "      <td>2434</td>\n",
       "    </tr>\n",
       "    <tr>\n",
       "      <th>2</th>\n",
       "      <td>Western Cape</td>\n",
       "      <td>Mitchells Plain</td>\n",
       "      <td>All theft not mentioned elsewhere</td>\n",
       "      <td>5341</td>\n",
       "      <td>6093</td>\n",
       "      <td>6316</td>\n",
       "      <td>6803</td>\n",
       "      <td>6035</td>\n",
       "      <td>5761</td>\n",
       "      <td>6108</td>\n",
       "      <td>5514</td>\n",
       "      <td>4975</td>\n",
       "      <td>4043</td>\n",
       "      <td>3635</td>\n",
       "    </tr>\n",
       "    <tr>\n",
       "      <th>3</th>\n",
       "      <td>Free State</td>\n",
       "      <td>Park Road</td>\n",
       "      <td>All theft not mentioned elsewhere</td>\n",
       "      <td>5108</td>\n",
       "      <td>4282</td>\n",
       "      <td>3834</td>\n",
       "      <td>3316</td>\n",
       "      <td>3101</td>\n",
       "      <td>3013</td>\n",
       "      <td>2679</td>\n",
       "      <td>3116</td>\n",
       "      <td>2927</td>\n",
       "      <td>2297</td>\n",
       "      <td>2103</td>\n",
       "    </tr>\n",
       "    <tr>\n",
       "      <th>4</th>\n",
       "      <td>Gauteng</td>\n",
       "      <td>Pretoria Central</td>\n",
       "      <td>All theft not mentioned elsewhere</td>\n",
       "      <td>5099</td>\n",
       "      <td>4536</td>\n",
       "      <td>3309</td>\n",
       "      <td>2694</td>\n",
       "      <td>2616</td>\n",
       "      <td>2606</td>\n",
       "      <td>2635</td>\n",
       "      <td>3226</td>\n",
       "      <td>3246</td>\n",
       "      <td>2892</td>\n",
       "      <td>3030</td>\n",
       "    </tr>\n",
       "  </tbody>\n",
       "</table>\n",
       "</div>"
      ],
      "text/plain": [
       "       Province            Station                           Category  \\\n",
       "0  Western Cape  Cape Town Central  All theft not mentioned elsewhere   \n",
       "1       Gauteng        Jhb Central  All theft not mentioned elsewhere   \n",
       "2  Western Cape    Mitchells Plain  All theft not mentioned elsewhere   \n",
       "3    Free State          Park Road  All theft not mentioned elsewhere   \n",
       "4       Gauteng   Pretoria Central  All theft not mentioned elsewhere   \n",
       "\n",
       "   2005-2006  2006-2007  2007-2008  2008-2009  2009-2010  2010-2011  \\\n",
       "0       6692       6341       5966       5187       4985       5127   \n",
       "1       6093       4602       3761       3610       3267       3037   \n",
       "2       5341       6093       6316       6803       6035       5761   \n",
       "3       5108       4282       3834       3316       3101       3013   \n",
       "4       5099       4536       3309       2694       2616       2606   \n",
       "\n",
       "   2011-2012  2012-2013  2013-2014  2014-2015  2015-2016  \n",
       "0       5285       5937       5600       5335       5176  \n",
       "1       2886       2638       2809       3050       2434  \n",
       "2       6108       5514       4975       4043       3635  \n",
       "3       2679       3116       2927       2297       2103  \n",
       "4       2635       3226       3246       2892       3030  "
      ]
     },
     "execution_count": 128,
     "metadata": {},
     "output_type": "execute_result"
    }
   ],
   "source": [
    "crime_stats.head()"
   ]
  },
  {
   "cell_type": "markdown",
   "id": "c9ca4f6f",
   "metadata": {},
   "source": [
    "Provide the basic information about the dataset (number of rows, columns, data types)"
   ]
  },
  {
   "cell_type": "code",
   "execution_count": 125,
   "id": "04e32638",
   "metadata": {},
   "outputs": [
    {
     "name": "stdout",
     "output_type": "stream",
     "text": [
      "<class 'pandas.core.frame.DataFrame'>\n",
      "RangeIndex: 30861 entries, 0 to 30860\n",
      "Data columns (total 14 columns):\n",
      " #   Column     Non-Null Count  Dtype \n",
      "---  ------     --------------  ----- \n",
      " 0   Province   30861 non-null  object\n",
      " 1   Station    30861 non-null  object\n",
      " 2   Category   30861 non-null  object\n",
      " 3   2005-2006  30861 non-null  int64 \n",
      " 4   2006-2007  30861 non-null  int64 \n",
      " 5   2007-2008  30861 non-null  int64 \n",
      " 6   2008-2009  30861 non-null  int64 \n",
      " 7   2009-2010  30861 non-null  int64 \n",
      " 8   2010-2011  30861 non-null  int64 \n",
      " 9   2011-2012  30861 non-null  int64 \n",
      " 10  2012-2013  30861 non-null  int64 \n",
      " 11  2013-2014  30861 non-null  int64 \n",
      " 12  2014-2015  30861 non-null  int64 \n",
      " 13  2015-2016  30861 non-null  int64 \n",
      "dtypes: int64(11), object(3)\n",
      "memory usage: 3.3+ MB\n"
     ]
    }
   ],
   "source": [
    "crime_stats.info()"
   ]
  },
  {
   "cell_type": "markdown",
   "id": "b78423e9",
   "metadata": {},
   "source": [
    "Identify and print the summary statistics (mean, median, min, max, etc.) for numerical columns."
   ]
  },
  {
   "cell_type": "code",
   "execution_count": 129,
   "id": "d47df3f6",
   "metadata": {},
   "outputs": [
    {
     "data": {
      "text/html": [
       "<div>\n",
       "<style scoped>\n",
       "    .dataframe tbody tr th:only-of-type {\n",
       "        vertical-align: middle;\n",
       "    }\n",
       "\n",
       "    .dataframe tbody tr th {\n",
       "        vertical-align: top;\n",
       "    }\n",
       "\n",
       "    .dataframe thead th {\n",
       "        text-align: right;\n",
       "    }\n",
       "</style>\n",
       "<table border=\"1\" class=\"dataframe\">\n",
       "  <thead>\n",
       "    <tr style=\"text-align: right;\">\n",
       "      <th></th>\n",
       "      <th>2005-2006</th>\n",
       "      <th>2006-2007</th>\n",
       "      <th>2007-2008</th>\n",
       "      <th>2008-2009</th>\n",
       "      <th>2009-2010</th>\n",
       "      <th>2010-2011</th>\n",
       "      <th>2011-2012</th>\n",
       "      <th>2012-2013</th>\n",
       "      <th>2013-2014</th>\n",
       "      <th>2014-2015</th>\n",
       "      <th>2015-2016</th>\n",
       "    </tr>\n",
       "  </thead>\n",
       "  <tbody>\n",
       "    <tr>\n",
       "      <th>count</th>\n",
       "      <td>30861.000000</td>\n",
       "      <td>30861.000000</td>\n",
       "      <td>30861.000000</td>\n",
       "      <td>30861.000000</td>\n",
       "      <td>30861.000000</td>\n",
       "      <td>30861.000000</td>\n",
       "      <td>30861.000000</td>\n",
       "      <td>30861.000000</td>\n",
       "      <td>30861.000000</td>\n",
       "      <td>30861.000000</td>\n",
       "      <td>30861.000000</td>\n",
       "    </tr>\n",
       "    <tr>\n",
       "      <th>mean</th>\n",
       "      <td>70.527753</td>\n",
       "      <td>69.301610</td>\n",
       "      <td>67.154305</td>\n",
       "      <td>68.756165</td>\n",
       "      <td>69.517773</td>\n",
       "      <td>67.766696</td>\n",
       "      <td>68.259616</td>\n",
       "      <td>69.700658</td>\n",
       "      <td>71.416999</td>\n",
       "      <td>71.498202</td>\n",
       "      <td>70.736496</td>\n",
       "    </tr>\n",
       "    <tr>\n",
       "      <th>std</th>\n",
       "      <td>205.491698</td>\n",
       "      <td>198.037635</td>\n",
       "      <td>186.760510</td>\n",
       "      <td>187.173860</td>\n",
       "      <td>185.514638</td>\n",
       "      <td>181.865878</td>\n",
       "      <td>183.334468</td>\n",
       "      <td>184.812420</td>\n",
       "      <td>187.635207</td>\n",
       "      <td>185.019046</td>\n",
       "      <td>179.363964</td>\n",
       "    </tr>\n",
       "    <tr>\n",
       "      <th>min</th>\n",
       "      <td>0.000000</td>\n",
       "      <td>0.000000</td>\n",
       "      <td>0.000000</td>\n",
       "      <td>0.000000</td>\n",
       "      <td>0.000000</td>\n",
       "      <td>0.000000</td>\n",
       "      <td>0.000000</td>\n",
       "      <td>0.000000</td>\n",
       "      <td>0.000000</td>\n",
       "      <td>0.000000</td>\n",
       "      <td>0.000000</td>\n",
       "    </tr>\n",
       "    <tr>\n",
       "      <th>25%</th>\n",
       "      <td>0.000000</td>\n",
       "      <td>0.000000</td>\n",
       "      <td>0.000000</td>\n",
       "      <td>0.000000</td>\n",
       "      <td>1.000000</td>\n",
       "      <td>0.000000</td>\n",
       "      <td>1.000000</td>\n",
       "      <td>1.000000</td>\n",
       "      <td>1.000000</td>\n",
       "      <td>1.000000</td>\n",
       "      <td>1.000000</td>\n",
       "    </tr>\n",
       "    <tr>\n",
       "      <th>50%</th>\n",
       "      <td>8.000000</td>\n",
       "      <td>8.000000</td>\n",
       "      <td>8.000000</td>\n",
       "      <td>9.000000</td>\n",
       "      <td>9.000000</td>\n",
       "      <td>9.000000</td>\n",
       "      <td>10.000000</td>\n",
       "      <td>10.000000</td>\n",
       "      <td>11.000000</td>\n",
       "      <td>11.000000</td>\n",
       "      <td>11.000000</td>\n",
       "    </tr>\n",
       "    <tr>\n",
       "      <th>75%</th>\n",
       "      <td>49.000000</td>\n",
       "      <td>50.000000</td>\n",
       "      <td>50.000000</td>\n",
       "      <td>52.000000</td>\n",
       "      <td>54.000000</td>\n",
       "      <td>52.000000</td>\n",
       "      <td>53.000000</td>\n",
       "      <td>55.000000</td>\n",
       "      <td>56.000000</td>\n",
       "      <td>57.000000</td>\n",
       "      <td>58.000000</td>\n",
       "    </tr>\n",
       "    <tr>\n",
       "      <th>max</th>\n",
       "      <td>6692.000000</td>\n",
       "      <td>6341.000000</td>\n",
       "      <td>6316.000000</td>\n",
       "      <td>6803.000000</td>\n",
       "      <td>6571.000000</td>\n",
       "      <td>6260.000000</td>\n",
       "      <td>6108.000000</td>\n",
       "      <td>6310.000000</td>\n",
       "      <td>6044.000000</td>\n",
       "      <td>5335.000000</td>\n",
       "      <td>5176.000000</td>\n",
       "    </tr>\n",
       "  </tbody>\n",
       "</table>\n",
       "</div>"
      ],
      "text/plain": [
       "          2005-2006     2006-2007     2007-2008     2008-2009     2009-2010  \\\n",
       "count  30861.000000  30861.000000  30861.000000  30861.000000  30861.000000   \n",
       "mean      70.527753     69.301610     67.154305     68.756165     69.517773   \n",
       "std      205.491698    198.037635    186.760510    187.173860    185.514638   \n",
       "min        0.000000      0.000000      0.000000      0.000000      0.000000   \n",
       "25%        0.000000      0.000000      0.000000      0.000000      1.000000   \n",
       "50%        8.000000      8.000000      8.000000      9.000000      9.000000   \n",
       "75%       49.000000     50.000000     50.000000     52.000000     54.000000   \n",
       "max     6692.000000   6341.000000   6316.000000   6803.000000   6571.000000   \n",
       "\n",
       "          2010-2011     2011-2012     2012-2013     2013-2014     2014-2015  \\\n",
       "count  30861.000000  30861.000000  30861.000000  30861.000000  30861.000000   \n",
       "mean      67.766696     68.259616     69.700658     71.416999     71.498202   \n",
       "std      181.865878    183.334468    184.812420    187.635207    185.019046   \n",
       "min        0.000000      0.000000      0.000000      0.000000      0.000000   \n",
       "25%        0.000000      1.000000      1.000000      1.000000      1.000000   \n",
       "50%        9.000000     10.000000     10.000000     11.000000     11.000000   \n",
       "75%       52.000000     53.000000     55.000000     56.000000     57.000000   \n",
       "max     6260.000000   6108.000000   6310.000000   6044.000000   5335.000000   \n",
       "\n",
       "          2015-2016  \n",
       "count  30861.000000  \n",
       "mean      70.736496  \n",
       "std      179.363964  \n",
       "min        0.000000  \n",
       "25%        1.000000  \n",
       "50%       11.000000  \n",
       "75%       58.000000  \n",
       "max     5176.000000  "
      ]
     },
     "execution_count": 129,
     "metadata": {},
     "output_type": "execute_result"
    }
   ],
   "source": [
    "crime_stats.describe()"
   ]
  },
  {
   "cell_type": "markdown",
   "id": "f60b5d54",
   "metadata": {},
   "source": [
    "**b) Data Cleaning**"
   ]
  },
  {
   "cell_type": "markdown",
   "id": "9511db94",
   "metadata": {},
   "source": [
    "Handle missing values in the dataset if any. Use markdown cells to explain your strategy for dealing with missing data."
   ]
  },
  {
   "cell_type": "code",
   "execution_count": 146,
   "id": "0c3a4853",
   "metadata": {},
   "outputs": [
    {
     "name": "stdout",
     "output_type": "stream",
     "text": [
      "Dataset missing values : False\n"
     ]
    }
   ],
   "source": [
    "has_missing_values = crime_stats.isnull().values.any()\n",
    "print(f\"Dataset missing values : {has_missing_values}\")"
   ]
  },
  {
   "cell_type": "markdown",
   "id": "27961b80",
   "metadata": {},
   "source": [
    "If the dataset had missing data, I would replace the missing values with 0 using the formula below:\n",
    "\n",
    "crime_stats.fillna(0)"
   ]
  },
  {
   "cell_type": "markdown",
   "id": "9d6a55fa",
   "metadata": {},
   "source": [
    "Check for and remove any duplicate rows if there are."
   ]
  },
  {
   "cell_type": "code",
   "execution_count": 147,
   "id": "aca9aaa3",
   "metadata": {},
   "outputs": [
    {
     "data": {
      "text/html": [
       "<div>\n",
       "<style scoped>\n",
       "    .dataframe tbody tr th:only-of-type {\n",
       "        vertical-align: middle;\n",
       "    }\n",
       "\n",
       "    .dataframe tbody tr th {\n",
       "        vertical-align: top;\n",
       "    }\n",
       "\n",
       "    .dataframe thead th {\n",
       "        text-align: right;\n",
       "    }\n",
       "</style>\n",
       "<table border=\"1\" class=\"dataframe\">\n",
       "  <thead>\n",
       "    <tr style=\"text-align: right;\">\n",
       "      <th></th>\n",
       "      <th>Province</th>\n",
       "      <th>Station</th>\n",
       "      <th>Category</th>\n",
       "      <th>2005-2006</th>\n",
       "      <th>2006-2007</th>\n",
       "      <th>2007-2008</th>\n",
       "      <th>2008-2009</th>\n",
       "      <th>2009-2010</th>\n",
       "      <th>2010-2011</th>\n",
       "      <th>2011-2012</th>\n",
       "      <th>2012-2013</th>\n",
       "      <th>2013-2014</th>\n",
       "      <th>2014-2015</th>\n",
       "      <th>2015-2016</th>\n",
       "    </tr>\n",
       "  </thead>\n",
       "  <tbody>\n",
       "  </tbody>\n",
       "</table>\n",
       "</div>"
      ],
      "text/plain": [
       "Empty DataFrame\n",
       "Columns: [Province, Station, Category, 2005-2006, 2006-2007, 2007-2008, 2008-2009, 2009-2010, 2010-2011, 2011-2012, 2012-2013, 2013-2014, 2014-2015, 2015-2016]\n",
       "Index: []"
      ]
     },
     "execution_count": 147,
     "metadata": {},
     "output_type": "execute_result"
    }
   ],
   "source": [
    "has_duplicate_values = crime_stats.loc[crime_stats.duplicated()]\n",
    "has_duplicate_values"
   ]
  },
  {
   "cell_type": "code",
   "execution_count": 148,
   "id": "c20d5d13",
   "metadata": {},
   "outputs": [
    {
     "name": "stdout",
     "output_type": "stream",
     "text": [
      "Number of rows with missing values : 0\n"
     ]
    }
   ],
   "source": [
    "print(f\"Number of rows with missing values : {len(has_duplicate_values)}\")"
   ]
  },
  {
   "cell_type": "markdown",
   "id": "a98055d0",
   "metadata": {},
   "source": [
    "Check for any outliers (How do you check for outliers?)"
   ]
  },
  {
   "cell_type": "markdown",
   "id": "2453cac9",
   "metadata": {},
   "source": [
    "We can check for outliers by identifying values that lie outside the interquantlie range i.e., the lower range Q1 and upper range Q3. We define a function that will select these values from a dataframe below."
   ]
  },
  {
   "cell_type": "code",
   "execution_count": 209,
   "id": "b1e0f970",
   "metadata": {},
   "outputs": [],
   "source": [
    "def select_iqr_outliers(data):\n",
    "    q1 = data.quantile(0.25)\n",
    "    q3 = data.quantile(0.75)\n",
    "    iqr = q3 - q1\n",
    "    \n",
    "    outliers = data[(data<(q1-1.5*iqr)) | (data>(q3+1.5*iqr))]\n",
    "    \n",
    "    return outliers"
   ]
  },
  {
   "cell_type": "markdown",
   "id": "1b303b8e",
   "metadata": {},
   "source": [
    "Display the first 5 outliers"
   ]
  },
  {
   "cell_type": "code",
   "execution_count": 224,
   "id": "18ab17c3",
   "metadata": {
    "scrolled": false
   },
   "outputs": [
    {
     "data": {
      "text/html": [
       "<div>\n",
       "<style scoped>\n",
       "    .dataframe tbody tr th:only-of-type {\n",
       "        vertical-align: middle;\n",
       "    }\n",
       "\n",
       "    .dataframe tbody tr th {\n",
       "        vertical-align: top;\n",
       "    }\n",
       "\n",
       "    .dataframe thead th {\n",
       "        text-align: right;\n",
       "    }\n",
       "</style>\n",
       "<table border=\"1\" class=\"dataframe\">\n",
       "  <thead>\n",
       "    <tr style=\"text-align: right;\">\n",
       "      <th></th>\n",
       "      <th>2005-2006</th>\n",
       "      <th>2006-2007</th>\n",
       "      <th>2007-2008</th>\n",
       "      <th>2008-2009</th>\n",
       "      <th>2009-2010</th>\n",
       "      <th>2010-2011</th>\n",
       "      <th>2011-2012</th>\n",
       "      <th>2012-2013</th>\n",
       "      <th>2013-2014</th>\n",
       "      <th>2014-2015</th>\n",
       "      <th>2015-2016</th>\n",
       "    </tr>\n",
       "  </thead>\n",
       "  <tbody>\n",
       "    <tr>\n",
       "      <th>0</th>\n",
       "      <td>6692.0</td>\n",
       "      <td>6341.0</td>\n",
       "      <td>5966.0</td>\n",
       "      <td>5187.0</td>\n",
       "      <td>4985.0</td>\n",
       "      <td>5127.0</td>\n",
       "      <td>5285.0</td>\n",
       "      <td>5937.0</td>\n",
       "      <td>5600.0</td>\n",
       "      <td>5335.0</td>\n",
       "      <td>5176.0</td>\n",
       "    </tr>\n",
       "    <tr>\n",
       "      <th>1</th>\n",
       "      <td>6093.0</td>\n",
       "      <td>4602.0</td>\n",
       "      <td>3761.0</td>\n",
       "      <td>3610.0</td>\n",
       "      <td>3267.0</td>\n",
       "      <td>3037.0</td>\n",
       "      <td>2886.0</td>\n",
       "      <td>2638.0</td>\n",
       "      <td>2809.0</td>\n",
       "      <td>3050.0</td>\n",
       "      <td>2434.0</td>\n",
       "    </tr>\n",
       "    <tr>\n",
       "      <th>2</th>\n",
       "      <td>5341.0</td>\n",
       "      <td>6093.0</td>\n",
       "      <td>6316.0</td>\n",
       "      <td>6803.0</td>\n",
       "      <td>6035.0</td>\n",
       "      <td>5761.0</td>\n",
       "      <td>6108.0</td>\n",
       "      <td>5514.0</td>\n",
       "      <td>4975.0</td>\n",
       "      <td>4043.0</td>\n",
       "      <td>3635.0</td>\n",
       "    </tr>\n",
       "    <tr>\n",
       "      <th>3</th>\n",
       "      <td>5108.0</td>\n",
       "      <td>4282.0</td>\n",
       "      <td>3834.0</td>\n",
       "      <td>3316.0</td>\n",
       "      <td>3101.0</td>\n",
       "      <td>3013.0</td>\n",
       "      <td>2679.0</td>\n",
       "      <td>3116.0</td>\n",
       "      <td>2927.0</td>\n",
       "      <td>2297.0</td>\n",
       "      <td>2103.0</td>\n",
       "    </tr>\n",
       "    <tr>\n",
       "      <th>4</th>\n",
       "      <td>5099.0</td>\n",
       "      <td>4536.0</td>\n",
       "      <td>3309.0</td>\n",
       "      <td>2694.0</td>\n",
       "      <td>2616.0</td>\n",
       "      <td>2606.0</td>\n",
       "      <td>2635.0</td>\n",
       "      <td>3226.0</td>\n",
       "      <td>3246.0</td>\n",
       "      <td>2892.0</td>\n",
       "      <td>3030.0</td>\n",
       "    </tr>\n",
       "  </tbody>\n",
       "</table>\n",
       "</div>"
      ],
      "text/plain": [
       "   2005-2006  2006-2007  2007-2008  2008-2009  2009-2010  2010-2011  \\\n",
       "0     6692.0     6341.0     5966.0     5187.0     4985.0     5127.0   \n",
       "1     6093.0     4602.0     3761.0     3610.0     3267.0     3037.0   \n",
       "2     5341.0     6093.0     6316.0     6803.0     6035.0     5761.0   \n",
       "3     5108.0     4282.0     3834.0     3316.0     3101.0     3013.0   \n",
       "4     5099.0     4536.0     3309.0     2694.0     2616.0     2606.0   \n",
       "\n",
       "   2011-2012  2012-2013  2013-2014  2014-2015  2015-2016  \n",
       "0     5285.0     5937.0     5600.0     5335.0     5176.0  \n",
       "1     2886.0     2638.0     2809.0     3050.0     2434.0  \n",
       "2     6108.0     5514.0     4975.0     4043.0     3635.0  \n",
       "3     2679.0     3116.0     2927.0     2297.0     2103.0  \n",
       "4     2635.0     3226.0     3246.0     2892.0     3030.0  "
      ]
     },
     "execution_count": 224,
     "metadata": {},
     "output_type": "execute_result"
    }
   ],
   "source": [
    "crime_outliers = select_iqr_outliers(crime_stats[[\"2005-2006\",\"2006-2007\",\n",
    "                                                  \"2007-2008\",\"2008-2009\",\n",
    "                                                  \"2009-2010\",\"2010-2011\",\n",
    "                                                  \"2011-2012\",\"2012-2013\",\n",
    "                                                  \"2013-2014\", \"2014-2015\",\n",
    "                                                  \"2015-2016\"]])\n",
    "outlier_mask = crime_stats.isin(crime_outliers)\n",
    "crime_outlier_records = crime_stats[outlier_mask][[\"2005-2006\",\"2006-2007\",\n",
    "                                                  \"2007-2008\",\"2008-2009\",\n",
    "                                                  \"2009-2010\",\"2010-2011\",\n",
    "                                                  \"2011-2012\",\"2012-2013\",\n",
    "                                                  \"2013-2014\", \"2014-2015\",\n",
    "                                                  \"2015-2016\"]]\n",
    "crime_outlier_records.head()"
   ]
  },
  {
   "cell_type": "markdown",
   "id": "80416f3e",
   "metadata": {},
   "source": [
    "Print a summary of the outliers"
   ]
  },
  {
   "cell_type": "code",
   "execution_count": 199,
   "id": "5035023e",
   "metadata": {},
   "outputs": [
    {
     "data": {
      "text/html": [
       "<div>\n",
       "<style scoped>\n",
       "    .dataframe tbody tr th:only-of-type {\n",
       "        vertical-align: middle;\n",
       "    }\n",
       "\n",
       "    .dataframe tbody tr th {\n",
       "        vertical-align: top;\n",
       "    }\n",
       "\n",
       "    .dataframe thead th {\n",
       "        text-align: right;\n",
       "    }\n",
       "</style>\n",
       "<table border=\"1\" class=\"dataframe\">\n",
       "  <thead>\n",
       "    <tr style=\"text-align: right;\">\n",
       "      <th></th>\n",
       "      <th>2005-2006</th>\n",
       "      <th>2006-2007</th>\n",
       "      <th>2007-2008</th>\n",
       "      <th>2008-2009</th>\n",
       "      <th>2009-2010</th>\n",
       "      <th>2010-2011</th>\n",
       "      <th>2011-2012</th>\n",
       "      <th>2012-2013</th>\n",
       "      <th>2013-2014</th>\n",
       "      <th>2014-2015</th>\n",
       "      <th>2015-2016</th>\n",
       "    </tr>\n",
       "  </thead>\n",
       "  <tbody>\n",
       "    <tr>\n",
       "      <th>count</th>\n",
       "      <td>4226.000000</td>\n",
       "      <td>4112.000000</td>\n",
       "      <td>4083.000000</td>\n",
       "      <td>4085.000000</td>\n",
       "      <td>4088.000000</td>\n",
       "      <td>4053.000000</td>\n",
       "      <td>4099.000000</td>\n",
       "      <td>4054.000000</td>\n",
       "      <td>4062.000000</td>\n",
       "      <td>4016.000000</td>\n",
       "      <td>4011.000000</td>\n",
       "    </tr>\n",
       "    <tr>\n",
       "      <th>mean</th>\n",
       "      <td>404.305017</td>\n",
       "      <td>401.971547</td>\n",
       "      <td>386.242224</td>\n",
       "      <td>390.990942</td>\n",
       "      <td>392.757339</td>\n",
       "      <td>385.636566</td>\n",
       "      <td>384.063674</td>\n",
       "      <td>391.612728</td>\n",
       "      <td>401.315608</td>\n",
       "      <td>402.613795</td>\n",
       "      <td>395.184742</td>\n",
       "    </tr>\n",
       "    <tr>\n",
       "      <th>std</th>\n",
       "      <td>417.917693</td>\n",
       "      <td>401.999961</td>\n",
       "      <td>375.659927</td>\n",
       "      <td>373.266476</td>\n",
       "      <td>365.356354</td>\n",
       "      <td>360.327142</td>\n",
       "      <td>363.872061</td>\n",
       "      <td>366.681182</td>\n",
       "      <td>368.333023</td>\n",
       "      <td>360.748092</td>\n",
       "      <td>345.743498</td>\n",
       "    </tr>\n",
       "    <tr>\n",
       "      <th>min</th>\n",
       "      <td>123.000000</td>\n",
       "      <td>126.000000</td>\n",
       "      <td>126.000000</td>\n",
       "      <td>131.000000</td>\n",
       "      <td>134.000000</td>\n",
       "      <td>131.000000</td>\n",
       "      <td>132.000000</td>\n",
       "      <td>137.000000</td>\n",
       "      <td>139.000000</td>\n",
       "      <td>142.000000</td>\n",
       "      <td>144.000000</td>\n",
       "    </tr>\n",
       "    <tr>\n",
       "      <th>25%</th>\n",
       "      <td>176.000000</td>\n",
       "      <td>178.750000</td>\n",
       "      <td>175.000000</td>\n",
       "      <td>183.000000</td>\n",
       "      <td>185.750000</td>\n",
       "      <td>181.000000</td>\n",
       "      <td>183.000000</td>\n",
       "      <td>190.000000</td>\n",
       "      <td>191.000000</td>\n",
       "      <td>195.000000</td>\n",
       "      <td>193.000000</td>\n",
       "    </tr>\n",
       "    <tr>\n",
       "      <th>50%</th>\n",
       "      <td>271.000000</td>\n",
       "      <td>271.500000</td>\n",
       "      <td>264.000000</td>\n",
       "      <td>269.000000</td>\n",
       "      <td>275.000000</td>\n",
       "      <td>268.000000</td>\n",
       "      <td>267.000000</td>\n",
       "      <td>275.000000</td>\n",
       "      <td>282.000000</td>\n",
       "      <td>282.000000</td>\n",
       "      <td>283.000000</td>\n",
       "    </tr>\n",
       "    <tr>\n",
       "      <th>75%</th>\n",
       "      <td>474.000000</td>\n",
       "      <td>471.000000</td>\n",
       "      <td>454.500000</td>\n",
       "      <td>457.000000</td>\n",
       "      <td>458.000000</td>\n",
       "      <td>447.000000</td>\n",
       "      <td>441.000000</td>\n",
       "      <td>450.000000</td>\n",
       "      <td>463.000000</td>\n",
       "      <td>463.000000</td>\n",
       "      <td>457.000000</td>\n",
       "    </tr>\n",
       "    <tr>\n",
       "      <th>max</th>\n",
       "      <td>6692.000000</td>\n",
       "      <td>6341.000000</td>\n",
       "      <td>6316.000000</td>\n",
       "      <td>6803.000000</td>\n",
       "      <td>6571.000000</td>\n",
       "      <td>6260.000000</td>\n",
       "      <td>6108.000000</td>\n",
       "      <td>6310.000000</td>\n",
       "      <td>6044.000000</td>\n",
       "      <td>5335.000000</td>\n",
       "      <td>5176.000000</td>\n",
       "    </tr>\n",
       "  </tbody>\n",
       "</table>\n",
       "</div>"
      ],
      "text/plain": [
       "         2005-2006    2006-2007    2007-2008    2008-2009    2009-2010  \\\n",
       "count  4226.000000  4112.000000  4083.000000  4085.000000  4088.000000   \n",
       "mean    404.305017   401.971547   386.242224   390.990942   392.757339   \n",
       "std     417.917693   401.999961   375.659927   373.266476   365.356354   \n",
       "min     123.000000   126.000000   126.000000   131.000000   134.000000   \n",
       "25%     176.000000   178.750000   175.000000   183.000000   185.750000   \n",
       "50%     271.000000   271.500000   264.000000   269.000000   275.000000   \n",
       "75%     474.000000   471.000000   454.500000   457.000000   458.000000   \n",
       "max    6692.000000  6341.000000  6316.000000  6803.000000  6571.000000   \n",
       "\n",
       "         2010-2011    2011-2012    2012-2013    2013-2014    2014-2015  \\\n",
       "count  4053.000000  4099.000000  4054.000000  4062.000000  4016.000000   \n",
       "mean    385.636566   384.063674   391.612728   401.315608   402.613795   \n",
       "std     360.327142   363.872061   366.681182   368.333023   360.748092   \n",
       "min     131.000000   132.000000   137.000000   139.000000   142.000000   \n",
       "25%     181.000000   183.000000   190.000000   191.000000   195.000000   \n",
       "50%     268.000000   267.000000   275.000000   282.000000   282.000000   \n",
       "75%     447.000000   441.000000   450.000000   463.000000   463.000000   \n",
       "max    6260.000000  6108.000000  6310.000000  6044.000000  5335.000000   \n",
       "\n",
       "         2015-2016  \n",
       "count  4011.000000  \n",
       "mean    395.184742  \n",
       "std     345.743498  \n",
       "min     144.000000  \n",
       "25%     193.000000  \n",
       "50%     283.000000  \n",
       "75%     457.000000  \n",
       "max    5176.000000  "
      ]
     },
     "execution_count": 199,
     "metadata": {},
     "output_type": "execute_result"
    }
   ],
   "source": [
    "crime_outliers.describe()"
   ]
  },
  {
   "cell_type": "markdown",
   "id": "500b7af5",
   "metadata": {},
   "source": [
    "#### Question 7: Elementary Data Analysis [20 Pts]"
   ]
  },
  {
   "cell_type": "markdown",
   "id": "86ab48e0",
   "metadata": {},
   "source": [
    "a) Comparative Analysis:\n",
    " - Compare the crime rates across the five most frequent provinces for 2011-2012.\n",
    " - Identify the province with the highest and lowest crime rates in the “All theft not mentioned elsewhere” category over the entire period."
   ]
  },
  {
   "cell_type": "code",
   "execution_count": 233,
   "id": "91c443e6",
   "metadata": {},
   "outputs": [
    {
     "data": {
      "text/html": [
       "<div>\n",
       "<style scoped>\n",
       "    .dataframe tbody tr th:only-of-type {\n",
       "        vertical-align: middle;\n",
       "    }\n",
       "\n",
       "    .dataframe tbody tr th {\n",
       "        vertical-align: top;\n",
       "    }\n",
       "\n",
       "    .dataframe thead th {\n",
       "        text-align: right;\n",
       "    }\n",
       "</style>\n",
       "<table border=\"1\" class=\"dataframe\">\n",
       "  <thead>\n",
       "    <tr style=\"text-align: right;\">\n",
       "      <th></th>\n",
       "      <th>Province</th>\n",
       "      <th>Station</th>\n",
       "      <th>Category</th>\n",
       "      <th>2011-2012</th>\n",
       "    </tr>\n",
       "  </thead>\n",
       "  <tbody>\n",
       "    <tr>\n",
       "      <th>0</th>\n",
       "      <td>Western Cape</td>\n",
       "      <td>Cape Town Central</td>\n",
       "      <td>All theft not mentioned elsewhere</td>\n",
       "      <td>5285</td>\n",
       "    </tr>\n",
       "    <tr>\n",
       "      <th>1</th>\n",
       "      <td>Gauteng</td>\n",
       "      <td>Jhb Central</td>\n",
       "      <td>All theft not mentioned elsewhere</td>\n",
       "      <td>2886</td>\n",
       "    </tr>\n",
       "    <tr>\n",
       "      <th>2</th>\n",
       "      <td>Western Cape</td>\n",
       "      <td>Mitchells Plain</td>\n",
       "      <td>All theft not mentioned elsewhere</td>\n",
       "      <td>6108</td>\n",
       "    </tr>\n",
       "    <tr>\n",
       "      <th>3</th>\n",
       "      <td>Free State</td>\n",
       "      <td>Park Road</td>\n",
       "      <td>All theft not mentioned elsewhere</td>\n",
       "      <td>2679</td>\n",
       "    </tr>\n",
       "    <tr>\n",
       "      <th>4</th>\n",
       "      <td>Gauteng</td>\n",
       "      <td>Pretoria Central</td>\n",
       "      <td>All theft not mentioned elsewhere</td>\n",
       "      <td>2635</td>\n",
       "    </tr>\n",
       "    <tr>\n",
       "      <th>...</th>\n",
       "      <td>...</td>\n",
       "      <td>...</td>\n",
       "      <td>...</td>\n",
       "      <td>...</td>\n",
       "    </tr>\n",
       "    <tr>\n",
       "      <th>30856</th>\n",
       "      <td>Western Cape</td>\n",
       "      <td>Belhar</td>\n",
       "      <td>All theft not mentioned elsewhere</td>\n",
       "      <td>839</td>\n",
       "    </tr>\n",
       "    <tr>\n",
       "      <th>30857</th>\n",
       "      <td>Gauteng</td>\n",
       "      <td>Moffatview</td>\n",
       "      <td>All theft not mentioned elsewhere</td>\n",
       "      <td>0</td>\n",
       "    </tr>\n",
       "    <tr>\n",
       "      <th>30858</th>\n",
       "      <td>Western Cape</td>\n",
       "      <td>Belhar</td>\n",
       "      <td>Drug-related crime</td>\n",
       "      <td>840</td>\n",
       "    </tr>\n",
       "    <tr>\n",
       "      <th>30859</th>\n",
       "      <td>Western Cape</td>\n",
       "      <td>Lentegeur</td>\n",
       "      <td>All theft not mentioned elsewhere</td>\n",
       "      <td>0</td>\n",
       "    </tr>\n",
       "    <tr>\n",
       "      <th>30860</th>\n",
       "      <td>Western Cape</td>\n",
       "      <td>Lentegeur</td>\n",
       "      <td>Drug-related crime</td>\n",
       "      <td>0</td>\n",
       "    </tr>\n",
       "  </tbody>\n",
       "</table>\n",
       "<p>30861 rows × 4 columns</p>\n",
       "</div>"
      ],
      "text/plain": [
       "           Province            Station                           Category  \\\n",
       "0      Western Cape  Cape Town Central  All theft not mentioned elsewhere   \n",
       "1           Gauteng        Jhb Central  All theft not mentioned elsewhere   \n",
       "2      Western Cape    Mitchells Plain  All theft not mentioned elsewhere   \n",
       "3        Free State          Park Road  All theft not mentioned elsewhere   \n",
       "4           Gauteng   Pretoria Central  All theft not mentioned elsewhere   \n",
       "...             ...                ...                                ...   \n",
       "30856  Western Cape             Belhar  All theft not mentioned elsewhere   \n",
       "30857       Gauteng         Moffatview  All theft not mentioned elsewhere   \n",
       "30858  Western Cape             Belhar                 Drug-related crime   \n",
       "30859  Western Cape          Lentegeur  All theft not mentioned elsewhere   \n",
       "30860  Western Cape          Lentegeur                 Drug-related crime   \n",
       "\n",
       "       2011-2012  \n",
       "0           5285  \n",
       "1           2886  \n",
       "2           6108  \n",
       "3           2679  \n",
       "4           2635  \n",
       "...          ...  \n",
       "30856        839  \n",
       "30857          0  \n",
       "30858        840  \n",
       "30859          0  \n",
       "30860          0  \n",
       "\n",
       "[30861 rows x 4 columns]"
      ]
     },
     "execution_count": 233,
     "metadata": {},
     "output_type": "execute_result"
    }
   ],
   "source": [
    "crime_stats_2011 = crime_stats[[\"Province\", \"Station\", \"Category\", \"2011-2012\"]].copy()\n",
    "crime_stats_2011"
   ]
  },
  {
   "cell_type": "markdown",
   "id": "eaf3abf4",
   "metadata": {},
   "source": [
    "Identify the province with the highest and lowest crime rates in the “All theft not mentioned elsewhere” category over the entire period."
   ]
  },
  {
   "cell_type": "code",
   "execution_count": 330,
   "id": "6b7a49b3",
   "metadata": {},
   "outputs": [],
   "source": [
    "# Select all the records in the category 'All theft not mentioned elsewhere'\n",
    "crime_stats_all_theft = crime_stats.loc[crime_stats_2011[\"Category\"] == \"All theft not mentioned elsewhere\"]"
   ]
  },
  {
   "cell_type": "code",
   "execution_count": 357,
   "id": "f89cea75",
   "metadata": {},
   "outputs": [],
   "source": [
    "# Select the row with the maximum values\n",
    "max_value = crime_stats_all_theft.max(numeric_only = True).max()\n",
    "max_col = crime_stats_all_theft.max(numeric_only = True).idxmax()\n",
    "max_row = crime_stats_all_theft.loc[crime_stats_all_theft[max_col] == max_value]\n",
    "\n",
    "# Select the row with the minimum values\n",
    "min_value = crime_stats_all_theft.min(numeric_only = True).min()\n",
    "min_col = crime_stats_all_theft.min(numeric_only = True).idxmin()\n",
    "min_row = crime_stats_all_theft.loc[crime_stats_all_theft[min_col] == min_value]"
   ]
  },
  {
   "cell_type": "code",
   "execution_count": 362,
   "id": "21e77de9",
   "metadata": {},
   "outputs": [
    {
     "data": {
      "text/plain": [
       "'2005-2006'"
      ]
     },
     "execution_count": 362,
     "metadata": {},
     "output_type": "execute_result"
    }
   ],
   "source": [
    "min_col"
   ]
  },
  {
   "cell_type": "code",
   "execution_count": null,
   "id": "b7be86df",
   "metadata": {},
   "outputs": [],
   "source": [
    "# Select the highest crime rate\n",
    "highest_crime_rate = crime_stats_all_theft.max()\n",
    "max_province = highest_crime_rate[\"Province\"]\n",
    "# Select the lowest crime rate\n",
    "lowest_crime_rate = crime_stats_all_theft.min()\n",
    "min_province = lowest_crime_rate[\"Province\"]"
   ]
  },
  {
   "cell_type": "code",
   "execution_count": 282,
   "id": "7ab1e6c8",
   "metadata": {},
   "outputs": [
    {
     "name": "stdout",
     "output_type": "stream",
     "text": [
      "Highest crime rate in the “All theft not mentioned elsewhere” category over the entire period was in Western Cape\n",
      "Lowest crime rate in the “All theft not mentioned elsewhere” category over the entire period was in Eastern Cape\n"
     ]
    }
   ],
   "source": [
    "print(f\"Highest crime rate in the “All theft not mentioned elsewhere” category over the entire period was in {max_province}\")\n",
    "print(f\"Lowest crime rate in the “All theft not mentioned elsewhere” category over the entire period was in {min_province}\")"
   ]
  },
  {
   "cell_type": "code",
   "execution_count": null,
   "id": "8f844fd3",
   "metadata": {},
   "outputs": [],
   "source": []
  }
 ],
 "metadata": {
  "kernelspec": {
   "display_name": "Python 3 (ipykernel)",
   "language": "python",
   "name": "python3"
  },
  "language_info": {
   "codemirror_mode": {
    "name": "ipython",
    "version": 3
   },
   "file_extension": ".py",
   "mimetype": "text/x-python",
   "name": "python",
   "nbconvert_exporter": "python",
   "pygments_lexer": "ipython3",
   "version": "3.11.4"
  }
 },
 "nbformat": 4,
 "nbformat_minor": 5
}
